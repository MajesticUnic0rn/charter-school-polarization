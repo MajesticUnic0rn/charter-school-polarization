{
 "cells": [
  {
   "cell_type": "code",
   "execution_count": 11,
   "metadata": {},
   "outputs": [],
   "source": [
    "import pandas as pd \n",
    "import numpy as np\n",
    "import openai\n",
    "import os\n",
    "import langchain\n",
    "import faiss # defunct needs to be removed\n",
    "from langchain.vectorstores import FAISS # defunct needs to be removed\n",
    "from langchain.vectorstores import Chroma\n",
    "from langchain.embeddings import OpenAIEmbeddings\n",
    "from langchain.text_splitter import CharacterTextSplitter\n",
    "import pickle\n",
    "from langchain.chat_models import ChatOpenAI\n",
    "#from langchain.chains import VectorDBQAWithSourcesChain\n",
    "from langchain.chains import RetrievalQAWithSourcesChain\n",
    "from langchain import OpenAI\n",
    "from langchain.vectorstores import Chroma\n",
    "import time\n",
    "\n",
    "import matplotlib\n",
    "\n",
    "import dotenv\n",
    "from dotenv import load_dotenv\n",
    "load_dotenv()\n",
    "# load the .env file\n",
    "dotenv.load_dotenv()\n",
    "# add the api key to the environment\n",
    "openai.api_key = os.environ[\"OPENAI_API_KEY\"]\n"
   ]
  },
  {
   "cell_type": "code",
   "execution_count": null,
   "metadata": {},
   "outputs": [],
   "source": [
    "#read in all the links for each school \n",
    "charter_content=pd.read_csv('processed_data/charter_contents.csv')"
   ]
  },
  {
   "cell_type": "code",
   "execution_count": null,
   "metadata": {},
   "outputs": [],
   "source": [
    "charter_content.head(10) # would the header be a problem for the model and also the footer that messed up the embeds?"
   ]
  },
  {
   "cell_type": "code",
   "execution_count": 28,
   "metadata": {},
   "outputs": [],
   "source": [
    "charter_links=pd.read_csv('processed_data/charter_links.csv')"
   ]
  },
  {
   "cell_type": "code",
   "execution_count": null,
   "metadata": {},
   "outputs": [],
   "source": [
    "charter_content.shape"
   ]
  },
  {
   "cell_type": "code",
   "execution_count": null,
   "metadata": {},
   "outputs": [],
   "source": [
    "charter_links.shape"
   ]
  },
  {
   "cell_type": "code",
   "execution_count": null,
   "metadata": {},
   "outputs": [],
   "source": [
    "charter_school_merge_content=charter_content.merge(charter_links)"
   ]
  },
  {
   "cell_type": "code",
   "execution_count": null,
   "metadata": {},
   "outputs": [],
   "source": [
    "charter_school_merge_content"
   ]
  },
  {
   "cell_type": "code",
   "execution_count": null,
   "metadata": {},
   "outputs": [],
   "source": [
    "#charter_school_merge_content.to_csv('processed_data/charter_school_merge_content.csv',index=False)"
   ]
  },
  {
   "cell_type": "code",
   "execution_count": null,
   "metadata": {},
   "outputs": [],
   "source": [
    "charter_school_merge_content.schoolname.nunique()"
   ]
  },
  {
   "cell_type": "code",
   "execution_count": 19,
   "metadata": {},
   "outputs": [],
   "source": [
    "merge_charter=pd.read_csv('processed_data/merge_charter_district.csv')"
   ]
  },
  {
   "cell_type": "code",
   "execution_count": 20,
   "metadata": {},
   "outputs": [
    {
     "data": {
      "text/html": [
       "<div>\n",
       "<style scoped>\n",
       "    .dataframe tbody tr th:only-of-type {\n",
       "        vertical-align: middle;\n",
       "    }\n",
       "\n",
       "    .dataframe tbody tr th {\n",
       "        vertical-align: top;\n",
       "    }\n",
       "\n",
       "    .dataframe thead th {\n",
       "        text-align: right;\n",
       "    }\n",
       "</style>\n",
       "<table border=\"1\" class=\"dataframe\">\n",
       "  <thead>\n",
       "    <tr style=\"text-align: right;\">\n",
       "      <th></th>\n",
       "      <th>countydescription</th>\n",
       "      <th>political_afil</th>\n",
       "      <th>extract_name_clean_list</th>\n",
       "      <th>schoolname</th>\n",
       "      <th>principal/directoremail</th>\n",
       "      <th>website</th>\n",
       "      <th>board_of_directors_link</th>\n",
       "      <th>link_domain_match</th>\n",
       "      <th>director_first_last</th>\n",
       "      <th>cleaner_names</th>\n",
       "      <th>...</th>\n",
       "      <th>postal_code</th>\n",
       "      <th>latitude</th>\n",
       "      <th>longitude</th>\n",
       "      <th>count_dem</th>\n",
       "      <th>count_rep</th>\n",
       "      <th>count_una</th>\n",
       "      <th>district_count_dem</th>\n",
       "      <th>district_count_rep</th>\n",
       "      <th>district_count_una</th>\n",
       "      <th>school_homepage</th>\n",
       "    </tr>\n",
       "  </thead>\n",
       "  <tbody>\n",
       "    <tr>\n",
       "      <th>0</th>\n",
       "      <td>Durham</td>\n",
       "      <td>['DEM', 'UNA', 'DEM', 'DEM', 'DEM', 'DEM', 'DEM']</td>\n",
       "      <td>['Bettina Umstead', ' Emily Chavez', ' Natalie...</td>\n",
       "      <td>North Carolina Cyber Academy</td>\n",
       "      <td>mhill@myncca.com</td>\n",
       "      <td>myncca.com</td>\n",
       "      <td>https://www.myncca.com/our-school-board</td>\n",
       "      <td>True</td>\n",
       "      <td>[('Jill', 'Hammergren'), ('Audrey', 'Martin'),...</td>\n",
       "      <td>['Julie Marks', 'Jill Hammergren', 'Debora Wil...</td>\n",
       "      <td>...</td>\n",
       "      <td>27713</td>\n",
       "      <td>35.9112</td>\n",
       "      <td>-78.9178</td>\n",
       "      <td>5</td>\n",
       "      <td>2</td>\n",
       "      <td>0</td>\n",
       "      <td>6</td>\n",
       "      <td>0</td>\n",
       "      <td>1</td>\n",
       "      <td>https://www.myncca.com/</td>\n",
       "    </tr>\n",
       "    <tr>\n",
       "      <th>1</th>\n",
       "      <td>Durham</td>\n",
       "      <td>['DEM', 'UNA', 'DEM', 'DEM', 'DEM', 'DEM', 'DEM']</td>\n",
       "      <td>['Bettina Umstead', ' Emily Chavez', ' Natalie...</td>\n",
       "      <td>NC Virtual Academy</td>\n",
       "      <td>kgomersall@ncvacademy.org</td>\n",
       "      <td>ncvacademy.org</td>\n",
       "      <td>https://ncva.k12.com/about-our-school/board-of...</td>\n",
       "      <td>False</td>\n",
       "      <td>[('Sara', 'W'), ('C.', 'Struhs'), ('Sara', 'St...</td>\n",
       "      <td>['Steven Peters', 'Sara Struhs', 'Mark Fleming...</td>\n",
       "      <td>...</td>\n",
       "      <td>27713</td>\n",
       "      <td>35.9112</td>\n",
       "      <td>-78.9178</td>\n",
       "      <td>2</td>\n",
       "      <td>2</td>\n",
       "      <td>2</td>\n",
       "      <td>6</td>\n",
       "      <td>0</td>\n",
       "      <td>1</td>\n",
       "      <td>https://ncva.k12.com/%3Futm_source%3Dgoogle%26...</td>\n",
       "    </tr>\n",
       "    <tr>\n",
       "      <th>2</th>\n",
       "      <td>Durham</td>\n",
       "      <td>['DEM', 'UNA', 'DEM', 'DEM', 'DEM', 'DEM', 'DEM']</td>\n",
       "      <td>['Bettina Umstead', ' Emily Chavez', ' Natalie...</td>\n",
       "      <td>Maureen Joy Charter School</td>\n",
       "      <td>Dcannon@joycharter.org</td>\n",
       "      <td>joycharter.org</td>\n",
       "      <td>https://www.joycharter.org/board</td>\n",
       "      <td>True</td>\n",
       "      <td>[('Elan', 'Hope'), ('Helen', 'Bryant'), ('Regi...</td>\n",
       "      <td>['Elan Hope', 'Helen Bryant', 'Reginald J. Joh...</td>\n",
       "      <td>...</td>\n",
       "      <td>27703</td>\n",
       "      <td>35.9781</td>\n",
       "      <td>-78.8439</td>\n",
       "      <td>6</td>\n",
       "      <td>1</td>\n",
       "      <td>2</td>\n",
       "      <td>6</td>\n",
       "      <td>0</td>\n",
       "      <td>1</td>\n",
       "      <td>http://www.joycharter.org/</td>\n",
       "    </tr>\n",
       "    <tr>\n",
       "      <th>3</th>\n",
       "      <td>Durham</td>\n",
       "      <td>['DEM', 'UNA', 'DEM', 'DEM', 'DEM', 'DEM', 'DEM']</td>\n",
       "      <td>['Bettina Umstead', ' Emily Chavez', ' Natalie...</td>\n",
       "      <td>Durham Charter School</td>\n",
       "      <td>aquigley@durhamcharter.org</td>\n",
       "      <td>durhamcharter.org</td>\n",
       "      <td>https://www.durhamcharter.org/board-of-directors/</td>\n",
       "      <td>True</td>\n",
       "      <td>[('Matt', 'Les'), ('Preston', 'Michael'), ('Ca...</td>\n",
       "      <td>['Gerald Mc Nair', 'Elizabeth Gnatek Morey  Ch...</td>\n",
       "      <td>...</td>\n",
       "      <td>27701</td>\n",
       "      <td>35.9967</td>\n",
       "      <td>-78.8966</td>\n",
       "      <td>2</td>\n",
       "      <td>4</td>\n",
       "      <td>4</td>\n",
       "      <td>6</td>\n",
       "      <td>0</td>\n",
       "      <td>1</td>\n",
       "      <td>https://www.durhamcharter.org/</td>\n",
       "    </tr>\n",
       "    <tr>\n",
       "      <th>4</th>\n",
       "      <td>Durham</td>\n",
       "      <td>['DEM', 'UNA', 'DEM', 'DEM', 'DEM', 'DEM', 'DEM']</td>\n",
       "      <td>['Bettina Umstead', ' Emily Chavez', ' Natalie...</td>\n",
       "      <td>Community School of Digital &amp; Visual Art</td>\n",
       "      <td>OAdeniyi@communitydva.org</td>\n",
       "      <td>communitydva.org</td>\n",
       "      <td>https://www.communitydva.org/</td>\n",
       "      <td>True</td>\n",
       "      <td>[]</td>\n",
       "      <td>['Brian Crawford', 'Joe Battle', 'Michael Palm...</td>\n",
       "      <td>...</td>\n",
       "      <td>27705</td>\n",
       "      <td>36.0218</td>\n",
       "      <td>-78.9478</td>\n",
       "      <td>5</td>\n",
       "      <td>0</td>\n",
       "      <td>1</td>\n",
       "      <td>6</td>\n",
       "      <td>0</td>\n",
       "      <td>1</td>\n",
       "      <td>https://www.communitydva.org/</td>\n",
       "    </tr>\n",
       "    <tr>\n",
       "      <th>...</th>\n",
       "      <td>...</td>\n",
       "      <td>...</td>\n",
       "      <td>...</td>\n",
       "      <td>...</td>\n",
       "      <td>...</td>\n",
       "      <td>...</td>\n",
       "      <td>...</td>\n",
       "      <td>...</td>\n",
       "      <td>...</td>\n",
       "      <td>...</td>\n",
       "      <td>...</td>\n",
       "      <td>...</td>\n",
       "      <td>...</td>\n",
       "      <td>...</td>\n",
       "      <td>...</td>\n",
       "      <td>...</td>\n",
       "      <td>...</td>\n",
       "      <td>...</td>\n",
       "      <td>...</td>\n",
       "      <td>...</td>\n",
       "      <td>...</td>\n",
       "    </tr>\n",
       "    <tr>\n",
       "      <th>201</th>\n",
       "      <td>Watauga</td>\n",
       "      <td>['UNA', 'UNA', 'DEM', 'DEM', 'REP', 'UNA', 'RE...</td>\n",
       "      <td>['Gary L. Childers', ' John Fenwick', ' John A...</td>\n",
       "      <td>Two Rivers Community School</td>\n",
       "      <td>natalie@trcsboone.org</td>\n",
       "      <td>trcsboone.org</td>\n",
       "      <td>https://www.trgators.org/o/two-rivers-school-d...</td>\n",
       "      <td>False</td>\n",
       "      <td>[('Stele', 'James'), ('Doug', 'Morell'), ('Rya...</td>\n",
       "      <td>['Melissa Thomas', 'Carole Greene', 'Twila Win...</td>\n",
       "      <td>...</td>\n",
       "      <td>28607</td>\n",
       "      <td>36.2142</td>\n",
       "      <td>-81.6660</td>\n",
       "      <td>2</td>\n",
       "      <td>0</td>\n",
       "      <td>3</td>\n",
       "      <td>6</td>\n",
       "      <td>6</td>\n",
       "      <td>5</td>\n",
       "      <td>http://www.tworiverscommunityschool.net/</td>\n",
       "    </tr>\n",
       "    <tr>\n",
       "      <th>202</th>\n",
       "      <td>Wayne</td>\n",
       "      <td>['REP', 'REP', 'DEM', 'DEM', 'UNA', 'REP']</td>\n",
       "      <td>['Wade Leatham', ' Craig Foucht', ' H. Len Hen...</td>\n",
       "      <td>Dillard Academy</td>\n",
       "      <td>cbattle@dillardacademy.org</td>\n",
       "      <td>dillardacademy.org</td>\n",
       "      <td>http://www.dillardacademy.org/board-of-directo...</td>\n",
       "      <td>True</td>\n",
       "      <td>[('Janet', 'Ward'), ('Thomas', 'Smith'), ('Mar...</td>\n",
       "      <td>['Janet Ward', 'Christina Robles', 'Mary James...</td>\n",
       "      <td>...</td>\n",
       "      <td>27530</td>\n",
       "      <td>35.3683</td>\n",
       "      <td>-78.0929</td>\n",
       "      <td>3</td>\n",
       "      <td>3</td>\n",
       "      <td>1</td>\n",
       "      <td>2</td>\n",
       "      <td>3</td>\n",
       "      <td>1</td>\n",
       "      <td>http://www.dillardacademy.org/</td>\n",
       "    </tr>\n",
       "    <tr>\n",
       "      <th>203</th>\n",
       "      <td>Wayne</td>\n",
       "      <td>['REP', 'REP', 'DEM', 'DEM', 'UNA', 'REP']</td>\n",
       "      <td>['Wade Leatham', ' Craig Foucht', ' H. Len Hen...</td>\n",
       "      <td>Wayne Preparatory Academy</td>\n",
       "      <td>jtwitty@wpanc.org</td>\n",
       "      <td>wpanc.org</td>\n",
       "      <td>https://wpanc.net/our-board/</td>\n",
       "      <td>False</td>\n",
       "      <td>[('Amanda', 'Wells'), ('Scott', 'Mack'), ('Cha...</td>\n",
       "      <td>['Charles Gaylor', 'Scott Mackey', 'Amanda Wel...</td>\n",
       "      <td>...</td>\n",
       "      <td>27530</td>\n",
       "      <td>35.3683</td>\n",
       "      <td>-78.0929</td>\n",
       "      <td>1</td>\n",
       "      <td>1</td>\n",
       "      <td>1</td>\n",
       "      <td>2</td>\n",
       "      <td>3</td>\n",
       "      <td>1</td>\n",
       "      <td>https://wpanc.net/</td>\n",
       "    </tr>\n",
       "    <tr>\n",
       "      <th>204</th>\n",
       "      <td>Wilson</td>\n",
       "      <td>['DEM', 'DEM', 'DEM', 'UNA', 'DEM', 'UNA', 'REP']</td>\n",
       "      <td>['Debora Powell', ' Velma Barnes', ' Christine...</td>\n",
       "      <td>Sallie B Howard School</td>\n",
       "      <td>jwoodard@sallieb.net, sandeep@sallieb.net</td>\n",
       "      <td>sallieb.net</td>\n",
       "      <td>https://salliebhowardschool.com/meet-our-staff...</td>\n",
       "      <td>False</td>\n",
       "      <td>[('JoAnne', 'Woodard'), ('JoAnne', 'Woodard')]</td>\n",
       "      <td>['JoAnne Woodard']</td>\n",
       "      <td>...</td>\n",
       "      <td>27893</td>\n",
       "      <td>35.7270</td>\n",
       "      <td>-77.9227</td>\n",
       "      <td>0</td>\n",
       "      <td>1</td>\n",
       "      <td>0</td>\n",
       "      <td>4</td>\n",
       "      <td>1</td>\n",
       "      <td>2</td>\n",
       "      <td>http://www.salliebhowardschool.com/</td>\n",
       "    </tr>\n",
       "    <tr>\n",
       "      <th>205</th>\n",
       "      <td>Wilson</td>\n",
       "      <td>['DEM', 'DEM', 'DEM', 'UNA', 'DEM', 'UNA', 'REP']</td>\n",
       "      <td>['Debora Powell', ' Velma Barnes', ' Christine...</td>\n",
       "      <td>Wilson Preparatory Academy</td>\n",
       "      <td>dwoodard@wilsonprep.org</td>\n",
       "      <td>wilsonprep.org</td>\n",
       "      <td>https://www.wilsonpreparatoryacademy.org/apps/...</td>\n",
       "      <td>False</td>\n",
       "      <td>[]</td>\n",
       "      <td>['Curtis Lee', 'Dennis Parker', 'Renee Smith',...</td>\n",
       "      <td>...</td>\n",
       "      <td>27896</td>\n",
       "      <td>35.7715</td>\n",
       "      <td>-77.9730</td>\n",
       "      <td>4</td>\n",
       "      <td>0</td>\n",
       "      <td>1</td>\n",
       "      <td>4</td>\n",
       "      <td>1</td>\n",
       "      <td>2</td>\n",
       "      <td>http://www.wilsonpreparatoryacademy.org/</td>\n",
       "    </tr>\n",
       "  </tbody>\n",
       "</table>\n",
       "<p>206 rows × 22 columns</p>\n",
       "</div>"
      ],
      "text/plain": [
       "    countydescription                                     political_afil  \\\n",
       "0              Durham  ['DEM', 'UNA', 'DEM', 'DEM', 'DEM', 'DEM', 'DEM']   \n",
       "1              Durham  ['DEM', 'UNA', 'DEM', 'DEM', 'DEM', 'DEM', 'DEM']   \n",
       "2              Durham  ['DEM', 'UNA', 'DEM', 'DEM', 'DEM', 'DEM', 'DEM']   \n",
       "3              Durham  ['DEM', 'UNA', 'DEM', 'DEM', 'DEM', 'DEM', 'DEM']   \n",
       "4              Durham  ['DEM', 'UNA', 'DEM', 'DEM', 'DEM', 'DEM', 'DEM']   \n",
       "..                ...                                                ...   \n",
       "201           Watauga  ['UNA', 'UNA', 'DEM', 'DEM', 'REP', 'UNA', 'RE...   \n",
       "202             Wayne         ['REP', 'REP', 'DEM', 'DEM', 'UNA', 'REP']   \n",
       "203             Wayne         ['REP', 'REP', 'DEM', 'DEM', 'UNA', 'REP']   \n",
       "204            Wilson  ['DEM', 'DEM', 'DEM', 'UNA', 'DEM', 'UNA', 'REP']   \n",
       "205            Wilson  ['DEM', 'DEM', 'DEM', 'UNA', 'DEM', 'UNA', 'REP']   \n",
       "\n",
       "                               extract_name_clean_list  \\\n",
       "0    ['Bettina Umstead', ' Emily Chavez', ' Natalie...   \n",
       "1    ['Bettina Umstead', ' Emily Chavez', ' Natalie...   \n",
       "2    ['Bettina Umstead', ' Emily Chavez', ' Natalie...   \n",
       "3    ['Bettina Umstead', ' Emily Chavez', ' Natalie...   \n",
       "4    ['Bettina Umstead', ' Emily Chavez', ' Natalie...   \n",
       "..                                                 ...   \n",
       "201  ['Gary L. Childers', ' John Fenwick', ' John A...   \n",
       "202  ['Wade Leatham', ' Craig Foucht', ' H. Len Hen...   \n",
       "203  ['Wade Leatham', ' Craig Foucht', ' H. Len Hen...   \n",
       "204  ['Debora Powell', ' Velma Barnes', ' Christine...   \n",
       "205  ['Debora Powell', ' Velma Barnes', ' Christine...   \n",
       "\n",
       "                                   schoolname  \\\n",
       "0                North Carolina Cyber Academy   \n",
       "1                          NC Virtual Academy   \n",
       "2                  Maureen Joy Charter School   \n",
       "3                       Durham Charter School   \n",
       "4    Community School of Digital & Visual Art   \n",
       "..                                        ...   \n",
       "201               Two Rivers Community School   \n",
       "202                           Dillard Academy   \n",
       "203                 Wayne Preparatory Academy   \n",
       "204                    Sallie B Howard School   \n",
       "205                Wilson Preparatory Academy   \n",
       "\n",
       "                       principal/directoremail             website  \\\n",
       "0                             mhill@myncca.com          myncca.com   \n",
       "1                    kgomersall@ncvacademy.org      ncvacademy.org   \n",
       "2                       Dcannon@joycharter.org      joycharter.org   \n",
       "3                   aquigley@durhamcharter.org   durhamcharter.org   \n",
       "4                    OAdeniyi@communitydva.org    communitydva.org   \n",
       "..                                         ...                 ...   \n",
       "201                      natalie@trcsboone.org       trcsboone.org   \n",
       "202                 cbattle@dillardacademy.org  dillardacademy.org   \n",
       "203                          jtwitty@wpanc.org           wpanc.org   \n",
       "204  jwoodard@sallieb.net, sandeep@sallieb.net         sallieb.net   \n",
       "205                    dwoodard@wilsonprep.org      wilsonprep.org   \n",
       "\n",
       "                               board_of_directors_link  link_domain_match  \\\n",
       "0              https://www.myncca.com/our-school-board               True   \n",
       "1    https://ncva.k12.com/about-our-school/board-of...              False   \n",
       "2                     https://www.joycharter.org/board               True   \n",
       "3    https://www.durhamcharter.org/board-of-directors/               True   \n",
       "4                        https://www.communitydva.org/               True   \n",
       "..                                                 ...                ...   \n",
       "201  https://www.trgators.org/o/two-rivers-school-d...              False   \n",
       "202  http://www.dillardacademy.org/board-of-directo...               True   \n",
       "203                       https://wpanc.net/our-board/              False   \n",
       "204  https://salliebhowardschool.com/meet-our-staff...              False   \n",
       "205  https://www.wilsonpreparatoryacademy.org/apps/...              False   \n",
       "\n",
       "                                   director_first_last  \\\n",
       "0    [('Jill', 'Hammergren'), ('Audrey', 'Martin'),...   \n",
       "1    [('Sara', 'W'), ('C.', 'Struhs'), ('Sara', 'St...   \n",
       "2    [('Elan', 'Hope'), ('Helen', 'Bryant'), ('Regi...   \n",
       "3    [('Matt', 'Les'), ('Preston', 'Michael'), ('Ca...   \n",
       "4                                                   []   \n",
       "..                                                 ...   \n",
       "201  [('Stele', 'James'), ('Doug', 'Morell'), ('Rya...   \n",
       "202  [('Janet', 'Ward'), ('Thomas', 'Smith'), ('Mar...   \n",
       "203  [('Amanda', 'Wells'), ('Scott', 'Mack'), ('Cha...   \n",
       "204     [('JoAnne', 'Woodard'), ('JoAnne', 'Woodard')]   \n",
       "205                                                 []   \n",
       "\n",
       "                                         cleaner_names  ...  postal_code  \\\n",
       "0    ['Julie Marks', 'Jill Hammergren', 'Debora Wil...  ...        27713   \n",
       "1    ['Steven Peters', 'Sara Struhs', 'Mark Fleming...  ...        27713   \n",
       "2    ['Elan Hope', 'Helen Bryant', 'Reginald J. Joh...  ...        27703   \n",
       "3    ['Gerald Mc Nair', 'Elizabeth Gnatek Morey  Ch...  ...        27701   \n",
       "4    ['Brian Crawford', 'Joe Battle', 'Michael Palm...  ...        27705   \n",
       "..                                                 ...  ...          ...   \n",
       "201  ['Melissa Thomas', 'Carole Greene', 'Twila Win...  ...        28607   \n",
       "202  ['Janet Ward', 'Christina Robles', 'Mary James...  ...        27530   \n",
       "203  ['Charles Gaylor', 'Scott Mackey', 'Amanda Wel...  ...        27530   \n",
       "204                                 ['JoAnne Woodard']  ...        27893   \n",
       "205  ['Curtis Lee', 'Dennis Parker', 'Renee Smith',...  ...        27896   \n",
       "\n",
       "    latitude  longitude  count_dem  count_rep  count_una  district_count_dem  \\\n",
       "0    35.9112   -78.9178          5          2          0                   6   \n",
       "1    35.9112   -78.9178          2          2          2                   6   \n",
       "2    35.9781   -78.8439          6          1          2                   6   \n",
       "3    35.9967   -78.8966          2          4          4                   6   \n",
       "4    36.0218   -78.9478          5          0          1                   6   \n",
       "..       ...        ...        ...        ...        ...                 ...   \n",
       "201  36.2142   -81.6660          2          0          3                   6   \n",
       "202  35.3683   -78.0929          3          3          1                   2   \n",
       "203  35.3683   -78.0929          1          1          1                   2   \n",
       "204  35.7270   -77.9227          0          1          0                   4   \n",
       "205  35.7715   -77.9730          4          0          1                   4   \n",
       "\n",
       "     district_count_rep  district_count_una  \\\n",
       "0                     0                   1   \n",
       "1                     0                   1   \n",
       "2                     0                   1   \n",
       "3                     0                   1   \n",
       "4                     0                   1   \n",
       "..                  ...                 ...   \n",
       "201                   6                   5   \n",
       "202                   3                   1   \n",
       "203                   3                   1   \n",
       "204                   1                   2   \n",
       "205                   1                   2   \n",
       "\n",
       "                                       school_homepage  \n",
       "0                              https://www.myncca.com/  \n",
       "1    https://ncva.k12.com/%3Futm_source%3Dgoogle%26...  \n",
       "2                           http://www.joycharter.org/  \n",
       "3                       https://www.durhamcharter.org/  \n",
       "4                        https://www.communitydva.org/  \n",
       "..                                                 ...  \n",
       "201           http://www.tworiverscommunityschool.net/  \n",
       "202                     http://www.dillardacademy.org/  \n",
       "203                                 https://wpanc.net/  \n",
       "204                http://www.salliebhowardschool.com/  \n",
       "205           http://www.wilsonpreparatoryacademy.org/  \n",
       "\n",
       "[206 rows x 22 columns]"
      ]
     },
     "execution_count": 20,
     "metadata": {},
     "output_type": "execute_result"
    }
   ],
   "source": [
    "merge_charter"
   ]
  },
  {
   "cell_type": "code",
   "execution_count": 29,
   "metadata": {},
   "outputs": [],
   "source": [
    "content_school_list=list(charter_school_merge_content.schoolname.unique())\n",
    "original_school_list=list(merge_charter.schoolname.unique())"
   ]
  },
  {
   "cell_type": "code",
   "execution_count": 32,
   "metadata": {},
   "outputs": [],
   "source": [
    "#missing 46 schools\n",
    "missing_school_name_dict=set(content_school_list).symmetric_difference(set(original_school_list))"
   ]
  },
  {
   "cell_type": "code",
   "execution_count": 35,
   "metadata": {},
   "outputs": [],
   "source": [
    "pd.DataFrame(data=missing_school_name_dict).to_csv('missing_school_names.csv',index=False) "
   ]
  },
  {
   "cell_type": "code",
   "execution_count": null,
   "metadata": {},
   "outputs": [],
   "source": [
    "#todo crawl this list - of 40 schools that are not in the content list\n",
    "merge_charter.loc[merge_charter.schoolname=='Sallie B Howard School']"
   ]
  },
  {
   "cell_type": "code",
   "execution_count": 6,
   "metadata": {},
   "outputs": [],
   "source": [
    "charter_school_merge_content = pd.read_csv('processed_data/charter_school_merge_content.csv')"
   ]
  },
  {
   "cell_type": "code",
   "execution_count": 3,
   "metadata": {},
   "outputs": [],
   "source": [
    "charter_school_merge_content.content=charter_school_merge_content.content.astype(str)# test out 3 schools"
   ]
  },
  {
   "cell_type": "code",
   "execution_count": 40,
   "metadata": {},
   "outputs": [],
   "source": [
    "# Assume df is your DataFrame and it has columns 'content', 'url', and 'schoolname'\n",
    "df = charter_school_merge_content\n",
    "docs, metadatas = [], [],\n",
    "text_splitter = CharacterTextSplitter(chunk_size=200,chunk_overlap=0, separator=\"\\n\")\n",
    "for idx, row in df.iterrows():\n",
    "    splits = text_splitter.split_text(row['content'])\n",
    "    docs.extend(splits)\n",
    "    metadatas.extend([{\"source\": row['url'], \"schoolname\": row['schoolname']}] * len(splits))\n",
    "texts=text_splitter.create_documents(docs,metadatas=metadatas)"
   ]
  },
  {
   "attachments": {},
   "cell_type": "markdown",
   "metadata": {},
   "source": [
    "## start new chroma vector database from documents"
   ]
  },
  {
   "cell_type": "code",
   "execution_count": 43,
   "metadata": {},
   "outputs": [],
   "source": [
    "# embeddings = OpenAIEmbeddings(model=\"text-embedding-ada-002\", chunk_size=1, max_retries=10)\n",
    "# persist_directory = \"./chromadb\"\n",
    "# # Initialize the vector db with the first document\n",
    "# vectordb = Chroma.from_documents(texts, embeddings, persist_directory=persist_directory)\n",
    "# vectordb.persist()"
   ]
  },
  {
   "attachments": {},
   "cell_type": "markdown",
   "metadata": {},
   "source": [
    "## load existing chroma vector database"
   ]
  },
  {
   "cell_type": "code",
   "execution_count": 3,
   "metadata": {},
   "outputs": [],
   "source": [
    "#example on how to load the chromadb persisted vector store\n",
    "embeddings = OpenAIEmbeddings(model=\"text-embedding-ada-002\", chunk_size=1, max_retries=10)\n",
    "persist_directory = \"./chromadb\"\n",
    "vectordb = Chroma(persist_directory=persist_directory, embedding_function=embeddings)"
   ]
  },
  {
   "cell_type": "code",
   "execution_count": 7,
   "metadata": {},
   "outputs": [
    {
     "data": {
      "text/plain": [
       "['https://indiantrailcharter.org/apps/news/show_news.jsp?REC_ID=634079&id=0',\n",
       " 'https://indiantrailcharter.org/apps/news/show_news.jsp?REC_ID=646432&id=0',\n",
       " 'https://indiantrailcharter.org/apps/news/show_news.jsp?REC_ID=707006&id=0',\n",
       " 'https://indiantrailcharter.org/apps/news/show_news.jsp?REC_ID=751792&id=0',\n",
       " 'https://indiantrailcharter.org/apps/news/index.jsp?id=0',\n",
       " 'https://indiantrailcharter.org/apps/pages/index.jsp?uREC_ID=444974&type=d',\n",
       " 'https://indiantrailcharter.org/apps/pages/index.jsp?uREC_ID=457836&type=d',\n",
       " 'https://indiantrailcharter.org/apps/spotlight_persons/persons.jsp?categoryREC_ID=7116',\n",
       " 'https://indiantrailcharter.org/servlet/ICalServlet?id=0',\n",
       " 'https://indiantrailcharter.org/apps/contact/',\n",
       " 'https://indiantrailcharter.org/inquire.jsp',\n",
       " 'https://indiantrailcharter.org/apps/pages/index.jsp?uREC_ID=520622&type=d',\n",
       " 'https://indiantrailcharter.org/apps/staff/',\n",
       " 'https://indiantrailcharter.org/apps/pages/index.jsp?uREC_ID=552668&type=d',\n",
       " 'https://indiantrailcharter.org/apps/pages/index.jsp?uREC_ID=364769&type=d',\n",
       " 'https://indiantrailcharter.org/apps/pages/index.jsp?uREC_ID=364759&type=d',\n",
       " 'https://indiantrailcharter.org/apps/pages/index.jsp?uREC_ID=364765&type=d',\n",
       " 'https://indiantrailcharter.org/apps/pages/index.jsp?uREC_ID=364761&type=d',\n",
       " 'https://indiantrailcharter.org/apps/pages/index.jsp?uREC_ID=364766&type=d',\n",
       " 'https://indiantrailcharter.org/apps/pages/index.jsp?uREC_ID=364764&type=d',\n",
       " 'https://indiantrailcharter.org/apps/pages/index.jsp?uREC_ID=414787&type=d']"
      ]
     },
     "execution_count": 7,
     "metadata": {},
     "output_type": "execute_result"
    }
   ],
   "source": [
    "list(charter_school_merge_content[charter_school_merge_content['schoolname'] == \"Union Prep Academy at Indian Trail\"].url)"
   ]
  },
  {
   "cell_type": "code",
   "execution_count": 123,
   "metadata": {},
   "outputs": [
    {
     "data": {
      "text/plain": [
       "['Menu High Expectations in Academics, Behavior Character Dillard Academy will prepare all students to succeed in global society by providing diverse, collaborative, and technological, academic climate empowering 80% of students to be proficient by 2023. To positively provide safe and quality education with high expectations so that we can excel and grow! R, N.\" At Dillard Academy, we know that all children have potential. Our students will achieve their goals and succeed in school and in life, because they are taught to believe in themselves. Dillard Academy Charter School S) has been open since 1998. We are non-profit, public charter school. Tuition, transportation and meals are free at Dillard Academy. Our teachers are Certified and Highly Qualified. 919-581-0128 919-736-3103 504 W. Elm Street, P. O. Box 1188, Goldsboro, 27530 E. This institution is an equal opportunity provider. Home D-19 Updates Administration Founder/ Executive Director Board of Directors Principal Assistant Principal Dean of Students Central Services/ Operations Director Administrative Assistant Vision/ Mission Education Policies Classrooms Kindergarten Parker Kindergarten Robinson 1st Grade Gaines 1st Grade Pollard 2nd Grade K. Daughtry 3rd Grade Boykin 3rd Grade Hall 4th Grade Reid 4th Grade Hunter 5th Grade Adams 6th Grade Cox 6th Grade Hastings- Brown 7th Grade Wilson 7th Grade Farmer 5th Grade South 8th Grade Alisin 8th Grade Olliver Exceptional Childrens Program Specials/ Electives Global Studies Specials/ Electives Poetry Specials/ Electives Music Specials/ Electives Specials/ Electives Spanish Specials/ Electives Specials/ Electives Specials/ Electives Digital Learning Specials/ Electives Art Specials/ Electives Dance Specials/ Electives Learning.com Academic Websites Academic Resources For Parents Parent Student Handbook School Improvement Photo Gallery Enrollment Mc Kinney- Vento Program Employment Technology Policies Nutrition Calendar Contact Tech Work Order Facilities Work Order Contact Information Change Form Summer Program Administration/ support Staff Summer School Information Summer School Student Handbook Summer School Enrichment Activities Summer School Photo Gallery Athletics Afterschool Program Home D-19 Updates Administration Founder/ Executive Director Board of Directors Principal Assistant Principal Dean of Students Central Services/ Operations Director Administrative Assistant Vision/ Mission Education Policies Classrooms Kindergarten Parker Kindergarten Robinson 1st Grade Gaines 1st Grade Pollard 2nd Grade K. Daughtry 3rd Grade Boykin 3rd Grade Hall 4th Grade Reid 4th Grade Hunter 5th Grade Adams 6th Grade Cox 6th Grade Hastings- Brown 7th Grade Wilson 7th Grade Farmer 5th Grade South 8th Grade Alisin 8th Grade Olliver Exceptional Childrens Program Specials/ Electives Global Studies Specials/ Electives Poetry Specials/ Electives Music Specials/ Electives Specials/ Electives Spanish Specials/ Electives Specials/ Electives Specials/ Electives Digital Learning Specials/ Electives Art Specials/ Electives Dance Specials/ Electives Learning.com Academic Websites Academic Resources For Parents Parent Student Handbook School Improvement Photo Gallery Enrollment Mc Kinney- Vento Program Employment Technology Policies Nutrition Calendar Contact Tech Work Order Facilities Work Order Contact Information Change Form Summer Program Administration/ support Staff Summer School Information Summer School Student Handbook Summer School Enrichment Activities Summer School Photo Gallery Athletics Afterschool Program']"
      ]
     },
     "execution_count": 123,
     "metadata": {},
     "output_type": "execute_result"
    }
   ],
   "source": [
    "list(charter_school_merge_content[charter_school_merge_content.url == 'https://www.dillardacademy.org/visionmission.html'].content)"
   ]
  },
  {
   "cell_type": "code",
   "execution_count": 73,
   "metadata": {},
   "outputs": [
    {
     "data": {
      "text/plain": [
       "3668    Unity Classical Charter School\n",
       "Name: schoolname, dtype: object"
      ]
     },
     "execution_count": 73,
     "metadata": {},
     "output_type": "execute_result"
    }
   ],
   "source": [
    "charter_school_merge_content.schoolname.sample()"
   ]
  },
  {
   "cell_type": "code",
   "execution_count": 72,
   "metadata": {},
   "outputs": [],
   "source": [
    "# example of similiarty search on mission statement per filter criteria\n",
    "#filter_crit = {'schoolname': 'Phoenix Academy - Primary, Elem, Upper'}\n",
    "#vectordb.similarity_search('mission statement', filter=filter_crit)"
   ]
  },
  {
   "cell_type": "code",
   "execution_count": 14,
   "metadata": {},
   "outputs": [],
   "source": [
    "## sample example of qa doc retriveal\n",
    "def sample_vector_mission_find(schoolname:str):\n",
    "    filter_crit = {'schoolname': f\"{schoolname}\"} # does filter criterial for metadata matter? \n",
    "    retriever=vectordb.as_retriever(search_type=\"similarity\",search_kwargs={'k':3,'filter':filter_crit},)\n",
    "    llm = ChatOpenAI(temperature=0,model='gpt-3.5-turbo-16k')\n",
    "    chain = RetrievalQAWithSourcesChain.from_chain_type(\n",
    "                llm=llm,chain_type=\"stuff\",retriever=retriever,reduce_k_below_max_tokens=True)\n",
    "    # what is the vision/mission of the school for students in the about us?\n",
    "    result = chain({\"question\": 'what is mission of the school?',},return_only_outputs=True)\n",
    "    print(f\"{result['answer']}\")\n",
    "    print(f\"Sources: {result['sources']}\")"
   ]
  },
  {
   "cell_type": "code",
   "execution_count": 10,
   "metadata": {},
   "outputs": [],
   "source": [
    "## sample example of qa doc retriveal\n",
    "def vector_mission_find(schoolname:str):\n",
    "    filter_crit = {'schoolname': f\"{schoolname}\"} # does filter criterial for metadata matter? \n",
    "    retriever=vectordb.as_retriever(search_type=\"similarity\",search_kwargs={'k':1,'filter':filter_crit},)\n",
    "    llm = ChatOpenAI(temperature=0,model='gpt-3.5-turbo-16k')\n",
    "    chain = RetrievalQAWithSourcesChain.from_chain_type(\n",
    "                llm=llm,chain_type=\"stuff\",retriever=retriever,reduce_k_below_max_tokens=True)\n",
    "    result = chain({\"question\": 'what is mission of the school?',})\n",
    "    return result['answer']\n",
    "# what is the vision/mission of the school for students in the about us?\n",
    "# 'what is the mission statement of the school for students?'\n",
    "# 'what is mission of the school?'"
   ]
  },
  {
   "cell_type": "code",
   "execution_count": 91,
   "metadata": {},
   "outputs": [],
   "source": [
    "#names are captured from charter_school_merge_content\n",
    "unique_school_names = charter_school_merge_content.schoolname.unique()\n",
    "charter_vector_mission = pd.DataFrame(unique_school_names, columns=['schoolname'])"
   ]
  },
  {
   "cell_type": "code",
   "execution_count": 208,
   "metadata": {},
   "outputs": [
    {
     "data": {
      "text/html": [
       "<div>\n",
       "<style scoped>\n",
       "    .dataframe tbody tr th:only-of-type {\n",
       "        vertical-align: middle;\n",
       "    }\n",
       "\n",
       "    .dataframe tbody tr th {\n",
       "        vertical-align: top;\n",
       "    }\n",
       "\n",
       "    .dataframe thead th {\n",
       "        text-align: right;\n",
       "    }\n",
       "</style>\n",
       "<table border=\"1\" class=\"dataframe\">\n",
       "  <thead>\n",
       "    <tr style=\"text-align: right;\">\n",
       "      <th></th>\n",
       "      <th>schoolname</th>\n",
       "      <th>mission_statement</th>\n",
       "    </tr>\n",
       "  </thead>\n",
       "  <tbody>\n",
       "    <tr>\n",
       "      <th>36</th>\n",
       "      <td>Water''s Edge Village School</td>\n",
       "      <td>The document does not provide information abou...</td>\n",
       "    </tr>\n",
       "    <tr>\n",
       "      <th>74</th>\n",
       "      <td>Children''s Village Academy</td>\n",
       "      <td>The vision/mission of the school for students ...</td>\n",
       "    </tr>\n",
       "  </tbody>\n",
       "</table>\n",
       "</div>"
      ],
      "text/plain": [
       "                      schoolname  \\\n",
       "36  Water''s Edge Village School   \n",
       "74   Children''s Village Academy   \n",
       "\n",
       "                                    mission_statement  \n",
       "36  The document does not provide information abou...  \n",
       "74  The vision/mission of the school for students ...  "
      ]
     },
     "execution_count": 208,
     "metadata": {},
     "output_type": "execute_result"
    }
   ],
   "source": [
    "charter_vector_mission\n",
    "charter_vector_mission[charter_vector_mission['schoolname'].str.contains(\"'\")]\n",
    "#charter_vector_mission['schoolname'] = charter_vector_mission['schoolname'].str.replace(\"'\",\"''\") # revert this back to original for merging\n",
    "# dropping waters edge village and childern village because of apostraphes messing up the double single quotes in the database"
   ]
  },
  {
   "cell_type": "code",
   "execution_count": 40,
   "metadata": {},
   "outputs": [
    {
     "name": "stdout",
     "output_type": "stream",
     "text": [
      "The mission of the school is to support a partnership between school and home, providing information, meetings, workshops, and conferences to assist parents in improving their children's achievement. The school aims to involve parents in the planning, review, and evaluation of programs and to communicate clearly and frequently with parents about school policies and programs. The school also educates school personnel on the value of parental contributions and how to build ties between parents and the school.\n",
      "\n",
      "Sources: https://www.rivermill-academy.org/about_r_m_a/parent_involvement_plan\n"
     ]
    }
   ],
   "source": [
    "sample_vector_mission_find(\"River Mill Academy\")"
   ]
  },
  {
   "cell_type": "code",
   "execution_count": 209,
   "metadata": {},
   "outputs": [],
   "source": [
    "charter_vector_mission['mission_statement_shorten']=charter_vector_mission.apply(lambda x: vector_mission_find(x['schoolname']), axis=1)"
   ]
  },
  {
   "cell_type": "code",
   "execution_count": 211,
   "metadata": {},
   "outputs": [
    {
     "data": {
      "text/html": [
       "<div>\n",
       "<style scoped>\n",
       "    .dataframe tbody tr th:only-of-type {\n",
       "        vertical-align: middle;\n",
       "    }\n",
       "\n",
       "    .dataframe tbody tr th {\n",
       "        vertical-align: top;\n",
       "    }\n",
       "\n",
       "    .dataframe thead th {\n",
       "        text-align: right;\n",
       "    }\n",
       "</style>\n",
       "<table border=\"1\" class=\"dataframe\">\n",
       "  <thead>\n",
       "    <tr style=\"text-align: right;\">\n",
       "      <th></th>\n",
       "      <th>schoolname</th>\n",
       "      <th>mission_statement</th>\n",
       "      <th>mission_statement_shorten</th>\n",
       "    </tr>\n",
       "  </thead>\n",
       "  <tbody>\n",
       "    <tr>\n",
       "      <th>36</th>\n",
       "      <td>Water's Edge Village School</td>\n",
       "      <td>The document does not provide information abou...</td>\n",
       "      <td>The mission statement of Water's Edge Village ...</td>\n",
       "    </tr>\n",
       "    <tr>\n",
       "      <th>74</th>\n",
       "      <td>Children's Village Academy</td>\n",
       "      <td>The vision/mission of the school for students ...</td>\n",
       "      <td>The mission statement of the school for studen...</td>\n",
       "    </tr>\n",
       "  </tbody>\n",
       "</table>\n",
       "</div>"
      ],
      "text/plain": [
       "                     schoolname  \\\n",
       "36  Water's Edge Village School   \n",
       "74   Children's Village Academy   \n",
       "\n",
       "                                    mission_statement  \\\n",
       "36  The document does not provide information abou...   \n",
       "74  The vision/mission of the school for students ...   \n",
       "\n",
       "                            mission_statement_shorten  \n",
       "36  The mission statement of Water's Edge Village ...  \n",
       "74  The mission statement of the school for studen...  "
      ]
     },
     "execution_count": 211,
     "metadata": {},
     "output_type": "execute_result"
    }
   ],
   "source": [
    "\n",
    "#charter_vector_mission['schoolname'] = charter_vector_mission['schoolname'].str.replace(\"''\",\"'\")\n",
    "charter_vector_mission[charter_vector_mission['schoolname'].str.contains(\"'\")]"
   ]
  },
  {
   "cell_type": "code",
   "execution_count": 214,
   "metadata": {},
   "outputs": [
    {
     "data": {
      "text/plain": [
       "0      The mission statement of the school for studen...\n",
       "1      The mission statement of the school for studen...\n",
       "2      The mission statement of the school for studen...\n",
       "3      The mission statement of Durham Charter School...\n",
       "4      The mission statement of the school for studen...\n",
       "                             ...                        \n",
       "155    The mission statement of the school for studen...\n",
       "156    I don't know the mission statement of the scho...\n",
       "157    The mission statement of the school for studen...\n",
       "158    The mission statement of the school for studen...\n",
       "159    The mission statement of the school for studen...\n",
       "Name: mission_statement_shorten, Length: 160, dtype: object"
      ]
     },
     "execution_count": 214,
     "metadata": {},
     "output_type": "execute_result"
    }
   ],
   "source": [
    "charter_vector_mission\n"
   ]
  },
  {
   "cell_type": "code",
   "execution_count": 215,
   "metadata": {},
   "outputs": [],
   "source": [
    "charter_vector_mission.to_csv('processed_data/charter_vector_mission_revised.csv',index=False)"
   ]
  },
  {
   "attachments": {},
   "cell_type": "markdown",
   "metadata": {},
   "source": [
    "## Faiss Vector store db"
   ]
  },
  {
   "cell_type": "code",
   "execution_count": null,
   "metadata": {},
   "outputs": [],
   "source": [
    "## FAISS vector store \n",
    "## embed the docs\n",
    "embeddings = OpenAIEmbeddings(model=\"text-embedding-ada-002\")\n",
    "store = FAISS.from_texts(docs, OpenAIEmbeddings(), metadatas=metadatas)\n",
    "with open(\"faiss_store.pkl\", \"wb\") as f:\n",
    "    pickle.dump(store, f)"
   ]
  },
  {
   "cell_type": "code",
   "execution_count": null,
   "metadata": {},
   "outputs": [],
   "source": [
    "with open(\"faiss_store.pkl\", \"rb\") as f:\n",
    "    store = pickle.load(f)"
   ]
  },
  {
   "cell_type": "code",
   "execution_count": null,
   "metadata": {},
   "outputs": [],
   "source": [
    "## sample example of qa doc retriveal\n",
    "filter_crit = {'schoolname': 'Maureen Joy Charter School'} # does filter criterial for metadata matter? \n",
    "retriever=store.as_retriever(search_type=\"similarity\",search_kwargs={'k':1,}, filter=filter_crit)\n",
    "chain = RetrievalQAWithSourcesChain.from_chain_type(\n",
    "            llm=OpenAI(temperature=0),chain_type=\"stuff\",retriever=retriever)"
   ]
  },
  {
   "cell_type": "code",
   "execution_count": null,
   "metadata": {},
   "outputs": [],
   "source": [
    "# if filter criteria doesnt work can we just add the school name to the question?\n",
    "result = chain({\"question\": 'what is the mission statement?',})\n",
    "print(f\"Answer: {result['answer']}\")\n",
    "print(f\"Sources: {result['sources']}\")"
   ]
  },
  {
   "cell_type": "code",
   "execution_count": null,
   "metadata": {},
   "outputs": [],
   "source": [
    "#store.docstore._dict\n",
    "query = \"what is the mission statement?\"\n",
    "filter_crit = {'schoolname': 'Maureen Joy Charter School'} \n",
    "store.similarity_search(query, k=1, filter=filter_crit) #"
   ]
  },
  {
   "cell_type": "code",
   "execution_count": 19,
   "metadata": {},
   "outputs": [],
   "source": [
    "fill_missing_charter = pd.read_csv('processed_data/charter_vector_mission_revised.csv',encoding = \"ISO-8859-1\")"
   ]
  },
  {
   "cell_type": "code",
   "execution_count": 22,
   "metadata": {},
   "outputs": [],
   "source": [
    "fill_missing_charter['schoolname'] = fill_missing_charter['schoolname'].str.replace(\"'\",\"''\")"
   ]
  },
  {
   "cell_type": "code",
   "execution_count": 23,
   "metadata": {},
   "outputs": [],
   "source": [
    "fill_missing_charter['mission_statement'] = fill_missing_charter['mission_statement'].fillna(fill_missing_charter['schoolname'].apply(lambda x: vector_mission_find(x)))"
   ]
  },
  {
   "cell_type": "code",
   "execution_count": 25,
   "metadata": {},
   "outputs": [
    {
     "data": {
      "text/plain": [
       "0      The mission of the school is to ensure that ea...\n",
       "1      The vision of the school is to be a rich schoo...\n",
       "2      The vision/mission of the school for students ...\n",
       "3      The vision of Durham Charter School is to prep...\n",
       "4      The mission of the school is to build students...\n",
       "                             ...                        \n",
       "155    The mission statement of the Haliwa-Saponi Tri...\n",
       "156    The mission statement of the school for studen...\n",
       "157    The mission statement of the school for studen...\n",
       "158    The vision/mission of the school for students ...\n",
       "159    The mission statement of the school for studen...\n",
       "Name: mission_statement, Length: 160, dtype: object"
      ]
     },
     "execution_count": 25,
     "metadata": {},
     "output_type": "execute_result"
    }
   ],
   "source": [
    "fill_missing_charter.to_csv('')"
   ]
  },
  {
   "cell_type": "code",
   "execution_count": 26,
   "metadata": {},
   "outputs": [],
   "source": [
    "fill_missing_charter['schoolname'] = fill_missing_charter['schoolname'].str.replace(\"''\",\"'\")"
   ]
  },
  {
   "cell_type": "code",
   "execution_count": 27,
   "metadata": {},
   "outputs": [],
   "source": [
    "#fill_missing_charter.to_csv('processed_data/missing_mission.csv',index=False)"
   ]
  },
  {
   "cell_type": "code",
   "execution_count": 39,
   "metadata": {},
   "outputs": [
    {
     "data": {
      "text/plain": [
       "160"
      ]
     },
     "execution_count": 39,
     "metadata": {},
     "output_type": "execute_result"
    }
   ],
   "source": [
    "fill_missing_charter['mission_statement']"
   ]
  },
  {
   "cell_type": "code",
   "execution_count": 2,
   "metadata": {},
   "outputs": [],
   "source": [
    "complete_mission=pd.read_csv('processed_data/missing_mission.csv',encoding = \"ISO-8859-1\")"
   ]
  },
  {
   "cell_type": "code",
   "execution_count": 3,
   "metadata": {},
   "outputs": [],
   "source": [
    "def get_embedding(text, model=\"text-embedding-ada-002\"):\n",
    "   text = text.replace(\"\\n\", \" \")\n",
    "   time.sleep(5)\n",
    "   return openai.Embedding.create(input = [text], model=model)['data'][0]['embedding']\n",
    "\n",
    "complete_mission['ada_embedding'] = complete_mission.mission_statement.apply(lambda x: get_embedding(x, model='text-embedding-ada-002'))"
   ]
  },
  {
   "cell_type": "code",
   "execution_count": 25,
   "metadata": {},
   "outputs": [
    {
     "data": {
      "text/plain": [
       "Index(['schoolname', 'mission_statement', 'mission_statement_shorten',\n",
       "       'ada_embedding'],\n",
       "      dtype='object')"
      ]
     },
     "execution_count": 25,
     "metadata": {},
     "output_type": "execute_result"
    }
   ],
   "source": [
    "complete_mission.columns"
   ]
  },
  {
   "cell_type": "code",
   "execution_count": 22,
   "metadata": {},
   "outputs": [],
   "source": [
    "party_afil = pd.read_csv('processed_data/merge_charter_district_afil.csv')\n",
    "complete_emebed_party=complete_mission.merge(party_afil)"
   ]
  },
  {
   "cell_type": "code",
   "execution_count": 26,
   "metadata": {},
   "outputs": [
    {
     "data": {
      "text/plain": [
       "Index(['schoolname', 'mission_statement', 'mission_statement_shorten',\n",
       "       'ada_embedding', 'countydescription', 'political_afil',\n",
       "       'extract_name_clean_list', 'principal/directoremail', 'website',\n",
       "       'board_of_directors_link', 'link_domain_match', 'director_first_last',\n",
       "       'cleaner_names', 'zipcode', 'political_affilation', 'postal_code',\n",
       "       'latitude', 'longitude', 'count_dem', 'count_rep', 'count_una',\n",
       "       'district_count_dem', 'district_count_rep', 'district_count_una',\n",
       "       'charter_majority_party', 'district_majority_party'],\n",
       "      dtype='object')"
      ]
     },
     "execution_count": 26,
     "metadata": {},
     "output_type": "execute_result"
    }
   ],
   "source": [
    "complete_emebed_party.columns"
   ]
  },
  {
   "cell_type": "code",
   "execution_count": null,
   "metadata": {},
   "outputs": [],
   "source": [
    "complete_emebed_party.to_csv('preprocessed_data/complete_emebed_party.csv',index=False)"
   ]
  },
  {
   "cell_type": "code",
   "execution_count": 33,
   "metadata": {},
   "outputs": [],
   "source": [
    "import matplotlib.pyplot as plt\n",
    "from sklearn.manifold import TSNE\n",
    "import plotly.express as px\n",
    "\n",
    "# Create a t-SNE model and transform the data\n",
    "embeddings = np.stack(complete_emebed_party['ada_embedding'].values)  # convert embeddings to numpy array\n",
    "school_names = complete_emebed_party['schoolname'].values\n",
    "charter_pol_affiliation = complete_emebed_party['charter_majority_party'].values  # replace with actual column name\n",
    "district_pol_affiliation = complete_emebed_party['district_majority_party'].values  # replace with actual column name\n",
    "\n",
    "# Apply t-SNE to the embeddings\n",
    "tsne = TSNE(n_components=2, random_state=42)\n",
    "embeddings_2d = tsne.fit_transform(embeddings)\n",
    "\n",
    "# Convert the 2D embeddings to a DataFrame\n",
    "df_2d = pd.DataFrame(embeddings_2d, columns=['x', 'y'])\n",
    "df_2d['schoolname'] = school_names\n",
    "df_2d['charter_political_affiliation'] = charter_pol_affiliation\n",
    "df_2d['district_political_affiliation'] = district_pol_affiliation\n",
    "\n",
    "#define color scheme \n",
    "color_discrete_map = {'Democrat':'blue', 'Republican':'red', 'Tie': 'green'}"
   ]
  },
  {
   "cell_type": "code",
   "execution_count": 34,
   "metadata": {},
   "outputs": [
    {
     "data": {
      "application/vnd.plotly.v1+json": {
       "config": {
        "plotlyServerURL": "https://plot.ly"
       },
       "data": [
        {
         "customdata": [
          [
           "North Carolina Cyber Academy",
           "Democrat"
          ],
          [
           "Maureen Joy Charter School",
           "Democrat"
          ],
          [
           "Community School of Digital & Visual Art",
           "Democrat"
          ],
          [
           "Kestrel Heights School",
           "Democrat"
          ],
          [
           "Voyager Academy",
           "Democrat"
          ],
          [
           "Global Scholars Academy",
           "Democrat"
          ],
          [
           "The Institute Development Young Leaders",
           "Democrat"
          ],
          [
           "Reaching All Minds Academy",
           "Democrat"
          ],
          [
           "River Mill Academy",
           "Tie"
          ],
          [
           "The Hawbridge School",
           "Tie"
          ],
          [
           "Alamance Community School",
           "Tie"
          ],
          [
           "Emereau: Bladen",
           "Tie"
          ],
          [
           "ArtSpace Charter School",
           "Tie"
          ],
          [
           "IC Imagine ",
           "Tie"
          ],
          [
           "Francine Delany New School",
           "Tie"
          ],
          [
           "Carolina International School",
           "Tie"
          ],
          [
           "A.C.E. Academy",
           "Tie"
          ],
          [
           "Tiller School",
           "Republican"
          ],
          [
           "Willow Oak Montessori",
           "Democrat"
          ],
          [
           "Woods Charter",
           "Democrat"
          ],
          [
           "Alpha Academy",
           "Democrat"
          ],
          [
           "The Capitol Encore Academy",
           "Democrat"
          ],
          [
           "Water's Edge Village School",
           "Republican"
          ],
          [
           "North East Carolina Prep",
           "Democrat"
          ],
          [
           "Quality Education Academy",
           "Republican"
          ],
          [
           "Carter G. Woodson School",
           "Republican"
          ],
          [
           "Mountain Island Charter School",
           "Republican"
          ],
          [
           "Ridgeview Charter School",
           "Republican"
          ],
          [
           "Community Public Charter",
           "Republican"
          ],
          [
           "Oxford Preparatory",
           "Tie"
          ],
          [
           "Guilford Preparatory Academy",
           "Democrat"
          ],
          [
           "Triad Math and Science Academy",
           "Democrat"
          ],
          [
           "Next Generation Academy",
           "Democrat"
          ],
          [
           "The Experiential School of Greensboro",
           "Democrat"
          ],
          [
           "KIPP Halifax College Preparatory",
           "Democrat"
          ],
          [
           "KIPP Charlotte",
           "Democrat"
          ],
          [
           "Hobgood Charter School",
           "Democrat"
          ],
          [
           "FernLeaf",
           "Republican"
          ],
          [
           "Pine Lake Preparatory",
           "Republican"
          ],
          [
           "MINA Charter School of Lee County",
           "Democrat"
          ],
          [
           "Children's Village Academy",
           "Democrat"
          ],
          [
           "West Lake Preparatory Academy",
           "Republican"
          ],
          [
           "Lake Norman Charter",
           "Democrat"
          ],
          [
           "Socrates Academy",
           "Democrat"
          ],
          [
           "Invest Collegiate Transform",
           "Democrat"
          ],
          [
           "Commonwealth High",
           "Democrat"
          ],
          [
           "Pioneer Springs Community School",
           "Democrat"
          ],
          [
           "United Community School",
           "Democrat"
          ],
          [
           "Stewart Creek High",
           "Democrat"
          ],
          [
           "Charlotte Lab School",
           "Democrat"
          ],
          [
           "TMSA Charlotte",
           "Democrat"
          ],
          [
           "Telra Institute",
           "Democrat"
          ],
          [
           "Moore Montessori Community School",
           "Tie"
          ],
          [
           "Cape Fear Center for Inquiry",
           "Republican"
          ],
          [
           "Wilmington Preparatory Academy",
           "Republican"
          ],
          [
           "Wilmington School of the Arts",
           "Republican"
          ],
          [
           "Z.E.C.A. School of Arts and Technology",
           "Republican"
          ],
          [
           "Northeast Academy of Aerospace & AdvTech",
           "Democrat"
          ],
          [
           "Henderson Collegiate",
           "Democrat"
          ],
          [
           "The Exploris School",
           "Republican"
          ],
          [
           "Sterling Montessori Academy",
           "Republican"
          ],
          [
           "Raleigh Charter High School",
           "Republican"
          ],
          [
           "Casa Esperanza Montessori Charter School",
           "Republican"
          ],
          [
           "Endeavor Charter School",
           "Republican"
          ],
          [
           "Triangle Math and Science Academy",
           "Republican"
          ],
          [
           "Longleaf School of the Arts",
           "Republican"
          ],
          [
           "Envision Science Academy",
           "Republican"
          ],
          [
           "Central Wake High School",
           "Republican"
          ],
          [
           "The Math and Science Academy of Apex",
           "Republican"
          ],
          [
           "Haliwa-Saponi Tribal School",
           "Democrat"
          ],
          [
           "Wilson Preparatory Academy",
           "Democrat"
          ],
          [
           "Wake Forest Charter Academy",
           "Republican"
          ],
          [
           "Sugar Creek Charter",
           "Democrat"
          ],
          [
           "Central Park School For Child",
           "Democrat"
          ],
          [
           "KIPP Durham College Preparatory",
           "Democrat"
          ],
          [
           "KIPP Gaston College Preparatory",
           "Democrat"
          ],
          [
           "Winterville Charter Academy",
           "Democrat"
          ],
          [
           "Forsyth Academy",
           "Republican"
          ],
          [
           "Asheville PEAK Academy",
           "Tie"
          ],
          [
           "Evergreen Community Charter",
           "Tie"
          ],
          [
           "Piedmont Classical High School",
           "Democrat"
          ],
          [
           "Tillery Charter Academy",
           "Republican"
          ],
          [
           "Paul R. Brown Leadership Academy",
           "Tie"
          ],
          [
           "Two Rivers Community School",
           "Tie"
          ],
          [
           "Mountain Discovery",
           "Republican"
          ],
          [
           "RISE Southeast Raleigh Charter",
           "Republican"
          ],
          [
           "PreEminent Charter",
           "Republican"
          ]
         ],
         "hovertemplate": "charter_political_affiliation=Democrat<br>x=%{x}<br>y=%{y}<br>schoolname=%{customdata[0]}<br>district_political_affiliation=%{customdata[1]}<extra></extra>",
         "legendgroup": "Democrat",
         "marker": {
          "color": "blue",
          "symbol": "circle"
         },
         "mode": "markers",
         "name": "Democrat",
         "orientation": "v",
         "showlegend": true,
         "type": "scatter",
         "x": [
          -5.9678778648376465,
          -5.109218597412109,
          -5.294691562652588,
          -12.085917472839355,
          -5.819103717803955,
          -4.778939247131348,
          -9.005987167358398,
          -3.186337471008301,
          -0.12611408531665802,
          -2.5245134830474854,
          -1.516463279724121,
          -3.137054681777954,
          0.8981805443763733,
          -3.460073471069336,
          -4.008695602416992,
          5.02237606048584,
          -2.6228749752044678,
          -0.3670192360877991,
          -5.774202823638916,
          12.29245662689209,
          2.4466712474823,
          1.5430107116699219,
          -9.494245529174805,
          5.38203239440918,
          -6.712580680847168,
          12.837700843811035,
          7.247232913970947,
          3.5860610008239746,
          -0.7287887334823608,
          -2.3745782375335693,
          -3.7373406887054443,
          4.240096569061279,
          0.9669196009635925,
          9.49636173248291,
          5.13495397567749,
          5.137234210968018,
          12.450652122497559,
          -1.8742133378982544,
          6.468509197235107,
          8.142488479614258,
          -3.206386089324951,
          7.032441139221191,
          7.4585347175598145,
          -6.264066696166992,
          -3.2056725025177,
          -12.712418556213379,
          -9.653148651123047,
          -0.4212239682674408,
          -12.70761489868164,
          -1.9206076860427856,
          4.984116077423096,
          -5.827939510345459,
          -2.5876028537750244,
          7.718313217163086,
          7.505709648132324,
          0.16401757299900055,
          -1.2318459749221802,
          0.4145127534866333,
          -4.346060752868652,
          -9.788412094116211,
          -4.217029094696045,
          5.411149024963379,
          -5.980886459350586,
          -0.48647040128707886,
          4.284132957458496,
          -2.313931465148926,
          2.7313950061798096,
          -12.709671974182129,
          -7.04252815246582,
          -7.141058444976807,
          7.296125411987305,
          10.30361270904541,
          -5.885551452636719,
          -1.8871179819107056,
          9.546677589416504,
          9.555789947509766,
          10.396679878234863,
          -1.4129916429519653,
          4.219266414642334,
          12.213249206542969,
          2.1181602478027344,
          0.8927382230758667,
          3.947883367538452,
          -7.917572021484375,
          7.402247905731201,
          -5.524862289428711,
          10.495085716247559
         ],
         "xaxis": "x",
         "y": [
          -2.515301465988159,
          2.822366952896118,
          -3.337829828262329,
          -1.1032218933105469,
          9.215150833129883,
          1.3011854887008667,
          4.1639180183410645,
          0.19846747815608978,
          -4.370241165161133,
          1.818022608757019,
          -9.187614440917969,
          -3.8797755241394043,
          3.337646007537842,
          1.7138967514038086,
          2.385502815246582,
          -2.6497390270233154,
          2.420485258102417,
          2.8294761180877686,
          5.584057331085205,
          0.0007560444064438343,
          -8.26952838897705,
          1.906132698059082,
          -4.911843776702881,
          -2.908485174179077,
          -4.4908671379089355,
          -0.41231924295425415,
          4.665909290313721,
          0.6237510442733765,
          -1.1212102174758911,
          -2.6455776691436768,
          -1.0667637586593628,
          7.886144161224365,
          -5.2107672691345215,
          -4.850165843963623,
          0.31649601459503174,
          0.3156871795654297,
          1.0459506511688232,
          6.797411918640137,
          -7.427835464477539,
          0.05006018653512001,
          0.5507705211639404,
          -6.974465847015381,
          -0.08476023375988007,
          1.9738900661468506,
          -4.902813911437988,
          -4.54404354095459,
          1.194826364517212,
          0.5300559997558594,
          -4.54335880279541,
          0.05203097686171532,
          7.054821491241455,
          3.8869469165802,
          3.2896947860717773,
          -3.289233446121216,
          -6.293911933898926,
          3.898507595062256,
          4.283167839050293,
          6.779707431793213,
          -9.534225463867188,
          -2.7782657146453857,
          2.6066269874572754,
          1.3665564060211182,
          5.886789798736572,
          1.9066493511199951,
          7.844452381134033,
          1.4709160327911377,
          4.8859333992004395,
          -4.532573699951172,
          1.898771047592163,
          -1.0943273305892944,
          -6.518858432769775,
          -2.7853026390075684,
          -6.055276870727539,
          -6.616085529327393,
          -8.598915100097656,
          -8.613968849182129,
          -2.6975574493408203,
          -5.587339401245117,
          3.9423134326934814,
          1.0876771211624146,
          -3.8884689807891846,
          -3.632105588912964,
          -9.590010643005371,
          -6.464071273803711,
          4.208034038543701,
          -7.62701416015625,
          1.3082008361816406
         ],
         "yaxis": "y"
        },
        {
         "customdata": [
          [
           "NC Virtual Academy",
           "Democrat"
          ],
          [
           "Excelsior Classical Academy",
           "Democrat"
          ],
          [
           "Discovery Charter",
           "Democrat"
          ],
          [
           "Washington Montessori",
           "Republican"
          ],
          [
           "The Franklin School of Innovation",
           "Tie"
          ],
          [
           "Oak Hill Charter School",
           "Republican"
          ],
          [
           "Pinnacle Classical Academy",
           "Republican"
          ],
          [
           "Thomas Academy",
           "Republican"
          ],
          [
           "The Arts Based School",
           "Republican"
          ],
          [
           "Crosscreek Charter School",
           "Democrat"
          ],
          [
           "Wake Preparatory Academy",
           "Democrat"
          ],
          [
           "Phoenix Academy - Primary, Elem, Upper",
           "Democrat"
          ],
          [
           "Johnston Charter Academy",
           "Republican"
          ],
          [
           "Rolesville Charter Academy",
           "Republican"
          ],
          [
           "Cornerstone Charter Academy-CFA",
           "Democrat"
          ],
          [
           "College Prep and Leadership Academy",
           "Democrat"
          ],
          [
           "Achievement Charter Academy",
           "Democrat"
          ],
          [
           "The Mountain Community Sch",
           "Republican"
          ],
          [
           "American Renaissance School",
           "Republican"
          ],
          [
           "Success Institute Charter",
           "Republican"
          ],
          [
           "Metrolina Reg Scholars Academy",
           "Democrat"
          ],
          [
           "Community School of Davidson",
           "Democrat"
          ],
          [
           "Charlotte Secondary",
           "Democrat"
          ],
          [
           "Corvian Community School",
           "Democrat"
          ],
          [
           "Eastside STREAM Academy",
           "Democrat"
          ],
          [
           "Bradford Preparatory School",
           "Democrat"
          ],
          [
           "VERITAS Community School, CFA",
           "Democrat"
          ],
          [
           "Mallard Creek STEM Academy",
           "Democrat"
          ],
          [
           "East Voyager Academy of Charlotte",
           "Democrat"
          ],
          [
           "Jackson Day School",
           "Democrat"
          ],
          [
           "Southwest Charlotte STEM Academy",
           "Democrat"
          ],
          [
           "STARS Charter",
           "Tie"
          ],
          [
           "Rocky Mount Preparatory",
           "Democrat"
          ],
          [
           "Island Montessori Charter School",
           "Republican"
          ],
          [
           "Girls Leadership Academy of Wilmington",
           "Republican"
          ],
          [
           "Eno River Academy",
           "Tie"
          ],
          [
           "The Expedition School",
           "Tie"
          ],
          [
           "Arapahoe Charter School",
           "Tie"
          ],
          [
           "CIS Academy",
           "Democrat"
          ],
          [
           "Southeastern Academy",
           "Democrat"
          ],
          [
           "Old Main STREAM Academy",
           "Democrat"
          ],
          [
           "Gray Stone Day",
           "Republican"
          ],
          [
           "Union Day School",
           "Tie"
          ],
          [
           "Monroe Charter Academy",
           "Tie"
          ],
          [
           "Vance Charter School",
           "Democrat"
          ],
          [
           "Franklin Academy",
           "Republican"
          ],
          [
           "East Wake Academy",
           "Republican"
          ],
          [
           "Quest Academy",
           "Republican"
          ],
          [
           "Southern Wake Academy",
           "Republican"
          ],
          [
           "Raleigh Oak Charter",
           "Republican"
          ],
          [
           "Doral Academy of North Carolina",
           "Republican"
          ],
          [
           "Pocosin Innovative Charter",
           "Democrat"
          ],
          [
           "Dillard Academy",
           "Tie"
          ],
          [
           "Wayne Preparatory Academy",
           "Tie"
          ],
          [
           "Aristotle Preparatory Academy",
           "Democrat"
          ],
          [
           "Sallie B Howard School",
           "Democrat"
          ],
          [
           "Chatham Charter",
           "Democrat"
          ],
          [
           "Matthews Charter Academy",
           "Democrat"
          ],
          [
           "Peak Charter Academy",
           "Republican"
          ],
          [
           "Research Triangle High School",
           "Democrat"
          ],
          [
           "Greensboro Academy",
           "Democrat"
          ],
          [
           "Bear Grass Charter School",
           "Tie"
          ],
          [
           "American Leadership Academy - Johnston",
           "Republican"
          ],
          [
           "Shining Rock Classical Academy",
           "Republican"
          ],
          [
           "Central Carolina Academy",
           "Democrat"
          ],
          [
           "Magellan Charter",
           "Republican"
          ],
          [
           "Summit Creek Academy",
           "Democrat"
          ]
         ],
         "hovertemplate": "charter_political_affiliation=Tie<br>x=%{x}<br>y=%{y}<br>schoolname=%{customdata[0]}<br>district_political_affiliation=%{customdata[1]}<extra></extra>",
         "legendgroup": "Tie",
         "marker": {
          "color": "green",
          "symbol": "circle"
         },
         "mode": "markers",
         "name": "Tie",
         "orientation": "v",
         "showlegend": true,
         "type": "scatter",
         "x": [
          -4.3165364265441895,
          0.3583332598209381,
          7.7061991691589355,
          -1.8519611358642578,
          -3.292644500732422,
          1.2134169340133667,
          -12.23618221282959,
          1.0399067401885986,
          0.17298342287540436,
          -5.317736625671387,
          -3.464925765991211,
          -10.935928344726562,
          -10.935903549194336,
          -10.937128067016602,
          10.273812294006348,
          -3.2265164852142334,
          -0.3114093244075775,
          -5.052119255065918,
          -12.2161226272583,
          -7.133650302886963,
          -5.023800373077393,
          -7.643294811248779,
          -2.050881862640381,
          -8.880578994750977,
          3.4780240058898926,
          -2.6286122798919678,
          -3.7213168144226074,
          -3.2884511947631836,
          -5.8139824867248535,
          2.31837797164917,
          5.42570686340332,
          -1.1110026836395264,
          5.558701038360596,
          -7.790003776550293,
          -4.456714153289795,
          2.3845250606536865,
          -9.520130157470703,
          -8.253399848937988,
          -6.271366119384766,
          -1.6463395357131958,
          -3.7567086219787598,
          -6.675370693206787,
          -4.14954137802124,
          0.9579537510871887,
          -1.3654292821884155,
          -8.375123023986816,
          -2.5520458221435547,
          4.119761943817139,
          -7.592865467071533,
          -1.579767107963562,
          -1.6589605808258057,
          -6.378871917724609,
          -4.804009437561035,
          -1.568363070487976,
          6.011316299438477,
          0.6465839743614197,
          10.093463897705078,
          0.255486398935318,
          -2.691641092300415,
          4.047327518463135,
          9.389337539672852,
          10.393877983093262,
          -7.278528690338135,
          2.2020199298858643,
          8.907598495483398,
          8.770554542541504,
          -11.631204605102539
         ],
         "xaxis": "x",
         "y": [
          1.2550113201141357,
          -0.4362373948097229,
          3.802330255508423,
          -4.102316379547119,
          -2.812572956085205,
          -0.6352453231811523,
          -0.3643515408039093,
          7.491138458251953,
          3.27002215385437,
          1.737053632736206,
          3.092942237854004,
          3.00201153755188,
          3.0020036697387695,
          3.0024821758270264,
          -0.9756535291671753,
          -6.693296432495117,
          -6.8535966873168945,
          -1.0806304216384888,
          -0.5512729287147522,
          3.463085412979126,
          -2.4330596923828125,
          -2.530500888824463,
          -0.6572357416152954,
          -0.7799050211906433,
          4.643894672393799,
          1.4660371541976929,
          0.4186572730541229,
          -2.8073911666870117,
          9.207201957702637,
          0.450644314289093,
          6.811654567718506,
          2.053118944168091,
          -4.277071475982666,
          2.4997668266296387,
          -0.03452557325363159,
          2.5034027099609375,
          -2.5711376667022705,
          5.90212869644165,
          -3.430598020553589,
          -0.9396576285362244,
          -7.300058841705322,
          1.201460838317871,
          6.331262111663818,
          -0.6238420009613037,
          -4.497135639190674,
          0.9283508062362671,
          0.5102396011352539,
          4.976315498352051,
          0.3269462585449219,
          3.3864314556121826,
          -1.8543243408203125,
          -1.1357377767562866,
          -5.1429572105407715,
          0.1440860778093338,
          -5.61818790435791,
          4.765912055969238,
          0.3299918472766876,
          -5.609066009521484,
          -6.397210597991943,
          -0.8534987568855286,
          -4.500011444091797,
          3.416443347930908,
          -4.084600925445557,
          -1.864592432975769,
          -3.103508234024048,
          3.7142794132232666,
          3.110076904296875
         ],
         "yaxis": "y"
        },
        {
         "customdata": [
          [
           "Durham Charter School",
           "Democrat"
          ],
          [
           "Clover Garden",
           "Tie"
          ],
          [
           "Marjorie Williams Academy",
           "Republican"
          ],
          [
           "New Dimensions",
           "Republican"
          ],
          [
           "Cabarrus Charter Academy",
           "Tie"
          ],
          [
           "Concord Lake STEAM Academy",
           "Tie"
          ],
          [
           "Davidson Charter Academy",
           "Republican"
          ],
          [
           "Youngsville Academy",
           "Democrat"
          ],
          [
           "Piedmont Community Charter School",
           "Republican"
          ],
          [
           "Falls Lake Academy",
           "Tie"
          ],
          [
           "Anderson Creek Academy",
           "Democrat"
          ],
          [
           "Summit Charter",
           "Tie"
          ],
          [
           "Neuse Charter School",
           "Republican"
          ],
          [
           "Ascend Leadership Academy: Lee County",
           "Democrat"
          ],
          [
           "Lincoln Charter School",
           "Republican"
          ],
          [
           "Lakeside Charter Academy",
           "Democrat"
          ],
          [
           "Unity Classical Charter School",
           "Democrat"
          ],
          [
           "Steele Creek Preparatory Academy",
           "Democrat"
          ],
          [
           "Movement School Southwest",
           "Democrat"
          ],
          [
           "The Academy of Moore County",
           "Tie"
          ],
          [
           "Bethel Hill Charter",
           "Democrat"
          ],
          [
           "Roxboro Community School",
           "Democrat"
          ],
          [
           "Uwharrie Charter Academy",
           "Republican"
          ],
          [
           "Bethany Community School",
           "Republican"
          ],
          [
           "Faith Academy Charter School",
           "Republican"
          ],
          [
           "Thomas Jefferson Class Academy",
           "Republican"
          ],
          [
           "Lake Lure Classical Academy",
           "Republican"
          ],
          [
           "Millennium Charter Academy",
           "Tie"
          ],
          [
           "Brevard Academy",
           "Republican"
          ],
          [
           "Union Academy",
           "Tie"
          ],
          [
           "Union Prep Academy at Indian Trail",
           "Tie"
          ],
          [
           "Apprentice Academy High School",
           "Tie"
          ],
          [
           "Cardinal Charter Academy",
           "Republican"
          ],
          [
           "Pine Springs Preparatory Academy",
           "Republican"
          ],
          [
           "Cardinal Charter Acad at Wendell Falls",
           "Republican"
          ],
          [
           "Movement School Eastland",
           "Democrat"
          ],
          [
           "Iredell Charter Academy",
           "Republican"
          ],
          [
           "American Leadership Academy-Coastal",
           "Republican"
          ],
          [
           "NC Leadership Charter Academy",
           "Republican"
          ],
          [
           "Langtree Charter Academy",
           "Republican"
          ],
          [
           "Gate City Charter",
           "Democrat"
          ],
          [
           "Queen's Grant Community School",
           "Democrat"
          ],
          [
           "Classical Charter Schools of Southport",
           "Republican"
          ],
          [
           "Classical Charter Schools of Wilmington",
           "Republican"
          ],
          [
           "Summerfield Charter Academy",
           "Democrat"
          ],
          [
           "Revolution Academy",
           "Democrat"
          ],
          [
           "Classical Charter Schools of Whiteville",
           "Republican"
          ],
          [
           "Research Triangle Charter",
           "Democrat"
          ],
          [
           "Classical Charter Schools of Leland ",
           "Republican"
          ],
          [
           "Bonnie Cone Classical Academy",
           "Democrat"
          ],
          [
           "Carolina Charter Academy",
           "Republican"
          ],
          [
           "Movement Charter School",
           "Democrat"
          ]
         ],
         "hovertemplate": "charter_political_affiliation=Republican<br>x=%{x}<br>y=%{y}<br>schoolname=%{customdata[0]}<br>district_political_affiliation=%{customdata[1]}<extra></extra>",
         "legendgroup": "Republican",
         "marker": {
          "color": "red",
          "symbol": "circle"
         },
         "mode": "markers",
         "name": "Republican",
         "orientation": "v",
         "showlegend": true,
         "type": "scatter",
         "x": [
          5.643064022064209,
          -1.8071593046188354,
          1.7167872190475464,
          -3.1102824211120605,
          -4.982033729553223,
          6.776590347290039,
          6.901375770568848,
          -3.539163589477539,
          -1.6196461915969849,
          -4.77743673324585,
          3.370527505874634,
          -3.1105945110321045,
          -4.783349990844727,
          3.586958885192871,
          7.315033435821533,
          7.26824426651001,
          1.012211561203003,
          6.2754058837890625,
          -3.395395517349243,
          3.5821292400360107,
          -10.309210777282715,
          4.410297870635986,
          10.865433692932129,
          -10.3014497756958,
          -2.9798243045806885,
          -12.88668155670166,
          0.5957969427108765,
          0.5750520825386047,
          -10.271595001220703,
          -4.4819207191467285,
          -3.181828737258911,
          -3.6175577640533447,
          -5.765537261962891,
          -3.533900260925293,
          -5.756804466247559,
          9.649989128112793,
          7.887875080108643,
          -1.269570231437683,
          4.025437355041504,
          9.212838172912598,
          -0.30726805329322815,
          10.462385177612305,
          -0.4690764844417572,
          -0.4690815508365631,
          10.282248497009277,
          2.3052871227264404,
          -0.4690815508365631,
          4.591188907623291,
          -0.4690815508365631,
          0.7042180895805359,
          9.24834156036377,
          9.554462432861328
         ],
         "xaxis": "x",
         "y": [
          0.7458990812301636,
          6.303744792938232,
          -7.745540618896484,
          -1.1491848230361938,
          0.49752020835876465,
          -1.5245230197906494,
          1.6914012432098389,
          5.048073768615723,
          1.5529993772506714,
          -4.682514667510986,
          -5.376733303070068,
          4.356659889221191,
          -2.259549140930176,
          -9.275580406188965,
          -0.42316049337387085,
          -0.8207036852836609,
          -3.1812939643859863,
          -5.30428409576416,
          4.166965484619141,
          -6.029451370239258,
          8.241148948669434,
          1.854675531387329,
          -2.9560744762420654,
          8.242473602294922,
          0.08571050316095352,
          0.316744327545166,
          0.5457547903060913,
          -1.7397178411483765,
          8.23259162902832,
          4.1904754638671875,
          8.442109107971191,
          1.2922639846801758,
          -0.013850649818778038,
          -2.278322219848633,
          -0.005615958943963051,
          4.734121799468994,
          1.438561201095581,
          -9.457935333251953,
          -9.36867618560791,
          -1.0086266994476318,
          -6.193140029907227,
          1.5563105344772339,
          11.767337799072266,
          11.76734733581543,
          -1.696083903312683,
          -2.853419542312622,
          11.76734733581543,
          -0.7351337671279907,
          11.76734733581543,
          -3.680117607116699,
          -2.5238142013549805,
          4.303285598754883
         ],
         "yaxis": "y"
        }
       ],
       "layout": {
        "legend": {
         "title": {
          "text": "charter_political_affiliation"
         },
         "tracegroupgap": 0
        },
        "margin": {
         "t": 60
        },
        "template": {
         "data": {
          "bar": [
           {
            "error_x": {
             "color": "#2a3f5f"
            },
            "error_y": {
             "color": "#2a3f5f"
            },
            "marker": {
             "line": {
              "color": "#E5ECF6",
              "width": 0.5
             },
             "pattern": {
              "fillmode": "overlay",
              "size": 10,
              "solidity": 0.2
             }
            },
            "type": "bar"
           }
          ],
          "barpolar": [
           {
            "marker": {
             "line": {
              "color": "#E5ECF6",
              "width": 0.5
             },
             "pattern": {
              "fillmode": "overlay",
              "size": 10,
              "solidity": 0.2
             }
            },
            "type": "barpolar"
           }
          ],
          "carpet": [
           {
            "aaxis": {
             "endlinecolor": "#2a3f5f",
             "gridcolor": "white",
             "linecolor": "white",
             "minorgridcolor": "white",
             "startlinecolor": "#2a3f5f"
            },
            "baxis": {
             "endlinecolor": "#2a3f5f",
             "gridcolor": "white",
             "linecolor": "white",
             "minorgridcolor": "white",
             "startlinecolor": "#2a3f5f"
            },
            "type": "carpet"
           }
          ],
          "choropleth": [
           {
            "colorbar": {
             "outlinewidth": 0,
             "ticks": ""
            },
            "type": "choropleth"
           }
          ],
          "contour": [
           {
            "colorbar": {
             "outlinewidth": 0,
             "ticks": ""
            },
            "colorscale": [
             [
              0,
              "#0d0887"
             ],
             [
              0.1111111111111111,
              "#46039f"
             ],
             [
              0.2222222222222222,
              "#7201a8"
             ],
             [
              0.3333333333333333,
              "#9c179e"
             ],
             [
              0.4444444444444444,
              "#bd3786"
             ],
             [
              0.5555555555555556,
              "#d8576b"
             ],
             [
              0.6666666666666666,
              "#ed7953"
             ],
             [
              0.7777777777777778,
              "#fb9f3a"
             ],
             [
              0.8888888888888888,
              "#fdca26"
             ],
             [
              1,
              "#f0f921"
             ]
            ],
            "type": "contour"
           }
          ],
          "contourcarpet": [
           {
            "colorbar": {
             "outlinewidth": 0,
             "ticks": ""
            },
            "type": "contourcarpet"
           }
          ],
          "heatmap": [
           {
            "colorbar": {
             "outlinewidth": 0,
             "ticks": ""
            },
            "colorscale": [
             [
              0,
              "#0d0887"
             ],
             [
              0.1111111111111111,
              "#46039f"
             ],
             [
              0.2222222222222222,
              "#7201a8"
             ],
             [
              0.3333333333333333,
              "#9c179e"
             ],
             [
              0.4444444444444444,
              "#bd3786"
             ],
             [
              0.5555555555555556,
              "#d8576b"
             ],
             [
              0.6666666666666666,
              "#ed7953"
             ],
             [
              0.7777777777777778,
              "#fb9f3a"
             ],
             [
              0.8888888888888888,
              "#fdca26"
             ],
             [
              1,
              "#f0f921"
             ]
            ],
            "type": "heatmap"
           }
          ],
          "heatmapgl": [
           {
            "colorbar": {
             "outlinewidth": 0,
             "ticks": ""
            },
            "colorscale": [
             [
              0,
              "#0d0887"
             ],
             [
              0.1111111111111111,
              "#46039f"
             ],
             [
              0.2222222222222222,
              "#7201a8"
             ],
             [
              0.3333333333333333,
              "#9c179e"
             ],
             [
              0.4444444444444444,
              "#bd3786"
             ],
             [
              0.5555555555555556,
              "#d8576b"
             ],
             [
              0.6666666666666666,
              "#ed7953"
             ],
             [
              0.7777777777777778,
              "#fb9f3a"
             ],
             [
              0.8888888888888888,
              "#fdca26"
             ],
             [
              1,
              "#f0f921"
             ]
            ],
            "type": "heatmapgl"
           }
          ],
          "histogram": [
           {
            "marker": {
             "pattern": {
              "fillmode": "overlay",
              "size": 10,
              "solidity": 0.2
             }
            },
            "type": "histogram"
           }
          ],
          "histogram2d": [
           {
            "colorbar": {
             "outlinewidth": 0,
             "ticks": ""
            },
            "colorscale": [
             [
              0,
              "#0d0887"
             ],
             [
              0.1111111111111111,
              "#46039f"
             ],
             [
              0.2222222222222222,
              "#7201a8"
             ],
             [
              0.3333333333333333,
              "#9c179e"
             ],
             [
              0.4444444444444444,
              "#bd3786"
             ],
             [
              0.5555555555555556,
              "#d8576b"
             ],
             [
              0.6666666666666666,
              "#ed7953"
             ],
             [
              0.7777777777777778,
              "#fb9f3a"
             ],
             [
              0.8888888888888888,
              "#fdca26"
             ],
             [
              1,
              "#f0f921"
             ]
            ],
            "type": "histogram2d"
           }
          ],
          "histogram2dcontour": [
           {
            "colorbar": {
             "outlinewidth": 0,
             "ticks": ""
            },
            "colorscale": [
             [
              0,
              "#0d0887"
             ],
             [
              0.1111111111111111,
              "#46039f"
             ],
             [
              0.2222222222222222,
              "#7201a8"
             ],
             [
              0.3333333333333333,
              "#9c179e"
             ],
             [
              0.4444444444444444,
              "#bd3786"
             ],
             [
              0.5555555555555556,
              "#d8576b"
             ],
             [
              0.6666666666666666,
              "#ed7953"
             ],
             [
              0.7777777777777778,
              "#fb9f3a"
             ],
             [
              0.8888888888888888,
              "#fdca26"
             ],
             [
              1,
              "#f0f921"
             ]
            ],
            "type": "histogram2dcontour"
           }
          ],
          "mesh3d": [
           {
            "colorbar": {
             "outlinewidth": 0,
             "ticks": ""
            },
            "type": "mesh3d"
           }
          ],
          "parcoords": [
           {
            "line": {
             "colorbar": {
              "outlinewidth": 0,
              "ticks": ""
             }
            },
            "type": "parcoords"
           }
          ],
          "pie": [
           {
            "automargin": true,
            "type": "pie"
           }
          ],
          "scatter": [
           {
            "fillpattern": {
             "fillmode": "overlay",
             "size": 10,
             "solidity": 0.2
            },
            "type": "scatter"
           }
          ],
          "scatter3d": [
           {
            "line": {
             "colorbar": {
              "outlinewidth": 0,
              "ticks": ""
             }
            },
            "marker": {
             "colorbar": {
              "outlinewidth": 0,
              "ticks": ""
             }
            },
            "type": "scatter3d"
           }
          ],
          "scattercarpet": [
           {
            "marker": {
             "colorbar": {
              "outlinewidth": 0,
              "ticks": ""
             }
            },
            "type": "scattercarpet"
           }
          ],
          "scattergeo": [
           {
            "marker": {
             "colorbar": {
              "outlinewidth": 0,
              "ticks": ""
             }
            },
            "type": "scattergeo"
           }
          ],
          "scattergl": [
           {
            "marker": {
             "colorbar": {
              "outlinewidth": 0,
              "ticks": ""
             }
            },
            "type": "scattergl"
           }
          ],
          "scattermapbox": [
           {
            "marker": {
             "colorbar": {
              "outlinewidth": 0,
              "ticks": ""
             }
            },
            "type": "scattermapbox"
           }
          ],
          "scatterpolar": [
           {
            "marker": {
             "colorbar": {
              "outlinewidth": 0,
              "ticks": ""
             }
            },
            "type": "scatterpolar"
           }
          ],
          "scatterpolargl": [
           {
            "marker": {
             "colorbar": {
              "outlinewidth": 0,
              "ticks": ""
             }
            },
            "type": "scatterpolargl"
           }
          ],
          "scatterternary": [
           {
            "marker": {
             "colorbar": {
              "outlinewidth": 0,
              "ticks": ""
             }
            },
            "type": "scatterternary"
           }
          ],
          "surface": [
           {
            "colorbar": {
             "outlinewidth": 0,
             "ticks": ""
            },
            "colorscale": [
             [
              0,
              "#0d0887"
             ],
             [
              0.1111111111111111,
              "#46039f"
             ],
             [
              0.2222222222222222,
              "#7201a8"
             ],
             [
              0.3333333333333333,
              "#9c179e"
             ],
             [
              0.4444444444444444,
              "#bd3786"
             ],
             [
              0.5555555555555556,
              "#d8576b"
             ],
             [
              0.6666666666666666,
              "#ed7953"
             ],
             [
              0.7777777777777778,
              "#fb9f3a"
             ],
             [
              0.8888888888888888,
              "#fdca26"
             ],
             [
              1,
              "#f0f921"
             ]
            ],
            "type": "surface"
           }
          ],
          "table": [
           {
            "cells": {
             "fill": {
              "color": "#EBF0F8"
             },
             "line": {
              "color": "white"
             }
            },
            "header": {
             "fill": {
              "color": "#C8D4E3"
             },
             "line": {
              "color": "white"
             }
            },
            "type": "table"
           }
          ]
         },
         "layout": {
          "annotationdefaults": {
           "arrowcolor": "#2a3f5f",
           "arrowhead": 0,
           "arrowwidth": 1
          },
          "autotypenumbers": "strict",
          "coloraxis": {
           "colorbar": {
            "outlinewidth": 0,
            "ticks": ""
           }
          },
          "colorscale": {
           "diverging": [
            [
             0,
             "#8e0152"
            ],
            [
             0.1,
             "#c51b7d"
            ],
            [
             0.2,
             "#de77ae"
            ],
            [
             0.3,
             "#f1b6da"
            ],
            [
             0.4,
             "#fde0ef"
            ],
            [
             0.5,
             "#f7f7f7"
            ],
            [
             0.6,
             "#e6f5d0"
            ],
            [
             0.7,
             "#b8e186"
            ],
            [
             0.8,
             "#7fbc41"
            ],
            [
             0.9,
             "#4d9221"
            ],
            [
             1,
             "#276419"
            ]
           ],
           "sequential": [
            [
             0,
             "#0d0887"
            ],
            [
             0.1111111111111111,
             "#46039f"
            ],
            [
             0.2222222222222222,
             "#7201a8"
            ],
            [
             0.3333333333333333,
             "#9c179e"
            ],
            [
             0.4444444444444444,
             "#bd3786"
            ],
            [
             0.5555555555555556,
             "#d8576b"
            ],
            [
             0.6666666666666666,
             "#ed7953"
            ],
            [
             0.7777777777777778,
             "#fb9f3a"
            ],
            [
             0.8888888888888888,
             "#fdca26"
            ],
            [
             1,
             "#f0f921"
            ]
           ],
           "sequentialminus": [
            [
             0,
             "#0d0887"
            ],
            [
             0.1111111111111111,
             "#46039f"
            ],
            [
             0.2222222222222222,
             "#7201a8"
            ],
            [
             0.3333333333333333,
             "#9c179e"
            ],
            [
             0.4444444444444444,
             "#bd3786"
            ],
            [
             0.5555555555555556,
             "#d8576b"
            ],
            [
             0.6666666666666666,
             "#ed7953"
            ],
            [
             0.7777777777777778,
             "#fb9f3a"
            ],
            [
             0.8888888888888888,
             "#fdca26"
            ],
            [
             1,
             "#f0f921"
            ]
           ]
          },
          "colorway": [
           "#636efa",
           "#EF553B",
           "#00cc96",
           "#ab63fa",
           "#FFA15A",
           "#19d3f3",
           "#FF6692",
           "#B6E880",
           "#FF97FF",
           "#FECB52"
          ],
          "font": {
           "color": "#2a3f5f"
          },
          "geo": {
           "bgcolor": "white",
           "lakecolor": "white",
           "landcolor": "#E5ECF6",
           "showlakes": true,
           "showland": true,
           "subunitcolor": "white"
          },
          "hoverlabel": {
           "align": "left"
          },
          "hovermode": "closest",
          "mapbox": {
           "style": "light"
          },
          "paper_bgcolor": "white",
          "plot_bgcolor": "#E5ECF6",
          "polar": {
           "angularaxis": {
            "gridcolor": "white",
            "linecolor": "white",
            "ticks": ""
           },
           "bgcolor": "#E5ECF6",
           "radialaxis": {
            "gridcolor": "white",
            "linecolor": "white",
            "ticks": ""
           }
          },
          "scene": {
           "xaxis": {
            "backgroundcolor": "#E5ECF6",
            "gridcolor": "white",
            "gridwidth": 2,
            "linecolor": "white",
            "showbackground": true,
            "ticks": "",
            "zerolinecolor": "white"
           },
           "yaxis": {
            "backgroundcolor": "#E5ECF6",
            "gridcolor": "white",
            "gridwidth": 2,
            "linecolor": "white",
            "showbackground": true,
            "ticks": "",
            "zerolinecolor": "white"
           },
           "zaxis": {
            "backgroundcolor": "#E5ECF6",
            "gridcolor": "white",
            "gridwidth": 2,
            "linecolor": "white",
            "showbackground": true,
            "ticks": "",
            "zerolinecolor": "white"
           }
          },
          "shapedefaults": {
           "line": {
            "color": "#2a3f5f"
           }
          },
          "ternary": {
           "aaxis": {
            "gridcolor": "white",
            "linecolor": "white",
            "ticks": ""
           },
           "baxis": {
            "gridcolor": "white",
            "linecolor": "white",
            "ticks": ""
           },
           "bgcolor": "#E5ECF6",
           "caxis": {
            "gridcolor": "white",
            "linecolor": "white",
            "ticks": ""
           }
          },
          "title": {
           "x": 0.05
          },
          "xaxis": {
           "automargin": true,
           "gridcolor": "white",
           "linecolor": "white",
           "ticks": "",
           "title": {
            "standoff": 15
           },
           "zerolinecolor": "white",
           "zerolinewidth": 2
          },
          "yaxis": {
           "automargin": true,
           "gridcolor": "white",
           "linecolor": "white",
           "ticks": "",
           "title": {
            "standoff": 15
           },
           "zerolinecolor": "white",
           "zerolinewidth": 2
          }
         }
        },
        "xaxis": {
         "anchor": "y",
         "domain": [
          0,
          1
         ],
         "title": {
          "text": "x"
         }
        },
        "yaxis": {
         "anchor": "x",
         "domain": [
          0,
          1
         ],
         "title": {
          "text": "y"
         }
        }
       }
      }
     },
     "metadata": {},
     "output_type": "display_data"
    }
   ],
   "source": [
    "fig = px.scatter(df_2d, x='x', y='y', color='charter_political_affiliation', color_discrete_map=color_discrete_map,hover_data=['schoolname', 'district_political_affiliation'])\n",
    "fig.show()"
   ]
  },
  {
   "cell_type": "code",
   "execution_count": 35,
   "metadata": {},
   "outputs": [
    {
     "data": {
      "application/vnd.plotly.v1+json": {
       "config": {
        "plotlyServerURL": "https://plot.ly"
       },
       "data": [
        {
         "customdata": [
          [
           "North Carolina Cyber Academy",
           "Democrat"
          ],
          [
           "NC Virtual Academy",
           "Tie"
          ],
          [
           "Maureen Joy Charter School",
           "Democrat"
          ],
          [
           "Durham Charter School",
           "Republican"
          ],
          [
           "Community School of Digital & Visual Art",
           "Democrat"
          ],
          [
           "Kestrel Heights School",
           "Democrat"
          ],
          [
           "Voyager Academy",
           "Democrat"
          ],
          [
           "Global Scholars Academy",
           "Democrat"
          ],
          [
           "The Institute Development Young Leaders",
           "Democrat"
          ],
          [
           "Reaching All Minds Academy",
           "Democrat"
          ],
          [
           "Excelsior Classical Academy",
           "Tie"
          ],
          [
           "Discovery Charter",
           "Tie"
          ],
          [
           "Willow Oak Montessori",
           "Democrat"
          ],
          [
           "Woods Charter",
           "Democrat"
          ],
          [
           "Alpha Academy",
           "Democrat"
          ],
          [
           "The Capitol Encore Academy",
           "Democrat"
          ],
          [
           "North East Carolina Prep",
           "Democrat"
          ],
          [
           "Crosscreek Charter School",
           "Tie"
          ],
          [
           "Youngsville Academy",
           "Republican"
          ],
          [
           "Wake Preparatory Academy",
           "Tie"
          ],
          [
           "Guilford Preparatory Academy",
           "Democrat"
          ],
          [
           "Phoenix Academy - Primary, Elem, Upper",
           "Tie"
          ],
          [
           "Triad Math and Science Academy",
           "Democrat"
          ],
          [
           "Cornerstone Charter Academy-CFA",
           "Tie"
          ],
          [
           "College Prep and Leadership Academy",
           "Tie"
          ],
          [
           "Next Generation Academy",
           "Democrat"
          ],
          [
           "The Experiential School of Greensboro",
           "Democrat"
          ],
          [
           "KIPP Halifax College Preparatory",
           "Democrat"
          ],
          [
           "KIPP Charlotte",
           "Democrat"
          ],
          [
           "Hobgood Charter School",
           "Democrat"
          ],
          [
           "Anderson Creek Academy",
           "Republican"
          ],
          [
           "Achievement Charter Academy",
           "Tie"
          ],
          [
           "Ascend Leadership Academy: Lee County",
           "Republican"
          ],
          [
           "MINA Charter School of Lee County",
           "Democrat"
          ],
          [
           "Children's Village Academy",
           "Democrat"
          ],
          [
           "Lake Norman Charter",
           "Democrat"
          ],
          [
           "Metrolina Reg Scholars Academy",
           "Tie"
          ],
          [
           "Community School of Davidson",
           "Tie"
          ],
          [
           "Socrates Academy",
           "Democrat"
          ],
          [
           "Charlotte Secondary",
           "Tie"
          ],
          [
           "Corvian Community School",
           "Tie"
          ],
          [
           "Eastside STREAM Academy",
           "Tie"
          ],
          [
           "Invest Collegiate Transform",
           "Democrat"
          ],
          [
           "Bradford Preparatory School",
           "Tie"
          ],
          [
           "Commonwealth High",
           "Democrat"
          ],
          [
           "Pioneer Springs Community School",
           "Democrat"
          ],
          [
           "Lakeside Charter Academy",
           "Republican"
          ],
          [
           "United Community School",
           "Democrat"
          ],
          [
           "Stewart Creek High",
           "Democrat"
          ],
          [
           "Charlotte Lab School",
           "Democrat"
          ],
          [
           "TMSA Charlotte",
           "Democrat"
          ],
          [
           "VERITAS Community School, CFA",
           "Tie"
          ],
          [
           "Mallard Creek STEM Academy",
           "Tie"
          ],
          [
           "Unity Classical Charter School",
           "Republican"
          ],
          [
           "East Voyager Academy of Charlotte",
           "Tie"
          ],
          [
           "Jackson Day School",
           "Tie"
          ],
          [
           "Steele Creek Preparatory Academy",
           "Republican"
          ],
          [
           "Southwest Charlotte STEM Academy",
           "Tie"
          ],
          [
           "Telra Institute",
           "Democrat"
          ],
          [
           "Movement School Southwest",
           "Republican"
          ],
          [
           "Rocky Mount Preparatory",
           "Tie"
          ],
          [
           "Northeast Academy of Aerospace & AdvTech",
           "Democrat"
          ],
          [
           "Bethel Hill Charter",
           "Republican"
          ],
          [
           "Roxboro Community School",
           "Republican"
          ],
          [
           "CIS Academy",
           "Tie"
          ],
          [
           "Southeastern Academy",
           "Tie"
          ],
          [
           "Old Main STREAM Academy",
           "Tie"
          ],
          [
           "Henderson Collegiate",
           "Democrat"
          ],
          [
           "Vance Charter School",
           "Tie"
          ],
          [
           "Haliwa-Saponi Tribal School",
           "Democrat"
          ],
          [
           "Pocosin Innovative Charter",
           "Tie"
          ],
          [
           "Wilson Preparatory Academy",
           "Democrat"
          ],
          [
           "Movement School Eastland",
           "Republican"
          ],
          [
           "Sugar Creek Charter",
           "Democrat"
          ],
          [
           "Central Park School For Child",
           "Democrat"
          ],
          [
           "Aristotle Preparatory Academy",
           "Tie"
          ],
          [
           "Gate City Charter",
           "Republican"
          ],
          [
           "KIPP Durham College Preparatory",
           "Democrat"
          ],
          [
           "KIPP Gaston College Preparatory",
           "Democrat"
          ],
          [
           "Queen's Grant Community School",
           "Republican"
          ],
          [
           "Sallie B Howard School",
           "Tie"
          ],
          [
           "Winterville Charter Academy",
           "Democrat"
          ],
          [
           "Summerfield Charter Academy",
           "Republican"
          ],
          [
           "Chatham Charter",
           "Tie"
          ],
          [
           "Revolution Academy",
           "Republican"
          ],
          [
           "Matthews Charter Academy",
           "Tie"
          ],
          [
           "Research Triangle Charter",
           "Republican"
          ],
          [
           "Bonnie Cone Classical Academy",
           "Republican"
          ],
          [
           "Research Triangle High School",
           "Tie"
          ],
          [
           "Greensboro Academy",
           "Tie"
          ],
          [
           "Piedmont Classical High School",
           "Democrat"
          ],
          [
           "Movement Charter School",
           "Republican"
          ],
          [
           "Central Carolina Academy",
           "Tie"
          ],
          [
           "Summit Creek Academy",
           "Tie"
          ]
         ],
         "hovertemplate": "district_political_affiliation=Democrat<br>x=%{x}<br>y=%{y}<br>schoolname=%{customdata[0]}<br>charter_political_affiliation=%{customdata[1]}<extra></extra>",
         "legendgroup": "Democrat",
         "marker": {
          "color": "blue",
          "symbol": "circle"
         },
         "mode": "markers",
         "name": "Democrat",
         "orientation": "v",
         "showlegend": true,
         "type": "scatter",
         "x": [
          -5.9678778648376465,
          -4.3165364265441895,
          -5.109218597412109,
          5.643064022064209,
          -5.294691562652588,
          -12.085917472839355,
          -5.819103717803955,
          -4.778939247131348,
          -9.005987167358398,
          -3.186337471008301,
          0.3583332598209381,
          7.7061991691589355,
          -5.774202823638916,
          12.29245662689209,
          2.4466712474823,
          1.5430107116699219,
          5.38203239440918,
          -5.317736625671387,
          -3.539163589477539,
          -3.464925765991211,
          -3.7373406887054443,
          -10.935928344726562,
          4.240096569061279,
          10.273812294006348,
          -3.2265164852142334,
          0.9669196009635925,
          9.49636173248291,
          5.13495397567749,
          5.137234210968018,
          12.450652122497559,
          3.370527505874634,
          -0.3114093244075775,
          3.586958885192871,
          8.142488479614258,
          -3.206386089324951,
          7.4585347175598145,
          -5.023800373077393,
          -7.643294811248779,
          -6.264066696166992,
          -2.050881862640381,
          -8.880578994750977,
          3.4780240058898926,
          -3.2056725025177,
          -2.6286122798919678,
          -12.712418556213379,
          -9.653148651123047,
          7.26824426651001,
          -0.4212239682674408,
          -12.70761489868164,
          -1.9206076860427856,
          4.984116077423096,
          -3.7213168144226074,
          -3.2884511947631836,
          1.012211561203003,
          -5.8139824867248535,
          2.31837797164917,
          6.2754058837890625,
          5.42570686340332,
          -5.827939510345459,
          -3.395395517349243,
          5.558701038360596,
          0.4145127534866333,
          -10.309210777282715,
          4.410297870635986,
          -6.271366119384766,
          -1.6463395357131958,
          -3.7567086219787598,
          -4.346060752868652,
          -1.3654292821884155,
          -7.141058444976807,
          -6.378871917724609,
          7.296125411987305,
          9.649989128112793,
          -5.885551452636719,
          -1.8871179819107056,
          6.011316299438477,
          -0.30726805329322815,
          9.546677589416504,
          9.555789947509766,
          10.462385177612305,
          0.6465839743614197,
          10.396679878234863,
          10.282248497009277,
          10.093463897705078,
          2.3052871227264404,
          0.255486398935318,
          4.591188907623291,
          0.7042180895805359,
          4.047327518463135,
          9.389337539672852,
          2.1181602478027344,
          9.554462432861328,
          8.907598495483398,
          -11.631204605102539
         ],
         "xaxis": "x",
         "y": [
          -2.515301465988159,
          1.2550113201141357,
          2.822366952896118,
          0.7458990812301636,
          -3.337829828262329,
          -1.1032218933105469,
          9.215150833129883,
          1.3011854887008667,
          4.1639180183410645,
          0.19846747815608978,
          -0.4362373948097229,
          3.802330255508423,
          5.584057331085205,
          0.0007560444064438343,
          -8.26952838897705,
          1.906132698059082,
          -2.908485174179077,
          1.737053632736206,
          5.048073768615723,
          3.092942237854004,
          -1.0667637586593628,
          3.00201153755188,
          7.886144161224365,
          -0.9756535291671753,
          -6.693296432495117,
          -5.2107672691345215,
          -4.850165843963623,
          0.31649601459503174,
          0.3156871795654297,
          1.0459506511688232,
          -5.376733303070068,
          -6.8535966873168945,
          -9.275580406188965,
          0.05006018653512001,
          0.5507705211639404,
          -0.08476023375988007,
          -2.4330596923828125,
          -2.530500888824463,
          1.9738900661468506,
          -0.6572357416152954,
          -0.7799050211906433,
          4.643894672393799,
          -4.902813911437988,
          1.4660371541976929,
          -4.54404354095459,
          1.194826364517212,
          -0.8207036852836609,
          0.5300559997558594,
          -4.54335880279541,
          0.05203097686171532,
          7.054821491241455,
          0.4186572730541229,
          -2.8073911666870117,
          -3.1812939643859863,
          9.207201957702637,
          0.450644314289093,
          -5.30428409576416,
          6.811654567718506,
          3.8869469165802,
          4.166965484619141,
          -4.277071475982666,
          6.779707431793213,
          8.241148948669434,
          1.854675531387329,
          -3.430598020553589,
          -0.9396576285362244,
          -7.300058841705322,
          -9.534225463867188,
          -4.497135639190674,
          -1.0943273305892944,
          -1.1357377767562866,
          -6.518858432769775,
          4.734121799468994,
          -6.055276870727539,
          -6.616085529327393,
          -5.61818790435791,
          -6.193140029907227,
          -8.598915100097656,
          -8.613968849182129,
          1.5563105344772339,
          4.765912055969238,
          -2.6975574493408203,
          -1.696083903312683,
          0.3299918472766876,
          -2.853419542312622,
          -5.609066009521484,
          -0.7351337671279907,
          -3.680117607116699,
          -0.8534987568855286,
          -4.500011444091797,
          -3.8884689807891846,
          4.303285598754883,
          -3.103508234024048,
          3.110076904296875
         ],
         "yaxis": "y"
        },
        {
         "customdata": [
          [
           "River Mill Academy",
           "Democrat"
          ],
          [
           "The Hawbridge School",
           "Democrat"
          ],
          [
           "Clover Garden",
           "Republican"
          ],
          [
           "Alamance Community School",
           "Democrat"
          ],
          [
           "Emereau: Bladen",
           "Democrat"
          ],
          [
           "ArtSpace Charter School",
           "Democrat"
          ],
          [
           "IC Imagine ",
           "Democrat"
          ],
          [
           "The Franklin School of Innovation",
           "Tie"
          ],
          [
           "Francine Delany New School",
           "Democrat"
          ],
          [
           "Carolina International School",
           "Democrat"
          ],
          [
           "Cabarrus Charter Academy",
           "Republican"
          ],
          [
           "A.C.E. Academy",
           "Democrat"
          ],
          [
           "Concord Lake STEAM Academy",
           "Republican"
          ],
          [
           "Falls Lake Academy",
           "Republican"
          ],
          [
           "Oxford Preparatory",
           "Democrat"
          ],
          [
           "Summit Charter",
           "Republican"
          ],
          [
           "The Academy of Moore County",
           "Republican"
          ],
          [
           "STARS Charter",
           "Tie"
          ],
          [
           "Moore Montessori Community School",
           "Democrat"
          ],
          [
           "Eno River Academy",
           "Tie"
          ],
          [
           "The Expedition School",
           "Tie"
          ],
          [
           "Arapahoe Charter School",
           "Tie"
          ],
          [
           "Millennium Charter Academy",
           "Republican"
          ],
          [
           "Union Academy",
           "Republican"
          ],
          [
           "Union Day School",
           "Tie"
          ],
          [
           "Union Prep Academy at Indian Trail",
           "Republican"
          ],
          [
           "Monroe Charter Academy",
           "Tie"
          ],
          [
           "Apprentice Academy High School",
           "Republican"
          ],
          [
           "Dillard Academy",
           "Tie"
          ],
          [
           "Wayne Preparatory Academy",
           "Tie"
          ],
          [
           "Asheville PEAK Academy",
           "Democrat"
          ],
          [
           "Evergreen Community Charter",
           "Democrat"
          ],
          [
           "Bear Grass Charter School",
           "Tie"
          ],
          [
           "Paul R. Brown Leadership Academy",
           "Democrat"
          ],
          [
           "Two Rivers Community School",
           "Democrat"
          ]
         ],
         "hovertemplate": "district_political_affiliation=Tie<br>x=%{x}<br>y=%{y}<br>schoolname=%{customdata[0]}<br>charter_political_affiliation=%{customdata[1]}<extra></extra>",
         "legendgroup": "Tie",
         "marker": {
          "color": "green",
          "symbol": "circle"
         },
         "mode": "markers",
         "name": "Tie",
         "orientation": "v",
         "showlegend": true,
         "type": "scatter",
         "x": [
          -0.12611408531665802,
          -2.5245134830474854,
          -1.8071593046188354,
          -1.516463279724121,
          -3.137054681777954,
          0.8981805443763733,
          -3.460073471069336,
          -3.292644500732422,
          -4.008695602416992,
          5.02237606048584,
          -4.982033729553223,
          -2.6228749752044678,
          6.776590347290039,
          -4.77743673324585,
          -2.3745782375335693,
          -3.1105945110321045,
          3.5821292400360107,
          -1.1110026836395264,
          -2.5876028537750244,
          2.3845250606536865,
          -9.520130157470703,
          -8.253399848937988,
          0.5750520825386047,
          -4.4819207191467285,
          -4.14954137802124,
          -3.181828737258911,
          0.9579537510871887,
          -3.6175577640533447,
          -4.804009437561035,
          -1.568363070487976,
          4.219266414642334,
          12.213249206542969,
          10.393877983093262,
          3.947883367538452,
          -7.917572021484375
         ],
         "xaxis": "x",
         "y": [
          -4.370241165161133,
          1.818022608757019,
          6.303744792938232,
          -9.187614440917969,
          -3.8797755241394043,
          3.337646007537842,
          1.7138967514038086,
          -2.812572956085205,
          2.385502815246582,
          -2.6497390270233154,
          0.49752020835876465,
          2.420485258102417,
          -1.5245230197906494,
          -4.682514667510986,
          -2.6455776691436768,
          4.356659889221191,
          -6.029451370239258,
          2.053118944168091,
          3.2896947860717773,
          2.5034027099609375,
          -2.5711376667022705,
          5.90212869644165,
          -1.7397178411483765,
          4.1904754638671875,
          6.331262111663818,
          8.442109107971191,
          -0.6238420009613037,
          1.2922639846801758,
          -5.1429572105407715,
          0.1440860778093338,
          3.9423134326934814,
          1.0876771211624146,
          3.416443347930908,
          -9.590010643005371,
          -6.464071273803711
         ],
         "yaxis": "y"
        },
        {
         "customdata": [
          [
           "Marjorie Williams Academy",
           "Republican"
          ],
          [
           "Washington Montessori",
           "Tie"
          ],
          [
           "New Dimensions",
           "Republican"
          ],
          [
           "Oak Hill Charter School",
           "Tie"
          ],
          [
           "Tiller School",
           "Democrat"
          ],
          [
           "Pinnacle Classical Academy",
           "Tie"
          ],
          [
           "Thomas Academy",
           "Tie"
          ],
          [
           "Water's Edge Village School",
           "Democrat"
          ],
          [
           "Davidson Charter Academy",
           "Republican"
          ],
          [
           "Quality Education Academy",
           "Democrat"
          ],
          [
           "Carter G. Woodson School",
           "Democrat"
          ],
          [
           "The Arts Based School",
           "Tie"
          ],
          [
           "Piedmont Community Charter School",
           "Republican"
          ],
          [
           "Mountain Island Charter School",
           "Democrat"
          ],
          [
           "Ridgeview Charter School",
           "Democrat"
          ],
          [
           "Community Public Charter",
           "Democrat"
          ],
          [
           "Johnston Charter Academy",
           "Tie"
          ],
          [
           "Rolesville Charter Academy",
           "Tie"
          ],
          [
           "The Mountain Community Sch",
           "Tie"
          ],
          [
           "FernLeaf",
           "Democrat"
          ],
          [
           "American Renaissance School",
           "Tie"
          ],
          [
           "Success Institute Charter",
           "Tie"
          ],
          [
           "Pine Lake Preparatory",
           "Democrat"
          ],
          [
           "Neuse Charter School",
           "Republican"
          ],
          [
           "Lincoln Charter School",
           "Republican"
          ],
          [
           "West Lake Preparatory Academy",
           "Democrat"
          ],
          [
           "Cape Fear Center for Inquiry",
           "Democrat"
          ],
          [
           "Wilmington Preparatory Academy",
           "Democrat"
          ],
          [
           "Island Montessori Charter School",
           "Tie"
          ],
          [
           "Girls Leadership Academy of Wilmington",
           "Tie"
          ],
          [
           "Wilmington School of the Arts",
           "Democrat"
          ],
          [
           "Z.E.C.A. School of Arts and Technology",
           "Democrat"
          ],
          [
           "Uwharrie Charter Academy",
           "Republican"
          ],
          [
           "Bethany Community School",
           "Republican"
          ],
          [
           "Faith Academy Charter School",
           "Republican"
          ],
          [
           "Thomas Jefferson Class Academy",
           "Republican"
          ],
          [
           "Lake Lure Classical Academy",
           "Republican"
          ],
          [
           "Gray Stone Day",
           "Tie"
          ],
          [
           "Brevard Academy",
           "Republican"
          ],
          [
           "The Exploris School",
           "Democrat"
          ],
          [
           "Sterling Montessori Academy",
           "Democrat"
          ],
          [
           "Franklin Academy",
           "Tie"
          ],
          [
           "East Wake Academy",
           "Tie"
          ],
          [
           "Raleigh Charter High School",
           "Democrat"
          ],
          [
           "Quest Academy",
           "Tie"
          ],
          [
           "Southern Wake Academy",
           "Tie"
          ],
          [
           "Casa Esperanza Montessori Charter School",
           "Democrat"
          ],
          [
           "Endeavor Charter School",
           "Democrat"
          ],
          [
           "Triangle Math and Science Academy",
           "Democrat"
          ],
          [
           "Longleaf School of the Arts",
           "Democrat"
          ],
          [
           "Cardinal Charter Academy",
           "Republican"
          ],
          [
           "Envision Science Academy",
           "Democrat"
          ],
          [
           "Central Wake High School",
           "Democrat"
          ],
          [
           "Pine Springs Preparatory Academy",
           "Republican"
          ],
          [
           "Raleigh Oak Charter",
           "Tie"
          ],
          [
           "Cardinal Charter Acad at Wendell Falls",
           "Republican"
          ],
          [
           "Doral Academy of North Carolina",
           "Tie"
          ],
          [
           "The Math and Science Academy of Apex",
           "Democrat"
          ],
          [
           "Wake Forest Charter Academy",
           "Democrat"
          ],
          [
           "Iredell Charter Academy",
           "Republican"
          ],
          [
           "American Leadership Academy-Coastal",
           "Republican"
          ],
          [
           "NC Leadership Charter Academy",
           "Republican"
          ],
          [
           "Langtree Charter Academy",
           "Republican"
          ],
          [
           "Classical Charter Schools of Southport",
           "Republican"
          ],
          [
           "Classical Charter Schools of Wilmington",
           "Republican"
          ],
          [
           "Forsyth Academy",
           "Democrat"
          ],
          [
           "Classical Charter Schools of Whiteville",
           "Republican"
          ],
          [
           "Classical Charter Schools of Leland ",
           "Republican"
          ],
          [
           "Carolina Charter Academy",
           "Republican"
          ],
          [
           "Peak Charter Academy",
           "Tie"
          ],
          [
           "Tillery Charter Academy",
           "Democrat"
          ],
          [
           "American Leadership Academy - Johnston",
           "Tie"
          ],
          [
           "Mountain Discovery",
           "Democrat"
          ],
          [
           "Shining Rock Classical Academy",
           "Tie"
          ],
          [
           "Magellan Charter",
           "Tie"
          ],
          [
           "RISE Southeast Raleigh Charter",
           "Democrat"
          ],
          [
           "PreEminent Charter",
           "Democrat"
          ]
         ],
         "hovertemplate": "district_political_affiliation=Republican<br>x=%{x}<br>y=%{y}<br>schoolname=%{customdata[0]}<br>charter_political_affiliation=%{customdata[1]}<extra></extra>",
         "legendgroup": "Republican",
         "marker": {
          "color": "red",
          "symbol": "circle"
         },
         "mode": "markers",
         "name": "Republican",
         "orientation": "v",
         "showlegend": true,
         "type": "scatter",
         "x": [
          1.7167872190475464,
          -1.8519611358642578,
          -3.1102824211120605,
          1.2134169340133667,
          -0.3670192360877991,
          -12.23618221282959,
          1.0399067401885986,
          -9.494245529174805,
          6.901375770568848,
          -6.712580680847168,
          12.837700843811035,
          0.17298342287540436,
          -1.6196461915969849,
          7.247232913970947,
          3.5860610008239746,
          -0.7287887334823608,
          -10.935903549194336,
          -10.937128067016602,
          -5.052119255065918,
          -1.8742133378982544,
          -12.2161226272583,
          -7.133650302886963,
          6.468509197235107,
          -4.783349990844727,
          7.315033435821533,
          7.032441139221191,
          7.718313217163086,
          7.505709648132324,
          -7.790003776550293,
          -4.456714153289795,
          0.16401757299900055,
          -1.2318459749221802,
          10.865433692932129,
          -10.3014497756958,
          -2.9798243045806885,
          -12.88668155670166,
          0.5957969427108765,
          -6.675370693206787,
          -10.271595001220703,
          -9.788412094116211,
          -4.217029094696045,
          -8.375123023986816,
          -2.5520458221435547,
          5.411149024963379,
          4.119761943817139,
          -7.592865467071533,
          -5.980886459350586,
          -0.48647040128707886,
          4.284132957458496,
          -2.313931465148926,
          -5.765537261962891,
          2.7313950061798096,
          -12.709671974182129,
          -3.533900260925293,
          -1.579767107963562,
          -5.756804466247559,
          -1.6589605808258057,
          -7.04252815246582,
          10.30361270904541,
          7.887875080108643,
          -1.269570231437683,
          4.025437355041504,
          9.212838172912598,
          -0.4690764844417572,
          -0.4690815508365631,
          -1.4129916429519653,
          -0.4690815508365631,
          -0.4690815508365631,
          9.24834156036377,
          -2.691641092300415,
          0.8927382230758667,
          -7.278528690338135,
          7.402247905731201,
          2.2020199298858643,
          8.770554542541504,
          -5.524862289428711,
          10.495085716247559
         ],
         "xaxis": "x",
         "y": [
          -7.745540618896484,
          -4.102316379547119,
          -1.1491848230361938,
          -0.6352453231811523,
          2.8294761180877686,
          -0.3643515408039093,
          7.491138458251953,
          -4.911843776702881,
          1.6914012432098389,
          -4.4908671379089355,
          -0.41231924295425415,
          3.27002215385437,
          1.5529993772506714,
          4.665909290313721,
          0.6237510442733765,
          -1.1212102174758911,
          3.0020036697387695,
          3.0024821758270264,
          -1.0806304216384888,
          6.797411918640137,
          -0.5512729287147522,
          3.463085412979126,
          -7.427835464477539,
          -2.259549140930176,
          -0.42316049337387085,
          -6.974465847015381,
          -3.289233446121216,
          -6.293911933898926,
          2.4997668266296387,
          -0.03452557325363159,
          3.898507595062256,
          4.283167839050293,
          -2.9560744762420654,
          8.242473602294922,
          0.08571050316095352,
          0.316744327545166,
          0.5457547903060913,
          1.201460838317871,
          8.23259162902832,
          -2.7782657146453857,
          2.6066269874572754,
          0.9283508062362671,
          0.5102396011352539,
          1.3665564060211182,
          4.976315498352051,
          0.3269462585449219,
          5.886789798736572,
          1.9066493511199951,
          7.844452381134033,
          1.4709160327911377,
          -0.013850649818778038,
          4.8859333992004395,
          -4.532573699951172,
          -2.278322219848633,
          3.3864314556121826,
          -0.005615958943963051,
          -1.8543243408203125,
          1.898771047592163,
          -2.7853026390075684,
          1.438561201095581,
          -9.457935333251953,
          -9.36867618560791,
          -1.0086266994476318,
          11.767337799072266,
          11.76734733581543,
          -5.587339401245117,
          11.76734733581543,
          11.76734733581543,
          -2.5238142013549805,
          -6.397210597991943,
          -3.632105588912964,
          -4.084600925445557,
          4.208034038543701,
          -1.864592432975769,
          3.7142794132232666,
          -7.62701416015625,
          1.3082008361816406
         ],
         "yaxis": "y"
        }
       ],
       "layout": {
        "legend": {
         "title": {
          "text": "district_political_affiliation"
         },
         "tracegroupgap": 0
        },
        "margin": {
         "t": 60
        },
        "template": {
         "data": {
          "bar": [
           {
            "error_x": {
             "color": "#2a3f5f"
            },
            "error_y": {
             "color": "#2a3f5f"
            },
            "marker": {
             "line": {
              "color": "#E5ECF6",
              "width": 0.5
             },
             "pattern": {
              "fillmode": "overlay",
              "size": 10,
              "solidity": 0.2
             }
            },
            "type": "bar"
           }
          ],
          "barpolar": [
           {
            "marker": {
             "line": {
              "color": "#E5ECF6",
              "width": 0.5
             },
             "pattern": {
              "fillmode": "overlay",
              "size": 10,
              "solidity": 0.2
             }
            },
            "type": "barpolar"
           }
          ],
          "carpet": [
           {
            "aaxis": {
             "endlinecolor": "#2a3f5f",
             "gridcolor": "white",
             "linecolor": "white",
             "minorgridcolor": "white",
             "startlinecolor": "#2a3f5f"
            },
            "baxis": {
             "endlinecolor": "#2a3f5f",
             "gridcolor": "white",
             "linecolor": "white",
             "minorgridcolor": "white",
             "startlinecolor": "#2a3f5f"
            },
            "type": "carpet"
           }
          ],
          "choropleth": [
           {
            "colorbar": {
             "outlinewidth": 0,
             "ticks": ""
            },
            "type": "choropleth"
           }
          ],
          "contour": [
           {
            "colorbar": {
             "outlinewidth": 0,
             "ticks": ""
            },
            "colorscale": [
             [
              0,
              "#0d0887"
             ],
             [
              0.1111111111111111,
              "#46039f"
             ],
             [
              0.2222222222222222,
              "#7201a8"
             ],
             [
              0.3333333333333333,
              "#9c179e"
             ],
             [
              0.4444444444444444,
              "#bd3786"
             ],
             [
              0.5555555555555556,
              "#d8576b"
             ],
             [
              0.6666666666666666,
              "#ed7953"
             ],
             [
              0.7777777777777778,
              "#fb9f3a"
             ],
             [
              0.8888888888888888,
              "#fdca26"
             ],
             [
              1,
              "#f0f921"
             ]
            ],
            "type": "contour"
           }
          ],
          "contourcarpet": [
           {
            "colorbar": {
             "outlinewidth": 0,
             "ticks": ""
            },
            "type": "contourcarpet"
           }
          ],
          "heatmap": [
           {
            "colorbar": {
             "outlinewidth": 0,
             "ticks": ""
            },
            "colorscale": [
             [
              0,
              "#0d0887"
             ],
             [
              0.1111111111111111,
              "#46039f"
             ],
             [
              0.2222222222222222,
              "#7201a8"
             ],
             [
              0.3333333333333333,
              "#9c179e"
             ],
             [
              0.4444444444444444,
              "#bd3786"
             ],
             [
              0.5555555555555556,
              "#d8576b"
             ],
             [
              0.6666666666666666,
              "#ed7953"
             ],
             [
              0.7777777777777778,
              "#fb9f3a"
             ],
             [
              0.8888888888888888,
              "#fdca26"
             ],
             [
              1,
              "#f0f921"
             ]
            ],
            "type": "heatmap"
           }
          ],
          "heatmapgl": [
           {
            "colorbar": {
             "outlinewidth": 0,
             "ticks": ""
            },
            "colorscale": [
             [
              0,
              "#0d0887"
             ],
             [
              0.1111111111111111,
              "#46039f"
             ],
             [
              0.2222222222222222,
              "#7201a8"
             ],
             [
              0.3333333333333333,
              "#9c179e"
             ],
             [
              0.4444444444444444,
              "#bd3786"
             ],
             [
              0.5555555555555556,
              "#d8576b"
             ],
             [
              0.6666666666666666,
              "#ed7953"
             ],
             [
              0.7777777777777778,
              "#fb9f3a"
             ],
             [
              0.8888888888888888,
              "#fdca26"
             ],
             [
              1,
              "#f0f921"
             ]
            ],
            "type": "heatmapgl"
           }
          ],
          "histogram": [
           {
            "marker": {
             "pattern": {
              "fillmode": "overlay",
              "size": 10,
              "solidity": 0.2
             }
            },
            "type": "histogram"
           }
          ],
          "histogram2d": [
           {
            "colorbar": {
             "outlinewidth": 0,
             "ticks": ""
            },
            "colorscale": [
             [
              0,
              "#0d0887"
             ],
             [
              0.1111111111111111,
              "#46039f"
             ],
             [
              0.2222222222222222,
              "#7201a8"
             ],
             [
              0.3333333333333333,
              "#9c179e"
             ],
             [
              0.4444444444444444,
              "#bd3786"
             ],
             [
              0.5555555555555556,
              "#d8576b"
             ],
             [
              0.6666666666666666,
              "#ed7953"
             ],
             [
              0.7777777777777778,
              "#fb9f3a"
             ],
             [
              0.8888888888888888,
              "#fdca26"
             ],
             [
              1,
              "#f0f921"
             ]
            ],
            "type": "histogram2d"
           }
          ],
          "histogram2dcontour": [
           {
            "colorbar": {
             "outlinewidth": 0,
             "ticks": ""
            },
            "colorscale": [
             [
              0,
              "#0d0887"
             ],
             [
              0.1111111111111111,
              "#46039f"
             ],
             [
              0.2222222222222222,
              "#7201a8"
             ],
             [
              0.3333333333333333,
              "#9c179e"
             ],
             [
              0.4444444444444444,
              "#bd3786"
             ],
             [
              0.5555555555555556,
              "#d8576b"
             ],
             [
              0.6666666666666666,
              "#ed7953"
             ],
             [
              0.7777777777777778,
              "#fb9f3a"
             ],
             [
              0.8888888888888888,
              "#fdca26"
             ],
             [
              1,
              "#f0f921"
             ]
            ],
            "type": "histogram2dcontour"
           }
          ],
          "mesh3d": [
           {
            "colorbar": {
             "outlinewidth": 0,
             "ticks": ""
            },
            "type": "mesh3d"
           }
          ],
          "parcoords": [
           {
            "line": {
             "colorbar": {
              "outlinewidth": 0,
              "ticks": ""
             }
            },
            "type": "parcoords"
           }
          ],
          "pie": [
           {
            "automargin": true,
            "type": "pie"
           }
          ],
          "scatter": [
           {
            "fillpattern": {
             "fillmode": "overlay",
             "size": 10,
             "solidity": 0.2
            },
            "type": "scatter"
           }
          ],
          "scatter3d": [
           {
            "line": {
             "colorbar": {
              "outlinewidth": 0,
              "ticks": ""
             }
            },
            "marker": {
             "colorbar": {
              "outlinewidth": 0,
              "ticks": ""
             }
            },
            "type": "scatter3d"
           }
          ],
          "scattercarpet": [
           {
            "marker": {
             "colorbar": {
              "outlinewidth": 0,
              "ticks": ""
             }
            },
            "type": "scattercarpet"
           }
          ],
          "scattergeo": [
           {
            "marker": {
             "colorbar": {
              "outlinewidth": 0,
              "ticks": ""
             }
            },
            "type": "scattergeo"
           }
          ],
          "scattergl": [
           {
            "marker": {
             "colorbar": {
              "outlinewidth": 0,
              "ticks": ""
             }
            },
            "type": "scattergl"
           }
          ],
          "scattermapbox": [
           {
            "marker": {
             "colorbar": {
              "outlinewidth": 0,
              "ticks": ""
             }
            },
            "type": "scattermapbox"
           }
          ],
          "scatterpolar": [
           {
            "marker": {
             "colorbar": {
              "outlinewidth": 0,
              "ticks": ""
             }
            },
            "type": "scatterpolar"
           }
          ],
          "scatterpolargl": [
           {
            "marker": {
             "colorbar": {
              "outlinewidth": 0,
              "ticks": ""
             }
            },
            "type": "scatterpolargl"
           }
          ],
          "scatterternary": [
           {
            "marker": {
             "colorbar": {
              "outlinewidth": 0,
              "ticks": ""
             }
            },
            "type": "scatterternary"
           }
          ],
          "surface": [
           {
            "colorbar": {
             "outlinewidth": 0,
             "ticks": ""
            },
            "colorscale": [
             [
              0,
              "#0d0887"
             ],
             [
              0.1111111111111111,
              "#46039f"
             ],
             [
              0.2222222222222222,
              "#7201a8"
             ],
             [
              0.3333333333333333,
              "#9c179e"
             ],
             [
              0.4444444444444444,
              "#bd3786"
             ],
             [
              0.5555555555555556,
              "#d8576b"
             ],
             [
              0.6666666666666666,
              "#ed7953"
             ],
             [
              0.7777777777777778,
              "#fb9f3a"
             ],
             [
              0.8888888888888888,
              "#fdca26"
             ],
             [
              1,
              "#f0f921"
             ]
            ],
            "type": "surface"
           }
          ],
          "table": [
           {
            "cells": {
             "fill": {
              "color": "#EBF0F8"
             },
             "line": {
              "color": "white"
             }
            },
            "header": {
             "fill": {
              "color": "#C8D4E3"
             },
             "line": {
              "color": "white"
             }
            },
            "type": "table"
           }
          ]
         },
         "layout": {
          "annotationdefaults": {
           "arrowcolor": "#2a3f5f",
           "arrowhead": 0,
           "arrowwidth": 1
          },
          "autotypenumbers": "strict",
          "coloraxis": {
           "colorbar": {
            "outlinewidth": 0,
            "ticks": ""
           }
          },
          "colorscale": {
           "diverging": [
            [
             0,
             "#8e0152"
            ],
            [
             0.1,
             "#c51b7d"
            ],
            [
             0.2,
             "#de77ae"
            ],
            [
             0.3,
             "#f1b6da"
            ],
            [
             0.4,
             "#fde0ef"
            ],
            [
             0.5,
             "#f7f7f7"
            ],
            [
             0.6,
             "#e6f5d0"
            ],
            [
             0.7,
             "#b8e186"
            ],
            [
             0.8,
             "#7fbc41"
            ],
            [
             0.9,
             "#4d9221"
            ],
            [
             1,
             "#276419"
            ]
           ],
           "sequential": [
            [
             0,
             "#0d0887"
            ],
            [
             0.1111111111111111,
             "#46039f"
            ],
            [
             0.2222222222222222,
             "#7201a8"
            ],
            [
             0.3333333333333333,
             "#9c179e"
            ],
            [
             0.4444444444444444,
             "#bd3786"
            ],
            [
             0.5555555555555556,
             "#d8576b"
            ],
            [
             0.6666666666666666,
             "#ed7953"
            ],
            [
             0.7777777777777778,
             "#fb9f3a"
            ],
            [
             0.8888888888888888,
             "#fdca26"
            ],
            [
             1,
             "#f0f921"
            ]
           ],
           "sequentialminus": [
            [
             0,
             "#0d0887"
            ],
            [
             0.1111111111111111,
             "#46039f"
            ],
            [
             0.2222222222222222,
             "#7201a8"
            ],
            [
             0.3333333333333333,
             "#9c179e"
            ],
            [
             0.4444444444444444,
             "#bd3786"
            ],
            [
             0.5555555555555556,
             "#d8576b"
            ],
            [
             0.6666666666666666,
             "#ed7953"
            ],
            [
             0.7777777777777778,
             "#fb9f3a"
            ],
            [
             0.8888888888888888,
             "#fdca26"
            ],
            [
             1,
             "#f0f921"
            ]
           ]
          },
          "colorway": [
           "#636efa",
           "#EF553B",
           "#00cc96",
           "#ab63fa",
           "#FFA15A",
           "#19d3f3",
           "#FF6692",
           "#B6E880",
           "#FF97FF",
           "#FECB52"
          ],
          "font": {
           "color": "#2a3f5f"
          },
          "geo": {
           "bgcolor": "white",
           "lakecolor": "white",
           "landcolor": "#E5ECF6",
           "showlakes": true,
           "showland": true,
           "subunitcolor": "white"
          },
          "hoverlabel": {
           "align": "left"
          },
          "hovermode": "closest",
          "mapbox": {
           "style": "light"
          },
          "paper_bgcolor": "white",
          "plot_bgcolor": "#E5ECF6",
          "polar": {
           "angularaxis": {
            "gridcolor": "white",
            "linecolor": "white",
            "ticks": ""
           },
           "bgcolor": "#E5ECF6",
           "radialaxis": {
            "gridcolor": "white",
            "linecolor": "white",
            "ticks": ""
           }
          },
          "scene": {
           "xaxis": {
            "backgroundcolor": "#E5ECF6",
            "gridcolor": "white",
            "gridwidth": 2,
            "linecolor": "white",
            "showbackground": true,
            "ticks": "",
            "zerolinecolor": "white"
           },
           "yaxis": {
            "backgroundcolor": "#E5ECF6",
            "gridcolor": "white",
            "gridwidth": 2,
            "linecolor": "white",
            "showbackground": true,
            "ticks": "",
            "zerolinecolor": "white"
           },
           "zaxis": {
            "backgroundcolor": "#E5ECF6",
            "gridcolor": "white",
            "gridwidth": 2,
            "linecolor": "white",
            "showbackground": true,
            "ticks": "",
            "zerolinecolor": "white"
           }
          },
          "shapedefaults": {
           "line": {
            "color": "#2a3f5f"
           }
          },
          "ternary": {
           "aaxis": {
            "gridcolor": "white",
            "linecolor": "white",
            "ticks": ""
           },
           "baxis": {
            "gridcolor": "white",
            "linecolor": "white",
            "ticks": ""
           },
           "bgcolor": "#E5ECF6",
           "caxis": {
            "gridcolor": "white",
            "linecolor": "white",
            "ticks": ""
           }
          },
          "title": {
           "x": 0.05
          },
          "xaxis": {
           "automargin": true,
           "gridcolor": "white",
           "linecolor": "white",
           "ticks": "",
           "title": {
            "standoff": 15
           },
           "zerolinecolor": "white",
           "zerolinewidth": 2
          },
          "yaxis": {
           "automargin": true,
           "gridcolor": "white",
           "linecolor": "white",
           "ticks": "",
           "title": {
            "standoff": 15
           },
           "zerolinecolor": "white",
           "zerolinewidth": 2
          }
         }
        },
        "xaxis": {
         "anchor": "y",
         "domain": [
          0,
          1
         ],
         "title": {
          "text": "x"
         }
        },
        "yaxis": {
         "anchor": "x",
         "domain": [
          0,
          1
         ],
         "title": {
          "text": "y"
         }
        }
       }
      }
     },
     "metadata": {},
     "output_type": "display_data"
    }
   ],
   "source": [
    "fig = px.scatter(df_2d, x='x', y='y', color='district_political_affiliation',color_discrete_map=color_discrete_map, hover_data=['schoolname', 'charter_political_affiliation'])\n",
    "fig.show()"
   ]
  },
  {
   "cell_type": "code",
   "execution_count": null,
   "metadata": {},
   "outputs": [],
   "source": []
  }
 ],
 "metadata": {
  "kernelspec": {
   "display_name": "charter",
   "language": "python",
   "name": "python3"
  },
  "language_info": {
   "codemirror_mode": {
    "name": "ipython",
    "version": 3
   },
   "file_extension": ".py",
   "mimetype": "text/x-python",
   "name": "python",
   "nbconvert_exporter": "python",
   "pygments_lexer": "ipython3",
   "version": "3.10.10"
  },
  "orig_nbformat": 4
 },
 "nbformat": 4,
 "nbformat_minor": 2
}
