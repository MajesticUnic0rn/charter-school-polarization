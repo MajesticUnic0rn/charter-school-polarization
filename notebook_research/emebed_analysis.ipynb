{
 "cells": [
  {
   "cell_type": "code",
   "execution_count": 115,
   "metadata": {},
   "outputs": [],
   "source": [
    "# import packages\n",
    "import matplotlib.pyplot as plt\n",
    "from sklearn.manifold import TSNE\n",
    "import plotly.express as px\n",
    "import numpy as np\n",
    "import pandas as pd"
   ]
  },
  {
   "cell_type": "code",
   "execution_count": 116,
   "metadata": {},
   "outputs": [],
   "source": [
    "import pandas as pd \n",
    "import numpy as np\n",
    "import openai\n",
    "import os\n",
    "import langchain\n",
    "import faiss # defunct needs to be removed\n",
    "from langchain.vectorstores import FAISS # defunct needs to be removed\n",
    "from langchain.vectorstores import Chroma\n",
    "from langchain.embeddings import OpenAIEmbeddings\n",
    "from langchain.text_splitter import CharacterTextSplitter\n",
    "import pickle\n",
    "from langchain.chat_models import ChatOpenAI\n",
    "#from langchain.chains import VectorDBQAWithSourcesChain\n",
    "from langchain.chains import RetrievalQAWithSourcesChain\n",
    "from langchain import OpenAI\n",
    "from langchain.vectorstores import Chroma\n",
    "import time\n",
    "\n",
    "import matplotlib\n",
    "\n",
    "import dotenv\n",
    "from dotenv import load_dotenv\n",
    "load_dotenv()\n",
    "# load the .env file\n",
    "dotenv.load_dotenv()\n",
    "# add the api key to the environment\n",
    "openai.api_key = os.environ[\"OPENAI_API_KEY\"]\n"
   ]
  },
  {
   "cell_type": "code",
   "execution_count": 3,
   "metadata": {},
   "outputs": [],
   "source": [
    "#import data \n",
    "complete_emebed_party = pd.read_csv('../processed_data/complete_emebed_party.csv')"
   ]
  },
  {
   "cell_type": "code",
   "execution_count": 10,
   "metadata": {},
   "outputs": [
    {
     "data": {
      "text/plain": [
       "Index(['schoolname', 'mission_statement', 'mission_statement_shorten',\n",
       "       'ada_embedding', 'countydescription', 'political_afil',\n",
       "       'extract_name_clean_list', 'principal/directoremail', 'website',\n",
       "       'board_of_directors_link', 'link_domain_match', 'director_first_last',\n",
       "       'cleaner_names', 'zipcode', 'political_affilation', 'postal_code',\n",
       "       'latitude', 'longitude', 'count_dem', 'count_rep', 'count_una',\n",
       "       'district_count_dem', 'district_count_rep', 'district_count_una',\n",
       "       'charter_majority_party', 'district_majority_party'],\n",
       "      dtype='object')"
      ]
     },
     "execution_count": 10,
     "metadata": {},
     "output_type": "execute_result"
    }
   ],
   "source": [
    "complete_emebed_party.columns"
   ]
  },
  {
   "cell_type": "code",
   "execution_count": 104,
   "metadata": {},
   "outputs": [
    {
     "data": {
      "text/html": [
       "<div>\n",
       "<style scoped>\n",
       "    .dataframe tbody tr th:only-of-type {\n",
       "        vertical-align: middle;\n",
       "    }\n",
       "\n",
       "    .dataframe tbody tr th {\n",
       "        vertical-align: top;\n",
       "    }\n",
       "\n",
       "    .dataframe thead th {\n",
       "        text-align: right;\n",
       "    }\n",
       "</style>\n",
       "<table border=\"1\" class=\"dataframe\">\n",
       "  <thead>\n",
       "    <tr style=\"text-align: right;\">\n",
       "      <th></th>\n",
       "      <th>schoolname</th>\n",
       "      <th>mission_statement</th>\n",
       "      <th>mission_statement_shorten</th>\n",
       "      <th>ada_embedding</th>\n",
       "      <th>countydescription</th>\n",
       "      <th>political_afil</th>\n",
       "      <th>extract_name_clean_list</th>\n",
       "      <th>principal/directoremail</th>\n",
       "      <th>website</th>\n",
       "      <th>board_of_directors_link</th>\n",
       "      <th>...</th>\n",
       "      <th>longitude</th>\n",
       "      <th>count_dem</th>\n",
       "      <th>count_rep</th>\n",
       "      <th>count_una</th>\n",
       "      <th>district_count_dem</th>\n",
       "      <th>district_count_rep</th>\n",
       "      <th>district_count_una</th>\n",
       "      <th>charter_majority_party</th>\n",
       "      <th>district_majority_party</th>\n",
       "      <th>Cluster</th>\n",
       "    </tr>\n",
       "  </thead>\n",
       "  <tbody>\n",
       "    <tr>\n",
       "      <th>0</th>\n",
       "      <td>North Carolina Cyber Academy</td>\n",
       "      <td>The mission of the school is to ensure that ea...</td>\n",
       "      <td>NaN</td>\n",
       "      <td>[-0.022048141807317734, 0.012611066922545433, ...</td>\n",
       "      <td>Durham</td>\n",
       "      <td>['DEM', 'UNA', 'DEM', 'DEM', 'DEM', 'DEM', 'DEM']</td>\n",
       "      <td>['Bettina Umstead', ' Emily Chavez', ' Natalie...</td>\n",
       "      <td>mhill@myncca.com</td>\n",
       "      <td>myncca.com</td>\n",
       "      <td>https://www.myncca.com/our-school-board</td>\n",
       "      <td>...</td>\n",
       "      <td>-78.9178</td>\n",
       "      <td>5</td>\n",
       "      <td>2</td>\n",
       "      <td>0</td>\n",
       "      <td>6</td>\n",
       "      <td>0</td>\n",
       "      <td>1</td>\n",
       "      <td>Democrat</td>\n",
       "      <td>Democrat</td>\n",
       "      <td>1</td>\n",
       "    </tr>\n",
       "    <tr>\n",
       "      <th>1</th>\n",
       "      <td>NC Virtual Academy</td>\n",
       "      <td>The vision of the school is to be a rich schoo...</td>\n",
       "      <td>The mission statement of the school for studen...</td>\n",
       "      <td>[0.0047307563945651054, 0.0009017903357744217,...</td>\n",
       "      <td>Durham</td>\n",
       "      <td>['DEM', 'UNA', 'DEM', 'DEM', 'DEM', 'DEM', 'DEM']</td>\n",
       "      <td>['Bettina Umstead', ' Emily Chavez', ' Natalie...</td>\n",
       "      <td>kgomersall@ncvacademy.org</td>\n",
       "      <td>ncvacademy.org</td>\n",
       "      <td>https://ncva.k12.com/about-our-school/board-of...</td>\n",
       "      <td>...</td>\n",
       "      <td>-78.9178</td>\n",
       "      <td>2</td>\n",
       "      <td>2</td>\n",
       "      <td>2</td>\n",
       "      <td>6</td>\n",
       "      <td>0</td>\n",
       "      <td>1</td>\n",
       "      <td>Tie</td>\n",
       "      <td>Democrat</td>\n",
       "      <td>1</td>\n",
       "    </tr>\n",
       "    <tr>\n",
       "      <th>2</th>\n",
       "      <td>Maureen Joy Charter School</td>\n",
       "      <td>The vision/mission of the school for students ...</td>\n",
       "      <td>The mission statement of the school for studen...</td>\n",
       "      <td>[-0.006839691661298275, 0.003196117701008916, ...</td>\n",
       "      <td>Durham</td>\n",
       "      <td>['DEM', 'UNA', 'DEM', 'DEM', 'DEM', 'DEM', 'DEM']</td>\n",
       "      <td>['Bettina Umstead', ' Emily Chavez', ' Natalie...</td>\n",
       "      <td>Dcannon@joycharter.org</td>\n",
       "      <td>joycharter.org</td>\n",
       "      <td>https://www.joycharter.org/board</td>\n",
       "      <td>...</td>\n",
       "      <td>-78.8439</td>\n",
       "      <td>6</td>\n",
       "      <td>1</td>\n",
       "      <td>2</td>\n",
       "      <td>6</td>\n",
       "      <td>0</td>\n",
       "      <td>1</td>\n",
       "      <td>Democrat</td>\n",
       "      <td>Democrat</td>\n",
       "      <td>1</td>\n",
       "    </tr>\n",
       "    <tr>\n",
       "      <th>3</th>\n",
       "      <td>Durham Charter School</td>\n",
       "      <td>The vision of Durham Charter School is to prep...</td>\n",
       "      <td>The mission statement of Durham Charter School...</td>\n",
       "      <td>[0.007524167187511921, 0.00907169096171856, -0...</td>\n",
       "      <td>Durham</td>\n",
       "      <td>['DEM', 'UNA', 'DEM', 'DEM', 'DEM', 'DEM', 'DEM']</td>\n",
       "      <td>['Bettina Umstead', ' Emily Chavez', ' Natalie...</td>\n",
       "      <td>aquigley@durhamcharter.org</td>\n",
       "      <td>durhamcharter.org</td>\n",
       "      <td>https://www.durhamcharter.org/board-of-directors/</td>\n",
       "      <td>...</td>\n",
       "      <td>-78.8966</td>\n",
       "      <td>2</td>\n",
       "      <td>4</td>\n",
       "      <td>4</td>\n",
       "      <td>6</td>\n",
       "      <td>0</td>\n",
       "      <td>1</td>\n",
       "      <td>Republican</td>\n",
       "      <td>Democrat</td>\n",
       "      <td>0</td>\n",
       "    </tr>\n",
       "    <tr>\n",
       "      <th>4</th>\n",
       "      <td>Community School of Digital &amp; Visual Art</td>\n",
       "      <td>The mission of the school is to build students...</td>\n",
       "      <td>The mission statement of the school for studen...</td>\n",
       "      <td>[-0.001325286808423698, 0.011081067845225334, ...</td>\n",
       "      <td>Durham</td>\n",
       "      <td>['DEM', 'UNA', 'DEM', 'DEM', 'DEM', 'DEM', 'DEM']</td>\n",
       "      <td>['Bettina Umstead', ' Emily Chavez', ' Natalie...</td>\n",
       "      <td>OAdeniyi@communitydva.org</td>\n",
       "      <td>communitydva.org</td>\n",
       "      <td>https://www.communitydva.org/</td>\n",
       "      <td>...</td>\n",
       "      <td>-78.9478</td>\n",
       "      <td>5</td>\n",
       "      <td>0</td>\n",
       "      <td>1</td>\n",
       "      <td>6</td>\n",
       "      <td>0</td>\n",
       "      <td>1</td>\n",
       "      <td>Democrat</td>\n",
       "      <td>Democrat</td>\n",
       "      <td>1</td>\n",
       "    </tr>\n",
       "  </tbody>\n",
       "</table>\n",
       "<p>5 rows × 27 columns</p>\n",
       "</div>"
      ],
      "text/plain": [
       "                                 schoolname  \\\n",
       "0              North Carolina Cyber Academy   \n",
       "1                        NC Virtual Academy   \n",
       "2                Maureen Joy Charter School   \n",
       "3                     Durham Charter School   \n",
       "4  Community School of Digital & Visual Art   \n",
       "\n",
       "                                   mission_statement  \\\n",
       "0  The mission of the school is to ensure that ea...   \n",
       "1  The vision of the school is to be a rich schoo...   \n",
       "2  The vision/mission of the school for students ...   \n",
       "3  The vision of Durham Charter School is to prep...   \n",
       "4  The mission of the school is to build students...   \n",
       "\n",
       "                           mission_statement_shorten  \\\n",
       "0                                                NaN   \n",
       "1  The mission statement of the school for studen...   \n",
       "2  The mission statement of the school for studen...   \n",
       "3  The mission statement of Durham Charter School...   \n",
       "4  The mission statement of the school for studen...   \n",
       "\n",
       "                                       ada_embedding countydescription  \\\n",
       "0  [-0.022048141807317734, 0.012611066922545433, ...            Durham   \n",
       "1  [0.0047307563945651054, 0.0009017903357744217,...            Durham   \n",
       "2  [-0.006839691661298275, 0.003196117701008916, ...            Durham   \n",
       "3  [0.007524167187511921, 0.00907169096171856, -0...            Durham   \n",
       "4  [-0.001325286808423698, 0.011081067845225334, ...            Durham   \n",
       "\n",
       "                                      political_afil  \\\n",
       "0  ['DEM', 'UNA', 'DEM', 'DEM', 'DEM', 'DEM', 'DEM']   \n",
       "1  ['DEM', 'UNA', 'DEM', 'DEM', 'DEM', 'DEM', 'DEM']   \n",
       "2  ['DEM', 'UNA', 'DEM', 'DEM', 'DEM', 'DEM', 'DEM']   \n",
       "3  ['DEM', 'UNA', 'DEM', 'DEM', 'DEM', 'DEM', 'DEM']   \n",
       "4  ['DEM', 'UNA', 'DEM', 'DEM', 'DEM', 'DEM', 'DEM']   \n",
       "\n",
       "                             extract_name_clean_list  \\\n",
       "0  ['Bettina Umstead', ' Emily Chavez', ' Natalie...   \n",
       "1  ['Bettina Umstead', ' Emily Chavez', ' Natalie...   \n",
       "2  ['Bettina Umstead', ' Emily Chavez', ' Natalie...   \n",
       "3  ['Bettina Umstead', ' Emily Chavez', ' Natalie...   \n",
       "4  ['Bettina Umstead', ' Emily Chavez', ' Natalie...   \n",
       "\n",
       "      principal/directoremail            website  \\\n",
       "0            mhill@myncca.com         myncca.com   \n",
       "1   kgomersall@ncvacademy.org     ncvacademy.org   \n",
       "2      Dcannon@joycharter.org     joycharter.org   \n",
       "3  aquigley@durhamcharter.org  durhamcharter.org   \n",
       "4   OAdeniyi@communitydva.org   communitydva.org   \n",
       "\n",
       "                             board_of_directors_link  ...  longitude  \\\n",
       "0            https://www.myncca.com/our-school-board  ...   -78.9178   \n",
       "1  https://ncva.k12.com/about-our-school/board-of...  ...   -78.9178   \n",
       "2                   https://www.joycharter.org/board  ...   -78.8439   \n",
       "3  https://www.durhamcharter.org/board-of-directors/  ...   -78.8966   \n",
       "4                      https://www.communitydva.org/  ...   -78.9478   \n",
       "\n",
       "  count_dem count_rep  count_una district_count_dem  district_count_rep  \\\n",
       "0         5         2          0                  6                   0   \n",
       "1         2         2          2                  6                   0   \n",
       "2         6         1          2                  6                   0   \n",
       "3         2         4          4                  6                   0   \n",
       "4         5         0          1                  6                   0   \n",
       "\n",
       "   district_count_una  charter_majority_party  district_majority_party  \\\n",
       "0                   1                Democrat                 Democrat   \n",
       "1                   1                     Tie                 Democrat   \n",
       "2                   1                Democrat                 Democrat   \n",
       "3                   1              Republican                 Democrat   \n",
       "4                   1                Democrat                 Democrat   \n",
       "\n",
       "   Cluster  \n",
       "0        1  \n",
       "1        1  \n",
       "2        1  \n",
       "3        0  \n",
       "4        1  \n",
       "\n",
       "[5 rows x 27 columns]"
      ]
     },
     "execution_count": 104,
     "metadata": {},
     "output_type": "execute_result"
    }
   ],
   "source": [
    "complete_emebed_party.head()"
   ]
  },
  {
   "cell_type": "code",
   "execution_count": 12,
   "metadata": {},
   "outputs": [],
   "source": [
    "# Create a t-SNE model and transform the data\n",
    "#complete_emebed_party['ada_embedding'] = complete_emebed_party['ada_embedding'].apply(eval)\n",
    "embeddings = np.stack(complete_emebed_party['ada_embedding'].values)  # convert embeddings to numpy array\n",
    "school_names = complete_emebed_party['schoolname'].values\n",
    "charter_pol_affiliation = complete_emebed_party['charter_majority_party'].values  # replace with actual column name\n",
    "district_pol_affiliation = complete_emebed_party['district_majority_party'].values  # replace with actual column name\n",
    "country_description = complete_emebed_party['countydescription'].values\n",
    "\n",
    "# Apply t-SNE to the embeddings\n",
    "tsne = TSNE(n_components=2, random_state=42)\n",
    "embeddings_2d = tsne.fit_transform(embeddings)\n",
    "\n",
    "# Convert the 2D embeddings to a DataFrame\n",
    "df_2d = pd.DataFrame(embeddings_2d, columns=['x', 'y'])\n",
    "df_2d['schoolname'] = school_names\n",
    "df_2d['charter_political_affiliation'] = charter_pol_affiliation\n",
    "df_2d['district_political_affiliation'] = district_pol_affiliation\n",
    "df_2d['countydescription'] = country_description\n",
    "\n",
    "#define color scheme \n",
    "color_discrete_map = {'Democrat':'blue', 'Republican':'red', 'Tie': 'green'}"
   ]
  },
  {
   "cell_type": "code",
   "execution_count": 23,
   "metadata": {},
   "outputs": [
    {
     "data": {
      "application/vnd.plotly.v1+json": {
       "config": {
        "plotlyServerURL": "https://plot.ly"
       },
       "data": [
        {
         "customdata": [
          [
           "North Carolina Cyber Academy",
           "Democrat",
           "Durham"
          ],
          [
           "Maureen Joy Charter School",
           "Democrat",
           "Durham"
          ],
          [
           "Community School of Digital & Visual Art",
           "Democrat",
           "Durham"
          ],
          [
           "Kestrel Heights School",
           "Democrat",
           "Durham"
          ],
          [
           "Voyager Academy",
           "Democrat",
           "Durham"
          ],
          [
           "Global Scholars Academy",
           "Democrat",
           "Durham"
          ],
          [
           "The Institute Development Young Leaders",
           "Democrat",
           "Durham"
          ],
          [
           "Reaching All Minds Academy",
           "Democrat",
           "Durham"
          ],
          [
           "River Mill Academy",
           "Tie",
           "Alamance"
          ],
          [
           "The Hawbridge School",
           "Tie",
           "Alamance"
          ],
          [
           "Alamance Community School",
           "Tie",
           "Alamance"
          ],
          [
           "Emereau: Bladen",
           "Tie",
           "Bladen"
          ],
          [
           "ArtSpace Charter School",
           "Tie",
           "Buncombe"
          ],
          [
           "IC Imagine ",
           "Tie",
           "Buncombe"
          ],
          [
           "Francine Delany New School",
           "Tie",
           "Buncombe"
          ],
          [
           "Carolina International School",
           "Tie",
           "Cabarrus"
          ],
          [
           "A.C.E. Academy",
           "Tie",
           "Cabarrus"
          ],
          [
           "Tiller School",
           "Republican",
           "Carteret"
          ],
          [
           "Willow Oak Montessori",
           "Democrat",
           "Chatham"
          ],
          [
           "Woods Charter",
           "Democrat",
           "Chatham"
          ],
          [
           "Alpha Academy",
           "Democrat",
           "Cumberland"
          ],
          [
           "The Capitol Encore Academy",
           "Democrat",
           "Cumberland"
          ],
          [
           "Water's Edge Village School",
           "Republican",
           "Currituck"
          ],
          [
           "North East Carolina Prep",
           "Democrat",
           "Edgecombe"
          ],
          [
           "Quality Education Academy",
           "Republican",
           "Forsyth"
          ],
          [
           "Carter G. Woodson School",
           "Republican",
           "Forsyth"
          ],
          [
           "Mountain Island Charter School",
           "Republican",
           "Gaston"
          ],
          [
           "Ridgeview Charter School",
           "Republican",
           "Gaston"
          ],
          [
           "Community Public Charter",
           "Republican",
           "Gaston"
          ],
          [
           "Oxford Preparatory",
           "Tie",
           "Granville"
          ],
          [
           "Guilford Preparatory Academy",
           "Democrat",
           "Guilford"
          ],
          [
           "Triad Math and Science Academy",
           "Democrat",
           "Guilford"
          ],
          [
           "Next Generation Academy",
           "Democrat",
           "Guilford"
          ],
          [
           "The Experiential School of Greensboro",
           "Democrat",
           "Guilford"
          ],
          [
           "KIPP Halifax College Preparatory",
           "Democrat",
           "Halifax"
          ],
          [
           "KIPP Charlotte",
           "Democrat",
           "Mecklenburg"
          ],
          [
           "Hobgood Charter School",
           "Democrat",
           "Halifax"
          ],
          [
           "FernLeaf",
           "Republican",
           "Henderson"
          ],
          [
           "Pine Lake Preparatory",
           "Republican",
           "Iredell"
          ],
          [
           "MINA Charter School of Lee County",
           "Democrat",
           "Lee"
          ],
          [
           "Children's Village Academy",
           "Democrat",
           "Lenoir"
          ],
          [
           "West Lake Preparatory Academy",
           "Republican",
           "Lincoln"
          ],
          [
           "Lake Norman Charter",
           "Democrat",
           "Mecklenburg"
          ],
          [
           "Socrates Academy",
           "Democrat",
           "Mecklenburg"
          ],
          [
           "Invest Collegiate Transform",
           "Democrat",
           "Mecklenburg"
          ],
          [
           "Commonwealth High",
           "Democrat",
           "Mecklenburg"
          ],
          [
           "Pioneer Springs Community School",
           "Democrat",
           "Mecklenburg"
          ],
          [
           "United Community School",
           "Democrat",
           "Mecklenburg"
          ],
          [
           "Stewart Creek High",
           "Democrat",
           "Mecklenburg"
          ],
          [
           "Charlotte Lab School",
           "Democrat",
           "Mecklenburg"
          ],
          [
           "TMSA Charlotte",
           "Democrat",
           "Mecklenburg"
          ],
          [
           "Telra Institute",
           "Democrat",
           "Mecklenburg"
          ],
          [
           "Moore Montessori Community School",
           "Tie",
           "Moore"
          ],
          [
           "Cape Fear Center for Inquiry",
           "Republican",
           "New Hanover"
          ],
          [
           "Wilmington Preparatory Academy",
           "Republican",
           "New Hanover"
          ],
          [
           "Wilmington School of the Arts",
           "Republican",
           "New Hanover"
          ],
          [
           "Z.E.C.A. School of Arts and Technology",
           "Republican",
           "Onslow"
          ],
          [
           "Northeast Academy of Aerospace & AdvTech",
           "Democrat",
           "Pasquotank"
          ],
          [
           "Henderson Collegiate",
           "Democrat",
           "Vance"
          ],
          [
           "The Exploris School",
           "Republican",
           "Wake"
          ],
          [
           "Sterling Montessori Academy",
           "Republican",
           "Wake"
          ],
          [
           "Raleigh Charter High School",
           "Republican",
           "Wake"
          ],
          [
           "Casa Esperanza Montessori Charter School",
           "Republican",
           "Wake"
          ],
          [
           "Endeavor Charter School",
           "Republican",
           "Wake"
          ],
          [
           "Triangle Math and Science Academy",
           "Republican",
           "Wake"
          ],
          [
           "Longleaf School of the Arts",
           "Republican",
           "Wake"
          ],
          [
           "Envision Science Academy",
           "Republican",
           "Wake"
          ],
          [
           "Central Wake High School",
           "Republican",
           "Wake"
          ],
          [
           "The Math and Science Academy of Apex",
           "Republican",
           "Wake"
          ],
          [
           "Haliwa-Saponi Tribal School",
           "Democrat",
           "Warren"
          ],
          [
           "Wilson Preparatory Academy",
           "Democrat",
           "Wilson"
          ],
          [
           "Wake Forest Charter Academy",
           "Republican",
           "Wake"
          ],
          [
           "Sugar Creek Charter",
           "Democrat",
           "Mecklenburg"
          ],
          [
           "Central Park School For Child",
           "Democrat",
           "Durham"
          ],
          [
           "KIPP Durham College Preparatory",
           "Democrat",
           "Durham"
          ],
          [
           "KIPP Gaston College Preparatory",
           "Democrat",
           "Northampton"
          ],
          [
           "Winterville Charter Academy",
           "Democrat",
           "Pitt"
          ],
          [
           "Forsyth Academy",
           "Republican",
           "Forsyth"
          ],
          [
           "Asheville PEAK Academy",
           "Tie",
           "Buncombe"
          ],
          [
           "Evergreen Community Charter",
           "Tie",
           "Buncombe"
          ],
          [
           "Piedmont Classical High School",
           "Democrat",
           "Guilford"
          ],
          [
           "Tillery Charter Academy",
           "Republican",
           "Montgomery"
          ],
          [
           "Paul R. Brown Leadership Academy",
           "Tie",
           "Bladen"
          ],
          [
           "Two Rivers Community School",
           "Tie",
           "Watauga"
          ],
          [
           "Mountain Discovery",
           "Republican",
           "Swain"
          ],
          [
           "RISE Southeast Raleigh Charter",
           "Republican",
           "Wake"
          ],
          [
           "PreEminent Charter",
           "Republican",
           "Wake"
          ]
         ],
         "hovertemplate": "charter_political_affiliation=Democrat<br>x=%{x}<br>y=%{y}<br>schoolname=%{customdata[0]}<br>district_political_affiliation=%{customdata[1]}<br>countydescription=%{customdata[2]}<extra></extra>",
         "legendgroup": "Democrat",
         "marker": {
          "color": "blue",
          "symbol": "circle"
         },
         "mode": "markers",
         "name": "Democrat",
         "orientation": "v",
         "showlegend": true,
         "type": "scatter",
         "x": [
          -5.9678778648376465,
          -5.109218597412109,
          -5.294691562652588,
          -12.085917472839355,
          -5.819103717803955,
          -4.778939247131348,
          -9.005987167358398,
          -3.186337471008301,
          -0.12611408531665802,
          -2.5245134830474854,
          -1.516463279724121,
          -3.137054681777954,
          0.8981805443763733,
          -3.460073471069336,
          -4.008695602416992,
          5.02237606048584,
          -2.6228749752044678,
          -0.3670192360877991,
          -5.774202823638916,
          12.29245662689209,
          2.4466712474823,
          1.5430107116699219,
          -9.494245529174805,
          5.38203239440918,
          -6.712580680847168,
          12.837700843811035,
          7.247232913970947,
          3.5860610008239746,
          -0.7287887334823608,
          -2.3745782375335693,
          -3.7373406887054443,
          4.240096569061279,
          0.9669196009635925,
          9.49636173248291,
          5.13495397567749,
          5.137234210968018,
          12.450652122497559,
          -1.8742133378982544,
          6.468509197235107,
          8.142488479614258,
          -3.206386089324951,
          7.032441139221191,
          7.4585347175598145,
          -6.264066696166992,
          -3.2056725025177,
          -12.712418556213379,
          -9.653148651123047,
          -0.4212239682674408,
          -12.70761489868164,
          -1.9206076860427856,
          4.984116077423096,
          -5.827939510345459,
          -2.5876028537750244,
          7.718313217163086,
          7.505709648132324,
          0.16401757299900055,
          -1.2318459749221802,
          0.4145127534866333,
          -4.346060752868652,
          -9.788412094116211,
          -4.217029094696045,
          5.411149024963379,
          -5.980886459350586,
          -0.48647040128707886,
          4.284132957458496,
          -2.313931465148926,
          2.7313950061798096,
          -12.709671974182129,
          -7.04252815246582,
          -7.141058444976807,
          7.296125411987305,
          10.30361270904541,
          -5.885551452636719,
          -1.8871179819107056,
          9.546677589416504,
          9.555789947509766,
          10.396679878234863,
          -1.4129916429519653,
          4.219266414642334,
          12.213249206542969,
          2.1181602478027344,
          0.8927382230758667,
          3.947883367538452,
          -7.917572021484375,
          7.402247905731201,
          -5.524862289428711,
          10.495085716247559
         ],
         "xaxis": "x",
         "y": [
          -2.515301465988159,
          2.822366952896118,
          -3.337829828262329,
          -1.1032218933105469,
          9.215150833129883,
          1.3011854887008667,
          4.1639180183410645,
          0.19846747815608978,
          -4.370241165161133,
          1.818022608757019,
          -9.187614440917969,
          -3.8797755241394043,
          3.337646007537842,
          1.7138967514038086,
          2.385502815246582,
          -2.6497390270233154,
          2.420485258102417,
          2.8294761180877686,
          5.584057331085205,
          0.0007560444064438343,
          -8.26952838897705,
          1.906132698059082,
          -4.911843776702881,
          -2.908485174179077,
          -4.4908671379089355,
          -0.41231924295425415,
          4.665909290313721,
          0.6237510442733765,
          -1.1212102174758911,
          -2.6455776691436768,
          -1.0667637586593628,
          7.886144161224365,
          -5.2107672691345215,
          -4.850165843963623,
          0.31649601459503174,
          0.3156871795654297,
          1.0459506511688232,
          6.797411918640137,
          -7.427835464477539,
          0.05006018653512001,
          0.5507705211639404,
          -6.974465847015381,
          -0.08476023375988007,
          1.9738900661468506,
          -4.902813911437988,
          -4.54404354095459,
          1.194826364517212,
          0.5300559997558594,
          -4.54335880279541,
          0.05203097686171532,
          7.054821491241455,
          3.8869469165802,
          3.2896947860717773,
          -3.289233446121216,
          -6.293911933898926,
          3.898507595062256,
          4.283167839050293,
          6.779707431793213,
          -9.534225463867188,
          -2.7782657146453857,
          2.6066269874572754,
          1.3665564060211182,
          5.886789798736572,
          1.9066493511199951,
          7.844452381134033,
          1.4709160327911377,
          4.8859333992004395,
          -4.532573699951172,
          1.898771047592163,
          -1.0943273305892944,
          -6.518858432769775,
          -2.7853026390075684,
          -6.055276870727539,
          -6.616085529327393,
          -8.598915100097656,
          -8.613968849182129,
          -2.6975574493408203,
          -5.587339401245117,
          3.9423134326934814,
          1.0876771211624146,
          -3.8884689807891846,
          -3.632105588912964,
          -9.590010643005371,
          -6.464071273803711,
          4.208034038543701,
          -7.62701416015625,
          1.3082008361816406
         ],
         "yaxis": "y"
        },
        {
         "customdata": [
          [
           "NC Virtual Academy",
           "Democrat",
           "Durham"
          ],
          [
           "Excelsior Classical Academy",
           "Democrat",
           "Durham"
          ],
          [
           "Discovery Charter",
           "Democrat",
           "Durham"
          ],
          [
           "Washington Montessori",
           "Republican",
           "Beaufort"
          ],
          [
           "The Franklin School of Innovation",
           "Tie",
           "Buncombe"
          ],
          [
           "Oak Hill Charter School",
           "Republican",
           "Caldwell"
          ],
          [
           "Pinnacle Classical Academy",
           "Republican",
           "Cleveland"
          ],
          [
           "Thomas Academy",
           "Republican",
           "Columbus"
          ],
          [
           "The Arts Based School",
           "Republican",
           "Forsyth"
          ],
          [
           "Crosscreek Charter School",
           "Democrat",
           "Franklin"
          ],
          [
           "Wake Preparatory Academy",
           "Democrat",
           "Franklin"
          ],
          [
           "Phoenix Academy - Primary, Elem, Upper",
           "Democrat",
           "Guilford"
          ],
          [
           "Johnston Charter Academy",
           "Republican",
           "Johnston"
          ],
          [
           "Rolesville Charter Academy",
           "Republican",
           "Wake"
          ],
          [
           "Cornerstone Charter Academy-CFA",
           "Democrat",
           "Guilford"
          ],
          [
           "College Prep and Leadership Academy",
           "Democrat",
           "Guilford"
          ],
          [
           "Achievement Charter Academy",
           "Democrat",
           "Harnett"
          ],
          [
           "The Mountain Community Sch",
           "Republican",
           "Henderson"
          ],
          [
           "American Renaissance School",
           "Republican",
           "Iredell"
          ],
          [
           "Success Institute Charter",
           "Republican",
           "Iredell"
          ],
          [
           "Metrolina Reg Scholars Academy",
           "Democrat",
           "Mecklenburg"
          ],
          [
           "Community School of Davidson",
           "Democrat",
           "Mecklenburg"
          ],
          [
           "Charlotte Secondary",
           "Democrat",
           "Mecklenburg"
          ],
          [
           "Corvian Community School",
           "Democrat",
           "Mecklenburg"
          ],
          [
           "Eastside STREAM Academy",
           "Democrat",
           "Mecklenburg"
          ],
          [
           "Bradford Preparatory School",
           "Democrat",
           "Mecklenburg"
          ],
          [
           "VERITAS Community School, CFA",
           "Democrat",
           "Mecklenburg"
          ],
          [
           "Mallard Creek STEM Academy",
           "Democrat",
           "Mecklenburg"
          ],
          [
           "East Voyager Academy of Charlotte",
           "Democrat",
           "Mecklenburg"
          ],
          [
           "Jackson Day School",
           "Democrat",
           "Mecklenburg"
          ],
          [
           "Southwest Charlotte STEM Academy",
           "Democrat",
           "Mecklenburg"
          ],
          [
           "STARS Charter",
           "Tie",
           "Moore"
          ],
          [
           "Rocky Mount Preparatory",
           "Democrat",
           "Nash"
          ],
          [
           "Island Montessori Charter School",
           "Republican",
           "New Hanover"
          ],
          [
           "Girls Leadership Academy of Wilmington",
           "Republican",
           "New Hanover"
          ],
          [
           "Eno River Academy",
           "Tie",
           "Orange"
          ],
          [
           "The Expedition School",
           "Tie",
           "Orange"
          ],
          [
           "Arapahoe Charter School",
           "Tie",
           "Pamlico"
          ],
          [
           "CIS Academy",
           "Democrat",
           "Robeson"
          ],
          [
           "Southeastern Academy",
           "Democrat",
           "Robeson"
          ],
          [
           "Old Main STREAM Academy",
           "Democrat",
           "Robeson"
          ],
          [
           "Gray Stone Day",
           "Republican",
           "Stanly"
          ],
          [
           "Union Day School",
           "Tie",
           "Union"
          ],
          [
           "Monroe Charter Academy",
           "Tie",
           "Union"
          ],
          [
           "Vance Charter School",
           "Democrat",
           "Vance"
          ],
          [
           "Franklin Academy",
           "Republican",
           "Wake"
          ],
          [
           "East Wake Academy",
           "Republican",
           "Wake"
          ],
          [
           "Quest Academy",
           "Republican",
           "Wake"
          ],
          [
           "Southern Wake Academy",
           "Republican",
           "Wake"
          ],
          [
           "Raleigh Oak Charter",
           "Republican",
           "Wake"
          ],
          [
           "Doral Academy of North Carolina",
           "Republican",
           "Wake"
          ],
          [
           "Pocosin Innovative Charter",
           "Democrat",
           "Washington"
          ],
          [
           "Dillard Academy",
           "Tie",
           "Wayne"
          ],
          [
           "Wayne Preparatory Academy",
           "Tie",
           "Wayne"
          ],
          [
           "Aristotle Preparatory Academy",
           "Democrat",
           "Mecklenburg"
          ],
          [
           "Sallie B Howard School",
           "Democrat",
           "Wilson"
          ],
          [
           "Chatham Charter",
           "Democrat",
           "Chatham"
          ],
          [
           "Matthews Charter Academy",
           "Democrat",
           "Mecklenburg"
          ],
          [
           "Peak Charter Academy",
           "Republican",
           "Wake"
          ],
          [
           "Research Triangle High School",
           "Democrat",
           "Durham"
          ],
          [
           "Greensboro Academy",
           "Democrat",
           "Guilford"
          ],
          [
           "Bear Grass Charter School",
           "Tie",
           "Martin"
          ],
          [
           "American Leadership Academy - Johnston",
           "Republican",
           "Johnston"
          ],
          [
           "Shining Rock Classical Academy",
           "Republican",
           "Haywood"
          ],
          [
           "Central Carolina Academy",
           "Democrat",
           "Lee"
          ],
          [
           "Magellan Charter",
           "Republican",
           "Wake"
          ],
          [
           "Summit Creek Academy",
           "Democrat",
           "Guilford"
          ]
         ],
         "hovertemplate": "charter_political_affiliation=Tie<br>x=%{x}<br>y=%{y}<br>schoolname=%{customdata[0]}<br>district_political_affiliation=%{customdata[1]}<br>countydescription=%{customdata[2]}<extra></extra>",
         "legendgroup": "Tie",
         "marker": {
          "color": "green",
          "symbol": "circle"
         },
         "mode": "markers",
         "name": "Tie",
         "orientation": "v",
         "showlegend": true,
         "type": "scatter",
         "x": [
          -4.3165364265441895,
          0.3583332598209381,
          7.7061991691589355,
          -1.8519611358642578,
          -3.292644500732422,
          1.2134169340133667,
          -12.23618221282959,
          1.0399067401885986,
          0.17298342287540436,
          -5.317736625671387,
          -3.464925765991211,
          -10.935928344726562,
          -10.935903549194336,
          -10.937128067016602,
          10.273812294006348,
          -3.2265164852142334,
          -0.3114093244075775,
          -5.052119255065918,
          -12.2161226272583,
          -7.133650302886963,
          -5.023800373077393,
          -7.643294811248779,
          -2.050881862640381,
          -8.880578994750977,
          3.4780240058898926,
          -2.6286122798919678,
          -3.7213168144226074,
          -3.2884511947631836,
          -5.8139824867248535,
          2.31837797164917,
          5.42570686340332,
          -1.1110026836395264,
          5.558701038360596,
          -7.790003776550293,
          -4.456714153289795,
          2.3845250606536865,
          -9.520130157470703,
          -8.253399848937988,
          -6.271366119384766,
          -1.6463395357131958,
          -3.7567086219787598,
          -6.675370693206787,
          -4.14954137802124,
          0.9579537510871887,
          -1.3654292821884155,
          -8.375123023986816,
          -2.5520458221435547,
          4.119761943817139,
          -7.592865467071533,
          -1.579767107963562,
          -1.6589605808258057,
          -6.378871917724609,
          -4.804009437561035,
          -1.568363070487976,
          6.011316299438477,
          0.6465839743614197,
          10.093463897705078,
          0.255486398935318,
          -2.691641092300415,
          4.047327518463135,
          9.389337539672852,
          10.393877983093262,
          -7.278528690338135,
          2.2020199298858643,
          8.907598495483398,
          8.770554542541504,
          -11.631204605102539
         ],
         "xaxis": "x",
         "y": [
          1.2550113201141357,
          -0.4362373948097229,
          3.802330255508423,
          -4.102316379547119,
          -2.812572956085205,
          -0.6352453231811523,
          -0.3643515408039093,
          7.491138458251953,
          3.27002215385437,
          1.737053632736206,
          3.092942237854004,
          3.00201153755188,
          3.0020036697387695,
          3.0024821758270264,
          -0.9756535291671753,
          -6.693296432495117,
          -6.8535966873168945,
          -1.0806304216384888,
          -0.5512729287147522,
          3.463085412979126,
          -2.4330596923828125,
          -2.530500888824463,
          -0.6572357416152954,
          -0.7799050211906433,
          4.643894672393799,
          1.4660371541976929,
          0.4186572730541229,
          -2.8073911666870117,
          9.207201957702637,
          0.450644314289093,
          6.811654567718506,
          2.053118944168091,
          -4.277071475982666,
          2.4997668266296387,
          -0.03452557325363159,
          2.5034027099609375,
          -2.5711376667022705,
          5.90212869644165,
          -3.430598020553589,
          -0.9396576285362244,
          -7.300058841705322,
          1.201460838317871,
          6.331262111663818,
          -0.6238420009613037,
          -4.497135639190674,
          0.9283508062362671,
          0.5102396011352539,
          4.976315498352051,
          0.3269462585449219,
          3.3864314556121826,
          -1.8543243408203125,
          -1.1357377767562866,
          -5.1429572105407715,
          0.1440860778093338,
          -5.61818790435791,
          4.765912055969238,
          0.3299918472766876,
          -5.609066009521484,
          -6.397210597991943,
          -0.8534987568855286,
          -4.500011444091797,
          3.416443347930908,
          -4.084600925445557,
          -1.864592432975769,
          -3.103508234024048,
          3.7142794132232666,
          3.110076904296875
         ],
         "yaxis": "y"
        },
        {
         "customdata": [
          [
           "Durham Charter School",
           "Democrat",
           "Durham"
          ],
          [
           "Clover Garden",
           "Tie",
           "Alamance"
          ],
          [
           "Marjorie Williams Academy",
           "Republican",
           "Avery"
          ],
          [
           "New Dimensions",
           "Republican",
           "Burke"
          ],
          [
           "Cabarrus Charter Academy",
           "Tie",
           "Cabarrus"
          ],
          [
           "Concord Lake STEAM Academy",
           "Tie",
           "Cabarrus"
          ],
          [
           "Davidson Charter Academy",
           "Republican",
           "Davidson"
          ],
          [
           "Youngsville Academy",
           "Democrat",
           "Franklin"
          ],
          [
           "Piedmont Community Charter School",
           "Republican",
           "Gaston"
          ],
          [
           "Falls Lake Academy",
           "Tie",
           "Granville"
          ],
          [
           "Anderson Creek Academy",
           "Democrat",
           "Harnett"
          ],
          [
           "Summit Charter",
           "Tie",
           "Jackson"
          ],
          [
           "Neuse Charter School",
           "Republican",
           "Johnston"
          ],
          [
           "Ascend Leadership Academy: Lee County",
           "Democrat",
           "Lee"
          ],
          [
           "Lincoln Charter School",
           "Republican",
           "Lincoln"
          ],
          [
           "Lakeside Charter Academy",
           "Democrat",
           "Mecklenburg"
          ],
          [
           "Unity Classical Charter School",
           "Democrat",
           "Mecklenburg"
          ],
          [
           "Steele Creek Preparatory Academy",
           "Democrat",
           "Mecklenburg"
          ],
          [
           "Movement School Southwest",
           "Democrat",
           "Mecklenburg"
          ],
          [
           "The Academy of Moore County",
           "Tie",
           "Moore"
          ],
          [
           "Bethel Hill Charter",
           "Democrat",
           "Person"
          ],
          [
           "Roxboro Community School",
           "Democrat",
           "Person"
          ],
          [
           "Uwharrie Charter Academy",
           "Republican",
           "Randolph"
          ],
          [
           "Bethany Community School",
           "Republican",
           "Rockingham"
          ],
          [
           "Faith Academy Charter School",
           "Republican",
           "Rowan"
          ],
          [
           "Thomas Jefferson Class Academy",
           "Republican",
           "Rutherford"
          ],
          [
           "Lake Lure Classical Academy",
           "Republican",
           "Rutherford"
          ],
          [
           "Millennium Charter Academy",
           "Tie",
           "Surry"
          ],
          [
           "Brevard Academy",
           "Republican",
           "Transylvania"
          ],
          [
           "Union Academy",
           "Tie",
           "Union"
          ],
          [
           "Union Prep Academy at Indian Trail",
           "Tie",
           "Union"
          ],
          [
           "Apprentice Academy High School",
           "Tie",
           "Union"
          ],
          [
           "Cardinal Charter Academy",
           "Republican",
           "Wake"
          ],
          [
           "Pine Springs Preparatory Academy",
           "Republican",
           "Wake"
          ],
          [
           "Cardinal Charter Acad at Wendell Falls",
           "Republican",
           "Wake"
          ],
          [
           "Movement School Eastland",
           "Democrat",
           "Mecklenburg"
          ],
          [
           "Iredell Charter Academy",
           "Republican",
           "Iredell"
          ],
          [
           "American Leadership Academy-Coastal",
           "Republican",
           "New Hanover"
          ],
          [
           "NC Leadership Charter Academy",
           "Republican",
           "Forsyth"
          ],
          [
           "Langtree Charter Academy",
           "Republican",
           "Iredell"
          ],
          [
           "Gate City Charter",
           "Democrat",
           "Guilford"
          ],
          [
           "Queen's Grant Community School",
           "Democrat",
           "Mecklenburg"
          ],
          [
           "Classical Charter Schools of Southport",
           "Republican",
           "Brunswick"
          ],
          [
           "Classical Charter Schools of Wilmington",
           "Republican",
           "New Hanover"
          ],
          [
           "Summerfield Charter Academy",
           "Democrat",
           "Guilford"
          ],
          [
           "Revolution Academy",
           "Democrat",
           "Guilford"
          ],
          [
           "Classical Charter Schools of Whiteville",
           "Republican",
           "Columbus"
          ],
          [
           "Research Triangle Charter",
           "Democrat",
           "Durham"
          ],
          [
           "Classical Charter Schools of Leland ",
           "Republican",
           "Brunswick"
          ],
          [
           "Bonnie Cone Classical Academy",
           "Democrat",
           "Mecklenburg"
          ],
          [
           "Carolina Charter Academy",
           "Republican",
           "Wake"
          ],
          [
           "Movement Charter School",
           "Democrat",
           "Mecklenburg"
          ]
         ],
         "hovertemplate": "charter_political_affiliation=Republican<br>x=%{x}<br>y=%{y}<br>schoolname=%{customdata[0]}<br>district_political_affiliation=%{customdata[1]}<br>countydescription=%{customdata[2]}<extra></extra>",
         "legendgroup": "Republican",
         "marker": {
          "color": "red",
          "symbol": "circle"
         },
         "mode": "markers",
         "name": "Republican",
         "orientation": "v",
         "showlegend": true,
         "type": "scatter",
         "x": [
          5.643064022064209,
          -1.8071593046188354,
          1.7167872190475464,
          -3.1102824211120605,
          -4.982033729553223,
          6.776590347290039,
          6.901375770568848,
          -3.539163589477539,
          -1.6196461915969849,
          -4.77743673324585,
          3.370527505874634,
          -3.1105945110321045,
          -4.783349990844727,
          3.586958885192871,
          7.315033435821533,
          7.26824426651001,
          1.012211561203003,
          6.2754058837890625,
          -3.395395517349243,
          3.5821292400360107,
          -10.309210777282715,
          4.410297870635986,
          10.865433692932129,
          -10.3014497756958,
          -2.9798243045806885,
          -12.88668155670166,
          0.5957969427108765,
          0.5750520825386047,
          -10.271595001220703,
          -4.4819207191467285,
          -3.181828737258911,
          -3.6175577640533447,
          -5.765537261962891,
          -3.533900260925293,
          -5.756804466247559,
          9.649989128112793,
          7.887875080108643,
          -1.269570231437683,
          4.025437355041504,
          9.212838172912598,
          -0.30726805329322815,
          10.462385177612305,
          -0.4690764844417572,
          -0.4690815508365631,
          10.282248497009277,
          2.3052871227264404,
          -0.4690815508365631,
          4.591188907623291,
          -0.4690815508365631,
          0.7042180895805359,
          9.24834156036377,
          9.554462432861328
         ],
         "xaxis": "x",
         "y": [
          0.7458990812301636,
          6.303744792938232,
          -7.745540618896484,
          -1.1491848230361938,
          0.49752020835876465,
          -1.5245230197906494,
          1.6914012432098389,
          5.048073768615723,
          1.5529993772506714,
          -4.682514667510986,
          -5.376733303070068,
          4.356659889221191,
          -2.259549140930176,
          -9.275580406188965,
          -0.42316049337387085,
          -0.8207036852836609,
          -3.1812939643859863,
          -5.30428409576416,
          4.166965484619141,
          -6.029451370239258,
          8.241148948669434,
          1.854675531387329,
          -2.9560744762420654,
          8.242473602294922,
          0.08571050316095352,
          0.316744327545166,
          0.5457547903060913,
          -1.7397178411483765,
          8.23259162902832,
          4.1904754638671875,
          8.442109107971191,
          1.2922639846801758,
          -0.013850649818778038,
          -2.278322219848633,
          -0.005615958943963051,
          4.734121799468994,
          1.438561201095581,
          -9.457935333251953,
          -9.36867618560791,
          -1.0086266994476318,
          -6.193140029907227,
          1.5563105344772339,
          11.767337799072266,
          11.76734733581543,
          -1.696083903312683,
          -2.853419542312622,
          11.76734733581543,
          -0.7351337671279907,
          11.76734733581543,
          -3.680117607116699,
          -2.5238142013549805,
          4.303285598754883
         ],
         "yaxis": "y"
        }
       ],
       "layout": {
        "legend": {
         "title": {
          "text": "charter_political_affiliation"
         },
         "tracegroupgap": 0
        },
        "template": {
         "data": {
          "bar": [
           {
            "error_x": {
             "color": "#2a3f5f"
            },
            "error_y": {
             "color": "#2a3f5f"
            },
            "marker": {
             "line": {
              "color": "#E5ECF6",
              "width": 0.5
             },
             "pattern": {
              "fillmode": "overlay",
              "size": 10,
              "solidity": 0.2
             }
            },
            "type": "bar"
           }
          ],
          "barpolar": [
           {
            "marker": {
             "line": {
              "color": "#E5ECF6",
              "width": 0.5
             },
             "pattern": {
              "fillmode": "overlay",
              "size": 10,
              "solidity": 0.2
             }
            },
            "type": "barpolar"
           }
          ],
          "carpet": [
           {
            "aaxis": {
             "endlinecolor": "#2a3f5f",
             "gridcolor": "white",
             "linecolor": "white",
             "minorgridcolor": "white",
             "startlinecolor": "#2a3f5f"
            },
            "baxis": {
             "endlinecolor": "#2a3f5f",
             "gridcolor": "white",
             "linecolor": "white",
             "minorgridcolor": "white",
             "startlinecolor": "#2a3f5f"
            },
            "type": "carpet"
           }
          ],
          "choropleth": [
           {
            "colorbar": {
             "outlinewidth": 0,
             "ticks": ""
            },
            "type": "choropleth"
           }
          ],
          "contour": [
           {
            "colorbar": {
             "outlinewidth": 0,
             "ticks": ""
            },
            "colorscale": [
             [
              0,
              "#0d0887"
             ],
             [
              0.1111111111111111,
              "#46039f"
             ],
             [
              0.2222222222222222,
              "#7201a8"
             ],
             [
              0.3333333333333333,
              "#9c179e"
             ],
             [
              0.4444444444444444,
              "#bd3786"
             ],
             [
              0.5555555555555556,
              "#d8576b"
             ],
             [
              0.6666666666666666,
              "#ed7953"
             ],
             [
              0.7777777777777778,
              "#fb9f3a"
             ],
             [
              0.8888888888888888,
              "#fdca26"
             ],
             [
              1,
              "#f0f921"
             ]
            ],
            "type": "contour"
           }
          ],
          "contourcarpet": [
           {
            "colorbar": {
             "outlinewidth": 0,
             "ticks": ""
            },
            "type": "contourcarpet"
           }
          ],
          "heatmap": [
           {
            "colorbar": {
             "outlinewidth": 0,
             "ticks": ""
            },
            "colorscale": [
             [
              0,
              "#0d0887"
             ],
             [
              0.1111111111111111,
              "#46039f"
             ],
             [
              0.2222222222222222,
              "#7201a8"
             ],
             [
              0.3333333333333333,
              "#9c179e"
             ],
             [
              0.4444444444444444,
              "#bd3786"
             ],
             [
              0.5555555555555556,
              "#d8576b"
             ],
             [
              0.6666666666666666,
              "#ed7953"
             ],
             [
              0.7777777777777778,
              "#fb9f3a"
             ],
             [
              0.8888888888888888,
              "#fdca26"
             ],
             [
              1,
              "#f0f921"
             ]
            ],
            "type": "heatmap"
           }
          ],
          "heatmapgl": [
           {
            "colorbar": {
             "outlinewidth": 0,
             "ticks": ""
            },
            "colorscale": [
             [
              0,
              "#0d0887"
             ],
             [
              0.1111111111111111,
              "#46039f"
             ],
             [
              0.2222222222222222,
              "#7201a8"
             ],
             [
              0.3333333333333333,
              "#9c179e"
             ],
             [
              0.4444444444444444,
              "#bd3786"
             ],
             [
              0.5555555555555556,
              "#d8576b"
             ],
             [
              0.6666666666666666,
              "#ed7953"
             ],
             [
              0.7777777777777778,
              "#fb9f3a"
             ],
             [
              0.8888888888888888,
              "#fdca26"
             ],
             [
              1,
              "#f0f921"
             ]
            ],
            "type": "heatmapgl"
           }
          ],
          "histogram": [
           {
            "marker": {
             "pattern": {
              "fillmode": "overlay",
              "size": 10,
              "solidity": 0.2
             }
            },
            "type": "histogram"
           }
          ],
          "histogram2d": [
           {
            "colorbar": {
             "outlinewidth": 0,
             "ticks": ""
            },
            "colorscale": [
             [
              0,
              "#0d0887"
             ],
             [
              0.1111111111111111,
              "#46039f"
             ],
             [
              0.2222222222222222,
              "#7201a8"
             ],
             [
              0.3333333333333333,
              "#9c179e"
             ],
             [
              0.4444444444444444,
              "#bd3786"
             ],
             [
              0.5555555555555556,
              "#d8576b"
             ],
             [
              0.6666666666666666,
              "#ed7953"
             ],
             [
              0.7777777777777778,
              "#fb9f3a"
             ],
             [
              0.8888888888888888,
              "#fdca26"
             ],
             [
              1,
              "#f0f921"
             ]
            ],
            "type": "histogram2d"
           }
          ],
          "histogram2dcontour": [
           {
            "colorbar": {
             "outlinewidth": 0,
             "ticks": ""
            },
            "colorscale": [
             [
              0,
              "#0d0887"
             ],
             [
              0.1111111111111111,
              "#46039f"
             ],
             [
              0.2222222222222222,
              "#7201a8"
             ],
             [
              0.3333333333333333,
              "#9c179e"
             ],
             [
              0.4444444444444444,
              "#bd3786"
             ],
             [
              0.5555555555555556,
              "#d8576b"
             ],
             [
              0.6666666666666666,
              "#ed7953"
             ],
             [
              0.7777777777777778,
              "#fb9f3a"
             ],
             [
              0.8888888888888888,
              "#fdca26"
             ],
             [
              1,
              "#f0f921"
             ]
            ],
            "type": "histogram2dcontour"
           }
          ],
          "mesh3d": [
           {
            "colorbar": {
             "outlinewidth": 0,
             "ticks": ""
            },
            "type": "mesh3d"
           }
          ],
          "parcoords": [
           {
            "line": {
             "colorbar": {
              "outlinewidth": 0,
              "ticks": ""
             }
            },
            "type": "parcoords"
           }
          ],
          "pie": [
           {
            "automargin": true,
            "type": "pie"
           }
          ],
          "scatter": [
           {
            "fillpattern": {
             "fillmode": "overlay",
             "size": 10,
             "solidity": 0.2
            },
            "type": "scatter"
           }
          ],
          "scatter3d": [
           {
            "line": {
             "colorbar": {
              "outlinewidth": 0,
              "ticks": ""
             }
            },
            "marker": {
             "colorbar": {
              "outlinewidth": 0,
              "ticks": ""
             }
            },
            "type": "scatter3d"
           }
          ],
          "scattercarpet": [
           {
            "marker": {
             "colorbar": {
              "outlinewidth": 0,
              "ticks": ""
             }
            },
            "type": "scattercarpet"
           }
          ],
          "scattergeo": [
           {
            "marker": {
             "colorbar": {
              "outlinewidth": 0,
              "ticks": ""
             }
            },
            "type": "scattergeo"
           }
          ],
          "scattergl": [
           {
            "marker": {
             "colorbar": {
              "outlinewidth": 0,
              "ticks": ""
             }
            },
            "type": "scattergl"
           }
          ],
          "scattermapbox": [
           {
            "marker": {
             "colorbar": {
              "outlinewidth": 0,
              "ticks": ""
             }
            },
            "type": "scattermapbox"
           }
          ],
          "scatterpolar": [
           {
            "marker": {
             "colorbar": {
              "outlinewidth": 0,
              "ticks": ""
             }
            },
            "type": "scatterpolar"
           }
          ],
          "scatterpolargl": [
           {
            "marker": {
             "colorbar": {
              "outlinewidth": 0,
              "ticks": ""
             }
            },
            "type": "scatterpolargl"
           }
          ],
          "scatterternary": [
           {
            "marker": {
             "colorbar": {
              "outlinewidth": 0,
              "ticks": ""
             }
            },
            "type": "scatterternary"
           }
          ],
          "surface": [
           {
            "colorbar": {
             "outlinewidth": 0,
             "ticks": ""
            },
            "colorscale": [
             [
              0,
              "#0d0887"
             ],
             [
              0.1111111111111111,
              "#46039f"
             ],
             [
              0.2222222222222222,
              "#7201a8"
             ],
             [
              0.3333333333333333,
              "#9c179e"
             ],
             [
              0.4444444444444444,
              "#bd3786"
             ],
             [
              0.5555555555555556,
              "#d8576b"
             ],
             [
              0.6666666666666666,
              "#ed7953"
             ],
             [
              0.7777777777777778,
              "#fb9f3a"
             ],
             [
              0.8888888888888888,
              "#fdca26"
             ],
             [
              1,
              "#f0f921"
             ]
            ],
            "type": "surface"
           }
          ],
          "table": [
           {
            "cells": {
             "fill": {
              "color": "#EBF0F8"
             },
             "line": {
              "color": "white"
             }
            },
            "header": {
             "fill": {
              "color": "#C8D4E3"
             },
             "line": {
              "color": "white"
             }
            },
            "type": "table"
           }
          ]
         },
         "layout": {
          "annotationdefaults": {
           "arrowcolor": "#2a3f5f",
           "arrowhead": 0,
           "arrowwidth": 1
          },
          "autotypenumbers": "strict",
          "coloraxis": {
           "colorbar": {
            "outlinewidth": 0,
            "ticks": ""
           }
          },
          "colorscale": {
           "diverging": [
            [
             0,
             "#8e0152"
            ],
            [
             0.1,
             "#c51b7d"
            ],
            [
             0.2,
             "#de77ae"
            ],
            [
             0.3,
             "#f1b6da"
            ],
            [
             0.4,
             "#fde0ef"
            ],
            [
             0.5,
             "#f7f7f7"
            ],
            [
             0.6,
             "#e6f5d0"
            ],
            [
             0.7,
             "#b8e186"
            ],
            [
             0.8,
             "#7fbc41"
            ],
            [
             0.9,
             "#4d9221"
            ],
            [
             1,
             "#276419"
            ]
           ],
           "sequential": [
            [
             0,
             "#0d0887"
            ],
            [
             0.1111111111111111,
             "#46039f"
            ],
            [
             0.2222222222222222,
             "#7201a8"
            ],
            [
             0.3333333333333333,
             "#9c179e"
            ],
            [
             0.4444444444444444,
             "#bd3786"
            ],
            [
             0.5555555555555556,
             "#d8576b"
            ],
            [
             0.6666666666666666,
             "#ed7953"
            ],
            [
             0.7777777777777778,
             "#fb9f3a"
            ],
            [
             0.8888888888888888,
             "#fdca26"
            ],
            [
             1,
             "#f0f921"
            ]
           ],
           "sequentialminus": [
            [
             0,
             "#0d0887"
            ],
            [
             0.1111111111111111,
             "#46039f"
            ],
            [
             0.2222222222222222,
             "#7201a8"
            ],
            [
             0.3333333333333333,
             "#9c179e"
            ],
            [
             0.4444444444444444,
             "#bd3786"
            ],
            [
             0.5555555555555556,
             "#d8576b"
            ],
            [
             0.6666666666666666,
             "#ed7953"
            ],
            [
             0.7777777777777778,
             "#fb9f3a"
            ],
            [
             0.8888888888888888,
             "#fdca26"
            ],
            [
             1,
             "#f0f921"
            ]
           ]
          },
          "colorway": [
           "#636efa",
           "#EF553B",
           "#00cc96",
           "#ab63fa",
           "#FFA15A",
           "#19d3f3",
           "#FF6692",
           "#B6E880",
           "#FF97FF",
           "#FECB52"
          ],
          "font": {
           "color": "#2a3f5f"
          },
          "geo": {
           "bgcolor": "white",
           "lakecolor": "white",
           "landcolor": "#E5ECF6",
           "showlakes": true,
           "showland": true,
           "subunitcolor": "white"
          },
          "hoverlabel": {
           "align": "left"
          },
          "hovermode": "closest",
          "mapbox": {
           "style": "light"
          },
          "paper_bgcolor": "white",
          "plot_bgcolor": "#E5ECF6",
          "polar": {
           "angularaxis": {
            "gridcolor": "white",
            "linecolor": "white",
            "ticks": ""
           },
           "bgcolor": "#E5ECF6",
           "radialaxis": {
            "gridcolor": "white",
            "linecolor": "white",
            "ticks": ""
           }
          },
          "scene": {
           "xaxis": {
            "backgroundcolor": "#E5ECF6",
            "gridcolor": "white",
            "gridwidth": 2,
            "linecolor": "white",
            "showbackground": true,
            "ticks": "",
            "zerolinecolor": "white"
           },
           "yaxis": {
            "backgroundcolor": "#E5ECF6",
            "gridcolor": "white",
            "gridwidth": 2,
            "linecolor": "white",
            "showbackground": true,
            "ticks": "",
            "zerolinecolor": "white"
           },
           "zaxis": {
            "backgroundcolor": "#E5ECF6",
            "gridcolor": "white",
            "gridwidth": 2,
            "linecolor": "white",
            "showbackground": true,
            "ticks": "",
            "zerolinecolor": "white"
           }
          },
          "shapedefaults": {
           "line": {
            "color": "#2a3f5f"
           }
          },
          "ternary": {
           "aaxis": {
            "gridcolor": "white",
            "linecolor": "white",
            "ticks": ""
           },
           "baxis": {
            "gridcolor": "white",
            "linecolor": "white",
            "ticks": ""
           },
           "bgcolor": "#E5ECF6",
           "caxis": {
            "gridcolor": "white",
            "linecolor": "white",
            "ticks": ""
           }
          },
          "title": {
           "x": 0.05
          },
          "xaxis": {
           "automargin": true,
           "gridcolor": "white",
           "linecolor": "white",
           "ticks": "",
           "title": {
            "standoff": 15
           },
           "zerolinecolor": "white",
           "zerolinewidth": 2
          },
          "yaxis": {
           "automargin": true,
           "gridcolor": "white",
           "linecolor": "white",
           "ticks": "",
           "title": {
            "standoff": 15
           },
           "zerolinecolor": "white",
           "zerolinewidth": 2
          }
         }
        },
        "title": {
         "text": "Sentence Embed with Charter Political Affiliation"
        },
        "xaxis": {
         "anchor": "y",
         "domain": [
          0,
          1
         ],
         "title": {
          "text": "x"
         }
        },
        "yaxis": {
         "anchor": "x",
         "domain": [
          0,
          1
         ],
         "title": {
          "text": "y"
         }
        }
       }
      }
     },
     "metadata": {},
     "output_type": "display_data"
    }
   ],
   "source": [
    "fig = px.scatter(df_2d, x='x', y='y',title='Sentence Embed with Charter Political Affiliation', color='charter_political_affiliation', color_discrete_map=color_discrete_map,hover_data=['schoolname', 'district_political_affiliation', 'countydescription'])\n",
    "fig.show()"
   ]
  },
  {
   "cell_type": "code",
   "execution_count": 22,
   "metadata": {},
   "outputs": [
    {
     "data": {
      "application/vnd.plotly.v1+json": {
       "config": {
        "plotlyServerURL": "https://plot.ly"
       },
       "data": [
        {
         "customdata": [
          [
           "North Carolina Cyber Academy",
           "Democrat",
           "Durham"
          ],
          [
           "NC Virtual Academy",
           "Tie",
           "Durham"
          ],
          [
           "Maureen Joy Charter School",
           "Democrat",
           "Durham"
          ],
          [
           "Durham Charter School",
           "Republican",
           "Durham"
          ],
          [
           "Community School of Digital & Visual Art",
           "Democrat",
           "Durham"
          ],
          [
           "Kestrel Heights School",
           "Democrat",
           "Durham"
          ],
          [
           "Voyager Academy",
           "Democrat",
           "Durham"
          ],
          [
           "Global Scholars Academy",
           "Democrat",
           "Durham"
          ],
          [
           "The Institute Development Young Leaders",
           "Democrat",
           "Durham"
          ],
          [
           "Reaching All Minds Academy",
           "Democrat",
           "Durham"
          ],
          [
           "Excelsior Classical Academy",
           "Tie",
           "Durham"
          ],
          [
           "Discovery Charter",
           "Tie",
           "Durham"
          ],
          [
           "Willow Oak Montessori",
           "Democrat",
           "Chatham"
          ],
          [
           "Woods Charter",
           "Democrat",
           "Chatham"
          ],
          [
           "Alpha Academy",
           "Democrat",
           "Cumberland"
          ],
          [
           "The Capitol Encore Academy",
           "Democrat",
           "Cumberland"
          ],
          [
           "North East Carolina Prep",
           "Democrat",
           "Edgecombe"
          ],
          [
           "Crosscreek Charter School",
           "Tie",
           "Franklin"
          ],
          [
           "Youngsville Academy",
           "Republican",
           "Franklin"
          ],
          [
           "Wake Preparatory Academy",
           "Tie",
           "Franklin"
          ],
          [
           "Guilford Preparatory Academy",
           "Democrat",
           "Guilford"
          ],
          [
           "Phoenix Academy - Primary, Elem, Upper",
           "Tie",
           "Guilford"
          ],
          [
           "Triad Math and Science Academy",
           "Democrat",
           "Guilford"
          ],
          [
           "Cornerstone Charter Academy-CFA",
           "Tie",
           "Guilford"
          ],
          [
           "College Prep and Leadership Academy",
           "Tie",
           "Guilford"
          ],
          [
           "Next Generation Academy",
           "Democrat",
           "Guilford"
          ],
          [
           "The Experiential School of Greensboro",
           "Democrat",
           "Guilford"
          ],
          [
           "KIPP Halifax College Preparatory",
           "Democrat",
           "Halifax"
          ],
          [
           "KIPP Charlotte",
           "Democrat",
           "Mecklenburg"
          ],
          [
           "Hobgood Charter School",
           "Democrat",
           "Halifax"
          ],
          [
           "Anderson Creek Academy",
           "Republican",
           "Harnett"
          ],
          [
           "Achievement Charter Academy",
           "Tie",
           "Harnett"
          ],
          [
           "Ascend Leadership Academy: Lee County",
           "Republican",
           "Lee"
          ],
          [
           "MINA Charter School of Lee County",
           "Democrat",
           "Lee"
          ],
          [
           "Children's Village Academy",
           "Democrat",
           "Lenoir"
          ],
          [
           "Lake Norman Charter",
           "Democrat",
           "Mecklenburg"
          ],
          [
           "Metrolina Reg Scholars Academy",
           "Tie",
           "Mecklenburg"
          ],
          [
           "Community School of Davidson",
           "Tie",
           "Mecklenburg"
          ],
          [
           "Socrates Academy",
           "Democrat",
           "Mecklenburg"
          ],
          [
           "Charlotte Secondary",
           "Tie",
           "Mecklenburg"
          ],
          [
           "Corvian Community School",
           "Tie",
           "Mecklenburg"
          ],
          [
           "Eastside STREAM Academy",
           "Tie",
           "Mecklenburg"
          ],
          [
           "Invest Collegiate Transform",
           "Democrat",
           "Mecklenburg"
          ],
          [
           "Bradford Preparatory School",
           "Tie",
           "Mecklenburg"
          ],
          [
           "Commonwealth High",
           "Democrat",
           "Mecklenburg"
          ],
          [
           "Pioneer Springs Community School",
           "Democrat",
           "Mecklenburg"
          ],
          [
           "Lakeside Charter Academy",
           "Republican",
           "Mecklenburg"
          ],
          [
           "United Community School",
           "Democrat",
           "Mecklenburg"
          ],
          [
           "Stewart Creek High",
           "Democrat",
           "Mecklenburg"
          ],
          [
           "Charlotte Lab School",
           "Democrat",
           "Mecklenburg"
          ],
          [
           "TMSA Charlotte",
           "Democrat",
           "Mecklenburg"
          ],
          [
           "VERITAS Community School, CFA",
           "Tie",
           "Mecklenburg"
          ],
          [
           "Mallard Creek STEM Academy",
           "Tie",
           "Mecklenburg"
          ],
          [
           "Unity Classical Charter School",
           "Republican",
           "Mecklenburg"
          ],
          [
           "East Voyager Academy of Charlotte",
           "Tie",
           "Mecklenburg"
          ],
          [
           "Jackson Day School",
           "Tie",
           "Mecklenburg"
          ],
          [
           "Steele Creek Preparatory Academy",
           "Republican",
           "Mecklenburg"
          ],
          [
           "Southwest Charlotte STEM Academy",
           "Tie",
           "Mecklenburg"
          ],
          [
           "Telra Institute",
           "Democrat",
           "Mecklenburg"
          ],
          [
           "Movement School Southwest",
           "Republican",
           "Mecklenburg"
          ],
          [
           "Rocky Mount Preparatory",
           "Tie",
           "Nash"
          ],
          [
           "Northeast Academy of Aerospace & AdvTech",
           "Democrat",
           "Pasquotank"
          ],
          [
           "Bethel Hill Charter",
           "Republican",
           "Person"
          ],
          [
           "Roxboro Community School",
           "Republican",
           "Person"
          ],
          [
           "CIS Academy",
           "Tie",
           "Robeson"
          ],
          [
           "Southeastern Academy",
           "Tie",
           "Robeson"
          ],
          [
           "Old Main STREAM Academy",
           "Tie",
           "Robeson"
          ],
          [
           "Henderson Collegiate",
           "Democrat",
           "Vance"
          ],
          [
           "Vance Charter School",
           "Tie",
           "Vance"
          ],
          [
           "Haliwa-Saponi Tribal School",
           "Democrat",
           "Warren"
          ],
          [
           "Pocosin Innovative Charter",
           "Tie",
           "Washington"
          ],
          [
           "Wilson Preparatory Academy",
           "Democrat",
           "Wilson"
          ],
          [
           "Movement School Eastland",
           "Republican",
           "Mecklenburg"
          ],
          [
           "Sugar Creek Charter",
           "Democrat",
           "Mecklenburg"
          ],
          [
           "Central Park School For Child",
           "Democrat",
           "Durham"
          ],
          [
           "Aristotle Preparatory Academy",
           "Tie",
           "Mecklenburg"
          ],
          [
           "Gate City Charter",
           "Republican",
           "Guilford"
          ],
          [
           "KIPP Durham College Preparatory",
           "Democrat",
           "Durham"
          ],
          [
           "KIPP Gaston College Preparatory",
           "Democrat",
           "Northampton"
          ],
          [
           "Queen's Grant Community School",
           "Republican",
           "Mecklenburg"
          ],
          [
           "Sallie B Howard School",
           "Tie",
           "Wilson"
          ],
          [
           "Winterville Charter Academy",
           "Democrat",
           "Pitt"
          ],
          [
           "Summerfield Charter Academy",
           "Republican",
           "Guilford"
          ],
          [
           "Chatham Charter",
           "Tie",
           "Chatham"
          ],
          [
           "Revolution Academy",
           "Republican",
           "Guilford"
          ],
          [
           "Matthews Charter Academy",
           "Tie",
           "Mecklenburg"
          ],
          [
           "Research Triangle Charter",
           "Republican",
           "Durham"
          ],
          [
           "Bonnie Cone Classical Academy",
           "Republican",
           "Mecklenburg"
          ],
          [
           "Research Triangle High School",
           "Tie",
           "Durham"
          ],
          [
           "Greensboro Academy",
           "Tie",
           "Guilford"
          ],
          [
           "Piedmont Classical High School",
           "Democrat",
           "Guilford"
          ],
          [
           "Movement Charter School",
           "Republican",
           "Mecklenburg"
          ],
          [
           "Central Carolina Academy",
           "Tie",
           "Lee"
          ],
          [
           "Summit Creek Academy",
           "Tie",
           "Guilford"
          ]
         ],
         "hovertemplate": "district_political_affiliation=Democrat<br>x=%{x}<br>y=%{y}<br>schoolname=%{customdata[0]}<br>charter_political_affiliation=%{customdata[1]}<br>countydescription=%{customdata[2]}<extra></extra>",
         "legendgroup": "Democrat",
         "marker": {
          "color": "blue",
          "symbol": "circle"
         },
         "mode": "markers",
         "name": "Democrat",
         "orientation": "v",
         "showlegend": true,
         "type": "scatter",
         "x": [
          -5.9678778648376465,
          -4.3165364265441895,
          -5.109218597412109,
          5.643064022064209,
          -5.294691562652588,
          -12.085917472839355,
          -5.819103717803955,
          -4.778939247131348,
          -9.005987167358398,
          -3.186337471008301,
          0.3583332598209381,
          7.7061991691589355,
          -5.774202823638916,
          12.29245662689209,
          2.4466712474823,
          1.5430107116699219,
          5.38203239440918,
          -5.317736625671387,
          -3.539163589477539,
          -3.464925765991211,
          -3.7373406887054443,
          -10.935928344726562,
          4.240096569061279,
          10.273812294006348,
          -3.2265164852142334,
          0.9669196009635925,
          9.49636173248291,
          5.13495397567749,
          5.137234210968018,
          12.450652122497559,
          3.370527505874634,
          -0.3114093244075775,
          3.586958885192871,
          8.142488479614258,
          -3.206386089324951,
          7.4585347175598145,
          -5.023800373077393,
          -7.643294811248779,
          -6.264066696166992,
          -2.050881862640381,
          -8.880578994750977,
          3.4780240058898926,
          -3.2056725025177,
          -2.6286122798919678,
          -12.712418556213379,
          -9.653148651123047,
          7.26824426651001,
          -0.4212239682674408,
          -12.70761489868164,
          -1.9206076860427856,
          4.984116077423096,
          -3.7213168144226074,
          -3.2884511947631836,
          1.012211561203003,
          -5.8139824867248535,
          2.31837797164917,
          6.2754058837890625,
          5.42570686340332,
          -5.827939510345459,
          -3.395395517349243,
          5.558701038360596,
          0.4145127534866333,
          -10.309210777282715,
          4.410297870635986,
          -6.271366119384766,
          -1.6463395357131958,
          -3.7567086219787598,
          -4.346060752868652,
          -1.3654292821884155,
          -7.141058444976807,
          -6.378871917724609,
          7.296125411987305,
          9.649989128112793,
          -5.885551452636719,
          -1.8871179819107056,
          6.011316299438477,
          -0.30726805329322815,
          9.546677589416504,
          9.555789947509766,
          10.462385177612305,
          0.6465839743614197,
          10.396679878234863,
          10.282248497009277,
          10.093463897705078,
          2.3052871227264404,
          0.255486398935318,
          4.591188907623291,
          0.7042180895805359,
          4.047327518463135,
          9.389337539672852,
          2.1181602478027344,
          9.554462432861328,
          8.907598495483398,
          -11.631204605102539
         ],
         "xaxis": "x",
         "y": [
          -2.515301465988159,
          1.2550113201141357,
          2.822366952896118,
          0.7458990812301636,
          -3.337829828262329,
          -1.1032218933105469,
          9.215150833129883,
          1.3011854887008667,
          4.1639180183410645,
          0.19846747815608978,
          -0.4362373948097229,
          3.802330255508423,
          5.584057331085205,
          0.0007560444064438343,
          -8.26952838897705,
          1.906132698059082,
          -2.908485174179077,
          1.737053632736206,
          5.048073768615723,
          3.092942237854004,
          -1.0667637586593628,
          3.00201153755188,
          7.886144161224365,
          -0.9756535291671753,
          -6.693296432495117,
          -5.2107672691345215,
          -4.850165843963623,
          0.31649601459503174,
          0.3156871795654297,
          1.0459506511688232,
          -5.376733303070068,
          -6.8535966873168945,
          -9.275580406188965,
          0.05006018653512001,
          0.5507705211639404,
          -0.08476023375988007,
          -2.4330596923828125,
          -2.530500888824463,
          1.9738900661468506,
          -0.6572357416152954,
          -0.7799050211906433,
          4.643894672393799,
          -4.902813911437988,
          1.4660371541976929,
          -4.54404354095459,
          1.194826364517212,
          -0.8207036852836609,
          0.5300559997558594,
          -4.54335880279541,
          0.05203097686171532,
          7.054821491241455,
          0.4186572730541229,
          -2.8073911666870117,
          -3.1812939643859863,
          9.207201957702637,
          0.450644314289093,
          -5.30428409576416,
          6.811654567718506,
          3.8869469165802,
          4.166965484619141,
          -4.277071475982666,
          6.779707431793213,
          8.241148948669434,
          1.854675531387329,
          -3.430598020553589,
          -0.9396576285362244,
          -7.300058841705322,
          -9.534225463867188,
          -4.497135639190674,
          -1.0943273305892944,
          -1.1357377767562866,
          -6.518858432769775,
          4.734121799468994,
          -6.055276870727539,
          -6.616085529327393,
          -5.61818790435791,
          -6.193140029907227,
          -8.598915100097656,
          -8.613968849182129,
          1.5563105344772339,
          4.765912055969238,
          -2.6975574493408203,
          -1.696083903312683,
          0.3299918472766876,
          -2.853419542312622,
          -5.609066009521484,
          -0.7351337671279907,
          -3.680117607116699,
          -0.8534987568855286,
          -4.500011444091797,
          -3.8884689807891846,
          4.303285598754883,
          -3.103508234024048,
          3.110076904296875
         ],
         "yaxis": "y"
        },
        {
         "customdata": [
          [
           "River Mill Academy",
           "Democrat",
           "Alamance"
          ],
          [
           "The Hawbridge School",
           "Democrat",
           "Alamance"
          ],
          [
           "Clover Garden",
           "Republican",
           "Alamance"
          ],
          [
           "Alamance Community School",
           "Democrat",
           "Alamance"
          ],
          [
           "Emereau: Bladen",
           "Democrat",
           "Bladen"
          ],
          [
           "ArtSpace Charter School",
           "Democrat",
           "Buncombe"
          ],
          [
           "IC Imagine ",
           "Democrat",
           "Buncombe"
          ],
          [
           "The Franklin School of Innovation",
           "Tie",
           "Buncombe"
          ],
          [
           "Francine Delany New School",
           "Democrat",
           "Buncombe"
          ],
          [
           "Carolina International School",
           "Democrat",
           "Cabarrus"
          ],
          [
           "Cabarrus Charter Academy",
           "Republican",
           "Cabarrus"
          ],
          [
           "A.C.E. Academy",
           "Democrat",
           "Cabarrus"
          ],
          [
           "Concord Lake STEAM Academy",
           "Republican",
           "Cabarrus"
          ],
          [
           "Falls Lake Academy",
           "Republican",
           "Granville"
          ],
          [
           "Oxford Preparatory",
           "Democrat",
           "Granville"
          ],
          [
           "Summit Charter",
           "Republican",
           "Jackson"
          ],
          [
           "The Academy of Moore County",
           "Republican",
           "Moore"
          ],
          [
           "STARS Charter",
           "Tie",
           "Moore"
          ],
          [
           "Moore Montessori Community School",
           "Democrat",
           "Moore"
          ],
          [
           "Eno River Academy",
           "Tie",
           "Orange"
          ],
          [
           "The Expedition School",
           "Tie",
           "Orange"
          ],
          [
           "Arapahoe Charter School",
           "Tie",
           "Pamlico"
          ],
          [
           "Millennium Charter Academy",
           "Republican",
           "Surry"
          ],
          [
           "Union Academy",
           "Republican",
           "Union"
          ],
          [
           "Union Day School",
           "Tie",
           "Union"
          ],
          [
           "Union Prep Academy at Indian Trail",
           "Republican",
           "Union"
          ],
          [
           "Monroe Charter Academy",
           "Tie",
           "Union"
          ],
          [
           "Apprentice Academy High School",
           "Republican",
           "Union"
          ],
          [
           "Dillard Academy",
           "Tie",
           "Wayne"
          ],
          [
           "Wayne Preparatory Academy",
           "Tie",
           "Wayne"
          ],
          [
           "Asheville PEAK Academy",
           "Democrat",
           "Buncombe"
          ],
          [
           "Evergreen Community Charter",
           "Democrat",
           "Buncombe"
          ],
          [
           "Bear Grass Charter School",
           "Tie",
           "Martin"
          ],
          [
           "Paul R. Brown Leadership Academy",
           "Democrat",
           "Bladen"
          ],
          [
           "Two Rivers Community School",
           "Democrat",
           "Watauga"
          ]
         ],
         "hovertemplate": "district_political_affiliation=Tie<br>x=%{x}<br>y=%{y}<br>schoolname=%{customdata[0]}<br>charter_political_affiliation=%{customdata[1]}<br>countydescription=%{customdata[2]}<extra></extra>",
         "legendgroup": "Tie",
         "marker": {
          "color": "green",
          "symbol": "circle"
         },
         "mode": "markers",
         "name": "Tie",
         "orientation": "v",
         "showlegend": true,
         "type": "scatter",
         "x": [
          -0.12611408531665802,
          -2.5245134830474854,
          -1.8071593046188354,
          -1.516463279724121,
          -3.137054681777954,
          0.8981805443763733,
          -3.460073471069336,
          -3.292644500732422,
          -4.008695602416992,
          5.02237606048584,
          -4.982033729553223,
          -2.6228749752044678,
          6.776590347290039,
          -4.77743673324585,
          -2.3745782375335693,
          -3.1105945110321045,
          3.5821292400360107,
          -1.1110026836395264,
          -2.5876028537750244,
          2.3845250606536865,
          -9.520130157470703,
          -8.253399848937988,
          0.5750520825386047,
          -4.4819207191467285,
          -4.14954137802124,
          -3.181828737258911,
          0.9579537510871887,
          -3.6175577640533447,
          -4.804009437561035,
          -1.568363070487976,
          4.219266414642334,
          12.213249206542969,
          10.393877983093262,
          3.947883367538452,
          -7.917572021484375
         ],
         "xaxis": "x",
         "y": [
          -4.370241165161133,
          1.818022608757019,
          6.303744792938232,
          -9.187614440917969,
          -3.8797755241394043,
          3.337646007537842,
          1.7138967514038086,
          -2.812572956085205,
          2.385502815246582,
          -2.6497390270233154,
          0.49752020835876465,
          2.420485258102417,
          -1.5245230197906494,
          -4.682514667510986,
          -2.6455776691436768,
          4.356659889221191,
          -6.029451370239258,
          2.053118944168091,
          3.2896947860717773,
          2.5034027099609375,
          -2.5711376667022705,
          5.90212869644165,
          -1.7397178411483765,
          4.1904754638671875,
          6.331262111663818,
          8.442109107971191,
          -0.6238420009613037,
          1.2922639846801758,
          -5.1429572105407715,
          0.1440860778093338,
          3.9423134326934814,
          1.0876771211624146,
          3.416443347930908,
          -9.590010643005371,
          -6.464071273803711
         ],
         "yaxis": "y"
        },
        {
         "customdata": [
          [
           "Marjorie Williams Academy",
           "Republican",
           "Avery"
          ],
          [
           "Washington Montessori",
           "Tie",
           "Beaufort"
          ],
          [
           "New Dimensions",
           "Republican",
           "Burke"
          ],
          [
           "Oak Hill Charter School",
           "Tie",
           "Caldwell"
          ],
          [
           "Tiller School",
           "Democrat",
           "Carteret"
          ],
          [
           "Pinnacle Classical Academy",
           "Tie",
           "Cleveland"
          ],
          [
           "Thomas Academy",
           "Tie",
           "Columbus"
          ],
          [
           "Water's Edge Village School",
           "Democrat",
           "Currituck"
          ],
          [
           "Davidson Charter Academy",
           "Republican",
           "Davidson"
          ],
          [
           "Quality Education Academy",
           "Democrat",
           "Forsyth"
          ],
          [
           "Carter G. Woodson School",
           "Democrat",
           "Forsyth"
          ],
          [
           "The Arts Based School",
           "Tie",
           "Forsyth"
          ],
          [
           "Piedmont Community Charter School",
           "Republican",
           "Gaston"
          ],
          [
           "Mountain Island Charter School",
           "Democrat",
           "Gaston"
          ],
          [
           "Ridgeview Charter School",
           "Democrat",
           "Gaston"
          ],
          [
           "Community Public Charter",
           "Democrat",
           "Gaston"
          ],
          [
           "Johnston Charter Academy",
           "Tie",
           "Johnston"
          ],
          [
           "Rolesville Charter Academy",
           "Tie",
           "Wake"
          ],
          [
           "The Mountain Community Sch",
           "Tie",
           "Henderson"
          ],
          [
           "FernLeaf",
           "Democrat",
           "Henderson"
          ],
          [
           "American Renaissance School",
           "Tie",
           "Iredell"
          ],
          [
           "Success Institute Charter",
           "Tie",
           "Iredell"
          ],
          [
           "Pine Lake Preparatory",
           "Democrat",
           "Iredell"
          ],
          [
           "Neuse Charter School",
           "Republican",
           "Johnston"
          ],
          [
           "Lincoln Charter School",
           "Republican",
           "Lincoln"
          ],
          [
           "West Lake Preparatory Academy",
           "Democrat",
           "Lincoln"
          ],
          [
           "Cape Fear Center for Inquiry",
           "Democrat",
           "New Hanover"
          ],
          [
           "Wilmington Preparatory Academy",
           "Democrat",
           "New Hanover"
          ],
          [
           "Island Montessori Charter School",
           "Tie",
           "New Hanover"
          ],
          [
           "Girls Leadership Academy of Wilmington",
           "Tie",
           "New Hanover"
          ],
          [
           "Wilmington School of the Arts",
           "Democrat",
           "New Hanover"
          ],
          [
           "Z.E.C.A. School of Arts and Technology",
           "Democrat",
           "Onslow"
          ],
          [
           "Uwharrie Charter Academy",
           "Republican",
           "Randolph"
          ],
          [
           "Bethany Community School",
           "Republican",
           "Rockingham"
          ],
          [
           "Faith Academy Charter School",
           "Republican",
           "Rowan"
          ],
          [
           "Thomas Jefferson Class Academy",
           "Republican",
           "Rutherford"
          ],
          [
           "Lake Lure Classical Academy",
           "Republican",
           "Rutherford"
          ],
          [
           "Gray Stone Day",
           "Tie",
           "Stanly"
          ],
          [
           "Brevard Academy",
           "Republican",
           "Transylvania"
          ],
          [
           "The Exploris School",
           "Democrat",
           "Wake"
          ],
          [
           "Sterling Montessori Academy",
           "Democrat",
           "Wake"
          ],
          [
           "Franklin Academy",
           "Tie",
           "Wake"
          ],
          [
           "East Wake Academy",
           "Tie",
           "Wake"
          ],
          [
           "Raleigh Charter High School",
           "Democrat",
           "Wake"
          ],
          [
           "Quest Academy",
           "Tie",
           "Wake"
          ],
          [
           "Southern Wake Academy",
           "Tie",
           "Wake"
          ],
          [
           "Casa Esperanza Montessori Charter School",
           "Democrat",
           "Wake"
          ],
          [
           "Endeavor Charter School",
           "Democrat",
           "Wake"
          ],
          [
           "Triangle Math and Science Academy",
           "Democrat",
           "Wake"
          ],
          [
           "Longleaf School of the Arts",
           "Democrat",
           "Wake"
          ],
          [
           "Cardinal Charter Academy",
           "Republican",
           "Wake"
          ],
          [
           "Envision Science Academy",
           "Democrat",
           "Wake"
          ],
          [
           "Central Wake High School",
           "Democrat",
           "Wake"
          ],
          [
           "Pine Springs Preparatory Academy",
           "Republican",
           "Wake"
          ],
          [
           "Raleigh Oak Charter",
           "Tie",
           "Wake"
          ],
          [
           "Cardinal Charter Acad at Wendell Falls",
           "Republican",
           "Wake"
          ],
          [
           "Doral Academy of North Carolina",
           "Tie",
           "Wake"
          ],
          [
           "The Math and Science Academy of Apex",
           "Democrat",
           "Wake"
          ],
          [
           "Wake Forest Charter Academy",
           "Democrat",
           "Wake"
          ],
          [
           "Iredell Charter Academy",
           "Republican",
           "Iredell"
          ],
          [
           "American Leadership Academy-Coastal",
           "Republican",
           "New Hanover"
          ],
          [
           "NC Leadership Charter Academy",
           "Republican",
           "Forsyth"
          ],
          [
           "Langtree Charter Academy",
           "Republican",
           "Iredell"
          ],
          [
           "Classical Charter Schools of Southport",
           "Republican",
           "Brunswick"
          ],
          [
           "Classical Charter Schools of Wilmington",
           "Republican",
           "New Hanover"
          ],
          [
           "Forsyth Academy",
           "Democrat",
           "Forsyth"
          ],
          [
           "Classical Charter Schools of Whiteville",
           "Republican",
           "Columbus"
          ],
          [
           "Classical Charter Schools of Leland ",
           "Republican",
           "Brunswick"
          ],
          [
           "Carolina Charter Academy",
           "Republican",
           "Wake"
          ],
          [
           "Peak Charter Academy",
           "Tie",
           "Wake"
          ],
          [
           "Tillery Charter Academy",
           "Democrat",
           "Montgomery"
          ],
          [
           "American Leadership Academy - Johnston",
           "Tie",
           "Johnston"
          ],
          [
           "Mountain Discovery",
           "Democrat",
           "Swain"
          ],
          [
           "Shining Rock Classical Academy",
           "Tie",
           "Haywood"
          ],
          [
           "Magellan Charter",
           "Tie",
           "Wake"
          ],
          [
           "RISE Southeast Raleigh Charter",
           "Democrat",
           "Wake"
          ],
          [
           "PreEminent Charter",
           "Democrat",
           "Wake"
          ]
         ],
         "hovertemplate": "district_political_affiliation=Republican<br>x=%{x}<br>y=%{y}<br>schoolname=%{customdata[0]}<br>charter_political_affiliation=%{customdata[1]}<br>countydescription=%{customdata[2]}<extra></extra>",
         "legendgroup": "Republican",
         "marker": {
          "color": "red",
          "symbol": "circle"
         },
         "mode": "markers",
         "name": "Republican",
         "orientation": "v",
         "showlegend": true,
         "type": "scatter",
         "x": [
          1.7167872190475464,
          -1.8519611358642578,
          -3.1102824211120605,
          1.2134169340133667,
          -0.3670192360877991,
          -12.23618221282959,
          1.0399067401885986,
          -9.494245529174805,
          6.901375770568848,
          -6.712580680847168,
          12.837700843811035,
          0.17298342287540436,
          -1.6196461915969849,
          7.247232913970947,
          3.5860610008239746,
          -0.7287887334823608,
          -10.935903549194336,
          -10.937128067016602,
          -5.052119255065918,
          -1.8742133378982544,
          -12.2161226272583,
          -7.133650302886963,
          6.468509197235107,
          -4.783349990844727,
          7.315033435821533,
          7.032441139221191,
          7.718313217163086,
          7.505709648132324,
          -7.790003776550293,
          -4.456714153289795,
          0.16401757299900055,
          -1.2318459749221802,
          10.865433692932129,
          -10.3014497756958,
          -2.9798243045806885,
          -12.88668155670166,
          0.5957969427108765,
          -6.675370693206787,
          -10.271595001220703,
          -9.788412094116211,
          -4.217029094696045,
          -8.375123023986816,
          -2.5520458221435547,
          5.411149024963379,
          4.119761943817139,
          -7.592865467071533,
          -5.980886459350586,
          -0.48647040128707886,
          4.284132957458496,
          -2.313931465148926,
          -5.765537261962891,
          2.7313950061798096,
          -12.709671974182129,
          -3.533900260925293,
          -1.579767107963562,
          -5.756804466247559,
          -1.6589605808258057,
          -7.04252815246582,
          10.30361270904541,
          7.887875080108643,
          -1.269570231437683,
          4.025437355041504,
          9.212838172912598,
          -0.4690764844417572,
          -0.4690815508365631,
          -1.4129916429519653,
          -0.4690815508365631,
          -0.4690815508365631,
          9.24834156036377,
          -2.691641092300415,
          0.8927382230758667,
          -7.278528690338135,
          7.402247905731201,
          2.2020199298858643,
          8.770554542541504,
          -5.524862289428711,
          10.495085716247559
         ],
         "xaxis": "x",
         "y": [
          -7.745540618896484,
          -4.102316379547119,
          -1.1491848230361938,
          -0.6352453231811523,
          2.8294761180877686,
          -0.3643515408039093,
          7.491138458251953,
          -4.911843776702881,
          1.6914012432098389,
          -4.4908671379089355,
          -0.41231924295425415,
          3.27002215385437,
          1.5529993772506714,
          4.665909290313721,
          0.6237510442733765,
          -1.1212102174758911,
          3.0020036697387695,
          3.0024821758270264,
          -1.0806304216384888,
          6.797411918640137,
          -0.5512729287147522,
          3.463085412979126,
          -7.427835464477539,
          -2.259549140930176,
          -0.42316049337387085,
          -6.974465847015381,
          -3.289233446121216,
          -6.293911933898926,
          2.4997668266296387,
          -0.03452557325363159,
          3.898507595062256,
          4.283167839050293,
          -2.9560744762420654,
          8.242473602294922,
          0.08571050316095352,
          0.316744327545166,
          0.5457547903060913,
          1.201460838317871,
          8.23259162902832,
          -2.7782657146453857,
          2.6066269874572754,
          0.9283508062362671,
          0.5102396011352539,
          1.3665564060211182,
          4.976315498352051,
          0.3269462585449219,
          5.886789798736572,
          1.9066493511199951,
          7.844452381134033,
          1.4709160327911377,
          -0.013850649818778038,
          4.8859333992004395,
          -4.532573699951172,
          -2.278322219848633,
          3.3864314556121826,
          -0.005615958943963051,
          -1.8543243408203125,
          1.898771047592163,
          -2.7853026390075684,
          1.438561201095581,
          -9.457935333251953,
          -9.36867618560791,
          -1.0086266994476318,
          11.767337799072266,
          11.76734733581543,
          -5.587339401245117,
          11.76734733581543,
          11.76734733581543,
          -2.5238142013549805,
          -6.397210597991943,
          -3.632105588912964,
          -4.084600925445557,
          4.208034038543701,
          -1.864592432975769,
          3.7142794132232666,
          -7.62701416015625,
          1.3082008361816406
         ],
         "yaxis": "y"
        }
       ],
       "layout": {
        "legend": {
         "title": {
          "text": "district_political_affiliation"
         },
         "tracegroupgap": 0
        },
        "template": {
         "data": {
          "bar": [
           {
            "error_x": {
             "color": "#2a3f5f"
            },
            "error_y": {
             "color": "#2a3f5f"
            },
            "marker": {
             "line": {
              "color": "#E5ECF6",
              "width": 0.5
             },
             "pattern": {
              "fillmode": "overlay",
              "size": 10,
              "solidity": 0.2
             }
            },
            "type": "bar"
           }
          ],
          "barpolar": [
           {
            "marker": {
             "line": {
              "color": "#E5ECF6",
              "width": 0.5
             },
             "pattern": {
              "fillmode": "overlay",
              "size": 10,
              "solidity": 0.2
             }
            },
            "type": "barpolar"
           }
          ],
          "carpet": [
           {
            "aaxis": {
             "endlinecolor": "#2a3f5f",
             "gridcolor": "white",
             "linecolor": "white",
             "minorgridcolor": "white",
             "startlinecolor": "#2a3f5f"
            },
            "baxis": {
             "endlinecolor": "#2a3f5f",
             "gridcolor": "white",
             "linecolor": "white",
             "minorgridcolor": "white",
             "startlinecolor": "#2a3f5f"
            },
            "type": "carpet"
           }
          ],
          "choropleth": [
           {
            "colorbar": {
             "outlinewidth": 0,
             "ticks": ""
            },
            "type": "choropleth"
           }
          ],
          "contour": [
           {
            "colorbar": {
             "outlinewidth": 0,
             "ticks": ""
            },
            "colorscale": [
             [
              0,
              "#0d0887"
             ],
             [
              0.1111111111111111,
              "#46039f"
             ],
             [
              0.2222222222222222,
              "#7201a8"
             ],
             [
              0.3333333333333333,
              "#9c179e"
             ],
             [
              0.4444444444444444,
              "#bd3786"
             ],
             [
              0.5555555555555556,
              "#d8576b"
             ],
             [
              0.6666666666666666,
              "#ed7953"
             ],
             [
              0.7777777777777778,
              "#fb9f3a"
             ],
             [
              0.8888888888888888,
              "#fdca26"
             ],
             [
              1,
              "#f0f921"
             ]
            ],
            "type": "contour"
           }
          ],
          "contourcarpet": [
           {
            "colorbar": {
             "outlinewidth": 0,
             "ticks": ""
            },
            "type": "contourcarpet"
           }
          ],
          "heatmap": [
           {
            "colorbar": {
             "outlinewidth": 0,
             "ticks": ""
            },
            "colorscale": [
             [
              0,
              "#0d0887"
             ],
             [
              0.1111111111111111,
              "#46039f"
             ],
             [
              0.2222222222222222,
              "#7201a8"
             ],
             [
              0.3333333333333333,
              "#9c179e"
             ],
             [
              0.4444444444444444,
              "#bd3786"
             ],
             [
              0.5555555555555556,
              "#d8576b"
             ],
             [
              0.6666666666666666,
              "#ed7953"
             ],
             [
              0.7777777777777778,
              "#fb9f3a"
             ],
             [
              0.8888888888888888,
              "#fdca26"
             ],
             [
              1,
              "#f0f921"
             ]
            ],
            "type": "heatmap"
           }
          ],
          "heatmapgl": [
           {
            "colorbar": {
             "outlinewidth": 0,
             "ticks": ""
            },
            "colorscale": [
             [
              0,
              "#0d0887"
             ],
             [
              0.1111111111111111,
              "#46039f"
             ],
             [
              0.2222222222222222,
              "#7201a8"
             ],
             [
              0.3333333333333333,
              "#9c179e"
             ],
             [
              0.4444444444444444,
              "#bd3786"
             ],
             [
              0.5555555555555556,
              "#d8576b"
             ],
             [
              0.6666666666666666,
              "#ed7953"
             ],
             [
              0.7777777777777778,
              "#fb9f3a"
             ],
             [
              0.8888888888888888,
              "#fdca26"
             ],
             [
              1,
              "#f0f921"
             ]
            ],
            "type": "heatmapgl"
           }
          ],
          "histogram": [
           {
            "marker": {
             "pattern": {
              "fillmode": "overlay",
              "size": 10,
              "solidity": 0.2
             }
            },
            "type": "histogram"
           }
          ],
          "histogram2d": [
           {
            "colorbar": {
             "outlinewidth": 0,
             "ticks": ""
            },
            "colorscale": [
             [
              0,
              "#0d0887"
             ],
             [
              0.1111111111111111,
              "#46039f"
             ],
             [
              0.2222222222222222,
              "#7201a8"
             ],
             [
              0.3333333333333333,
              "#9c179e"
             ],
             [
              0.4444444444444444,
              "#bd3786"
             ],
             [
              0.5555555555555556,
              "#d8576b"
             ],
             [
              0.6666666666666666,
              "#ed7953"
             ],
             [
              0.7777777777777778,
              "#fb9f3a"
             ],
             [
              0.8888888888888888,
              "#fdca26"
             ],
             [
              1,
              "#f0f921"
             ]
            ],
            "type": "histogram2d"
           }
          ],
          "histogram2dcontour": [
           {
            "colorbar": {
             "outlinewidth": 0,
             "ticks": ""
            },
            "colorscale": [
             [
              0,
              "#0d0887"
             ],
             [
              0.1111111111111111,
              "#46039f"
             ],
             [
              0.2222222222222222,
              "#7201a8"
             ],
             [
              0.3333333333333333,
              "#9c179e"
             ],
             [
              0.4444444444444444,
              "#bd3786"
             ],
             [
              0.5555555555555556,
              "#d8576b"
             ],
             [
              0.6666666666666666,
              "#ed7953"
             ],
             [
              0.7777777777777778,
              "#fb9f3a"
             ],
             [
              0.8888888888888888,
              "#fdca26"
             ],
             [
              1,
              "#f0f921"
             ]
            ],
            "type": "histogram2dcontour"
           }
          ],
          "mesh3d": [
           {
            "colorbar": {
             "outlinewidth": 0,
             "ticks": ""
            },
            "type": "mesh3d"
           }
          ],
          "parcoords": [
           {
            "line": {
             "colorbar": {
              "outlinewidth": 0,
              "ticks": ""
             }
            },
            "type": "parcoords"
           }
          ],
          "pie": [
           {
            "automargin": true,
            "type": "pie"
           }
          ],
          "scatter": [
           {
            "fillpattern": {
             "fillmode": "overlay",
             "size": 10,
             "solidity": 0.2
            },
            "type": "scatter"
           }
          ],
          "scatter3d": [
           {
            "line": {
             "colorbar": {
              "outlinewidth": 0,
              "ticks": ""
             }
            },
            "marker": {
             "colorbar": {
              "outlinewidth": 0,
              "ticks": ""
             }
            },
            "type": "scatter3d"
           }
          ],
          "scattercarpet": [
           {
            "marker": {
             "colorbar": {
              "outlinewidth": 0,
              "ticks": ""
             }
            },
            "type": "scattercarpet"
           }
          ],
          "scattergeo": [
           {
            "marker": {
             "colorbar": {
              "outlinewidth": 0,
              "ticks": ""
             }
            },
            "type": "scattergeo"
           }
          ],
          "scattergl": [
           {
            "marker": {
             "colorbar": {
              "outlinewidth": 0,
              "ticks": ""
             }
            },
            "type": "scattergl"
           }
          ],
          "scattermapbox": [
           {
            "marker": {
             "colorbar": {
              "outlinewidth": 0,
              "ticks": ""
             }
            },
            "type": "scattermapbox"
           }
          ],
          "scatterpolar": [
           {
            "marker": {
             "colorbar": {
              "outlinewidth": 0,
              "ticks": ""
             }
            },
            "type": "scatterpolar"
           }
          ],
          "scatterpolargl": [
           {
            "marker": {
             "colorbar": {
              "outlinewidth": 0,
              "ticks": ""
             }
            },
            "type": "scatterpolargl"
           }
          ],
          "scatterternary": [
           {
            "marker": {
             "colorbar": {
              "outlinewidth": 0,
              "ticks": ""
             }
            },
            "type": "scatterternary"
           }
          ],
          "surface": [
           {
            "colorbar": {
             "outlinewidth": 0,
             "ticks": ""
            },
            "colorscale": [
             [
              0,
              "#0d0887"
             ],
             [
              0.1111111111111111,
              "#46039f"
             ],
             [
              0.2222222222222222,
              "#7201a8"
             ],
             [
              0.3333333333333333,
              "#9c179e"
             ],
             [
              0.4444444444444444,
              "#bd3786"
             ],
             [
              0.5555555555555556,
              "#d8576b"
             ],
             [
              0.6666666666666666,
              "#ed7953"
             ],
             [
              0.7777777777777778,
              "#fb9f3a"
             ],
             [
              0.8888888888888888,
              "#fdca26"
             ],
             [
              1,
              "#f0f921"
             ]
            ],
            "type": "surface"
           }
          ],
          "table": [
           {
            "cells": {
             "fill": {
              "color": "#EBF0F8"
             },
             "line": {
              "color": "white"
             }
            },
            "header": {
             "fill": {
              "color": "#C8D4E3"
             },
             "line": {
              "color": "white"
             }
            },
            "type": "table"
           }
          ]
         },
         "layout": {
          "annotationdefaults": {
           "arrowcolor": "#2a3f5f",
           "arrowhead": 0,
           "arrowwidth": 1
          },
          "autotypenumbers": "strict",
          "coloraxis": {
           "colorbar": {
            "outlinewidth": 0,
            "ticks": ""
           }
          },
          "colorscale": {
           "diverging": [
            [
             0,
             "#8e0152"
            ],
            [
             0.1,
             "#c51b7d"
            ],
            [
             0.2,
             "#de77ae"
            ],
            [
             0.3,
             "#f1b6da"
            ],
            [
             0.4,
             "#fde0ef"
            ],
            [
             0.5,
             "#f7f7f7"
            ],
            [
             0.6,
             "#e6f5d0"
            ],
            [
             0.7,
             "#b8e186"
            ],
            [
             0.8,
             "#7fbc41"
            ],
            [
             0.9,
             "#4d9221"
            ],
            [
             1,
             "#276419"
            ]
           ],
           "sequential": [
            [
             0,
             "#0d0887"
            ],
            [
             0.1111111111111111,
             "#46039f"
            ],
            [
             0.2222222222222222,
             "#7201a8"
            ],
            [
             0.3333333333333333,
             "#9c179e"
            ],
            [
             0.4444444444444444,
             "#bd3786"
            ],
            [
             0.5555555555555556,
             "#d8576b"
            ],
            [
             0.6666666666666666,
             "#ed7953"
            ],
            [
             0.7777777777777778,
             "#fb9f3a"
            ],
            [
             0.8888888888888888,
             "#fdca26"
            ],
            [
             1,
             "#f0f921"
            ]
           ],
           "sequentialminus": [
            [
             0,
             "#0d0887"
            ],
            [
             0.1111111111111111,
             "#46039f"
            ],
            [
             0.2222222222222222,
             "#7201a8"
            ],
            [
             0.3333333333333333,
             "#9c179e"
            ],
            [
             0.4444444444444444,
             "#bd3786"
            ],
            [
             0.5555555555555556,
             "#d8576b"
            ],
            [
             0.6666666666666666,
             "#ed7953"
            ],
            [
             0.7777777777777778,
             "#fb9f3a"
            ],
            [
             0.8888888888888888,
             "#fdca26"
            ],
            [
             1,
             "#f0f921"
            ]
           ]
          },
          "colorway": [
           "#636efa",
           "#EF553B",
           "#00cc96",
           "#ab63fa",
           "#FFA15A",
           "#19d3f3",
           "#FF6692",
           "#B6E880",
           "#FF97FF",
           "#FECB52"
          ],
          "font": {
           "color": "#2a3f5f"
          },
          "geo": {
           "bgcolor": "white",
           "lakecolor": "white",
           "landcolor": "#E5ECF6",
           "showlakes": true,
           "showland": true,
           "subunitcolor": "white"
          },
          "hoverlabel": {
           "align": "left"
          },
          "hovermode": "closest",
          "mapbox": {
           "style": "light"
          },
          "paper_bgcolor": "white",
          "plot_bgcolor": "#E5ECF6",
          "polar": {
           "angularaxis": {
            "gridcolor": "white",
            "linecolor": "white",
            "ticks": ""
           },
           "bgcolor": "#E5ECF6",
           "radialaxis": {
            "gridcolor": "white",
            "linecolor": "white",
            "ticks": ""
           }
          },
          "scene": {
           "xaxis": {
            "backgroundcolor": "#E5ECF6",
            "gridcolor": "white",
            "gridwidth": 2,
            "linecolor": "white",
            "showbackground": true,
            "ticks": "",
            "zerolinecolor": "white"
           },
           "yaxis": {
            "backgroundcolor": "#E5ECF6",
            "gridcolor": "white",
            "gridwidth": 2,
            "linecolor": "white",
            "showbackground": true,
            "ticks": "",
            "zerolinecolor": "white"
           },
           "zaxis": {
            "backgroundcolor": "#E5ECF6",
            "gridcolor": "white",
            "gridwidth": 2,
            "linecolor": "white",
            "showbackground": true,
            "ticks": "",
            "zerolinecolor": "white"
           }
          },
          "shapedefaults": {
           "line": {
            "color": "#2a3f5f"
           }
          },
          "ternary": {
           "aaxis": {
            "gridcolor": "white",
            "linecolor": "white",
            "ticks": ""
           },
           "baxis": {
            "gridcolor": "white",
            "linecolor": "white",
            "ticks": ""
           },
           "bgcolor": "#E5ECF6",
           "caxis": {
            "gridcolor": "white",
            "linecolor": "white",
            "ticks": ""
           }
          },
          "title": {
           "x": 0.05
          },
          "xaxis": {
           "automargin": true,
           "gridcolor": "white",
           "linecolor": "white",
           "ticks": "",
           "title": {
            "standoff": 15
           },
           "zerolinecolor": "white",
           "zerolinewidth": 2
          },
          "yaxis": {
           "automargin": true,
           "gridcolor": "white",
           "linecolor": "white",
           "ticks": "",
           "title": {
            "standoff": 15
           },
           "zerolinecolor": "white",
           "zerolinewidth": 2
          }
         }
        },
        "title": {
         "text": "Sentence Embed with District Political Affiliation"
        },
        "xaxis": {
         "anchor": "y",
         "domain": [
          0,
          1
         ],
         "title": {
          "text": "x"
         }
        },
        "yaxis": {
         "anchor": "x",
         "domain": [
          0,
          1
         ],
         "title": {
          "text": "y"
         }
        }
       }
      }
     },
     "metadata": {},
     "output_type": "display_data"
    }
   ],
   "source": [
    "fig = px.scatter(df_2d, x='x', y='y',title='Sentence Embed with District Political Affiliation', color='district_political_affiliation',color_discrete_map=color_discrete_map, hover_data=['schoolname', 'charter_political_affiliation', 'countydescription'])\n",
    "fig.show()"
   ]
  },
  {
   "cell_type": "code",
   "execution_count": 44,
   "metadata": {},
   "outputs": [
    {
     "name": "stderr",
     "output_type": "stream",
     "text": [
      "c:\\Users\\chris\\.conda\\envs\\charter\\lib\\site-packages\\sklearn\\cluster\\_kmeans.py:870: FutureWarning:\n",
      "\n",
      "The default value of `n_init` will change from 10 to 'auto' in 1.4. Set the value of `n_init` explicitly to suppress the warning\n",
      "\n",
      "c:\\Users\\chris\\.conda\\envs\\charter\\lib\\site-packages\\sklearn\\cluster\\_kmeans.py:870: FutureWarning:\n",
      "\n",
      "The default value of `n_init` will change from 10 to 'auto' in 1.4. Set the value of `n_init` explicitly to suppress the warning\n",
      "\n",
      "c:\\Users\\chris\\.conda\\envs\\charter\\lib\\site-packages\\sklearn\\cluster\\_kmeans.py:870: FutureWarning:\n",
      "\n",
      "The default value of `n_init` will change from 10 to 'auto' in 1.4. Set the value of `n_init` explicitly to suppress the warning\n",
      "\n",
      "c:\\Users\\chris\\.conda\\envs\\charter\\lib\\site-packages\\sklearn\\cluster\\_kmeans.py:870: FutureWarning:\n",
      "\n",
      "The default value of `n_init` will change from 10 to 'auto' in 1.4. Set the value of `n_init` explicitly to suppress the warning\n",
      "\n",
      "c:\\Users\\chris\\.conda\\envs\\charter\\lib\\site-packages\\sklearn\\cluster\\_kmeans.py:870: FutureWarning:\n",
      "\n",
      "The default value of `n_init` will change from 10 to 'auto' in 1.4. Set the value of `n_init` explicitly to suppress the warning\n",
      "\n",
      "c:\\Users\\chris\\.conda\\envs\\charter\\lib\\site-packages\\sklearn\\cluster\\_kmeans.py:870: FutureWarning:\n",
      "\n",
      "The default value of `n_init` will change from 10 to 'auto' in 1.4. Set the value of `n_init` explicitly to suppress the warning\n",
      "\n",
      "c:\\Users\\chris\\.conda\\envs\\charter\\lib\\site-packages\\sklearn\\cluster\\_kmeans.py:870: FutureWarning:\n",
      "\n",
      "The default value of `n_init` will change from 10 to 'auto' in 1.4. Set the value of `n_init` explicitly to suppress the warning\n",
      "\n",
      "c:\\Users\\chris\\.conda\\envs\\charter\\lib\\site-packages\\sklearn\\cluster\\_kmeans.py:870: FutureWarning:\n",
      "\n",
      "The default value of `n_init` will change from 10 to 'auto' in 1.4. Set the value of `n_init` explicitly to suppress the warning\n",
      "\n",
      "c:\\Users\\chris\\.conda\\envs\\charter\\lib\\site-packages\\sklearn\\cluster\\_kmeans.py:870: FutureWarning:\n",
      "\n",
      "The default value of `n_init` will change from 10 to 'auto' in 1.4. Set the value of `n_init` explicitly to suppress the warning\n",
      "\n",
      "c:\\Users\\chris\\.conda\\envs\\charter\\lib\\site-packages\\sklearn\\cluster\\_kmeans.py:870: FutureWarning:\n",
      "\n",
      "The default value of `n_init` will change from 10 to 'auto' in 1.4. Set the value of `n_init` explicitly to suppress the warning\n",
      "\n",
      "c:\\Users\\chris\\.conda\\envs\\charter\\lib\\site-packages\\sklearn\\cluster\\_kmeans.py:870: FutureWarning:\n",
      "\n",
      "The default value of `n_init` will change from 10 to 'auto' in 1.4. Set the value of `n_init` explicitly to suppress the warning\n",
      "\n",
      "c:\\Users\\chris\\.conda\\envs\\charter\\lib\\site-packages\\sklearn\\cluster\\_kmeans.py:870: FutureWarning:\n",
      "\n",
      "The default value of `n_init` will change from 10 to 'auto' in 1.4. Set the value of `n_init` explicitly to suppress the warning\n",
      "\n",
      "c:\\Users\\chris\\.conda\\envs\\charter\\lib\\site-packages\\sklearn\\cluster\\_kmeans.py:870: FutureWarning:\n",
      "\n",
      "The default value of `n_init` will change from 10 to 'auto' in 1.4. Set the value of `n_init` explicitly to suppress the warning\n",
      "\n",
      "c:\\Users\\chris\\.conda\\envs\\charter\\lib\\site-packages\\sklearn\\cluster\\_kmeans.py:870: FutureWarning:\n",
      "\n",
      "The default value of `n_init` will change from 10 to 'auto' in 1.4. Set the value of `n_init` explicitly to suppress the warning\n",
      "\n"
     ]
    },
    {
     "data": {
      "image/png": "[encoded data removed]",
      "text/plain": [
       "<Figure size 1000x800 with 1 Axes>"
      ]
     },
     "metadata": {},
     "output_type": "display_data"
    }
   ],
   "source": [
    "## elbow test the damn thing\n",
    "\n",
    "from sklearn.cluster import KMeans\n",
    "import matplotlib.pyplot as plt\n",
    "\n",
    "matrix = np.vstack(complete_emebed_party.ada_embedding.values)\n",
    "\n",
    "sse = [] # sum of squared distances\n",
    "K = range(1, 15) # test up to 15 clusters, adjust as necessary\n",
    "\n",
    "for k in K:\n",
    "    kmeans = KMeans(n_clusters=k, init='k-means++', random_state=42).fit(matrix)\n",
    "    sse.append(kmeans.inertia_)\n",
    "\n",
    "# plot\n",
    "plt.figure(figsize=(10,8))\n",
    "plt.plot(K, sse, 'bx-')\n",
    "plt.xlabel('k')\n",
    "plt.ylabel('Sum_of_squared_distances')\n",
    "plt.title('Elbow Method For Optimal k')\n",
    "plt.show() # holy shit there is no elbow"
   ]
  },
  {
   "cell_type": "code",
   "execution_count": 52,
   "metadata": {},
   "outputs": [
    {
     "name": "stderr",
     "output_type": "stream",
     "text": [
      "c:\\Users\\chris\\.conda\\envs\\charter\\lib\\site-packages\\sklearn\\cluster\\_kmeans.py:870: FutureWarning:\n",
      "\n",
      "The default value of `n_init` will change from 10 to 'auto' in 1.4. Set the value of `n_init` explicitly to suppress the warning\n",
      "\n"
     ]
    }
   ],
   "source": [
    "import numpy as np\n",
    "from sklearn.cluster import KMeans\n",
    "\n",
    "matrix = np.vstack(complete_emebed_party.ada_embedding.values)\n",
    "n_clusters = 3\n",
    "\n",
    "kmeans = KMeans(n_clusters = n_clusters, init='k-means++', random_state=42)\n",
    "kmeans.fit(matrix)\n",
    "complete_emebed_party['Cluster'] = kmeans.labels_"
   ]
  },
  {
   "cell_type": "code",
   "execution_count": 74,
   "metadata": {},
   "outputs": [
    {
     "name": "stderr",
     "output_type": "stream",
     "text": [
      "C:\\Users\\chris\\AppData\\Local\\Temp\\ipykernel_18936\\2850246872.py:12: RuntimeWarning:\n",
      "\n",
      "Mean of empty slice.\n",
      "\n",
      "c:\\Users\\chris\\.conda\\envs\\charter\\lib\\site-packages\\numpy\\core\\_methods.py:192: RuntimeWarning:\n",
      "\n",
      "invalid value encountered in divide\n",
      "\n",
      "C:\\Users\\chris\\AppData\\Local\\Temp\\ipykernel_18936\\2850246872.py:13: RuntimeWarning:\n",
      "\n",
      "Mean of empty slice.\n",
      "\n"
     ]
    },
    {
     "data": {
      "text/plain": [
       "Text(0.5, 1.0, 'Clusters identified visualized in language 2d using t-SNE')"
      ]
     },
     "execution_count": 74,
     "metadata": {},
     "output_type": "execute_result"
    },
    {
     "data": {
      "image/png": "[encoded data removed]",
      "text/plain": [
       "<Figure size 640x480 with 1 Axes>"
      ]
     },
     "metadata": {},
     "output_type": "display_data"
    }
   ],
   "source": [
    "tsne = TSNE(n_components=2, perplexity=15, random_state=42, init=\"random\", learning_rate='auto')\n",
    "vis_dims2 = tsne.fit_transform(matrix)\n",
    "\n",
    "x = [x for x, y in vis_dims2]\n",
    "y = [y for x, y in vis_dims2]\n",
    "\n",
    "for category, color in enumerate([\"purple\", \"green\", \"red\", \"blue\"]):\n",
    "    xs = np.array(x)[complete_emebed_party.Cluster == category]\n",
    "    ys = np.array(y)[complete_emebed_party.Cluster == category]\n",
    "    plt.scatter(xs, ys, color=color, alpha=0.3)\n",
    "\n",
    "    avg_x = xs.mean()\n",
    "    avg_y = ys.mean()\n",
    "\n",
    "    plt.scatter(avg_x, avg_y, marker=\"x\", color=color, s=100)\n",
    "plt.title(\"Clusters identified visualized in language 2d using t-SNE\")"
   ]
  },
  {
   "cell_type": "code",
   "execution_count": 103,
   "metadata": {},
   "outputs": [
    {
     "data": {
      "application/vnd.plotly.v1+json": {
       "config": {
        "plotlyServerURL": "https://plot.ly"
       },
       "data": [
        {
         "customdata": [
          [
           "North Carolina Cyber Academy",
           "Democrat",
           "Democrat"
          ],
          [
           "NC Virtual Academy",
           "Democrat",
           "Tie"
          ],
          [
           "Maureen Joy Charter School",
           "Democrat",
           "Democrat"
          ],
          [
           "Durham Charter School",
           "Democrat",
           "Republican"
          ],
          [
           "Community School of Digital & Visual Art",
           "Democrat",
           "Democrat"
          ],
          [
           "Kestrel Heights School",
           "Democrat",
           "Democrat"
          ],
          [
           "Voyager Academy",
           "Democrat",
           "Democrat"
          ],
          [
           "Global Scholars Academy",
           "Democrat",
           "Democrat"
          ],
          [
           "The Institute Development Young Leaders",
           "Democrat",
           "Democrat"
          ],
          [
           "Reaching All Minds Academy",
           "Democrat",
           "Democrat"
          ],
          [
           "Excelsior Classical Academy",
           "Democrat",
           "Tie"
          ],
          [
           "Discovery Charter",
           "Democrat",
           "Tie"
          ],
          [
           "River Mill Academy",
           "Tie",
           "Democrat"
          ],
          [
           "The Hawbridge School",
           "Tie",
           "Democrat"
          ],
          [
           "Clover Garden",
           "Tie",
           "Republican"
          ],
          [
           "Alamance Community School",
           "Tie",
           "Democrat"
          ],
          [
           "Marjorie Williams Academy",
           "Republican",
           "Republican"
          ],
          [
           "Washington Montessori",
           "Republican",
           "Tie"
          ],
          [
           "Emereau: Bladen",
           "Tie",
           "Democrat"
          ],
          [
           "ArtSpace Charter School",
           "Tie",
           "Democrat"
          ],
          [
           "IC Imagine ",
           "Tie",
           "Democrat"
          ],
          [
           "The Franklin School of Innovation",
           "Tie",
           "Tie"
          ],
          [
           "Francine Delany New School",
           "Tie",
           "Democrat"
          ],
          [
           "New Dimensions",
           "Republican",
           "Republican"
          ],
          [
           "Carolina International School",
           "Tie",
           "Democrat"
          ],
          [
           "Cabarrus Charter Academy",
           "Tie",
           "Republican"
          ],
          [
           "A.C.E. Academy",
           "Tie",
           "Democrat"
          ],
          [
           "Concord Lake STEAM Academy",
           "Tie",
           "Republican"
          ],
          [
           "Oak Hill Charter School",
           "Republican",
           "Tie"
          ],
          [
           "Tiller School",
           "Republican",
           "Democrat"
          ],
          [
           "Willow Oak Montessori",
           "Democrat",
           "Democrat"
          ],
          [
           "Woods Charter",
           "Democrat",
           "Democrat"
          ],
          [
           "Pinnacle Classical Academy",
           "Republican",
           "Tie"
          ],
          [
           "Thomas Academy",
           "Republican",
           "Tie"
          ],
          [
           "Alpha Academy",
           "Democrat",
           "Democrat"
          ],
          [
           "The Capitol Encore Academy",
           "Democrat",
           "Democrat"
          ],
          [
           "Water's Edge Village School",
           "Republican",
           "Democrat"
          ],
          [
           "Davidson Charter Academy",
           "Republican",
           "Republican"
          ],
          [
           "North East Carolina Prep",
           "Democrat",
           "Democrat"
          ],
          [
           "Quality Education Academy",
           "Republican",
           "Democrat"
          ],
          [
           "Carter G. Woodson School",
           "Republican",
           "Democrat"
          ],
          [
           "The Arts Based School",
           "Republican",
           "Tie"
          ],
          [
           "Crosscreek Charter School",
           "Democrat",
           "Tie"
          ],
          [
           "Youngsville Academy",
           "Democrat",
           "Republican"
          ],
          [
           "Wake Preparatory Academy",
           "Democrat",
           "Tie"
          ],
          [
           "Piedmont Community Charter School",
           "Republican",
           "Republican"
          ],
          [
           "Mountain Island Charter School",
           "Republican",
           "Democrat"
          ],
          [
           "Ridgeview Charter School",
           "Republican",
           "Democrat"
          ],
          [
           "Community Public Charter",
           "Republican",
           "Democrat"
          ],
          [
           "Falls Lake Academy",
           "Tie",
           "Republican"
          ],
          [
           "Oxford Preparatory",
           "Tie",
           "Democrat"
          ],
          [
           "Guilford Preparatory Academy",
           "Democrat",
           "Democrat"
          ],
          [
           "Phoenix Academy - Primary, Elem, Upper",
           "Democrat",
           "Tie"
          ],
          [
           "Johnston Charter Academy",
           "Republican",
           "Tie"
          ],
          [
           "Rolesville Charter Academy",
           "Republican",
           "Tie"
          ],
          [
           "Triad Math and Science Academy",
           "Democrat",
           "Democrat"
          ],
          [
           "Cornerstone Charter Academy-CFA",
           "Democrat",
           "Tie"
          ],
          [
           "College Prep and Leadership Academy",
           "Democrat",
           "Tie"
          ],
          [
           "Next Generation Academy",
           "Democrat",
           "Democrat"
          ],
          [
           "The Experiential School of Greensboro",
           "Democrat",
           "Democrat"
          ],
          [
           "KIPP Halifax College Preparatory",
           "Democrat",
           "Democrat"
          ],
          [
           "KIPP Charlotte",
           "Democrat",
           "Democrat"
          ],
          [
           "Hobgood Charter School",
           "Democrat",
           "Democrat"
          ],
          [
           "Anderson Creek Academy",
           "Democrat",
           "Republican"
          ],
          [
           "Achievement Charter Academy",
           "Democrat",
           "Tie"
          ],
          [
           "The Mountain Community Sch",
           "Republican",
           "Tie"
          ],
          [
           "FernLeaf",
           "Republican",
           "Democrat"
          ],
          [
           "American Renaissance School",
           "Republican",
           "Tie"
          ],
          [
           "Success Institute Charter",
           "Republican",
           "Tie"
          ],
          [
           "Pine Lake Preparatory",
           "Republican",
           "Democrat"
          ],
          [
           "Summit Charter",
           "Tie",
           "Republican"
          ],
          [
           "Neuse Charter School",
           "Republican",
           "Republican"
          ],
          [
           "Ascend Leadership Academy: Lee County",
           "Democrat",
           "Republican"
          ],
          [
           "MINA Charter School of Lee County",
           "Democrat",
           "Democrat"
          ],
          [
           "Children's Village Academy",
           "Democrat",
           "Democrat"
          ],
          [
           "Lincoln Charter School",
           "Republican",
           "Republican"
          ],
          [
           "West Lake Preparatory Academy",
           "Republican",
           "Democrat"
          ],
          [
           "Lake Norman Charter",
           "Democrat",
           "Democrat"
          ],
          [
           "Metrolina Reg Scholars Academy",
           "Democrat",
           "Tie"
          ],
          [
           "Community School of Davidson",
           "Democrat",
           "Tie"
          ],
          [
           "Socrates Academy",
           "Democrat",
           "Democrat"
          ],
          [
           "Charlotte Secondary",
           "Democrat",
           "Tie"
          ],
          [
           "Corvian Community School",
           "Democrat",
           "Tie"
          ],
          [
           "Eastside STREAM Academy",
           "Democrat",
           "Tie"
          ],
          [
           "Invest Collegiate Transform",
           "Democrat",
           "Democrat"
          ],
          [
           "Bradford Preparatory School",
           "Democrat",
           "Tie"
          ],
          [
           "Commonwealth High",
           "Democrat",
           "Democrat"
          ],
          [
           "Pioneer Springs Community School",
           "Democrat",
           "Democrat"
          ],
          [
           "Lakeside Charter Academy",
           "Democrat",
           "Republican"
          ],
          [
           "United Community School",
           "Democrat",
           "Democrat"
          ],
          [
           "Stewart Creek High",
           "Democrat",
           "Democrat"
          ],
          [
           "Charlotte Lab School",
           "Democrat",
           "Democrat"
          ],
          [
           "TMSA Charlotte",
           "Democrat",
           "Democrat"
          ],
          [
           "VERITAS Community School, CFA",
           "Democrat",
           "Tie"
          ],
          [
           "Mallard Creek STEM Academy",
           "Democrat",
           "Tie"
          ],
          [
           "Unity Classical Charter School",
           "Democrat",
           "Republican"
          ],
          [
           "East Voyager Academy of Charlotte",
           "Democrat",
           "Tie"
          ],
          [
           "Jackson Day School",
           "Democrat",
           "Tie"
          ],
          [
           "Steele Creek Preparatory Academy",
           "Democrat",
           "Republican"
          ],
          [
           "Southwest Charlotte STEM Academy",
           "Democrat",
           "Tie"
          ],
          [
           "Telra Institute",
           "Democrat",
           "Democrat"
          ],
          [
           "Movement School Southwest",
           "Democrat",
           "Republican"
          ],
          [
           "The Academy of Moore County",
           "Tie",
           "Republican"
          ],
          [
           "STARS Charter",
           "Tie",
           "Tie"
          ],
          [
           "Moore Montessori Community School",
           "Tie",
           "Democrat"
          ],
          [
           "Rocky Mount Preparatory",
           "Democrat",
           "Tie"
          ],
          [
           "Cape Fear Center for Inquiry",
           "Republican",
           "Democrat"
          ],
          [
           "Wilmington Preparatory Academy",
           "Republican",
           "Democrat"
          ],
          [
           "Island Montessori Charter School",
           "Republican",
           "Tie"
          ],
          [
           "Girls Leadership Academy of Wilmington",
           "Republican",
           "Tie"
          ],
          [
           "Wilmington School of the Arts",
           "Republican",
           "Democrat"
          ],
          [
           "Z.E.C.A. School of Arts and Technology",
           "Republican",
           "Democrat"
          ],
          [
           "Eno River Academy",
           "Tie",
           "Tie"
          ],
          [
           "The Expedition School",
           "Tie",
           "Tie"
          ],
          [
           "Arapahoe Charter School",
           "Tie",
           "Tie"
          ],
          [
           "Northeast Academy of Aerospace & AdvTech",
           "Democrat",
           "Democrat"
          ],
          [
           "Bethel Hill Charter",
           "Democrat",
           "Republican"
          ],
          [
           "Roxboro Community School",
           "Democrat",
           "Republican"
          ],
          [
           "Uwharrie Charter Academy",
           "Republican",
           "Republican"
          ],
          [
           "CIS Academy",
           "Democrat",
           "Tie"
          ],
          [
           "Southeastern Academy",
           "Democrat",
           "Tie"
          ],
          [
           "Old Main STREAM Academy",
           "Democrat",
           "Tie"
          ],
          [
           "Bethany Community School",
           "Republican",
           "Republican"
          ],
          [
           "Faith Academy Charter School",
           "Republican",
           "Republican"
          ],
          [
           "Thomas Jefferson Class Academy",
           "Republican",
           "Republican"
          ],
          [
           "Lake Lure Classical Academy",
           "Republican",
           "Republican"
          ],
          [
           "Gray Stone Day",
           "Republican",
           "Tie"
          ],
          [
           "Millennium Charter Academy",
           "Tie",
           "Republican"
          ],
          [
           "Brevard Academy",
           "Republican",
           "Republican"
          ],
          [
           "Union Academy",
           "Tie",
           "Republican"
          ],
          [
           "Union Day School",
           "Tie",
           "Tie"
          ],
          [
           "Union Prep Academy at Indian Trail",
           "Tie",
           "Republican"
          ],
          [
           "Monroe Charter Academy",
           "Tie",
           "Tie"
          ],
          [
           "Apprentice Academy High School",
           "Tie",
           "Republican"
          ],
          [
           "Henderson Collegiate",
           "Democrat",
           "Democrat"
          ],
          [
           "Vance Charter School",
           "Democrat",
           "Tie"
          ],
          [
           "The Exploris School",
           "Republican",
           "Democrat"
          ],
          [
           "Sterling Montessori Academy",
           "Republican",
           "Democrat"
          ],
          [
           "Franklin Academy",
           "Republican",
           "Tie"
          ],
          [
           "East Wake Academy",
           "Republican",
           "Tie"
          ],
          [
           "Raleigh Charter High School",
           "Republican",
           "Democrat"
          ],
          [
           "Quest Academy",
           "Republican",
           "Tie"
          ],
          [
           "Southern Wake Academy",
           "Republican",
           "Tie"
          ],
          [
           "Casa Esperanza Montessori Charter School",
           "Republican",
           "Democrat"
          ],
          [
           "Endeavor Charter School",
           "Republican",
           "Democrat"
          ],
          [
           "Triangle Math and Science Academy",
           "Republican",
           "Democrat"
          ],
          [
           "Longleaf School of the Arts",
           "Republican",
           "Democrat"
          ],
          [
           "Cardinal Charter Academy",
           "Republican",
           "Republican"
          ],
          [
           "Envision Science Academy",
           "Republican",
           "Democrat"
          ],
          [
           "Central Wake High School",
           "Republican",
           "Democrat"
          ],
          [
           "Pine Springs Preparatory Academy",
           "Republican",
           "Republican"
          ],
          [
           "Raleigh Oak Charter",
           "Republican",
           "Tie"
          ],
          [
           "Cardinal Charter Acad at Wendell Falls",
           "Republican",
           "Republican"
          ],
          [
           "Doral Academy of North Carolina",
           "Republican",
           "Tie"
          ],
          [
           "The Math and Science Academy of Apex",
           "Republican",
           "Democrat"
          ],
          [
           "Haliwa-Saponi Tribal School",
           "Democrat",
           "Democrat"
          ],
          [
           "Pocosin Innovative Charter",
           "Democrat",
           "Tie"
          ],
          [
           "Dillard Academy",
           "Tie",
           "Tie"
          ],
          [
           "Wayne Preparatory Academy",
           "Tie",
           "Tie"
          ],
          [
           "Wilson Preparatory Academy",
           "Democrat",
           "Democrat"
          ],
          [
           "Movement School Eastland",
           "Democrat",
           "Republican"
          ],
          [
           "Wake Forest Charter Academy",
           "Republican",
           "Democrat"
          ],
          [
           "Iredell Charter Academy",
           "Republican",
           "Republican"
          ],
          [
           "American Leadership Academy-Coastal",
           "Republican",
           "Republican"
          ],
          [
           "Sugar Creek Charter",
           "Democrat",
           "Democrat"
          ],
          [
           "NC Leadership Charter Academy",
           "Republican",
           "Republican"
          ],
          [
           "Central Park School For Child",
           "Democrat",
           "Democrat"
          ],
          [
           "Aristotle Preparatory Academy",
           "Democrat",
           "Tie"
          ],
          [
           "Langtree Charter Academy",
           "Republican",
           "Republican"
          ],
          [
           "Gate City Charter",
           "Democrat",
           "Republican"
          ],
          [
           "KIPP Durham College Preparatory",
           "Democrat",
           "Democrat"
          ],
          [
           "KIPP Gaston College Preparatory",
           "Democrat",
           "Democrat"
          ],
          [
           "Queen's Grant Community School",
           "Democrat",
           "Republican"
          ],
          [
           "Sallie B Howard School",
           "Democrat",
           "Tie"
          ],
          [
           "Classical Charter Schools of Southport",
           "Republican",
           "Republican"
          ],
          [
           "Classical Charter Schools of Wilmington",
           "Republican",
           "Republican"
          ],
          [
           "Winterville Charter Academy",
           "Democrat",
           "Democrat"
          ],
          [
           "Forsyth Academy",
           "Republican",
           "Democrat"
          ],
          [
           "Summerfield Charter Academy",
           "Democrat",
           "Republican"
          ],
          [
           "Chatham Charter",
           "Democrat",
           "Tie"
          ],
          [
           "Revolution Academy",
           "Democrat",
           "Republican"
          ],
          [
           "Matthews Charter Academy",
           "Democrat",
           "Tie"
          ],
          [
           "Asheville PEAK Academy",
           "Tie",
           "Democrat"
          ],
          [
           "Classical Charter Schools of Whiteville",
           "Republican",
           "Republican"
          ],
          [
           "Research Triangle Charter",
           "Democrat",
           "Republican"
          ],
          [
           "Classical Charter Schools of Leland ",
           "Republican",
           "Republican"
          ],
          [
           "Bonnie Cone Classical Academy",
           "Democrat",
           "Republican"
          ],
          [
           "Evergreen Community Charter",
           "Tie",
           "Democrat"
          ],
          [
           "Carolina Charter Academy",
           "Republican",
           "Republican"
          ],
          [
           "Peak Charter Academy",
           "Republican",
           "Tie"
          ],
          [
           "Research Triangle High School",
           "Democrat",
           "Tie"
          ],
          [
           "Greensboro Academy",
           "Democrat",
           "Tie"
          ],
          [
           "Piedmont Classical High School",
           "Democrat",
           "Democrat"
          ],
          [
           "Bear Grass Charter School",
           "Tie",
           "Tie"
          ],
          [
           "Tillery Charter Academy",
           "Republican",
           "Democrat"
          ],
          [
           "Paul R. Brown Leadership Academy",
           "Tie",
           "Democrat"
          ],
          [
           "Two Rivers Community School",
           "Tie",
           "Democrat"
          ],
          [
           "American Leadership Academy - Johnston",
           "Republican",
           "Tie"
          ],
          [
           "Mountain Discovery",
           "Republican",
           "Democrat"
          ],
          [
           "Shining Rock Classical Academy",
           "Republican",
           "Tie"
          ],
          [
           "Movement Charter School",
           "Democrat",
           "Republican"
          ],
          [
           "Central Carolina Academy",
           "Democrat",
           "Tie"
          ],
          [
           "Magellan Charter",
           "Republican",
           "Tie"
          ],
          [
           "Summit Creek Academy",
           "Democrat",
           "Tie"
          ],
          [
           "RISE Southeast Raleigh Charter",
           "Republican",
           "Democrat"
          ],
          [
           "PreEminent Charter",
           "Republican",
           "Democrat"
          ]
         ],
         "hovertemplate": "x=%{x}<br>y=%{y}<br>SchoolName=%{customdata[0]}<br>DistrictPoliticalAffiliation=%{customdata[1]}<br>CharterPoliticalAffiliation=%{customdata[2]}<br>Cluster=%{marker.color}<extra></extra>",
         "legendgroup": "",
         "marker": {
          "color": [
           1,
           1,
           1,
           0,
           1,
           2,
           2,
           1,
           2,
           1,
           1,
           0,
           2,
           1,
           2,
           2,
           1,
           2,
           1,
           0,
           1,
           1,
           1,
           1,
           2,
           1,
           1,
           2,
           1,
           1,
           1,
           0,
           1,
           2,
           2,
           2,
           2,
           0,
           2,
           2,
           2,
           1,
           1,
           1,
           1,
           1,
           0,
           1,
           1,
           2,
           1,
           1,
           1,
           1,
           1,
           2,
           0,
           2,
           2,
           2,
           1,
           1,
           0,
           2,
           2,
           1,
           2,
           2,
           1,
           2,
           1,
           1,
           2,
           0,
           1,
           0,
           2,
           0,
           1,
           2,
           1,
           1,
           1,
           2,
           2,
           1,
           1,
           1,
           0,
           1,
           1,
           1,
           0,
           1,
           1,
           2,
           2,
           1,
           2,
           0,
           1,
           1,
           2,
           1,
           1,
           2,
           2,
           2,
           1,
           1,
           2,
           2,
           2,
           1,
           2,
           1,
           1,
           2,
           0,
           1,
           1,
           2,
           1,
           1,
           2,
           1,
           1,
           1,
           1,
           1,
           1,
           2,
           1,
           1,
           2,
           2,
           2,
           1,
           1,
           1,
           0,
           2,
           1,
           1,
           1,
           2,
           1,
           1,
           2,
           1,
           1,
           1,
           1,
           1,
           1,
           1,
           1,
           2,
           1,
           2,
           2,
           0,
           0,
           2,
           2,
           2,
           2,
           2,
           0,
           2,
           2,
           0,
           0,
           2,
           2,
           2,
           0,
           2,
           0,
           0,
           2,
           2,
           2,
           2,
           2,
           2,
           2,
           0,
           0,
           2,
           2,
           0,
           2,
           0,
           2,
           2,
           2,
           2,
           0,
           2,
           0,
           0,
           0,
           2,
           2,
           0
          ],
          "coloraxis": "coloraxis",
          "symbol": "circle"
         },
         "mode": "markers",
         "name": "",
         "orientation": "v",
         "showlegend": false,
         "type": "scatter",
         "x": [
          5.185395240783691,
          0.30248600244522095,
          -2.5386714935302734,
          5.598446369171143,
          5.100043773651123,
          12.667340278625488,
          -3.788646936416626,
          -7.583162307739258,
          5.447610855102539,
          -1.5433070659637451,
          -6.966397762298584,
          15.112930297851562,
          -10.964253425598145,
          -4.899559020996094,
          0.5044665336608887,
          -9.977591514587402,
          6.384897232055664,
          -10.331132888793945,
          -10.716755867004395,
          -9.291176795959473,
          0.37794798612594604,
          -8.554887771606445,
          -3.2431929111480713,
          -3.122490406036377,
          9.530970573425293,
          -0.45769786834716797,
          -1.8960554599761963,
          5.545358657836914,
          -6.016045570373535,
          -7.422652244567871,
          4.097524166107178,
          18.139795303344727,
          13.2086763381958,
          -5.506058216094971,
          7.73588228225708,
          -8.950661659240723,
          2.03495192527771,
          7.56521463394165,
          8.76382064819336,
          3.5754013061523438,
          19.05463409423828,
          -8.626185417175293,
          -3.5761098861694336,
          -0.3846572935581207,
          -1.0212769508361816,
          -3.913386106491089,
          15.648573875427246,
          7.073927879333496,
          1.3424016237258911,
          7.423115253448486,
          5.238654136657715,
          -6.627482891082764,
          -16.53362464904785,
          -16.543384552001953,
          -16.937923431396484,
          -0.1440708190202713,
          13.51930046081543,
          -13.832073211669922,
          -12.993318557739258,
          13.202657699584961,
          6.926980972290039,
          6.929290771484375,
          17.42572784423828,
          -9.54759407043457,
          -3.186218500137329,
          16.992454528808594,
          0.8348878622055054,
          12.682861328125,
          0.4841850996017456,
          -4.496460437774658,
          -0.6270708441734314,
          3.534815788269043,
          10.150503158569336,
          8.764548301696777,
          -1.4892288446426392,
          7.3242011070251465,
          -3.3825578689575195,
          7.650242328643799,
          3.9903650283813477,
          0.8458601832389832,
          -4.889484405517578,
          -2.709322452545166,
          3.1505229473114014,
          -0.4053545892238617,
          -12.177746772766113,
          -3.7021994590759277,
          -22.928102493286133,
          -4.459341526031494,
          6.841818332672119,
          0.18598687648773193,
          -22.452686309814453,
          -3.0822339057922363,
          0.9671185612678528,
          1.004220724105835,
          -8.985925674438477,
          -9.85688591003418,
          -3.7932369709014893,
          3.7674496173858643,
          -1.9069561958312988,
          1.3744661808013916,
          2.0101494789123535,
          -0.7682643532752991,
          -10.169875144958496,
          -5.712210178375244,
          -1.1528600454330444,
          -0.09229321032762527,
          10.715270042419434,
          -1.9212514162063599,
          -7.5085601806640625,
          0.6196298003196716,
          -9.118550300598145,
          -6.6525444984436035,
          -10.646077156066895,
          -3.602452039718628,
          2.5582315921783447,
          -5.826089859008789,
          -13.882649421691895,
          4.0272321701049805,
          12.398275375366211,
          5.6271185874938965,
          -2.692944288253784,
          -14.814794540405273,
          -13.698663711547852,
          -2.439521074295044,
          14.399760246276855,
          -5.246265411376953,
          -5.8348846435546875,
          -8.462892532348633,
          -13.043869972229004,
          -2.5663414001464844,
          2.092158794403076,
          -5.114712238311768,
          -6.431992053985596,
          0.9384776949882507,
          8.755145072937012,
          -11.049617767333984,
          -3.886256217956543,
          -3.91414475440979,
          7.231179714202881,
          -1.4872502088546753,
          4.635770320892334,
          0.8140530586242676,
          -7.728745460510254,
          4.474182605743408,
          -6.738786697387695,
          -0.005156306549906731,
          -4.403324127197266,
          -0.9229187369346619,
          -1.442550539970398,
          -22.61920166015625,
          -8.691338539123535,
          -6.04100227355957,
          -0.9225083589553833,
          -2.932579755783081,
          -5.84312105178833,
          6.986333847045898,
          6.193902492523193,
          8.473433494567871,
          -3.667940855026245,
          -2.5462286472320557,
          11.694911003112793,
          11.12620735168457,
          8.296481132507324,
          10.084132194519043,
          3.6034371852874756,
          10.977036476135254,
          -13.931988716125488,
          -2.6915199756622314,
          9.37769603729248,
          -3.9305882453918457,
          2.053048610687256,
          2.0574989318847656,
          16.60030746459961,
          -10.81594467163086,
          -21.191349029541016,
          -20.675460815429688,
          11.606203079223633,
          -12.710968971252441,
          11.948286056518555,
          13.850757598876953,
          -8.894964218139648,
          -2.651463747024536,
          -0.42911311984062195,
          -20.758785247802734,
          4.450098514556885,
          -20.24451446533203,
          -11.171723365783691,
          16.965599060058594,
          11.77291488647461,
          -13.199413299560547,
          2.768592357635498,
          13.04495620727539,
          -11.228734970092773,
          11.85404109954834,
          -10.384978294372559,
          11.075682640075684,
          4.578557014465332,
          -14.259255409240723,
          15.773386001586914,
          -7.256112575531006,
          12.239984512329102,
          12.486781120300293,
          13.626473426818848,
          -17.620115280151367,
          2.415466785430908,
          16.208248138427734
         ],
         "xaxis": "x",
         "y": [
          -2.543095588684082,
          4.6761040687561035,
          7.302674293518066,
          -9.813477516174316,
          1.1917442083358765,
          4.82012939453125,
          22.23850440979004,
          14.358668327331543,
          -0.8048939108848572,
          6.091976165771484,
          -4.0304036140441895,
          -2.9480600357055664,
          -4.733179092407227,
          7.801994800567627,
          17.50186538696289,
          3.868873357772827,
          11.585319519042969,
          -1.248660683631897,
          1.9357291460037231,
          8.2302827835083,
          6.283774375915527,
          2.5263099670410156,
          11.070067405700684,
          4.0780134201049805,
          -9.059001922607422,
          2.943566083908081,
          8.832352638244629,
          -17.204147338867188,
          -5.155787467956543,
          9.951042175292969,
          15.745302200317383,
          -10.013612747192383,
          6.11903715133667,
          -0.9520622491836548,
          12.37562370300293,
          -10.328256607055664,
          7.590305328369141,
          -11.70169734954834,
          -9.469173431396484,
          0.8332396745681763,
          -10.286022186279297,
          8.995558738708496,
          6.076480865478516,
          13.939943313598633,
          8.069154739379883,
          9.385549545288086,
          -1.2459602355957031,
          -7.566522598266602,
          3.0285305976867676,
          0.06938967853784561,
          4.661155700683594,
          2.2250423431396484,
          9.571471214294434,
          9.152124404907227,
          9.52578353881836,
          -11.107673645019531,
          -16.68329429626465,
          0.35669898986816406,
          -5.864176273345947,
          -9.632362365722656,
          -9.610468864440918,
          -9.618058204650879,
          -8.757018089294434,
          14.70273208618164,
          -8.27544116973877,
          -1.5626592636108398,
          18.495576858520508,
          6.056746006011963,
          8.788871765136719,
          -18.961498260498047,
          12.25014591217041,
          -1.3491963148117065,
          14.207924842834473,
          -19.023279190063477,
          6.8438944816589355,
          -17.84973907470703,
          -19.01199722290039,
          -18.785367965698242,
          -1.2787436246871948,
          -0.21213169395923615,
          5.530987739562988,
          0.0005762486252933741,
          11.187700271606445,
          -4.186306953430176,
          2.519075632095337,
          8.235692977905273,
          4.867099761962891,
          14.071982383728027,
          -17.423458099365234,
          0.49325811862945557,
          4.750779628753662,
          1.5987505912780762,
          -12.324617385864258,
          8.099586486816406,
          1.8292231559753418,
          -6.668114185333252,
          22.22572135925293,
          6.742133617401123,
          -16.389101028442383,
          -13.142977714538574,
          5.4699931144714355,
          12.82890510559082,
          16.165664672851562,
          9.114339828491211,
          10.322129249572754,
          -16.293617248535156,
          -11.61945629119873,
          -18.998762130737305,
          5.7138671875,
          10.557393074035645,
          10.205079078674316,
          11.993956565856934,
          13.739184379577637,
          17.063352584838867,
          -2.5824639797210693,
          0.2677105665206909,
          20.669212341308594,
          -7.737558841705322,
          -14.7514066696167,
          2.190065622329712,
          -1.0882339477539062,
          1.2500561475753784,
          20.699079513549805,
          5.36102294921875,
          6.808188438415527,
          -3.4312572479248047,
          5.846879005432129,
          -5.086969375610352,
          20.802940368652344,
          12.899784088134766,
          13.59481143951416,
          -10.456700325012207,
          -4.767440319061279,
          4.961796283721924,
          5.252439022064209,
          -2.159266710281372,
          17.833402633666992,
          11.47341251373291,
          3.1107752323150635,
          4.819802761077881,
          -8.857637405395508,
          -4.633625030517578,
          3.577362537384033,
          16.264022827148438,
          8.327524185180664,
          -11.229338645935059,
          8.52237319946289,
          2.196242570877075,
          -3.0025320053100586,
          5.197495460510254,
          0.7833669185638428,
          11.164111137390137,
          2.2635257244110107,
          -1.8000948429107666,
          4.757141590118408,
          7.8338398933410645,
          6.6311235427856445,
          0.07623487710952759,
          2.02095365524292,
          -18.900001525878906,
          -3.8464579582214355,
          -14.895846366882324,
          -13.149447441101074,
          9.505005836486816,
          3.5661375522613525,
          14.175325393676758,
          -2.1483888626098633,
          -15.975067138671875,
          -16.16621971130371,
          -7.730014324188232,
          -21.768253326416016,
          -21.7978458404541,
          -13.875850677490234,
          9.594310760498047,
          -5.1509504318237305,
          -4.71789026260376,
          -15.166991233825684,
          -3.4072492122650146,
          -16.586406707763672,
          -12.611705780029297,
          -8.435025215148926,
          -6.511843204498291,
          -5.723809719085693,
          -5.6699676513671875,
          -11.218852043151855,
          -5.236636638641357,
          -6.616858005523682,
          -9.281242370605469,
          -13.236710548400879,
          -0.42668190598487854,
          -10.842655181884766,
          -10.272612571716309,
          -8.50536823272705,
          -6.039425373077393,
          -6.5332441329956055,
          14.883397102355957,
          9.217846870422363,
          6.635130882263184,
          -2.1929445266723633,
          -7.118287563323975,
          -4.189535140991211,
          -12.504964828491211,
          -3.887127637863159,
          8.46453857421875,
          9.181986808776855,
          -13.69959545135498
         ],
         "yaxis": "y"
        }
       ],
       "layout": {
        "coloraxis": {
         "colorbar": {
          "title": {
           "text": "Cluster"
          }
         },
         "colorscale": [
          [
           0,
           "#0d0887"
          ],
          [
           0.1111111111111111,
           "#46039f"
          ],
          [
           0.2222222222222222,
           "#7201a8"
          ],
          [
           0.3333333333333333,
           "#9c179e"
          ],
          [
           0.4444444444444444,
           "#bd3786"
          ],
          [
           0.5555555555555556,
           "#d8576b"
          ],
          [
           0.6666666666666666,
           "#ed7953"
          ],
          [
           0.7777777777777778,
           "#fb9f3a"
          ],
          [
           0.8888888888888888,
           "#fdca26"
          ],
          [
           1,
           "#f0f921"
          ]
         ]
        },
        "legend": {
         "tracegroupgap": 0
        },
        "margin": {
         "t": 60
        },
        "template": {
         "data": {
          "bar": [
           {
            "error_x": {
             "color": "#2a3f5f"
            },
            "error_y": {
             "color": "#2a3f5f"
            },
            "marker": {
             "line": {
              "color": "#E5ECF6",
              "width": 0.5
             },
             "pattern": {
              "fillmode": "overlay",
              "size": 10,
              "solidity": 0.2
             }
            },
            "type": "bar"
           }
          ],
          "barpolar": [
           {
            "marker": {
             "line": {
              "color": "#E5ECF6",
              "width": 0.5
             },
             "pattern": {
              "fillmode": "overlay",
              "size": 10,
              "solidity": 0.2
             }
            },
            "type": "barpolar"
           }
          ],
          "carpet": [
           {
            "aaxis": {
             "endlinecolor": "#2a3f5f",
             "gridcolor": "white",
             "linecolor": "white",
             "minorgridcolor": "white",
             "startlinecolor": "#2a3f5f"
            },
            "baxis": {
             "endlinecolor": "#2a3f5f",
             "gridcolor": "white",
             "linecolor": "white",
             "minorgridcolor": "white",
             "startlinecolor": "#2a3f5f"
            },
            "type": "carpet"
           }
          ],
          "choropleth": [
           {
            "colorbar": {
             "outlinewidth": 0,
             "ticks": ""
            },
            "type": "choropleth"
           }
          ],
          "contour": [
           {
            "colorbar": {
             "outlinewidth": 0,
             "ticks": ""
            },
            "colorscale": [
             [
              0,
              "#0d0887"
             ],
             [
              0.1111111111111111,
              "#46039f"
             ],
             [
              0.2222222222222222,
              "#7201a8"
             ],
             [
              0.3333333333333333,
              "#9c179e"
             ],
             [
              0.4444444444444444,
              "#bd3786"
             ],
             [
              0.5555555555555556,
              "#d8576b"
             ],
             [
              0.6666666666666666,
              "#ed7953"
             ],
             [
              0.7777777777777778,
              "#fb9f3a"
             ],
             [
              0.8888888888888888,
              "#fdca26"
             ],
             [
              1,
              "#f0f921"
             ]
            ],
            "type": "contour"
           }
          ],
          "contourcarpet": [
           {
            "colorbar": {
             "outlinewidth": 0,
             "ticks": ""
            },
            "type": "contourcarpet"
           }
          ],
          "heatmap": [
           {
            "colorbar": {
             "outlinewidth": 0,
             "ticks": ""
            },
            "colorscale": [
             [
              0,
              "#0d0887"
             ],
             [
              0.1111111111111111,
              "#46039f"
             ],
             [
              0.2222222222222222,
              "#7201a8"
             ],
             [
              0.3333333333333333,
              "#9c179e"
             ],
             [
              0.4444444444444444,
              "#bd3786"
             ],
             [
              0.5555555555555556,
              "#d8576b"
             ],
             [
              0.6666666666666666,
              "#ed7953"
             ],
             [
              0.7777777777777778,
              "#fb9f3a"
             ],
             [
              0.8888888888888888,
              "#fdca26"
             ],
             [
              1,
              "#f0f921"
             ]
            ],
            "type": "heatmap"
           }
          ],
          "heatmapgl": [
           {
            "colorbar": {
             "outlinewidth": 0,
             "ticks": ""
            },
            "colorscale": [
             [
              0,
              "#0d0887"
             ],
             [
              0.1111111111111111,
              "#46039f"
             ],
             [
              0.2222222222222222,
              "#7201a8"
             ],
             [
              0.3333333333333333,
              "#9c179e"
             ],
             [
              0.4444444444444444,
              "#bd3786"
             ],
             [
              0.5555555555555556,
              "#d8576b"
             ],
             [
              0.6666666666666666,
              "#ed7953"
             ],
             [
              0.7777777777777778,
              "#fb9f3a"
             ],
             [
              0.8888888888888888,
              "#fdca26"
             ],
             [
              1,
              "#f0f921"
             ]
            ],
            "type": "heatmapgl"
           }
          ],
          "histogram": [
           {
            "marker": {
             "pattern": {
              "fillmode": "overlay",
              "size": 10,
              "solidity": 0.2
             }
            },
            "type": "histogram"
           }
          ],
          "histogram2d": [
           {
            "colorbar": {
             "outlinewidth": 0,
             "ticks": ""
            },
            "colorscale": [
             [
              0,
              "#0d0887"
             ],
             [
              0.1111111111111111,
              "#46039f"
             ],
             [
              0.2222222222222222,
              "#7201a8"
             ],
             [
              0.3333333333333333,
              "#9c179e"
             ],
             [
              0.4444444444444444,
              "#bd3786"
             ],
             [
              0.5555555555555556,
              "#d8576b"
             ],
             [
              0.6666666666666666,
              "#ed7953"
             ],
             [
              0.7777777777777778,
              "#fb9f3a"
             ],
             [
              0.8888888888888888,
              "#fdca26"
             ],
             [
              1,
              "#f0f921"
             ]
            ],
            "type": "histogram2d"
           }
          ],
          "histogram2dcontour": [
           {
            "colorbar": {
             "outlinewidth": 0,
             "ticks": ""
            },
            "colorscale": [
             [
              0,
              "#0d0887"
             ],
             [
              0.1111111111111111,
              "#46039f"
             ],
             [
              0.2222222222222222,
              "#7201a8"
             ],
             [
              0.3333333333333333,
              "#9c179e"
             ],
             [
              0.4444444444444444,
              "#bd3786"
             ],
             [
              0.5555555555555556,
              "#d8576b"
             ],
             [
              0.6666666666666666,
              "#ed7953"
             ],
             [
              0.7777777777777778,
              "#fb9f3a"
             ],
             [
              0.8888888888888888,
              "#fdca26"
             ],
             [
              1,
              "#f0f921"
             ]
            ],
            "type": "histogram2dcontour"
           }
          ],
          "mesh3d": [
           {
            "colorbar": {
             "outlinewidth": 0,
             "ticks": ""
            },
            "type": "mesh3d"
           }
          ],
          "parcoords": [
           {
            "line": {
             "colorbar": {
              "outlinewidth": 0,
              "ticks": ""
             }
            },
            "type": "parcoords"
           }
          ],
          "pie": [
           {
            "automargin": true,
            "type": "pie"
           }
          ],
          "scatter": [
           {
            "fillpattern": {
             "fillmode": "overlay",
             "size": 10,
             "solidity": 0.2
            },
            "type": "scatter"
           }
          ],
          "scatter3d": [
           {
            "line": {
             "colorbar": {
              "outlinewidth": 0,
              "ticks": ""
             }
            },
            "marker": {
             "colorbar": {
              "outlinewidth": 0,
              "ticks": ""
             }
            },
            "type": "scatter3d"
           }
          ],
          "scattercarpet": [
           {
            "marker": {
             "colorbar": {
              "outlinewidth": 0,
              "ticks": ""
             }
            },
            "type": "scattercarpet"
           }
          ],
          "scattergeo": [
           {
            "marker": {
             "colorbar": {
              "outlinewidth": 0,
              "ticks": ""
             }
            },
            "type": "scattergeo"
           }
          ],
          "scattergl": [
           {
            "marker": {
             "colorbar": {
              "outlinewidth": 0,
              "ticks": ""
             }
            },
            "type": "scattergl"
           }
          ],
          "scattermapbox": [
           {
            "marker": {
             "colorbar": {
              "outlinewidth": 0,
              "ticks": ""
             }
            },
            "type": "scattermapbox"
           }
          ],
          "scatterpolar": [
           {
            "marker": {
             "colorbar": {
              "outlinewidth": 0,
              "ticks": ""
             }
            },
            "type": "scatterpolar"
           }
          ],
          "scatterpolargl": [
           {
            "marker": {
             "colorbar": {
              "outlinewidth": 0,
              "ticks": ""
             }
            },
            "type": "scatterpolargl"
           }
          ],
          "scatterternary": [
           {
            "marker": {
             "colorbar": {
              "outlinewidth": 0,
              "ticks": ""
             }
            },
            "type": "scatterternary"
           }
          ],
          "surface": [
           {
            "colorbar": {
             "outlinewidth": 0,
             "ticks": ""
            },
            "colorscale": [
             [
              0,
              "#0d0887"
             ],
             [
              0.1111111111111111,
              "#46039f"
             ],
             [
              0.2222222222222222,
              "#7201a8"
             ],
             [
              0.3333333333333333,
              "#9c179e"
             ],
             [
              0.4444444444444444,
              "#bd3786"
             ],
             [
              0.5555555555555556,
              "#d8576b"
             ],
             [
              0.6666666666666666,
              "#ed7953"
             ],
             [
              0.7777777777777778,
              "#fb9f3a"
             ],
             [
              0.8888888888888888,
              "#fdca26"
             ],
             [
              1,
              "#f0f921"
             ]
            ],
            "type": "surface"
           }
          ],
          "table": [
           {
            "cells": {
             "fill": {
              "color": "#EBF0F8"
             },
             "line": {
              "color": "white"
             }
            },
            "header": {
             "fill": {
              "color": "#C8D4E3"
             },
             "line": {
              "color": "white"
             }
            },
            "type": "table"
           }
          ]
         },
         "layout": {
          "annotationdefaults": {
           "arrowcolor": "#2a3f5f",
           "arrowhead": 0,
           "arrowwidth": 1
          },
          "autotypenumbers": "strict",
          "coloraxis": {
           "colorbar": {
            "outlinewidth": 0,
            "ticks": ""
           }
          },
          "colorscale": {
           "diverging": [
            [
             0,
             "#8e0152"
            ],
            [
             0.1,
             "#c51b7d"
            ],
            [
             0.2,
             "#de77ae"
            ],
            [
             0.3,
             "#f1b6da"
            ],
            [
             0.4,
             "#fde0ef"
            ],
            [
             0.5,
             "#f7f7f7"
            ],
            [
             0.6,
             "#e6f5d0"
            ],
            [
             0.7,
             "#b8e186"
            ],
            [
             0.8,
             "#7fbc41"
            ],
            [
             0.9,
             "#4d9221"
            ],
            [
             1,
             "#276419"
            ]
           ],
           "sequential": [
            [
             0,
             "#0d0887"
            ],
            [
             0.1111111111111111,
             "#46039f"
            ],
            [
             0.2222222222222222,
             "#7201a8"
            ],
            [
             0.3333333333333333,
             "#9c179e"
            ],
            [
             0.4444444444444444,
             "#bd3786"
            ],
            [
             0.5555555555555556,
             "#d8576b"
            ],
            [
             0.6666666666666666,
             "#ed7953"
            ],
            [
             0.7777777777777778,
             "#fb9f3a"
            ],
            [
             0.8888888888888888,
             "#fdca26"
            ],
            [
             1,
             "#f0f921"
            ]
           ],
           "sequentialminus": [
            [
             0,
             "#0d0887"
            ],
            [
             0.1111111111111111,
             "#46039f"
            ],
            [
             0.2222222222222222,
             "#7201a8"
            ],
            [
             0.3333333333333333,
             "#9c179e"
            ],
            [
             0.4444444444444444,
             "#bd3786"
            ],
            [
             0.5555555555555556,
             "#d8576b"
            ],
            [
             0.6666666666666666,
             "#ed7953"
            ],
            [
             0.7777777777777778,
             "#fb9f3a"
            ],
            [
             0.8888888888888888,
             "#fdca26"
            ],
            [
             1,
             "#f0f921"
            ]
           ]
          },
          "colorway": [
           "#636efa",
           "#EF553B",
           "#00cc96",
           "#ab63fa",
           "#FFA15A",
           "#19d3f3",
           "#FF6692",
           "#B6E880",
           "#FF97FF",
           "#FECB52"
          ],
          "font": {
           "color": "#2a3f5f"
          },
          "geo": {
           "bgcolor": "white",
           "lakecolor": "white",
           "landcolor": "#E5ECF6",
           "showlakes": true,
           "showland": true,
           "subunitcolor": "white"
          },
          "hoverlabel": {
           "align": "left"
          },
          "hovermode": "closest",
          "mapbox": {
           "style": "light"
          },
          "paper_bgcolor": "white",
          "plot_bgcolor": "#E5ECF6",
          "polar": {
           "angularaxis": {
            "gridcolor": "white",
            "linecolor": "white",
            "ticks": ""
           },
           "bgcolor": "#E5ECF6",
           "radialaxis": {
            "gridcolor": "white",
            "linecolor": "white",
            "ticks": ""
           }
          },
          "scene": {
           "xaxis": {
            "backgroundcolor": "#E5ECF6",
            "gridcolor": "white",
            "gridwidth": 2,
            "linecolor": "white",
            "showbackground": true,
            "ticks": "",
            "zerolinecolor": "white"
           },
           "yaxis": {
            "backgroundcolor": "#E5ECF6",
            "gridcolor": "white",
            "gridwidth": 2,
            "linecolor": "white",
            "showbackground": true,
            "ticks": "",
            "zerolinecolor": "white"
           },
           "zaxis": {
            "backgroundcolor": "#E5ECF6",
            "gridcolor": "white",
            "gridwidth": 2,
            "linecolor": "white",
            "showbackground": true,
            "ticks": "",
            "zerolinecolor": "white"
           }
          },
          "shapedefaults": {
           "line": {
            "color": "#2a3f5f"
           }
          },
          "ternary": {
           "aaxis": {
            "gridcolor": "white",
            "linecolor": "white",
            "ticks": ""
           },
           "baxis": {
            "gridcolor": "white",
            "linecolor": "white",
            "ticks": ""
           },
           "bgcolor": "#E5ECF6",
           "caxis": {
            "gridcolor": "white",
            "linecolor": "white",
            "ticks": ""
           }
          },
          "title": {
           "x": 0.05
          },
          "xaxis": {
           "automargin": true,
           "gridcolor": "white",
           "linecolor": "white",
           "ticks": "",
           "title": {
            "standoff": 15
           },
           "zerolinecolor": "white",
           "zerolinewidth": 2
          },
          "yaxis": {
           "automargin": true,
           "gridcolor": "white",
           "linecolor": "white",
           "ticks": "",
           "title": {
            "standoff": 15
           },
           "zerolinecolor": "white",
           "zerolinewidth": 2
          }
         }
        },
        "xaxis": {
         "anchor": "y",
         "domain": [
          0,
          1
         ],
         "title": {
          "text": "x"
         }
        },
        "yaxis": {
         "anchor": "x",
         "domain": [
          0,
          1
         ],
         "title": {
          "text": "y"
         }
        }
       }
      }
     },
     "metadata": {},
     "output_type": "display_data"
    }
   ],
   "source": [
    "import plotly.express as px\n",
    "\n",
    "# Assuming you've performed TSNE and have your DataFrame ready\n",
    "df_vis = pd.DataFrame({\n",
    "    'x': x,\n",
    "    'y': y,\n",
    "    'Cluster': complete_emebed_party.Cluster,\n",
    "    'SchoolName': complete_emebed_party.schoolname,\n",
    "    'DistrictPoliticalAffiliation': complete_emebed_party.district_majority_party,\n",
    "    'CharterPoliticalAffiliation':complete_emebed_party.charter_majority_party  # Replace with your actual column\n",
    "})\n",
    "\n",
    "fig = px.scatter(df_vis, x='x', y='y', color='Cluster', hover_data=['SchoolName', 'DistrictPoliticalAffiliation','CharterPoliticalAffiliation'])\n",
    "\n",
    "fig.show()"
   ]
  },
  {
   "cell_type": "code",
   "execution_count": 69,
   "metadata": {},
   "outputs": [
    {
     "data": {
      "application/vnd.plotly.v1+json": {
       "config": {
        "plotlyServerURL": "https://plot.ly"
       },
       "data": [
        {
         "alignmentgroup": "True",
         "hovertemplate": "district_majority_party=Democrat<br>Cluster ID=%{x}<br>Number of Schools=%{y}<extra></extra>",
         "legendgroup": "Democrat",
         "marker": {
          "color": "#636efa",
          "pattern": {
           "shape": ""
          }
         },
         "name": "Democrat",
         "offsetgroup": "Democrat",
         "orientation": "v",
         "showlegend": true,
         "textposition": "auto",
         "type": "bar",
         "x": [
          0,
          1,
          2
         ],
         "xaxis": "x",
         "y": [
          18,
          37,
          39
         ],
         "yaxis": "y"
        },
        {
         "alignmentgroup": "True",
         "hovertemplate": "district_majority_party=Republican<br>Cluster ID=%{x}<br>Number of Schools=%{y}<extra></extra>",
         "legendgroup": "Republican",
         "marker": {
          "color": "#EF553B",
          "pattern": {
           "shape": ""
          }
         },
         "name": "Republican",
         "offsetgroup": "Republican",
         "orientation": "v",
         "showlegend": true,
         "textposition": "auto",
         "type": "bar",
         "x": [
          0,
          1,
          2
         ],
         "xaxis": "x",
         "y": [
          12,
          35,
          30
         ],
         "yaxis": "y"
        },
        {
         "alignmentgroup": "True",
         "hovertemplate": "district_majority_party=Tie<br>Cluster ID=%{x}<br>Number of Schools=%{y}<extra></extra>",
         "legendgroup": "Tie",
         "marker": {
          "color": "#00cc96",
          "pattern": {
           "shape": ""
          }
         },
         "name": "Tie",
         "offsetgroup": "Tie",
         "orientation": "v",
         "showlegend": true,
         "textposition": "auto",
         "type": "bar",
         "x": [
          0,
          1,
          2
         ],
         "xaxis": "x",
         "y": [
          3,
          18,
          14
         ],
         "yaxis": "y"
        }
       ],
       "layout": {
        "barmode": "group",
        "legend": {
         "title": {
          "text": "district_majority_party"
         },
         "tracegroupgap": 0
        },
        "margin": {
         "t": 60
        },
        "template": {
         "data": {
          "bar": [
           {
            "error_x": {
             "color": "#2a3f5f"
            },
            "error_y": {
             "color": "#2a3f5f"
            },
            "marker": {
             "line": {
              "color": "#E5ECF6",
              "width": 0.5
             },
             "pattern": {
              "fillmode": "overlay",
              "size": 10,
              "solidity": 0.2
             }
            },
            "type": "bar"
           }
          ],
          "barpolar": [
           {
            "marker": {
             "line": {
              "color": "#E5ECF6",
              "width": 0.5
             },
             "pattern": {
              "fillmode": "overlay",
              "size": 10,
              "solidity": 0.2
             }
            },
            "type": "barpolar"
           }
          ],
          "carpet": [
           {
            "aaxis": {
             "endlinecolor": "#2a3f5f",
             "gridcolor": "white",
             "linecolor": "white",
             "minorgridcolor": "white",
             "startlinecolor": "#2a3f5f"
            },
            "baxis": {
             "endlinecolor": "#2a3f5f",
             "gridcolor": "white",
             "linecolor": "white",
             "minorgridcolor": "white",
             "startlinecolor": "#2a3f5f"
            },
            "type": "carpet"
           }
          ],
          "choropleth": [
           {
            "colorbar": {
             "outlinewidth": 0,
             "ticks": ""
            },
            "type": "choropleth"
           }
          ],
          "contour": [
           {
            "colorbar": {
             "outlinewidth": 0,
             "ticks": ""
            },
            "colorscale": [
             [
              0,
              "#0d0887"
             ],
             [
              0.1111111111111111,
              "#46039f"
             ],
             [
              0.2222222222222222,
              "#7201a8"
             ],
             [
              0.3333333333333333,
              "#9c179e"
             ],
             [
              0.4444444444444444,
              "#bd3786"
             ],
             [
              0.5555555555555556,
              "#d8576b"
             ],
             [
              0.6666666666666666,
              "#ed7953"
             ],
             [
              0.7777777777777778,
              "#fb9f3a"
             ],
             [
              0.8888888888888888,
              "#fdca26"
             ],
             [
              1,
              "#f0f921"
             ]
            ],
            "type": "contour"
           }
          ],
          "contourcarpet": [
           {
            "colorbar": {
             "outlinewidth": 0,
             "ticks": ""
            },
            "type": "contourcarpet"
           }
          ],
          "heatmap": [
           {
            "colorbar": {
             "outlinewidth": 0,
             "ticks": ""
            },
            "colorscale": [
             [
              0,
              "#0d0887"
             ],
             [
              0.1111111111111111,
              "#46039f"
             ],
             [
              0.2222222222222222,
              "#7201a8"
             ],
             [
              0.3333333333333333,
              "#9c179e"
             ],
             [
              0.4444444444444444,
              "#bd3786"
             ],
             [
              0.5555555555555556,
              "#d8576b"
             ],
             [
              0.6666666666666666,
              "#ed7953"
             ],
             [
              0.7777777777777778,
              "#fb9f3a"
             ],
             [
              0.8888888888888888,
              "#fdca26"
             ],
             [
              1,
              "#f0f921"
             ]
            ],
            "type": "heatmap"
           }
          ],
          "heatmapgl": [
           {
            "colorbar": {
             "outlinewidth": 0,
             "ticks": ""
            },
            "colorscale": [
             [
              0,
              "#0d0887"
             ],
             [
              0.1111111111111111,
              "#46039f"
             ],
             [
              0.2222222222222222,
              "#7201a8"
             ],
             [
              0.3333333333333333,
              "#9c179e"
             ],
             [
              0.4444444444444444,
              "#bd3786"
             ],
             [
              0.5555555555555556,
              "#d8576b"
             ],
             [
              0.6666666666666666,
              "#ed7953"
             ],
             [
              0.7777777777777778,
              "#fb9f3a"
             ],
             [
              0.8888888888888888,
              "#fdca26"
             ],
             [
              1,
              "#f0f921"
             ]
            ],
            "type": "heatmapgl"
           }
          ],
          "histogram": [
           {
            "marker": {
             "pattern": {
              "fillmode": "overlay",
              "size": 10,
              "solidity": 0.2
             }
            },
            "type": "histogram"
           }
          ],
          "histogram2d": [
           {
            "colorbar": {
             "outlinewidth": 0,
             "ticks": ""
            },
            "colorscale": [
             [
              0,
              "#0d0887"
             ],
             [
              0.1111111111111111,
              "#46039f"
             ],
             [
              0.2222222222222222,
              "#7201a8"
             ],
             [
              0.3333333333333333,
              "#9c179e"
             ],
             [
              0.4444444444444444,
              "#bd3786"
             ],
             [
              0.5555555555555556,
              "#d8576b"
             ],
             [
              0.6666666666666666,
              "#ed7953"
             ],
             [
              0.7777777777777778,
              "#fb9f3a"
             ],
             [
              0.8888888888888888,
              "#fdca26"
             ],
             [
              1,
              "#f0f921"
             ]
            ],
            "type": "histogram2d"
           }
          ],
          "histogram2dcontour": [
           {
            "colorbar": {
             "outlinewidth": 0,
             "ticks": ""
            },
            "colorscale": [
             [
              0,
              "#0d0887"
             ],
             [
              0.1111111111111111,
              "#46039f"
             ],
             [
              0.2222222222222222,
              "#7201a8"
             ],
             [
              0.3333333333333333,
              "#9c179e"
             ],
             [
              0.4444444444444444,
              "#bd3786"
             ],
             [
              0.5555555555555556,
              "#d8576b"
             ],
             [
              0.6666666666666666,
              "#ed7953"
             ],
             [
              0.7777777777777778,
              "#fb9f3a"
             ],
             [
              0.8888888888888888,
              "#fdca26"
             ],
             [
              1,
              "#f0f921"
             ]
            ],
            "type": "histogram2dcontour"
           }
          ],
          "mesh3d": [
           {
            "colorbar": {
             "outlinewidth": 0,
             "ticks": ""
            },
            "type": "mesh3d"
           }
          ],
          "parcoords": [
           {
            "line": {
             "colorbar": {
              "outlinewidth": 0,
              "ticks": ""
             }
            },
            "type": "parcoords"
           }
          ],
          "pie": [
           {
            "automargin": true,
            "type": "pie"
           }
          ],
          "scatter": [
           {
            "fillpattern": {
             "fillmode": "overlay",
             "size": 10,
             "solidity": 0.2
            },
            "type": "scatter"
           }
          ],
          "scatter3d": [
           {
            "line": {
             "colorbar": {
              "outlinewidth": 0,
              "ticks": ""
             }
            },
            "marker": {
             "colorbar": {
              "outlinewidth": 0,
              "ticks": ""
             }
            },
            "type": "scatter3d"
           }
          ],
          "scattercarpet": [
           {
            "marker": {
             "colorbar": {
              "outlinewidth": 0,
              "ticks": ""
             }
            },
            "type": "scattercarpet"
           }
          ],
          "scattergeo": [
           {
            "marker": {
             "colorbar": {
              "outlinewidth": 0,
              "ticks": ""
             }
            },
            "type": "scattergeo"
           }
          ],
          "scattergl": [
           {
            "marker": {
             "colorbar": {
              "outlinewidth": 0,
              "ticks": ""
             }
            },
            "type": "scattergl"
           }
          ],
          "scattermapbox": [
           {
            "marker": {
             "colorbar": {
              "outlinewidth": 0,
              "ticks": ""
             }
            },
            "type": "scattermapbox"
           }
          ],
          "scatterpolar": [
           {
            "marker": {
             "colorbar": {
              "outlinewidth": 0,
              "ticks": ""
             }
            },
            "type": "scatterpolar"
           }
          ],
          "scatterpolargl": [
           {
            "marker": {
             "colorbar": {
              "outlinewidth": 0,
              "ticks": ""
             }
            },
            "type": "scatterpolargl"
           }
          ],
          "scatterternary": [
           {
            "marker": {
             "colorbar": {
              "outlinewidth": 0,
              "ticks": ""
             }
            },
            "type": "scatterternary"
           }
          ],
          "surface": [
           {
            "colorbar": {
             "outlinewidth": 0,
             "ticks": ""
            },
            "colorscale": [
             [
              0,
              "#0d0887"
             ],
             [
              0.1111111111111111,
              "#46039f"
             ],
             [
              0.2222222222222222,
              "#7201a8"
             ],
             [
              0.3333333333333333,
              "#9c179e"
             ],
             [
              0.4444444444444444,
              "#bd3786"
             ],
             [
              0.5555555555555556,
              "#d8576b"
             ],
             [
              0.6666666666666666,
              "#ed7953"
             ],
             [
              0.7777777777777778,
              "#fb9f3a"
             ],
             [
              0.8888888888888888,
              "#fdca26"
             ],
             [
              1,
              "#f0f921"
             ]
            ],
            "type": "surface"
           }
          ],
          "table": [
           {
            "cells": {
             "fill": {
              "color": "#EBF0F8"
             },
             "line": {
              "color": "white"
             }
            },
            "header": {
             "fill": {
              "color": "#C8D4E3"
             },
             "line": {
              "color": "white"
             }
            },
            "type": "table"
           }
          ]
         },
         "layout": {
          "annotationdefaults": {
           "arrowcolor": "#2a3f5f",
           "arrowhead": 0,
           "arrowwidth": 1
          },
          "autotypenumbers": "strict",
          "coloraxis": {
           "colorbar": {
            "outlinewidth": 0,
            "ticks": ""
           }
          },
          "colorscale": {
           "diverging": [
            [
             0,
             "#8e0152"
            ],
            [
             0.1,
             "#c51b7d"
            ],
            [
             0.2,
             "#de77ae"
            ],
            [
             0.3,
             "#f1b6da"
            ],
            [
             0.4,
             "#fde0ef"
            ],
            [
             0.5,
             "#f7f7f7"
            ],
            [
             0.6,
             "#e6f5d0"
            ],
            [
             0.7,
             "#b8e186"
            ],
            [
             0.8,
             "#7fbc41"
            ],
            [
             0.9,
             "#4d9221"
            ],
            [
             1,
             "#276419"
            ]
           ],
           "sequential": [
            [
             0,
             "#0d0887"
            ],
            [
             0.1111111111111111,
             "#46039f"
            ],
            [
             0.2222222222222222,
             "#7201a8"
            ],
            [
             0.3333333333333333,
             "#9c179e"
            ],
            [
             0.4444444444444444,
             "#bd3786"
            ],
            [
             0.5555555555555556,
             "#d8576b"
            ],
            [
             0.6666666666666666,
             "#ed7953"
            ],
            [
             0.7777777777777778,
             "#fb9f3a"
            ],
            [
             0.8888888888888888,
             "#fdca26"
            ],
            [
             1,
             "#f0f921"
            ]
           ],
           "sequentialminus": [
            [
             0,
             "#0d0887"
            ],
            [
             0.1111111111111111,
             "#46039f"
            ],
            [
             0.2222222222222222,
             "#7201a8"
            ],
            [
             0.3333333333333333,
             "#9c179e"
            ],
            [
             0.4444444444444444,
             "#bd3786"
            ],
            [
             0.5555555555555556,
             "#d8576b"
            ],
            [
             0.6666666666666666,
             "#ed7953"
            ],
            [
             0.7777777777777778,
             "#fb9f3a"
            ],
            [
             0.8888888888888888,
             "#fdca26"
            ],
            [
             1,
             "#f0f921"
            ]
           ]
          },
          "colorway": [
           "#636efa",
           "#EF553B",
           "#00cc96",
           "#ab63fa",
           "#FFA15A",
           "#19d3f3",
           "#FF6692",
           "#B6E880",
           "#FF97FF",
           "#FECB52"
          ],
          "font": {
           "color": "#2a3f5f"
          },
          "geo": {
           "bgcolor": "white",
           "lakecolor": "white",
           "landcolor": "#E5ECF6",
           "showlakes": true,
           "showland": true,
           "subunitcolor": "white"
          },
          "hoverlabel": {
           "align": "left"
          },
          "hovermode": "closest",
          "mapbox": {
           "style": "light"
          },
          "paper_bgcolor": "white",
          "plot_bgcolor": "#E5ECF6",
          "polar": {
           "angularaxis": {
            "gridcolor": "white",
            "linecolor": "white",
            "ticks": ""
           },
           "bgcolor": "#E5ECF6",
           "radialaxis": {
            "gridcolor": "white",
            "linecolor": "white",
            "ticks": ""
           }
          },
          "scene": {
           "xaxis": {
            "backgroundcolor": "#E5ECF6",
            "gridcolor": "white",
            "gridwidth": 2,
            "linecolor": "white",
            "showbackground": true,
            "ticks": "",
            "zerolinecolor": "white"
           },
           "yaxis": {
            "backgroundcolor": "#E5ECF6",
            "gridcolor": "white",
            "gridwidth": 2,
            "linecolor": "white",
            "showbackground": true,
            "ticks": "",
            "zerolinecolor": "white"
           },
           "zaxis": {
            "backgroundcolor": "#E5ECF6",
            "gridcolor": "white",
            "gridwidth": 2,
            "linecolor": "white",
            "showbackground": true,
            "ticks": "",
            "zerolinecolor": "white"
           }
          },
          "shapedefaults": {
           "line": {
            "color": "#2a3f5f"
           }
          },
          "ternary": {
           "aaxis": {
            "gridcolor": "white",
            "linecolor": "white",
            "ticks": ""
           },
           "baxis": {
            "gridcolor": "white",
            "linecolor": "white",
            "ticks": ""
           },
           "bgcolor": "#E5ECF6",
           "caxis": {
            "gridcolor": "white",
            "linecolor": "white",
            "ticks": ""
           }
          },
          "title": {
           "x": 0.05
          },
          "xaxis": {
           "automargin": true,
           "gridcolor": "white",
           "linecolor": "white",
           "ticks": "",
           "title": {
            "standoff": 15
           },
           "zerolinecolor": "white",
           "zerolinewidth": 2
          },
          "yaxis": {
           "automargin": true,
           "gridcolor": "white",
           "linecolor": "white",
           "ticks": "",
           "title": {
            "standoff": 15
           },
           "zerolinecolor": "white",
           "zerolinewidth": 2
          }
         }
        },
        "xaxis": {
         "anchor": "y",
         "domain": [
          0,
          1
         ],
         "title": {
          "text": "Cluster ID"
         }
        },
        "yaxis": {
         "anchor": "x",
         "domain": [
          0,
          1
         ],
         "title": {
          "text": "Number of Schools"
         }
        }
       }
      }
     },
     "metadata": {},
     "output_type": "display_data"
    }
   ],
   "source": [
    "# First, count the occurrences of each political affiliation within each cluster\n",
    "df_count = complete_emebed_party.groupby(['Cluster', 'district_majority_party']).size().reset_index(name='Counts')\n",
    "\n",
    "# Then, create a bar chart\n",
    "fig = px.bar(df_count, x='Cluster', y='Counts', color='district_majority_party', barmode='group', \n",
    "             labels={'Counts':'Number of Schools', 'Cluster':'Cluster ID'})\n",
    "\n",
    "fig.show()"
   ]
  },
  {
   "cell_type": "code",
   "execution_count": 57,
   "metadata": {},
   "outputs": [
    {
     "data": {
      "application/vnd.plotly.v1+json": {
       "config": {
        "plotlyServerURL": "https://plot.ly"
       },
       "data": [
        {
         "alignmentgroup": "True",
         "hovertemplate": "charter_majority_party=Democrat<br>Cluster ID=%{x}<br>Number of Schools=%{y}<extra></extra>",
         "legendgroup": "Democrat",
         "marker": {
          "color": "#636efa",
          "pattern": {
           "shape": ""
          }
         },
         "name": "Democrat",
         "offsetgroup": "Democrat",
         "orientation": "v",
         "showlegend": true,
         "textposition": "auto",
         "type": "bar",
         "x": [
          0,
          1,
          2
         ],
         "xaxis": "x",
         "y": [
          14,
          35,
          38
         ],
         "yaxis": "y"
        },
        {
         "alignmentgroup": "True",
         "hovertemplate": "charter_majority_party=Republican<br>Cluster ID=%{x}<br>Number of Schools=%{y}<extra></extra>",
         "legendgroup": "Republican",
         "marker": {
          "color": "#EF553B",
          "pattern": {
           "shape": ""
          }
         },
         "name": "Republican",
         "offsetgroup": "Republican",
         "orientation": "v",
         "showlegend": true,
         "textposition": "auto",
         "type": "bar",
         "x": [
          0,
          1,
          2
         ],
         "xaxis": "x",
         "y": [
          11,
          19,
          22
         ],
         "yaxis": "y"
        },
        {
         "alignmentgroup": "True",
         "hovertemplate": "charter_majority_party=Tie<br>Cluster ID=%{x}<br>Number of Schools=%{y}<extra></extra>",
         "legendgroup": "Tie",
         "marker": {
          "color": "#00cc96",
          "pattern": {
           "shape": ""
          }
         },
         "name": "Tie",
         "offsetgroup": "Tie",
         "orientation": "v",
         "showlegend": true,
         "textposition": "auto",
         "type": "bar",
         "x": [
          0,
          1,
          2
         ],
         "xaxis": "x",
         "y": [
          8,
          36,
          23
         ],
         "yaxis": "y"
        }
       ],
       "layout": {
        "barmode": "group",
        "legend": {
         "title": {
          "text": "charter_majority_party"
         },
         "tracegroupgap": 0
        },
        "margin": {
         "t": 60
        },
        "template": {
         "data": {
          "bar": [
           {
            "error_x": {
             "color": "#2a3f5f"
            },
            "error_y": {
             "color": "#2a3f5f"
            },
            "marker": {
             "line": {
              "color": "#E5ECF6",
              "width": 0.5
             },
             "pattern": {
              "fillmode": "overlay",
              "size": 10,
              "solidity": 0.2
             }
            },
            "type": "bar"
           }
          ],
          "barpolar": [
           {
            "marker": {
             "line": {
              "color": "#E5ECF6",
              "width": 0.5
             },
             "pattern": {
              "fillmode": "overlay",
              "size": 10,
              "solidity": 0.2
             }
            },
            "type": "barpolar"
           }
          ],
          "carpet": [
           {
            "aaxis": {
             "endlinecolor": "#2a3f5f",
             "gridcolor": "white",
             "linecolor": "white",
             "minorgridcolor": "white",
             "startlinecolor": "#2a3f5f"
            },
            "baxis": {
             "endlinecolor": "#2a3f5f",
             "gridcolor": "white",
             "linecolor": "white",
             "minorgridcolor": "white",
             "startlinecolor": "#2a3f5f"
            },
            "type": "carpet"
           }
          ],
          "choropleth": [
           {
            "colorbar": {
             "outlinewidth": 0,
             "ticks": ""
            },
            "type": "choropleth"
           }
          ],
          "contour": [
           {
            "colorbar": {
             "outlinewidth": 0,
             "ticks": ""
            },
            "colorscale": [
             [
              0,
              "#0d0887"
             ],
             [
              0.1111111111111111,
              "#46039f"
             ],
             [
              0.2222222222222222,
              "#7201a8"
             ],
             [
              0.3333333333333333,
              "#9c179e"
             ],
             [
              0.4444444444444444,
              "#bd3786"
             ],
             [
              0.5555555555555556,
              "#d8576b"
             ],
             [
              0.6666666666666666,
              "#ed7953"
             ],
             [
              0.7777777777777778,
              "#fb9f3a"
             ],
             [
              0.8888888888888888,
              "#fdca26"
             ],
             [
              1,
              "#f0f921"
             ]
            ],
            "type": "contour"
           }
          ],
          "contourcarpet": [
           {
            "colorbar": {
             "outlinewidth": 0,
             "ticks": ""
            },
            "type": "contourcarpet"
           }
          ],
          "heatmap": [
           {
            "colorbar": {
             "outlinewidth": 0,
             "ticks": ""
            },
            "colorscale": [
             [
              0,
              "#0d0887"
             ],
             [
              0.1111111111111111,
              "#46039f"
             ],
             [
              0.2222222222222222,
              "#7201a8"
             ],
             [
              0.3333333333333333,
              "#9c179e"
             ],
             [
              0.4444444444444444,
              "#bd3786"
             ],
             [
              0.5555555555555556,
              "#d8576b"
             ],
             [
              0.6666666666666666,
              "#ed7953"
             ],
             [
              0.7777777777777778,
              "#fb9f3a"
             ],
             [
              0.8888888888888888,
              "#fdca26"
             ],
             [
              1,
              "#f0f921"
             ]
            ],
            "type": "heatmap"
           }
          ],
          "heatmapgl": [
           {
            "colorbar": {
             "outlinewidth": 0,
             "ticks": ""
            },
            "colorscale": [
             [
              0,
              "#0d0887"
             ],
             [
              0.1111111111111111,
              "#46039f"
             ],
             [
              0.2222222222222222,
              "#7201a8"
             ],
             [
              0.3333333333333333,
              "#9c179e"
             ],
             [
              0.4444444444444444,
              "#bd3786"
             ],
             [
              0.5555555555555556,
              "#d8576b"
             ],
             [
              0.6666666666666666,
              "#ed7953"
             ],
             [
              0.7777777777777778,
              "#fb9f3a"
             ],
             [
              0.8888888888888888,
              "#fdca26"
             ],
             [
              1,
              "#f0f921"
             ]
            ],
            "type": "heatmapgl"
           }
          ],
          "histogram": [
           {
            "marker": {
             "pattern": {
              "fillmode": "overlay",
              "size": 10,
              "solidity": 0.2
             }
            },
            "type": "histogram"
           }
          ],
          "histogram2d": [
           {
            "colorbar": {
             "outlinewidth": 0,
             "ticks": ""
            },
            "colorscale": [
             [
              0,
              "#0d0887"
             ],
             [
              0.1111111111111111,
              "#46039f"
             ],
             [
              0.2222222222222222,
              "#7201a8"
             ],
             [
              0.3333333333333333,
              "#9c179e"
             ],
             [
              0.4444444444444444,
              "#bd3786"
             ],
             [
              0.5555555555555556,
              "#d8576b"
             ],
             [
              0.6666666666666666,
              "#ed7953"
             ],
             [
              0.7777777777777778,
              "#fb9f3a"
             ],
             [
              0.8888888888888888,
              "#fdca26"
             ],
             [
              1,
              "#f0f921"
             ]
            ],
            "type": "histogram2d"
           }
          ],
          "histogram2dcontour": [
           {
            "colorbar": {
             "outlinewidth": 0,
             "ticks": ""
            },
            "colorscale": [
             [
              0,
              "#0d0887"
             ],
             [
              0.1111111111111111,
              "#46039f"
             ],
             [
              0.2222222222222222,
              "#7201a8"
             ],
             [
              0.3333333333333333,
              "#9c179e"
             ],
             [
              0.4444444444444444,
              "#bd3786"
             ],
             [
              0.5555555555555556,
              "#d8576b"
             ],
             [
              0.6666666666666666,
              "#ed7953"
             ],
             [
              0.7777777777777778,
              "#fb9f3a"
             ],
             [
              0.8888888888888888,
              "#fdca26"
             ],
             [
              1,
              "#f0f921"
             ]
            ],
            "type": "histogram2dcontour"
           }
          ],
          "mesh3d": [
           {
            "colorbar": {
             "outlinewidth": 0,
             "ticks": ""
            },
            "type": "mesh3d"
           }
          ],
          "parcoords": [
           {
            "line": {
             "colorbar": {
              "outlinewidth": 0,
              "ticks": ""
             }
            },
            "type": "parcoords"
           }
          ],
          "pie": [
           {
            "automargin": true,
            "type": "pie"
           }
          ],
          "scatter": [
           {
            "fillpattern": {
             "fillmode": "overlay",
             "size": 10,
             "solidity": 0.2
            },
            "type": "scatter"
           }
          ],
          "scatter3d": [
           {
            "line": {
             "colorbar": {
              "outlinewidth": 0,
              "ticks": ""
             }
            },
            "marker": {
             "colorbar": {
              "outlinewidth": 0,
              "ticks": ""
             }
            },
            "type": "scatter3d"
           }
          ],
          "scattercarpet": [
           {
            "marker": {
             "colorbar": {
              "outlinewidth": 0,
              "ticks": ""
             }
            },
            "type": "scattercarpet"
           }
          ],
          "scattergeo": [
           {
            "marker": {
             "colorbar": {
              "outlinewidth": 0,
              "ticks": ""
             }
            },
            "type": "scattergeo"
           }
          ],
          "scattergl": [
           {
            "marker": {
             "colorbar": {
              "outlinewidth": 0,
              "ticks": ""
             }
            },
            "type": "scattergl"
           }
          ],
          "scattermapbox": [
           {
            "marker": {
             "colorbar": {
              "outlinewidth": 0,
              "ticks": ""
             }
            },
            "type": "scattermapbox"
           }
          ],
          "scatterpolar": [
           {
            "marker": {
             "colorbar": {
              "outlinewidth": 0,
              "ticks": ""
             }
            },
            "type": "scatterpolar"
           }
          ],
          "scatterpolargl": [
           {
            "marker": {
             "colorbar": {
              "outlinewidth": 0,
              "ticks": ""
             }
            },
            "type": "scatterpolargl"
           }
          ],
          "scatterternary": [
           {
            "marker": {
             "colorbar": {
              "outlinewidth": 0,
              "ticks": ""
             }
            },
            "type": "scatterternary"
           }
          ],
          "surface": [
           {
            "colorbar": {
             "outlinewidth": 0,
             "ticks": ""
            },
            "colorscale": [
             [
              0,
              "#0d0887"
             ],
             [
              0.1111111111111111,
              "#46039f"
             ],
             [
              0.2222222222222222,
              "#7201a8"
             ],
             [
              0.3333333333333333,
              "#9c179e"
             ],
             [
              0.4444444444444444,
              "#bd3786"
             ],
             [
              0.5555555555555556,
              "#d8576b"
             ],
             [
              0.6666666666666666,
              "#ed7953"
             ],
             [
              0.7777777777777778,
              "#fb9f3a"
             ],
             [
              0.8888888888888888,
              "#fdca26"
             ],
             [
              1,
              "#f0f921"
             ]
            ],
            "type": "surface"
           }
          ],
          "table": [
           {
            "cells": {
             "fill": {
              "color": "#EBF0F8"
             },
             "line": {
              "color": "white"
             }
            },
            "header": {
             "fill": {
              "color": "#C8D4E3"
             },
             "line": {
              "color": "white"
             }
            },
            "type": "table"
           }
          ]
         },
         "layout": {
          "annotationdefaults": {
           "arrowcolor": "#2a3f5f",
           "arrowhead": 0,
           "arrowwidth": 1
          },
          "autotypenumbers": "strict",
          "coloraxis": {
           "colorbar": {
            "outlinewidth": 0,
            "ticks": ""
           }
          },
          "colorscale": {
           "diverging": [
            [
             0,
             "#8e0152"
            ],
            [
             0.1,
             "#c51b7d"
            ],
            [
             0.2,
             "#de77ae"
            ],
            [
             0.3,
             "#f1b6da"
            ],
            [
             0.4,
             "#fde0ef"
            ],
            [
             0.5,
             "#f7f7f7"
            ],
            [
             0.6,
             "#e6f5d0"
            ],
            [
             0.7,
             "#b8e186"
            ],
            [
             0.8,
             "#7fbc41"
            ],
            [
             0.9,
             "#4d9221"
            ],
            [
             1,
             "#276419"
            ]
           ],
           "sequential": [
            [
             0,
             "#0d0887"
            ],
            [
             0.1111111111111111,
             "#46039f"
            ],
            [
             0.2222222222222222,
             "#7201a8"
            ],
            [
             0.3333333333333333,
             "#9c179e"
            ],
            [
             0.4444444444444444,
             "#bd3786"
            ],
            [
             0.5555555555555556,
             "#d8576b"
            ],
            [
             0.6666666666666666,
             "#ed7953"
            ],
            [
             0.7777777777777778,
             "#fb9f3a"
            ],
            [
             0.8888888888888888,
             "#fdca26"
            ],
            [
             1,
             "#f0f921"
            ]
           ],
           "sequentialminus": [
            [
             0,
             "#0d0887"
            ],
            [
             0.1111111111111111,
             "#46039f"
            ],
            [
             0.2222222222222222,
             "#7201a8"
            ],
            [
             0.3333333333333333,
             "#9c179e"
            ],
            [
             0.4444444444444444,
             "#bd3786"
            ],
            [
             0.5555555555555556,
             "#d8576b"
            ],
            [
             0.6666666666666666,
             "#ed7953"
            ],
            [
             0.7777777777777778,
             "#fb9f3a"
            ],
            [
             0.8888888888888888,
             "#fdca26"
            ],
            [
             1,
             "#f0f921"
            ]
           ]
          },
          "colorway": [
           "#636efa",
           "#EF553B",
           "#00cc96",
           "#ab63fa",
           "#FFA15A",
           "#19d3f3",
           "#FF6692",
           "#B6E880",
           "#FF97FF",
           "#FECB52"
          ],
          "font": {
           "color": "#2a3f5f"
          },
          "geo": {
           "bgcolor": "white",
           "lakecolor": "white",
           "landcolor": "#E5ECF6",
           "showlakes": true,
           "showland": true,
           "subunitcolor": "white"
          },
          "hoverlabel": {
           "align": "left"
          },
          "hovermode": "closest",
          "mapbox": {
           "style": "light"
          },
          "paper_bgcolor": "white",
          "plot_bgcolor": "#E5ECF6",
          "polar": {
           "angularaxis": {
            "gridcolor": "white",
            "linecolor": "white",
            "ticks": ""
           },
           "bgcolor": "#E5ECF6",
           "radialaxis": {
            "gridcolor": "white",
            "linecolor": "white",
            "ticks": ""
           }
          },
          "scene": {
           "xaxis": {
            "backgroundcolor": "#E5ECF6",
            "gridcolor": "white",
            "gridwidth": 2,
            "linecolor": "white",
            "showbackground": true,
            "ticks": "",
            "zerolinecolor": "white"
           },
           "yaxis": {
            "backgroundcolor": "#E5ECF6",
            "gridcolor": "white",
            "gridwidth": 2,
            "linecolor": "white",
            "showbackground": true,
            "ticks": "",
            "zerolinecolor": "white"
           },
           "zaxis": {
            "backgroundcolor": "#E5ECF6",
            "gridcolor": "white",
            "gridwidth": 2,
            "linecolor": "white",
            "showbackground": true,
            "ticks": "",
            "zerolinecolor": "white"
           }
          },
          "shapedefaults": {
           "line": {
            "color": "#2a3f5f"
           }
          },
          "ternary": {
           "aaxis": {
            "gridcolor": "white",
            "linecolor": "white",
            "ticks": ""
           },
           "baxis": {
            "gridcolor": "white",
            "linecolor": "white",
            "ticks": ""
           },
           "bgcolor": "#E5ECF6",
           "caxis": {
            "gridcolor": "white",
            "linecolor": "white",
            "ticks": ""
           }
          },
          "title": {
           "x": 0.05
          },
          "xaxis": {
           "automargin": true,
           "gridcolor": "white",
           "linecolor": "white",
           "ticks": "",
           "title": {
            "standoff": 15
           },
           "zerolinecolor": "white",
           "zerolinewidth": 2
          },
          "yaxis": {
           "automargin": true,
           "gridcolor": "white",
           "linecolor": "white",
           "ticks": "",
           "title": {
            "standoff": 15
           },
           "zerolinecolor": "white",
           "zerolinewidth": 2
          }
         }
        },
        "xaxis": {
         "anchor": "y",
         "domain": [
          0,
          1
         ],
         "title": {
          "text": "Cluster ID"
         }
        },
        "yaxis": {
         "anchor": "x",
         "domain": [
          0,
          1
         ],
         "title": {
          "text": "Number of Schools"
         }
        }
       }
      }
     },
     "metadata": {},
     "output_type": "display_data"
    }
   ],
   "source": [
    "# First, count the occurrences of each political affiliation within each cluster\n",
    "df_count = complete_emebed_party.groupby(['Cluster', 'charter_majority_party']).size().reset_index(name='Counts')\n",
    "\n",
    "# Then, create a bar chart\n",
    "fig = px.bar(df_count, x='Cluster', y='Counts', color='charter_majority_party', barmode='group', \n",
    "             labels={'Counts':'Number of Schools', 'Cluster':'Cluster ID'})\n",
    "\n",
    "fig.show()"
   ]
  },
  {
   "cell_type": "code",
   "execution_count": 31,
   "metadata": {},
   "outputs": [
    {
     "data": {
      "text/plain": [
       "46    Mountain Island Charter School offers a tradit...\n",
       "Name: mission_statement, dtype: object"
      ]
     },
     "execution_count": 31,
     "metadata": {},
     "output_type": "execute_result"
    }
   ],
   "source": [
    "complete_emebed_party.mission_statement[complete_emebed_party.schoolname == 'Mountain Island Charter School']"
   ]
  },
  {
   "cell_type": "code",
   "execution_count": 96,
   "metadata": {},
   "outputs": [],
   "source": [
    "# give me sample mission statement based on cluster\n",
    "list_content_cluster_0=list(complete_emebed_party.mission_statement[complete_emebed_party.Cluster == 0])"
   ]
  },
  {
   "cell_type": "code",
   "execution_count": 97,
   "metadata": {},
   "outputs": [
    {
     "data": {
      "text/plain": [
       "['The vision of Durham Charter School is to prepare students to succeed in either college or career by 2030. The mission of the school is to provide all children with an outstanding comprehensive education that includes rigorous academics, as well as diverse opportunities to develop mastery in the arts, athletics, and engineering. The school teaches character values through its focus on building the Cs of Character, Culture, and Community, with values such as positive attitude, respect, integrity, determination, and empathy. The school offers extracurricular programming in arts, athletics, and science, with options such as visual arts, music, library media, and more. The curriculum includes math, English language arts, and science programs, and the school offers sports such as soccer, volleyball, basketball, cheer, track and field, and more. The school plans to implement an Academically Intellectually Gifted program and offers high school students the option of qualifying for an Honors track. \\n',\n",
       " 'The mission of Discovery Charter School is to prepare students to be self-motivated, lifelong, independent and collaborative learners through challenging M-focused curriculum in an innovative and supportive environment.\\n',\n",
       " 'The mission of Art Space Charter School is to offer a complete education through an integrated curriculum centered around visual and performing arts, utilizing an experiential approach. They believe in a family-centered, cooperative approach to education that encourages parental involvement and community service in order to nurture responsible citizenship.\\n',\n",
       " 'Woods Charter School empowers students to achieve their full potential. We develop young citizens equipped with a solid academic foundation, a passion for learning, and exemplary character.',\n",
       " 'The mission/vision of Davidson Charter Academy is to foster student learning and achievement, and inspire students to become independent thinkers, effective communicators, and contributing citizens of global society.\\n',\n",
       " \"Mountain Island Charter School offers a traditional curriculum while instilling character values and leadership development within a positive, challenging learning environment. \\xa0Students, teachers, staff, and parents will be encouraged to lead by example through their positive impact on and service to each other, their school, and their community. \\xa0We endeavor to promote and foster excellence, wisdom, integrity, and perseverance within our students to enable them to be successful in today's complex and diverse society.\",\n",
       " 'Cornerstone Charter Academy, a tuition-free public charter school, will give every student the opportunity to reach his or her full potential by providing a rigorous academic program, character education, and meaningful parental participation.',\n",
       " 'Hobgood \\xa0Charter School is committed to a holistic approach to excellence: academically, physically, emotionally, and socially. Through rigorous small group instruction, multi-age collaboration, and community involvement students will establish patterns for healthy, lifelong learning.\\xa0',\n",
       " 'The mission of the Charter School of Lee County is to embrace all students, regardless of their background and ability level, and provide a strong academic setting that is supportive, innovative, creative, and effective. They are committed to working closely with each student to help them achieve their potential and promote a No Suspension Philosophy. They strive to be a leader in technological studies and challenge and motivate students in the areas of science, technology, reading, engineering, arts, and math. They also prioritize professional staff development for their teachers and staff. For more information, contact them by email or through their contact form.\\n',\n",
       " \"The mission of Lincoln Charter School is to facilitate the development of college-ready individuals through emphasis on rigorous academics and community expectations, including honesty, respect, empathy, responsibility, service, and preparedness. The school focuses on college preparation by providing opportunities in academics, athletics, and student life to nurture students' potential based on their unique needs and passions. The mission statement serves as the guiding principle in all decisions and is reinforced through visual displays in classrooms, daily morning announcements, and parent surveys. The school also conducts professional development to ensure staff investment in the mission and adherence to community expectations. \\n\",\n",
       " 'The mission of Lake Norman Charter School is to provide a rigorous and comprehensive educational environment to develop students with a focus on college readiness, leadership, and social responsibility. The school also values partnership, trust, safety, and pride among the student body, parents, community, and staff. The school promotes challenging academic curriculum, personal growth through extracurricular activities and community service, and embraces global diversity and inclusivity. The school also upholds an Honor Code that emphasizes good manners, respect for others and their property, honesty, and responsible citizenship. Violations of the Honor Code are subject to consequences determined by the teacher, school principal, and/or assistant principal. \\n',\n",
       " \"The vision/mission of Lakeside Charter Academy is to provide all students with a focused and coherent curriculum through the Core Knowledge Sequence by E. D. Hirsch. The school aims to develop students' scholarship, leadership, and citizenship through a challenging academic program and opportunities for community service and civic instruction. The goal is to create confident and capable students who become productive citizens in the community. The school believes that every child can learn and strives to provide the best instruction for all students, regardless of their background or ability level. The teachers at Lakeside Charter Academy make real-life applications to help students grasp the material, and decisions are made with the students' best interests in mind. The school's mission is to be a champion for every child. \\n\",\n",
       " \"The mission of The Math and Science Academy of Charlotte is to provide exceptional education in a safe, nurturing, and culturally responsive learning environment. Their vision is to develop students' skills to live in harmony with themselves, with others, and with the natural environment. They focus on Science, Technology, Engineering, the Arts, and Math (STEM) education. They serve more than 800 students from kindergarten through 12th grade on their two campuses in Charlotte, North Carolina. They are committed to strong parent, school, and community partnerships. For more information, visit their website at www.tmsapcs.org/about_us.\\n\",\n",
       " 'Southwest Charlotte STEM Academy promotes high academic achievement by increasing student engagement through a workshop model that encourages and empowers students to take ownership of their own learning.',\n",
       " \"Uwharrie Charter Academy will exist to provide a truly rigorous pathway to college and career readiness; to afford students the benefit of a small learning community with a low teacher/student ratio in an effort to promote strong relationships with students and individualized support for learning; to imbed the curriculum with STEM focused content through problem-based learning, historical developments in technology, hands-on math, and inquiry science that requires engineering and ingenuity; to promote hands-on, project-based learning in all courses; to support the development of 21st century skills integrating the use of technology; to partner with parents so that they understand their role in their child's education; to build relationships with local institutions in order to provide real-world connections and opportunities for applied learning; and to promote environmental stewardship including the adoption of green practices in students' everyday lives and the integration of NC's Environmental Literacy Plan in a cross curricular approach.\",\n",
       " 'The mission of Raleigh Charter High School is to challenge college-bound students in a creative and supportive atmosphere to become knowledgeable, thoughtful, contributing citizens. They aim to cultivate understanding and practices that sustain individual self-determination and community self-government. They prioritize the foundation of knowledge and ethics, self-awareness, building and maintaining local and larger communities, working towards equity and against oppression and injustice, recognizing the dignity of every human being, engaging in common enterprise, facilitating problem-solving, fostering balance in life, and taking ownership and responsibility for learning. They strive to graduate citizens of the world by creating an interconnected learning environment that combines demanding college-preparatory education with a curriculum that teaches and models citizenship skills. They involve students in the resources of downtown Raleigh and emphasize active, social, and creative learning. The school aims to be a place of opportunity for highly motivated students and actively involved parents. The teachers at Raleigh Charter High School love to learn and teach, and they hope that students will develop a deep love for learning and acquire a wealth of knowledge and skills. \\n',\n",
       " 'Wake Forest Charter Academy students will learn to become powerful, critical and independent thinkers, successful collaborators, and enthusiastic contributors to their learning processes in preparation for success in a vibrant, symbiotic world as they and our teachers, parents and community prepare them for college and career readiness.',\n",
       " 'The mission of Iredell Charter Academy is to build a rigorous and productive learning environment where students can reach their academic potential and where teachers and students set clear educational goals.',\n",
       " 'Langtree Charter Academy is to build a rigorous and productive learning environment where students can reach their academic potential and where teachers set clear educational goals. We value the relationship between the teacher and student and the role the family plays in a child\\x92s academic and social development. At their foundation, teachers, parents and students at Langtree Charter Academy will have the shared academic philosophy that all children can learn, become self-motivated life-long learners, function as responsible citizens, and realize their potential as productive members of the local and global societies and the 21st century workforce. A focus on citizenship and experimental learning through community engagement will be present at every grade level. Building upon this foundation enables students from all socioeconomic levels to realize their academic and personal potential and to prepare to enter, compete, and succeed as students and, later, as professionals.',\n",
       " 'The mission of KIPP Gaston College Preparatory (GCP) is to empower all of our students with the skills, knowledge, and character necessary to succeed at the college of their choice, strengthen our community, and fight for social justice. All students, parents, and teachers commit to this mission.',\n",
       " 'Working in partnership with parents and community, the Queen\\x92s Grant Community School will offer a challenging, character-based education. By providing a strong curriculum and an atmosphere of high expectations, students can master basic skills and realize full academic potential in preparation for higher education and life-long learning.',\n",
       " 'Winterville Charter Academy will put each student on a path to college readiness through the implementation of a rigorous curriculum, the use of formative assessments and other data to inform instruction, a system of outstanding professional development to support and grow teachers, and a school culture that provides a safe and nurturing learning environment where students develop the skills and personal qualities important for success in life. Parents, students, and staff will collaborate to create a school that values both academic achievement and strong character.',\n",
       " 'Summerfield Charter Academy will provide a K-8 education that places each student on the path to academic proficiency and college readiness. Parents, students, and staff will work together to create an environment that values academic achievement, emphasizes strong character, and fosters in every student the ability to think, understand, and communicate. At the same time, our school will imbue in every student a deep sense of individual responsibility and an appreciation of the dignity of work.',\n",
       " 'Chatham Charter School will establish and maintain a challenging learning environment that respects the individual learners and prepares students to succeed in a globally competitive society.',\n",
       " 'Evergreen Community Charter School is a learning community committed to the pursuit of excellence in holistic education of mind, body, and spirit',\n",
       " 'Carolina Charter Academy prepares students for a lifetime of learning by developing their natural passion for discovery and problem-solving. Students are immersed in an engaged learning environment where they develop a knowledge-based education to better understand the world around them.',\n",
       " 'Greensboro Academy, in cooperation with parents and community, will strive to challenge students to reach their highest potential in academic excellence and moral character; at the same time, our school will imbue in every student a deep sense of individual responsibility and an appreciation for the dignity of work.',\n",
       " 'The mission of the Bear Grass Charter School, in partnership with family and community, is to enhance the quality of life of all students by ensuring they possess the competencies to achieve academic and vocational success in a technological world. Our collaboration with East Carolina University and other post-secondary institutions will strengthen the focus on mathematics and science throughout the curriculum.',\n",
       " 'We believe that empowering our students empowers our community.The students of Mountain Discovery Charter School are engaged in an experientially rich, hands-on course of study developed to maximize each child\\x92s potential to become a responsible citizen of the local and global communities.',\n",
       " 'The mission of The Movement Charter School is lead students and families to the academic excellence and socio-emotional health that enables them to successfully persist through college and careers.',\n",
       " 'Central Carolina Academy will establish and maintain a challenging learning environment that respects the individual learners and prepares students to succeed in a globally competitive society.',\n",
       " 'The mission of the Magellan Charter School is to provide a challenging intellectual journey for\\xa0highly motivated students.',\n",
       " 'Working in partnership with parents and the community, PreEminent Charter School will offer a challenging, character-based education by providing a strong curriculum and an atmosphere of high expectations.']"
      ]
     },
     "execution_count": 97,
     "metadata": {},
     "output_type": "execute_result"
    }
   ],
   "source": [
    "list_content_cluster_0"
   ]
  },
  {
   "cell_type": "code",
   "execution_count": 98,
   "metadata": {},
   "outputs": [],
   "source": [
    "list_content_cluster_1=list(complete_emebed_party.mission_statement[complete_emebed_party.Cluster == 1])"
   ]
  },
  {
   "cell_type": "code",
   "execution_count": 99,
   "metadata": {},
   "outputs": [
    {
     "data": {
      "text/plain": [
       "['The mission of the school is to ensure that each and every student receives a high-quality educational experience, including academics, social/emotional learning, behavior, and mental health. They have implemented a Multi-Tiered System of Supports (MTSS) to address barriers to academic success and provide additional support and interventions for students with academic or other needs. They also offer Title programs to provide assistance to educationally and economically disadvantaged children. Additionally, the school offers clubs, activities, field trips, and virtual engagement opportunities for students to communicate, socialize, and participate in cooperative learning.',\n",
       " \"The vision of the school is to be a rich school community that uses innovations in technology to educate and bring a wide range of students, families, and educators together. The mission of the school is to expand educational choice through innovative and technology-rich instructional practices and to develop each student's full potential for academic and post-secondary success.\\n\",\n",
       " 'The vision/mission of the school for students is to provide experiences that bring scholars together to celebrate their academic, social, and emotional growth as they discover their strengths and interests. The school aims to create a positive and engaging environment through various special events, themed dress-out days, concerts, celebrations, field trips, and more. They also encourage family involvement and provide opportunities for students to showcase their talents and achievements. \\n',\n",
       " 'The mission of the school is to build students academically, socially, and emotionally every day.\\n',\n",
       " \"The mission of the school is to create a public education system that is culturally responsive, supports academic success, and serves as a gateway to unlocking every child's unique gifts. The vision of the school is to follow a dynamic 21st-century franchise model of public education that builds bridges to the economic mainstream for vulnerable scholars and encourages interdisciplinary and holistic approaches to education. \\n\",\n",
       " 'The vision/mission of the school for students is to develop young people into mature, sophisticated thinkers who will be prepared for rigorous future studies. They believe that instruction using real-world experiences in a safe and orderly learning environment will result in well-prepared students who will make a positive difference in their communities.\\n',\n",
       " 'The vision/mission of the school for students is to provide a rigorous, college-preparatory, liberal arts education that meets and exceeds Common Core State Standards. The school aims to cultivate a love of learning, critical thinking skills, and character development in students. They emphasize the importance of a classical curriculum rooted in the traditional liberal arts and the core values of citizenship, cooperation, courage, honesty, integrity, perseverance, respect, and responsibility. The school also integrates arts education, physical education, and foreign language instruction, such as Spanish. They strive to create a growth mindset in students and promote continuous learning. The school follows a modified year-round calendar to minimize learning loss and provide regular breaks for rest and enrichment. Testing and accountability measures are in place to monitor student progress and ensure academic growth. \\n',\n",
       " 'The mission of the school for students is to engage in a learning partnership, develop skills and values, and pursue lifelong learning and personal growth. The vision is to create an environment where all students thrive, with a focus on inclusiveness, mutual respect, personal attention, exploration, an inspired faculty, community engagement, environmental stewardship, and the arts.\\n',\n",
       " 'The vision of Williams Academy is to become a model school for academic achievement. The mission of Williams Academy is to offer a stable, emotionally supportive educational environment for children with the goal of empowering each child to achieve their academic and social potential.\\n',\n",
       " 'The mission of the school is to illuminate, investigate, innovate, cultivate, celebrate, and graduate.\\n',\n",
       " 'The vision of the school for students is to ensure that all students are learning at high levels through an integrated approach to the whole child in a K-12 model. The mission of the school is to nurture, value, engage, sustain, and transform as they champion opportunities in leadership and learning, embracing greatness and inspiring achievement within a telescopic environment. The school also focuses on teaching students core values such as doing everything safely, being a leader, and valuing themselves and others. \\n',\n",
       " 'The mission statement of the school for students is to prepare the next generation of leaders, capable of solving problems and participating effectively and ethically as local and global citizens. Through challenging academics, real-world learning, and community engagement, the school aims to help students discover their potential, develop persistence, and recognize the value of others. The graduates of the school are expected to be ready for the future they will create.\\n',\n",
       " 'The vision/mission of the school for students is to create an inclusive community that promotes social justice and preserves the inherent worth and human dignity of every person. The school aims to practice fairness and equality, analyze multiple perspectives on historical and contemporary issues, and build a community of critical thinkers who are active in the world. The school also believes in providing an experientially rich, hands-on program of study that fosters critical thinking skills, self-respect, and respect for others. They value curiosity, creativity, and student choice in learning, and strive to create a learning community that includes students, teachers, parents, guardians, and the community working in partnership. They also emphasize the importance of honoring the professionalism and skill of their teaching staff.\\n',\n",
       " 'The mission statement of the school for students is to provide an emotionally safe environment where children are encouraged to be risk takers, promote small class sizes and a strong Core Knowledge Curriculum, encourage students to assume greater responsibility for their own learning, offer a variety of electives and technology-infused classrooms, and provide opportunities for participation in high school leveled online classes. \\n',\n",
       " 'The vision/mission of the school for students is to create and operate high-quality schools with an unwavering dedication to student achievement, unyielding commitment to ethical and sound business practices, and providing choice for communities, parents, students, and professionals that fosters educational excellence in America. The school aims to provide a guaranteed and viable curriculum, community-centered academic programming, a community of character, an individualized approach to learning, and meaningful parental involvement. Additionally, the school encourages students in grades K-8 to learn new languages through age-appropriate games and culturally relevant activities.\\n',\n",
       " 'The vision/mission of the school for students is to equip them from all backgrounds to succeed in the college and career of their choice by driving academic excellence, developing strong character, and instilling an entrepreneurial mindset. The school aims to provide a safe, secure, caring, and stimulating atmosphere for students to grow and mature emotionally, intellectually, physically, and socially. They strive to help students meet their fullest potential by implementing a comprehensive curriculum, supporting risk-taking, and providing opportunities for students to create their own future. The school encourages students to develop critical and creative thinking skills, self-confidence, and self-motivation. They also emphasize character education, entrepreneurship, and the value of community. The school has academic goals, character education goals, and entrepreneurship goals to guide their instruction and evaluate their effectiveness. They employ instructional strategies that cater to the different learning styles of students. \\n',\n",
       " 'The mission statement of the school for students is to provide a rigorous back-to-basics curriculum with a strong character education program. The curriculum focuses on building a proper foundation in academics, including facts, grammar, and traditional mathematics. The character education program emphasizes key virtues that students can exemplify in the classroom, at home, and in the community to become productive citizens in society. The school also utilizes the Core Knowledge curriculum, which provides a systematic syllabus of topics in various subjects, and the Saxon Math teaching method for incremental learning of mathematics. The Shurley English program supports the Core Knowledge curriculum and helps students develop writing and speaking skills. The school also promotes social and emotional learning, including social awareness, relationship skills, decision-making, problem-solving, personal safety, ethical standards, self-awareness, self-management, and goal-setting.\\n',\n",
       " 'The vision/mission of the school for students is to foster creativity, confidence, and enthusiasm for learning through arts integration, family engagement, and responsive academic and social curriculum. The school aims to create a community of learners that serves as a model of congeniality, open communication, and trust. The school believes that how children learn is as important as what they learn, and that the social curriculum is as important as the academic curriculum. The school also emphasizes the importance of knowing the children and families they teach, and working with them as partners in education. The school follows the North Carolina Standard Course of Study and places a strong emphasis on the arts.\\n',\n",
       " \"The vision/mission of the school for students is to assist children in achieving their unique potential as responsible global citizens by nurturing self-confidence and independent decision making in a stimulating, creative, and diverse Montessori community. The school aims to provide a learning environment that recognizes the unique possibilities of every human being and follows the child's interests to cultivate a lifelong love of learning. The school also emphasizes interdependence, peaceful cooperation, and respectful care within the community. The vision is for students to develop into thriving individuals who positively engage and impact the world. The school follows authentic Montessori principles, including mixed-age classrooms, inviting Montessori materials, freedom of movement, and serving exceptional children in the classroom as much as possible. The school also values intentional diversity.\\n\",\n",
       " 'The vision/mission of the school for students is to promote mindsets and behaviors that enhance the learning process and create a culture of college and career readiness for all students. The school counseling programs focus on academic development, college and career development, and social emotional development. The counselors work with students in these domains to support their ability to learn, plan for successful transitions, and manage emotions and interpersonal skills.\\n',\n",
       " \"The vision/mission of The Arts Based School is to provide active and creative scholarly exploration that engages students, their family/community, and all school personnel in the learning experience. They aim to achieve this through a strong core curriculum that builds on students' life experiences and multiple ways of knowing/learning, realized through individualized and intimate integrated interdisciplinary, arts-based instruction. Their goal is to create an innovative, inspiring school that addresses the cognitive, social, emotional, and physical development of each student, fostering a holistic approach to education. They also prioritize diversity, equity, and inclusion, nurturing an atmosphere of respect, openness, and trust, and valuing cultural differences and intellectual diversity. \\n\",\n",
       " 'The vision/mission of the school for students is to provide a project-based approach to education, promote meaningful parent involvement, increase diversity, and create experiential learning opportunities through community relationships and outreach programs. They also aim to secure academic and behavior support programs, streamline operations for efficient resource use, complete a new campus project for high school grades, and develop a plan for consistent leadership transition. \\n',\n",
       " 'The vision/mission of the school for students in the \"About Us\" section is to provide a joyful learning environment that cultivates good character and equips students with exceptional skills in reading, writing, and arithmetic. The school aims to foster a love of learning and empower students to succeed. The school\\'s motto is \"Esse Quam Videri,\" which means \"to be, rather than to seem,\" emphasizing the school\\'s commitment to providing real results. The school also promotes the values of fortitude, integrity, respect, and excellence through its slogan and Phoenix Pledge.\\n',\n",
       " 'The vision/mission of the school for students is to create a nurturing environment that involves parents in the life of the school, instills positive values, and empowers students to realize their potential. The school focuses on building character, developing leadership skills, and promoting community service. They believe that all youth hold tremendous potential and strive to create a moral and wholesome environment. The school also maintains a strict dress code and code of conduct for both students and staff.\\n',\n",
       " 'The mission of the school for students is to provide a challenging college preparatory curriculum in an environment of high expectations complemented by artistic and extra-curricular activities. They also aim to instill and expect compassion, integrity, honesty, personal responsibility, and respect for self and others. Additionally, they strive to instill individual responsibility and commitment to serve by respecting the diversity of others and valuing the relationships that unite them as a school community. The vision is to offer a superior college preparatory educational option for the community and its families, with the goal of producing graduates who act with honor, integrity, and personal responsibility, are academically prepared for college, are thoughtful and effective communicators, are intellectually curious and think critically, are exposed to the arts to promote creativity and ingenuity, are purposeful, goal-oriented, adaptable, and determined, and are equipped to be effective and productive citizens. \\n',\n",
       " 'The vision/mission of the school for students is to achieve the total development of the children through academic growth and development, social-emotional development, and physical development. The goal is to create a learning environment where children enjoy the learning process, discover new interests, and unlock hidden talents. The school also aims to create strong relationships with parents, students, and the community as a whole, and to enhance the community of Gastonia. \\n',\n",
       " 'The vision/mission of the school for students is to provide American Traditional Values and Education.\\n',\n",
       " 'The mission statement of the school for students is to ensure that students graduate from college and to prepare them for success in college. \\n',\n",
       " 'The vision/mission of the school for students is to produce young men and women who will learn 21st Century Skills, lead in the global economy, and live in service to the community. They aim to teach students how to utilize creativity, collaboration, critical thinking, and communication to address community problems. The school also values communication, relationships, accountability, and inclusivity. Their goal is to prepare students for global and domestic opportunities by developing their critical thinking, collaboration, communication, and creativity skills.\\n',\n",
       " 'The vision/mission of the school for students is to provide them with a strong moral focus program and rigorous college-prep education. The goal is for students to develop the moral strength, knowledge, and skills they need to succeed in college, work, and life. The school focuses on every student\\'s unique needs, abilities, and interests, sets high standards, and personalizes teaching to help students thrive. Moral focus is made a part of every school day, teaching virtues such as respect, perseverance, and compassion. The school expects students to make wise choices, consider consequences, and take responsibility for their actions. The teachers make themselves available to discuss students\\' progress, and the school values the partnership between home and school. Safety practices are in place to ensure a safe and orderly learning environment. The school also provides tips on combating the \"summer slide\" and offers more information for parents who are deciding where to send their child to school.\\n',\n",
       " 'The vision/mission of the school for students is to provide them with a strong moral focus program and rigorous college-prep education. The goal is for students to develop the moral strength, knowledge, and skills they need to succeed in college, work, and life. The school focuses on every student\\'s unique needs, abilities, and interests, sets high standards, and personalizes teaching to help students thrive. Moral focus is made a part of every school day, teaching virtues such as respect, perseverance, and compassion. The school expects students to make wise choices, consider consequences, and take responsibility for their actions. The teachers make themselves available to discuss students\\' progress, and the school values the partnership between home and school. Safety practices are in place to ensure a safe and orderly learning environment. The school also provides tips on combating the \"summer slide\" and offers more information for parents who are deciding where to send their child to school.\\n',\n",
       " 'The vision/mission of the school for students is to provide them with a strong moral focus program and rigorous college-prep education. The goal is for students to develop the moral strength, knowledge, and skills they need to succeed in college, work, and life. The school focuses on every student\\'s unique needs, abilities, and interests, sets high standards, and personalizes teaching to help students thrive. Moral focus is made a part of every school day, teaching virtues such as respect, perseverance, and compassion. The school expects students to make wise choices, consider consequences, and take responsibility for their actions. The teachers make themselves available to discuss students\\' progress, and the school values the partnership between home and school. Safety practices are in place to ensure a safe and orderly learning environment. The school also provides tips on combating the \"summer slide\" and offers more information for parents who are deciding where to send their child to school.\\n',\n",
       " 'The mission of the school is to create joyful, academically excellent schools that prepare students with the skills and confidence to pursue the paths they chooseÃ¢Â\\x80Â\\x94college, career, and beyondÃ¢Â\\x80Â\\x94so they can lead fulfilling lives and build a more just world. The vision of the school is to provide a high-performing, college-preparatory public charter school experience to students in grades K-12 in Charlotte, Durham, Halifax, and Gaston. \\n',\n",
       " 'The mission of the school is to create joyful, academically excellent schools that prepare students with the skills and confidence to pursue the paths they chooseÃ¢Â\\x80Â\\x94college, career, and beyondÃ¢Â\\x80Â\\x94so they can lead fulfilling lives and build a more just world. The vision of the school is to provide a high-performing, college-preparatory public charter school experience to students in grades K-12 in Charlotte, Durham, Halifax, and Gaston. \\n',\n",
       " 'The mission statement of The Mountain Community School is to create an educational environment where students are inspired to academic excellence and discovery. Teachers, parents, students, and the community work together to honor individuality and diversity, nurture respect for self and others, and foster life-long love of learning. The goal is to instill a sense of pride and love of learning in each and every child, through service to school and community.\\n',\n",
       " \"The mission statement of the school for students is to provide a healthy environment for students and adults within the school environment, recognizing that all students must be physically healthy in order to achieve academic success. The school aims to promote health literacy, nutrition education, physical education, physical activity, environmental awareness, and provide nutritious food options for students. The school also emphasizes the importance of comprehensive health education curriculum that includes nutrition education and promotes lifelong habits of healthy eating and physical activity. The school's wellness plan is aligned with national standards and is aimed at combating obesity and promoting lifelong wellness for students.\\n\",\n",
       " 'The vision/mission of the school for students in the \"About Us\" section is to provide a place-based learning environment that encourages student engagement, individual student mastery, project-based learning, hands-on learning, student-led learning, small group work, and character building. The school aims to bring the local community into the classroom and the classroom out into the community to broaden student perspectives and experiences and build student confidence. The foundation of the school\\'s philosophy is the Summit Pledge, which emphasizes virtues such as honesty, respect, responsibility, compassion, self-discipline, perseverance, and giving. The school also offers a personalized and individualized experience for students in grades K-5 and 6-8, with low student-teacher ratios and a focus on individualized education. In high school, the school combines rigorous college preparatory academics with a program focused on earning elective credits through community engagement, outdoor leadership, mentorship, and life skills development. The school aims to develop students who are inspired, empowered, and equipped to lead. \\n',\n",
       " 'The mission statement of the school for students is to provide an appropriately challenging educational program for students who perform, or show the potential for performing, at remarkably high levels of accomplishment when compared to others of their age, experience, or environment. The school believes that gifted and highly capable students learn at a faster rate, are able to think complexly, and are found across diverse student populations. They also emphasize the need for rigorous and differentiated curriculum, ongoing research-based professional development, and collaborative partnerships with parents and the community. \\n',\n",
       " 'The vision/mission of the school for students is to promote academic excellence and citizenship, while fostering a positive and nurturing learning environment. They strive to provide intellectually challenging experiences and maintain an atmosphere conducive to learning. The goal is to help students achieve academic success and create a safe and secure environment for them every day.\\n',\n",
       " 'The mission of the school for students is to provide a differentiated, challenging, and equitable learning environment that supports the distinctive intellectual, social, and emotional needs of highly gifted children from diverse backgrounds and enables them to form meaningful relationships with their intellectual peers.\\n',\n",
       " \"The vision/mission of the school for students is to encourage them to reach their full potential and to work in partnership with parents and the community. The school values parent input and offers various opportunities for parents to engage with their child's learning experience. They provide information on events, teacher updates, and contact information for teachers on their website. They also invite parents to play an active role in defining the future direction of the school through Town Hall meetings.\\n\",\n",
       " 'The vision/mission of the school for students is to guide them in the discovery of their own particular genius and to provide avenues of enrichment and study that cater to their individual needs. \\n',\n",
       " \"The mission of Corvian Community School is to develop the whole child and address their cognitive, emotional, social, and physical needs. The school aims to create an inclusive community of learning where teachers and parents work together. They strive to motivate students as lifelong learners through hands-on teaching and an integrated curriculum. The school also emphasizes the importance of healthy lifestyle practices for students' social, emotional, and physical well-being. The Corvian Way guides all members of the school community. \\n\",\n",
       " 'The mission of the school for students is to provide academic excellence, nurture personal relationships, and inspire a growing passion for creativity and learning in all students. The vision of the school is to use innovative methods to provide quality education in a smaller, more responsive learning environment, challenging students to develop critical thinking skills, creativity, and communication skills required for success in college and the workplace. The school community works together to support students in a way that invites learning to become a lifelong endeavor. The school also focuses on addressing the needs of each student through various programs and emphasizes health, nutrition, and college and career counseling. \\n',\n",
       " \"The mission of the school is to help students at-risk of not graduating earn a standard high school diploma and prepare for post-secondary success. Their purpose is to provide any student with an achievable alternate pathway to a high school diploma and post-secondary success when the standard approach doesn't meet their needs. They believe that all students can learn and strive to deliver a learning experience that fits the individual and an environment that supports their growth. Their pillars include flexibility, personalization, and support. They offer flexible scheduling, a mastery-based curriculum, personalized assessments and instruction, and supportive staff and social services. \\n\",\n",
       " 'The vision/mission of the school for students is to provide a P.R.I.D.E. experience, which stands for Purpose, Responsibility, Interdependence, and Environmental Awareness. The school aims to challenge students to research and address issues facing their community, take action to make an impact, and become ambassadors to encourage others to get involved. The three stages of the P.R.I.D.E. experience are Awareness, Activate, and Advocate, and students present their accomplishments to a review panel. The school also emphasizes outdoor learning and play spaces. \\n',\n",
       " \"The vision/mission of the school for students is to provide them with an education that is engaging, enriching, and challenging in a safe and positive environment. The school follows the Basic School philosophy, which is based on best practices that are research-based and proven to be highly effective in helping students reach overall excellence. The philosophy is founded on four principles known as the C's: School as Community, Curriculum with Coherence, Climate for Learning, and Commitment to Character. The school aims to create a community where parents, teachers, students, and community members unite to promote learning. The curriculum focuses on proficiency in the written and spoken word, mathematics, and the arts, with a framework that is integrative, thematic, and spirals upward from kindergarten through eighth grade. The school maintains a low student-teacher ratio to ensure individualized attention, and teachers stay connected with their students for multiple years through looping. The school also emphasizes the development of core virtues such as honesty, respect, responsibility, compassion, self-discipline, perseverance, and giving. These virtues are taught through service learning projects, integrated into the curriculum, and fostered through the school climate.\\n\",\n",
       " \"The mission of the school is to help students at-risk of not graduating earn a standard high school diploma and prepare for post-secondary success. Their purpose is to provide any student with an achievable alternate pathway to a high school diploma and post-secondary success when the standard approach doesn't meet their needs. They believe that all students can learn and strive to deliver a learning experience that fits the individual and an environment that supports their growth. The school's pillars include being flexible, personalized, and supportive. They offer flexible scheduling, a mastery-based curriculum, personalized assessments and instruction, and supportive staff and social services. \\n\",\n",
       " 'The vision/mission of the school for students is a student-centered focus on the whole child, designing the curriculum with the needs of the students at the forefront.\\n',\n",
       " 'The vision/mission of the school for students is to empower the whole child to excel academically and socially through rigorous instruction, daily wellness practices, and community engagement within a peaceful environment. The school aims to launch students into the community as intellectually curious, healthy, and engaged citizens who are prepared for the future.\\n',\n",
       " 'The mission statement of the school for students is to cultivate the next generation of innovators, problem solvers, and critical thinkers through a dynamic curriculum that embraces a hands-on, interdisciplinary approach, fosters curiosity, creativity, and collaboration, and empowers students to connect concepts, solve real-world problems, and embrace the challenges of an ever-evolving world.\\n',\n",
       " 'The vision/mission of the school for students is to educate and nurture the whole child, focusing on character, ethics, service, physical, and emotional health in a creative and positive environment that enhances learning and growing. The school aims to provide a quality education in a caring, supportive, and inclusive environment, promoting strong community and fostering respect, supportive relationships, and active parental involvement. Additionally, the school emphasizes college preparatory and career readiness, offering opportunities for students to research majors, colleges, and future career options, as well as providing counseling and support in setting and achieving future goals. Students also have the opportunity to take college coursework as early as tenth grade through partnerships with Belmont Abbey and Central Piedmont Community College. \\n',\n",
       " 'The vision/mission of the school for students is to provide a rigorous, accelerated, and differentiated experience for advanced learners. They aim to instill in students a lifelong sense of curiosity, passion, initiative, and tenacity, along with high expectations and the capacity to achieve them. They value the experience, talents, and dedication of their faculty and commit to supporting their growth and development as professionals. They also pledge to engage parents as partners in their mission with openness and fellowship. The school\\'s name, Telra, stands for \"Teleologic Education Leveraging Research Advances,\" reflecting their focus on connecting learning to the real world and using data-driven insights to improve education. \\n',\n",
       " 'The vision/mission of the school for students in the \"About Us\" section is to provide a caring and nurturing environment where students are valued for who they are. The school aims to help students build character, achieve excellence in academics, and prepare for a successful future. They are committed to excellence and want their students to not only compete locally but globally. The school also emphasizes the importance of character education and teaching virtues. They strive to create a small-school setting where personal relationships are developed with every student and family. The school is free and open to all students in the city.\\n',\n",
       " 'The vision/mission of the school for students is to provide unique and quality education, empower students to take ownership of their education, and maximize their potential as artists while excelling academically. The school believes in pushing the boundaries of traditional education and prioritizes hiring and developing great teachers. The curriculum focuses on building a strong foundation of basic skills and preparing students for acceptance to major universities. The goal is to create well-rounded, responsible, and confident individuals. \\n',\n",
       " \"The vision/mission of the school for students in the about us is to provide an interdisciplinary approach to teaching and learning, empower students to practice agency over their own learning, prepare students for the academic rigors of high school, and help students gain practical life skills and digital literacy. The school aims to create an ideal community for early adolescents, where students are individually known and intellectually challenged to become their best selves. The school also focuses on students' independence, social and emotional learning, and ongoing communication and engagement with families. Additionally, the school offers new opportunities and experiences for 7th and 8th graders, such as small business projects, sports teams, afterschool clubs, and travel experiences. The curriculum includes literature-based language arts and social studies, personalized math instruction, hands-on science investigations, and the development of entrepreneurial skills through the microeconomy program. The goal is for students to develop a love for reading, be prepared for high school, and become active participants in their community. \\n\",\n",
       " \"The mission statement of the school for students is to oversee and make improvements to the school's landscaped areas and surroundings by enhancing the beauty and overall aesthetics of the school's campus so it looks beautiful, inviting, and well-maintained. The purpose is to promote pride in the children and enjoyment for the school community and the extended community. The potential duties include researching projects and making recommendations for improvements, assisting with grounds maintenance, and ornamenting the school with tasteful seasonal decorations. There is also a separate committee formed for the Children's House. \\n\",\n",
       " 'The vision/mission of the school for students is to close the opportunity gap and prepare all students for college, careers, and life. The school aims to enhance teaching practices, provide engaging instructional strategies, and integrate Writing, Inquiry, Collaboration, Organization, and Reading (WICOR) into the educational experience. They offer an AVID program for high school students that focuses on accountability, mentoring, and leadership development. The program provides rigorous curriculum, academic and social support, and prepares students for college and career success. \\n',\n",
       " 'The vision of The Expedition School is to be an excellent school choice that graduates students with skills to be successful and contribute to the global community. The mission of the school is to embrace the natural curiosity of children and empower them to become innovative problem solvers and community builders, and to provide excellent and innovative education to students through experiential project-based learning and focused curriculum.\\n',\n",
       " 'The vision/mission of the school for students is to prepare them with the M-related skills, knowledge, and attitudes needed to meet future challenges in the global workforce and their communities. This is achieved through foundational practices such as Standards Based Mastery Practices, Design Thinking Process, and Project/Problem Based Learning. The school also emphasizes inquiry through S.T.E.M. and utilizes student data protocols. For more information, please contact Caren Roberts Williams, Director of Testing and Data Services.\\n',\n",
       " 'The mission statement of the school for students is not provided in the extracted content.',\n",
       " 'The mission of the school is to surround students with a community of support and empower them to stay in school.\\n',\n",
       " 'The vision/mission of the school for students is to provide each student with a well-rounded education with an emphasis on mathematics and science, and to allow each student to reach their individual potential.\\n',\n",
       " 'The extracted content does not provide information about the vision/mission of the school for students. \\n',\n",
       " 'The vision/mission of the school for students is to create safe classrooms and good citizens, provide a research-based program that promotes learning in a safe, challenged, and happy environment, implement project-based learning aligned with essential standards, and offer specials and electives that prepare students to lead healthy, well-balanced lives.\\n',\n",
       " 'The vision/mission of the school for students in the middle school is to provide a standards-based education program integrated with and supported by the Core KnowledgeÃ\\x82Â® curriculum. The curriculum includes core subjects such as language arts, history and geography, fine arts, mathematics, and natural sciences, as well as foreign language, technology computer skills, and physical education. The school also offers enrichment courses and opportunities for field trips and extracurricular activities. Students in grades K-8 are eligible for the Academically or Intellectually Gifted Program.\\n',\n",
       " \"The mission statement of the school for students is to build and maintain active and meaningful partnerships with students' families for the purpose of supporting student learning. It emphasizes the idea that all parties are equally invested in the student's educational experience and bring knowledge and skills of equal value to work together.\\n\",\n",
       " 'The vision/mission of the school for students is grounded in the classical tradition of the Western world, with a worldview that is grounded in truth, goodness, and beauty. The school aims to provide a high view of humanity and to engage both the intellect and the affections in the pursuit of truth, goodness, and beauty. The school also emphasizes the importance of meaningful relationships, a cohesive K-12 curriculum, and teaching the arts at all grade levels. The ultimate goal is to develop noble, happy human beings who understand their place in the world and strive to be their best. \\n',\n",
       " 'The vision/mission of the school for students is outlined in the 2019-2024 Strategic Plan. Unfortunately, the specific details of the vision/mission are not provided in the extracted content. \\n',\n",
       " 'The vision/mission of the school for students in the \"About Us\" section is to aspire to be a leader in creating a more inclusive, just, and respectful world for children. They aim to foster a school culture that respects and embraces everyone, with a focus on areas such as unconscious biases, curiosity and sharing, psychological safety, connection and sense of belonging, open-mindedness, empathy, team-building, morale, and innovation. They have a Diversity and Inclusion Task Force that works towards goals in education and training, student services, faculty, staff, and student recruitment, and communications to the community. For more information, interested individuals can contact Sherryann Sylvestre. They also provide student services such as the Red Rocket\\'s Closet for uniforms and dress code apparel, and financial assistance through the Phil Hargett Memorial Fund. \\n',\n",
       " 'The vision of Union Day School is to promote and foster thoughtful, caring, and creative students who are critical thinkers and problem solvers. The mission of the school is to provide students with a rigorous curriculum that aligns with the International Baccalaureate ideals and to create a nurturing environment where students demonstrate respect, responsibility, global mindedness, and commitment to academic and civic excellence. The school aims to develop students who are confident, prepared for future success, and who achieve their academic and social potential as lifelong learners in the 21st century. The school emphasizes global mindedness, diversity, and the development of critical foundational skills for lifelong learning. The mascot of Union Day School is the gryphon, symbolizing strength, courage, boldness, gentleness, vigilance, virtue, protection, dedication, and loyalty. The gryphon represents the well-roundedness of Union Day students and their pursuit of personal excellence.\\n',\n",
       " 'The vision/mission of the school for students is to cultivate culture and wisdom in students through a classical academy curriculum that focuses on grammar, logic, and rhetoric. The school aims to provide a strong foundation in language arts, world history, American history, geography, visual arts, music, mathematics, and science through the Core Knowledge curriculum. Additionally, the school utilizes the Saxon Math teaching method for incremental learning of mathematics and the Shurley English program to develop competent writing skills. The school is committed to meeting the needs of all enrolled students and ensuring equal educational opportunities for every child. Students with special needs are provided with accommodations and services to support their learning. \\n',\n",
       " \"The vision of the school for students is to educate and empower every student to purposefully determine their futures and prepare them for life beyond the classroom. The mission of the school is to provide rigorous student-centered career and technology-focused education that prepares graduates for post-high school employment and college success. The school aims to achieve this mission by providing personalized education, meeting the students' academic and career goals, and ensuring a nurturing environment. The core values of the school include reliability, integrity, commitment, and excellence.\\n\",\n",
       " 'The vision of the school for students is to value diverse perspectives and celebrate differences that honor every unique individual. The mission is to guide students in becoming responsible and engaged citizens of the world through ongoing education, open dialogue, self-reflection, and curricula that embrace diversity and inclusion. The school is committed to advocating for and engaging all community members around their multiple identities. \\n',\n",
       " 'The mission of the High School Student Council is to foster collaborative efforts of students to promote positive school climate and offer opportunities for leadership, community service, and scholarship.\\n',\n",
       " 'The vision of the school for students is to create a stimulating, safe, and successful developmentally appropriate learning environment where academic achievement exceeds state standards through the cooperative involvement of students, parents, community, and staff.\\n',\n",
       " 'The mission statement of the school for students is to engage in community service, which provides students with the opportunity to become active members of their community and has a lasting, positive impact on society at large. Community service helps students acquire life skills, teamwork, communication skills, leadership skills, and problem-solving skills. The school requires students to complete a certain number of community service hours each year, with 15 hours for grades 6 and 7 and 30 hours for grades 9, 10, 11, and 12.\\n',\n",
       " \"The mission of Casa Esperanza Montessori is to educate students using the Montessori philosophy and Spanish language acquisition in a way that develops independent, self-motivated individuals who possess the critical thinking skills necessary to become responsible global citizens. The vision is to provide social, emotional, cognitive, and academic benefits to build a foundation for lifelong success and to strengthen students' skills in leadership and critical thinking. \\n\",\n",
       " 'The vision/mission of the school for students is to engage K-8 students by integrating a challenging, hands-on academic program with multi-faceted fine arts courses in a familial environment.\\n',\n",
       " 'The vision of the school for students is to create a safe, inclusive, and respectful school community of authentic learners who pursue knowledge with a creative, thorough, and rigorous approach that creates quality work of the highest merit. The mission of the school is to develop students into confident, responsible, and successful contributors in college, career, and community through mentorship and challenging curriculum that integrates academics and the fine arts.\\n',\n",
       " 'The mission statement of the school for students is to create and operate high quality schools with an unwavering dedication to student achievement, unyielding commitment to ethical and sound business practices, and providing choice for communities, parents, students, and professionals that fosters educational excellence in America. The school also focuses on guaranteed and viable curriculum, community-centered academic programming, community of character, individualized approach to learning, and parental involvement. Additionally, the school encourages students in grades K-8 to learn new languages through their world language curriculum.',\n",
       " \"The mission of the school is to help students at-risk of not graduating earn a standard high school diploma and prepare for post-secondary success. Their purpose is to provide any student with an achievable alternate pathway to a high school diploma and post-secondary success when the standard approach doesn't meet their needs. They believe that all students can learn and strive to deliver a learning experience that fits the individual and an environment that supports their growth. Their pillars include being flexible, personalized, and supportive. They offer flexible scheduling, a mastery-based curriculum, personalized assessments and instruction, and supportive staff and social services. \\n\",\n",
       " 'The mission statement of the school for students is to inspire and educate the whole child, embracing differences through a rigorous academic program and hands-on curriculum. The school aims to help students think critically, listen with discernment, and communicate effectively, fostering their personal growth and development as great American citizens.',\n",
       " \"The vision/mission of the school for students is to nurture each student's head, heart, and hands with equal care and intention, striving to cultivate their innate social, physical, intellectual, creative, and emotional abilities. They aim to create child-centered classrooms and lessons that encourage joy, imagination, confidence, and growth, while prioritizing physical activity throughout the school day. They also strive for the strategic integration of electronics only when and where they are developmentally appropriate and use music, dance, handwork, performance, and each child's innate creativity to enrich their lessons and deepen understanding. They aim to provide an active, supportive, engaging learning environment for administrators, faculty, parents, students, and community partners, and to represent the beautiful diversity of their city and state by welcoming students and staff from all backgrounds and offering free education for all.\\n\",\n",
       " 'The mission statement of the school for students is to create and operate high quality schools with an unwavering dedication to student achievement, unyielding commitment to ethical and sound business practices, and providing choice for communities, parents, students, and professionals that fosters educational excellence in America. The school also focuses on guaranteed and viable curriculum, community-centered academic programming, community of character, individualized approach to learning, and meaningful parental involvement. Additionally, the school encourages students in grades K-8 to learn new languages.',\n",
       " 'The mission statement of the school for students is to prepare students for high academic performance, stimulate their lifelong love of math and science, and create new pathways for them to pursue academic and professional careers in the fields of Math, Science, Engineering, and Technology.',\n",
       " 'The mission statement of the school for students is to provide an excellent learning environment and enhance the experience for students academically, socially, and physically. The school aims to promote open communication and assistance between teachers, parents, and students, and to create a positive community within the school. The Parent-Teacher Organization (PTO) plays a key role in planning, funding, and supporting programs and activities that make the school special. The PTO also organizes social events and fundraisers to provide supplemental educational materials and experiences for the students. ',\n",
       " 'The mission statement of the Haliwa-Saponi Tribal School is to provide high-quality education through academics, technology, and community involvement, with the integration of American Indian culture. The goal is for students to become positive, productive citizens in an ever-changing global society. The school aims to prepare students for the world outside of their school and community, ensuring they are able to become strong members of their community and the workforce. The faculty, staff, and administration are committed to providing excellence in academics and serving as positive role models for the students. The school also values the strength of their history and aims to inspire others through sharing it.',\n",
       " \"The mission statement of the school for students is to provide high quality education preparing today's students for tomorrow's world with a solid foundation to become respectful and productive citizens, focusing on regional agriculture and related industries. Their goal is to provide the best educational experience for their students and their families in the entire region, with a focus on building a solid knowledge base and developing skills necessary for future success.\",\n",
       " 'The vision/mission of the school for students is that all children will learn if they are taught carefully, and careful instruction includes teaching children at their instructional level. The school believes that learning is a function of instruction, not a function of the learner, and that academic decisions should prioritize the needs of the scholars rather than the needs of adults.\\n']"
      ]
     },
     "execution_count": 99,
     "metadata": {},
     "output_type": "execute_result"
    }
   ],
   "source": [
    "list_content_cluster_1"
   ]
  },
  {
   "cell_type": "code",
   "execution_count": 100,
   "metadata": {},
   "outputs": [],
   "source": [
    "list_content_cluster_2=list(complete_emebed_party.mission_statement[complete_emebed_party.Cluster == 2])"
   ]
  },
  {
   "cell_type": "code",
   "execution_count": 101,
   "metadata": {},
   "outputs": [
    {
     "data": {
      "text/plain": [
       "[\"The mission of the counseling department at Kestrel Heights is to provide services and support to students and their families to maximize students' potential for academic, social, and emotional success.\\n\",\n",
       " 'The mission of Voyager Academy is to provide students in kindergarten through grade twelve an academically challenging and supportive learning environment. The vision of Voyager Academy is to inspire life-long learning in every Viking.\\n',\n",
       " 'IDYL Provides a rigorous, stimulating comprehensive educational experience that promotes school success for every child by addressing social, emotional and mental wellness and fostering a strong sense of community. Â\\xa0We provide a high standards learning environment that promotes academic and leadership skills and content mastery.Â\\xa0Â\\xa0',\n",
       " 'Our goal is to assist parents in their mission to develop exemplary young citizens with superior academic preparation, equipped with analytical thinking skills, a passion for learning, and a virtuous character, all built upon a solid foundation of knowledge. Our curriculum is challenging and demanding in an age and grade-appropriate manner and our standards are high.',\n",
       " 'The mission of Clover Garden School is to foster community, generate enthusiasm, challenge students academically, and produce successful citizens.\\n',\n",
       " 'ACS is committed to helping students become engaged citizens by finding meaning in learning through exploring real-world problems and creating innovative and exciting solutions.',\n",
       " 'Our mission is to inspire academic excellence; to nurture curiosity, creativity, and imagination; and to do so within an environment rich with warmth, kindness and respect.',\n",
       " \"The mission of Carolina International School is to nurture students' natural curiosity and joy of learning while they achieve academic excellence through challenging, interdisciplinary, international curriculum. The vision of the school is to develop critical and compassionate thinkers, confident and open-minded communicators, and resourceful and responsible citizens and leaders of our local and global communities. The core values of the school are respect, responsibility, solutions, and service.\\n\",\n",
       " 'The mission statement of Concord Lake Academy for students is to provide a competitive athletic program that helps students grow and develop into healthy young adults. Athletics serves to increase team building, leadership, and communication skills, as well as develop a sense of community throughout the school. The school aims to provide a competitive schedule of interscholastic games that build upon friendships, playing skills, self-confidence, athletic enjoyment, better community relationships, sportsmanship, discipline, leadership, and teamwork.\\n',\n",
       " \"The mission statement of Thomas Academy School's Testing and Accountability Office is to correctly implement and administer all assessments embedded within the State Testing Program. The data gathered will be used to accurately reflect the school in state and federal reporting, as well as inform and impact decisions on teaching and learning. The office is responsible for administering various assessments, including End-of-Grade assessments in Reading and Mathematics for grades 6-8, End-of-Grade Science assessments for grade 8, and End-of-Course assessments in Biology, English, and Math. Additionally, the office administers assessments to determine English proficiency for students whose primary home language is not English. \\n\",\n",
       " 'The vision of Alpha Academy is to be one of the most successful schools in the world, measured by their service to the community and the success of their students in graduating, obtaining successful careers, and becoming model citizens of the world. The mission of Alpha Academy is to prepare students to become outstanding leaders and motivate them to strive for their greatest potential through exceptional character and academic achievements.\\n',\n",
       " 'The Capitol Encore Academy will develop artists who inspire others with principles of design and artful thinking through the integration of academic excellence, virtuous character and disciplined artistry.',\n",
       " 'Water\\x92s Edge Village School provides local education to its isolated coastal community, a place rich in natural resources and environmentally-focused organizations. Galvanized by a diverse community of people deeply invested in the success of a local school and grounded in partnerships with children and families, WEVS provides a rigorous, child-centered learning environment. Leadership principles and an academically challenging, integrated, hands-on curriculum empower students by instilling a sense of social and environmental responsibility while nurturing both body and mind.',\n",
       " \"The vision of North East Carolina Preparatory School is to nurture students' natural curiosity and joy of learning while they achieve academic excellence through challenging, interdisciplinary, global curriculum. The mission of the school is to teach and inspire through a challenging curriculum that integrates technology, experiential learning, and critical thinking skills; promotes diversity; emphasizes involvement of students, parents, and highly trained staff; and creates student leaders, all in preparation for post-secondary success.\\n\",\n",
       " 'To maximize the educational potential of students by providing a stimulating educational environment that will develop each student\\x92s intellectual, spiritual, emotional, physical and social potential to the fullest and to effectively educate and utilize parents, communities, and churches in the education of children.',\n",
       " 'Education and citizenship are our vital concerns. The\\xa0Carter G. Woodson\\xa0School\\xa0is a place where every child is taught in a challenge-friendly, nurturing, and constructive learning environment. At\\xa0Carter G. Woodson, every child is respected and is expected to learn, grow, and be the best he or she can be.',\n",
       " 'To create a challenging learning environment while striving to meet the academic, social, and emotional needs of our 21st century learners to prepare them for citizenship, leadership, and success in a rapidly changing world.',\n",
       " 'The\\xa0mission of Triad Math and Science Academy is to prepare students to become competent, responsible and successful individuals in our globalized and technology-based society through a strong academic program, school-family-community partnership, and a strong teacher-student relationship.',\n",
       " 'We produce future college graduates who are dynamic student leaders with exceptional intelligence and a strong sense of who they are and what they can achieve.',\n",
       " 'A collaborative definition of Rigorous Academics was agreed upon as follows: The focused coherent and challenging application of a content-rich curriculum with the goal of every student exceeding current standards.',\n",
       " 'The Experiential School of Greensboro educates the whole child through a high quality, project-based, experiential curriculum. We are committed to an inclusive, open, experience-based learning environment that promotes the development of socially-aware citizens who are creative problem solvers and critical thinkers.',\n",
       " \"The mission of Anderson Creek Academy is to create a 21st Century learning environment that recognizes students' multiple intelligences and diverse learning styles with a culturally responsive curriculum and instructional program. The vision of the school is to create a school with a family atmosphere where students' academic success comes first and to open minds to lifelong learning.\\n\",\n",
       " 'Our focus is on Academic Excellence, Individualized Learning and Building Self-Confidence. Our small school environment ensures that all students are known, respected and valued for their unique qualities.',\n",
       " 'The mission of Fern Leaf is to foster a rich learning environment that embodies the essence of community, understanding, and the human spirit. They seek to engage the unique passions and aptitudes of their school community so that students become thoughtful, compassionate, and engaged. The four fundamentals of Fern Leaf education are: \\n1. High Quality Academic Instruction\\n2. Rich Learning Environments\\n3. Social and Emotional Learning\\n4. Community Culture',\n",
       " 'The mission of the American Renaissance School- School Counseling department is to provide comprehensive and developmental counseling program addressing the academic, career, and personal/social development of all students. They aim to enable personal growth and academic success through developmentally appropriate methods. The school counseling program also emphasizes collaboration with parents, teachers, community, and administrators. The school counselor performs various functions to assist students and their families during the K-8 school years, including individual counseling, group counseling, and classroom guidance. They also provide resources for students experiencing homelessness and support under Section 504 of the Individuals with Disabilities Education Act.\\n',\n",
       " 'Pine Lake Preparatory prepares students for college and a purposeful life.\\xa0',\n",
       " 'The vision/mission of Ascend Leadership Academy is to develop successful student leaders by growing their self-efficacy, intellectual understanding, and social competence. They accomplish this by applying innovative teaching methods, incorporating student cultural realities, and cultivating student ownership in the learning community. Their core programs include Project Based Leadership, a unique combination of traditional project-based learning and their leadership program, and a leadership curriculum that promotes the core values of Respect, Accountability, Integrity, Service, and Excellence. They also offer Digital Media courses to expose students to the latest digital software and technology. The school aims to create a culture of innovation where students are empowered and take ownership of their learning, building problem-solving skills to have a positive impact on their community. They provide a rigorous academic program to prepare students for college and life in the 21st Century.\\n',\n",
       " \"West Lake Preparatory Academy's (WLPA) mission is to provide students with a rigorous education program offering personalized learning plans in a technology rich environment preparing each student to excel and compete in a global environment.\",\n",
       " 'Our mission is to use the principles of The Basic School to provide an optimal environment for learning in which teachers and parents work together to create an inclusive community of learning.',\n",
       " 'The mission of Eastside Academy is to cultivate passion for learning and community service. Students will reach high academic expectations and will be challenged at the appropriate level through engaging curriculum that places emphasis on character education, Science, Technology, Reading, Engineering, the Arts, and Mathematics, and real-life application.\\n',\n",
       " 'At INVEST COLLEGIATAE, we imagine, we nuture, we value, we engage, we sustain, we transform, as we champion opportunities in leadership and learning, embracing greatness, inspiring achievement in a telescopic environment.',\n",
       " 'The mission of the school is to develop intellectually, morally, and physically excellent citizens who embrace learning and the desire to serve through Classical Education.\\n',\n",
       " 'The vision of East Voyager Academy is to cultivate global understanding and foster lifelong learning skills to prepare students to become productive, competent, and engaged citizens of the 21st century. The mission of East Voyager Academy is to graduate its students with English-Chinese bilingual proficiency, strong academics, and intercultural competence.\\n',\n",
       " 'The students of Steele Creek Preparatory Academy will learn in a rigorous, personalized learning environment while building strong foundations of academic and critical thinking skills that lead to future opportunities for college and career readiness.',\n",
       " 'The Academy of Moore County creates value in the community by producing children who are independent thinkers and are able to communicate effectively, at school, at home, and in their community.',\n",
       " 'Rocky Mount Prep will educate, equip, and empower each scholar to excel academically by providing equitable learning opportunities and collaborating with families and communities.',\n",
       " 'Cape Fear Center for Inquiry is committed to promoting students\\x92 abilities to think and create in personally meaningful ways through an inquiry-based, integrated curriculum in a nurturing and empowering environment.',\n",
       " 'Wilmington Preparatory Academy will provide a base of literacy, global knowledge, and life skills to prepare urban, economically disadvantaged K-8 youths for college and life beyond. Through an extended-day and extended-year curriculum the Academy will train students to take personal responsibility for their education, health choices, and social well being',\n",
       " 'The mission of the Wilmington School of the Arts is to provide an arts integrated project-based school that any child may attend regardless of their financial situation. The school aims to make learning fun for kids through project-based learning, which involves actively engaging in real-world and personally meaningful projects that require critical thinking, problem solving, collaboration, and various forms of communication. Students are encouraged to use higher-order thinking skills and work as a team to answer driving questions and create high-quality work.\\n',\n",
       " \"The mission of Z.E.C.A. School of Arts and Technology is to provide a safe and nurturing environment for children by fostering a stimulating and educational atmosphere that promotes each child's unique social, emotional, physical, cultural, technological, and cognitive development with a strong emphasis on arts, diversity, and technology. Their vision is to meet and nurture students' academic needs to maximize their potential, accelerate their academic confidence, and prepare them for high school through academic success, social-emotional competence, and self-confidence and self-worth. They aim to help students re-engage in the school experience successfully and empower teachers to teach to the unique needs of each individual student. Their goals include achieving academic growth tailored to students' unique needs, incorporating students' cultural selves in the curriculum, and fostering academic engagement and motivation. They also focus on developing students' self-confidence, emotional management skills, and leadership skills to positively impact their community and become leaders in their community. \\n\",\n",
       " \"Eno River Academy will nurture a community of academic and artistic distinction, as it enriches each student's cultural literacy\",\n",
       " 'We recognize that each child is uniquely different and may, at times, need special instruction and attention. We strive to meet the needs of our diverse community, sparking the learning desires of \\x93below average students\\x94 at risk of giving up on learning, challenging \\x93average students\\x94 to do their very best, and motivating \\x93above average students\\x94 to rise to their full potential.',\n",
       " 'The vision of Roxboro Community School is to create educated, responsible, and productive men and women who are equipped to face the challenges of the 21st century. The mission of the school is to achieve and maintain educational excellence by providing a small, inviting, and nurturing school that focuses on grades six through twelve. The school values and respects each member of its school family, enabling everyone to become effective, productive citizens. The school provides an environment that directs students to focus on relevant and rigorous learning that will continue after high school. Roxboro Community School is committed to fostering a culture of respect that is embedded throughout the school, built on the belief that all members are essential to a successful learning environment. The school maintains high expectations for all students and believes that all students can learn at high levels. The staff is committed to problem-solving, respecting time and the time commitments of others, being aware of nonverbal communications, being active and responsible members of the team, and providing and receiving feedback constructively and respectfully.\\n',\n",
       " 'Engage students in STREAM disciplines that will prepare future leaders who are innovative, persistent, and self-determined.',\n",
       " 'The main goals of the high school counseling program at Thomas Jefferson Classical Academy are:\\n1. Students will demonstrate a positive attitude toward themselves as unique and worthy individuals.\\n2. Students will gain life-planning skills that are consistent with their needs, interests, and abilities.\\n3. Students will develop responsible social skills and an understanding and appreciation of being a contributing member of society.\\n4. Students will demonstrate an understanding and appreciation of the lifelong process of learning, growing, and changing.\\n',\n",
       " \"UPA's mission is to offer a learning environment that is academically rigorous and enhanced with personalized learning plans to enable students to apply their knowledge of concepts and principles within a dynamic academic community.\",\n",
       " 'The mission of Henderson Collegiate is to empower students with the character traits, academic skills, social experiences, and love of learning necessary for them to shape their own destinies, attend and graduate from the college of their choice and become world-changing problem solvers.',\n",
       " 'Our mission is to teach and inspire each child to become an independent thinker and a contributing citizen with a life-long desire to learn.',\n",
       " 'The Exploris School is a diverse learning community that engages students in a challenging, relevant, relationship-based education. Through experiential, project-based learning we empower students to foster a just and sustainable world.',\n",
       " 'Quest Academy will provide a quality academic accelerated day program for motivated students who are pursuing high-intensity training outside the classroom. Quest Academy is designed to promote academic excellence and substantial extracurricular involvement in athletics or performance in fine arts. This activity does not equate with religious or youth activities and includes professional instruction outside of the home.',\n",
       " \"Triangle Math and Science Academy's mission is to prepare students to become competent, responsible, and successful individuals in our globalized and technology-based society through a strong academic program, school-family-community partnership, and a strong teacher student relationship.\",\n",
       " 'The vision/mission of Envision Science Academy is to provide a school that focuses on science, technology, engineering, arts, and mathematics (STEM) education and project-based learning in order to better prepare students for the workforce.\\n',\n",
       " 'To succeed in a global society by providing a diverse, collaborative, and technological, academic climate empowering 80% of students to be proficient by 2023',\n",
       " 'Wilson Preparatory Academy will provide every student with a quality and relevant education that will prepare them to progress in a rapidly evolving global society. An integrated and comprehensive curriculum will be tailored to every student regardless of background, learning style, career or college pathway.',\n",
       " 'Movement School East exists to love and nurture scholars by leading a movement of change in education through academic excellence, character development, and preparation for success in life.',\n",
       " \"ALA Coastal is dedicated to improving the lives of students by providing authentic learning experiences in a collaborative, nurturing environment that will build a foundation for students' success in school, career, and life.\",\n",
       " 'Our mission is, \\x93to eradicate generational poverty in the lives of our students by providing a rigorous education from kindergarten through 12th grade through academic preparation, college and career readiness and life skills for success.\"',\n",
       " 'The primary mission of The North Carolina Leadership Academy is to develop each student\\x92s leadership potential, intellectual aptitude, physical ability and heart for service in order to prepare our students to live in and give back to a changing society as self-respecting and responsible citizens.',\n",
       " 'We foster a culture of literacy. In all subject areas, students are expected to read with purpose, produce high-quality writing, and communicate effectively with audiences both inside and outside the classroom. Students learn to be thoughtful in making assumptions, accurate when collecting information, insightful when drawing conclusions, and unbiased when supporting statements with evidence.',\n",
       " \"Aristotle Preparatory Academy's mission is to prepare all students for success in college and beyond by raising leaders and productive citizens via a rigorous STEM-focused curriculum with an emphasis on character development.\",\n",
       " 'High standards and quality instruction support a learning environment where achievement thrives and where students are instilled with a commitment to academic excellence and personal responsibility.',\n",
       " 'The mission of KIPP Durham College Preparatory is to empower all of our students with the skills, knowledge and character necessary to strengthen their communities, succeed at the colleges of their choice and fight for social justice.',\n",
       " 'Sallie B. Howard School of Arts & Science is committed to cultivating high student achievement in academics, character, and the arts. Our mission is to provide every child \\x96 privileged or underprivileged \\x96 with the kind of education that nurtures their gifts, talents, and potential and enables them to become more than they ever thought they would be.',\n",
       " 'Our understandings of humankind and our universe are expressed and communicated through all of our arts and sciences.\\xa0 Each method of expression \\x96 language, painting, music, mathematics, and science \\x96 has its rules and techniques for effectively communicating these ideas and understandings.',\n",
       " 'Our understandings of humankind and our universe are expressed and communicated through all of our arts and sciences.\\xa0 Each method of expression \\x96 language, painting, music, mathematics, and science \\x96 has its rules and techniques for effectively communicating these ideas and understandings.',\n",
       " 'To ensure that all students master the academic basics and develop principled centered lives, to foster in every student an ability to think, understand and communicate, to imbue to them a deep sense of individual responsibility, and to develop an appreciation for the dignity of work.',\n",
       " 'Revolution Academy will develop productive citizens who are prepared for a lifetime of achievement by using a challenging, classical academic program, meaningful parental partnerships, character education, and an emphasis on student responsibility.',\n",
       " 'To offer a challenging academic program and a school culture that values strong character, educational excellence, and accountability, and where each student is given the opportunity for success.',\n",
       " 'Through dynamic, culturally relevant instruction and limitless expectations, students at PEAK Academy will be empowered with the academic excellence, character traits, and love of learning necessary to become life-long scholars, leaders, and community stewards.',\n",
       " 'Our understandings of humankind and our universe are expressed and communicated through all of our arts and sciences.\\xa0 Each method of expression \\x96 language, painting, music, mathematics, and science \\x96 has its rules and techniques for effectively communicating these ideas and understandings.',\n",
       " 'To provide children in the Southeastern part of Durham a comprehensive elementary-middle school. To provide working parents in the Research Triangle Park an opportunity for quality education near their workplace. This will provide opportunities for them to visit during the day, reduce time away from their children and to know that they are only a short distance away from their child. The school will also serve as a clarion call to all of North Carolina on the cooperative abilities of industry and education to come together for the benefit of working parents and their children.',\n",
       " 'Our understandings of humankind and our universe are expressed and communicated through all of our arts and sciences.\\xa0 Each method of expression \\x96 language, painting, music, mathematics, and science \\x96 has its rules and techniques for effectively communicating these ideas and understandings.',\n",
       " 'Our mission is to equip students with the tools of learning to think critically, reason effectively, and communicate persuasively through the rigors of a classical education.',\n",
       " 'Our school develops students into critical thinkers, active collaborators, and eager contributors to their learning, thereby imparting students with the skills to excel in college, careers, and life.',\n",
       " 'The mission of Research Triangle High School is to increase access to globally compeve Science, Technology, Engineering, and Math (STEM) educaon for students and teachers across North Carolina, by incubang, proving, and scaling innovave models of teaching and learning. Our vision is to graduate young people who are prepared for college-level studies, and who have learned the 21st-century skills that Research Triangle Park-like companies seek.',\n",
       " 'Piedmont Classical High School educates and prepares all students, through a challenging and classically driven curriculum, to succeed in any endeavor.',\n",
       " 'Our mission is to provide a rigorous classical education with high academic and personal expectations, that inspires students to be productive and thoughtful citizens in their communities and beyond.',\n",
       " 'The mission of Paul R. Brown Leadership Academy is to serve its students through a commitment to excellence in an education that serves today, tomorrow, and the future by providing an academically rich program that encompasses all skill sets for life: reading, communication, critical and creative thinking, problem solving, work ethic, integrity, physical wellness, and leadership.',\n",
       " 'The Mission of Two Rivers Community School is to be an exemplary K-8 school founded upon the belief in academic Rigor, curricular Relevance, and authentic Relationships.',\n",
       " 'In support of the family, provide the best educational experience to as many students as possible in a moral and wholesome environment.',\n",
       " 'Shining Rock Classical Academy: A Challenge Foundation Academy engages all students and challenges them to excel. Through an integrated, content-rich curriculum, students will develop a strong foundation in critical thought and cultivate a lifelong love of learning. We encourage local and global citizenship, and we practice six core values: Integrity, Respect, Compassion, Responsibility, Wisdom, and Leadership.',\n",
       " 'We provide students a strong moral focus program and a rigorous college-prep education. Our goal is for students to develop the moral strength, knowledge, and skills they need to succeed in college, work, and life.',\n",
       " 'RISE empowers its scholars to thrive academically, strengthen their community, and discover their voice. We teach rigorous content, educate with compassion, foster leadership, and encourage exploration.']"
      ]
     },
     "execution_count": 101,
     "metadata": {},
     "output_type": "execute_result"
    }
   ],
   "source": [
    "list_content_cluster_2"
   ]
  },
  {
   "cell_type": "code",
   "execution_count": 105,
   "metadata": {},
   "outputs": [],
   "source": [
    "# what if we more the first 7 tokens from the mission statement in cluster 1"
   ]
  },
  {
   "cell_type": "code",
   "execution_count": 111,
   "metadata": {},
   "outputs": [],
   "source": [
    "complete_emebed_party['mission_statement_experiment']=complete_emebed_party.apply(lambda row: ' '.join(row['mission_statement'].split()[7:]) if row['Cluster'] == 1 else row['mission_statement'], axis=1)\n"
   ]
  },
  {
   "cell_type": "code",
   "execution_count": 117,
   "metadata": {},
   "outputs": [],
   "source": [
    "def get_embedding(text, model=\"text-embedding-ada-002\"):\n",
    "   text = text.replace(\"\\n\", \" \")\n",
    "   time.sleep(5)\n",
    "   return openai.Embedding.create(input = [text], model=model)['data'][0]['embedding']\n",
    "\n",
    "complete_emebed_party['ada_embedding_experiment'] = complete_emebed_party.mission_statement_experiment.apply(lambda x: get_embedding(x, model='text-embedding-ada-002'))"
   ]
  },
  {
   "cell_type": "code",
   "execution_count": 118,
   "metadata": {},
   "outputs": [],
   "source": [
    "# Create a t-SNE model and transform the data\n",
    "#complete_emebed_party['ada_embedding'] = complete_emebed_party['ada_embedding'].apply(eval)\n",
    "embeddings = np.stack(complete_emebed_party['ada_embedding_experiment'].values)  # convert embeddings to numpy array\n",
    "school_names = complete_emebed_party['schoolname'].values\n",
    "charter_pol_affiliation = complete_emebed_party['charter_majority_party'].values  # replace with actual column name\n",
    "district_pol_affiliation = complete_emebed_party['district_majority_party'].values  # replace with actual column name\n",
    "country_description = complete_emebed_party['countydescription'].values\n",
    "\n",
    "# Apply t-SNE to the embeddings\n",
    "tsne = TSNE(n_components=2, random_state=42)\n",
    "embeddings_2d = tsne.fit_transform(embeddings)\n",
    "\n",
    "# Convert the 2D embeddings to a DataFrame\n",
    "df_2d = pd.DataFrame(embeddings_2d, columns=['x', 'y'])\n",
    "df_2d['schoolname'] = school_names\n",
    "df_2d['charter_political_affiliation'] = charter_pol_affiliation\n",
    "df_2d['district_political_affiliation'] = district_pol_affiliation\n",
    "df_2d['countydescription'] = country_description\n",
    "\n",
    "#define color scheme \n",
    "color_discrete_map = {'Democrat':'blue', 'Republican':'red', 'Tie': 'green'}"
   ]
  },
  {
   "cell_type": "code",
   "execution_count": 120,
   "metadata": {},
   "outputs": [
    {
     "data": {
      "application/vnd.plotly.v1+json": {
       "config": {
        "plotlyServerURL": "https://plot.ly"
       },
       "data": [
        {
         "customdata": [
          [
           "North Carolina Cyber Academy",
           "Democrat",
           "Durham"
          ],
          [
           "Maureen Joy Charter School",
           "Democrat",
           "Durham"
          ],
          [
           "Community School of Digital & Visual Art",
           "Democrat",
           "Durham"
          ],
          [
           "Kestrel Heights School",
           "Democrat",
           "Durham"
          ],
          [
           "Voyager Academy",
           "Democrat",
           "Durham"
          ],
          [
           "Global Scholars Academy",
           "Democrat",
           "Durham"
          ],
          [
           "The Institute Development Young Leaders",
           "Democrat",
           "Durham"
          ],
          [
           "Reaching All Minds Academy",
           "Democrat",
           "Durham"
          ],
          [
           "River Mill Academy",
           "Tie",
           "Alamance"
          ],
          [
           "The Hawbridge School",
           "Tie",
           "Alamance"
          ],
          [
           "Alamance Community School",
           "Tie",
           "Alamance"
          ],
          [
           "Emereau: Bladen",
           "Tie",
           "Bladen"
          ],
          [
           "ArtSpace Charter School",
           "Tie",
           "Buncombe"
          ],
          [
           "IC Imagine ",
           "Tie",
           "Buncombe"
          ],
          [
           "Francine Delany New School",
           "Tie",
           "Buncombe"
          ],
          [
           "Carolina International School",
           "Tie",
           "Cabarrus"
          ],
          [
           "A.C.E. Academy",
           "Tie",
           "Cabarrus"
          ],
          [
           "Tiller School",
           "Republican",
           "Carteret"
          ],
          [
           "Willow Oak Montessori",
           "Democrat",
           "Chatham"
          ],
          [
           "Woods Charter",
           "Democrat",
           "Chatham"
          ],
          [
           "Alpha Academy",
           "Democrat",
           "Cumberland"
          ],
          [
           "The Capitol Encore Academy",
           "Democrat",
           "Cumberland"
          ],
          [
           "Water's Edge Village School",
           "Republican",
           "Currituck"
          ],
          [
           "North East Carolina Prep",
           "Democrat",
           "Edgecombe"
          ],
          [
           "Quality Education Academy",
           "Republican",
           "Forsyth"
          ],
          [
           "Carter G. Woodson School",
           "Republican",
           "Forsyth"
          ],
          [
           "Mountain Island Charter School",
           "Republican",
           "Gaston"
          ],
          [
           "Ridgeview Charter School",
           "Republican",
           "Gaston"
          ],
          [
           "Community Public Charter",
           "Republican",
           "Gaston"
          ],
          [
           "Oxford Preparatory",
           "Tie",
           "Granville"
          ],
          [
           "Guilford Preparatory Academy",
           "Democrat",
           "Guilford"
          ],
          [
           "Triad Math and Science Academy",
           "Democrat",
           "Guilford"
          ],
          [
           "Next Generation Academy",
           "Democrat",
           "Guilford"
          ],
          [
           "The Experiential School of Greensboro",
           "Democrat",
           "Guilford"
          ],
          [
           "KIPP Halifax College Preparatory",
           "Democrat",
           "Halifax"
          ],
          [
           "KIPP Charlotte",
           "Democrat",
           "Mecklenburg"
          ],
          [
           "Hobgood Charter School",
           "Democrat",
           "Halifax"
          ],
          [
           "FernLeaf",
           "Republican",
           "Henderson"
          ],
          [
           "Pine Lake Preparatory",
           "Republican",
           "Iredell"
          ],
          [
           "MINA Charter School of Lee County",
           "Democrat",
           "Lee"
          ],
          [
           "Children's Village Academy",
           "Democrat",
           "Lenoir"
          ],
          [
           "West Lake Preparatory Academy",
           "Republican",
           "Lincoln"
          ],
          [
           "Lake Norman Charter",
           "Democrat",
           "Mecklenburg"
          ],
          [
           "Socrates Academy",
           "Democrat",
           "Mecklenburg"
          ],
          [
           "Invest Collegiate Transform",
           "Democrat",
           "Mecklenburg"
          ],
          [
           "Commonwealth High",
           "Democrat",
           "Mecklenburg"
          ],
          [
           "Pioneer Springs Community School",
           "Democrat",
           "Mecklenburg"
          ],
          [
           "United Community School",
           "Democrat",
           "Mecklenburg"
          ],
          [
           "Stewart Creek High",
           "Democrat",
           "Mecklenburg"
          ],
          [
           "Charlotte Lab School",
           "Democrat",
           "Mecklenburg"
          ],
          [
           "TMSA Charlotte",
           "Democrat",
           "Mecklenburg"
          ],
          [
           "Telra Institute",
           "Democrat",
           "Mecklenburg"
          ],
          [
           "Moore Montessori Community School",
           "Tie",
           "Moore"
          ],
          [
           "Cape Fear Center for Inquiry",
           "Republican",
           "New Hanover"
          ],
          [
           "Wilmington Preparatory Academy",
           "Republican",
           "New Hanover"
          ],
          [
           "Wilmington School of the Arts",
           "Republican",
           "New Hanover"
          ],
          [
           "Z.E.C.A. School of Arts and Technology",
           "Republican",
           "Onslow"
          ],
          [
           "Northeast Academy of Aerospace & AdvTech",
           "Democrat",
           "Pasquotank"
          ],
          [
           "Henderson Collegiate",
           "Democrat",
           "Vance"
          ],
          [
           "The Exploris School",
           "Republican",
           "Wake"
          ],
          [
           "Sterling Montessori Academy",
           "Republican",
           "Wake"
          ],
          [
           "Raleigh Charter High School",
           "Republican",
           "Wake"
          ],
          [
           "Casa Esperanza Montessori Charter School",
           "Republican",
           "Wake"
          ],
          [
           "Endeavor Charter School",
           "Republican",
           "Wake"
          ],
          [
           "Triangle Math and Science Academy",
           "Republican",
           "Wake"
          ],
          [
           "Longleaf School of the Arts",
           "Republican",
           "Wake"
          ],
          [
           "Envision Science Academy",
           "Republican",
           "Wake"
          ],
          [
           "Central Wake High School",
           "Republican",
           "Wake"
          ],
          [
           "The Math and Science Academy of Apex",
           "Republican",
           "Wake"
          ],
          [
           "Haliwa-Saponi Tribal School",
           "Democrat",
           "Warren"
          ],
          [
           "Wilson Preparatory Academy",
           "Democrat",
           "Wilson"
          ],
          [
           "Wake Forest Charter Academy",
           "Republican",
           "Wake"
          ],
          [
           "Sugar Creek Charter",
           "Democrat",
           "Mecklenburg"
          ],
          [
           "Central Park School For Child",
           "Democrat",
           "Durham"
          ],
          [
           "KIPP Durham College Preparatory",
           "Democrat",
           "Durham"
          ],
          [
           "KIPP Gaston College Preparatory",
           "Democrat",
           "Northampton"
          ],
          [
           "Winterville Charter Academy",
           "Democrat",
           "Pitt"
          ],
          [
           "Forsyth Academy",
           "Republican",
           "Forsyth"
          ],
          [
           "Asheville PEAK Academy",
           "Tie",
           "Buncombe"
          ],
          [
           "Evergreen Community Charter",
           "Tie",
           "Buncombe"
          ],
          [
           "Piedmont Classical High School",
           "Democrat",
           "Guilford"
          ],
          [
           "Tillery Charter Academy",
           "Republican",
           "Montgomery"
          ],
          [
           "Paul R. Brown Leadership Academy",
           "Tie",
           "Bladen"
          ],
          [
           "Two Rivers Community School",
           "Tie",
           "Watauga"
          ],
          [
           "Mountain Discovery",
           "Republican",
           "Swain"
          ],
          [
           "RISE Southeast Raleigh Charter",
           "Republican",
           "Wake"
          ],
          [
           "PreEminent Charter",
           "Republican",
           "Wake"
          ]
         ],
         "hovertemplate": "charter_political_affiliation=Democrat<br>x=%{x}<br>y=%{y}<br>schoolname=%{customdata[0]}<br>district_political_affiliation=%{customdata[1]}<br>countydescription=%{customdata[2]}<extra></extra>",
         "legendgroup": "Democrat",
         "marker": {
          "color": "blue",
          "symbol": "circle"
         },
         "mode": "markers",
         "name": "Democrat",
         "orientation": "v",
         "showlegend": true,
         "type": "scatter",
         "x": [
          -0.4643705189228058,
          -0.8515304327011108,
          3.3469161987304688,
          11.268937110900879,
          -12.009726524353027,
          -2.4546754360198975,
          -5.641995429992676,
          3.653782844543457,
          0.3994249999523163,
          2.005868911743164,
          7.720625877380371,
          8.06616497039795,
          -4.635453701019287,
          3.2339649200439453,
          0.41310733556747437,
          3.6970503330230713,
          -2.270421266555786,
          -1.4842149019241333,
          3.2122228145599365,
          -5.241182327270508,
          -8.275163650512695,
          -0.028377274051308632,
          -9.83155345916748,
          3.9662249088287354,
          1.4789419174194336,
          -5.555629730224609,
          -3.0440409183502197,
          -2.362805128097534,
          3.2389028072357178,
          7.8794732093811035,
          4.627988815307617,
          6.939797878265381,
          -5.642974376678467,
          2.348106622695923,
          -0.2055377960205078,
          -0.20558276772499084,
          -6.426908493041992,
          5.809114456176758,
          8.026870727539062,
          -3.985865831375122,
          0.8440587520599365,
          7.563091278076172,
          -4.122163772583008,
          -2.6516661643981934,
          7.8320512771606445,
          -6.682541847229004,
          6.349053382873535,
          -4.155658721923828,
          -6.664155006408691,
          -5.185224533081055,
          6.374563694000244,
          4.110569000244141,
          -2.7233641147613525,
          2.7335288524627686,
          6.495003700256348,
          -4.597452640533447,
          -9.61095905303955,
          5.868962287902832,
          5.058822154998779,
          5.435365676879883,
          1.3628020286560059,
          -0.5748645067214966,
          3.225067138671875,
          -1.1643345355987549,
          6.923831462860107,
          0.5300098061561584,
          -8.462618827819824,
          -6.673172950744629,
          -2.5329060554504395,
          0.6156066060066223,
          7.041733264923096,
          0.03202664107084274,
          1.795423984527588,
          3.5840024948120117,
          5.291299343109131,
          5.30308723449707,
          0.13160023093223572,
          1.5984562635421753,
          -8.595526695251465,
          -5.905873775482178,
          3.6706628799438477,
          -0.018953686580061913,
          -10.225733757019043,
          -7.208508014678955,
          -3.2369611263275146,
          -7.592291831970215,
          -2.8769309520721436
         ],
         "xaxis": "x",
         "y": [
          11.678182601928711,
          10.442269325256348,
          12.652918815612793,
          10.775145530700684,
          -3.5314807891845703,
          1.9945088624954224,
          9.640215873718262,
          2.269779682159424,
          -0.7096779346466064,
          5.461953163146973,
          -2.2949845790863037,
          3.4435181617736816,
          -4.138139724731445,
          5.399622440338135,
          6.352420330047607,
          -9.81527042388916,
          4.448301792144775,
          6.42281436920166,
          16.327341079711914,
          -13.779732704162598,
          -8.452670097351074,
          -4.643096446990967,
          2.5857551097869873,
          -10.097244262695312,
          11.032307624816895,
          -14.769940376281738,
          -6.059049129486084,
          9.96478271484375,
          -2.543405294418335,
          0.10427163541316986,
          3.5024142265319824,
          -6.4930596351623535,
          -0.3984082043170929,
          -8.153036117553711,
          -7.003836631774902,
          -7.003695011138916,
          -13.150542259216309,
          8.706579208374023,
          -14.132711410522461,
          -11.153848648071289,
          8.364829063415527,
          -13.276927947998047,
          -10.340679168701172,
          12.727723121643066,
          4.393390655517578,
          15.083755493164062,
          6.349360942840576,
          2.32344126701355,
          15.078947067260742,
          7.639604091644287,
          -7.6584062576293945,
          5.847555160522461,
          3.801016330718994,
          -11.378739356994629,
          -12.912026405334473,
          -3.3717093467712402,
          -1.617491364479065,
          3.180128812789917,
          -4.048007488250732,
          -1.6156474351882935,
          6.334462642669678,
          -9.012347221374512,
          16.344106674194336,
          5.377604961395264,
          -6.568149566650391,
          5.335660934448242,
          -4.029293060302734,
          15.077982902526855,
          12.236761093139648,
          3.169675827026367,
          -12.846603393554688,
          -11.625770568847656,
          -1.8262706995010376,
          -0.11332462728023529,
          -16.550491333007812,
          -16.594688415527344,
          -11.95136547088623,
          1.3277968168258667,
          -5.978440284729004,
          -12.901413917541504,
          -13.921807289123535,
          -1.907535195350647,
          -9.403643608093262,
          1.0302469730377197,
          -6.613770961761475,
          3.2470669746398926,
          -14.670920372009277
         ],
         "yaxis": "y"
        },
        {
         "customdata": [
          [
           "NC Virtual Academy",
           "Democrat",
           "Durham"
          ],
          [
           "Excelsior Classical Academy",
           "Democrat",
           "Durham"
          ],
          [
           "Discovery Charter",
           "Democrat",
           "Durham"
          ],
          [
           "Washington Montessori",
           "Republican",
           "Beaufort"
          ],
          [
           "The Franklin School of Innovation",
           "Tie",
           "Buncombe"
          ],
          [
           "Oak Hill Charter School",
           "Republican",
           "Caldwell"
          ],
          [
           "Pinnacle Classical Academy",
           "Republican",
           "Cleveland"
          ],
          [
           "Thomas Academy",
           "Republican",
           "Columbus"
          ],
          [
           "The Arts Based School",
           "Republican",
           "Forsyth"
          ],
          [
           "Crosscreek Charter School",
           "Democrat",
           "Franklin"
          ],
          [
           "Wake Preparatory Academy",
           "Democrat",
           "Franklin"
          ],
          [
           "Phoenix Academy - Primary, Elem, Upper",
           "Democrat",
           "Guilford"
          ],
          [
           "Johnston Charter Academy",
           "Republican",
           "Johnston"
          ],
          [
           "Rolesville Charter Academy",
           "Republican",
           "Wake"
          ],
          [
           "Cornerstone Charter Academy-CFA",
           "Democrat",
           "Guilford"
          ],
          [
           "College Prep and Leadership Academy",
           "Democrat",
           "Guilford"
          ],
          [
           "Achievement Charter Academy",
           "Democrat",
           "Harnett"
          ],
          [
           "The Mountain Community Sch",
           "Republican",
           "Henderson"
          ],
          [
           "American Renaissance School",
           "Republican",
           "Iredell"
          ],
          [
           "Success Institute Charter",
           "Republican",
           "Iredell"
          ],
          [
           "Metrolina Reg Scholars Academy",
           "Democrat",
           "Mecklenburg"
          ],
          [
           "Community School of Davidson",
           "Democrat",
           "Mecklenburg"
          ],
          [
           "Charlotte Secondary",
           "Democrat",
           "Mecklenburg"
          ],
          [
           "Corvian Community School",
           "Democrat",
           "Mecklenburg"
          ],
          [
           "Eastside STREAM Academy",
           "Democrat",
           "Mecklenburg"
          ],
          [
           "Bradford Preparatory School",
           "Democrat",
           "Mecklenburg"
          ],
          [
           "VERITAS Community School, CFA",
           "Democrat",
           "Mecklenburg"
          ],
          [
           "Mallard Creek STEM Academy",
           "Democrat",
           "Mecklenburg"
          ],
          [
           "East Voyager Academy of Charlotte",
           "Democrat",
           "Mecklenburg"
          ],
          [
           "Jackson Day School",
           "Democrat",
           "Mecklenburg"
          ],
          [
           "Southwest Charlotte STEM Academy",
           "Democrat",
           "Mecklenburg"
          ],
          [
           "STARS Charter",
           "Tie",
           "Moore"
          ],
          [
           "Rocky Mount Preparatory",
           "Democrat",
           "Nash"
          ],
          [
           "Island Montessori Charter School",
           "Republican",
           "New Hanover"
          ],
          [
           "Girls Leadership Academy of Wilmington",
           "Republican",
           "New Hanover"
          ],
          [
           "Eno River Academy",
           "Tie",
           "Orange"
          ],
          [
           "The Expedition School",
           "Tie",
           "Orange"
          ],
          [
           "Arapahoe Charter School",
           "Tie",
           "Pamlico"
          ],
          [
           "CIS Academy",
           "Democrat",
           "Robeson"
          ],
          [
           "Southeastern Academy",
           "Democrat",
           "Robeson"
          ],
          [
           "Old Main STREAM Academy",
           "Democrat",
           "Robeson"
          ],
          [
           "Gray Stone Day",
           "Republican",
           "Stanly"
          ],
          [
           "Union Day School",
           "Tie",
           "Union"
          ],
          [
           "Monroe Charter Academy",
           "Tie",
           "Union"
          ],
          [
           "Vance Charter School",
           "Democrat",
           "Vance"
          ],
          [
           "Franklin Academy",
           "Republican",
           "Wake"
          ],
          [
           "East Wake Academy",
           "Republican",
           "Wake"
          ],
          [
           "Quest Academy",
           "Republican",
           "Wake"
          ],
          [
           "Southern Wake Academy",
           "Republican",
           "Wake"
          ],
          [
           "Raleigh Oak Charter",
           "Republican",
           "Wake"
          ],
          [
           "Doral Academy of North Carolina",
           "Republican",
           "Wake"
          ],
          [
           "Pocosin Innovative Charter",
           "Democrat",
           "Washington"
          ],
          [
           "Dillard Academy",
           "Tie",
           "Wayne"
          ],
          [
           "Wayne Preparatory Academy",
           "Tie",
           "Wayne"
          ],
          [
           "Aristotle Preparatory Academy",
           "Democrat",
           "Mecklenburg"
          ],
          [
           "Sallie B Howard School",
           "Democrat",
           "Wilson"
          ],
          [
           "Chatham Charter",
           "Democrat",
           "Chatham"
          ],
          [
           "Matthews Charter Academy",
           "Democrat",
           "Mecklenburg"
          ],
          [
           "Peak Charter Academy",
           "Republican",
           "Wake"
          ],
          [
           "Research Triangle High School",
           "Democrat",
           "Durham"
          ],
          [
           "Greensboro Academy",
           "Democrat",
           "Guilford"
          ],
          [
           "Bear Grass Charter School",
           "Tie",
           "Martin"
          ],
          [
           "American Leadership Academy - Johnston",
           "Republican",
           "Johnston"
          ],
          [
           "Shining Rock Classical Academy",
           "Republican",
           "Haywood"
          ],
          [
           "Central Carolina Academy",
           "Democrat",
           "Lee"
          ],
          [
           "Magellan Charter",
           "Republican",
           "Wake"
          ],
          [
           "Summit Creek Academy",
           "Democrat",
           "Guilford"
          ]
         ],
         "hovertemplate": "charter_political_affiliation=Tie<br>x=%{x}<br>y=%{y}<br>schoolname=%{customdata[0]}<br>district_political_affiliation=%{customdata[1]}<br>countydescription=%{customdata[2]}<extra></extra>",
         "legendgroup": "Tie",
         "marker": {
          "color": "green",
          "symbol": "circle"
         },
         "mode": "markers",
         "name": "Tie",
         "orientation": "v",
         "showlegend": true,
         "type": "scatter",
         "x": [
          2.6078546047210693,
          -2.1078264713287354,
          -3.489283561706543,
          1.7444775104522705,
          4.20109224319458,
          -3.6553475856781006,
          10.434918403625488,
          -7.535088062286377,
          -1.051048755645752,
          -0.17807278037071228,
          -3.776923656463623,
          6.725776195526123,
          6.714102268218994,
          6.725776195526123,
          -1.2835791110992432,
          5.444167613983154,
          0.19857463240623474,
          0.22262665629386902,
          10.779003143310547,
          -3.664669990539551,
          3.0175344944000244,
          -5.123604774475098,
          10.197151184082031,
          -3.317241907119751,
          -8.570270538330078,
          1.3243398666381836,
          -2.4634788036346436,
          5.064453125,
          -11.964461326599121,
          -3.8558478355407715,
          6.099220275878906,
          -0.3393329083919525,
          4.755252838134766,
          -4.024779319763184,
          -7.872892379760742,
          1.828668236732483,
          3.1836955547332764,
          -8.694046974182129,
          2.350881814956665,
          8.861124992370605,
          6.472733974456787,
          -1.7800604104995728,
          5.456044673919678,
          -3.4196085929870605,
          1.934941291809082,
          1.1229535341262817,
          -0.035714007914066315,
          -9.87050724029541,
          -0.25346100330352783,
          -2.300835132598877,
          8.607162475585938,
          2.824709177017212,
          3.19429349899292,
          -7.315831184387207,
          6.463422775268555,
          -5.371033191680908,
          -2.791822910308838,
          -1.005398154258728,
          4.532971382141113,
          8.703177452087402,
          2.0263452529907227,
          -5.787057399749756,
          1.9013084173202515,
          0.47278687357902527,
          1.6880595684051514,
          -4.637048721313477,
          6.944404602050781
         ],
         "xaxis": "x",
         "y": [
          3.9690630435943604,
          -0.30341747403144836,
          -7.234530925750732,
          -0.1131521463394165,
          2.590691566467285,
          -0.5876742601394653,
          10.356356620788574,
          -1.8167426586151123,
          6.298202037811279,
          7.938409805297852,
          5.08280086517334,
          13.144631385803223,
          13.140342712402344,
          13.144631385803223,
          -13.590790748596191,
          0.49415966868400574,
          0.7136633992195129,
          3.60263729095459,
          10.50716781616211,
          8.613958358764648,
          9.733186721801758,
          1.8646520376205444,
          1.904729962348938,
          7.230343341827393,
          -4.553534984588623,
          4.698322296142578,
          6.091872692108154,
          2.30407977104187,
          -3.532641887664795,
          5.799904823303223,
          -8.261580467224121,
          4.56715726852417,
          -11.785041809082031,
          10.763224601745605,
          9.78400993347168,
          -4.785464286804199,
          3.459299325942993,
          5.575273513793945,
          12.890430450439453,
          0.8531419038772583,
          1.6106884479522705,
          13.35157299041748,
          4.857948303222656,
          -0.6530231237411499,
          -0.6970154047012329,
          9.480669975280762,
          9.14163589477539,
          -5.435363292694092,
          15.325456619262695,
          7.3217573165893555,
          0.6919086575508118,
          1.7230108976364136,
          7.796668529510498,
          7.398752689361572,
          -10.95730209350586,
          -2.7228078842163086,
          -12.950284004211426,
          0.5557799339294434,
          0.6096594333648682,
          -6.972843647003174,
          -8.640146255493164,
          -8.180318832397461,
          12.07877254486084,
          -15.210787773132324,
          -10.310211181640625,
          -7.035430431365967,
          12.180179595947266
         ],
         "yaxis": "y"
        },
        {
         "customdata": [
          [
           "Durham Charter School",
           "Democrat",
           "Durham"
          ],
          [
           "Clover Garden",
           "Tie",
           "Alamance"
          ],
          [
           "Marjorie Williams Academy",
           "Republican",
           "Avery"
          ],
          [
           "New Dimensions",
           "Republican",
           "Burke"
          ],
          [
           "Cabarrus Charter Academy",
           "Tie",
           "Cabarrus"
          ],
          [
           "Concord Lake STEAM Academy",
           "Tie",
           "Cabarrus"
          ],
          [
           "Davidson Charter Academy",
           "Republican",
           "Davidson"
          ],
          [
           "Youngsville Academy",
           "Democrat",
           "Franklin"
          ],
          [
           "Piedmont Community Charter School",
           "Republican",
           "Gaston"
          ],
          [
           "Falls Lake Academy",
           "Tie",
           "Granville"
          ],
          [
           "Anderson Creek Academy",
           "Democrat",
           "Harnett"
          ],
          [
           "Summit Charter",
           "Tie",
           "Jackson"
          ],
          [
           "Neuse Charter School",
           "Republican",
           "Johnston"
          ],
          [
           "Ascend Leadership Academy: Lee County",
           "Democrat",
           "Lee"
          ],
          [
           "Lincoln Charter School",
           "Republican",
           "Lincoln"
          ],
          [
           "Lakeside Charter Academy",
           "Democrat",
           "Mecklenburg"
          ],
          [
           "Unity Classical Charter School",
           "Democrat",
           "Mecklenburg"
          ],
          [
           "Steele Creek Preparatory Academy",
           "Democrat",
           "Mecklenburg"
          ],
          [
           "Movement School Southwest",
           "Democrat",
           "Mecklenburg"
          ],
          [
           "The Academy of Moore County",
           "Tie",
           "Moore"
          ],
          [
           "Bethel Hill Charter",
           "Democrat",
           "Person"
          ],
          [
           "Roxboro Community School",
           "Democrat",
           "Person"
          ],
          [
           "Uwharrie Charter Academy",
           "Republican",
           "Randolph"
          ],
          [
           "Bethany Community School",
           "Republican",
           "Rockingham"
          ],
          [
           "Faith Academy Charter School",
           "Republican",
           "Rowan"
          ],
          [
           "Thomas Jefferson Class Academy",
           "Republican",
           "Rutherford"
          ],
          [
           "Lake Lure Classical Academy",
           "Republican",
           "Rutherford"
          ],
          [
           "Millennium Charter Academy",
           "Tie",
           "Surry"
          ],
          [
           "Brevard Academy",
           "Republican",
           "Transylvania"
          ],
          [
           "Union Academy",
           "Tie",
           "Union"
          ],
          [
           "Union Prep Academy at Indian Trail",
           "Tie",
           "Union"
          ],
          [
           "Apprentice Academy High School",
           "Tie",
           "Union"
          ],
          [
           "Cardinal Charter Academy",
           "Republican",
           "Wake"
          ],
          [
           "Pine Springs Preparatory Academy",
           "Republican",
           "Wake"
          ],
          [
           "Cardinal Charter Acad at Wendell Falls",
           "Republican",
           "Wake"
          ],
          [
           "Movement School Eastland",
           "Democrat",
           "Mecklenburg"
          ],
          [
           "Iredell Charter Academy",
           "Republican",
           "Iredell"
          ],
          [
           "American Leadership Academy-Coastal",
           "Republican",
           "New Hanover"
          ],
          [
           "NC Leadership Charter Academy",
           "Republican",
           "Forsyth"
          ],
          [
           "Langtree Charter Academy",
           "Republican",
           "Iredell"
          ],
          [
           "Gate City Charter",
           "Democrat",
           "Guilford"
          ],
          [
           "Queen's Grant Community School",
           "Democrat",
           "Mecklenburg"
          ],
          [
           "Classical Charter Schools of Southport",
           "Republican",
           "Brunswick"
          ],
          [
           "Classical Charter Schools of Wilmington",
           "Republican",
           "New Hanover"
          ],
          [
           "Summerfield Charter Academy",
           "Democrat",
           "Guilford"
          ],
          [
           "Revolution Academy",
           "Democrat",
           "Guilford"
          ],
          [
           "Classical Charter Schools of Whiteville",
           "Republican",
           "Columbus"
          ],
          [
           "Research Triangle Charter",
           "Democrat",
           "Durham"
          ],
          [
           "Classical Charter Schools of Leland ",
           "Republican",
           "Brunswick"
          ],
          [
           "Bonnie Cone Classical Academy",
           "Democrat",
           "Mecklenburg"
          ],
          [
           "Carolina Charter Academy",
           "Republican",
           "Wake"
          ],
          [
           "Movement Charter School",
           "Democrat",
           "Mecklenburg"
          ]
         ],
         "hovertemplate": "charter_political_affiliation=Republican<br>x=%{x}<br>y=%{y}<br>schoolname=%{customdata[0]}<br>district_political_affiliation=%{customdata[1]}<br>countydescription=%{customdata[2]}<extra></extra>",
         "legendgroup": "Republican",
         "marker": {
          "color": "red",
          "symbol": "circle"
         },
         "mode": "markers",
         "name": "Republican",
         "orientation": "v",
         "showlegend": true,
         "type": "scatter",
         "x": [
          -1.2015153169631958,
          5.350907325744629,
          9.558666229248047,
          -1.6427844762802124,
          -1.3206939697265625,
          -6.212784290313721,
          -2.9239652156829834,
          -5.443829536437988,
          1.2351850271224976,
          2.227893590927124,
          2.2854251861572266,
          -4.2592010498046875,
          3.424215078353882,
          -9.598397254943848,
          -4.428826332092285,
          -4.898096084594727,
          -0.5303528904914856,
          5.865840911865234,
          -4.362592697143555,
          3.272890329360962,
          12.49422550201416,
          0.08898311108350754,
          0.784072756767273,
          10.825183868408203,
          -0.8426308631896973,
          -1.375877022743225,
          -3.5506033897399902,
          -2.083118200302124,
          12.14284896850586,
          -5.982309341430664,
          8.470355033874512,
          2.083292007446289,
          -1.196661114692688,
          1.365278720855713,
          -1.1684069633483887,
          -6.170960903167725,
          -2.2993366718292236,
          8.169017791748047,
          -9.660635948181152,
          -2.5447466373443604,
          -0.08005563169717789,
          -2.919299364089966,
          -13.91629409790039,
          -13.91629409790039,
          -1.0741076469421387,
          1.3882406949996948,
          -13.91629409790039,
          9.787069320678711,
          -13.91629409790039,
          0.38011085987091064,
          0.9492267370223999,
          -5.586704730987549
         ],
         "xaxis": "x",
         "y": [
          -8.442157745361328,
          7.974052906036377,
          -11.055068969726562,
          8.473691940307617,
          2.6272146701812744,
          -10.168229103088379,
          -8.379449844360352,
          3.939774513244629,
          4.66395902633667,
          8.260695457458496,
          -5.64743709564209,
          3.329076051712036,
          9.883809089660645,
          -8.745400428771973,
          -9.842297554016113,
          -10.007452011108398,
          -2.192673683166504,
          -11.39023208618164,
          4.200507640838623,
          -6.219600200653076,
          4.948492050170898,
          -8.888668060302734,
          -12.278241157531738,
          5.142683506011963,
          8.620027542114258,
          -3.171823501586914,
          0.6237955093383789,
          -1.624665379524231,
          5.012994289398193,
          5.559514045715332,
          7.043249607086182,
          3.446436643600464,
          2.5631799697875977,
          2.327619791030884,
          2.5886807441711426,
          -6.250739574432373,
          -9.76759147644043,
          -2.8885984420776367,
          -9.574707984924316,
          -11.414600372314453,
          1.084744930267334,
          -15.14925479888916,
          5.651302337646484,
          5.651302337646484,
          -12.379956245422363,
          -14.292016983032227,
          5.651302337646484,
          -7.0273356437683105,
          5.651302337646484,
          -2.3195695877075195,
          -10.949172973632812,
          -6.837126731872559
         ],
         "yaxis": "y"
        }
       ],
       "layout": {
        "legend": {
         "title": {
          "text": "charter_political_affiliation"
         },
         "tracegroupgap": 0
        },
        "template": {
         "data": {
          "bar": [
           {
            "error_x": {
             "color": "#2a3f5f"
            },
            "error_y": {
             "color": "#2a3f5f"
            },
            "marker": {
             "line": {
              "color": "#E5ECF6",
              "width": 0.5
             },
             "pattern": {
              "fillmode": "overlay",
              "size": 10,
              "solidity": 0.2
             }
            },
            "type": "bar"
           }
          ],
          "barpolar": [
           {
            "marker": {
             "line": {
              "color": "#E5ECF6",
              "width": 0.5
             },
             "pattern": {
              "fillmode": "overlay",
              "size": 10,
              "solidity": 0.2
             }
            },
            "type": "barpolar"
           }
          ],
          "carpet": [
           {
            "aaxis": {
             "endlinecolor": "#2a3f5f",
             "gridcolor": "white",
             "linecolor": "white",
             "minorgridcolor": "white",
             "startlinecolor": "#2a3f5f"
            },
            "baxis": {
             "endlinecolor": "#2a3f5f",
             "gridcolor": "white",
             "linecolor": "white",
             "minorgridcolor": "white",
             "startlinecolor": "#2a3f5f"
            },
            "type": "carpet"
           }
          ],
          "choropleth": [
           {
            "colorbar": {
             "outlinewidth": 0,
             "ticks": ""
            },
            "type": "choropleth"
           }
          ],
          "contour": [
           {
            "colorbar": {
             "outlinewidth": 0,
             "ticks": ""
            },
            "colorscale": [
             [
              0,
              "#0d0887"
             ],
             [
              0.1111111111111111,
              "#46039f"
             ],
             [
              0.2222222222222222,
              "#7201a8"
             ],
             [
              0.3333333333333333,
              "#9c179e"
             ],
             [
              0.4444444444444444,
              "#bd3786"
             ],
             [
              0.5555555555555556,
              "#d8576b"
             ],
             [
              0.6666666666666666,
              "#ed7953"
             ],
             [
              0.7777777777777778,
              "#fb9f3a"
             ],
             [
              0.8888888888888888,
              "#fdca26"
             ],
             [
              1,
              "#f0f921"
             ]
            ],
            "type": "contour"
           }
          ],
          "contourcarpet": [
           {
            "colorbar": {
             "outlinewidth": 0,
             "ticks": ""
            },
            "type": "contourcarpet"
           }
          ],
          "heatmap": [
           {
            "colorbar": {
             "outlinewidth": 0,
             "ticks": ""
            },
            "colorscale": [
             [
              0,
              "#0d0887"
             ],
             [
              0.1111111111111111,
              "#46039f"
             ],
             [
              0.2222222222222222,
              "#7201a8"
             ],
             [
              0.3333333333333333,
              "#9c179e"
             ],
             [
              0.4444444444444444,
              "#bd3786"
             ],
             [
              0.5555555555555556,
              "#d8576b"
             ],
             [
              0.6666666666666666,
              "#ed7953"
             ],
             [
              0.7777777777777778,
              "#fb9f3a"
             ],
             [
              0.8888888888888888,
              "#fdca26"
             ],
             [
              1,
              "#f0f921"
             ]
            ],
            "type": "heatmap"
           }
          ],
          "heatmapgl": [
           {
            "colorbar": {
             "outlinewidth": 0,
             "ticks": ""
            },
            "colorscale": [
             [
              0,
              "#0d0887"
             ],
             [
              0.1111111111111111,
              "#46039f"
             ],
             [
              0.2222222222222222,
              "#7201a8"
             ],
             [
              0.3333333333333333,
              "#9c179e"
             ],
             [
              0.4444444444444444,
              "#bd3786"
             ],
             [
              0.5555555555555556,
              "#d8576b"
             ],
             [
              0.6666666666666666,
              "#ed7953"
             ],
             [
              0.7777777777777778,
              "#fb9f3a"
             ],
             [
              0.8888888888888888,
              "#fdca26"
             ],
             [
              1,
              "#f0f921"
             ]
            ],
            "type": "heatmapgl"
           }
          ],
          "histogram": [
           {
            "marker": {
             "pattern": {
              "fillmode": "overlay",
              "size": 10,
              "solidity": 0.2
             }
            },
            "type": "histogram"
           }
          ],
          "histogram2d": [
           {
            "colorbar": {
             "outlinewidth": 0,
             "ticks": ""
            },
            "colorscale": [
             [
              0,
              "#0d0887"
             ],
             [
              0.1111111111111111,
              "#46039f"
             ],
             [
              0.2222222222222222,
              "#7201a8"
             ],
             [
              0.3333333333333333,
              "#9c179e"
             ],
             [
              0.4444444444444444,
              "#bd3786"
             ],
             [
              0.5555555555555556,
              "#d8576b"
             ],
             [
              0.6666666666666666,
              "#ed7953"
             ],
             [
              0.7777777777777778,
              "#fb9f3a"
             ],
             [
              0.8888888888888888,
              "#fdca26"
             ],
             [
              1,
              "#f0f921"
             ]
            ],
            "type": "histogram2d"
           }
          ],
          "histogram2dcontour": [
           {
            "colorbar": {
             "outlinewidth": 0,
             "ticks": ""
            },
            "colorscale": [
             [
              0,
              "#0d0887"
             ],
             [
              0.1111111111111111,
              "#46039f"
             ],
             [
              0.2222222222222222,
              "#7201a8"
             ],
             [
              0.3333333333333333,
              "#9c179e"
             ],
             [
              0.4444444444444444,
              "#bd3786"
             ],
             [
              0.5555555555555556,
              "#d8576b"
             ],
             [
              0.6666666666666666,
              "#ed7953"
             ],
             [
              0.7777777777777778,
              "#fb9f3a"
             ],
             [
              0.8888888888888888,
              "#fdca26"
             ],
             [
              1,
              "#f0f921"
             ]
            ],
            "type": "histogram2dcontour"
           }
          ],
          "mesh3d": [
           {
            "colorbar": {
             "outlinewidth": 0,
             "ticks": ""
            },
            "type": "mesh3d"
           }
          ],
          "parcoords": [
           {
            "line": {
             "colorbar": {
              "outlinewidth": 0,
              "ticks": ""
             }
            },
            "type": "parcoords"
           }
          ],
          "pie": [
           {
            "automargin": true,
            "type": "pie"
           }
          ],
          "scatter": [
           {
            "fillpattern": {
             "fillmode": "overlay",
             "size": 10,
             "solidity": 0.2
            },
            "type": "scatter"
           }
          ],
          "scatter3d": [
           {
            "line": {
             "colorbar": {
              "outlinewidth": 0,
              "ticks": ""
             }
            },
            "marker": {
             "colorbar": {
              "outlinewidth": 0,
              "ticks": ""
             }
            },
            "type": "scatter3d"
           }
          ],
          "scattercarpet": [
           {
            "marker": {
             "colorbar": {
              "outlinewidth": 0,
              "ticks": ""
             }
            },
            "type": "scattercarpet"
           }
          ],
          "scattergeo": [
           {
            "marker": {
             "colorbar": {
              "outlinewidth": 0,
              "ticks": ""
             }
            },
            "type": "scattergeo"
           }
          ],
          "scattergl": [
           {
            "marker": {
             "colorbar": {
              "outlinewidth": 0,
              "ticks": ""
             }
            },
            "type": "scattergl"
           }
          ],
          "scattermapbox": [
           {
            "marker": {
             "colorbar": {
              "outlinewidth": 0,
              "ticks": ""
             }
            },
            "type": "scattermapbox"
           }
          ],
          "scatterpolar": [
           {
            "marker": {
             "colorbar": {
              "outlinewidth": 0,
              "ticks": ""
             }
            },
            "type": "scatterpolar"
           }
          ],
          "scatterpolargl": [
           {
            "marker": {
             "colorbar": {
              "outlinewidth": 0,
              "ticks": ""
             }
            },
            "type": "scatterpolargl"
           }
          ],
          "scatterternary": [
           {
            "marker": {
             "colorbar": {
              "outlinewidth": 0,
              "ticks": ""
             }
            },
            "type": "scatterternary"
           }
          ],
          "surface": [
           {
            "colorbar": {
             "outlinewidth": 0,
             "ticks": ""
            },
            "colorscale": [
             [
              0,
              "#0d0887"
             ],
             [
              0.1111111111111111,
              "#46039f"
             ],
             [
              0.2222222222222222,
              "#7201a8"
             ],
             [
              0.3333333333333333,
              "#9c179e"
             ],
             [
              0.4444444444444444,
              "#bd3786"
             ],
             [
              0.5555555555555556,
              "#d8576b"
             ],
             [
              0.6666666666666666,
              "#ed7953"
             ],
             [
              0.7777777777777778,
              "#fb9f3a"
             ],
             [
              0.8888888888888888,
              "#fdca26"
             ],
             [
              1,
              "#f0f921"
             ]
            ],
            "type": "surface"
           }
          ],
          "table": [
           {
            "cells": {
             "fill": {
              "color": "#EBF0F8"
             },
             "line": {
              "color": "white"
             }
            },
            "header": {
             "fill": {
              "color": "#C8D4E3"
             },
             "line": {
              "color": "white"
             }
            },
            "type": "table"
           }
          ]
         },
         "layout": {
          "annotationdefaults": {
           "arrowcolor": "#2a3f5f",
           "arrowhead": 0,
           "arrowwidth": 1
          },
          "autotypenumbers": "strict",
          "coloraxis": {
           "colorbar": {
            "outlinewidth": 0,
            "ticks": ""
           }
          },
          "colorscale": {
           "diverging": [
            [
             0,
             "#8e0152"
            ],
            [
             0.1,
             "#c51b7d"
            ],
            [
             0.2,
             "#de77ae"
            ],
            [
             0.3,
             "#f1b6da"
            ],
            [
             0.4,
             "#fde0ef"
            ],
            [
             0.5,
             "#f7f7f7"
            ],
            [
             0.6,
             "#e6f5d0"
            ],
            [
             0.7,
             "#b8e186"
            ],
            [
             0.8,
             "#7fbc41"
            ],
            [
             0.9,
             "#4d9221"
            ],
            [
             1,
             "#276419"
            ]
           ],
           "sequential": [
            [
             0,
             "#0d0887"
            ],
            [
             0.1111111111111111,
             "#46039f"
            ],
            [
             0.2222222222222222,
             "#7201a8"
            ],
            [
             0.3333333333333333,
             "#9c179e"
            ],
            [
             0.4444444444444444,
             "#bd3786"
            ],
            [
             0.5555555555555556,
             "#d8576b"
            ],
            [
             0.6666666666666666,
             "#ed7953"
            ],
            [
             0.7777777777777778,
             "#fb9f3a"
            ],
            [
             0.8888888888888888,
             "#fdca26"
            ],
            [
             1,
             "#f0f921"
            ]
           ],
           "sequentialminus": [
            [
             0,
             "#0d0887"
            ],
            [
             0.1111111111111111,
             "#46039f"
            ],
            [
             0.2222222222222222,
             "#7201a8"
            ],
            [
             0.3333333333333333,
             "#9c179e"
            ],
            [
             0.4444444444444444,
             "#bd3786"
            ],
            [
             0.5555555555555556,
             "#d8576b"
            ],
            [
             0.6666666666666666,
             "#ed7953"
            ],
            [
             0.7777777777777778,
             "#fb9f3a"
            ],
            [
             0.8888888888888888,
             "#fdca26"
            ],
            [
             1,
             "#f0f921"
            ]
           ]
          },
          "colorway": [
           "#636efa",
           "#EF553B",
           "#00cc96",
           "#ab63fa",
           "#FFA15A",
           "#19d3f3",
           "#FF6692",
           "#B6E880",
           "#FF97FF",
           "#FECB52"
          ],
          "font": {
           "color": "#2a3f5f"
          },
          "geo": {
           "bgcolor": "white",
           "lakecolor": "white",
           "landcolor": "#E5ECF6",
           "showlakes": true,
           "showland": true,
           "subunitcolor": "white"
          },
          "hoverlabel": {
           "align": "left"
          },
          "hovermode": "closest",
          "mapbox": {
           "style": "light"
          },
          "paper_bgcolor": "white",
          "plot_bgcolor": "#E5ECF6",
          "polar": {
           "angularaxis": {
            "gridcolor": "white",
            "linecolor": "white",
            "ticks": ""
           },
           "bgcolor": "#E5ECF6",
           "radialaxis": {
            "gridcolor": "white",
            "linecolor": "white",
            "ticks": ""
           }
          },
          "scene": {
           "xaxis": {
            "backgroundcolor": "#E5ECF6",
            "gridcolor": "white",
            "gridwidth": 2,
            "linecolor": "white",
            "showbackground": true,
            "ticks": "",
            "zerolinecolor": "white"
           },
           "yaxis": {
            "backgroundcolor": "#E5ECF6",
            "gridcolor": "white",
            "gridwidth": 2,
            "linecolor": "white",
            "showbackground": true,
            "ticks": "",
            "zerolinecolor": "white"
           },
           "zaxis": {
            "backgroundcolor": "#E5ECF6",
            "gridcolor": "white",
            "gridwidth": 2,
            "linecolor": "white",
            "showbackground": true,
            "ticks": "",
            "zerolinecolor": "white"
           }
          },
          "shapedefaults": {
           "line": {
            "color": "#2a3f5f"
           }
          },
          "ternary": {
           "aaxis": {
            "gridcolor": "white",
            "linecolor": "white",
            "ticks": ""
           },
           "baxis": {
            "gridcolor": "white",
            "linecolor": "white",
            "ticks": ""
           },
           "bgcolor": "#E5ECF6",
           "caxis": {
            "gridcolor": "white",
            "linecolor": "white",
            "ticks": ""
           }
          },
          "title": {
           "x": 0.05
          },
          "xaxis": {
           "automargin": true,
           "gridcolor": "white",
           "linecolor": "white",
           "ticks": "",
           "title": {
            "standoff": 15
           },
           "zerolinecolor": "white",
           "zerolinewidth": 2
          },
          "yaxis": {
           "automargin": true,
           "gridcolor": "white",
           "linecolor": "white",
           "ticks": "",
           "title": {
            "standoff": 15
           },
           "zerolinecolor": "white",
           "zerolinewidth": 2
          }
         }
        },
        "title": {
         "text": "Sentence Embed with Charter Political Affiliation"
        },
        "xaxis": {
         "anchor": "y",
         "domain": [
          0,
          1
         ],
         "title": {
          "text": "x"
         }
        },
        "yaxis": {
         "anchor": "x",
         "domain": [
          0,
          1
         ],
         "title": {
          "text": "y"
         }
        }
       }
      }
     },
     "metadata": {},
     "output_type": "display_data"
    }
   ],
   "source": [
    "fig = px.scatter(df_2d, x='x', y='y',title='Sentence Embed with Charter Political Affiliation', color='charter_political_affiliation', color_discrete_map=color_discrete_map,hover_data=['schoolname', 'district_political_affiliation', 'countydescription'])\n",
    "fig.show()"
   ]
  },
  {
   "cell_type": "code",
   "execution_count": 122,
   "metadata": {},
   "outputs": [
    {
     "data": {
      "application/vnd.plotly.v1+json": {
       "config": {
        "plotlyServerURL": "https://plot.ly"
       },
       "data": [
        {
         "customdata": [
          [
           "North Carolina Cyber Academy",
           "Democrat",
           "Durham"
          ],
          [
           "NC Virtual Academy",
           "Tie",
           "Durham"
          ],
          [
           "Maureen Joy Charter School",
           "Democrat",
           "Durham"
          ],
          [
           "Durham Charter School",
           "Republican",
           "Durham"
          ],
          [
           "Community School of Digital & Visual Art",
           "Democrat",
           "Durham"
          ],
          [
           "Kestrel Heights School",
           "Democrat",
           "Durham"
          ],
          [
           "Voyager Academy",
           "Democrat",
           "Durham"
          ],
          [
           "Global Scholars Academy",
           "Democrat",
           "Durham"
          ],
          [
           "The Institute Development Young Leaders",
           "Democrat",
           "Durham"
          ],
          [
           "Reaching All Minds Academy",
           "Democrat",
           "Durham"
          ],
          [
           "Excelsior Classical Academy",
           "Tie",
           "Durham"
          ],
          [
           "Discovery Charter",
           "Tie",
           "Durham"
          ],
          [
           "Willow Oak Montessori",
           "Democrat",
           "Chatham"
          ],
          [
           "Woods Charter",
           "Democrat",
           "Chatham"
          ],
          [
           "Alpha Academy",
           "Democrat",
           "Cumberland"
          ],
          [
           "The Capitol Encore Academy",
           "Democrat",
           "Cumberland"
          ],
          [
           "North East Carolina Prep",
           "Democrat",
           "Edgecombe"
          ],
          [
           "Crosscreek Charter School",
           "Tie",
           "Franklin"
          ],
          [
           "Youngsville Academy",
           "Republican",
           "Franklin"
          ],
          [
           "Wake Preparatory Academy",
           "Tie",
           "Franklin"
          ],
          [
           "Guilford Preparatory Academy",
           "Democrat",
           "Guilford"
          ],
          [
           "Phoenix Academy - Primary, Elem, Upper",
           "Tie",
           "Guilford"
          ],
          [
           "Triad Math and Science Academy",
           "Democrat",
           "Guilford"
          ],
          [
           "Cornerstone Charter Academy-CFA",
           "Tie",
           "Guilford"
          ],
          [
           "College Prep and Leadership Academy",
           "Tie",
           "Guilford"
          ],
          [
           "Next Generation Academy",
           "Democrat",
           "Guilford"
          ],
          [
           "The Experiential School of Greensboro",
           "Democrat",
           "Guilford"
          ],
          [
           "KIPP Halifax College Preparatory",
           "Democrat",
           "Halifax"
          ],
          [
           "KIPP Charlotte",
           "Democrat",
           "Mecklenburg"
          ],
          [
           "Hobgood Charter School",
           "Democrat",
           "Halifax"
          ],
          [
           "Anderson Creek Academy",
           "Republican",
           "Harnett"
          ],
          [
           "Achievement Charter Academy",
           "Tie",
           "Harnett"
          ],
          [
           "Ascend Leadership Academy: Lee County",
           "Republican",
           "Lee"
          ],
          [
           "MINA Charter School of Lee County",
           "Democrat",
           "Lee"
          ],
          [
           "Children's Village Academy",
           "Democrat",
           "Lenoir"
          ],
          [
           "Lake Norman Charter",
           "Democrat",
           "Mecklenburg"
          ],
          [
           "Metrolina Reg Scholars Academy",
           "Tie",
           "Mecklenburg"
          ],
          [
           "Community School of Davidson",
           "Tie",
           "Mecklenburg"
          ],
          [
           "Socrates Academy",
           "Democrat",
           "Mecklenburg"
          ],
          [
           "Charlotte Secondary",
           "Tie",
           "Mecklenburg"
          ],
          [
           "Corvian Community School",
           "Tie",
           "Mecklenburg"
          ],
          [
           "Eastside STREAM Academy",
           "Tie",
           "Mecklenburg"
          ],
          [
           "Invest Collegiate Transform",
           "Democrat",
           "Mecklenburg"
          ],
          [
           "Bradford Preparatory School",
           "Tie",
           "Mecklenburg"
          ],
          [
           "Commonwealth High",
           "Democrat",
           "Mecklenburg"
          ],
          [
           "Pioneer Springs Community School",
           "Democrat",
           "Mecklenburg"
          ],
          [
           "Lakeside Charter Academy",
           "Republican",
           "Mecklenburg"
          ],
          [
           "United Community School",
           "Democrat",
           "Mecklenburg"
          ],
          [
           "Stewart Creek High",
           "Democrat",
           "Mecklenburg"
          ],
          [
           "Charlotte Lab School",
           "Democrat",
           "Mecklenburg"
          ],
          [
           "TMSA Charlotte",
           "Democrat",
           "Mecklenburg"
          ],
          [
           "VERITAS Community School, CFA",
           "Tie",
           "Mecklenburg"
          ],
          [
           "Mallard Creek STEM Academy",
           "Tie",
           "Mecklenburg"
          ],
          [
           "Unity Classical Charter School",
           "Republican",
           "Mecklenburg"
          ],
          [
           "East Voyager Academy of Charlotte",
           "Tie",
           "Mecklenburg"
          ],
          [
           "Jackson Day School",
           "Tie",
           "Mecklenburg"
          ],
          [
           "Steele Creek Preparatory Academy",
           "Republican",
           "Mecklenburg"
          ],
          [
           "Southwest Charlotte STEM Academy",
           "Tie",
           "Mecklenburg"
          ],
          [
           "Telra Institute",
           "Democrat",
           "Mecklenburg"
          ],
          [
           "Movement School Southwest",
           "Republican",
           "Mecklenburg"
          ],
          [
           "Rocky Mount Preparatory",
           "Tie",
           "Nash"
          ],
          [
           "Northeast Academy of Aerospace & AdvTech",
           "Democrat",
           "Pasquotank"
          ],
          [
           "Bethel Hill Charter",
           "Republican",
           "Person"
          ],
          [
           "Roxboro Community School",
           "Republican",
           "Person"
          ],
          [
           "CIS Academy",
           "Tie",
           "Robeson"
          ],
          [
           "Southeastern Academy",
           "Tie",
           "Robeson"
          ],
          [
           "Old Main STREAM Academy",
           "Tie",
           "Robeson"
          ],
          [
           "Henderson Collegiate",
           "Democrat",
           "Vance"
          ],
          [
           "Vance Charter School",
           "Tie",
           "Vance"
          ],
          [
           "Haliwa-Saponi Tribal School",
           "Democrat",
           "Warren"
          ],
          [
           "Pocosin Innovative Charter",
           "Tie",
           "Washington"
          ],
          [
           "Wilson Preparatory Academy",
           "Democrat",
           "Wilson"
          ],
          [
           "Movement School Eastland",
           "Republican",
           "Mecklenburg"
          ],
          [
           "Sugar Creek Charter",
           "Democrat",
           "Mecklenburg"
          ],
          [
           "Central Park School For Child",
           "Democrat",
           "Durham"
          ],
          [
           "Aristotle Preparatory Academy",
           "Tie",
           "Mecklenburg"
          ],
          [
           "Gate City Charter",
           "Republican",
           "Guilford"
          ],
          [
           "KIPP Durham College Preparatory",
           "Democrat",
           "Durham"
          ],
          [
           "KIPP Gaston College Preparatory",
           "Democrat",
           "Northampton"
          ],
          [
           "Queen's Grant Community School",
           "Republican",
           "Mecklenburg"
          ],
          [
           "Sallie B Howard School",
           "Tie",
           "Wilson"
          ],
          [
           "Winterville Charter Academy",
           "Democrat",
           "Pitt"
          ],
          [
           "Summerfield Charter Academy",
           "Republican",
           "Guilford"
          ],
          [
           "Chatham Charter",
           "Tie",
           "Chatham"
          ],
          [
           "Revolution Academy",
           "Republican",
           "Guilford"
          ],
          [
           "Matthews Charter Academy",
           "Tie",
           "Mecklenburg"
          ],
          [
           "Research Triangle Charter",
           "Republican",
           "Durham"
          ],
          [
           "Bonnie Cone Classical Academy",
           "Republican",
           "Mecklenburg"
          ],
          [
           "Research Triangle High School",
           "Tie",
           "Durham"
          ],
          [
           "Greensboro Academy",
           "Tie",
           "Guilford"
          ],
          [
           "Piedmont Classical High School",
           "Democrat",
           "Guilford"
          ],
          [
           "Movement Charter School",
           "Republican",
           "Mecklenburg"
          ],
          [
           "Central Carolina Academy",
           "Tie",
           "Lee"
          ],
          [
           "Summit Creek Academy",
           "Tie",
           "Guilford"
          ]
         ],
         "hovertemplate": "district_political_affiliation=Democrat<br>x=%{x}<br>y=%{y}<br>schoolname=%{customdata[0]}<br>charter_political_affiliation=%{customdata[1]}<br>countydescription=%{customdata[2]}<extra></extra>",
         "legendgroup": "Democrat",
         "marker": {
          "color": "blue",
          "symbol": "circle"
         },
         "mode": "markers",
         "name": "Democrat",
         "orientation": "v",
         "showlegend": true,
         "type": "scatter",
         "x": [
          -0.4643705189228058,
          2.6078546047210693,
          -0.8515304327011108,
          -1.2015153169631958,
          3.3469161987304688,
          11.268937110900879,
          -12.009726524353027,
          -2.4546754360198975,
          -5.641995429992676,
          3.653782844543457,
          -2.1078264713287354,
          -3.489283561706543,
          3.2122228145599365,
          -5.241182327270508,
          -8.275163650512695,
          -0.028377274051308632,
          3.9662249088287354,
          -0.17807278037071228,
          -5.443829536437988,
          -3.776923656463623,
          4.627988815307617,
          6.725776195526123,
          6.939797878265381,
          -1.2835791110992432,
          5.444167613983154,
          -5.642974376678467,
          2.348106622695923,
          -0.2055377960205078,
          -0.20558276772499084,
          -6.426908493041992,
          2.2854251861572266,
          0.19857463240623474,
          -9.598397254943848,
          -3.985865831375122,
          0.8440587520599365,
          -4.122163772583008,
          3.0175344944000244,
          -5.123604774475098,
          -2.6516661643981934,
          10.197151184082031,
          -3.317241907119751,
          -8.570270538330078,
          7.8320512771606445,
          1.3243398666381836,
          -6.682541847229004,
          6.349053382873535,
          -4.898096084594727,
          -4.155658721923828,
          -6.664155006408691,
          -5.185224533081055,
          6.374563694000244,
          -2.4634788036346436,
          5.064453125,
          -0.5303528904914856,
          -11.964461326599121,
          -3.8558478355407715,
          5.865840911865234,
          6.099220275878906,
          4.110569000244141,
          -4.362592697143555,
          4.755252838134766,
          5.868962287902832,
          12.49422550201416,
          0.08898311108350754,
          2.350881814956665,
          8.861124992370605,
          6.472733974456787,
          5.058822154998779,
          1.934941291809082,
          0.6156066060066223,
          2.824709177017212,
          7.041733264923096,
          -6.170960903167725,
          1.795423984527588,
          3.5840024948120117,
          6.463422775268555,
          -0.08005563169717789,
          5.291299343109131,
          5.30308723449707,
          -2.919299364089966,
          -5.371033191680908,
          0.13160023093223572,
          -1.0741076469421387,
          -2.791822910308838,
          1.3882406949996948,
          -1.005398154258728,
          9.787069320678711,
          0.38011085987091064,
          8.703177452087402,
          2.0263452529907227,
          3.6706628799438477,
          -5.586704730987549,
          1.6880595684051514,
          6.944404602050781
         ],
         "xaxis": "x",
         "y": [
          11.678182601928711,
          3.9690630435943604,
          10.442269325256348,
          -8.442157745361328,
          12.652918815612793,
          10.775145530700684,
          -3.5314807891845703,
          1.9945088624954224,
          9.640215873718262,
          2.269779682159424,
          -0.30341747403144836,
          -7.234530925750732,
          16.327341079711914,
          -13.779732704162598,
          -8.452670097351074,
          -4.643096446990967,
          -10.097244262695312,
          7.938409805297852,
          3.939774513244629,
          5.08280086517334,
          3.5024142265319824,
          13.144631385803223,
          -6.4930596351623535,
          -13.590790748596191,
          0.49415966868400574,
          -0.3984082043170929,
          -8.153036117553711,
          -7.003836631774902,
          -7.003695011138916,
          -13.150542259216309,
          -5.64743709564209,
          0.7136633992195129,
          -8.745400428771973,
          -11.153848648071289,
          8.364829063415527,
          -10.340679168701172,
          9.733186721801758,
          1.8646520376205444,
          12.727723121643066,
          1.904729962348938,
          7.230343341827393,
          -4.553534984588623,
          4.393390655517578,
          4.698322296142578,
          15.083755493164062,
          6.349360942840576,
          -10.007452011108398,
          2.32344126701355,
          15.078947067260742,
          7.639604091644287,
          -7.6584062576293945,
          6.091872692108154,
          2.30407977104187,
          -2.192673683166504,
          -3.532641887664795,
          5.799904823303223,
          -11.39023208618164,
          -8.261580467224121,
          5.847555160522461,
          4.200507640838623,
          -11.785041809082031,
          3.180128812789917,
          4.948492050170898,
          -8.888668060302734,
          12.890430450439453,
          0.8531419038772583,
          1.6106884479522705,
          -4.048007488250732,
          -0.6970154047012329,
          3.169675827026367,
          1.7230108976364136,
          -12.846603393554688,
          -6.250739574432373,
          -1.8262706995010376,
          -0.11332462728023529,
          -10.95730209350586,
          1.084744930267334,
          -16.550491333007812,
          -16.594688415527344,
          -15.14925479888916,
          -2.7228078842163086,
          -11.95136547088623,
          -12.379956245422363,
          -12.950284004211426,
          -14.292016983032227,
          0.5557799339294434,
          -7.0273356437683105,
          -2.3195695877075195,
          -6.972843647003174,
          -8.640146255493164,
          -13.921807289123535,
          -6.837126731872559,
          -10.310211181640625,
          12.180179595947266
         ],
         "yaxis": "y"
        },
        {
         "customdata": [
          [
           "River Mill Academy",
           "Democrat",
           "Alamance"
          ],
          [
           "The Hawbridge School",
           "Democrat",
           "Alamance"
          ],
          [
           "Clover Garden",
           "Republican",
           "Alamance"
          ],
          [
           "Alamance Community School",
           "Democrat",
           "Alamance"
          ],
          [
           "Emereau: Bladen",
           "Democrat",
           "Bladen"
          ],
          [
           "ArtSpace Charter School",
           "Democrat",
           "Buncombe"
          ],
          [
           "IC Imagine ",
           "Democrat",
           "Buncombe"
          ],
          [
           "The Franklin School of Innovation",
           "Tie",
           "Buncombe"
          ],
          [
           "Francine Delany New School",
           "Democrat",
           "Buncombe"
          ],
          [
           "Carolina International School",
           "Democrat",
           "Cabarrus"
          ],
          [
           "Cabarrus Charter Academy",
           "Republican",
           "Cabarrus"
          ],
          [
           "A.C.E. Academy",
           "Democrat",
           "Cabarrus"
          ],
          [
           "Concord Lake STEAM Academy",
           "Republican",
           "Cabarrus"
          ],
          [
           "Falls Lake Academy",
           "Republican",
           "Granville"
          ],
          [
           "Oxford Preparatory",
           "Democrat",
           "Granville"
          ],
          [
           "Summit Charter",
           "Republican",
           "Jackson"
          ],
          [
           "The Academy of Moore County",
           "Republican",
           "Moore"
          ],
          [
           "STARS Charter",
           "Tie",
           "Moore"
          ],
          [
           "Moore Montessori Community School",
           "Democrat",
           "Moore"
          ],
          [
           "Eno River Academy",
           "Tie",
           "Orange"
          ],
          [
           "The Expedition School",
           "Tie",
           "Orange"
          ],
          [
           "Arapahoe Charter School",
           "Tie",
           "Pamlico"
          ],
          [
           "Millennium Charter Academy",
           "Republican",
           "Surry"
          ],
          [
           "Union Academy",
           "Republican",
           "Union"
          ],
          [
           "Union Day School",
           "Tie",
           "Union"
          ],
          [
           "Union Prep Academy at Indian Trail",
           "Republican",
           "Union"
          ],
          [
           "Monroe Charter Academy",
           "Tie",
           "Union"
          ],
          [
           "Apprentice Academy High School",
           "Republican",
           "Union"
          ],
          [
           "Dillard Academy",
           "Tie",
           "Wayne"
          ],
          [
           "Wayne Preparatory Academy",
           "Tie",
           "Wayne"
          ],
          [
           "Asheville PEAK Academy",
           "Democrat",
           "Buncombe"
          ],
          [
           "Evergreen Community Charter",
           "Democrat",
           "Buncombe"
          ],
          [
           "Bear Grass Charter School",
           "Tie",
           "Martin"
          ],
          [
           "Paul R. Brown Leadership Academy",
           "Democrat",
           "Bladen"
          ],
          [
           "Two Rivers Community School",
           "Democrat",
           "Watauga"
          ]
         ],
         "hovertemplate": "district_political_affiliation=Tie<br>x=%{x}<br>y=%{y}<br>schoolname=%{customdata[0]}<br>charter_political_affiliation=%{customdata[1]}<br>countydescription=%{customdata[2]}<extra></extra>",
         "legendgroup": "Tie",
         "marker": {
          "color": "green",
          "symbol": "circle"
         },
         "mode": "markers",
         "name": "Tie",
         "orientation": "v",
         "showlegend": true,
         "type": "scatter",
         "x": [
          0.3994249999523163,
          2.005868911743164,
          5.350907325744629,
          7.720625877380371,
          8.06616497039795,
          -4.635453701019287,
          3.2339649200439453,
          4.20109224319458,
          0.41310733556747437,
          3.6970503330230713,
          -1.3206939697265625,
          -2.270421266555786,
          -6.212784290313721,
          2.227893590927124,
          7.8794732093811035,
          -4.2592010498046875,
          3.272890329360962,
          -0.3393329083919525,
          -2.7233641147613525,
          1.828668236732483,
          3.1836955547332764,
          -8.694046974182129,
          -2.083118200302124,
          -5.982309341430664,
          5.456044673919678,
          8.470355033874512,
          -3.4196085929870605,
          2.083292007446289,
          3.19429349899292,
          -7.315831184387207,
          -8.595526695251465,
          -5.905873775482178,
          -5.787057399749756,
          -10.225733757019043,
          -7.208508014678955
         ],
         "xaxis": "x",
         "y": [
          -0.7096779346466064,
          5.461953163146973,
          7.974052906036377,
          -2.2949845790863037,
          3.4435181617736816,
          -4.138139724731445,
          5.399622440338135,
          2.590691566467285,
          6.352420330047607,
          -9.81527042388916,
          2.6272146701812744,
          4.448301792144775,
          -10.168229103088379,
          8.260695457458496,
          0.10427163541316986,
          3.329076051712036,
          -6.219600200653076,
          4.56715726852417,
          3.801016330718994,
          -4.785464286804199,
          3.459299325942993,
          5.575273513793945,
          -1.624665379524231,
          5.559514045715332,
          4.857948303222656,
          7.043249607086182,
          -0.6530231237411499,
          3.446436643600464,
          7.796668529510498,
          7.398752689361572,
          -5.978440284729004,
          -12.901413917541504,
          -8.180318832397461,
          -9.403643608093262,
          1.0302469730377197
         ],
         "yaxis": "y"
        },
        {
         "customdata": [
          [
           "Marjorie Williams Academy",
           "Republican",
           "Avery"
          ],
          [
           "Washington Montessori",
           "Tie",
           "Beaufort"
          ],
          [
           "New Dimensions",
           "Republican",
           "Burke"
          ],
          [
           "Oak Hill Charter School",
           "Tie",
           "Caldwell"
          ],
          [
           "Tiller School",
           "Democrat",
           "Carteret"
          ],
          [
           "Pinnacle Classical Academy",
           "Tie",
           "Cleveland"
          ],
          [
           "Thomas Academy",
           "Tie",
           "Columbus"
          ],
          [
           "Water's Edge Village School",
           "Democrat",
           "Currituck"
          ],
          [
           "Davidson Charter Academy",
           "Republican",
           "Davidson"
          ],
          [
           "Quality Education Academy",
           "Democrat",
           "Forsyth"
          ],
          [
           "Carter G. Woodson School",
           "Democrat",
           "Forsyth"
          ],
          [
           "The Arts Based School",
           "Tie",
           "Forsyth"
          ],
          [
           "Piedmont Community Charter School",
           "Republican",
           "Gaston"
          ],
          [
           "Mountain Island Charter School",
           "Democrat",
           "Gaston"
          ],
          [
           "Ridgeview Charter School",
           "Democrat",
           "Gaston"
          ],
          [
           "Community Public Charter",
           "Democrat",
           "Gaston"
          ],
          [
           "Johnston Charter Academy",
           "Tie",
           "Johnston"
          ],
          [
           "Rolesville Charter Academy",
           "Tie",
           "Wake"
          ],
          [
           "The Mountain Community Sch",
           "Tie",
           "Henderson"
          ],
          [
           "FernLeaf",
           "Democrat",
           "Henderson"
          ],
          [
           "American Renaissance School",
           "Tie",
           "Iredell"
          ],
          [
           "Success Institute Charter",
           "Tie",
           "Iredell"
          ],
          [
           "Pine Lake Preparatory",
           "Democrat",
           "Iredell"
          ],
          [
           "Neuse Charter School",
           "Republican",
           "Johnston"
          ],
          [
           "Lincoln Charter School",
           "Republican",
           "Lincoln"
          ],
          [
           "West Lake Preparatory Academy",
           "Democrat",
           "Lincoln"
          ],
          [
           "Cape Fear Center for Inquiry",
           "Democrat",
           "New Hanover"
          ],
          [
           "Wilmington Preparatory Academy",
           "Democrat",
           "New Hanover"
          ],
          [
           "Island Montessori Charter School",
           "Tie",
           "New Hanover"
          ],
          [
           "Girls Leadership Academy of Wilmington",
           "Tie",
           "New Hanover"
          ],
          [
           "Wilmington School of the Arts",
           "Democrat",
           "New Hanover"
          ],
          [
           "Z.E.C.A. School of Arts and Technology",
           "Democrat",
           "Onslow"
          ],
          [
           "Uwharrie Charter Academy",
           "Republican",
           "Randolph"
          ],
          [
           "Bethany Community School",
           "Republican",
           "Rockingham"
          ],
          [
           "Faith Academy Charter School",
           "Republican",
           "Rowan"
          ],
          [
           "Thomas Jefferson Class Academy",
           "Republican",
           "Rutherford"
          ],
          [
           "Lake Lure Classical Academy",
           "Republican",
           "Rutherford"
          ],
          [
           "Gray Stone Day",
           "Tie",
           "Stanly"
          ],
          [
           "Brevard Academy",
           "Republican",
           "Transylvania"
          ],
          [
           "The Exploris School",
           "Democrat",
           "Wake"
          ],
          [
           "Sterling Montessori Academy",
           "Democrat",
           "Wake"
          ],
          [
           "Franklin Academy",
           "Tie",
           "Wake"
          ],
          [
           "East Wake Academy",
           "Tie",
           "Wake"
          ],
          [
           "Raleigh Charter High School",
           "Democrat",
           "Wake"
          ],
          [
           "Quest Academy",
           "Tie",
           "Wake"
          ],
          [
           "Southern Wake Academy",
           "Tie",
           "Wake"
          ],
          [
           "Casa Esperanza Montessori Charter School",
           "Democrat",
           "Wake"
          ],
          [
           "Endeavor Charter School",
           "Democrat",
           "Wake"
          ],
          [
           "Triangle Math and Science Academy",
           "Democrat",
           "Wake"
          ],
          [
           "Longleaf School of the Arts",
           "Democrat",
           "Wake"
          ],
          [
           "Cardinal Charter Academy",
           "Republican",
           "Wake"
          ],
          [
           "Envision Science Academy",
           "Democrat",
           "Wake"
          ],
          [
           "Central Wake High School",
           "Democrat",
           "Wake"
          ],
          [
           "Pine Springs Preparatory Academy",
           "Republican",
           "Wake"
          ],
          [
           "Raleigh Oak Charter",
           "Tie",
           "Wake"
          ],
          [
           "Cardinal Charter Acad at Wendell Falls",
           "Republican",
           "Wake"
          ],
          [
           "Doral Academy of North Carolina",
           "Tie",
           "Wake"
          ],
          [
           "The Math and Science Academy of Apex",
           "Democrat",
           "Wake"
          ],
          [
           "Wake Forest Charter Academy",
           "Democrat",
           "Wake"
          ],
          [
           "Iredell Charter Academy",
           "Republican",
           "Iredell"
          ],
          [
           "American Leadership Academy-Coastal",
           "Republican",
           "New Hanover"
          ],
          [
           "NC Leadership Charter Academy",
           "Republican",
           "Forsyth"
          ],
          [
           "Langtree Charter Academy",
           "Republican",
           "Iredell"
          ],
          [
           "Classical Charter Schools of Southport",
           "Republican",
           "Brunswick"
          ],
          [
           "Classical Charter Schools of Wilmington",
           "Republican",
           "New Hanover"
          ],
          [
           "Forsyth Academy",
           "Democrat",
           "Forsyth"
          ],
          [
           "Classical Charter Schools of Whiteville",
           "Republican",
           "Columbus"
          ],
          [
           "Classical Charter Schools of Leland ",
           "Republican",
           "Brunswick"
          ],
          [
           "Carolina Charter Academy",
           "Republican",
           "Wake"
          ],
          [
           "Peak Charter Academy",
           "Tie",
           "Wake"
          ],
          [
           "Tillery Charter Academy",
           "Democrat",
           "Montgomery"
          ],
          [
           "American Leadership Academy - Johnston",
           "Tie",
           "Johnston"
          ],
          [
           "Mountain Discovery",
           "Democrat",
           "Swain"
          ],
          [
           "Shining Rock Classical Academy",
           "Tie",
           "Haywood"
          ],
          [
           "Magellan Charter",
           "Tie",
           "Wake"
          ],
          [
           "RISE Southeast Raleigh Charter",
           "Democrat",
           "Wake"
          ],
          [
           "PreEminent Charter",
           "Democrat",
           "Wake"
          ]
         ],
         "hovertemplate": "district_political_affiliation=Republican<br>x=%{x}<br>y=%{y}<br>schoolname=%{customdata[0]}<br>charter_political_affiliation=%{customdata[1]}<br>countydescription=%{customdata[2]}<extra></extra>",
         "legendgroup": "Republican",
         "marker": {
          "color": "red",
          "symbol": "circle"
         },
         "mode": "markers",
         "name": "Republican",
         "orientation": "v",
         "showlegend": true,
         "type": "scatter",
         "x": [
          9.558666229248047,
          1.7444775104522705,
          -1.6427844762802124,
          -3.6553475856781006,
          -1.4842149019241333,
          10.434918403625488,
          -7.535088062286377,
          -9.83155345916748,
          -2.9239652156829834,
          1.4789419174194336,
          -5.555629730224609,
          -1.051048755645752,
          1.2351850271224976,
          -3.0440409183502197,
          -2.362805128097534,
          3.2389028072357178,
          6.714102268218994,
          6.725776195526123,
          0.22262665629386902,
          5.809114456176758,
          10.779003143310547,
          -3.664669990539551,
          8.026870727539062,
          3.424215078353882,
          -4.428826332092285,
          7.563091278076172,
          2.7335288524627686,
          6.495003700256348,
          -4.024779319763184,
          -7.872892379760742,
          -4.597452640533447,
          -9.61095905303955,
          0.784072756767273,
          10.825183868408203,
          -0.8426308631896973,
          -1.375877022743225,
          -3.5506033897399902,
          -1.7800604104995728,
          12.14284896850586,
          5.435365676879883,
          1.3628020286560059,
          1.1229535341262817,
          -0.035714007914066315,
          -0.5748645067214966,
          -9.87050724029541,
          -0.25346100330352783,
          3.225067138671875,
          -1.1643345355987549,
          6.923831462860107,
          0.5300098061561584,
          -1.196661114692688,
          -8.462618827819824,
          -6.673172950744629,
          1.365278720855713,
          -2.300835132598877,
          -1.1684069633483887,
          8.607162475585938,
          -2.5329060554504395,
          0.03202664107084274,
          -2.2993366718292236,
          8.169017791748047,
          -9.660635948181152,
          -2.5447466373443604,
          -13.91629409790039,
          -13.91629409790039,
          1.5984562635421753,
          -13.91629409790039,
          -13.91629409790039,
          0.9492267370223999,
          4.532971382141113,
          -0.018953686580061913,
          1.9013084173202515,
          -3.2369611263275146,
          0.47278687357902527,
          -4.637048721313477,
          -7.592291831970215,
          -2.8769309520721436
         ],
         "xaxis": "x",
         "y": [
          -11.055068969726562,
          -0.1131521463394165,
          8.473691940307617,
          -0.5876742601394653,
          6.42281436920166,
          10.356356620788574,
          -1.8167426586151123,
          2.5857551097869873,
          -8.379449844360352,
          11.032307624816895,
          -14.769940376281738,
          6.298202037811279,
          4.66395902633667,
          -6.059049129486084,
          9.96478271484375,
          -2.543405294418335,
          13.140342712402344,
          13.144631385803223,
          3.60263729095459,
          8.706579208374023,
          10.50716781616211,
          8.613958358764648,
          -14.132711410522461,
          9.883809089660645,
          -9.842297554016113,
          -13.276927947998047,
          -11.378739356994629,
          -12.912026405334473,
          10.763224601745605,
          9.78400993347168,
          -3.3717093467712402,
          -1.617491364479065,
          -12.278241157531738,
          5.142683506011963,
          8.620027542114258,
          -3.171823501586914,
          0.6237955093383789,
          13.35157299041748,
          5.012994289398193,
          -1.6156474351882935,
          6.334462642669678,
          9.480669975280762,
          9.14163589477539,
          -9.012347221374512,
          -5.435363292694092,
          15.325456619262695,
          16.344106674194336,
          5.377604961395264,
          -6.568149566650391,
          5.335660934448242,
          2.5631799697875977,
          -4.029293060302734,
          15.077982902526855,
          2.327619791030884,
          7.3217573165893555,
          2.5886807441711426,
          0.6919086575508118,
          12.236761093139648,
          -11.625770568847656,
          -9.76759147644043,
          -2.8885984420776367,
          -9.574707984924316,
          -11.414600372314453,
          5.651302337646484,
          5.651302337646484,
          1.3277968168258667,
          5.651302337646484,
          5.651302337646484,
          -10.949172973632812,
          0.6096594333648682,
          -1.907535195350647,
          12.07877254486084,
          -6.613770961761475,
          -15.210787773132324,
          -7.035430431365967,
          3.2470669746398926,
          -14.670920372009277
         ],
         "yaxis": "y"
        }
       ],
       "layout": {
        "legend": {
         "title": {
          "text": "district_political_affiliation"
         },
         "tracegroupgap": 0
        },
        "template": {
         "data": {
          "bar": [
           {
            "error_x": {
             "color": "#2a3f5f"
            },
            "error_y": {
             "color": "#2a3f5f"
            },
            "marker": {
             "line": {
              "color": "#E5ECF6",
              "width": 0.5
             },
             "pattern": {
              "fillmode": "overlay",
              "size": 10,
              "solidity": 0.2
             }
            },
            "type": "bar"
           }
          ],
          "barpolar": [
           {
            "marker": {
             "line": {
              "color": "#E5ECF6",
              "width": 0.5
             },
             "pattern": {
              "fillmode": "overlay",
              "size": 10,
              "solidity": 0.2
             }
            },
            "type": "barpolar"
           }
          ],
          "carpet": [
           {
            "aaxis": {
             "endlinecolor": "#2a3f5f",
             "gridcolor": "white",
             "linecolor": "white",
             "minorgridcolor": "white",
             "startlinecolor": "#2a3f5f"
            },
            "baxis": {
             "endlinecolor": "#2a3f5f",
             "gridcolor": "white",
             "linecolor": "white",
             "minorgridcolor": "white",
             "startlinecolor": "#2a3f5f"
            },
            "type": "carpet"
           }
          ],
          "choropleth": [
           {
            "colorbar": {
             "outlinewidth": 0,
             "ticks": ""
            },
            "type": "choropleth"
           }
          ],
          "contour": [
           {
            "colorbar": {
             "outlinewidth": 0,
             "ticks": ""
            },
            "colorscale": [
             [
              0,
              "#0d0887"
             ],
             [
              0.1111111111111111,
              "#46039f"
             ],
             [
              0.2222222222222222,
              "#7201a8"
             ],
             [
              0.3333333333333333,
              "#9c179e"
             ],
             [
              0.4444444444444444,
              "#bd3786"
             ],
             [
              0.5555555555555556,
              "#d8576b"
             ],
             [
              0.6666666666666666,
              "#ed7953"
             ],
             [
              0.7777777777777778,
              "#fb9f3a"
             ],
             [
              0.8888888888888888,
              "#fdca26"
             ],
             [
              1,
              "#f0f921"
             ]
            ],
            "type": "contour"
           }
          ],
          "contourcarpet": [
           {
            "colorbar": {
             "outlinewidth": 0,
             "ticks": ""
            },
            "type": "contourcarpet"
           }
          ],
          "heatmap": [
           {
            "colorbar": {
             "outlinewidth": 0,
             "ticks": ""
            },
            "colorscale": [
             [
              0,
              "#0d0887"
             ],
             [
              0.1111111111111111,
              "#46039f"
             ],
             [
              0.2222222222222222,
              "#7201a8"
             ],
             [
              0.3333333333333333,
              "#9c179e"
             ],
             [
              0.4444444444444444,
              "#bd3786"
             ],
             [
              0.5555555555555556,
              "#d8576b"
             ],
             [
              0.6666666666666666,
              "#ed7953"
             ],
             [
              0.7777777777777778,
              "#fb9f3a"
             ],
             [
              0.8888888888888888,
              "#fdca26"
             ],
             [
              1,
              "#f0f921"
             ]
            ],
            "type": "heatmap"
           }
          ],
          "heatmapgl": [
           {
            "colorbar": {
             "outlinewidth": 0,
             "ticks": ""
            },
            "colorscale": [
             [
              0,
              "#0d0887"
             ],
             [
              0.1111111111111111,
              "#46039f"
             ],
             [
              0.2222222222222222,
              "#7201a8"
             ],
             [
              0.3333333333333333,
              "#9c179e"
             ],
             [
              0.4444444444444444,
              "#bd3786"
             ],
             [
              0.5555555555555556,
              "#d8576b"
             ],
             [
              0.6666666666666666,
              "#ed7953"
             ],
             [
              0.7777777777777778,
              "#fb9f3a"
             ],
             [
              0.8888888888888888,
              "#fdca26"
             ],
             [
              1,
              "#f0f921"
             ]
            ],
            "type": "heatmapgl"
           }
          ],
          "histogram": [
           {
            "marker": {
             "pattern": {
              "fillmode": "overlay",
              "size": 10,
              "solidity": 0.2
             }
            },
            "type": "histogram"
           }
          ],
          "histogram2d": [
           {
            "colorbar": {
             "outlinewidth": 0,
             "ticks": ""
            },
            "colorscale": [
             [
              0,
              "#0d0887"
             ],
             [
              0.1111111111111111,
              "#46039f"
             ],
             [
              0.2222222222222222,
              "#7201a8"
             ],
             [
              0.3333333333333333,
              "#9c179e"
             ],
             [
              0.4444444444444444,
              "#bd3786"
             ],
             [
              0.5555555555555556,
              "#d8576b"
             ],
             [
              0.6666666666666666,
              "#ed7953"
             ],
             [
              0.7777777777777778,
              "#fb9f3a"
             ],
             [
              0.8888888888888888,
              "#fdca26"
             ],
             [
              1,
              "#f0f921"
             ]
            ],
            "type": "histogram2d"
           }
          ],
          "histogram2dcontour": [
           {
            "colorbar": {
             "outlinewidth": 0,
             "ticks": ""
            },
            "colorscale": [
             [
              0,
              "#0d0887"
             ],
             [
              0.1111111111111111,
              "#46039f"
             ],
             [
              0.2222222222222222,
              "#7201a8"
             ],
             [
              0.3333333333333333,
              "#9c179e"
             ],
             [
              0.4444444444444444,
              "#bd3786"
             ],
             [
              0.5555555555555556,
              "#d8576b"
             ],
             [
              0.6666666666666666,
              "#ed7953"
             ],
             [
              0.7777777777777778,
              "#fb9f3a"
             ],
             [
              0.8888888888888888,
              "#fdca26"
             ],
             [
              1,
              "#f0f921"
             ]
            ],
            "type": "histogram2dcontour"
           }
          ],
          "mesh3d": [
           {
            "colorbar": {
             "outlinewidth": 0,
             "ticks": ""
            },
            "type": "mesh3d"
           }
          ],
          "parcoords": [
           {
            "line": {
             "colorbar": {
              "outlinewidth": 0,
              "ticks": ""
             }
            },
            "type": "parcoords"
           }
          ],
          "pie": [
           {
            "automargin": true,
            "type": "pie"
           }
          ],
          "scatter": [
           {
            "fillpattern": {
             "fillmode": "overlay",
             "size": 10,
             "solidity": 0.2
            },
            "type": "scatter"
           }
          ],
          "scatter3d": [
           {
            "line": {
             "colorbar": {
              "outlinewidth": 0,
              "ticks": ""
             }
            },
            "marker": {
             "colorbar": {
              "outlinewidth": 0,
              "ticks": ""
             }
            },
            "type": "scatter3d"
           }
          ],
          "scattercarpet": [
           {
            "marker": {
             "colorbar": {
              "outlinewidth": 0,
              "ticks": ""
             }
            },
            "type": "scattercarpet"
           }
          ],
          "scattergeo": [
           {
            "marker": {
             "colorbar": {
              "outlinewidth": 0,
              "ticks": ""
             }
            },
            "type": "scattergeo"
           }
          ],
          "scattergl": [
           {
            "marker": {
             "colorbar": {
              "outlinewidth": 0,
              "ticks": ""
             }
            },
            "type": "scattergl"
           }
          ],
          "scattermapbox": [
           {
            "marker": {
             "colorbar": {
              "outlinewidth": 0,
              "ticks": ""
             }
            },
            "type": "scattermapbox"
           }
          ],
          "scatterpolar": [
           {
            "marker": {
             "colorbar": {
              "outlinewidth": 0,
              "ticks": ""
             }
            },
            "type": "scatterpolar"
           }
          ],
          "scatterpolargl": [
           {
            "marker": {
             "colorbar": {
              "outlinewidth": 0,
              "ticks": ""
             }
            },
            "type": "scatterpolargl"
           }
          ],
          "scatterternary": [
           {
            "marker": {
             "colorbar": {
              "outlinewidth": 0,
              "ticks": ""
             }
            },
            "type": "scatterternary"
           }
          ],
          "surface": [
           {
            "colorbar": {
             "outlinewidth": 0,
             "ticks": ""
            },
            "colorscale": [
             [
              0,
              "#0d0887"
             ],
             [
              0.1111111111111111,
              "#46039f"
             ],
             [
              0.2222222222222222,
              "#7201a8"
             ],
             [
              0.3333333333333333,
              "#9c179e"
             ],
             [
              0.4444444444444444,
              "#bd3786"
             ],
             [
              0.5555555555555556,
              "#d8576b"
             ],
             [
              0.6666666666666666,
              "#ed7953"
             ],
             [
              0.7777777777777778,
              "#fb9f3a"
             ],
             [
              0.8888888888888888,
              "#fdca26"
             ],
             [
              1,
              "#f0f921"
             ]
            ],
            "type": "surface"
           }
          ],
          "table": [
           {
            "cells": {
             "fill": {
              "color": "#EBF0F8"
             },
             "line": {
              "color": "white"
             }
            },
            "header": {
             "fill": {
              "color": "#C8D4E3"
             },
             "line": {
              "color": "white"
             }
            },
            "type": "table"
           }
          ]
         },
         "layout": {
          "annotationdefaults": {
           "arrowcolor": "#2a3f5f",
           "arrowhead": 0,
           "arrowwidth": 1
          },
          "autotypenumbers": "strict",
          "coloraxis": {
           "colorbar": {
            "outlinewidth": 0,
            "ticks": ""
           }
          },
          "colorscale": {
           "diverging": [
            [
             0,
             "#8e0152"
            ],
            [
             0.1,
             "#c51b7d"
            ],
            [
             0.2,
             "#de77ae"
            ],
            [
             0.3,
             "#f1b6da"
            ],
            [
             0.4,
             "#fde0ef"
            ],
            [
             0.5,
             "#f7f7f7"
            ],
            [
             0.6,
             "#e6f5d0"
            ],
            [
             0.7,
             "#b8e186"
            ],
            [
             0.8,
             "#7fbc41"
            ],
            [
             0.9,
             "#4d9221"
            ],
            [
             1,
             "#276419"
            ]
           ],
           "sequential": [
            [
             0,
             "#0d0887"
            ],
            [
             0.1111111111111111,
             "#46039f"
            ],
            [
             0.2222222222222222,
             "#7201a8"
            ],
            [
             0.3333333333333333,
             "#9c179e"
            ],
            [
             0.4444444444444444,
             "#bd3786"
            ],
            [
             0.5555555555555556,
             "#d8576b"
            ],
            [
             0.6666666666666666,
             "#ed7953"
            ],
            [
             0.7777777777777778,
             "#fb9f3a"
            ],
            [
             0.8888888888888888,
             "#fdca26"
            ],
            [
             1,
             "#f0f921"
            ]
           ],
           "sequentialminus": [
            [
             0,
             "#0d0887"
            ],
            [
             0.1111111111111111,
             "#46039f"
            ],
            [
             0.2222222222222222,
             "#7201a8"
            ],
            [
             0.3333333333333333,
             "#9c179e"
            ],
            [
             0.4444444444444444,
             "#bd3786"
            ],
            [
             0.5555555555555556,
             "#d8576b"
            ],
            [
             0.6666666666666666,
             "#ed7953"
            ],
            [
             0.7777777777777778,
             "#fb9f3a"
            ],
            [
             0.8888888888888888,
             "#fdca26"
            ],
            [
             1,
             "#f0f921"
            ]
           ]
          },
          "colorway": [
           "#636efa",
           "#EF553B",
           "#00cc96",
           "#ab63fa",
           "#FFA15A",
           "#19d3f3",
           "#FF6692",
           "#B6E880",
           "#FF97FF",
           "#FECB52"
          ],
          "font": {
           "color": "#2a3f5f"
          },
          "geo": {
           "bgcolor": "white",
           "lakecolor": "white",
           "landcolor": "#E5ECF6",
           "showlakes": true,
           "showland": true,
           "subunitcolor": "white"
          },
          "hoverlabel": {
           "align": "left"
          },
          "hovermode": "closest",
          "mapbox": {
           "style": "light"
          },
          "paper_bgcolor": "white",
          "plot_bgcolor": "#E5ECF6",
          "polar": {
           "angularaxis": {
            "gridcolor": "white",
            "linecolor": "white",
            "ticks": ""
           },
           "bgcolor": "#E5ECF6",
           "radialaxis": {
            "gridcolor": "white",
            "linecolor": "white",
            "ticks": ""
           }
          },
          "scene": {
           "xaxis": {
            "backgroundcolor": "#E5ECF6",
            "gridcolor": "white",
            "gridwidth": 2,
            "linecolor": "white",
            "showbackground": true,
            "ticks": "",
            "zerolinecolor": "white"
           },
           "yaxis": {
            "backgroundcolor": "#E5ECF6",
            "gridcolor": "white",
            "gridwidth": 2,
            "linecolor": "white",
            "showbackground": true,
            "ticks": "",
            "zerolinecolor": "white"
           },
           "zaxis": {
            "backgroundcolor": "#E5ECF6",
            "gridcolor": "white",
            "gridwidth": 2,
            "linecolor": "white",
            "showbackground": true,
            "ticks": "",
            "zerolinecolor": "white"
           }
          },
          "shapedefaults": {
           "line": {
            "color": "#2a3f5f"
           }
          },
          "ternary": {
           "aaxis": {
            "gridcolor": "white",
            "linecolor": "white",
            "ticks": ""
           },
           "baxis": {
            "gridcolor": "white",
            "linecolor": "white",
            "ticks": ""
           },
           "bgcolor": "#E5ECF6",
           "caxis": {
            "gridcolor": "white",
            "linecolor": "white",
            "ticks": ""
           }
          },
          "title": {
           "x": 0.05
          },
          "xaxis": {
           "automargin": true,
           "gridcolor": "white",
           "linecolor": "white",
           "ticks": "",
           "title": {
            "standoff": 15
           },
           "zerolinecolor": "white",
           "zerolinewidth": 2
          },
          "yaxis": {
           "automargin": true,
           "gridcolor": "white",
           "linecolor": "white",
           "ticks": "",
           "title": {
            "standoff": 15
           },
           "zerolinecolor": "white",
           "zerolinewidth": 2
          }
         }
        },
        "title": {
         "text": "Sentence Embed with District Political Affiliation"
        },
        "xaxis": {
         "anchor": "y",
         "domain": [
          0,
          1
         ],
         "title": {
          "text": "x"
         }
        },
        "yaxis": {
         "anchor": "x",
         "domain": [
          0,
          1
         ],
         "title": {
          "text": "y"
         }
        }
       }
      }
     },
     "metadata": {},
     "output_type": "display_data"
    }
   ],
   "source": [
    "fig = px.scatter(df_2d, x='x', y='y',title='Sentence Embed with District Political Affiliation', color='district_political_affiliation',color_discrete_map=color_discrete_map, hover_data=['schoolname', 'charter_political_affiliation', 'countydescription'])\n",
    "fig.show()"
   ]
  },
  {
   "cell_type": "code",
   "execution_count": 123,
   "metadata": {},
   "outputs": [
    {
     "name": "stderr",
     "output_type": "stream",
     "text": [
      "c:\\Users\\chris\\.conda\\envs\\charter\\lib\\site-packages\\sklearn\\cluster\\_kmeans.py:870: FutureWarning:\n",
      "\n",
      "The default value of `n_init` will change from 10 to 'auto' in 1.4. Set the value of `n_init` explicitly to suppress the warning\n",
      "\n"
     ]
    }
   ],
   "source": [
    "import numpy as np\n",
    "from sklearn.cluster import KMeans\n",
    "\n",
    "matrix = np.vstack(complete_emebed_party.ada_embedding_experiment.values)\n",
    "n_clusters = 3\n",
    "\n",
    "kmeans = KMeans(n_clusters = n_clusters, init='k-means++', random_state=42)\n",
    "kmeans.fit(matrix)\n",
    "complete_emebed_party['Cluster_experiment'] = kmeans.labels_"
   ]
  },
  {
   "cell_type": "code",
   "execution_count": 124,
   "metadata": {},
   "outputs": [
    {
     "name": "stderr",
     "output_type": "stream",
     "text": [
      "C:\\Users\\chris\\AppData\\Local\\Temp\\ipykernel_18936\\2850246872.py:12: RuntimeWarning:\n",
      "\n",
      "Mean of empty slice.\n",
      "\n",
      "c:\\Users\\chris\\.conda\\envs\\charter\\lib\\site-packages\\numpy\\core\\_methods.py:192: RuntimeWarning:\n",
      "\n",
      "invalid value encountered in divide\n",
      "\n",
      "C:\\Users\\chris\\AppData\\Local\\Temp\\ipykernel_18936\\2850246872.py:13: RuntimeWarning:\n",
      "\n",
      "Mean of empty slice.\n",
      "\n"
     ]
    },
    {
     "data": {
      "text/plain": [
       "Text(0.5, 1.0, 'Clusters identified visualized in language 2d using t-SNE')"
      ]
     },
     "execution_count": 124,
     "metadata": {},
     "output_type": "execute_result"
    },
    {
     "data": {
      "image/png": "[encoded data removed]",
      "text/plain": [
       "<Figure size 640x480 with 1 Axes>"
      ]
     },
     "metadata": {},
     "output_type": "display_data"
    }
   ],
   "source": [
    "tsne = TSNE(n_components=2, perplexity=15, random_state=42, init=\"random\", learning_rate='auto')\n",
    "vis_dims2 = tsne.fit_transform(matrix)\n",
    "\n",
    "x = [x for x, y in vis_dims2]\n",
    "y = [y for x, y in vis_dims2]\n",
    "\n",
    "for category, color in enumerate([\"purple\", \"green\", \"red\", \"blue\"]):\n",
    "    xs = np.array(x)[complete_emebed_party.Cluster == category]\n",
    "    ys = np.array(y)[complete_emebed_party.Cluster == category]\n",
    "    plt.scatter(xs, ys, color=color, alpha=0.3)\n",
    "\n",
    "    avg_x = xs.mean()\n",
    "    avg_y = ys.mean()\n",
    "\n",
    "    plt.scatter(avg_x, avg_y, marker=\"x\", color=color, s=100)\n",
    "plt.title(\"Clusters identified visualized in language 2d using t-SNE\")"
   ]
  },
  {
   "cell_type": "code",
   "execution_count": 126,
   "metadata": {},
   "outputs": [
    {
     "data": {
      "application/vnd.plotly.v1+json": {
       "config": {
        "plotlyServerURL": "https://plot.ly"
       },
       "data": [
        {
         "customdata": [
          [
           "North Carolina Cyber Academy",
           "Democrat",
           "Democrat"
          ],
          [
           "NC Virtual Academy",
           "Democrat",
           "Tie"
          ],
          [
           "Maureen Joy Charter School",
           "Democrat",
           "Democrat"
          ],
          [
           "Durham Charter School",
           "Democrat",
           "Republican"
          ],
          [
           "Community School of Digital & Visual Art",
           "Democrat",
           "Democrat"
          ],
          [
           "Kestrel Heights School",
           "Democrat",
           "Democrat"
          ],
          [
           "Voyager Academy",
           "Democrat",
           "Democrat"
          ],
          [
           "Global Scholars Academy",
           "Democrat",
           "Democrat"
          ],
          [
           "The Institute Development Young Leaders",
           "Democrat",
           "Democrat"
          ],
          [
           "Reaching All Minds Academy",
           "Democrat",
           "Democrat"
          ],
          [
           "Excelsior Classical Academy",
           "Democrat",
           "Tie"
          ],
          [
           "Discovery Charter",
           "Democrat",
           "Tie"
          ],
          [
           "River Mill Academy",
           "Tie",
           "Democrat"
          ],
          [
           "The Hawbridge School",
           "Tie",
           "Democrat"
          ],
          [
           "Clover Garden",
           "Tie",
           "Republican"
          ],
          [
           "Alamance Community School",
           "Tie",
           "Democrat"
          ],
          [
           "Marjorie Williams Academy",
           "Republican",
           "Republican"
          ],
          [
           "Washington Montessori",
           "Republican",
           "Tie"
          ],
          [
           "Emereau: Bladen",
           "Tie",
           "Democrat"
          ],
          [
           "ArtSpace Charter School",
           "Tie",
           "Democrat"
          ],
          [
           "IC Imagine ",
           "Tie",
           "Democrat"
          ],
          [
           "The Franklin School of Innovation",
           "Tie",
           "Tie"
          ],
          [
           "Francine Delany New School",
           "Tie",
           "Democrat"
          ],
          [
           "New Dimensions",
           "Republican",
           "Republican"
          ],
          [
           "Carolina International School",
           "Tie",
           "Democrat"
          ],
          [
           "Cabarrus Charter Academy",
           "Tie",
           "Republican"
          ],
          [
           "A.C.E. Academy",
           "Tie",
           "Democrat"
          ],
          [
           "Concord Lake STEAM Academy",
           "Tie",
           "Republican"
          ],
          [
           "Oak Hill Charter School",
           "Republican",
           "Tie"
          ],
          [
           "Tiller School",
           "Republican",
           "Democrat"
          ],
          [
           "Willow Oak Montessori",
           "Democrat",
           "Democrat"
          ],
          [
           "Woods Charter",
           "Democrat",
           "Democrat"
          ],
          [
           "Pinnacle Classical Academy",
           "Republican",
           "Tie"
          ],
          [
           "Thomas Academy",
           "Republican",
           "Tie"
          ],
          [
           "Alpha Academy",
           "Democrat",
           "Democrat"
          ],
          [
           "The Capitol Encore Academy",
           "Democrat",
           "Democrat"
          ],
          [
           "Water's Edge Village School",
           "Republican",
           "Democrat"
          ],
          [
           "Davidson Charter Academy",
           "Republican",
           "Republican"
          ],
          [
           "North East Carolina Prep",
           "Democrat",
           "Democrat"
          ],
          [
           "Quality Education Academy",
           "Republican",
           "Democrat"
          ],
          [
           "Carter G. Woodson School",
           "Republican",
           "Democrat"
          ],
          [
           "The Arts Based School",
           "Republican",
           "Tie"
          ],
          [
           "Crosscreek Charter School",
           "Democrat",
           "Tie"
          ],
          [
           "Youngsville Academy",
           "Democrat",
           "Republican"
          ],
          [
           "Wake Preparatory Academy",
           "Democrat",
           "Tie"
          ],
          [
           "Piedmont Community Charter School",
           "Republican",
           "Republican"
          ],
          [
           "Mountain Island Charter School",
           "Republican",
           "Democrat"
          ],
          [
           "Ridgeview Charter School",
           "Republican",
           "Democrat"
          ],
          [
           "Community Public Charter",
           "Republican",
           "Democrat"
          ],
          [
           "Falls Lake Academy",
           "Tie",
           "Republican"
          ],
          [
           "Oxford Preparatory",
           "Tie",
           "Democrat"
          ],
          [
           "Guilford Preparatory Academy",
           "Democrat",
           "Democrat"
          ],
          [
           "Phoenix Academy - Primary, Elem, Upper",
           "Democrat",
           "Tie"
          ],
          [
           "Johnston Charter Academy",
           "Republican",
           "Tie"
          ],
          [
           "Rolesville Charter Academy",
           "Republican",
           "Tie"
          ],
          [
           "Triad Math and Science Academy",
           "Democrat",
           "Democrat"
          ],
          [
           "Cornerstone Charter Academy-CFA",
           "Democrat",
           "Tie"
          ],
          [
           "College Prep and Leadership Academy",
           "Democrat",
           "Tie"
          ],
          [
           "Next Generation Academy",
           "Democrat",
           "Democrat"
          ],
          [
           "The Experiential School of Greensboro",
           "Democrat",
           "Democrat"
          ],
          [
           "KIPP Halifax College Preparatory",
           "Democrat",
           "Democrat"
          ],
          [
           "KIPP Charlotte",
           "Democrat",
           "Democrat"
          ],
          [
           "Hobgood Charter School",
           "Democrat",
           "Democrat"
          ],
          [
           "Anderson Creek Academy",
           "Democrat",
           "Republican"
          ],
          [
           "Achievement Charter Academy",
           "Democrat",
           "Tie"
          ],
          [
           "The Mountain Community Sch",
           "Republican",
           "Tie"
          ],
          [
           "FernLeaf",
           "Republican",
           "Democrat"
          ],
          [
           "American Renaissance School",
           "Republican",
           "Tie"
          ],
          [
           "Success Institute Charter",
           "Republican",
           "Tie"
          ],
          [
           "Pine Lake Preparatory",
           "Republican",
           "Democrat"
          ],
          [
           "Summit Charter",
           "Tie",
           "Republican"
          ],
          [
           "Neuse Charter School",
           "Republican",
           "Republican"
          ],
          [
           "Ascend Leadership Academy: Lee County",
           "Democrat",
           "Republican"
          ],
          [
           "MINA Charter School of Lee County",
           "Democrat",
           "Democrat"
          ],
          [
           "Children's Village Academy",
           "Democrat",
           "Democrat"
          ],
          [
           "Lincoln Charter School",
           "Republican",
           "Republican"
          ],
          [
           "West Lake Preparatory Academy",
           "Republican",
           "Democrat"
          ],
          [
           "Lake Norman Charter",
           "Democrat",
           "Democrat"
          ],
          [
           "Metrolina Reg Scholars Academy",
           "Democrat",
           "Tie"
          ],
          [
           "Community School of Davidson",
           "Democrat",
           "Tie"
          ],
          [
           "Socrates Academy",
           "Democrat",
           "Democrat"
          ],
          [
           "Charlotte Secondary",
           "Democrat",
           "Tie"
          ],
          [
           "Corvian Community School",
           "Democrat",
           "Tie"
          ],
          [
           "Eastside STREAM Academy",
           "Democrat",
           "Tie"
          ],
          [
           "Invest Collegiate Transform",
           "Democrat",
           "Democrat"
          ],
          [
           "Bradford Preparatory School",
           "Democrat",
           "Tie"
          ],
          [
           "Commonwealth High",
           "Democrat",
           "Democrat"
          ],
          [
           "Pioneer Springs Community School",
           "Democrat",
           "Democrat"
          ],
          [
           "Lakeside Charter Academy",
           "Democrat",
           "Republican"
          ],
          [
           "United Community School",
           "Democrat",
           "Democrat"
          ],
          [
           "Stewart Creek High",
           "Democrat",
           "Democrat"
          ],
          [
           "Charlotte Lab School",
           "Democrat",
           "Democrat"
          ],
          [
           "TMSA Charlotte",
           "Democrat",
           "Democrat"
          ],
          [
           "VERITAS Community School, CFA",
           "Democrat",
           "Tie"
          ],
          [
           "Mallard Creek STEM Academy",
           "Democrat",
           "Tie"
          ],
          [
           "Unity Classical Charter School",
           "Democrat",
           "Republican"
          ],
          [
           "East Voyager Academy of Charlotte",
           "Democrat",
           "Tie"
          ],
          [
           "Jackson Day School",
           "Democrat",
           "Tie"
          ],
          [
           "Steele Creek Preparatory Academy",
           "Democrat",
           "Republican"
          ],
          [
           "Southwest Charlotte STEM Academy",
           "Democrat",
           "Tie"
          ],
          [
           "Telra Institute",
           "Democrat",
           "Democrat"
          ],
          [
           "Movement School Southwest",
           "Democrat",
           "Republican"
          ],
          [
           "The Academy of Moore County",
           "Tie",
           "Republican"
          ],
          [
           "STARS Charter",
           "Tie",
           "Tie"
          ],
          [
           "Moore Montessori Community School",
           "Tie",
           "Democrat"
          ],
          [
           "Rocky Mount Preparatory",
           "Democrat",
           "Tie"
          ],
          [
           "Cape Fear Center for Inquiry",
           "Republican",
           "Democrat"
          ],
          [
           "Wilmington Preparatory Academy",
           "Republican",
           "Democrat"
          ],
          [
           "Island Montessori Charter School",
           "Republican",
           "Tie"
          ],
          [
           "Girls Leadership Academy of Wilmington",
           "Republican",
           "Tie"
          ],
          [
           "Wilmington School of the Arts",
           "Republican",
           "Democrat"
          ],
          [
           "Z.E.C.A. School of Arts and Technology",
           "Republican",
           "Democrat"
          ],
          [
           "Eno River Academy",
           "Tie",
           "Tie"
          ],
          [
           "The Expedition School",
           "Tie",
           "Tie"
          ],
          [
           "Arapahoe Charter School",
           "Tie",
           "Tie"
          ],
          [
           "Northeast Academy of Aerospace & AdvTech",
           "Democrat",
           "Democrat"
          ],
          [
           "Bethel Hill Charter",
           "Democrat",
           "Republican"
          ],
          [
           "Roxboro Community School",
           "Democrat",
           "Republican"
          ],
          [
           "Uwharrie Charter Academy",
           "Republican",
           "Republican"
          ],
          [
           "CIS Academy",
           "Democrat",
           "Tie"
          ],
          [
           "Southeastern Academy",
           "Democrat",
           "Tie"
          ],
          [
           "Old Main STREAM Academy",
           "Democrat",
           "Tie"
          ],
          [
           "Bethany Community School",
           "Republican",
           "Republican"
          ],
          [
           "Faith Academy Charter School",
           "Republican",
           "Republican"
          ],
          [
           "Thomas Jefferson Class Academy",
           "Republican",
           "Republican"
          ],
          [
           "Lake Lure Classical Academy",
           "Republican",
           "Republican"
          ],
          [
           "Gray Stone Day",
           "Republican",
           "Tie"
          ],
          [
           "Millennium Charter Academy",
           "Tie",
           "Republican"
          ],
          [
           "Brevard Academy",
           "Republican",
           "Republican"
          ],
          [
           "Union Academy",
           "Tie",
           "Republican"
          ],
          [
           "Union Day School",
           "Tie",
           "Tie"
          ],
          [
           "Union Prep Academy at Indian Trail",
           "Tie",
           "Republican"
          ],
          [
           "Monroe Charter Academy",
           "Tie",
           "Tie"
          ],
          [
           "Apprentice Academy High School",
           "Tie",
           "Republican"
          ],
          [
           "Henderson Collegiate",
           "Democrat",
           "Democrat"
          ],
          [
           "Vance Charter School",
           "Democrat",
           "Tie"
          ],
          [
           "The Exploris School",
           "Republican",
           "Democrat"
          ],
          [
           "Sterling Montessori Academy",
           "Republican",
           "Democrat"
          ],
          [
           "Franklin Academy",
           "Republican",
           "Tie"
          ],
          [
           "East Wake Academy",
           "Republican",
           "Tie"
          ],
          [
           "Raleigh Charter High School",
           "Republican",
           "Democrat"
          ],
          [
           "Quest Academy",
           "Republican",
           "Tie"
          ],
          [
           "Southern Wake Academy",
           "Republican",
           "Tie"
          ],
          [
           "Casa Esperanza Montessori Charter School",
           "Republican",
           "Democrat"
          ],
          [
           "Endeavor Charter School",
           "Republican",
           "Democrat"
          ],
          [
           "Triangle Math and Science Academy",
           "Republican",
           "Democrat"
          ],
          [
           "Longleaf School of the Arts",
           "Republican",
           "Democrat"
          ],
          [
           "Cardinal Charter Academy",
           "Republican",
           "Republican"
          ],
          [
           "Envision Science Academy",
           "Republican",
           "Democrat"
          ],
          [
           "Central Wake High School",
           "Republican",
           "Democrat"
          ],
          [
           "Pine Springs Preparatory Academy",
           "Republican",
           "Republican"
          ],
          [
           "Raleigh Oak Charter",
           "Republican",
           "Tie"
          ],
          [
           "Cardinal Charter Acad at Wendell Falls",
           "Republican",
           "Republican"
          ],
          [
           "Doral Academy of North Carolina",
           "Republican",
           "Tie"
          ],
          [
           "The Math and Science Academy of Apex",
           "Republican",
           "Democrat"
          ],
          [
           "Haliwa-Saponi Tribal School",
           "Democrat",
           "Democrat"
          ],
          [
           "Pocosin Innovative Charter",
           "Democrat",
           "Tie"
          ],
          [
           "Dillard Academy",
           "Tie",
           "Tie"
          ],
          [
           "Wayne Preparatory Academy",
           "Tie",
           "Tie"
          ],
          [
           "Wilson Preparatory Academy",
           "Democrat",
           "Democrat"
          ],
          [
           "Movement School Eastland",
           "Democrat",
           "Republican"
          ],
          [
           "Wake Forest Charter Academy",
           "Republican",
           "Democrat"
          ],
          [
           "Iredell Charter Academy",
           "Republican",
           "Republican"
          ],
          [
           "American Leadership Academy-Coastal",
           "Republican",
           "Republican"
          ],
          [
           "Sugar Creek Charter",
           "Democrat",
           "Democrat"
          ],
          [
           "NC Leadership Charter Academy",
           "Republican",
           "Republican"
          ],
          [
           "Central Park School For Child",
           "Democrat",
           "Democrat"
          ],
          [
           "Aristotle Preparatory Academy",
           "Democrat",
           "Tie"
          ],
          [
           "Langtree Charter Academy",
           "Republican",
           "Republican"
          ],
          [
           "Gate City Charter",
           "Democrat",
           "Republican"
          ],
          [
           "KIPP Durham College Preparatory",
           "Democrat",
           "Democrat"
          ],
          [
           "KIPP Gaston College Preparatory",
           "Democrat",
           "Democrat"
          ],
          [
           "Queen's Grant Community School",
           "Democrat",
           "Republican"
          ],
          [
           "Sallie B Howard School",
           "Democrat",
           "Tie"
          ],
          [
           "Classical Charter Schools of Southport",
           "Republican",
           "Republican"
          ],
          [
           "Classical Charter Schools of Wilmington",
           "Republican",
           "Republican"
          ],
          [
           "Winterville Charter Academy",
           "Democrat",
           "Democrat"
          ],
          [
           "Forsyth Academy",
           "Republican",
           "Democrat"
          ],
          [
           "Summerfield Charter Academy",
           "Democrat",
           "Republican"
          ],
          [
           "Chatham Charter",
           "Democrat",
           "Tie"
          ],
          [
           "Revolution Academy",
           "Democrat",
           "Republican"
          ],
          [
           "Matthews Charter Academy",
           "Democrat",
           "Tie"
          ],
          [
           "Asheville PEAK Academy",
           "Tie",
           "Democrat"
          ],
          [
           "Classical Charter Schools of Whiteville",
           "Republican",
           "Republican"
          ],
          [
           "Research Triangle Charter",
           "Democrat",
           "Republican"
          ],
          [
           "Classical Charter Schools of Leland ",
           "Republican",
           "Republican"
          ],
          [
           "Bonnie Cone Classical Academy",
           "Democrat",
           "Republican"
          ],
          [
           "Evergreen Community Charter",
           "Tie",
           "Democrat"
          ],
          [
           "Carolina Charter Academy",
           "Republican",
           "Republican"
          ],
          [
           "Peak Charter Academy",
           "Republican",
           "Tie"
          ],
          [
           "Research Triangle High School",
           "Democrat",
           "Tie"
          ],
          [
           "Greensboro Academy",
           "Democrat",
           "Tie"
          ],
          [
           "Piedmont Classical High School",
           "Democrat",
           "Democrat"
          ],
          [
           "Bear Grass Charter School",
           "Tie",
           "Tie"
          ],
          [
           "Tillery Charter Academy",
           "Republican",
           "Democrat"
          ],
          [
           "Paul R. Brown Leadership Academy",
           "Tie",
           "Democrat"
          ],
          [
           "Two Rivers Community School",
           "Tie",
           "Democrat"
          ],
          [
           "American Leadership Academy - Johnston",
           "Republican",
           "Tie"
          ],
          [
           "Mountain Discovery",
           "Republican",
           "Democrat"
          ],
          [
           "Shining Rock Classical Academy",
           "Republican",
           "Tie"
          ],
          [
           "Movement Charter School",
           "Democrat",
           "Republican"
          ],
          [
           "Central Carolina Academy",
           "Democrat",
           "Tie"
          ],
          [
           "Magellan Charter",
           "Republican",
           "Tie"
          ],
          [
           "Summit Creek Academy",
           "Democrat",
           "Tie"
          ],
          [
           "RISE Southeast Raleigh Charter",
           "Republican",
           "Democrat"
          ],
          [
           "PreEminent Charter",
           "Republican",
           "Democrat"
          ]
         ],
         "hovertemplate": "x=%{x}<br>y=%{y}<br>SchoolName=%{customdata[0]}<br>DistrictPoliticalAffiliation=%{customdata[1]}<br>CharterPoliticalAffiliation=%{customdata[2]}<br>Cluster=%{marker.color}<extra></extra>",
         "legendgroup": "",
         "marker": {
          "color": [
           0,
           0,
           0,
           2,
           0,
           0,
           2,
           0,
           0,
           0,
           0,
           2,
           0,
           0,
           0,
           2,
           2,
           0,
           0,
           2,
           0,
           0,
           0,
           0,
           2,
           0,
           0,
           2,
           0,
           0,
           0,
           2,
           0,
           2,
           2,
           2,
           0,
           2,
           2,
           0,
           0,
           0,
           0,
           0,
           0,
           0,
           2,
           0,
           0,
           0,
           0,
           0,
           0,
           0,
           0,
           2,
           2,
           2,
           2,
           2,
           2,
           2,
           2,
           2,
           0,
           0,
           0,
           0,
           0,
           2,
           0,
           0,
           2,
           2,
           0,
           2,
           2,
           2,
           0,
           0,
           0,
           0,
           0,
           2,
           2,
           0,
           0,
           0,
           2,
           0,
           0,
           0,
           2,
           0,
           0,
           2,
           2,
           0,
           2,
           2,
           0,
           0,
           2,
           0,
           0,
           2,
           2,
           2,
           0,
           0,
           2,
           0,
           2,
           0,
           0,
           0,
           0,
           2,
           2,
           0,
           0,
           2,
           0,
           0,
           2,
           0,
           0,
           0,
           2,
           0,
           0,
           0,
           0,
           0,
           2,
           0,
           0,
           0,
           0,
           0,
           2,
           2,
           0,
           0,
           0,
           2,
           0,
           0,
           2,
           0,
           0,
           0,
           0,
           0,
           0,
           0,
           0,
           2,
           0,
           2,
           2,
           2,
           2,
           2,
           2,
           2,
           0,
           2,
           2,
           0,
           2,
           2,
           2,
           2,
           1,
           1,
           2,
           0,
           2,
           2,
           2,
           2,
           2,
           1,
           2,
           1,
           2,
           2,
           2,
           0,
           2,
           2,
           2,
           2,
           2,
           2,
           2,
           0,
           2,
           2,
           2,
           2,
           2,
           0,
           2,
           2
          ],
          "coloraxis": "coloraxis",
          "symbol": "circle"
         },
         "mode": "markers",
         "name": "",
         "orientation": "v",
         "showlegend": false,
         "type": "scatter",
         "x": [
          16.119714736938477,
          7.266145706176758,
          9.490001678466797,
          -12.77595043182373,
          10.246476173400879,
          9.802667617797852,
          15.828367233276367,
          18.50196075439453,
          9.205145835876465,
          12.3709135055542,
          -3.893282175064087,
          -17.06464958190918,
          -0.6058382987976074,
          6.047624111175537,
          5.200653076171875,
          18.569351196289062,
          -11.452995300292969,
          0.9164499640464783,
          14.173307418823242,
          -1.119035005569458,
          7.882789611816406,
          12.385878562927246,
          6.20440673828125,
          14.155781745910645,
          -10.56261157989502,
          4.800152778625488,
          2.7996182441711426,
          -22.752397537231445,
          -5.704250812530518,
          5.304011821746826,
          24.330806732177734,
          -22.68577003479004,
          9.731523513793945,
          -7.845888137817383,
          -18.616117477416992,
          -6.311629295349121,
          -2.17508602142334,
          -18.44063377380371,
          -10.679086685180664,
          11.384928703308105,
          -23.63814926147461,
          6.132004261016846,
          15.733651161193848,
          0.8198187351226807,
          1.2505512237548828,
          4.688233375549316,
          -17.334278106689453,
          3.600715398788452,
          3.2057230472564697,
          12.341400146484375,
          10.208779335021973,
          12.575932502746582,
          3.5648562908172607,
          3.3814034461975098,
          4.1245903968811035,
          -7.594597339630127,
          -19.225919723510742,
          13.161076545715332,
          0.8627389669418335,
          -13.080936431884766,
          -10.845870018005371,
          -10.84605598449707,
          -22.859046936035156,
          -15.520556449890137,
          3.9657645225524902,
          8.21537971496582,
          4.900920867919922,
          9.753211975097656,
          9.11720085144043,
          -15.615426063537598,
          -0.9364266395568848,
          12.24895191192627,
          -19.14308738708496,
          -24.500864028930664,
          11.729043006896973,
          -23.21520233154297,
          -14.6425142288208,
          -24.208555221557617,
          11.847609519958496,
          -1.1895167827606201,
          19.669836044311523,
          10.965380668640137,
          7.4216814041137695,
          -5.1772990226745605,
          12.783231735229492,
          5.69957971572876,
          24.177385330200195,
          15.856836318969727,
          -22.7972354888916,
          -1.49164617061615,
          23.780776977539062,
          7.1247782707214355,
          -9.170455932617188,
          8.013163566589355,
          13.521781921386719,
          -2.1492488384246826,
          15.852665901184082,
          0.9838005900382996,
          -11.814799308776855,
          -10.230545997619629,
          8.14547348022461,
          0.5790827870368958,
          -14.808608055114746,
          3.9400851726531982,
          3.4595696926116943,
          -10.947683334350586,
          -10.42906379699707,
          -13.782212257385254,
          17.340524673461914,
          3.125967264175415,
          -0.30229148268699646,
          -2.625335454940796,
          -14.803813934326172,
          9.059245109558105,
          1.175334095954895,
          14.004204750061035,
          20.8988037109375,
          -14.069085121154785,
          -17.421342849731445,
          8.698958396911621,
          9.708054542541504,
          15.436354637145996,
          18.662620544433594,
          13.95434284210205,
          -0.22357651591300964,
          -4.846709728240967,
          20.332340240478516,
          -2.8008084297180176,
          20.19932746887207,
          -1.4455620050430298,
          16.21962547302246,
          6.277080059051514,
          -5.392910957336426,
          7.650021553039551,
          -10.32839298248291,
          -0.19647596776485443,
          10.033828735351562,
          5.488494396209717,
          15.425214767456055,
          12.842187881469727,
          -13.670747756958008,
          -5.752434253692627,
          14.761112213134766,
          24.34490966796875,
          5.034387111663818,
          -7.852219104766846,
          5.8224382400512695,
          4.300881862640381,
          -5.2794413566589355,
          23.513761520385742,
          8.18093204498291,
          7.131906509399414,
          4.7618327140808105,
          9.662107467651367,
          19.02521514892578,
          8.574664115905762,
          10.558370590209961,
          13.128939628601074,
          11.360511779785156,
          -13.87952995300293,
          -19.51422691345215,
          -18.843564987182617,
          -18.978567123413086,
          19.600223541259766,
          -2.095651388168335,
          -19.995264053344727,
          10.822266578674316,
          -11.24765682220459,
          -21.49111557006836,
          4.390157222747803,
          -14.517664909362793,
          -14.642537117004395,
          -6.960257530212402,
          0.19148091971874237,
          5.605250358581543,
          4.750820159912109,
          -18.449615478515625,
          9.314692497253418,
          -19.684019088745117,
          -15.730142593383789,
          -5.444257736206055,
          2.9776690006256104,
          -4.904398441314697,
          5.598690986633301,
          -10.3330659866333,
          4.757591724395752,
          -2.689979314804077,
          -21.963220596313477,
          -17.34430694580078,
          12.30664348602295,
          -10.007981300354004,
          -13.952134132385254,
          -1.1967735290527344,
          -18.874101638793945,
          -1.8460129499435425,
          -19.637248992919922,
          -3.707003593444824,
          7.583270072937012,
          -17.103240966796875,
          -6.087097644805908,
          -18.836942672729492,
          -16.01072883605957,
          -17.429332733154297,
          4.196351051330566,
          0.6530029773712158,
          -7.4903459548950195
         ],
         "xaxis": "x",
         "y": [
          8.098136901855469,
          -4.28285026550293,
          6.021755695343018,
          5.4396586418151855,
          1.990433931350708,
          -21.479825973510742,
          -16.370622634887695,
          -0.3723732829093933,
          8.877955436706543,
          -1.3565270900726318,
          -9.818445205688477,
          11.652278900146484,
          -6.870673179626465,
          -1.8161873817443848,
          11.240392684936523,
          -4.340511798858643,
          -11.517792701721191,
          -5.288409233093262,
          -9.939563751220703,
          11.955083847045898,
          -6.127508640289307,
          -2.9193687438964844,
          1.8977717161178589,
          6.487255096435547,
          -2.4177796840667725,
          -5.520233154296875,
          1.5689399242401123,
          -2.6898601055145264,
          -11.485739707946777,
          6.279684066772461,
          -0.6729922890663147,
          5.512856483459473,
          -20.024250030517578,
          14.583107948303223,
          -3.9380643367767334,
          -5.39693021774292,
          -17.59154510498047,
          -2.407273530960083,
          -2.8331594467163086,
          6.7326788902282715,
          5.085843086242676,
          5.297557353973389,
          4.635103702545166,
          -0.33338940143585205,
          1.8030812740325928,
          -1.6379748582839966,
          13.506745338439941,
          8.578426361083984,
          -11.383284568786621,
          3.2326204776763916,
          15.65112018585205,
          -4.367122173309326,
          -17.85767936706543,
          -17.230131149291992,
          -17.515724182128906,
          12.553309440612793,
          1.2138268947601318,
          -7.482751369476318,
          -8.467083930969238,
          1.0413154363632202,
          4.962623596191406,
          4.962890148162842,
          7.428409576416016,
          -3.197493076324463,
          -8.868941307067871,
          -0.9291447997093201,
          12.245441436767578,
          -20.602584838867188,
          3.858750343322754,
          -10.758393287658691,
          0.29067462682724,
          9.690163612365723,
          -5.972349166870117,
          0.8616685271263123,
          3.938166856765747,
          -0.5461835861206055,
          -9.958635330200195,
          -0.41109827160835266,
          9.373282432556152,
          -2.450845241546631,
          6.287374019622803,
          12.041037559509277,
          4.458347320556641,
          8.234410285949707,
          -10.29319953918457,
          -1.1128871440887451,
          11.841779708862305,
          11.681747436523438,
          -1.075297236442566,
          -0.9654580354690552,
          11.268030166625977,
          7.859019756317139,
          12.084925651550293,
          2.9057390689849854,
          -3.2752339839935303,
          -8.803101539611816,
          -16.308290481567383,
          3.2117903232574463,
          -7.0655364990234375,
          12.042330741882324,
          -7.34777307510376,
          0.8987719416618347,
          -1.7969754934310913,
          -0.3089435398578644,
          3.0287606716156006,
          -5.191209316253662,
          -0.1598176509141922,
          -8.609336853027344,
          3.9648351669311523,
          5.203370094299316,
          12.055964469909668,
          8.555052757263184,
          -4.260255813598633,
          -4.261783123016357,
          -3.192511796951294,
          -4.804208755493164,
          -11.45258903503418,
          6.763179779052734,
          3.9352593421936035,
          -13.266618728637695,
          13.8373441696167,
          -3.4488637447357178,
          -10.975136756896973,
          5.539308071136475,
          -12.708963394165039,
          -13.065905570983887,
          5.048477649688721,
          -11.11339282989502,
          -11.365448951721191,
          2.6220316886901855,
          -6.8709611892700195,
          -9.773724555969238,
          -11.029476165771484,
          -3.3723623752593994,
          -16.579790115356445,
          -5.356919765472412,
          -5.095839977264404,
          1.1657110452651978,
          2.3993241786956787,
          4.9489569664001465,
          6.093449115753174,
          6.796109676361084,
          -1.0156210660934448,
          -0.6947014331817627,
          4.68841552734375,
          12.443782806396484,
          0.05325986072421074,
          -4.928602695465088,
          9.0415678024292,
          11.906044960021973,
          1.1293673515319824,
          5.995388507843018,
          -4.836887836456299,
          14.311302185058594,
          6.593810081481934,
          -1.7050905227661133,
          -2.505530834197998,
          2.0562400817871094,
          -0.2866418659687042,
          -9.3464994430542,
          10.16493034362793,
          3.9883124828338623,
          -1.1080857515335083,
          -4.528494358062744,
          -5.310285568237305,
          -6.344676494598389,
          -8.290246963500977,
          -7.901124000549316,
          1.1780521869659424,
          -8.024094581604004,
          -15.540938377380371,
          -15.566258430480957,
          2.043060541152954,
          13.496010780334473,
          21.61541175842285,
          22.45197105407715,
          3.4458625316619873,
          0.7145320177078247,
          2.529881715774536,
          2.228053092956543,
          -7.131793975830078,
          -7.176281929016113,
          5.073654651641846,
          22.46086883544922,
          7.666492938995361,
          21.60611915588379,
          -7.619965076446533,
          7.156108379364014,
          1.4470024108886719,
          -7.00193977355957,
          9.342935562133789,
          0.9039093255996704,
          -9.76578140258789,
          8.070239067077637,
          -8.060084342956543,
          -7.1900458335876465,
          -2.950399398803711,
          -13.484350204467773,
          12.566587448120117,
          -9.215085983276367,
          9.69117546081543,
          1.0411872863769531,
          10.163698196411133,
          -16.229652404785156,
          6.705957412719727,
          2.248476505279541
         ],
         "yaxis": "y"
        }
       ],
       "layout": {
        "coloraxis": {
         "colorbar": {
          "title": {
           "text": "Cluster"
          }
         },
         "colorscale": [
          [
           0,
           "#0d0887"
          ],
          [
           0.1111111111111111,
           "#46039f"
          ],
          [
           0.2222222222222222,
           "#7201a8"
          ],
          [
           0.3333333333333333,
           "#9c179e"
          ],
          [
           0.4444444444444444,
           "#bd3786"
          ],
          [
           0.5555555555555556,
           "#d8576b"
          ],
          [
           0.6666666666666666,
           "#ed7953"
          ],
          [
           0.7777777777777778,
           "#fb9f3a"
          ],
          [
           0.8888888888888888,
           "#fdca26"
          ],
          [
           1,
           "#f0f921"
          ]
         ]
        },
        "legend": {
         "tracegroupgap": 0
        },
        "margin": {
         "t": 60
        },
        "template": {
         "data": {
          "bar": [
           {
            "error_x": {
             "color": "#2a3f5f"
            },
            "error_y": {
             "color": "#2a3f5f"
            },
            "marker": {
             "line": {
              "color": "#E5ECF6",
              "width": 0.5
             },
             "pattern": {
              "fillmode": "overlay",
              "size": 10,
              "solidity": 0.2
             }
            },
            "type": "bar"
           }
          ],
          "barpolar": [
           {
            "marker": {
             "line": {
              "color": "#E5ECF6",
              "width": 0.5
             },
             "pattern": {
              "fillmode": "overlay",
              "size": 10,
              "solidity": 0.2
             }
            },
            "type": "barpolar"
           }
          ],
          "carpet": [
           {
            "aaxis": {
             "endlinecolor": "#2a3f5f",
             "gridcolor": "white",
             "linecolor": "white",
             "minorgridcolor": "white",
             "startlinecolor": "#2a3f5f"
            },
            "baxis": {
             "endlinecolor": "#2a3f5f",
             "gridcolor": "white",
             "linecolor": "white",
             "minorgridcolor": "white",
             "startlinecolor": "#2a3f5f"
            },
            "type": "carpet"
           }
          ],
          "choropleth": [
           {
            "colorbar": {
             "outlinewidth": 0,
             "ticks": ""
            },
            "type": "choropleth"
           }
          ],
          "contour": [
           {
            "colorbar": {
             "outlinewidth": 0,
             "ticks": ""
            },
            "colorscale": [
             [
              0,
              "#0d0887"
             ],
             [
              0.1111111111111111,
              "#46039f"
             ],
             [
              0.2222222222222222,
              "#7201a8"
             ],
             [
              0.3333333333333333,
              "#9c179e"
             ],
             [
              0.4444444444444444,
              "#bd3786"
             ],
             [
              0.5555555555555556,
              "#d8576b"
             ],
             [
              0.6666666666666666,
              "#ed7953"
             ],
             [
              0.7777777777777778,
              "#fb9f3a"
             ],
             [
              0.8888888888888888,
              "#fdca26"
             ],
             [
              1,
              "#f0f921"
             ]
            ],
            "type": "contour"
           }
          ],
          "contourcarpet": [
           {
            "colorbar": {
             "outlinewidth": 0,
             "ticks": ""
            },
            "type": "contourcarpet"
           }
          ],
          "heatmap": [
           {
            "colorbar": {
             "outlinewidth": 0,
             "ticks": ""
            },
            "colorscale": [
             [
              0,
              "#0d0887"
             ],
             [
              0.1111111111111111,
              "#46039f"
             ],
             [
              0.2222222222222222,
              "#7201a8"
             ],
             [
              0.3333333333333333,
              "#9c179e"
             ],
             [
              0.4444444444444444,
              "#bd3786"
             ],
             [
              0.5555555555555556,
              "#d8576b"
             ],
             [
              0.6666666666666666,
              "#ed7953"
             ],
             [
              0.7777777777777778,
              "#fb9f3a"
             ],
             [
              0.8888888888888888,
              "#fdca26"
             ],
             [
              1,
              "#f0f921"
             ]
            ],
            "type": "heatmap"
           }
          ],
          "heatmapgl": [
           {
            "colorbar": {
             "outlinewidth": 0,
             "ticks": ""
            },
            "colorscale": [
             [
              0,
              "#0d0887"
             ],
             [
              0.1111111111111111,
              "#46039f"
             ],
             [
              0.2222222222222222,
              "#7201a8"
             ],
             [
              0.3333333333333333,
              "#9c179e"
             ],
             [
              0.4444444444444444,
              "#bd3786"
             ],
             [
              0.5555555555555556,
              "#d8576b"
             ],
             [
              0.6666666666666666,
              "#ed7953"
             ],
             [
              0.7777777777777778,
              "#fb9f3a"
             ],
             [
              0.8888888888888888,
              "#fdca26"
             ],
             [
              1,
              "#f0f921"
             ]
            ],
            "type": "heatmapgl"
           }
          ],
          "histogram": [
           {
            "marker": {
             "pattern": {
              "fillmode": "overlay",
              "size": 10,
              "solidity": 0.2
             }
            },
            "type": "histogram"
           }
          ],
          "histogram2d": [
           {
            "colorbar": {
             "outlinewidth": 0,
             "ticks": ""
            },
            "colorscale": [
             [
              0,
              "#0d0887"
             ],
             [
              0.1111111111111111,
              "#46039f"
             ],
             [
              0.2222222222222222,
              "#7201a8"
             ],
             [
              0.3333333333333333,
              "#9c179e"
             ],
             [
              0.4444444444444444,
              "#bd3786"
             ],
             [
              0.5555555555555556,
              "#d8576b"
             ],
             [
              0.6666666666666666,
              "#ed7953"
             ],
             [
              0.7777777777777778,
              "#fb9f3a"
             ],
             [
              0.8888888888888888,
              "#fdca26"
             ],
             [
              1,
              "#f0f921"
             ]
            ],
            "type": "histogram2d"
           }
          ],
          "histogram2dcontour": [
           {
            "colorbar": {
             "outlinewidth": 0,
             "ticks": ""
            },
            "colorscale": [
             [
              0,
              "#0d0887"
             ],
             [
              0.1111111111111111,
              "#46039f"
             ],
             [
              0.2222222222222222,
              "#7201a8"
             ],
             [
              0.3333333333333333,
              "#9c179e"
             ],
             [
              0.4444444444444444,
              "#bd3786"
             ],
             [
              0.5555555555555556,
              "#d8576b"
             ],
             [
              0.6666666666666666,
              "#ed7953"
             ],
             [
              0.7777777777777778,
              "#fb9f3a"
             ],
             [
              0.8888888888888888,
              "#fdca26"
             ],
             [
              1,
              "#f0f921"
             ]
            ],
            "type": "histogram2dcontour"
           }
          ],
          "mesh3d": [
           {
            "colorbar": {
             "outlinewidth": 0,
             "ticks": ""
            },
            "type": "mesh3d"
           }
          ],
          "parcoords": [
           {
            "line": {
             "colorbar": {
              "outlinewidth": 0,
              "ticks": ""
             }
            },
            "type": "parcoords"
           }
          ],
          "pie": [
           {
            "automargin": true,
            "type": "pie"
           }
          ],
          "scatter": [
           {
            "fillpattern": {
             "fillmode": "overlay",
             "size": 10,
             "solidity": 0.2
            },
            "type": "scatter"
           }
          ],
          "scatter3d": [
           {
            "line": {
             "colorbar": {
              "outlinewidth": 0,
              "ticks": ""
             }
            },
            "marker": {
             "colorbar": {
              "outlinewidth": 0,
              "ticks": ""
             }
            },
            "type": "scatter3d"
           }
          ],
          "scattercarpet": [
           {
            "marker": {
             "colorbar": {
              "outlinewidth": 0,
              "ticks": ""
             }
            },
            "type": "scattercarpet"
           }
          ],
          "scattergeo": [
           {
            "marker": {
             "colorbar": {
              "outlinewidth": 0,
              "ticks": ""
             }
            },
            "type": "scattergeo"
           }
          ],
          "scattergl": [
           {
            "marker": {
             "colorbar": {
              "outlinewidth": 0,
              "ticks": ""
             }
            },
            "type": "scattergl"
           }
          ],
          "scattermapbox": [
           {
            "marker": {
             "colorbar": {
              "outlinewidth": 0,
              "ticks": ""
             }
            },
            "type": "scattermapbox"
           }
          ],
          "scatterpolar": [
           {
            "marker": {
             "colorbar": {
              "outlinewidth": 0,
              "ticks": ""
             }
            },
            "type": "scatterpolar"
           }
          ],
          "scatterpolargl": [
           {
            "marker": {
             "colorbar": {
              "outlinewidth": 0,
              "ticks": ""
             }
            },
            "type": "scatterpolargl"
           }
          ],
          "scatterternary": [
           {
            "marker": {
             "colorbar": {
              "outlinewidth": 0,
              "ticks": ""
             }
            },
            "type": "scatterternary"
           }
          ],
          "surface": [
           {
            "colorbar": {
             "outlinewidth": 0,
             "ticks": ""
            },
            "colorscale": [
             [
              0,
              "#0d0887"
             ],
             [
              0.1111111111111111,
              "#46039f"
             ],
             [
              0.2222222222222222,
              "#7201a8"
             ],
             [
              0.3333333333333333,
              "#9c179e"
             ],
             [
              0.4444444444444444,
              "#bd3786"
             ],
             [
              0.5555555555555556,
              "#d8576b"
             ],
             [
              0.6666666666666666,
              "#ed7953"
             ],
             [
              0.7777777777777778,
              "#fb9f3a"
             ],
             [
              0.8888888888888888,
              "#fdca26"
             ],
             [
              1,
              "#f0f921"
             ]
            ],
            "type": "surface"
           }
          ],
          "table": [
           {
            "cells": {
             "fill": {
              "color": "#EBF0F8"
             },
             "line": {
              "color": "white"
             }
            },
            "header": {
             "fill": {
              "color": "#C8D4E3"
             },
             "line": {
              "color": "white"
             }
            },
            "type": "table"
           }
          ]
         },
         "layout": {
          "annotationdefaults": {
           "arrowcolor": "#2a3f5f",
           "arrowhead": 0,
           "arrowwidth": 1
          },
          "autotypenumbers": "strict",
          "coloraxis": {
           "colorbar": {
            "outlinewidth": 0,
            "ticks": ""
           }
          },
          "colorscale": {
           "diverging": [
            [
             0,
             "#8e0152"
            ],
            [
             0.1,
             "#c51b7d"
            ],
            [
             0.2,
             "#de77ae"
            ],
            [
             0.3,
             "#f1b6da"
            ],
            [
             0.4,
             "#fde0ef"
            ],
            [
             0.5,
             "#f7f7f7"
            ],
            [
             0.6,
             "#e6f5d0"
            ],
            [
             0.7,
             "#b8e186"
            ],
            [
             0.8,
             "#7fbc41"
            ],
            [
             0.9,
             "#4d9221"
            ],
            [
             1,
             "#276419"
            ]
           ],
           "sequential": [
            [
             0,
             "#0d0887"
            ],
            [
             0.1111111111111111,
             "#46039f"
            ],
            [
             0.2222222222222222,
             "#7201a8"
            ],
            [
             0.3333333333333333,
             "#9c179e"
            ],
            [
             0.4444444444444444,
             "#bd3786"
            ],
            [
             0.5555555555555556,
             "#d8576b"
            ],
            [
             0.6666666666666666,
             "#ed7953"
            ],
            [
             0.7777777777777778,
             "#fb9f3a"
            ],
            [
             0.8888888888888888,
             "#fdca26"
            ],
            [
             1,
             "#f0f921"
            ]
           ],
           "sequentialminus": [
            [
             0,
             "#0d0887"
            ],
            [
             0.1111111111111111,
             "#46039f"
            ],
            [
             0.2222222222222222,
             "#7201a8"
            ],
            [
             0.3333333333333333,
             "#9c179e"
            ],
            [
             0.4444444444444444,
             "#bd3786"
            ],
            [
             0.5555555555555556,
             "#d8576b"
            ],
            [
             0.6666666666666666,
             "#ed7953"
            ],
            [
             0.7777777777777778,
             "#fb9f3a"
            ],
            [
             0.8888888888888888,
             "#fdca26"
            ],
            [
             1,
             "#f0f921"
            ]
           ]
          },
          "colorway": [
           "#636efa",
           "#EF553B",
           "#00cc96",
           "#ab63fa",
           "#FFA15A",
           "#19d3f3",
           "#FF6692",
           "#B6E880",
           "#FF97FF",
           "#FECB52"
          ],
          "font": {
           "color": "#2a3f5f"
          },
          "geo": {
           "bgcolor": "white",
           "lakecolor": "white",
           "landcolor": "#E5ECF6",
           "showlakes": true,
           "showland": true,
           "subunitcolor": "white"
          },
          "hoverlabel": {
           "align": "left"
          },
          "hovermode": "closest",
          "mapbox": {
           "style": "light"
          },
          "paper_bgcolor": "white",
          "plot_bgcolor": "#E5ECF6",
          "polar": {
           "angularaxis": {
            "gridcolor": "white",
            "linecolor": "white",
            "ticks": ""
           },
           "bgcolor": "#E5ECF6",
           "radialaxis": {
            "gridcolor": "white",
            "linecolor": "white",
            "ticks": ""
           }
          },
          "scene": {
           "xaxis": {
            "backgroundcolor": "#E5ECF6",
            "gridcolor": "white",
            "gridwidth": 2,
            "linecolor": "white",
            "showbackground": true,
            "ticks": "",
            "zerolinecolor": "white"
           },
           "yaxis": {
            "backgroundcolor": "#E5ECF6",
            "gridcolor": "white",
            "gridwidth": 2,
            "linecolor": "white",
            "showbackground": true,
            "ticks": "",
            "zerolinecolor": "white"
           },
           "zaxis": {
            "backgroundcolor": "#E5ECF6",
            "gridcolor": "white",
            "gridwidth": 2,
            "linecolor": "white",
            "showbackground": true,
            "ticks": "",
            "zerolinecolor": "white"
           }
          },
          "shapedefaults": {
           "line": {
            "color": "#2a3f5f"
           }
          },
          "ternary": {
           "aaxis": {
            "gridcolor": "white",
            "linecolor": "white",
            "ticks": ""
           },
           "baxis": {
            "gridcolor": "white",
            "linecolor": "white",
            "ticks": ""
           },
           "bgcolor": "#E5ECF6",
           "caxis": {
            "gridcolor": "white",
            "linecolor": "white",
            "ticks": ""
           }
          },
          "title": {
           "x": 0.05
          },
          "xaxis": {
           "automargin": true,
           "gridcolor": "white",
           "linecolor": "white",
           "ticks": "",
           "title": {
            "standoff": 15
           },
           "zerolinecolor": "white",
           "zerolinewidth": 2
          },
          "yaxis": {
           "automargin": true,
           "gridcolor": "white",
           "linecolor": "white",
           "ticks": "",
           "title": {
            "standoff": 15
           },
           "zerolinecolor": "white",
           "zerolinewidth": 2
          }
         }
        },
        "xaxis": {
         "anchor": "y",
         "domain": [
          0,
          1
         ],
         "title": {
          "text": "x"
         }
        },
        "yaxis": {
         "anchor": "x",
         "domain": [
          0,
          1
         ],
         "title": {
          "text": "y"
         }
        }
       }
      }
     },
     "metadata": {},
     "output_type": "display_data"
    }
   ],
   "source": [
    "import plotly.express as px\n",
    "\n",
    "# Assuming you've performed TSNE and have your DataFrame ready\n",
    "df_vis = pd.DataFrame({\n",
    "    'x': x,\n",
    "    'y': y,\n",
    "    'Cluster': complete_emebed_party.Cluster_experiment,\n",
    "    'SchoolName': complete_emebed_party.schoolname,\n",
    "    'DistrictPoliticalAffiliation': complete_emebed_party.district_majority_party,\n",
    "    'CharterPoliticalAffiliation':complete_emebed_party.charter_majority_party  # Replace with your actual column\n",
    "})\n",
    "\n",
    "fig = px.scatter(df_vis, x='x', y='y', color='Cluster', hover_data=['SchoolName', 'DistrictPoliticalAffiliation','CharterPoliticalAffiliation'])\n",
    "\n",
    "fig.show()"
   ]
  },
  {
   "cell_type": "code",
   "execution_count": 129,
   "metadata": {},
   "outputs": [
    {
     "data": {
      "text/plain": [
       "['Our understandings of humankind and our universe are expressed and communicated through all of our arts and sciences.\\xa0 Each method of expression \\x96 language, painting, music, mathematics, and science \\x96 has its rules and techniques for effectively communicating these ideas and understandings.',\n",
       " 'Our understandings of humankind and our universe are expressed and communicated through all of our arts and sciences.\\xa0 Each method of expression \\x96 language, painting, music, mathematics, and science \\x96 has its rules and techniques for effectively communicating these ideas and understandings.',\n",
       " 'Our understandings of humankind and our universe are expressed and communicated through all of our arts and sciences.\\xa0 Each method of expression \\x96 language, painting, music, mathematics, and science \\x96 has its rules and techniques for effectively communicating these ideas and understandings.',\n",
       " 'Our understandings of humankind and our universe are expressed and communicated through all of our arts and sciences.\\xa0 Each method of expression \\x96 language, painting, music, mathematics, and science \\x96 has its rules and techniques for effectively communicating these ideas and understandings.']"
      ]
     },
     "execution_count": 129,
     "metadata": {},
     "output_type": "execute_result"
    }
   ],
   "source": [
    "list_content_cluster_1=list(complete_emebed_party.mission_statement_experiment[complete_emebed_party.Cluster_experiment == 1])\n",
    "list_content_cluster_1"
   ]
  },
  {
   "cell_type": "code",
   "execution_count": 130,
   "metadata": {},
   "outputs": [
    {
     "data": {
      "text/plain": [
       "['The vision of Durham Charter School is to prepare students to succeed in either college or career by 2030. The mission of the school is to provide all children with an outstanding comprehensive education that includes rigorous academics, as well as diverse opportunities to develop mastery in the arts, athletics, and engineering. The school teaches character values through its focus on building the Cs of Character, Culture, and Community, with values such as positive attitude, respect, integrity, determination, and empathy. The school offers extracurricular programming in arts, athletics, and science, with options such as visual arts, music, library media, and more. The curriculum includes math, English language arts, and science programs, and the school offers sports such as soccer, volleyball, basketball, cheer, track and field, and more. The school plans to implement an Academically Intellectually Gifted program and offers high school students the option of qualifying for an Honors track. \\n',\n",
       " 'The mission of Voyager Academy is to provide students in kindergarten through grade twelve an academically challenging and supportive learning environment. The vision of Voyager Academy is to inspire life-long learning in every Viking.\\n',\n",
       " 'The mission of Discovery Charter School is to prepare students to be self-motivated, lifelong, independent and collaborative learners through challenging M-focused curriculum in an innovative and supportive environment.\\n',\n",
       " 'ACS is committed to helping students become engaged citizens by finding meaning in learning through exploring real-world problems and creating innovative and exciting solutions.',\n",
       " 'become a model school for academic achievement. The mission of Williams Academy is to offer a stable, emotionally supportive educational environment for children with the goal of empowering each child to achieve their academic and social potential.',\n",
       " 'The mission of Art Space Charter School is to offer a complete education through an integrated curriculum centered around visual and performing arts, utilizing an experiential approach. They believe in a family-centered, cooperative approach to education that encourages parental involvement and community service in order to nurture responsible citizenship.\\n',\n",
       " \"The mission of Carolina International School is to nurture students' natural curiosity and joy of learning while they achieve academic excellence through challenging, interdisciplinary, international curriculum. The vision of the school is to develop critical and compassionate thinkers, confident and open-minded communicators, and resourceful and responsible citizens and leaders of our local and global communities. The core values of the school are respect, responsibility, solutions, and service.\\n\",\n",
       " 'The mission statement of Concord Lake Academy for students is to provide a competitive athletic program that helps students grow and develop into healthy young adults. Athletics serves to increase team building, leadership, and communication skills, as well as develop a sense of community throughout the school. The school aims to provide a competitive schedule of interscholastic games that build upon friendships, playing skills, self-confidence, athletic enjoyment, better community relationships, sportsmanship, discipline, leadership, and teamwork.\\n',\n",
       " 'Woods Charter School empowers students to achieve their full potential. We develop young citizens equipped with a solid academic foundation, a passion for learning, and exemplary character.',\n",
       " \"The mission statement of Thomas Academy School's Testing and Accountability Office is to correctly implement and administer all assessments embedded within the State Testing Program. The data gathered will be used to accurately reflect the school in state and federal reporting, as well as inform and impact decisions on teaching and learning. The office is responsible for administering various assessments, including End-of-Grade assessments in Reading and Mathematics for grades 6-8, End-of-Grade Science assessments for grade 8, and End-of-Course assessments in Biology, English, and Math. Additionally, the office administers assessments to determine English proficiency for students whose primary home language is not English. \\n\",\n",
       " 'The vision of Alpha Academy is to be one of the most successful schools in the world, measured by their service to the community and the success of their students in graduating, obtaining successful careers, and becoming model citizens of the world. The mission of Alpha Academy is to prepare students to become outstanding leaders and motivate them to strive for their greatest potential through exceptional character and academic achievements.\\n',\n",
       " 'The Capitol Encore Academy will develop artists who inspire others with principles of design and artful thinking through the integration of academic excellence, virtuous character and disciplined artistry.',\n",
       " 'The mission/vision of Davidson Charter Academy is to foster student learning and achievement, and inspire students to become independent thinkers, effective communicators, and contributing citizens of global society.\\n',\n",
       " \"The vision of North East Carolina Preparatory School is to nurture students' natural curiosity and joy of learning while they achieve academic excellence through challenging, interdisciplinary, global curriculum. The mission of the school is to teach and inspire through a challenging curriculum that integrates technology, experiential learning, and critical thinking skills; promotes diversity; emphasizes involvement of students, parents, and highly trained staff; and creates student leaders, all in preparation for post-secondary success.\\n\",\n",
       " \"Mountain Island Charter School offers a traditional curriculum while instilling character values and leadership development within a positive, challenging learning environment. \\xa0Students, teachers, staff, and parents will be encouraged to lead by example through their positive impact on and service to each other, their school, and their community. \\xa0We endeavor to promote and foster excellence, wisdom, integrity, and perseverance within our students to enable them to be successful in today's complex and diverse society.\",\n",
       " 'The\\xa0mission of Triad Math and Science Academy is to prepare students to become competent, responsible and successful individuals in our globalized and technology-based society through a strong academic program, school-family-community partnership, and a strong teacher-student relationship.',\n",
       " 'Cornerstone Charter Academy, a tuition-free public charter school, will give every student the opportunity to reach his or her full potential by providing a rigorous academic program, character education, and meaningful parental participation.',\n",
       " 'We produce future college graduates who are dynamic student leaders with exceptional intelligence and a strong sense of who they are and what they can achieve.',\n",
       " 'A collaborative definition of Rigorous Academics was agreed upon as follows: The focused coherent and challenging application of a content-rich curriculum with the goal of every student exceeding current standards.',\n",
       " 'The Experiential School of Greensboro educates the whole child through a high quality, project-based, experiential curriculum. We are committed to an inclusive, open, experience-based learning environment that promotes the development of socially-aware citizens who are creative problem solvers and critical thinkers.',\n",
       " 'create joyful, academically excellent schools that prepare students with the skills and confidence to pursue the paths they chooseÃ¢Â\\x80Â\\x94college, career, and beyondÃ¢Â\\x80Â\\x94so they can lead fulfilling lives and build a more just world. The vision of the school is to provide a high-performing, college-preparatory public charter school experience to students in grades K-12 in Charlotte, Durham, Halifax, and Gaston.',\n",
       " 'create joyful, academically excellent schools that prepare students with the skills and confidence to pursue the paths they chooseÃ¢Â\\x80Â\\x94college, career, and beyondÃ¢Â\\x80Â\\x94so they can lead fulfilling lives and build a more just world. The vision of the school is to provide a high-performing, college-preparatory public charter school experience to students in grades K-12 in Charlotte, Durham, Halifax, and Gaston.',\n",
       " 'Hobgood \\xa0Charter School is committed to a holistic approach to excellence: academically, physically, emotionally, and socially. Through rigorous small group instruction, multi-age collaboration, and community involvement students will establish patterns for healthy, lifelong learning.\\xa0',\n",
       " \"The mission of Anderson Creek Academy is to create a 21st Century learning environment that recognizes students' multiple intelligences and diverse learning styles with a culturally responsive curriculum and instructional program. The vision of the school is to create a school with a family atmosphere where students' academic success comes first and to open minds to lifelong learning.\\n\",\n",
       " 'Pine Lake Preparatory prepares students for college and a purposeful life.\\xa0',\n",
       " 'The vision/mission of Ascend Leadership Academy is to develop successful student leaders by growing their self-efficacy, intellectual understanding, and social competence. They accomplish this by applying innovative teaching methods, incorporating student cultural realities, and cultivating student ownership in the learning community. Their core programs include Project Based Leadership, a unique combination of traditional project-based learning and their leadership program, and a leadership curriculum that promotes the core values of Respect, Accountability, Integrity, Service, and Excellence. They also offer Digital Media courses to expose students to the latest digital software and technology. The school aims to create a culture of innovation where students are empowered and take ownership of their learning, building problem-solving skills to have a positive impact on their community. They provide a rigorous academic program to prepare students for college and life in the 21st Century.\\n',\n",
       " 'The mission of the Charter School of Lee County is to embrace all students, regardless of their background and ability level, and provide a strong academic setting that is supportive, innovative, creative, and effective. They are committed to working closely with each student to help them achieve their potential and promote a No Suspension Philosophy. They strive to be a leader in technological studies and challenge and motivate students in the areas of science, technology, reading, engineering, arts, and math. They also prioritize professional staff development for their teachers and staff. For more information, contact them by email or through their contact form.\\n',\n",
       " \"The mission of Lincoln Charter School is to facilitate the development of college-ready individuals through emphasis on rigorous academics and community expectations, including honesty, respect, empathy, responsibility, service, and preparedness. The school focuses on college preparation by providing opportunities in academics, athletics, and student life to nurture students' potential based on their unique needs and passions. The mission statement serves as the guiding principle in all decisions and is reinforced through visual displays in classrooms, daily morning announcements, and parent surveys. The school also conducts professional development to ensure staff investment in the mission and adherence to community expectations. \\n\",\n",
       " \"West Lake Preparatory Academy's (WLPA) mission is to provide students with a rigorous education program offering personalized learning plans in a technology rich environment preparing each student to excel and compete in a global environment.\",\n",
       " 'The mission of Lake Norman Charter School is to provide a rigorous and comprehensive educational environment to develop students with a focus on college readiness, leadership, and social responsibility. The school also values partnership, trust, safety, and pride among the student body, parents, community, and staff. The school promotes challenging academic curriculum, personal growth through extracurricular activities and community service, and embraces global diversity and inclusivity. The school also upholds an Honor Code that emphasizes good manners, respect for others and their property, honesty, and responsible citizenship. Violations of the Honor Code are subject to consequences determined by the teacher, school principal, and/or assistant principal. \\n',\n",
       " 'The mission of Eastside Academy is to cultivate passion for learning and community service. Students will reach high academic expectations and will be challenged at the appropriate level through engaging curriculum that places emphasis on character education, Science, Technology, Reading, Engineering, the Arts, and Mathematics, and real-life application.\\n',\n",
       " 'At INVEST COLLEGIATAE, we imagine, we nuture, we value, we engage, we sustain, we transform, as we champion opportunities in leadership and learning, embracing greatness, inspiring achievement in a telescopic environment.',\n",
       " \"The vision/mission of Lakeside Charter Academy is to provide all students with a focused and coherent curriculum through the Core Knowledge Sequence by E. D. Hirsch. The school aims to develop students' scholarship, leadership, and citizenship through a challenging academic program and opportunities for community service and civic instruction. The goal is to create confident and capable students who become productive citizens in the community. The school believes that every child can learn and strives to provide the best instruction for all students, regardless of their background or ability level. The teachers at Lakeside Charter Academy make real-life applications to help students grasp the material, and decisions are made with the students' best interests in mind. The school's mission is to be a champion for every child. \\n\",\n",
       " \"The mission of The Math and Science Academy of Charlotte is to provide exceptional education in a safe, nurturing, and culturally responsive learning environment. Their vision is to develop students' skills to live in harmony with themselves, with others, and with the natural environment. They focus on Science, Technology, Engineering, the Arts, and Math (STEM) education. They serve more than 800 students from kindergarten through 12th grade on their two campuses in Charlotte, North Carolina. They are committed to strong parent, school, and community partnerships. For more information, visit their website at www.tmsapcs.org/about_us.\\n\",\n",
       " 'The mission of the school is to develop intellectually, morally, and physically excellent citizens who embrace learning and the desire to serve through Classical Education.\\n',\n",
       " 'The vision of East Voyager Academy is to cultivate global understanding and foster lifelong learning skills to prepare students to become productive, competent, and engaged citizens of the 21st century. The mission of East Voyager Academy is to graduate its students with English-Chinese bilingual proficiency, strong academics, and intercultural competence.\\n',\n",
       " 'The students of Steele Creek Preparatory Academy will learn in a rigorous, personalized learning environment while building strong foundations of academic and critical thinking skills that lead to future opportunities for college and career readiness.',\n",
       " 'Southwest Charlotte STEM Academy promotes high academic achievement by increasing student engagement through a workshop model that encourages and empowers students to take ownership of their own learning.',\n",
       " 'The Academy of Moore County creates value in the community by producing children who are independent thinkers and are able to communicate effectively, at school, at home, and in their community.',\n",
       " 'Rocky Mount Prep will educate, equip, and empower each scholar to excel academically by providing equitable learning opportunities and collaborating with families and communities.',\n",
       " 'Cape Fear Center for Inquiry is committed to promoting students\\x92 abilities to think and create in personally meaningful ways through an inquiry-based, integrated curriculum in a nurturing and empowering environment.',\n",
       " 'Wilmington Preparatory Academy will provide a base of literacy, global knowledge, and life skills to prepare urban, economically disadvantaged K-8 youths for college and life beyond. Through an extended-day and extended-year curriculum the Academy will train students to take personal responsibility for their education, health choices, and social well being',\n",
       " 'The mission of the Wilmington School of the Arts is to provide an arts integrated project-based school that any child may attend regardless of their financial situation. The school aims to make learning fun for kids through project-based learning, which involves actively engaging in real-world and personally meaningful projects that require critical thinking, problem solving, collaboration, and various forms of communication. Students are encouraged to use higher-order thinking skills and work as a team to answer driving questions and create high-quality work.\\n',\n",
       " \"Eno River Academy will nurture a community of academic and artistic distinction, as it enriches each student's cultural literacy\",\n",
       " 'The vision of Roxboro Community School is to create educated, responsible, and productive men and women who are equipped to face the challenges of the 21st century. The mission of the school is to achieve and maintain educational excellence by providing a small, inviting, and nurturing school that focuses on grades six through twelve. The school values and respects each member of its school family, enabling everyone to become effective, productive citizens. The school provides an environment that directs students to focus on relevant and rigorous learning that will continue after high school. Roxboro Community School is committed to fostering a culture of respect that is embedded throughout the school, built on the belief that all members are essential to a successful learning environment. The school maintains high expectations for all students and believes that all students can learn at high levels. The staff is committed to problem-solving, respecting time and the time commitments of others, being aware of nonverbal communications, being active and responsible members of the team, and providing and receiving feedback constructively and respectfully.\\n',\n",
       " \"Uwharrie Charter Academy will exist to provide a truly rigorous pathway to college and career readiness; to afford students the benefit of a small learning community with a low teacher/student ratio in an effort to promote strong relationships with students and individualized support for learning; to imbed the curriculum with STEM focused content through problem-based learning, historical developments in technology, hands-on math, and inquiry science that requires engineering and ingenuity; to promote hands-on, project-based learning in all courses; to support the development of 21st century skills integrating the use of technology; to partner with parents so that they understand their role in their child's education; to build relationships with local institutions in order to provide real-world connections and opportunities for applied learning; and to promote environmental stewardship including the adoption of green practices in students' everyday lives and the integration of NC's Environmental Literacy Plan in a cross curricular approach.\",\n",
       " 'Engage students in STREAM disciplines that will prepare future leaders who are innovative, persistent, and self-determined.',\n",
       " 'The main goals of the high school counseling program at Thomas Jefferson Classical Academy are:\\n1. Students will demonstrate a positive attitude toward themselves as unique and worthy individuals.\\n2. Students will gain life-planning skills that are consistent with their needs, interests, and abilities.\\n3. Students will develop responsible social skills and an understanding and appreciation of being a contributing member of society.\\n4. Students will demonstrate an understanding and appreciation of the lifelong process of learning, growing, and changing.\\n',\n",
       " 'is outlined in the 2019-2024 Strategic Plan. Unfortunately, the specific details of the vision/mission are not provided in the extracted content.',\n",
       " 'The mission of Henderson Collegiate is to empower students with the character traits, academic skills, social experiences, and love of learning necessary for them to shape their own destinies, attend and graduate from the college of their choice and become world-changing problem solvers.',\n",
       " 'The mission of Raleigh Charter High School is to challenge college-bound students in a creative and supportive atmosphere to become knowledgeable, thoughtful, contributing citizens. They aim to cultivate understanding and practices that sustain individual self-determination and community self-government. They prioritize the foundation of knowledge and ethics, self-awareness, building and maintaining local and larger communities, working towards equity and against oppression and injustice, recognizing the dignity of every human being, engaging in common enterprise, facilitating problem-solving, fostering balance in life, and taking ownership and responsibility for learning. They strive to graduate citizens of the world by creating an interconnected learning environment that combines demanding college-preparatory education with a curriculum that teaches and models citizenship skills. They involve students in the resources of downtown Raleigh and emphasize active, social, and creative learning. The school aims to be a place of opportunity for highly motivated students and actively involved parents. The teachers at Raleigh Charter High School love to learn and teach, and they hope that students will develop a deep love for learning and acquire a wealth of knowledge and skills. \\n',\n",
       " 'Quest Academy will provide a quality academic accelerated day program for motivated students who are pursuing high-intensity training outside the classroom. Quest Academy is designed to promote academic excellence and substantial extracurricular involvement in athletics or performance in fine arts. This activity does not equate with religious or youth activities and includes professional instruction outside of the home.',\n",
       " \"Triangle Math and Science Academy's mission is to prepare students to become competent, responsible, and successful individuals in our globalized and technology-based society through a strong academic program, school-family-community partnership, and a strong teacher student relationship.\",\n",
       " 'The vision/mission of Envision Science Academy is to provide a school that focuses on science, technology, engineering, arts, and mathematics (STEM) education and project-based learning in order to better prepare students for the workforce.\\n',\n",
       " 'To succeed in a global society by providing a diverse, collaborative, and technological, academic climate empowering 80% of students to be proficient by 2023',\n",
       " 'Wilson Preparatory Academy will provide every student with a quality and relevant education that will prepare them to progress in a rapidly evolving global society. An integrated and comprehensive curriculum will be tailored to every student regardless of background, learning style, career or college pathway.',\n",
       " 'Movement School East exists to love and nurture scholars by leading a movement of change in education through academic excellence, character development, and preparation for success in life.',\n",
       " 'Wake Forest Charter Academy students will learn to become powerful, critical and independent thinkers, successful collaborators, and enthusiastic contributors to their learning processes in preparation for success in a vibrant, symbiotic world as they and our teachers, parents and community prepare them for college and career readiness.',\n",
       " 'The mission of Iredell Charter Academy is to build a rigorous and productive learning environment where students can reach their academic potential and where teachers and students set clear educational goals.',\n",
       " \"ALA Coastal is dedicated to improving the lives of students by providing authentic learning experiences in a collaborative, nurturing environment that will build a foundation for students' success in school, career, and life.\",\n",
       " 'Our mission is, \\x93to eradicate generational poverty in the lives of our students by providing a rigorous education from kindergarten through 12th grade through academic preparation, college and career readiness and life skills for success.\"',\n",
       " 'The primary mission of The North Carolina Leadership Academy is to develop each student\\x92s leadership potential, intellectual aptitude, physical ability and heart for service in order to prepare our students to live in and give back to a changing society as self-respecting and responsible citizens.',\n",
       " \"Aristotle Preparatory Academy's mission is to prepare all students for success in college and beyond by raising leaders and productive citizens via a rigorous STEM-focused curriculum with an emphasis on character development.\",\n",
       " 'Langtree Charter Academy is to build a rigorous and productive learning environment where students can reach their academic potential and where teachers set clear educational goals. We value the relationship between the teacher and student and the role the family plays in a child\\x92s academic and social development. At their foundation, teachers, parents and students at Langtree Charter Academy will have the shared academic philosophy that all children can learn, become self-motivated life-long learners, function as responsible citizens, and realize their potential as productive members of the local and global societies and the 21st century workforce. A focus on citizenship and experimental learning through community engagement will be present at every grade level. Building upon this foundation enables students from all socioeconomic levels to realize their academic and personal potential and to prepare to enter, compete, and succeed as students and, later, as professionals.',\n",
       " 'The mission of KIPP Durham College Preparatory is to empower all of our students with the skills, knowledge and character necessary to strengthen their communities, succeed at the colleges of their choice and fight for social justice.',\n",
       " 'The mission of KIPP Gaston College Preparatory (GCP) is to empower all of our students with the skills, knowledge, and character necessary to succeed at the college of their choice, strengthen our community, and fight for social justice. All students, parents, and teachers commit to this mission.',\n",
       " 'Working in partnership with parents and community, the Queen\\x92s Grant Community School will offer a challenging, character-based education. By providing a strong curriculum and an atmosphere of high expectations, students can master basic skills and realize full academic potential in preparation for higher education and life-long learning.',\n",
       " 'Sallie B. Howard School of Arts & Science is committed to cultivating high student achievement in academics, character, and the arts. Our mission is to provide every child \\x96 privileged or underprivileged \\x96 with the kind of education that nurtures their gifts, talents, and potential and enables them to become more than they ever thought they would be.',\n",
       " 'Winterville Charter Academy will put each student on a path to college readiness through the implementation of a rigorous curriculum, the use of formative assessments and other data to inform instruction, a system of outstanding professional development to support and grow teachers, and a school culture that provides a safe and nurturing learning environment where students develop the skills and personal qualities important for success in life. Parents, students, and staff will collaborate to create a school that values both academic achievement and strong character.',\n",
       " 'Summerfield Charter Academy will provide a K-8 education that places each student on the path to academic proficiency and college readiness. Parents, students, and staff will work together to create an environment that values academic achievement, emphasizes strong character, and fosters in every student the ability to think, understand, and communicate. At the same time, our school will imbue in every student a deep sense of individual responsibility and an appreciation of the dignity of work.',\n",
       " 'Chatham Charter School will establish and maintain a challenging learning environment that respects the individual learners and prepares students to succeed in a globally competitive society.',\n",
       " 'Revolution Academy will develop productive citizens who are prepared for a lifetime of achievement by using a challenging, classical academic program, meaningful parental partnerships, character education, and an emphasis on student responsibility.',\n",
       " 'To offer a challenging academic program and a school culture that values strong character, educational excellence, and accountability, and where each student is given the opportunity for success.',\n",
       " 'Through dynamic, culturally relevant instruction and limitless expectations, students at PEAK Academy will be empowered with the academic excellence, character traits, and love of learning necessary to become life-long scholars, leaders, and community stewards.',\n",
       " 'To provide children in the Southeastern part of Durham a comprehensive elementary-middle school. To provide working parents in the Research Triangle Park an opportunity for quality education near their workplace. This will provide opportunities for them to visit during the day, reduce time away from their children and to know that they are only a short distance away from their child. The school will also serve as a clarion call to all of North Carolina on the cooperative abilities of industry and education to come together for the benefit of working parents and their children.',\n",
       " 'Our mission is to equip students with the tools of learning to think critically, reason effectively, and communicate persuasively through the rigors of a classical education.',\n",
       " 'Evergreen Community Charter School is a learning community committed to the pursuit of excellence in holistic education of mind, body, and spirit',\n",
       " 'Carolina Charter Academy prepares students for a lifetime of learning by developing their natural passion for discovery and problem-solving. Students are immersed in an engaged learning environment where they develop a knowledge-based education to better understand the world around them.',\n",
       " 'The mission of Research Triangle High School is to increase access to globally compeve Science, Technology, Engineering, and Math (STEM) educaon for students and teachers across North Carolina, by incubang, proving, and scaling innovave models of teaching and learning. Our vision is to graduate young people who are prepared for college-level studies, and who have learned the 21st-century skills that Research Triangle Park-like companies seek.',\n",
       " 'Greensboro Academy, in cooperation with parents and community, will strive to challenge students to reach their highest potential in academic excellence and moral character; at the same time, our school will imbue in every student a deep sense of individual responsibility and an appreciation for the dignity of work.',\n",
       " 'Piedmont Classical High School educates and prepares all students, through a challenging and classically driven curriculum, to succeed in any endeavor.',\n",
       " 'The mission of the Bear Grass Charter School, in partnership with family and community, is to enhance the quality of life of all students by ensuring they possess the competencies to achieve academic and vocational success in a technological world. Our collaboration with East Carolina University and other post-secondary institutions will strengthen the focus on mathematics and science throughout the curriculum.',\n",
       " 'Our mission is to provide a rigorous classical education with high academic and personal expectations, that inspires students to be productive and thoughtful citizens in their communities and beyond.',\n",
       " 'The mission of Paul R. Brown Leadership Academy is to serve its students through a commitment to excellence in an education that serves today, tomorrow, and the future by providing an academically rich program that encompasses all skill sets for life: reading, communication, critical and creative thinking, problem solving, work ethic, integrity, physical wellness, and leadership.',\n",
       " 'The Mission of Two Rivers Community School is to be an exemplary K-8 school founded upon the belief in academic Rigor, curricular Relevance, and authentic Relationships.',\n",
       " 'We believe that empowering our students empowers our community.The students of Mountain Discovery Charter School are engaged in an experientially rich, hands-on course of study developed to maximize each child\\x92s potential to become a responsible citizen of the local and global communities.',\n",
       " 'Shining Rock Classical Academy: A Challenge Foundation Academy engages all students and challenges them to excel. Through an integrated, content-rich curriculum, students will develop a strong foundation in critical thought and cultivate a lifelong love of learning. We encourage local and global citizenship, and we practice six core values: Integrity, Respect, Compassion, Responsibility, Wisdom, and Leadership.',\n",
       " 'The mission of The Movement Charter School is lead students and families to the academic excellence and socio-emotional health that enables them to successfully persist through college and careers.',\n",
       " 'Central Carolina Academy will establish and maintain a challenging learning environment that respects the individual learners and prepares students to succeed in a globally competitive society.',\n",
       " 'The mission of the Magellan Charter School is to provide a challenging intellectual journey for\\xa0highly motivated students.',\n",
       " 'RISE empowers its scholars to thrive academically, strengthen their community, and discover their voice. We teach rigorous content, educate with compassion, foster leadership, and encourage exploration.',\n",
       " 'Working in partnership with parents and the community, PreEminent Charter School will offer a challenging, character-based education by providing a strong curriculum and an atmosphere of high expectations.']"
      ]
     },
     "execution_count": 130,
     "metadata": {},
     "output_type": "execute_result"
    }
   ],
   "source": [
    "list_content_cluster_2=list(complete_emebed_party.mission_statement_experiment[complete_emebed_party.Cluster_experiment == 2])\n",
    "list_content_cluster_2"
   ]
  },
  {
   "cell_type": "code",
   "execution_count": 131,
   "metadata": {},
   "outputs": [
    {
     "data": {
      "text/plain": [
       "['ensure that each and every student receives a high-quality educational experience, including academics, social/emotional learning, behavior, and mental health. They have implemented a Multi-Tiered System of Supports (MTSS) to address barriers to academic success and provide additional support and interventions for students with academic or other needs. They also offer Title programs to provide assistance to educationally and economically disadvantaged children. Additionally, the school offers clubs, activities, field trips, and virtual engagement opportunities for students to communicate, socialize, and participate in cooperative learning.',\n",
       " \"be a rich school community that uses innovations in technology to educate and bring a wide range of students, families, and educators together. The mission of the school is to expand educational choice through innovative and technology-rich instructional practices and to develop each student's full potential for academic and post-secondary success.\",\n",
       " 'is to provide experiences that bring scholars together to celebrate their academic, social, and emotional growth as they discover their strengths and interests. The school aims to create a positive and engaging environment through various special events, themed dress-out days, concerts, celebrations, field trips, and more. They also encourage family involvement and provide opportunities for students to showcase their talents and achievements.',\n",
       " 'build students academically, socially, and emotionally every day.',\n",
       " \"The mission of the counseling department at Kestrel Heights is to provide services and support to students and their families to maximize students' potential for academic, social, and emotional success.\\n\",\n",
       " \"create a public education system that is culturally responsive, supports academic success, and serves as a gateway to unlocking every child's unique gifts. The vision of the school is to follow a dynamic 21st-century franchise model of public education that builds bridges to the economic mainstream for vulnerable scholars and encourages interdisciplinary and holistic approaches to education.\",\n",
       " 'IDYL Provides a rigorous, stimulating comprehensive educational experience that promotes school success for every child by addressing social, emotional and mental wellness and fostering a strong sense of community. Â\\xa0We provide a high standards learning environment that promotes academic and leadership skills and content mastery.Â\\xa0Â\\xa0',\n",
       " 'is to develop young people into mature, sophisticated thinkers who will be prepared for rigorous future studies. They believe that instruction using real-world experiences in a safe and orderly learning environment will result in well-prepared students who will make a positive difference in their communities.',\n",
       " 'is to provide a rigorous, college-preparatory, liberal arts education that meets and exceeds Common Core State Standards. The school aims to cultivate a love of learning, critical thinking skills, and character development in students. They emphasize the importance of a classical curriculum rooted in the traditional liberal arts and the core values of citizenship, cooperation, courage, honesty, integrity, perseverance, respect, and responsibility. The school also integrates arts education, physical education, and foreign language instruction, such as Spanish. They strive to create a growth mindset in students and promote continuous learning. The school follows a modified year-round calendar to minimize learning loss and provide regular breaks for rest and enrichment. Testing and accountability measures are in place to monitor student progress and ensure academic growth.',\n",
       " 'Our goal is to assist parents in their mission to develop exemplary young citizens with superior academic preparation, equipped with analytical thinking skills, a passion for learning, and a virtuous character, all built upon a solid foundation of knowledge. Our curriculum is challenging and demanding in an age and grade-appropriate manner and our standards are high.',\n",
       " 'is to engage in a learning partnership, develop skills and values, and pursue lifelong learning and personal growth. The vision is to create an environment where all students thrive, with a focus on inclusiveness, mutual respect, personal attention, exploration, an inspired faculty, community engagement, environmental stewardship, and the arts.',\n",
       " 'The mission of Clover Garden School is to foster community, generate enthusiasm, challenge students academically, and produce successful citizens.\\n',\n",
       " 'Our mission is to inspire academic excellence; to nurture curiosity, creativity, and imagination; and to do so within an environment rich with warmth, kindness and respect.',\n",
       " 'illuminate, investigate, innovate, cultivate, celebrate, and graduate.',\n",
       " 'is to ensure that all students are learning at high levels through an integrated approach to the whole child in a K-12 model. The mission of the school is to nurture, value, engage, sustain, and transform as they champion opportunities in leadership and learning, embracing greatness and inspiring achievement within a telescopic environment. The school also focuses on teaching students core values such as doing everything safely, being a leader, and valuing themselves and others.',\n",
       " 'students is to prepare the next generation of leaders, capable of solving problems and participating effectively and ethically as local and global citizens. Through challenging academics, real-world learning, and community engagement, the school aims to help students discover their potential, develop persistence, and recognize the value of others. The graduates of the school are expected to be ready for the future they will create.',\n",
       " 'is to create an inclusive community that promotes social justice and preserves the inherent worth and human dignity of every person. The school aims to practice fairness and equality, analyze multiple perspectives on historical and contemporary issues, and build a community of critical thinkers who are active in the world. The school also believes in providing an experientially rich, hands-on program of study that fosters critical thinking skills, self-respect, and respect for others. They value curiosity, creativity, and student choice in learning, and strive to create a learning community that includes students, teachers, parents, guardians, and the community working in partnership. They also emphasize the importance of honoring the professionalism and skill of their teaching staff.',\n",
       " 'students is to provide an emotionally safe environment where children are encouraged to be risk takers, promote small class sizes and a strong Core Knowledge Curriculum, encourage students to assume greater responsibility for their own learning, offer a variety of electives and technology-infused classrooms, and provide opportunities for participation in high school leveled online classes.',\n",
       " 'is to create and operate high-quality schools with an unwavering dedication to student achievement, unyielding commitment to ethical and sound business practices, and providing choice for communities, parents, students, and professionals that fosters educational excellence in America. The school aims to provide a guaranteed and viable curriculum, community-centered academic programming, a community of character, an individualized approach to learning, and meaningful parental involvement. Additionally, the school encourages students in grades K-8 to learn new languages through age-appropriate games and culturally relevant activities.',\n",
       " 'is to equip them from all backgrounds to succeed in the college and career of their choice by driving academic excellence, developing strong character, and instilling an entrepreneurial mindset. The school aims to provide a safe, secure, caring, and stimulating atmosphere for students to grow and mature emotionally, intellectually, physically, and socially. They strive to help students meet their fullest potential by implementing a comprehensive curriculum, supporting risk-taking, and providing opportunities for students to create their own future. The school encourages students to develop critical and creative thinking skills, self-confidence, and self-motivation. They also emphasize character education, entrepreneurship, and the value of community. The school has academic goals, character education goals, and entrepreneurship goals to guide their instruction and evaluate their effectiveness. They employ instructional strategies that cater to the different learning styles of students.',\n",
       " 'students is to provide a rigorous back-to-basics curriculum with a strong character education program. The curriculum focuses on building a proper foundation in academics, including facts, grammar, and traditional mathematics. The character education program emphasizes key virtues that students can exemplify in the classroom, at home, and in the community to become productive citizens in society. The school also utilizes the Core Knowledge curriculum, which provides a systematic syllabus of topics in various subjects, and the Saxon Math teaching method for incremental learning of mathematics. The Shurley English program supports the Core Knowledge curriculum and helps students develop writing and speaking skills. The school also promotes social and emotional learning, including social awareness, relationship skills, decision-making, problem-solving, personal safety, ethical standards, self-awareness, self-management, and goal-setting.',\n",
       " 'is to foster creativity, confidence, and enthusiasm for learning through arts integration, family engagement, and responsive academic and social curriculum. The school aims to create a community of learners that serves as a model of congeniality, open communication, and trust. The school believes that how children learn is as important as what they learn, and that the social curriculum is as important as the academic curriculum. The school also emphasizes the importance of knowing the children and families they teach, and working with them as partners in education. The school follows the North Carolina Standard Course of Study and places a strong emphasis on the arts.',\n",
       " \"is to assist children in achieving their unique potential as responsible global citizens by nurturing self-confidence and independent decision making in a stimulating, creative, and diverse Montessori community. The school aims to provide a learning environment that recognizes the unique possibilities of every human being and follows the child's interests to cultivate a lifelong love of learning. The school also emphasizes interdependence, peaceful cooperation, and respectful care within the community. The vision is for students to develop into thriving individuals who positively engage and impact the world. The school follows authentic Montessori principles, including mixed-age classrooms, inviting Montessori materials, freedom of movement, and serving exceptional children in the classroom as much as possible. The school also values intentional diversity.\",\n",
       " 'is to promote mindsets and behaviors that enhance the learning process and create a culture of college and career readiness for all students. The school counseling programs focus on academic development, college and career development, and social emotional development. The counselors work with students in these domains to support their ability to learn, plan for successful transitions, and manage emotions and interpersonal skills.',\n",
       " 'Water\\x92s Edge Village School provides local education to its isolated coastal community, a place rich in natural resources and environmentally-focused organizations. Galvanized by a diverse community of people deeply invested in the success of a local school and grounded in partnerships with children and families, WEVS provides a rigorous, child-centered learning environment. Leadership principles and an academically challenging, integrated, hands-on curriculum empower students by instilling a sense of social and environmental responsibility while nurturing both body and mind.',\n",
       " 'To maximize the educational potential of students by providing a stimulating educational environment that will develop each student\\x92s intellectual, spiritual, emotional, physical and social potential to the fullest and to effectively educate and utilize parents, communities, and churches in the education of children.',\n",
       " 'Education and citizenship are our vital concerns. The\\xa0Carter G. Woodson\\xa0School\\xa0is a place where every child is taught in a challenge-friendly, nurturing, and constructive learning environment. At\\xa0Carter G. Woodson, every child is respected and is expected to learn, grow, and be the best he or she can be.',\n",
       " \"is to provide active and creative scholarly exploration that engages students, their family/community, and all school personnel in the learning experience. They aim to achieve this through a strong core curriculum that builds on students' life experiences and multiple ways of knowing/learning, realized through individualized and intimate integrated interdisciplinary, arts-based instruction. Their goal is to create an innovative, inspiring school that addresses the cognitive, social, emotional, and physical development of each student, fostering a holistic approach to education. They also prioritize diversity, equity, and inclusion, nurturing an atmosphere of respect, openness, and trust, and valuing cultural differences and intellectual diversity.\",\n",
       " 'is to provide a project-based approach to education, promote meaningful parent involvement, increase diversity, and create experiential learning opportunities through community relationships and outreach programs. They also aim to secure academic and behavior support programs, streamline operations for efficient resource use, complete a new campus project for high school grades, and develop a plan for consistent leadership transition.',\n",
       " 'in the \"About Us\" section is to provide a joyful learning environment that cultivates good character and equips students with exceptional skills in reading, writing, and arithmetic. The school aims to foster a love of learning and empower students to succeed. The school\\'s motto is \"Esse Quam Videri,\" which means \"to be, rather than to seem,\" emphasizing the school\\'s commitment to providing real results. The school also promotes the values of fortitude, integrity, respect, and excellence through its slogan and Phoenix Pledge.',\n",
       " 'is to create a nurturing environment that involves parents in the life of the school, instills positive values, and empowers students to realize their potential. The school focuses on building character, developing leadership skills, and promoting community service. They believe that all youth hold tremendous potential and strive to create a moral and wholesome environment. The school also maintains a strict dress code and code of conduct for both students and staff.',\n",
       " 'is to provide a challenging college preparatory curriculum in an environment of high expectations complemented by artistic and extra-curricular activities. They also aim to instill and expect compassion, integrity, honesty, personal responsibility, and respect for self and others. Additionally, they strive to instill individual responsibility and commitment to serve by respecting the diversity of others and valuing the relationships that unite them as a school community. The vision is to offer a superior college preparatory educational option for the community and its families, with the goal of producing graduates who act with honor, integrity, and personal responsibility, are academically prepared for college, are thoughtful and effective communicators, are intellectually curious and think critically, are exposed to the arts to promote creativity and ingenuity, are purposeful, goal-oriented, adaptable, and determined, and are equipped to be effective and productive citizens.',\n",
       " 'is to achieve the total development of the children through academic growth and development, social-emotional development, and physical development. The goal is to create a learning environment where children enjoy the learning process, discover new interests, and unlock hidden talents. The school also aims to create strong relationships with parents, students, and the community as a whole, and to enhance the community of Gastonia.',\n",
       " 'is to provide American Traditional Values and Education.',\n",
       " 'To create a challenging learning environment while striving to meet the academic, social, and emotional needs of our 21st century learners to prepare them for citizenship, leadership, and success in a rapidly changing world.',\n",
       " 'students is to ensure that students graduate from college and to prepare them for success in college.',\n",
       " 'is to produce young men and women who will learn 21st Century Skills, lead in the global economy, and live in service to the community. They aim to teach students how to utilize creativity, collaboration, critical thinking, and communication to address community problems. The school also values communication, relationships, accountability, and inclusivity. Their goal is to prepare students for global and domestic opportunities by developing their critical thinking, collaboration, communication, and creativity skills.',\n",
       " 'is to provide them with a strong moral focus program and rigorous college-prep education. The goal is for students to develop the moral strength, knowledge, and skills they need to succeed in college, work, and life. The school focuses on every student\\'s unique needs, abilities, and interests, sets high standards, and personalizes teaching to help students thrive. Moral focus is made a part of every school day, teaching virtues such as respect, perseverance, and compassion. The school expects students to make wise choices, consider consequences, and take responsibility for their actions. The teachers make themselves available to discuss students\\' progress, and the school values the partnership between home and school. Safety practices are in place to ensure a safe and orderly learning environment. The school also provides tips on combating the \"summer slide\" and offers more information for parents who are deciding where to send their child to school.',\n",
       " 'is to provide them with a strong moral focus program and rigorous college-prep education. The goal is for students to develop the moral strength, knowledge, and skills they need to succeed in college, work, and life. The school focuses on every student\\'s unique needs, abilities, and interests, sets high standards, and personalizes teaching to help students thrive. Moral focus is made a part of every school day, teaching virtues such as respect, perseverance, and compassion. The school expects students to make wise choices, consider consequences, and take responsibility for their actions. The teachers make themselves available to discuss students\\' progress, and the school values the partnership between home and school. Safety practices are in place to ensure a safe and orderly learning environment. The school also provides tips on combating the \"summer slide\" and offers more information for parents who are deciding where to send their child to school.',\n",
       " 'is to provide them with a strong moral focus program and rigorous college-prep education. The goal is for students to develop the moral strength, knowledge, and skills they need to succeed in college, work, and life. The school focuses on every student\\'s unique needs, abilities, and interests, sets high standards, and personalizes teaching to help students thrive. Moral focus is made a part of every school day, teaching virtues such as respect, perseverance, and compassion. The school expects students to make wise choices, consider consequences, and take responsibility for their actions. The teachers make themselves available to discuss students\\' progress, and the school values the partnership between home and school. Safety practices are in place to ensure a safe and orderly learning environment. The school also provides tips on combating the \"summer slide\" and offers more information for parents who are deciding where to send their child to school.',\n",
       " 'Our focus is on Academic Excellence, Individualized Learning and Building Self-Confidence. Our small school environment ensures that all students are known, respected and valued for their unique qualities.',\n",
       " 'School is to create an educational environment where students are inspired to academic excellence and discovery. Teachers, parents, students, and the community work together to honor individuality and diversity, nurture respect for self and others, and foster life-long love of learning. The goal is to instill a sense of pride and love of learning in each and every child, through service to school and community.',\n",
       " 'The mission of Fern Leaf is to foster a rich learning environment that embodies the essence of community, understanding, and the human spirit. They seek to engage the unique passions and aptitudes of their school community so that students become thoughtful, compassionate, and engaged. The four fundamentals of Fern Leaf education are: \\n1. High Quality Academic Instruction\\n2. Rich Learning Environments\\n3. Social and Emotional Learning\\n4. Community Culture',\n",
       " 'The mission of the American Renaissance School- School Counseling department is to provide comprehensive and developmental counseling program addressing the academic, career, and personal/social development of all students. They aim to enable personal growth and academic success through developmentally appropriate methods. The school counseling program also emphasizes collaboration with parents, teachers, community, and administrators. The school counselor performs various functions to assist students and their families during the K-8 school years, including individual counseling, group counseling, and classroom guidance. They also provide resources for students experiencing homelessness and support under Section 504 of the Individuals with Disabilities Education Act.\\n',\n",
       " \"students is to provide a healthy environment for students and adults within the school environment, recognizing that all students must be physically healthy in order to achieve academic success. The school aims to promote health literacy, nutrition education, physical education, physical activity, environmental awareness, and provide nutritious food options for students. The school also emphasizes the importance of comprehensive health education curriculum that includes nutrition education and promotes lifelong habits of healthy eating and physical activity. The school's wellness plan is aligned with national standards and is aimed at combating obesity and promoting lifelong wellness for students.\",\n",
       " 'in the \"About Us\" section is to provide a place-based learning environment that encourages student engagement, individual student mastery, project-based learning, hands-on learning, student-led learning, small group work, and character building. The school aims to bring the local community into the classroom and the classroom out into the community to broaden student perspectives and experiences and build student confidence. The foundation of the school\\'s philosophy is the Summit Pledge, which emphasizes virtues such as honesty, respect, responsibility, compassion, self-discipline, perseverance, and giving. The school also offers a personalized and individualized experience for students in grades K-5 and 6-8, with low student-teacher ratios and a focus on individualized education. In high school, the school combines rigorous college preparatory academics with a program focused on earning elective credits through community engagement, outdoor leadership, mentorship, and life skills development. The school aims to develop students who are inspired, empowered, and equipped to lead.',\n",
       " 'students is to provide an appropriately challenging educational program for students who perform, or show the potential for performing, at remarkably high levels of accomplishment when compared to others of their age, experience, or environment. The school believes that gifted and highly capable students learn at a faster rate, are able to think complexly, and are found across diverse student populations. They also emphasize the need for rigorous and differentiated curriculum, ongoing research-based professional development, and collaborative partnerships with parents and the community.',\n",
       " 'is to promote academic excellence and citizenship, while fostering a positive and nurturing learning environment. They strive to provide intellectually challenging experiences and maintain an atmosphere conducive to learning. The goal is to help students achieve academic success and create a safe and secure environment for them every day.',\n",
       " 'is to provide a differentiated, challenging, and equitable learning environment that supports the distinctive intellectual, social, and emotional needs of highly gifted children from diverse backgrounds and enables them to form meaningful relationships with their intellectual peers.',\n",
       " 'Our mission is to use the principles of The Basic School to provide an optimal environment for learning in which teachers and parents work together to create an inclusive community of learning.',\n",
       " \"is to encourage them to reach their full potential and to work in partnership with parents and the community. The school values parent input and offers various opportunities for parents to engage with their child's learning experience. They provide information on events, teacher updates, and contact information for teachers on their website. They also invite parents to play an active role in defining the future direction of the school through Town Hall meetings.\",\n",
       " 'is to guide them in the discovery of their own particular genius and to provide avenues of enrichment and study that cater to their individual needs.',\n",
       " \"to develop the whole child and address their cognitive, emotional, social, and physical needs. The school aims to create an inclusive community of learning where teachers and parents work together. They strive to motivate students as lifelong learners through hands-on teaching and an integrated curriculum. The school also emphasizes the importance of healthy lifestyle practices for students' social, emotional, and physical well-being. The Corvian Way guides all members of the school community.\",\n",
       " 'is to provide academic excellence, nurture personal relationships, and inspire a growing passion for creativity and learning in all students. The vision of the school is to use innovative methods to provide quality education in a smaller, more responsive learning environment, challenging students to develop critical thinking skills, creativity, and communication skills required for success in college and the workplace. The school community works together to support students in a way that invites learning to become a lifelong endeavor. The school also focuses on addressing the needs of each student through various programs and emphasizes health, nutrition, and college and career counseling.',\n",
       " \"help students at-risk of not graduating earn a standard high school diploma and prepare for post-secondary success. Their purpose is to provide any student with an achievable alternate pathway to a high school diploma and post-secondary success when the standard approach doesn't meet their needs. They believe that all students can learn and strive to deliver a learning experience that fits the individual and an environment that supports their growth. Their pillars include flexibility, personalization, and support. They offer flexible scheduling, a mastery-based curriculum, personalized assessments and instruction, and supportive staff and social services.\",\n",
       " 'is to provide a P.R.I.D.E. experience, which stands for Purpose, Responsibility, Interdependence, and Environmental Awareness. The school aims to challenge students to research and address issues facing their community, take action to make an impact, and become ambassadors to encourage others to get involved. The three stages of the P.R.I.D.E. experience are Awareness, Activate, and Advocate, and students present their accomplishments to a review panel. The school also emphasizes outdoor learning and play spaces.',\n",
       " \"is to provide them with an education that is engaging, enriching, and challenging in a safe and positive environment. The school follows the Basic School philosophy, which is based on best practices that are research-based and proven to be highly effective in helping students reach overall excellence. The philosophy is founded on four principles known as the C's: School as Community, Curriculum with Coherence, Climate for Learning, and Commitment to Character. The school aims to create a community where parents, teachers, students, and community members unite to promote learning. The curriculum focuses on proficiency in the written and spoken word, mathematics, and the arts, with a framework that is integrative, thematic, and spirals upward from kindergarten through eighth grade. The school maintains a low student-teacher ratio to ensure individualized attention, and teachers stay connected with their students for multiple years through looping. The school also emphasizes the development of core virtues such as honesty, respect, responsibility, compassion, self-discipline, perseverance, and giving. These virtues are taught through service learning projects, integrated into the curriculum, and fostered through the school climate.\",\n",
       " \"help students at-risk of not graduating earn a standard high school diploma and prepare for post-secondary success. Their purpose is to provide any student with an achievable alternate pathway to a high school diploma and post-secondary success when the standard approach doesn't meet their needs. They believe that all students can learn and strive to deliver a learning experience that fits the individual and an environment that supports their growth. The school's pillars include being flexible, personalized, and supportive. They offer flexible scheduling, a mastery-based curriculum, personalized assessments and instruction, and supportive staff and social services.\",\n",
       " 'is a student-centered focus on the whole child, designing the curriculum with the needs of the students at the forefront.',\n",
       " 'is to empower the whole child to excel academically and socially through rigorous instruction, daily wellness practices, and community engagement within a peaceful environment. The school aims to launch students into the community as intellectually curious, healthy, and engaged citizens who are prepared for the future.',\n",
       " 'students is to cultivate the next generation of innovators, problem solvers, and critical thinkers through a dynamic curriculum that embraces a hands-on, interdisciplinary approach, fosters curiosity, creativity, and collaboration, and empowers students to connect concepts, solve real-world problems, and embrace the challenges of an ever-evolving world.',\n",
       " 'is to educate and nurture the whole child, focusing on character, ethics, service, physical, and emotional health in a creative and positive environment that enhances learning and growing. The school aims to provide a quality education in a caring, supportive, and inclusive environment, promoting strong community and fostering respect, supportive relationships, and active parental involvement. Additionally, the school emphasizes college preparatory and career readiness, offering opportunities for students to research majors, colleges, and future career options, as well as providing counseling and support in setting and achieving future goals. Students also have the opportunity to take college coursework as early as tenth grade through partnerships with Belmont Abbey and Central Piedmont Community College.',\n",
       " 'is to provide a rigorous, accelerated, and differentiated experience for advanced learners. They aim to instill in students a lifelong sense of curiosity, passion, initiative, and tenacity, along with high expectations and the capacity to achieve them. They value the experience, talents, and dedication of their faculty and commit to supporting their growth and development as professionals. They also pledge to engage parents as partners in their mission with openness and fellowship. The school\\'s name, Telra, stands for \"Teleologic Education Leveraging Research Advances,\" reflecting their focus on connecting learning to the real world and using data-driven insights to improve education.',\n",
       " 'in the \"About Us\" section is to provide a caring and nurturing environment where students are valued for who they are. The school aims to help students build character, achieve excellence in academics, and prepare for a successful future. They are committed to excellence and want their students to not only compete locally but globally. The school also emphasizes the importance of character education and teaching virtues. They strive to create a small-school setting where personal relationships are developed with every student and family. The school is free and open to all students in the city.',\n",
       " 'is to provide unique and quality education, empower students to take ownership of their education, and maximize their potential as artists while excelling academically. The school believes in pushing the boundaries of traditional education and prioritizes hiring and developing great teachers. The curriculum focuses on building a strong foundation of basic skills and preparing students for acceptance to major universities. The goal is to create well-rounded, responsible, and confident individuals.',\n",
       " \"in the about us is to provide an interdisciplinary approach to teaching and learning, empower students to practice agency over their own learning, prepare students for the academic rigors of high school, and help students gain practical life skills and digital literacy. The school aims to create an ideal community for early adolescents, where students are individually known and intellectually challenged to become their best selves. The school also focuses on students' independence, social and emotional learning, and ongoing communication and engagement with families. Additionally, the school offers new opportunities and experiences for 7th and 8th graders, such as small business projects, sports teams, afterschool clubs, and travel experiences. The curriculum includes literature-based language arts and social studies, personalized math instruction, hands-on science investigations, and the development of entrepreneurial skills through the microeconomy program. The goal is for students to develop a love for reading, be prepared for high school, and become active participants in their community.\",\n",
       " \"students is to oversee and make improvements to the school's landscaped areas and surroundings by enhancing the beauty and overall aesthetics of the school's campus so it looks beautiful, inviting, and well-maintained. The purpose is to promote pride in the children and enjoyment for the school community and the extended community. The potential duties include researching projects and making recommendations for improvements, assisting with grounds maintenance, and ornamenting the school with tasteful seasonal decorations. There is also a separate committee formed for the Children's House.\",\n",
       " 'is to close the opportunity gap and prepare all students for college, careers, and life. The school aims to enhance teaching practices, provide engaging instructional strategies, and integrate Writing, Inquiry, Collaboration, Organization, and Reading (WICOR) into the educational experience. They offer an AVID program for high school students that focuses on accountability, mentoring, and leadership development. The program provides rigorous curriculum, academic and social support, and prepares students for college and career success.',\n",
       " \"The mission of Z.E.C.A. School of Arts and Technology is to provide a safe and nurturing environment for children by fostering a stimulating and educational atmosphere that promotes each child's unique social, emotional, physical, cultural, technological, and cognitive development with a strong emphasis on arts, diversity, and technology. Their vision is to meet and nurture students' academic needs to maximize their potential, accelerate their academic confidence, and prepare them for high school through academic success, social-emotional competence, and self-confidence and self-worth. They aim to help students re-engage in the school experience successfully and empower teachers to teach to the unique needs of each individual student. Their goals include achieving academic growth tailored to students' unique needs, incorporating students' cultural selves in the curriculum, and fostering academic engagement and motivation. They also focus on developing students' self-confidence, emotional management skills, and leadership skills to positively impact their community and become leaders in their community. \\n\",\n",
       " 'to be an excellent school choice that graduates students with skills to be successful and contribute to the global community. The mission of the school is to embrace the natural curiosity of children and empower them to become innovative problem solvers and community builders, and to provide excellent and innovative education to students through experiential project-based learning and focused curriculum.',\n",
       " 'We recognize that each child is uniquely different and may, at times, need special instruction and attention. We strive to meet the needs of our diverse community, sparking the learning desires of \\x93below average students\\x94 at risk of giving up on learning, challenging \\x93average students\\x94 to do their very best, and motivating \\x93above average students\\x94 to rise to their full potential.',\n",
       " 'is to prepare them with the M-related skills, knowledge, and attitudes needed to meet future challenges in the global workforce and their communities. This is achieved through foundational practices such as Standards Based Mastery Practices, Design Thinking Process, and Project/Problem Based Learning. The school also emphasizes inquiry through S.T.E.M. and utilizes student data protocols. For more information, please contact Caren Roberts Williams, Director of Testing and Data Services.',\n",
       " 'students is not provided in the extracted content.',\n",
       " 'surround students with a community of support and empower them to stay in school.',\n",
       " 'is to provide each student with a well-rounded education with an emphasis on mathematics and science, and to allow each student to reach their individual potential.',\n",
       " 'about the vision/mission of the school for students.',\n",
       " 'is to create safe classrooms and good citizens, provide a research-based program that promotes learning in a safe, challenged, and happy environment, implement project-based learning aligned with essential standards, and offer specials and electives that prepare students to lead healthy, well-balanced lives.',\n",
       " 'in the middle school is to provide a standards-based education program integrated with and supported by the Core KnowledgeÃ\\x82Â® curriculum. The curriculum includes core subjects such as language arts, history and geography, fine arts, mathematics, and natural sciences, as well as foreign language, technology computer skills, and physical education. The school also offers enrichment courses and opportunities for field trips and extracurricular activities. Students in grades K-8 are eligible for the Academically or Intellectually Gifted Program.',\n",
       " \"students is to build and maintain active and meaningful partnerships with students' families for the purpose of supporting student learning. It emphasizes the idea that all parties are equally invested in the student's educational experience and bring knowledge and skills of equal value to work together.\",\n",
       " 'is grounded in the classical tradition of the Western world, with a worldview that is grounded in truth, goodness, and beauty. The school aims to provide a high view of humanity and to engage both the intellect and the affections in the pursuit of truth, goodness, and beauty. The school also emphasizes the importance of meaningful relationships, a cohesive K-12 curriculum, and teaching the arts at all grade levels. The ultimate goal is to develop noble, happy human beings who understand their place in the world and strive to be their best.',\n",
       " 'in the \"About Us\" section is to aspire to be a leader in creating a more inclusive, just, and respectful world for children. They aim to foster a school culture that respects and embraces everyone, with a focus on areas such as unconscious biases, curiosity and sharing, psychological safety, connection and sense of belonging, open-mindedness, empathy, team-building, morale, and innovation. They have a Diversity and Inclusion Task Force that works towards goals in education and training, student services, faculty, staff, and student recruitment, and communications to the community. For more information, interested individuals can contact Sherryann Sylvestre. They also provide student services such as the Red Rocket\\'s Closet for uniforms and dress code apparel, and financial assistance through the Phil Hargett Memorial Fund.',\n",
       " 'to promote and foster thoughtful, caring, and creative students who are critical thinkers and problem solvers. The mission of the school is to provide students with a rigorous curriculum that aligns with the International Baccalaureate ideals and to create a nurturing environment where students demonstrate respect, responsibility, global mindedness, and commitment to academic and civic excellence. The school aims to develop students who are confident, prepared for future success, and who achieve their academic and social potential as lifelong learners in the 21st century. The school emphasizes global mindedness, diversity, and the development of critical foundational skills for lifelong learning. The mascot of Union Day School is the gryphon, symbolizing strength, courage, boldness, gentleness, vigilance, virtue, protection, dedication, and loyalty. The gryphon represents the well-roundedness of Union Day students and their pursuit of personal excellence.',\n",
       " \"UPA's mission is to offer a learning environment that is academically rigorous and enhanced with personalized learning plans to enable students to apply their knowledge of concepts and principles within a dynamic academic community.\",\n",
       " 'is to cultivate culture and wisdom in students through a classical academy curriculum that focuses on grammar, logic, and rhetoric. The school aims to provide a strong foundation in language arts, world history, American history, geography, visual arts, music, mathematics, and science through the Core Knowledge curriculum. Additionally, the school utilizes the Saxon Math teaching method for incremental learning of mathematics and the Shurley English program to develop competent writing skills. The school is committed to meeting the needs of all enrolled students and ensuring equal educational opportunities for every child. Students with special needs are provided with accommodations and services to support their learning.',\n",
       " \"is to educate and empower every student to purposefully determine their futures and prepare them for life beyond the classroom. The mission of the school is to provide rigorous student-centered career and technology-focused education that prepares graduates for post-high school employment and college success. The school aims to achieve this mission by providing personalized education, meeting the students' academic and career goals, and ensuring a nurturing environment. The core values of the school include reliability, integrity, commitment, and excellence.\",\n",
       " 'Our mission is to teach and inspire each child to become an independent thinker and a contributing citizen with a life-long desire to learn.',\n",
       " 'The Exploris School is a diverse learning community that engages students in a challenging, relevant, relationship-based education. Through experiential, project-based learning we empower students to foster a just and sustainable world.',\n",
       " 'is to value diverse perspectives and celebrate differences that honor every unique individual. The mission is to guide students in becoming responsible and engaged citizens of the world through ongoing education, open dialogue, self-reflection, and curricula that embrace diversity and inclusion. The school is committed to advocating for and engaging all community members around their multiple identities.',\n",
       " 'Council is to foster collaborative efforts of students to promote positive school climate and offer opportunities for leadership, community service, and scholarship.',\n",
       " 'is to create a stimulating, safe, and successful developmentally appropriate learning environment where academic achievement exceeds state standards through the cooperative involvement of students, parents, community, and staff.',\n",
       " 'students is to engage in community service, which provides students with the opportunity to become active members of their community and has a lasting, positive impact on society at large. Community service helps students acquire life skills, teamwork, communication skills, leadership skills, and problem-solving skills. The school requires students to complete a certain number of community service hours each year, with 15 hours for grades 6 and 7 and 30 hours for grades 9, 10, 11, and 12.',\n",
       " \"to educate students using the Montessori philosophy and Spanish language acquisition in a way that develops independent, self-motivated individuals who possess the critical thinking skills necessary to become responsible global citizens. The vision is to provide social, emotional, cognitive, and academic benefits to build a foundation for lifelong success and to strengthen students' skills in leadership and critical thinking.\",\n",
       " 'is to engage K-8 students by integrating a challenging, hands-on academic program with multi-faceted fine arts courses in a familial environment.',\n",
       " 'is to create a safe, inclusive, and respectful school community of authentic learners who pursue knowledge with a creative, thorough, and rigorous approach that creates quality work of the highest merit. The mission of the school is to develop students into confident, responsible, and successful contributors in college, career, and community through mentorship and challenging curriculum that integrates academics and the fine arts.',\n",
       " 'students is to create and operate high quality schools with an unwavering dedication to student achievement, unyielding commitment to ethical and sound business practices, and providing choice for communities, parents, students, and professionals that fosters educational excellence in America. The school also focuses on guaranteed and viable curriculum, community-centered academic programming, community of character, individualized approach to learning, and parental involvement. Additionally, the school encourages students in grades K-8 to learn new languages through their world language curriculum.',\n",
       " \"help students at-risk of not graduating earn a standard high school diploma and prepare for post-secondary success. Their purpose is to provide any student with an achievable alternate pathway to a high school diploma and post-secondary success when the standard approach doesn't meet their needs. They believe that all students can learn and strive to deliver a learning experience that fits the individual and an environment that supports their growth. Their pillars include being flexible, personalized, and supportive. They offer flexible scheduling, a mastery-based curriculum, personalized assessments and instruction, and supportive staff and social services.\",\n",
       " 'students is to inspire and educate the whole child, embracing differences through a rigorous academic program and hands-on curriculum. The school aims to help students think critically, listen with discernment, and communicate effectively, fostering their personal growth and development as great American citizens.',\n",
       " \"is to nurture each student's head, heart, and hands with equal care and intention, striving to cultivate their innate social, physical, intellectual, creative, and emotional abilities. They aim to create child-centered classrooms and lessons that encourage joy, imagination, confidence, and growth, while prioritizing physical activity throughout the school day. They also strive for the strategic integration of electronics only when and where they are developmentally appropriate and use music, dance, handwork, performance, and each child's innate creativity to enrich their lessons and deepen understanding. They aim to provide an active, supportive, engaging learning environment for administrators, faculty, parents, students, and community partners, and to represent the beautiful diversity of their city and state by welcoming students and staff from all backgrounds and offering free education for all.\",\n",
       " 'students is to create and operate high quality schools with an unwavering dedication to student achievement, unyielding commitment to ethical and sound business practices, and providing choice for communities, parents, students, and professionals that fosters educational excellence in America. The school also focuses on guaranteed and viable curriculum, community-centered academic programming, community of character, individualized approach to learning, and meaningful parental involvement. Additionally, the school encourages students in grades K-8 to learn new languages.',\n",
       " 'students is to prepare students for high academic performance, stimulate their lifelong love of math and science, and create new pathways for them to pursue academic and professional careers in the fields of Math, Science, Engineering, and Technology.',\n",
       " 'students is to provide an excellent learning environment and enhance the experience for students academically, socially, and physically. The school aims to promote open communication and assistance between teachers, parents, and students, and to create a positive community within the school. The Parent-Teacher Organization (PTO) plays a key role in planning, funding, and supporting programs and activities that make the school special. The PTO also organizes social events and fundraisers to provide supplemental educational materials and experiences for the students.',\n",
       " 'School is to provide high-quality education through academics, technology, and community involvement, with the integration of American Indian culture. The goal is for students to become positive, productive citizens in an ever-changing global society. The school aims to prepare students for the world outside of their school and community, ensuring they are able to become strong members of their community and the workforce. The faculty, staff, and administration are committed to providing excellence in academics and serving as positive role models for the students. The school also values the strength of their history and aims to inspire others through sharing it.',\n",
       " \"students is to provide high quality education preparing today's students for tomorrow's world with a solid foundation to become respectful and productive citizens, focusing on regional agriculture and related industries. Their goal is to provide the best educational experience for their students and their families in the entire region, with a focus on building a solid knowledge base and developing skills necessary for future success.\",\n",
       " 'is that all children will learn if they are taught carefully, and careful instruction includes teaching children at their instructional level. The school believes that learning is a function of instruction, not a function of the learner, and that academic decisions should prioritize the needs of the scholars rather than the needs of adults.',\n",
       " 'We foster a culture of literacy. In all subject areas, students are expected to read with purpose, produce high-quality writing, and communicate effectively with audiences both inside and outside the classroom. Students learn to be thoughtful in making assumptions, accurate when collecting information, insightful when drawing conclusions, and unbiased when supporting statements with evidence.',\n",
       " 'High standards and quality instruction support a learning environment where achievement thrives and where students are instilled with a commitment to academic excellence and personal responsibility.',\n",
       " 'To ensure that all students master the academic basics and develop principled centered lives, to foster in every student an ability to think, understand and communicate, to imbue to them a deep sense of individual responsibility, and to develop an appreciation for the dignity of work.',\n",
       " 'Our school develops students into critical thinkers, active collaborators, and eager contributors to their learning, thereby imparting students with the skills to excel in college, careers, and life.',\n",
       " 'In support of the family, provide the best educational experience to as many students as possible in a moral and wholesome environment.',\n",
       " 'We provide students a strong moral focus program and a rigorous college-prep education. Our goal is for students to develop the moral strength, knowledge, and skills they need to succeed in college, work, and life.']"
      ]
     },
     "execution_count": 131,
     "metadata": {},
     "output_type": "execute_result"
    }
   ],
   "source": [
    "list_content_cluster_0=list(complete_emebed_party.mission_statement_experiment[complete_emebed_party.Cluster_experiment == 0])\n",
    "list_content_cluster_0"
   ]
  },
  {
   "cell_type": "code",
   "execution_count": 133,
   "metadata": {},
   "outputs": [],
   "source": [
    "complete_emebed_party.to_csv('../processed_data/complete_with_experiment.csv' , index=False)"
   ]
  },
  {
   "cell_type": "code",
   "execution_count": null,
   "metadata": {},
   "outputs": [],
   "source": []
  }
 ],
 "metadata": {
  "kernelspec": {
   "display_name": "charter",
   "language": "python",
   "name": "python3"
  },
  "language_info": {
   "codemirror_mode": {
    "name": "ipython",
    "version": 3
   },
   "file_extension": ".py",
   "mimetype": "text/x-python",
   "name": "python",
   "nbconvert_exporter": "python",
   "pygments_lexer": "ipython3",
   "version": "3.10.10"
  },
  "orig_nbformat": 4
 },
 "nbformat": 4,
 "nbformat_minor": 2
}
