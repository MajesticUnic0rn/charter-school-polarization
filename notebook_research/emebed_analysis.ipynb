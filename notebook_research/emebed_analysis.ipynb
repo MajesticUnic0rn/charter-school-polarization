{
 "cells": [
  {
   "cell_type": "code",
   "execution_count": 6,
   "metadata": {},
   "outputs": [],
   "source": [
    "# import packages\n",
    "import matplotlib.pyplot as plt\n",
    "from sklearn.manifold import TSNE\n",
    "import plotly.express as px\n",
    "import numpy as np\n",
    "import pandas as pd"
   ]
  },
  {
   "cell_type": "code",
   "execution_count": 7,
   "metadata": {},
   "outputs": [],
   "source": [
    "import pandas as pd \n",
    "import numpy as np\n",
    "import openai\n",
    "import os\n",
    "import langchain\n",
    "import faiss # defunct needs to be removed\n",
    "from langchain.vectorstores import FAISS # defunct needs to be removed\n",
    "from langchain.vectorstores import Chroma\n",
    "from langchain.embeddings import OpenAIEmbeddings\n",
    "from langchain.text_splitter import CharacterTextSplitter\n",
    "import pickle\n",
    "from langchain.chat_models import ChatOpenAI\n",
    "#from langchain.chains import VectorDBQAWithSourcesChain\n",
    "from langchain.chains import RetrievalQAWithSourcesChain\n",
    "from langchain import OpenAI\n",
    "from langchain.vectorstores import Chroma\n",
    "import time\n",
    "\n",
    "import matplotlib\n",
    "\n",
    "import dotenv\n",
    "from dotenv import load_dotenv\n",
    "load_dotenv()\n",
    "# load the .env file\n",
    "dotenv.load_dotenv()\n",
    "# add the api key to the environment\n",
    "openai.api_key = os.environ[\"OPENAI_API_KEY\"]\n"
   ]
  },
  {
   "cell_type": "code",
   "execution_count": 8,
   "metadata": {},
   "outputs": [],
   "source": [
    "#import data \n",
    "complete_emebed_party = pd.read_csv('../processed_data/complete_emebed_party.csv')"
   ]
  },
  {
   "cell_type": "code",
   "execution_count": 9,
   "metadata": {},
   "outputs": [
    {
     "data": {
      "text/plain": [
       "Index(['schoolname', 'mission_statement', 'mission_statement_shorten',\n",
       "       'ada_embedding', 'countydescription', 'political_afil',\n",
       "       'extract_name_clean_list', 'principal/directoremail', 'website',\n",
       "       'board_of_directors_link', 'link_domain_match', 'director_first_last',\n",
       "       'cleaner_names', 'zipcode', 'political_affilation', 'postal_code',\n",
       "       'latitude', 'longitude', 'count_dem', 'count_rep', 'count_una',\n",
       "       'district_count_dem', 'district_count_rep', 'district_count_una',\n",
       "       'charter_majority_party', 'district_majority_party'],\n",
       "      dtype='object')"
      ]
     },
     "execution_count": 9,
     "metadata": {},
     "output_type": "execute_result"
    }
   ],
   "source": [
    "complete_emebed_party.columns"
   ]
  },
  {
   "cell_type": "code",
   "execution_count": 10,
   "metadata": {},
   "outputs": [
    {
     "data": {
      "text/html": [
       "<div>\n",
       "<style scoped>\n",
       "    .dataframe tbody tr th:only-of-type {\n",
       "        vertical-align: middle;\n",
       "    }\n",
       "\n",
       "    .dataframe tbody tr th {\n",
       "        vertical-align: top;\n",
       "    }\n",
       "\n",
       "    .dataframe thead th {\n",
       "        text-align: right;\n",
       "    }\n",
       "</style>\n",
       "<table border=\"1\" class=\"dataframe\">\n",
       "  <thead>\n",
       "    <tr style=\"text-align: right;\">\n",
       "      <th></th>\n",
       "      <th>schoolname</th>\n",
       "      <th>mission_statement</th>\n",
       "      <th>mission_statement_shorten</th>\n",
       "      <th>ada_embedding</th>\n",
       "      <th>countydescription</th>\n",
       "      <th>political_afil</th>\n",
       "      <th>extract_name_clean_list</th>\n",
       "      <th>principal/directoremail</th>\n",
       "      <th>website</th>\n",
       "      <th>board_of_directors_link</th>\n",
       "      <th>...</th>\n",
       "      <th>latitude</th>\n",
       "      <th>longitude</th>\n",
       "      <th>count_dem</th>\n",
       "      <th>count_rep</th>\n",
       "      <th>count_una</th>\n",
       "      <th>district_count_dem</th>\n",
       "      <th>district_count_rep</th>\n",
       "      <th>district_count_una</th>\n",
       "      <th>charter_majority_party</th>\n",
       "      <th>district_majority_party</th>\n",
       "    </tr>\n",
       "  </thead>\n",
       "  <tbody>\n",
       "    <tr>\n",
       "      <th>0</th>\n",
       "      <td>North Carolina Cyber Academy</td>\n",
       "      <td>The mission of the school is to ensure that ea...</td>\n",
       "      <td>NaN</td>\n",
       "      <td>[-0.022048141807317734, 0.012611066922545433, ...</td>\n",
       "      <td>Durham</td>\n",
       "      <td>['DEM', 'UNA', 'DEM', 'DEM', 'DEM', 'DEM', 'DEM']</td>\n",
       "      <td>['Bettina Umstead', ' Emily Chavez', ' Natalie...</td>\n",
       "      <td>mhill@myncca.com</td>\n",
       "      <td>myncca.com</td>\n",
       "      <td>https://www.myncca.com/our-school-board</td>\n",
       "      <td>...</td>\n",
       "      <td>35.9112</td>\n",
       "      <td>-78.9178</td>\n",
       "      <td>5</td>\n",
       "      <td>2</td>\n",
       "      <td>0</td>\n",
       "      <td>6</td>\n",
       "      <td>0</td>\n",
       "      <td>1</td>\n",
       "      <td>Democrat</td>\n",
       "      <td>Democrat</td>\n",
       "    </tr>\n",
       "    <tr>\n",
       "      <th>1</th>\n",
       "      <td>NC Virtual Academy</td>\n",
       "      <td>The vision of the school is to be a rich schoo...</td>\n",
       "      <td>The mission statement of the school for studen...</td>\n",
       "      <td>[0.0047307563945651054, 0.0009017903357744217,...</td>\n",
       "      <td>Durham</td>\n",
       "      <td>['DEM', 'UNA', 'DEM', 'DEM', 'DEM', 'DEM', 'DEM']</td>\n",
       "      <td>['Bettina Umstead', ' Emily Chavez', ' Natalie...</td>\n",
       "      <td>kgomersall@ncvacademy.org</td>\n",
       "      <td>ncvacademy.org</td>\n",
       "      <td>https://ncva.k12.com/about-our-school/board-of...</td>\n",
       "      <td>...</td>\n",
       "      <td>35.9112</td>\n",
       "      <td>-78.9178</td>\n",
       "      <td>2</td>\n",
       "      <td>2</td>\n",
       "      <td>2</td>\n",
       "      <td>6</td>\n",
       "      <td>0</td>\n",
       "      <td>1</td>\n",
       "      <td>Tie</td>\n",
       "      <td>Democrat</td>\n",
       "    </tr>\n",
       "    <tr>\n",
       "      <th>2</th>\n",
       "      <td>Maureen Joy Charter School</td>\n",
       "      <td>The vision/mission of the school for students ...</td>\n",
       "      <td>The mission statement of the school for studen...</td>\n",
       "      <td>[-0.006839691661298275, 0.003196117701008916, ...</td>\n",
       "      <td>Durham</td>\n",
       "      <td>['DEM', 'UNA', 'DEM', 'DEM', 'DEM', 'DEM', 'DEM']</td>\n",
       "      <td>['Bettina Umstead', ' Emily Chavez', ' Natalie...</td>\n",
       "      <td>Dcannon@joycharter.org</td>\n",
       "      <td>joycharter.org</td>\n",
       "      <td>https://www.joycharter.org/board</td>\n",
       "      <td>...</td>\n",
       "      <td>35.9781</td>\n",
       "      <td>-78.8439</td>\n",
       "      <td>6</td>\n",
       "      <td>1</td>\n",
       "      <td>2</td>\n",
       "      <td>6</td>\n",
       "      <td>0</td>\n",
       "      <td>1</td>\n",
       "      <td>Democrat</td>\n",
       "      <td>Democrat</td>\n",
       "    </tr>\n",
       "    <tr>\n",
       "      <th>3</th>\n",
       "      <td>Durham Charter School</td>\n",
       "      <td>The vision of Durham Charter School is to prep...</td>\n",
       "      <td>The mission statement of Durham Charter School...</td>\n",
       "      <td>[0.007524167187511921, 0.00907169096171856, -0...</td>\n",
       "      <td>Durham</td>\n",
       "      <td>['DEM', 'UNA', 'DEM', 'DEM', 'DEM', 'DEM', 'DEM']</td>\n",
       "      <td>['Bettina Umstead', ' Emily Chavez', ' Natalie...</td>\n",
       "      <td>aquigley@durhamcharter.org</td>\n",
       "      <td>durhamcharter.org</td>\n",
       "      <td>https://www.durhamcharter.org/board-of-directors/</td>\n",
       "      <td>...</td>\n",
       "      <td>35.9967</td>\n",
       "      <td>-78.8966</td>\n",
       "      <td>2</td>\n",
       "      <td>4</td>\n",
       "      <td>4</td>\n",
       "      <td>6</td>\n",
       "      <td>0</td>\n",
       "      <td>1</td>\n",
       "      <td>Republican</td>\n",
       "      <td>Democrat</td>\n",
       "    </tr>\n",
       "    <tr>\n",
       "      <th>4</th>\n",
       "      <td>Community School of Digital &amp; Visual Art</td>\n",
       "      <td>The mission of the school is to build students...</td>\n",
       "      <td>The mission statement of the school for studen...</td>\n",
       "      <td>[-0.001325286808423698, 0.011081067845225334, ...</td>\n",
       "      <td>Durham</td>\n",
       "      <td>['DEM', 'UNA', 'DEM', 'DEM', 'DEM', 'DEM', 'DEM']</td>\n",
       "      <td>['Bettina Umstead', ' Emily Chavez', ' Natalie...</td>\n",
       "      <td>OAdeniyi@communitydva.org</td>\n",
       "      <td>communitydva.org</td>\n",
       "      <td>https://www.communitydva.org/</td>\n",
       "      <td>...</td>\n",
       "      <td>36.0218</td>\n",
       "      <td>-78.9478</td>\n",
       "      <td>5</td>\n",
       "      <td>0</td>\n",
       "      <td>1</td>\n",
       "      <td>6</td>\n",
       "      <td>0</td>\n",
       "      <td>1</td>\n",
       "      <td>Democrat</td>\n",
       "      <td>Democrat</td>\n",
       "    </tr>\n",
       "  </tbody>\n",
       "</table>\n",
       "<p>5 rows × 26 columns</p>\n",
       "</div>"
      ],
      "text/plain": [
       "                                 schoolname  \\\n",
       "0              North Carolina Cyber Academy   \n",
       "1                        NC Virtual Academy   \n",
       "2                Maureen Joy Charter School   \n",
       "3                     Durham Charter School   \n",
       "4  Community School of Digital & Visual Art   \n",
       "\n",
       "                                   mission_statement  \\\n",
       "0  The mission of the school is to ensure that ea...   \n",
       "1  The vision of the school is to be a rich schoo...   \n",
       "2  The vision/mission of the school for students ...   \n",
       "3  The vision of Durham Charter School is to prep...   \n",
       "4  The mission of the school is to build students...   \n",
       "\n",
       "                           mission_statement_shorten  \\\n",
       "0                                                NaN   \n",
       "1  The mission statement of the school for studen...   \n",
       "2  The mission statement of the school for studen...   \n",
       "3  The mission statement of Durham Charter School...   \n",
       "4  The mission statement of the school for studen...   \n",
       "\n",
       "                                       ada_embedding countydescription  \\\n",
       "0  [-0.022048141807317734, 0.012611066922545433, ...            Durham   \n",
       "1  [0.0047307563945651054, 0.0009017903357744217,...            Durham   \n",
       "2  [-0.006839691661298275, 0.003196117701008916, ...            Durham   \n",
       "3  [0.007524167187511921, 0.00907169096171856, -0...            Durham   \n",
       "4  [-0.001325286808423698, 0.011081067845225334, ...            Durham   \n",
       "\n",
       "                                      political_afil  \\\n",
       "0  ['DEM', 'UNA', 'DEM', 'DEM', 'DEM', 'DEM', 'DEM']   \n",
       "1  ['DEM', 'UNA', 'DEM', 'DEM', 'DEM', 'DEM', 'DEM']   \n",
       "2  ['DEM', 'UNA', 'DEM', 'DEM', 'DEM', 'DEM', 'DEM']   \n",
       "3  ['DEM', 'UNA', 'DEM', 'DEM', 'DEM', 'DEM', 'DEM']   \n",
       "4  ['DEM', 'UNA', 'DEM', 'DEM', 'DEM', 'DEM', 'DEM']   \n",
       "\n",
       "                             extract_name_clean_list  \\\n",
       "0  ['Bettina Umstead', ' Emily Chavez', ' Natalie...   \n",
       "1  ['Bettina Umstead', ' Emily Chavez', ' Natalie...   \n",
       "2  ['Bettina Umstead', ' Emily Chavez', ' Natalie...   \n",
       "3  ['Bettina Umstead', ' Emily Chavez', ' Natalie...   \n",
       "4  ['Bettina Umstead', ' Emily Chavez', ' Natalie...   \n",
       "\n",
       "      principal/directoremail            website  \\\n",
       "0            mhill@myncca.com         myncca.com   \n",
       "1   kgomersall@ncvacademy.org     ncvacademy.org   \n",
       "2      Dcannon@joycharter.org     joycharter.org   \n",
       "3  aquigley@durhamcharter.org  durhamcharter.org   \n",
       "4   OAdeniyi@communitydva.org   communitydva.org   \n",
       "\n",
       "                             board_of_directors_link  ...  latitude longitude  \\\n",
       "0            https://www.myncca.com/our-school-board  ...   35.9112  -78.9178   \n",
       "1  https://ncva.k12.com/about-our-school/board-of...  ...   35.9112  -78.9178   \n",
       "2                   https://www.joycharter.org/board  ...   35.9781  -78.8439   \n",
       "3  https://www.durhamcharter.org/board-of-directors/  ...   35.9967  -78.8966   \n",
       "4                      https://www.communitydva.org/  ...   36.0218  -78.9478   \n",
       "\n",
       "  count_dem  count_rep count_una  district_count_dem  district_count_rep  \\\n",
       "0         5          2         0                   6                   0   \n",
       "1         2          2         2                   6                   0   \n",
       "2         6          1         2                   6                   0   \n",
       "3         2          4         4                   6                   0   \n",
       "4         5          0         1                   6                   0   \n",
       "\n",
       "   district_count_una  charter_majority_party  district_majority_party  \n",
       "0                   1                Democrat                 Democrat  \n",
       "1                   1                     Tie                 Democrat  \n",
       "2                   1                Democrat                 Democrat  \n",
       "3                   1              Republican                 Democrat  \n",
       "4                   1                Democrat                 Democrat  \n",
       "\n",
       "[5 rows x 26 columns]"
      ]
     },
     "execution_count": 10,
     "metadata": {},
     "output_type": "execute_result"
    }
   ],
   "source": [
    "complete_emebed_party.head()"
   ]
  },
  {
   "cell_type": "code",
   "execution_count": 11,
   "metadata": {},
   "outputs": [],
   "source": [
    "# Create a t-SNE model and transform the data\n",
    "complete_emebed_party['ada_embedding'] = complete_emebed_party['ada_embedding'].apply(eval)\n",
    "embeddings = np.stack(complete_emebed_party['ada_embedding'].values)  # convert embeddings to numpy array\n",
    "school_names = complete_emebed_party['schoolname'].values\n",
    "charter_pol_affiliation = complete_emebed_party['charter_majority_party'].values  # replace with actual column name\n",
    "district_pol_affiliation = complete_emebed_party['district_majority_party'].values  # replace with actual column name\n",
    "country_description = complete_emebed_party['countydescription'].values\n",
    "\n",
    "# Apply t-SNE to the embeddings\n",
    "tsne = TSNE(n_components=2, random_state=42)\n",
    "embeddings_2d = tsne.fit_transform(embeddings)\n",
    "\n",
    "# Convert the 2D embeddings to a DataFrame\n",
    "df_2d = pd.DataFrame(embeddings_2d, columns=['x', 'y'])\n",
    "df_2d['schoolname'] = school_names\n",
    "df_2d['charter_political_affiliation'] = charter_pol_affiliation\n",
    "df_2d['district_political_affiliation'] = district_pol_affiliation\n",
    "df_2d['countydescription'] = country_description\n",
    "\n",
    "#define color scheme \n",
    "color_discrete_map = {'Democrat':'blue', 'Republican':'red', 'Tie': 'green'}"
   ]
  },
  {
   "cell_type": "code",
   "execution_count": 12,
   "metadata": {},
   "outputs": [
    {
     "data": {
      "application/vnd.plotly.v1+json": {
       "config": {
        "plotlyServerURL": "https://plot.ly"
       },
       "data": [
        {
         "customdata": [
          [
           "North Carolina Cyber Academy",
           "Democrat",
           "Durham"
          ],
          [
           "Maureen Joy Charter School",
           "Democrat",
           "Durham"
          ],
          [
           "Community School of Digital & Visual Art",
           "Democrat",
           "Durham"
          ],
          [
           "Kestrel Heights School",
           "Democrat",
           "Durham"
          ],
          [
           "Voyager Academy",
           "Democrat",
           "Durham"
          ],
          [
           "Global Scholars Academy",
           "Democrat",
           "Durham"
          ],
          [
           "The Institute Development Young Leaders",
           "Democrat",
           "Durham"
          ],
          [
           "Reaching All Minds Academy",
           "Democrat",
           "Durham"
          ],
          [
           "River Mill Academy",
           "Tie",
           "Alamance"
          ],
          [
           "The Hawbridge School",
           "Tie",
           "Alamance"
          ],
          [
           "Alamance Community School",
           "Tie",
           "Alamance"
          ],
          [
           "Emereau: Bladen",
           "Tie",
           "Bladen"
          ],
          [
           "ArtSpace Charter School",
           "Tie",
           "Buncombe"
          ],
          [
           "IC Imagine ",
           "Tie",
           "Buncombe"
          ],
          [
           "Francine Delany New School",
           "Tie",
           "Buncombe"
          ],
          [
           "Carolina International School",
           "Tie",
           "Cabarrus"
          ],
          [
           "A.C.E. Academy",
           "Tie",
           "Cabarrus"
          ],
          [
           "Tiller School",
           "Republican",
           "Carteret"
          ],
          [
           "Willow Oak Montessori",
           "Democrat",
           "Chatham"
          ],
          [
           "Woods Charter",
           "Democrat",
           "Chatham"
          ],
          [
           "Alpha Academy",
           "Democrat",
           "Cumberland"
          ],
          [
           "The Capitol Encore Academy",
           "Democrat",
           "Cumberland"
          ],
          [
           "Water's Edge Village School",
           "Republican",
           "Currituck"
          ],
          [
           "North East Carolina Prep",
           "Democrat",
           "Edgecombe"
          ],
          [
           "Quality Education Academy",
           "Republican",
           "Forsyth"
          ],
          [
           "Carter G. Woodson School",
           "Republican",
           "Forsyth"
          ],
          [
           "Mountain Island Charter School",
           "Republican",
           "Gaston"
          ],
          [
           "Ridgeview Charter School",
           "Republican",
           "Gaston"
          ],
          [
           "Community Public Charter",
           "Republican",
           "Gaston"
          ],
          [
           "Oxford Preparatory",
           "Tie",
           "Granville"
          ],
          [
           "Guilford Preparatory Academy",
           "Democrat",
           "Guilford"
          ],
          [
           "Triad Math and Science Academy",
           "Democrat",
           "Guilford"
          ],
          [
           "Next Generation Academy",
           "Democrat",
           "Guilford"
          ],
          [
           "The Experiential School of Greensboro",
           "Democrat",
           "Guilford"
          ],
          [
           "KIPP Halifax College Preparatory",
           "Democrat",
           "Halifax"
          ],
          [
           "KIPP Charlotte",
           "Democrat",
           "Mecklenburg"
          ],
          [
           "Hobgood Charter School",
           "Democrat",
           "Halifax"
          ],
          [
           "FernLeaf",
           "Republican",
           "Henderson"
          ],
          [
           "Pine Lake Preparatory",
           "Republican",
           "Iredell"
          ],
          [
           "MINA Charter School of Lee County",
           "Democrat",
           "Lee"
          ],
          [
           "Children's Village Academy",
           "Democrat",
           "Lenoir"
          ],
          [
           "West Lake Preparatory Academy",
           "Republican",
           "Lincoln"
          ],
          [
           "Lake Norman Charter",
           "Democrat",
           "Mecklenburg"
          ],
          [
           "Socrates Academy",
           "Democrat",
           "Mecklenburg"
          ],
          [
           "Invest Collegiate Transform",
           "Democrat",
           "Mecklenburg"
          ],
          [
           "Commonwealth High",
           "Democrat",
           "Mecklenburg"
          ],
          [
           "Pioneer Springs Community School",
           "Democrat",
           "Mecklenburg"
          ],
          [
           "United Community School",
           "Democrat",
           "Mecklenburg"
          ],
          [
           "Stewart Creek High",
           "Democrat",
           "Mecklenburg"
          ],
          [
           "Charlotte Lab School",
           "Democrat",
           "Mecklenburg"
          ],
          [
           "TMSA Charlotte",
           "Democrat",
           "Mecklenburg"
          ],
          [
           "Telra Institute",
           "Democrat",
           "Mecklenburg"
          ],
          [
           "Moore Montessori Community School",
           "Tie",
           "Moore"
          ],
          [
           "Cape Fear Center for Inquiry",
           "Republican",
           "New Hanover"
          ],
          [
           "Wilmington Preparatory Academy",
           "Republican",
           "New Hanover"
          ],
          [
           "Wilmington School of the Arts",
           "Republican",
           "New Hanover"
          ],
          [
           "Z.E.C.A. School of Arts and Technology",
           "Republican",
           "Onslow"
          ],
          [
           "Northeast Academy of Aerospace & AdvTech",
           "Democrat",
           "Pasquotank"
          ],
          [
           "Henderson Collegiate",
           "Democrat",
           "Vance"
          ],
          [
           "The Exploris School",
           "Republican",
           "Wake"
          ],
          [
           "Sterling Montessori Academy",
           "Republican",
           "Wake"
          ],
          [
           "Raleigh Charter High School",
           "Republican",
           "Wake"
          ],
          [
           "Casa Esperanza Montessori Charter School",
           "Republican",
           "Wake"
          ],
          [
           "Endeavor Charter School",
           "Republican",
           "Wake"
          ],
          [
           "Triangle Math and Science Academy",
           "Republican",
           "Wake"
          ],
          [
           "Longleaf School of the Arts",
           "Republican",
           "Wake"
          ],
          [
           "Envision Science Academy",
           "Republican",
           "Wake"
          ],
          [
           "Central Wake High School",
           "Republican",
           "Wake"
          ],
          [
           "The Math and Science Academy of Apex",
           "Republican",
           "Wake"
          ],
          [
           "Haliwa-Saponi Tribal School",
           "Democrat",
           "Warren"
          ],
          [
           "Wilson Preparatory Academy",
           "Democrat",
           "Wilson"
          ],
          [
           "Wake Forest Charter Academy",
           "Republican",
           "Wake"
          ],
          [
           "Sugar Creek Charter",
           "Democrat",
           "Mecklenburg"
          ],
          [
           "Central Park School For Child",
           "Democrat",
           "Durham"
          ],
          [
           "KIPP Durham College Preparatory",
           "Democrat",
           "Durham"
          ],
          [
           "KIPP Gaston College Preparatory",
           "Democrat",
           "Northampton"
          ],
          [
           "Winterville Charter Academy",
           "Democrat",
           "Pitt"
          ],
          [
           "Forsyth Academy",
           "Republican",
           "Forsyth"
          ],
          [
           "Asheville PEAK Academy",
           "Tie",
           "Buncombe"
          ],
          [
           "Evergreen Community Charter",
           "Tie",
           "Buncombe"
          ],
          [
           "Piedmont Classical High School",
           "Democrat",
           "Guilford"
          ],
          [
           "Tillery Charter Academy",
           "Republican",
           "Montgomery"
          ],
          [
           "Paul R. Brown Leadership Academy",
           "Tie",
           "Bladen"
          ],
          [
           "Two Rivers Community School",
           "Tie",
           "Watauga"
          ],
          [
           "Mountain Discovery",
           "Republican",
           "Swain"
          ],
          [
           "RISE Southeast Raleigh Charter",
           "Republican",
           "Wake"
          ],
          [
           "PreEminent Charter",
           "Republican",
           "Wake"
          ]
         ],
         "hovertemplate": "charter_political_affiliation=Democrat<br>x=%{x}<br>y=%{y}<br>schoolname=%{customdata[0]}<br>district_political_affiliation=%{customdata[1]}<br>countydescription=%{customdata[2]}<extra></extra>",
         "legendgroup": "Democrat",
         "marker": {
          "color": "blue",
          "symbol": "circle"
         },
         "mode": "markers",
         "name": "Democrat",
         "orientation": "v",
         "showlegend": true,
         "type": "scatter",
         "x": [
          -5.9678778648376465,
          -5.109218597412109,
          -5.294691562652588,
          -12.085917472839355,
          -5.819103717803955,
          -4.778939247131348,
          -9.005987167358398,
          -3.186337471008301,
          -0.12611408531665802,
          -2.5245134830474854,
          -1.516463279724121,
          -3.137054681777954,
          0.8981805443763733,
          -3.460073471069336,
          -4.008695602416992,
          5.02237606048584,
          -2.6228749752044678,
          -0.3670192360877991,
          -5.774202823638916,
          12.29245662689209,
          2.4466712474823,
          1.5430107116699219,
          -9.494245529174805,
          5.38203239440918,
          -6.712580680847168,
          12.837700843811035,
          7.247232913970947,
          3.5860610008239746,
          -0.7287887334823608,
          -2.3745782375335693,
          -3.7373406887054443,
          4.240096569061279,
          0.9669196009635925,
          9.49636173248291,
          5.13495397567749,
          5.137234210968018,
          12.450652122497559,
          -1.8742133378982544,
          6.468509197235107,
          8.142488479614258,
          -3.206386089324951,
          7.032441139221191,
          7.4585347175598145,
          -6.264066696166992,
          -3.2056725025177,
          -12.712418556213379,
          -9.653148651123047,
          -0.4212239682674408,
          -12.70761489868164,
          -1.9206076860427856,
          4.984116077423096,
          -5.827939510345459,
          -2.5876028537750244,
          7.718313217163086,
          7.505709648132324,
          0.16401757299900055,
          -1.2318459749221802,
          0.4145127534866333,
          -4.346060752868652,
          -9.788412094116211,
          -4.217029094696045,
          5.411149024963379,
          -5.980886459350586,
          -0.48647040128707886,
          4.284132957458496,
          -2.313931465148926,
          2.7313950061798096,
          -12.709671974182129,
          -7.04252815246582,
          -7.141058444976807,
          7.296125411987305,
          10.30361270904541,
          -5.885551452636719,
          -1.8871179819107056,
          9.546677589416504,
          9.555789947509766,
          10.396679878234863,
          -1.4129916429519653,
          4.219266414642334,
          12.213249206542969,
          2.1181602478027344,
          0.8927382230758667,
          3.947883367538452,
          -7.917572021484375,
          7.402247905731201,
          -5.524862289428711,
          10.495085716247559
         ],
         "xaxis": "x",
         "y": [
          -2.515301465988159,
          2.822366952896118,
          -3.337829828262329,
          -1.1032218933105469,
          9.215150833129883,
          1.3011854887008667,
          4.1639180183410645,
          0.19846747815608978,
          -4.370241165161133,
          1.818022608757019,
          -9.187614440917969,
          -3.8797755241394043,
          3.337646007537842,
          1.7138967514038086,
          2.385502815246582,
          -2.6497390270233154,
          2.420485258102417,
          2.8294761180877686,
          5.584057331085205,
          0.0007560444064438343,
          -8.26952838897705,
          1.906132698059082,
          -4.911843776702881,
          -2.908485174179077,
          -4.4908671379089355,
          -0.41231924295425415,
          4.665909290313721,
          0.6237510442733765,
          -1.1212102174758911,
          -2.6455776691436768,
          -1.0667637586593628,
          7.886144161224365,
          -5.2107672691345215,
          -4.850165843963623,
          0.31649601459503174,
          0.3156871795654297,
          1.0459506511688232,
          6.797411918640137,
          -7.427835464477539,
          0.05006018653512001,
          0.5507705211639404,
          -6.974465847015381,
          -0.08476023375988007,
          1.9738900661468506,
          -4.902813911437988,
          -4.54404354095459,
          1.194826364517212,
          0.5300559997558594,
          -4.54335880279541,
          0.05203097686171532,
          7.054821491241455,
          3.8869469165802,
          3.2896947860717773,
          -3.289233446121216,
          -6.293911933898926,
          3.898507595062256,
          4.283167839050293,
          6.779707431793213,
          -9.534225463867188,
          -2.7782657146453857,
          2.6066269874572754,
          1.3665564060211182,
          5.886789798736572,
          1.9066493511199951,
          7.844452381134033,
          1.4709160327911377,
          4.8859333992004395,
          -4.532573699951172,
          1.898771047592163,
          -1.0943273305892944,
          -6.518858432769775,
          -2.7853026390075684,
          -6.055276870727539,
          -6.616085529327393,
          -8.598915100097656,
          -8.613968849182129,
          -2.6975574493408203,
          -5.587339401245117,
          3.9423134326934814,
          1.0876771211624146,
          -3.8884689807891846,
          -3.632105588912964,
          -9.590010643005371,
          -6.464071273803711,
          4.208034038543701,
          -7.62701416015625,
          1.3082008361816406
         ],
         "yaxis": "y"
        },
        {
         "customdata": [
          [
           "NC Virtual Academy",
           "Democrat",
           "Durham"
          ],
          [
           "Excelsior Classical Academy",
           "Democrat",
           "Durham"
          ],
          [
           "Discovery Charter",
           "Democrat",
           "Durham"
          ],
          [
           "Washington Montessori",
           "Republican",
           "Beaufort"
          ],
          [
           "The Franklin School of Innovation",
           "Tie",
           "Buncombe"
          ],
          [
           "Oak Hill Charter School",
           "Republican",
           "Caldwell"
          ],
          [
           "Pinnacle Classical Academy",
           "Republican",
           "Cleveland"
          ],
          [
           "Thomas Academy",
           "Republican",
           "Columbus"
          ],
          [
           "The Arts Based School",
           "Republican",
           "Forsyth"
          ],
          [
           "Crosscreek Charter School",
           "Democrat",
           "Franklin"
          ],
          [
           "Wake Preparatory Academy",
           "Democrat",
           "Franklin"
          ],
          [
           "Phoenix Academy - Primary, Elem, Upper",
           "Democrat",
           "Guilford"
          ],
          [
           "Johnston Charter Academy",
           "Republican",
           "Johnston"
          ],
          [
           "Rolesville Charter Academy",
           "Republican",
           "Wake"
          ],
          [
           "Cornerstone Charter Academy-CFA",
           "Democrat",
           "Guilford"
          ],
          [
           "College Prep and Leadership Academy",
           "Democrat",
           "Guilford"
          ],
          [
           "Achievement Charter Academy",
           "Democrat",
           "Harnett"
          ],
          [
           "The Mountain Community Sch",
           "Republican",
           "Henderson"
          ],
          [
           "American Renaissance School",
           "Republican",
           "Iredell"
          ],
          [
           "Success Institute Charter",
           "Republican",
           "Iredell"
          ],
          [
           "Metrolina Reg Scholars Academy",
           "Democrat",
           "Mecklenburg"
          ],
          [
           "Community School of Davidson",
           "Democrat",
           "Mecklenburg"
          ],
          [
           "Charlotte Secondary",
           "Democrat",
           "Mecklenburg"
          ],
          [
           "Corvian Community School",
           "Democrat",
           "Mecklenburg"
          ],
          [
           "Eastside STREAM Academy",
           "Democrat",
           "Mecklenburg"
          ],
          [
           "Bradford Preparatory School",
           "Democrat",
           "Mecklenburg"
          ],
          [
           "VERITAS Community School, CFA",
           "Democrat",
           "Mecklenburg"
          ],
          [
           "Mallard Creek STEM Academy",
           "Democrat",
           "Mecklenburg"
          ],
          [
           "East Voyager Academy of Charlotte",
           "Democrat",
           "Mecklenburg"
          ],
          [
           "Jackson Day School",
           "Democrat",
           "Mecklenburg"
          ],
          [
           "Southwest Charlotte STEM Academy",
           "Democrat",
           "Mecklenburg"
          ],
          [
           "STARS Charter",
           "Tie",
           "Moore"
          ],
          [
           "Rocky Mount Preparatory",
           "Democrat",
           "Nash"
          ],
          [
           "Island Montessori Charter School",
           "Republican",
           "New Hanover"
          ],
          [
           "Girls Leadership Academy of Wilmington",
           "Republican",
           "New Hanover"
          ],
          [
           "Eno River Academy",
           "Tie",
           "Orange"
          ],
          [
           "The Expedition School",
           "Tie",
           "Orange"
          ],
          [
           "Arapahoe Charter School",
           "Tie",
           "Pamlico"
          ],
          [
           "CIS Academy",
           "Democrat",
           "Robeson"
          ],
          [
           "Southeastern Academy",
           "Democrat",
           "Robeson"
          ],
          [
           "Old Main STREAM Academy",
           "Democrat",
           "Robeson"
          ],
          [
           "Gray Stone Day",
           "Republican",
           "Stanly"
          ],
          [
           "Union Day School",
           "Tie",
           "Union"
          ],
          [
           "Monroe Charter Academy",
           "Tie",
           "Union"
          ],
          [
           "Vance Charter School",
           "Democrat",
           "Vance"
          ],
          [
           "Franklin Academy",
           "Republican",
           "Wake"
          ],
          [
           "East Wake Academy",
           "Republican",
           "Wake"
          ],
          [
           "Quest Academy",
           "Republican",
           "Wake"
          ],
          [
           "Southern Wake Academy",
           "Republican",
           "Wake"
          ],
          [
           "Raleigh Oak Charter",
           "Republican",
           "Wake"
          ],
          [
           "Doral Academy of North Carolina",
           "Republican",
           "Wake"
          ],
          [
           "Pocosin Innovative Charter",
           "Democrat",
           "Washington"
          ],
          [
           "Dillard Academy",
           "Tie",
           "Wayne"
          ],
          [
           "Wayne Preparatory Academy",
           "Tie",
           "Wayne"
          ],
          [
           "Aristotle Preparatory Academy",
           "Democrat",
           "Mecklenburg"
          ],
          [
           "Sallie B Howard School",
           "Democrat",
           "Wilson"
          ],
          [
           "Chatham Charter",
           "Democrat",
           "Chatham"
          ],
          [
           "Matthews Charter Academy",
           "Democrat",
           "Mecklenburg"
          ],
          [
           "Peak Charter Academy",
           "Republican",
           "Wake"
          ],
          [
           "Research Triangle High School",
           "Democrat",
           "Durham"
          ],
          [
           "Greensboro Academy",
           "Democrat",
           "Guilford"
          ],
          [
           "Bear Grass Charter School",
           "Tie",
           "Martin"
          ],
          [
           "American Leadership Academy - Johnston",
           "Republican",
           "Johnston"
          ],
          [
           "Shining Rock Classical Academy",
           "Republican",
           "Haywood"
          ],
          [
           "Central Carolina Academy",
           "Democrat",
           "Lee"
          ],
          [
           "Magellan Charter",
           "Republican",
           "Wake"
          ],
          [
           "Summit Creek Academy",
           "Democrat",
           "Guilford"
          ]
         ],
         "hovertemplate": "charter_political_affiliation=Tie<br>x=%{x}<br>y=%{y}<br>schoolname=%{customdata[0]}<br>district_political_affiliation=%{customdata[1]}<br>countydescription=%{customdata[2]}<extra></extra>",
         "legendgroup": "Tie",
         "marker": {
          "color": "green",
          "symbol": "circle"
         },
         "mode": "markers",
         "name": "Tie",
         "orientation": "v",
         "showlegend": true,
         "type": "scatter",
         "x": [
          -4.3165364265441895,
          0.3583332598209381,
          7.7061991691589355,
          -1.8519611358642578,
          -3.292644500732422,
          1.2134169340133667,
          -12.23618221282959,
          1.0399067401885986,
          0.17298342287540436,
          -5.317736625671387,
          -3.464925765991211,
          -10.935928344726562,
          -10.935903549194336,
          -10.937128067016602,
          10.273812294006348,
          -3.2265164852142334,
          -0.3114093244075775,
          -5.052119255065918,
          -12.2161226272583,
          -7.133650302886963,
          -5.023800373077393,
          -7.643294811248779,
          -2.050881862640381,
          -8.880578994750977,
          3.4780240058898926,
          -2.6286122798919678,
          -3.7213168144226074,
          -3.2884511947631836,
          -5.8139824867248535,
          2.31837797164917,
          5.42570686340332,
          -1.1110026836395264,
          5.558701038360596,
          -7.790003776550293,
          -4.456714153289795,
          2.3845250606536865,
          -9.520130157470703,
          -8.253399848937988,
          -6.271366119384766,
          -1.6463395357131958,
          -3.7567086219787598,
          -6.675370693206787,
          -4.14954137802124,
          0.9579537510871887,
          -1.3654292821884155,
          -8.375123023986816,
          -2.5520458221435547,
          4.119761943817139,
          -7.592865467071533,
          -1.579767107963562,
          -1.6589605808258057,
          -6.378871917724609,
          -4.804009437561035,
          -1.568363070487976,
          6.011316299438477,
          0.6465839743614197,
          10.093463897705078,
          0.255486398935318,
          -2.691641092300415,
          4.047327518463135,
          9.389337539672852,
          10.393877983093262,
          -7.278528690338135,
          2.2020199298858643,
          8.907598495483398,
          8.770554542541504,
          -11.631204605102539
         ],
         "xaxis": "x",
         "y": [
          1.2550113201141357,
          -0.4362373948097229,
          3.802330255508423,
          -4.102316379547119,
          -2.812572956085205,
          -0.6352453231811523,
          -0.3643515408039093,
          7.491138458251953,
          3.27002215385437,
          1.737053632736206,
          3.092942237854004,
          3.00201153755188,
          3.0020036697387695,
          3.0024821758270264,
          -0.9756535291671753,
          -6.693296432495117,
          -6.8535966873168945,
          -1.0806304216384888,
          -0.5512729287147522,
          3.463085412979126,
          -2.4330596923828125,
          -2.530500888824463,
          -0.6572357416152954,
          -0.7799050211906433,
          4.643894672393799,
          1.4660371541976929,
          0.4186572730541229,
          -2.8073911666870117,
          9.207201957702637,
          0.450644314289093,
          6.811654567718506,
          2.053118944168091,
          -4.277071475982666,
          2.4997668266296387,
          -0.03452557325363159,
          2.5034027099609375,
          -2.5711376667022705,
          5.90212869644165,
          -3.430598020553589,
          -0.9396576285362244,
          -7.300058841705322,
          1.201460838317871,
          6.331262111663818,
          -0.6238420009613037,
          -4.497135639190674,
          0.9283508062362671,
          0.5102396011352539,
          4.976315498352051,
          0.3269462585449219,
          3.3864314556121826,
          -1.8543243408203125,
          -1.1357377767562866,
          -5.1429572105407715,
          0.1440860778093338,
          -5.61818790435791,
          4.765912055969238,
          0.3299918472766876,
          -5.609066009521484,
          -6.397210597991943,
          -0.8534987568855286,
          -4.500011444091797,
          3.416443347930908,
          -4.084600925445557,
          -1.864592432975769,
          -3.103508234024048,
          3.7142794132232666,
          3.110076904296875
         ],
         "yaxis": "y"
        },
        {
         "customdata": [
          [
           "Durham Charter School",
           "Democrat",
           "Durham"
          ],
          [
           "Clover Garden",
           "Tie",
           "Alamance"
          ],
          [
           "Marjorie Williams Academy",
           "Republican",
           "Avery"
          ],
          [
           "New Dimensions",
           "Republican",
           "Burke"
          ],
          [
           "Cabarrus Charter Academy",
           "Tie",
           "Cabarrus"
          ],
          [
           "Concord Lake STEAM Academy",
           "Tie",
           "Cabarrus"
          ],
          [
           "Davidson Charter Academy",
           "Republican",
           "Davidson"
          ],
          [
           "Youngsville Academy",
           "Democrat",
           "Franklin"
          ],
          [
           "Piedmont Community Charter School",
           "Republican",
           "Gaston"
          ],
          [
           "Falls Lake Academy",
           "Tie",
           "Granville"
          ],
          [
           "Anderson Creek Academy",
           "Democrat",
           "Harnett"
          ],
          [
           "Summit Charter",
           "Tie",
           "Jackson"
          ],
          [
           "Neuse Charter School",
           "Republican",
           "Johnston"
          ],
          [
           "Ascend Leadership Academy: Lee County",
           "Democrat",
           "Lee"
          ],
          [
           "Lincoln Charter School",
           "Republican",
           "Lincoln"
          ],
          [
           "Lakeside Charter Academy",
           "Democrat",
           "Mecklenburg"
          ],
          [
           "Unity Classical Charter School",
           "Democrat",
           "Mecklenburg"
          ],
          [
           "Steele Creek Preparatory Academy",
           "Democrat",
           "Mecklenburg"
          ],
          [
           "Movement School Southwest",
           "Democrat",
           "Mecklenburg"
          ],
          [
           "The Academy of Moore County",
           "Tie",
           "Moore"
          ],
          [
           "Bethel Hill Charter",
           "Democrat",
           "Person"
          ],
          [
           "Roxboro Community School",
           "Democrat",
           "Person"
          ],
          [
           "Uwharrie Charter Academy",
           "Republican",
           "Randolph"
          ],
          [
           "Bethany Community School",
           "Republican",
           "Rockingham"
          ],
          [
           "Faith Academy Charter School",
           "Republican",
           "Rowan"
          ],
          [
           "Thomas Jefferson Class Academy",
           "Republican",
           "Rutherford"
          ],
          [
           "Lake Lure Classical Academy",
           "Republican",
           "Rutherford"
          ],
          [
           "Millennium Charter Academy",
           "Tie",
           "Surry"
          ],
          [
           "Brevard Academy",
           "Republican",
           "Transylvania"
          ],
          [
           "Union Academy",
           "Tie",
           "Union"
          ],
          [
           "Union Prep Academy at Indian Trail",
           "Tie",
           "Union"
          ],
          [
           "Apprentice Academy High School",
           "Tie",
           "Union"
          ],
          [
           "Cardinal Charter Academy",
           "Republican",
           "Wake"
          ],
          [
           "Pine Springs Preparatory Academy",
           "Republican",
           "Wake"
          ],
          [
           "Cardinal Charter Acad at Wendell Falls",
           "Republican",
           "Wake"
          ],
          [
           "Movement School Eastland",
           "Democrat",
           "Mecklenburg"
          ],
          [
           "Iredell Charter Academy",
           "Republican",
           "Iredell"
          ],
          [
           "American Leadership Academy-Coastal",
           "Republican",
           "New Hanover"
          ],
          [
           "NC Leadership Charter Academy",
           "Republican",
           "Forsyth"
          ],
          [
           "Langtree Charter Academy",
           "Republican",
           "Iredell"
          ],
          [
           "Gate City Charter",
           "Democrat",
           "Guilford"
          ],
          [
           "Queen's Grant Community School",
           "Democrat",
           "Mecklenburg"
          ],
          [
           "Classical Charter Schools of Southport",
           "Republican",
           "Brunswick"
          ],
          [
           "Classical Charter Schools of Wilmington",
           "Republican",
           "New Hanover"
          ],
          [
           "Summerfield Charter Academy",
           "Democrat",
           "Guilford"
          ],
          [
           "Revolution Academy",
           "Democrat",
           "Guilford"
          ],
          [
           "Classical Charter Schools of Whiteville",
           "Republican",
           "Columbus"
          ],
          [
           "Research Triangle Charter",
           "Democrat",
           "Durham"
          ],
          [
           "Classical Charter Schools of Leland ",
           "Republican",
           "Brunswick"
          ],
          [
           "Bonnie Cone Classical Academy",
           "Democrat",
           "Mecklenburg"
          ],
          [
           "Carolina Charter Academy",
           "Republican",
           "Wake"
          ],
          [
           "Movement Charter School",
           "Democrat",
           "Mecklenburg"
          ]
         ],
         "hovertemplate": "charter_political_affiliation=Republican<br>x=%{x}<br>y=%{y}<br>schoolname=%{customdata[0]}<br>district_political_affiliation=%{customdata[1]}<br>countydescription=%{customdata[2]}<extra></extra>",
         "legendgroup": "Republican",
         "marker": {
          "color": "red",
          "symbol": "circle"
         },
         "mode": "markers",
         "name": "Republican",
         "orientation": "v",
         "showlegend": true,
         "type": "scatter",
         "x": [
          5.643064022064209,
          -1.8071593046188354,
          1.7167872190475464,
          -3.1102824211120605,
          -4.982033729553223,
          6.776590347290039,
          6.901375770568848,
          -3.539163589477539,
          -1.6196461915969849,
          -4.77743673324585,
          3.370527505874634,
          -3.1105945110321045,
          -4.783349990844727,
          3.586958885192871,
          7.315033435821533,
          7.26824426651001,
          1.012211561203003,
          6.2754058837890625,
          -3.395395517349243,
          3.5821292400360107,
          -10.309210777282715,
          4.410297870635986,
          10.865433692932129,
          -10.3014497756958,
          -2.9798243045806885,
          -12.88668155670166,
          0.5957969427108765,
          0.5750520825386047,
          -10.271595001220703,
          -4.4819207191467285,
          -3.181828737258911,
          -3.6175577640533447,
          -5.765537261962891,
          -3.533900260925293,
          -5.756804466247559,
          9.649989128112793,
          7.887875080108643,
          -1.269570231437683,
          4.025437355041504,
          9.212838172912598,
          -0.30726805329322815,
          10.462385177612305,
          -0.4690764844417572,
          -0.4690815508365631,
          10.282248497009277,
          2.3052871227264404,
          -0.4690815508365631,
          4.591188907623291,
          -0.4690815508365631,
          0.7042180895805359,
          9.24834156036377,
          9.554462432861328
         ],
         "xaxis": "x",
         "y": [
          0.7458990812301636,
          6.303744792938232,
          -7.745540618896484,
          -1.1491848230361938,
          0.49752020835876465,
          -1.5245230197906494,
          1.6914012432098389,
          5.048073768615723,
          1.5529993772506714,
          -4.682514667510986,
          -5.376733303070068,
          4.356659889221191,
          -2.259549140930176,
          -9.275580406188965,
          -0.42316049337387085,
          -0.8207036852836609,
          -3.1812939643859863,
          -5.30428409576416,
          4.166965484619141,
          -6.029451370239258,
          8.241148948669434,
          1.854675531387329,
          -2.9560744762420654,
          8.242473602294922,
          0.08571050316095352,
          0.316744327545166,
          0.5457547903060913,
          -1.7397178411483765,
          8.23259162902832,
          4.1904754638671875,
          8.442109107971191,
          1.2922639846801758,
          -0.013850649818778038,
          -2.278322219848633,
          -0.005615958943963051,
          4.734121799468994,
          1.438561201095581,
          -9.457935333251953,
          -9.36867618560791,
          -1.0086266994476318,
          -6.193140029907227,
          1.5563105344772339,
          11.767337799072266,
          11.76734733581543,
          -1.696083903312683,
          -2.853419542312622,
          11.76734733581543,
          -0.7351337671279907,
          11.76734733581543,
          -3.680117607116699,
          -2.5238142013549805,
          4.303285598754883
         ],
         "yaxis": "y"
        }
       ],
       "layout": {
        "legend": {
         "title": {
          "text": "charter_political_affiliation"
         },
         "tracegroupgap": 0
        },
        "template": {
         "data": {
          "bar": [
           {
            "error_x": {
             "color": "#2a3f5f"
            },
            "error_y": {
             "color": "#2a3f5f"
            },
            "marker": {
             "line": {
              "color": "#E5ECF6",
              "width": 0.5
             },
             "pattern": {
              "fillmode": "overlay",
              "size": 10,
              "solidity": 0.2
             }
            },
            "type": "bar"
           }
          ],
          "barpolar": [
           {
            "marker": {
             "line": {
              "color": "#E5ECF6",
              "width": 0.5
             },
             "pattern": {
              "fillmode": "overlay",
              "size": 10,
              "solidity": 0.2
             }
            },
            "type": "barpolar"
           }
          ],
          "carpet": [
           {
            "aaxis": {
             "endlinecolor": "#2a3f5f",
             "gridcolor": "white",
             "linecolor": "white",
             "minorgridcolor": "white",
             "startlinecolor": "#2a3f5f"
            },
            "baxis": {
             "endlinecolor": "#2a3f5f",
             "gridcolor": "white",
             "linecolor": "white",
             "minorgridcolor": "white",
             "startlinecolor": "#2a3f5f"
            },
            "type": "carpet"
           }
          ],
          "choropleth": [
           {
            "colorbar": {
             "outlinewidth": 0,
             "ticks": ""
            },
            "type": "choropleth"
           }
          ],
          "contour": [
           {
            "colorbar": {
             "outlinewidth": 0,
             "ticks": ""
            },
            "colorscale": [
             [
              0,
              "#0d0887"
             ],
             [
              0.1111111111111111,
              "#46039f"
             ],
             [
              0.2222222222222222,
              "#7201a8"
             ],
             [
              0.3333333333333333,
              "#9c179e"
             ],
             [
              0.4444444444444444,
              "#bd3786"
             ],
             [
              0.5555555555555556,
              "#d8576b"
             ],
             [
              0.6666666666666666,
              "#ed7953"
             ],
             [
              0.7777777777777778,
              "#fb9f3a"
             ],
             [
              0.8888888888888888,
              "#fdca26"
             ],
             [
              1,
              "#f0f921"
             ]
            ],
            "type": "contour"
           }
          ],
          "contourcarpet": [
           {
            "colorbar": {
             "outlinewidth": 0,
             "ticks": ""
            },
            "type": "contourcarpet"
           }
          ],
          "heatmap": [
           {
            "colorbar": {
             "outlinewidth": 0,
             "ticks": ""
            },
            "colorscale": [
             [
              0,
              "#0d0887"
             ],
             [
              0.1111111111111111,
              "#46039f"
             ],
             [
              0.2222222222222222,
              "#7201a8"
             ],
             [
              0.3333333333333333,
              "#9c179e"
             ],
             [
              0.4444444444444444,
              "#bd3786"
             ],
             [
              0.5555555555555556,
              "#d8576b"
             ],
             [
              0.6666666666666666,
              "#ed7953"
             ],
             [
              0.7777777777777778,
              "#fb9f3a"
             ],
             [
              0.8888888888888888,
              "#fdca26"
             ],
             [
              1,
              "#f0f921"
             ]
            ],
            "type": "heatmap"
           }
          ],
          "heatmapgl": [
           {
            "colorbar": {
             "outlinewidth": 0,
             "ticks": ""
            },
            "colorscale": [
             [
              0,
              "#0d0887"
             ],
             [
              0.1111111111111111,
              "#46039f"
             ],
             [
              0.2222222222222222,
              "#7201a8"
             ],
             [
              0.3333333333333333,
              "#9c179e"
             ],
             [
              0.4444444444444444,
              "#bd3786"
             ],
             [
              0.5555555555555556,
              "#d8576b"
             ],
             [
              0.6666666666666666,
              "#ed7953"
             ],
             [
              0.7777777777777778,
              "#fb9f3a"
             ],
             [
              0.8888888888888888,
              "#fdca26"
             ],
             [
              1,
              "#f0f921"
             ]
            ],
            "type": "heatmapgl"
           }
          ],
          "histogram": [
           {
            "marker": {
             "pattern": {
              "fillmode": "overlay",
              "size": 10,
              "solidity": 0.2
             }
            },
            "type": "histogram"
           }
          ],
          "histogram2d": [
           {
            "colorbar": {
             "outlinewidth": 0,
             "ticks": ""
            },
            "colorscale": [
             [
              0,
              "#0d0887"
             ],
             [
              0.1111111111111111,
              "#46039f"
             ],
             [
              0.2222222222222222,
              "#7201a8"
             ],
             [
              0.3333333333333333,
              "#9c179e"
             ],
             [
              0.4444444444444444,
              "#bd3786"
             ],
             [
              0.5555555555555556,
              "#d8576b"
             ],
             [
              0.6666666666666666,
              "#ed7953"
             ],
             [
              0.7777777777777778,
              "#fb9f3a"
             ],
             [
              0.8888888888888888,
              "#fdca26"
             ],
             [
              1,
              "#f0f921"
             ]
            ],
            "type": "histogram2d"
           }
          ],
          "histogram2dcontour": [
           {
            "colorbar": {
             "outlinewidth": 0,
             "ticks": ""
            },
            "colorscale": [
             [
              0,
              "#0d0887"
             ],
             [
              0.1111111111111111,
              "#46039f"
             ],
             [
              0.2222222222222222,
              "#7201a8"
             ],
             [
              0.3333333333333333,
              "#9c179e"
             ],
             [
              0.4444444444444444,
              "#bd3786"
             ],
             [
              0.5555555555555556,
              "#d8576b"
             ],
             [
              0.6666666666666666,
              "#ed7953"
             ],
             [
              0.7777777777777778,
              "#fb9f3a"
             ],
             [
              0.8888888888888888,
              "#fdca26"
             ],
             [
              1,
              "#f0f921"
             ]
            ],
            "type": "histogram2dcontour"
           }
          ],
          "mesh3d": [
           {
            "colorbar": {
             "outlinewidth": 0,
             "ticks": ""
            },
            "type": "mesh3d"
           }
          ],
          "parcoords": [
           {
            "line": {
             "colorbar": {
              "outlinewidth": 0,
              "ticks": ""
             }
            },
            "type": "parcoords"
           }
          ],
          "pie": [
           {
            "automargin": true,
            "type": "pie"
           }
          ],
          "scatter": [
           {
            "fillpattern": {
             "fillmode": "overlay",
             "size": 10,
             "solidity": 0.2
            },
            "type": "scatter"
           }
          ],
          "scatter3d": [
           {
            "line": {
             "colorbar": {
              "outlinewidth": 0,
              "ticks": ""
             }
            },
            "marker": {
             "colorbar": {
              "outlinewidth": 0,
              "ticks": ""
             }
            },
            "type": "scatter3d"
           }
          ],
          "scattercarpet": [
           {
            "marker": {
             "colorbar": {
              "outlinewidth": 0,
              "ticks": ""
             }
            },
            "type": "scattercarpet"
           }
          ],
          "scattergeo": [
           {
            "marker": {
             "colorbar": {
              "outlinewidth": 0,
              "ticks": ""
             }
            },
            "type": "scattergeo"
           }
          ],
          "scattergl": [
           {
            "marker": {
             "colorbar": {
              "outlinewidth": 0,
              "ticks": ""
             }
            },
            "type": "scattergl"
           }
          ],
          "scattermapbox": [
           {
            "marker": {
             "colorbar": {
              "outlinewidth": 0,
              "ticks": ""
             }
            },
            "type": "scattermapbox"
           }
          ],
          "scatterpolar": [
           {
            "marker": {
             "colorbar": {
              "outlinewidth": 0,
              "ticks": ""
             }
            },
            "type": "scatterpolar"
           }
          ],
          "scatterpolargl": [
           {
            "marker": {
             "colorbar": {
              "outlinewidth": 0,
              "ticks": ""
             }
            },
            "type": "scatterpolargl"
           }
          ],
          "scatterternary": [
           {
            "marker": {
             "colorbar": {
              "outlinewidth": 0,
              "ticks": ""
             }
            },
            "type": "scatterternary"
           }
          ],
          "surface": [
           {
            "colorbar": {
             "outlinewidth": 0,
             "ticks": ""
            },
            "colorscale": [
             [
              0,
              "#0d0887"
             ],
             [
              0.1111111111111111,
              "#46039f"
             ],
             [
              0.2222222222222222,
              "#7201a8"
             ],
             [
              0.3333333333333333,
              "#9c179e"
             ],
             [
              0.4444444444444444,
              "#bd3786"
             ],
             [
              0.5555555555555556,
              "#d8576b"
             ],
             [
              0.6666666666666666,
              "#ed7953"
             ],
             [
              0.7777777777777778,
              "#fb9f3a"
             ],
             [
              0.8888888888888888,
              "#fdca26"
             ],
             [
              1,
              "#f0f921"
             ]
            ],
            "type": "surface"
           }
          ],
          "table": [
           {
            "cells": {
             "fill": {
              "color": "#EBF0F8"
             },
             "line": {
              "color": "white"
             }
            },
            "header": {
             "fill": {
              "color": "#C8D4E3"
             },
             "line": {
              "color": "white"
             }
            },
            "type": "table"
           }
          ]
         },
         "layout": {
          "annotationdefaults": {
           "arrowcolor": "#2a3f5f",
           "arrowhead": 0,
           "arrowwidth": 1
          },
          "autotypenumbers": "strict",
          "coloraxis": {
           "colorbar": {
            "outlinewidth": 0,
            "ticks": ""
           }
          },
          "colorscale": {
           "diverging": [
            [
             0,
             "#8e0152"
            ],
            [
             0.1,
             "#c51b7d"
            ],
            [
             0.2,
             "#de77ae"
            ],
            [
             0.3,
             "#f1b6da"
            ],
            [
             0.4,
             "#fde0ef"
            ],
            [
             0.5,
             "#f7f7f7"
            ],
            [
             0.6,
             "#e6f5d0"
            ],
            [
             0.7,
             "#b8e186"
            ],
            [
             0.8,
             "#7fbc41"
            ],
            [
             0.9,
             "#4d9221"
            ],
            [
             1,
             "#276419"
            ]
           ],
           "sequential": [
            [
             0,
             "#0d0887"
            ],
            [
             0.1111111111111111,
             "#46039f"
            ],
            [
             0.2222222222222222,
             "#7201a8"
            ],
            [
             0.3333333333333333,
             "#9c179e"
            ],
            [
             0.4444444444444444,
             "#bd3786"
            ],
            [
             0.5555555555555556,
             "#d8576b"
            ],
            [
             0.6666666666666666,
             "#ed7953"
            ],
            [
             0.7777777777777778,
             "#fb9f3a"
            ],
            [
             0.8888888888888888,
             "#fdca26"
            ],
            [
             1,
             "#f0f921"
            ]
           ],
           "sequentialminus": [
            [
             0,
             "#0d0887"
            ],
            [
             0.1111111111111111,
             "#46039f"
            ],
            [
             0.2222222222222222,
             "#7201a8"
            ],
            [
             0.3333333333333333,
             "#9c179e"
            ],
            [
             0.4444444444444444,
             "#bd3786"
            ],
            [
             0.5555555555555556,
             "#d8576b"
            ],
            [
             0.6666666666666666,
             "#ed7953"
            ],
            [
             0.7777777777777778,
             "#fb9f3a"
            ],
            [
             0.8888888888888888,
             "#fdca26"
            ],
            [
             1,
             "#f0f921"
            ]
           ]
          },
          "colorway": [
           "#636efa",
           "#EF553B",
           "#00cc96",
           "#ab63fa",
           "#FFA15A",
           "#19d3f3",
           "#FF6692",
           "#B6E880",
           "#FF97FF",
           "#FECB52"
          ],
          "font": {
           "color": "#2a3f5f"
          },
          "geo": {
           "bgcolor": "white",
           "lakecolor": "white",
           "landcolor": "#E5ECF6",
           "showlakes": true,
           "showland": true,
           "subunitcolor": "white"
          },
          "hoverlabel": {
           "align": "left"
          },
          "hovermode": "closest",
          "mapbox": {
           "style": "light"
          },
          "paper_bgcolor": "white",
          "plot_bgcolor": "#E5ECF6",
          "polar": {
           "angularaxis": {
            "gridcolor": "white",
            "linecolor": "white",
            "ticks": ""
           },
           "bgcolor": "#E5ECF6",
           "radialaxis": {
            "gridcolor": "white",
            "linecolor": "white",
            "ticks": ""
           }
          },
          "scene": {
           "xaxis": {
            "backgroundcolor": "#E5ECF6",
            "gridcolor": "white",
            "gridwidth": 2,
            "linecolor": "white",
            "showbackground": true,
            "ticks": "",
            "zerolinecolor": "white"
           },
           "yaxis": {
            "backgroundcolor": "#E5ECF6",
            "gridcolor": "white",
            "gridwidth": 2,
            "linecolor": "white",
            "showbackground": true,
            "ticks": "",
            "zerolinecolor": "white"
           },
           "zaxis": {
            "backgroundcolor": "#E5ECF6",
            "gridcolor": "white",
            "gridwidth": 2,
            "linecolor": "white",
            "showbackground": true,
            "ticks": "",
            "zerolinecolor": "white"
           }
          },
          "shapedefaults": {
           "line": {
            "color": "#2a3f5f"
           }
          },
          "ternary": {
           "aaxis": {
            "gridcolor": "white",
            "linecolor": "white",
            "ticks": ""
           },
           "baxis": {
            "gridcolor": "white",
            "linecolor": "white",
            "ticks": ""
           },
           "bgcolor": "#E5ECF6",
           "caxis": {
            "gridcolor": "white",
            "linecolor": "white",
            "ticks": ""
           }
          },
          "title": {
           "x": 0.05
          },
          "xaxis": {
           "automargin": true,
           "gridcolor": "white",
           "linecolor": "white",
           "ticks": "",
           "title": {
            "standoff": 15
           },
           "zerolinecolor": "white",
           "zerolinewidth": 2
          },
          "yaxis": {
           "automargin": true,
           "gridcolor": "white",
           "linecolor": "white",
           "ticks": "",
           "title": {
            "standoff": 15
           },
           "zerolinecolor": "white",
           "zerolinewidth": 2
          }
         }
        },
        "title": {
         "text": "Sentence Embed with Charter Political Affiliation"
        },
        "xaxis": {
         "anchor": "y",
         "domain": [
          0,
          1
         ],
         "title": {
          "text": "x"
         }
        },
        "yaxis": {
         "anchor": "x",
         "domain": [
          0,
          1
         ],
         "title": {
          "text": "y"
         }
        }
       }
      }
     },
     "metadata": {},
     "output_type": "display_data"
    }
   ],
   "source": [
    "fig = px.scatter(df_2d, x='x', y='y',title='Sentence Embed with Charter Political Affiliation', color='charter_political_affiliation', color_discrete_map=color_discrete_map,hover_data=['schoolname', 'district_political_affiliation', 'countydescription'])\n",
    "fig.show()"
   ]
  },
  {
   "cell_type": "code",
   "execution_count": 13,
   "metadata": {},
   "outputs": [
    {
     "data": {
      "application/vnd.plotly.v1+json": {
       "config": {
        "plotlyServerURL": "https://plot.ly"
       },
       "data": [
        {
         "customdata": [
          [
           "North Carolina Cyber Academy",
           "Democrat",
           "Durham"
          ],
          [
           "NC Virtual Academy",
           "Tie",
           "Durham"
          ],
          [
           "Maureen Joy Charter School",
           "Democrat",
           "Durham"
          ],
          [
           "Durham Charter School",
           "Republican",
           "Durham"
          ],
          [
           "Community School of Digital & Visual Art",
           "Democrat",
           "Durham"
          ],
          [
           "Kestrel Heights School",
           "Democrat",
           "Durham"
          ],
          [
           "Voyager Academy",
           "Democrat",
           "Durham"
          ],
          [
           "Global Scholars Academy",
           "Democrat",
           "Durham"
          ],
          [
           "The Institute Development Young Leaders",
           "Democrat",
           "Durham"
          ],
          [
           "Reaching All Minds Academy",
           "Democrat",
           "Durham"
          ],
          [
           "Excelsior Classical Academy",
           "Tie",
           "Durham"
          ],
          [
           "Discovery Charter",
           "Tie",
           "Durham"
          ],
          [
           "Willow Oak Montessori",
           "Democrat",
           "Chatham"
          ],
          [
           "Woods Charter",
           "Democrat",
           "Chatham"
          ],
          [
           "Alpha Academy",
           "Democrat",
           "Cumberland"
          ],
          [
           "The Capitol Encore Academy",
           "Democrat",
           "Cumberland"
          ],
          [
           "North East Carolina Prep",
           "Democrat",
           "Edgecombe"
          ],
          [
           "Crosscreek Charter School",
           "Tie",
           "Franklin"
          ],
          [
           "Youngsville Academy",
           "Republican",
           "Franklin"
          ],
          [
           "Wake Preparatory Academy",
           "Tie",
           "Franklin"
          ],
          [
           "Guilford Preparatory Academy",
           "Democrat",
           "Guilford"
          ],
          [
           "Phoenix Academy - Primary, Elem, Upper",
           "Tie",
           "Guilford"
          ],
          [
           "Triad Math and Science Academy",
           "Democrat",
           "Guilford"
          ],
          [
           "Cornerstone Charter Academy-CFA",
           "Tie",
           "Guilford"
          ],
          [
           "College Prep and Leadership Academy",
           "Tie",
           "Guilford"
          ],
          [
           "Next Generation Academy",
           "Democrat",
           "Guilford"
          ],
          [
           "The Experiential School of Greensboro",
           "Democrat",
           "Guilford"
          ],
          [
           "KIPP Halifax College Preparatory",
           "Democrat",
           "Halifax"
          ],
          [
           "KIPP Charlotte",
           "Democrat",
           "Mecklenburg"
          ],
          [
           "Hobgood Charter School",
           "Democrat",
           "Halifax"
          ],
          [
           "Anderson Creek Academy",
           "Republican",
           "Harnett"
          ],
          [
           "Achievement Charter Academy",
           "Tie",
           "Harnett"
          ],
          [
           "Ascend Leadership Academy: Lee County",
           "Republican",
           "Lee"
          ],
          [
           "MINA Charter School of Lee County",
           "Democrat",
           "Lee"
          ],
          [
           "Children's Village Academy",
           "Democrat",
           "Lenoir"
          ],
          [
           "Lake Norman Charter",
           "Democrat",
           "Mecklenburg"
          ],
          [
           "Metrolina Reg Scholars Academy",
           "Tie",
           "Mecklenburg"
          ],
          [
           "Community School of Davidson",
           "Tie",
           "Mecklenburg"
          ],
          [
           "Socrates Academy",
           "Democrat",
           "Mecklenburg"
          ],
          [
           "Charlotte Secondary",
           "Tie",
           "Mecklenburg"
          ],
          [
           "Corvian Community School",
           "Tie",
           "Mecklenburg"
          ],
          [
           "Eastside STREAM Academy",
           "Tie",
           "Mecklenburg"
          ],
          [
           "Invest Collegiate Transform",
           "Democrat",
           "Mecklenburg"
          ],
          [
           "Bradford Preparatory School",
           "Tie",
           "Mecklenburg"
          ],
          [
           "Commonwealth High",
           "Democrat",
           "Mecklenburg"
          ],
          [
           "Pioneer Springs Community School",
           "Democrat",
           "Mecklenburg"
          ],
          [
           "Lakeside Charter Academy",
           "Republican",
           "Mecklenburg"
          ],
          [
           "United Community School",
           "Democrat",
           "Mecklenburg"
          ],
          [
           "Stewart Creek High",
           "Democrat",
           "Mecklenburg"
          ],
          [
           "Charlotte Lab School",
           "Democrat",
           "Mecklenburg"
          ],
          [
           "TMSA Charlotte",
           "Democrat",
           "Mecklenburg"
          ],
          [
           "VERITAS Community School, CFA",
           "Tie",
           "Mecklenburg"
          ],
          [
           "Mallard Creek STEM Academy",
           "Tie",
           "Mecklenburg"
          ],
          [
           "Unity Classical Charter School",
           "Republican",
           "Mecklenburg"
          ],
          [
           "East Voyager Academy of Charlotte",
           "Tie",
           "Mecklenburg"
          ],
          [
           "Jackson Day School",
           "Tie",
           "Mecklenburg"
          ],
          [
           "Steele Creek Preparatory Academy",
           "Republican",
           "Mecklenburg"
          ],
          [
           "Southwest Charlotte STEM Academy",
           "Tie",
           "Mecklenburg"
          ],
          [
           "Telra Institute",
           "Democrat",
           "Mecklenburg"
          ],
          [
           "Movement School Southwest",
           "Republican",
           "Mecklenburg"
          ],
          [
           "Rocky Mount Preparatory",
           "Tie",
           "Nash"
          ],
          [
           "Northeast Academy of Aerospace & AdvTech",
           "Democrat",
           "Pasquotank"
          ],
          [
           "Bethel Hill Charter",
           "Republican",
           "Person"
          ],
          [
           "Roxboro Community School",
           "Republican",
           "Person"
          ],
          [
           "CIS Academy",
           "Tie",
           "Robeson"
          ],
          [
           "Southeastern Academy",
           "Tie",
           "Robeson"
          ],
          [
           "Old Main STREAM Academy",
           "Tie",
           "Robeson"
          ],
          [
           "Henderson Collegiate",
           "Democrat",
           "Vance"
          ],
          [
           "Vance Charter School",
           "Tie",
           "Vance"
          ],
          [
           "Haliwa-Saponi Tribal School",
           "Democrat",
           "Warren"
          ],
          [
           "Pocosin Innovative Charter",
           "Tie",
           "Washington"
          ],
          [
           "Wilson Preparatory Academy",
           "Democrat",
           "Wilson"
          ],
          [
           "Movement School Eastland",
           "Republican",
           "Mecklenburg"
          ],
          [
           "Sugar Creek Charter",
           "Democrat",
           "Mecklenburg"
          ],
          [
           "Central Park School For Child",
           "Democrat",
           "Durham"
          ],
          [
           "Aristotle Preparatory Academy",
           "Tie",
           "Mecklenburg"
          ],
          [
           "Gate City Charter",
           "Republican",
           "Guilford"
          ],
          [
           "KIPP Durham College Preparatory",
           "Democrat",
           "Durham"
          ],
          [
           "KIPP Gaston College Preparatory",
           "Democrat",
           "Northampton"
          ],
          [
           "Queen's Grant Community School",
           "Republican",
           "Mecklenburg"
          ],
          [
           "Sallie B Howard School",
           "Tie",
           "Wilson"
          ],
          [
           "Winterville Charter Academy",
           "Democrat",
           "Pitt"
          ],
          [
           "Summerfield Charter Academy",
           "Republican",
           "Guilford"
          ],
          [
           "Chatham Charter",
           "Tie",
           "Chatham"
          ],
          [
           "Revolution Academy",
           "Republican",
           "Guilford"
          ],
          [
           "Matthews Charter Academy",
           "Tie",
           "Mecklenburg"
          ],
          [
           "Research Triangle Charter",
           "Republican",
           "Durham"
          ],
          [
           "Bonnie Cone Classical Academy",
           "Republican",
           "Mecklenburg"
          ],
          [
           "Research Triangle High School",
           "Tie",
           "Durham"
          ],
          [
           "Greensboro Academy",
           "Tie",
           "Guilford"
          ],
          [
           "Piedmont Classical High School",
           "Democrat",
           "Guilford"
          ],
          [
           "Movement Charter School",
           "Republican",
           "Mecklenburg"
          ],
          [
           "Central Carolina Academy",
           "Tie",
           "Lee"
          ],
          [
           "Summit Creek Academy",
           "Tie",
           "Guilford"
          ]
         ],
         "hovertemplate": "district_political_affiliation=Democrat<br>x=%{x}<br>y=%{y}<br>schoolname=%{customdata[0]}<br>charter_political_affiliation=%{customdata[1]}<br>countydescription=%{customdata[2]}<extra></extra>",
         "legendgroup": "Democrat",
         "marker": {
          "color": "blue",
          "symbol": "circle"
         },
         "mode": "markers",
         "name": "Democrat",
         "orientation": "v",
         "showlegend": true,
         "type": "scatter",
         "x": [
          -5.9678778648376465,
          -4.3165364265441895,
          -5.109218597412109,
          5.643064022064209,
          -5.294691562652588,
          -12.085917472839355,
          -5.819103717803955,
          -4.778939247131348,
          -9.005987167358398,
          -3.186337471008301,
          0.3583332598209381,
          7.7061991691589355,
          -5.774202823638916,
          12.29245662689209,
          2.4466712474823,
          1.5430107116699219,
          5.38203239440918,
          -5.317736625671387,
          -3.539163589477539,
          -3.464925765991211,
          -3.7373406887054443,
          -10.935928344726562,
          4.240096569061279,
          10.273812294006348,
          -3.2265164852142334,
          0.9669196009635925,
          9.49636173248291,
          5.13495397567749,
          5.137234210968018,
          12.450652122497559,
          3.370527505874634,
          -0.3114093244075775,
          3.586958885192871,
          8.142488479614258,
          -3.206386089324951,
          7.4585347175598145,
          -5.023800373077393,
          -7.643294811248779,
          -6.264066696166992,
          -2.050881862640381,
          -8.880578994750977,
          3.4780240058898926,
          -3.2056725025177,
          -2.6286122798919678,
          -12.712418556213379,
          -9.653148651123047,
          7.26824426651001,
          -0.4212239682674408,
          -12.70761489868164,
          -1.9206076860427856,
          4.984116077423096,
          -3.7213168144226074,
          -3.2884511947631836,
          1.012211561203003,
          -5.8139824867248535,
          2.31837797164917,
          6.2754058837890625,
          5.42570686340332,
          -5.827939510345459,
          -3.395395517349243,
          5.558701038360596,
          0.4145127534866333,
          -10.309210777282715,
          4.410297870635986,
          -6.271366119384766,
          -1.6463395357131958,
          -3.7567086219787598,
          -4.346060752868652,
          -1.3654292821884155,
          -7.141058444976807,
          -6.378871917724609,
          7.296125411987305,
          9.649989128112793,
          -5.885551452636719,
          -1.8871179819107056,
          6.011316299438477,
          -0.30726805329322815,
          9.546677589416504,
          9.555789947509766,
          10.462385177612305,
          0.6465839743614197,
          10.396679878234863,
          10.282248497009277,
          10.093463897705078,
          2.3052871227264404,
          0.255486398935318,
          4.591188907623291,
          0.7042180895805359,
          4.047327518463135,
          9.389337539672852,
          2.1181602478027344,
          9.554462432861328,
          8.907598495483398,
          -11.631204605102539
         ],
         "xaxis": "x",
         "y": [
          -2.515301465988159,
          1.2550113201141357,
          2.822366952896118,
          0.7458990812301636,
          -3.337829828262329,
          -1.1032218933105469,
          9.215150833129883,
          1.3011854887008667,
          4.1639180183410645,
          0.19846747815608978,
          -0.4362373948097229,
          3.802330255508423,
          5.584057331085205,
          0.0007560444064438343,
          -8.26952838897705,
          1.906132698059082,
          -2.908485174179077,
          1.737053632736206,
          5.048073768615723,
          3.092942237854004,
          -1.0667637586593628,
          3.00201153755188,
          7.886144161224365,
          -0.9756535291671753,
          -6.693296432495117,
          -5.2107672691345215,
          -4.850165843963623,
          0.31649601459503174,
          0.3156871795654297,
          1.0459506511688232,
          -5.376733303070068,
          -6.8535966873168945,
          -9.275580406188965,
          0.05006018653512001,
          0.5507705211639404,
          -0.08476023375988007,
          -2.4330596923828125,
          -2.530500888824463,
          1.9738900661468506,
          -0.6572357416152954,
          -0.7799050211906433,
          4.643894672393799,
          -4.902813911437988,
          1.4660371541976929,
          -4.54404354095459,
          1.194826364517212,
          -0.8207036852836609,
          0.5300559997558594,
          -4.54335880279541,
          0.05203097686171532,
          7.054821491241455,
          0.4186572730541229,
          -2.8073911666870117,
          -3.1812939643859863,
          9.207201957702637,
          0.450644314289093,
          -5.30428409576416,
          6.811654567718506,
          3.8869469165802,
          4.166965484619141,
          -4.277071475982666,
          6.779707431793213,
          8.241148948669434,
          1.854675531387329,
          -3.430598020553589,
          -0.9396576285362244,
          -7.300058841705322,
          -9.534225463867188,
          -4.497135639190674,
          -1.0943273305892944,
          -1.1357377767562866,
          -6.518858432769775,
          4.734121799468994,
          -6.055276870727539,
          -6.616085529327393,
          -5.61818790435791,
          -6.193140029907227,
          -8.598915100097656,
          -8.613968849182129,
          1.5563105344772339,
          4.765912055969238,
          -2.6975574493408203,
          -1.696083903312683,
          0.3299918472766876,
          -2.853419542312622,
          -5.609066009521484,
          -0.7351337671279907,
          -3.680117607116699,
          -0.8534987568855286,
          -4.500011444091797,
          -3.8884689807891846,
          4.303285598754883,
          -3.103508234024048,
          3.110076904296875
         ],
         "yaxis": "y"
        },
        {
         "customdata": [
          [
           "River Mill Academy",
           "Democrat",
           "Alamance"
          ],
          [
           "The Hawbridge School",
           "Democrat",
           "Alamance"
          ],
          [
           "Clover Garden",
           "Republican",
           "Alamance"
          ],
          [
           "Alamance Community School",
           "Democrat",
           "Alamance"
          ],
          [
           "Emereau: Bladen",
           "Democrat",
           "Bladen"
          ],
          [
           "ArtSpace Charter School",
           "Democrat",
           "Buncombe"
          ],
          [
           "IC Imagine ",
           "Democrat",
           "Buncombe"
          ],
          [
           "The Franklin School of Innovation",
           "Tie",
           "Buncombe"
          ],
          [
           "Francine Delany New School",
           "Democrat",
           "Buncombe"
          ],
          [
           "Carolina International School",
           "Democrat",
           "Cabarrus"
          ],
          [
           "Cabarrus Charter Academy",
           "Republican",
           "Cabarrus"
          ],
          [
           "A.C.E. Academy",
           "Democrat",
           "Cabarrus"
          ],
          [
           "Concord Lake STEAM Academy",
           "Republican",
           "Cabarrus"
          ],
          [
           "Falls Lake Academy",
           "Republican",
           "Granville"
          ],
          [
           "Oxford Preparatory",
           "Democrat",
           "Granville"
          ],
          [
           "Summit Charter",
           "Republican",
           "Jackson"
          ],
          [
           "The Academy of Moore County",
           "Republican",
           "Moore"
          ],
          [
           "STARS Charter",
           "Tie",
           "Moore"
          ],
          [
           "Moore Montessori Community School",
           "Democrat",
           "Moore"
          ],
          [
           "Eno River Academy",
           "Tie",
           "Orange"
          ],
          [
           "The Expedition School",
           "Tie",
           "Orange"
          ],
          [
           "Arapahoe Charter School",
           "Tie",
           "Pamlico"
          ],
          [
           "Millennium Charter Academy",
           "Republican",
           "Surry"
          ],
          [
           "Union Academy",
           "Republican",
           "Union"
          ],
          [
           "Union Day School",
           "Tie",
           "Union"
          ],
          [
           "Union Prep Academy at Indian Trail",
           "Republican",
           "Union"
          ],
          [
           "Monroe Charter Academy",
           "Tie",
           "Union"
          ],
          [
           "Apprentice Academy High School",
           "Republican",
           "Union"
          ],
          [
           "Dillard Academy",
           "Tie",
           "Wayne"
          ],
          [
           "Wayne Preparatory Academy",
           "Tie",
           "Wayne"
          ],
          [
           "Asheville PEAK Academy",
           "Democrat",
           "Buncombe"
          ],
          [
           "Evergreen Community Charter",
           "Democrat",
           "Buncombe"
          ],
          [
           "Bear Grass Charter School",
           "Tie",
           "Martin"
          ],
          [
           "Paul R. Brown Leadership Academy",
           "Democrat",
           "Bladen"
          ],
          [
           "Two Rivers Community School",
           "Democrat",
           "Watauga"
          ]
         ],
         "hovertemplate": "district_political_affiliation=Tie<br>x=%{x}<br>y=%{y}<br>schoolname=%{customdata[0]}<br>charter_political_affiliation=%{customdata[1]}<br>countydescription=%{customdata[2]}<extra></extra>",
         "legendgroup": "Tie",
         "marker": {
          "color": "green",
          "symbol": "circle"
         },
         "mode": "markers",
         "name": "Tie",
         "orientation": "v",
         "showlegend": true,
         "type": "scatter",
         "x": [
          -0.12611408531665802,
          -2.5245134830474854,
          -1.8071593046188354,
          -1.516463279724121,
          -3.137054681777954,
          0.8981805443763733,
          -3.460073471069336,
          -3.292644500732422,
          -4.008695602416992,
          5.02237606048584,
          -4.982033729553223,
          -2.6228749752044678,
          6.776590347290039,
          -4.77743673324585,
          -2.3745782375335693,
          -3.1105945110321045,
          3.5821292400360107,
          -1.1110026836395264,
          -2.5876028537750244,
          2.3845250606536865,
          -9.520130157470703,
          -8.253399848937988,
          0.5750520825386047,
          -4.4819207191467285,
          -4.14954137802124,
          -3.181828737258911,
          0.9579537510871887,
          -3.6175577640533447,
          -4.804009437561035,
          -1.568363070487976,
          4.219266414642334,
          12.213249206542969,
          10.393877983093262,
          3.947883367538452,
          -7.917572021484375
         ],
         "xaxis": "x",
         "y": [
          -4.370241165161133,
          1.818022608757019,
          6.303744792938232,
          -9.187614440917969,
          -3.8797755241394043,
          3.337646007537842,
          1.7138967514038086,
          -2.812572956085205,
          2.385502815246582,
          -2.6497390270233154,
          0.49752020835876465,
          2.420485258102417,
          -1.5245230197906494,
          -4.682514667510986,
          -2.6455776691436768,
          4.356659889221191,
          -6.029451370239258,
          2.053118944168091,
          3.2896947860717773,
          2.5034027099609375,
          -2.5711376667022705,
          5.90212869644165,
          -1.7397178411483765,
          4.1904754638671875,
          6.331262111663818,
          8.442109107971191,
          -0.6238420009613037,
          1.2922639846801758,
          -5.1429572105407715,
          0.1440860778093338,
          3.9423134326934814,
          1.0876771211624146,
          3.416443347930908,
          -9.590010643005371,
          -6.464071273803711
         ],
         "yaxis": "y"
        },
        {
         "customdata": [
          [
           "Marjorie Williams Academy",
           "Republican",
           "Avery"
          ],
          [
           "Washington Montessori",
           "Tie",
           "Beaufort"
          ],
          [
           "New Dimensions",
           "Republican",
           "Burke"
          ],
          [
           "Oak Hill Charter School",
           "Tie",
           "Caldwell"
          ],
          [
           "Tiller School",
           "Democrat",
           "Carteret"
          ],
          [
           "Pinnacle Classical Academy",
           "Tie",
           "Cleveland"
          ],
          [
           "Thomas Academy",
           "Tie",
           "Columbus"
          ],
          [
           "Water's Edge Village School",
           "Democrat",
           "Currituck"
          ],
          [
           "Davidson Charter Academy",
           "Republican",
           "Davidson"
          ],
          [
           "Quality Education Academy",
           "Democrat",
           "Forsyth"
          ],
          [
           "Carter G. Woodson School",
           "Democrat",
           "Forsyth"
          ],
          [
           "The Arts Based School",
           "Tie",
           "Forsyth"
          ],
          [
           "Piedmont Community Charter School",
           "Republican",
           "Gaston"
          ],
          [
           "Mountain Island Charter School",
           "Democrat",
           "Gaston"
          ],
          [
           "Ridgeview Charter School",
           "Democrat",
           "Gaston"
          ],
          [
           "Community Public Charter",
           "Democrat",
           "Gaston"
          ],
          [
           "Johnston Charter Academy",
           "Tie",
           "Johnston"
          ],
          [
           "Rolesville Charter Academy",
           "Tie",
           "Wake"
          ],
          [
           "The Mountain Community Sch",
           "Tie",
           "Henderson"
          ],
          [
           "FernLeaf",
           "Democrat",
           "Henderson"
          ],
          [
           "American Renaissance School",
           "Tie",
           "Iredell"
          ],
          [
           "Success Institute Charter",
           "Tie",
           "Iredell"
          ],
          [
           "Pine Lake Preparatory",
           "Democrat",
           "Iredell"
          ],
          [
           "Neuse Charter School",
           "Republican",
           "Johnston"
          ],
          [
           "Lincoln Charter School",
           "Republican",
           "Lincoln"
          ],
          [
           "West Lake Preparatory Academy",
           "Democrat",
           "Lincoln"
          ],
          [
           "Cape Fear Center for Inquiry",
           "Democrat",
           "New Hanover"
          ],
          [
           "Wilmington Preparatory Academy",
           "Democrat",
           "New Hanover"
          ],
          [
           "Island Montessori Charter School",
           "Tie",
           "New Hanover"
          ],
          [
           "Girls Leadership Academy of Wilmington",
           "Tie",
           "New Hanover"
          ],
          [
           "Wilmington School of the Arts",
           "Democrat",
           "New Hanover"
          ],
          [
           "Z.E.C.A. School of Arts and Technology",
           "Democrat",
           "Onslow"
          ],
          [
           "Uwharrie Charter Academy",
           "Republican",
           "Randolph"
          ],
          [
           "Bethany Community School",
           "Republican",
           "Rockingham"
          ],
          [
           "Faith Academy Charter School",
           "Republican",
           "Rowan"
          ],
          [
           "Thomas Jefferson Class Academy",
           "Republican",
           "Rutherford"
          ],
          [
           "Lake Lure Classical Academy",
           "Republican",
           "Rutherford"
          ],
          [
           "Gray Stone Day",
           "Tie",
           "Stanly"
          ],
          [
           "Brevard Academy",
           "Republican",
           "Transylvania"
          ],
          [
           "The Exploris School",
           "Democrat",
           "Wake"
          ],
          [
           "Sterling Montessori Academy",
           "Democrat",
           "Wake"
          ],
          [
           "Franklin Academy",
           "Tie",
           "Wake"
          ],
          [
           "East Wake Academy",
           "Tie",
           "Wake"
          ],
          [
           "Raleigh Charter High School",
           "Democrat",
           "Wake"
          ],
          [
           "Quest Academy",
           "Tie",
           "Wake"
          ],
          [
           "Southern Wake Academy",
           "Tie",
           "Wake"
          ],
          [
           "Casa Esperanza Montessori Charter School",
           "Democrat",
           "Wake"
          ],
          [
           "Endeavor Charter School",
           "Democrat",
           "Wake"
          ],
          [
           "Triangle Math and Science Academy",
           "Democrat",
           "Wake"
          ],
          [
           "Longleaf School of the Arts",
           "Democrat",
           "Wake"
          ],
          [
           "Cardinal Charter Academy",
           "Republican",
           "Wake"
          ],
          [
           "Envision Science Academy",
           "Democrat",
           "Wake"
          ],
          [
           "Central Wake High School",
           "Democrat",
           "Wake"
          ],
          [
           "Pine Springs Preparatory Academy",
           "Republican",
           "Wake"
          ],
          [
           "Raleigh Oak Charter",
           "Tie",
           "Wake"
          ],
          [
           "Cardinal Charter Acad at Wendell Falls",
           "Republican",
           "Wake"
          ],
          [
           "Doral Academy of North Carolina",
           "Tie",
           "Wake"
          ],
          [
           "The Math and Science Academy of Apex",
           "Democrat",
           "Wake"
          ],
          [
           "Wake Forest Charter Academy",
           "Democrat",
           "Wake"
          ],
          [
           "Iredell Charter Academy",
           "Republican",
           "Iredell"
          ],
          [
           "American Leadership Academy-Coastal",
           "Republican",
           "New Hanover"
          ],
          [
           "NC Leadership Charter Academy",
           "Republican",
           "Forsyth"
          ],
          [
           "Langtree Charter Academy",
           "Republican",
           "Iredell"
          ],
          [
           "Classical Charter Schools of Southport",
           "Republican",
           "Brunswick"
          ],
          [
           "Classical Charter Schools of Wilmington",
           "Republican",
           "New Hanover"
          ],
          [
           "Forsyth Academy",
           "Democrat",
           "Forsyth"
          ],
          [
           "Classical Charter Schools of Whiteville",
           "Republican",
           "Columbus"
          ],
          [
           "Classical Charter Schools of Leland ",
           "Republican",
           "Brunswick"
          ],
          [
           "Carolina Charter Academy",
           "Republican",
           "Wake"
          ],
          [
           "Peak Charter Academy",
           "Tie",
           "Wake"
          ],
          [
           "Tillery Charter Academy",
           "Democrat",
           "Montgomery"
          ],
          [
           "American Leadership Academy - Johnston",
           "Tie",
           "Johnston"
          ],
          [
           "Mountain Discovery",
           "Democrat",
           "Swain"
          ],
          [
           "Shining Rock Classical Academy",
           "Tie",
           "Haywood"
          ],
          [
           "Magellan Charter",
           "Tie",
           "Wake"
          ],
          [
           "RISE Southeast Raleigh Charter",
           "Democrat",
           "Wake"
          ],
          [
           "PreEminent Charter",
           "Democrat",
           "Wake"
          ]
         ],
         "hovertemplate": "district_political_affiliation=Republican<br>x=%{x}<br>y=%{y}<br>schoolname=%{customdata[0]}<br>charter_political_affiliation=%{customdata[1]}<br>countydescription=%{customdata[2]}<extra></extra>",
         "legendgroup": "Republican",
         "marker": {
          "color": "red",
          "symbol": "circle"
         },
         "mode": "markers",
         "name": "Republican",
         "orientation": "v",
         "showlegend": true,
         "type": "scatter",
         "x": [
          1.7167872190475464,
          -1.8519611358642578,
          -3.1102824211120605,
          1.2134169340133667,
          -0.3670192360877991,
          -12.23618221282959,
          1.0399067401885986,
          -9.494245529174805,
          6.901375770568848,
          -6.712580680847168,
          12.837700843811035,
          0.17298342287540436,
          -1.6196461915969849,
          7.247232913970947,
          3.5860610008239746,
          -0.7287887334823608,
          -10.935903549194336,
          -10.937128067016602,
          -5.052119255065918,
          -1.8742133378982544,
          -12.2161226272583,
          -7.133650302886963,
          6.468509197235107,
          -4.783349990844727,
          7.315033435821533,
          7.032441139221191,
          7.718313217163086,
          7.505709648132324,
          -7.790003776550293,
          -4.456714153289795,
          0.16401757299900055,
          -1.2318459749221802,
          10.865433692932129,
          -10.3014497756958,
          -2.9798243045806885,
          -12.88668155670166,
          0.5957969427108765,
          -6.675370693206787,
          -10.271595001220703,
          -9.788412094116211,
          -4.217029094696045,
          -8.375123023986816,
          -2.5520458221435547,
          5.411149024963379,
          4.119761943817139,
          -7.592865467071533,
          -5.980886459350586,
          -0.48647040128707886,
          4.284132957458496,
          -2.313931465148926,
          -5.765537261962891,
          2.7313950061798096,
          -12.709671974182129,
          -3.533900260925293,
          -1.579767107963562,
          -5.756804466247559,
          -1.6589605808258057,
          -7.04252815246582,
          10.30361270904541,
          7.887875080108643,
          -1.269570231437683,
          4.025437355041504,
          9.212838172912598,
          -0.4690764844417572,
          -0.4690815508365631,
          -1.4129916429519653,
          -0.4690815508365631,
          -0.4690815508365631,
          9.24834156036377,
          -2.691641092300415,
          0.8927382230758667,
          -7.278528690338135,
          7.402247905731201,
          2.2020199298858643,
          8.770554542541504,
          -5.524862289428711,
          10.495085716247559
         ],
         "xaxis": "x",
         "y": [
          -7.745540618896484,
          -4.102316379547119,
          -1.1491848230361938,
          -0.6352453231811523,
          2.8294761180877686,
          -0.3643515408039093,
          7.491138458251953,
          -4.911843776702881,
          1.6914012432098389,
          -4.4908671379089355,
          -0.41231924295425415,
          3.27002215385437,
          1.5529993772506714,
          4.665909290313721,
          0.6237510442733765,
          -1.1212102174758911,
          3.0020036697387695,
          3.0024821758270264,
          -1.0806304216384888,
          6.797411918640137,
          -0.5512729287147522,
          3.463085412979126,
          -7.427835464477539,
          -2.259549140930176,
          -0.42316049337387085,
          -6.974465847015381,
          -3.289233446121216,
          -6.293911933898926,
          2.4997668266296387,
          -0.03452557325363159,
          3.898507595062256,
          4.283167839050293,
          -2.9560744762420654,
          8.242473602294922,
          0.08571050316095352,
          0.316744327545166,
          0.5457547903060913,
          1.201460838317871,
          8.23259162902832,
          -2.7782657146453857,
          2.6066269874572754,
          0.9283508062362671,
          0.5102396011352539,
          1.3665564060211182,
          4.976315498352051,
          0.3269462585449219,
          5.886789798736572,
          1.9066493511199951,
          7.844452381134033,
          1.4709160327911377,
          -0.013850649818778038,
          4.8859333992004395,
          -4.532573699951172,
          -2.278322219848633,
          3.3864314556121826,
          -0.005615958943963051,
          -1.8543243408203125,
          1.898771047592163,
          -2.7853026390075684,
          1.438561201095581,
          -9.457935333251953,
          -9.36867618560791,
          -1.0086266994476318,
          11.767337799072266,
          11.76734733581543,
          -5.587339401245117,
          11.76734733581543,
          11.76734733581543,
          -2.5238142013549805,
          -6.397210597991943,
          -3.632105588912964,
          -4.084600925445557,
          4.208034038543701,
          -1.864592432975769,
          3.7142794132232666,
          -7.62701416015625,
          1.3082008361816406
         ],
         "yaxis": "y"
        }
       ],
       "layout": {
        "legend": {
         "title": {
          "text": "district_political_affiliation"
         },
         "tracegroupgap": 0
        },
        "template": {
         "data": {
          "bar": [
           {
            "error_x": {
             "color": "#2a3f5f"
            },
            "error_y": {
             "color": "#2a3f5f"
            },
            "marker": {
             "line": {
              "color": "#E5ECF6",
              "width": 0.5
             },
             "pattern": {
              "fillmode": "overlay",
              "size": 10,
              "solidity": 0.2
             }
            },
            "type": "bar"
           }
          ],
          "barpolar": [
           {
            "marker": {
             "line": {
              "color": "#E5ECF6",
              "width": 0.5
             },
             "pattern": {
              "fillmode": "overlay",
              "size": 10,
              "solidity": 0.2
             }
            },
            "type": "barpolar"
           }
          ],
          "carpet": [
           {
            "aaxis": {
             "endlinecolor": "#2a3f5f",
             "gridcolor": "white",
             "linecolor": "white",
             "minorgridcolor": "white",
             "startlinecolor": "#2a3f5f"
            },
            "baxis": {
             "endlinecolor": "#2a3f5f",
             "gridcolor": "white",
             "linecolor": "white",
             "minorgridcolor": "white",
             "startlinecolor": "#2a3f5f"
            },
            "type": "carpet"
           }
          ],
          "choropleth": [
           {
            "colorbar": {
             "outlinewidth": 0,
             "ticks": ""
            },
            "type": "choropleth"
           }
          ],
          "contour": [
           {
            "colorbar": {
             "outlinewidth": 0,
             "ticks": ""
            },
            "colorscale": [
             [
              0,
              "#0d0887"
             ],
             [
              0.1111111111111111,
              "#46039f"
             ],
             [
              0.2222222222222222,
              "#7201a8"
             ],
             [
              0.3333333333333333,
              "#9c179e"
             ],
             [
              0.4444444444444444,
              "#bd3786"
             ],
             [
              0.5555555555555556,
              "#d8576b"
             ],
             [
              0.6666666666666666,
              "#ed7953"
             ],
             [
              0.7777777777777778,
              "#fb9f3a"
             ],
             [
              0.8888888888888888,
              "#fdca26"
             ],
             [
              1,
              "#f0f921"
             ]
            ],
            "type": "contour"
           }
          ],
          "contourcarpet": [
           {
            "colorbar": {
             "outlinewidth": 0,
             "ticks": ""
            },
            "type": "contourcarpet"
           }
          ],
          "heatmap": [
           {
            "colorbar": {
             "outlinewidth": 0,
             "ticks": ""
            },
            "colorscale": [
             [
              0,
              "#0d0887"
             ],
             [
              0.1111111111111111,
              "#46039f"
             ],
             [
              0.2222222222222222,
              "#7201a8"
             ],
             [
              0.3333333333333333,
              "#9c179e"
             ],
             [
              0.4444444444444444,
              "#bd3786"
             ],
             [
              0.5555555555555556,
              "#d8576b"
             ],
             [
              0.6666666666666666,
              "#ed7953"
             ],
             [
              0.7777777777777778,
              "#fb9f3a"
             ],
             [
              0.8888888888888888,
              "#fdca26"
             ],
             [
              1,
              "#f0f921"
             ]
            ],
            "type": "heatmap"
           }
          ],
          "heatmapgl": [
           {
            "colorbar": {
             "outlinewidth": 0,
             "ticks": ""
            },
            "colorscale": [
             [
              0,
              "#0d0887"
             ],
             [
              0.1111111111111111,
              "#46039f"
             ],
             [
              0.2222222222222222,
              "#7201a8"
             ],
             [
              0.3333333333333333,
              "#9c179e"
             ],
             [
              0.4444444444444444,
              "#bd3786"
             ],
             [
              0.5555555555555556,
              "#d8576b"
             ],
             [
              0.6666666666666666,
              "#ed7953"
             ],
             [
              0.7777777777777778,
              "#fb9f3a"
             ],
             [
              0.8888888888888888,
              "#fdca26"
             ],
             [
              1,
              "#f0f921"
             ]
            ],
            "type": "heatmapgl"
           }
          ],
          "histogram": [
           {
            "marker": {
             "pattern": {
              "fillmode": "overlay",
              "size": 10,
              "solidity": 0.2
             }
            },
            "type": "histogram"
           }
          ],
          "histogram2d": [
           {
            "colorbar": {
             "outlinewidth": 0,
             "ticks": ""
            },
            "colorscale": [
             [
              0,
              "#0d0887"
             ],
             [
              0.1111111111111111,
              "#46039f"
             ],
             [
              0.2222222222222222,
              "#7201a8"
             ],
             [
              0.3333333333333333,
              "#9c179e"
             ],
             [
              0.4444444444444444,
              "#bd3786"
             ],
             [
              0.5555555555555556,
              "#d8576b"
             ],
             [
              0.6666666666666666,
              "#ed7953"
             ],
             [
              0.7777777777777778,
              "#fb9f3a"
             ],
             [
              0.8888888888888888,
              "#fdca26"
             ],
             [
              1,
              "#f0f921"
             ]
            ],
            "type": "histogram2d"
           }
          ],
          "histogram2dcontour": [
           {
            "colorbar": {
             "outlinewidth": 0,
             "ticks": ""
            },
            "colorscale": [
             [
              0,
              "#0d0887"
             ],
             [
              0.1111111111111111,
              "#46039f"
             ],
             [
              0.2222222222222222,
              "#7201a8"
             ],
             [
              0.3333333333333333,
              "#9c179e"
             ],
             [
              0.4444444444444444,
              "#bd3786"
             ],
             [
              0.5555555555555556,
              "#d8576b"
             ],
             [
              0.6666666666666666,
              "#ed7953"
             ],
             [
              0.7777777777777778,
              "#fb9f3a"
             ],
             [
              0.8888888888888888,
              "#fdca26"
             ],
             [
              1,
              "#f0f921"
             ]
            ],
            "type": "histogram2dcontour"
           }
          ],
          "mesh3d": [
           {
            "colorbar": {
             "outlinewidth": 0,
             "ticks": ""
            },
            "type": "mesh3d"
           }
          ],
          "parcoords": [
           {
            "line": {
             "colorbar": {
              "outlinewidth": 0,
              "ticks": ""
             }
            },
            "type": "parcoords"
           }
          ],
          "pie": [
           {
            "automargin": true,
            "type": "pie"
           }
          ],
          "scatter": [
           {
            "fillpattern": {
             "fillmode": "overlay",
             "size": 10,
             "solidity": 0.2
            },
            "type": "scatter"
           }
          ],
          "scatter3d": [
           {
            "line": {
             "colorbar": {
              "outlinewidth": 0,
              "ticks": ""
             }
            },
            "marker": {
             "colorbar": {
              "outlinewidth": 0,
              "ticks": ""
             }
            },
            "type": "scatter3d"
           }
          ],
          "scattercarpet": [
           {
            "marker": {
             "colorbar": {
              "outlinewidth": 0,
              "ticks": ""
             }
            },
            "type": "scattercarpet"
           }
          ],
          "scattergeo": [
           {
            "marker": {
             "colorbar": {
              "outlinewidth": 0,
              "ticks": ""
             }
            },
            "type": "scattergeo"
           }
          ],
          "scattergl": [
           {
            "marker": {
             "colorbar": {
              "outlinewidth": 0,
              "ticks": ""
             }
            },
            "type": "scattergl"
           }
          ],
          "scattermapbox": [
           {
            "marker": {
             "colorbar": {
              "outlinewidth": 0,
              "ticks": ""
             }
            },
            "type": "scattermapbox"
           }
          ],
          "scatterpolar": [
           {
            "marker": {
             "colorbar": {
              "outlinewidth": 0,
              "ticks": ""
             }
            },
            "type": "scatterpolar"
           }
          ],
          "scatterpolargl": [
           {
            "marker": {
             "colorbar": {
              "outlinewidth": 0,
              "ticks": ""
             }
            },
            "type": "scatterpolargl"
           }
          ],
          "scatterternary": [
           {
            "marker": {
             "colorbar": {
              "outlinewidth": 0,
              "ticks": ""
             }
            },
            "type": "scatterternary"
           }
          ],
          "surface": [
           {
            "colorbar": {
             "outlinewidth": 0,
             "ticks": ""
            },
            "colorscale": [
             [
              0,
              "#0d0887"
             ],
             [
              0.1111111111111111,
              "#46039f"
             ],
             [
              0.2222222222222222,
              "#7201a8"
             ],
             [
              0.3333333333333333,
              "#9c179e"
             ],
             [
              0.4444444444444444,
              "#bd3786"
             ],
             [
              0.5555555555555556,
              "#d8576b"
             ],
             [
              0.6666666666666666,
              "#ed7953"
             ],
             [
              0.7777777777777778,
              "#fb9f3a"
             ],
             [
              0.8888888888888888,
              "#fdca26"
             ],
             [
              1,
              "#f0f921"
             ]
            ],
            "type": "surface"
           }
          ],
          "table": [
           {
            "cells": {
             "fill": {
              "color": "#EBF0F8"
             },
             "line": {
              "color": "white"
             }
            },
            "header": {
             "fill": {
              "color": "#C8D4E3"
             },
             "line": {
              "color": "white"
             }
            },
            "type": "table"
           }
          ]
         },
         "layout": {
          "annotationdefaults": {
           "arrowcolor": "#2a3f5f",
           "arrowhead": 0,
           "arrowwidth": 1
          },
          "autotypenumbers": "strict",
          "coloraxis": {
           "colorbar": {
            "outlinewidth": 0,
            "ticks": ""
           }
          },
          "colorscale": {
           "diverging": [
            [
             0,
             "#8e0152"
            ],
            [
             0.1,
             "#c51b7d"
            ],
            [
             0.2,
             "#de77ae"
            ],
            [
             0.3,
             "#f1b6da"
            ],
            [
             0.4,
             "#fde0ef"
            ],
            [
             0.5,
             "#f7f7f7"
            ],
            [
             0.6,
             "#e6f5d0"
            ],
            [
             0.7,
             "#b8e186"
            ],
            [
             0.8,
             "#7fbc41"
            ],
            [
             0.9,
             "#4d9221"
            ],
            [
             1,
             "#276419"
            ]
           ],
           "sequential": [
            [
             0,
             "#0d0887"
            ],
            [
             0.1111111111111111,
             "#46039f"
            ],
            [
             0.2222222222222222,
             "#7201a8"
            ],
            [
             0.3333333333333333,
             "#9c179e"
            ],
            [
             0.4444444444444444,
             "#bd3786"
            ],
            [
             0.5555555555555556,
             "#d8576b"
            ],
            [
             0.6666666666666666,
             "#ed7953"
            ],
            [
             0.7777777777777778,
             "#fb9f3a"
            ],
            [
             0.8888888888888888,
             "#fdca26"
            ],
            [
             1,
             "#f0f921"
            ]
           ],
           "sequentialminus": [
            [
             0,
             "#0d0887"
            ],
            [
             0.1111111111111111,
             "#46039f"
            ],
            [
             0.2222222222222222,
             "#7201a8"
            ],
            [
             0.3333333333333333,
             "#9c179e"
            ],
            [
             0.4444444444444444,
             "#bd3786"
            ],
            [
             0.5555555555555556,
             "#d8576b"
            ],
            [
             0.6666666666666666,
             "#ed7953"
            ],
            [
             0.7777777777777778,
             "#fb9f3a"
            ],
            [
             0.8888888888888888,
             "#fdca26"
            ],
            [
             1,
             "#f0f921"
            ]
           ]
          },
          "colorway": [
           "#636efa",
           "#EF553B",
           "#00cc96",
           "#ab63fa",
           "#FFA15A",
           "#19d3f3",
           "#FF6692",
           "#B6E880",
           "#FF97FF",
           "#FECB52"
          ],
          "font": {
           "color": "#2a3f5f"
          },
          "geo": {
           "bgcolor": "white",
           "lakecolor": "white",
           "landcolor": "#E5ECF6",
           "showlakes": true,
           "showland": true,
           "subunitcolor": "white"
          },
          "hoverlabel": {
           "align": "left"
          },
          "hovermode": "closest",
          "mapbox": {
           "style": "light"
          },
          "paper_bgcolor": "white",
          "plot_bgcolor": "#E5ECF6",
          "polar": {
           "angularaxis": {
            "gridcolor": "white",
            "linecolor": "white",
            "ticks": ""
           },
           "bgcolor": "#E5ECF6",
           "radialaxis": {
            "gridcolor": "white",
            "linecolor": "white",
            "ticks": ""
           }
          },
          "scene": {
           "xaxis": {
            "backgroundcolor": "#E5ECF6",
            "gridcolor": "white",
            "gridwidth": 2,
            "linecolor": "white",
            "showbackground": true,
            "ticks": "",
            "zerolinecolor": "white"
           },
           "yaxis": {
            "backgroundcolor": "#E5ECF6",
            "gridcolor": "white",
            "gridwidth": 2,
            "linecolor": "white",
            "showbackground": true,
            "ticks": "",
            "zerolinecolor": "white"
           },
           "zaxis": {
            "backgroundcolor": "#E5ECF6",
            "gridcolor": "white",
            "gridwidth": 2,
            "linecolor": "white",
            "showbackground": true,
            "ticks": "",
            "zerolinecolor": "white"
           }
          },
          "shapedefaults": {
           "line": {
            "color": "#2a3f5f"
           }
          },
          "ternary": {
           "aaxis": {
            "gridcolor": "white",
            "linecolor": "white",
            "ticks": ""
           },
           "baxis": {
            "gridcolor": "white",
            "linecolor": "white",
            "ticks": ""
           },
           "bgcolor": "#E5ECF6",
           "caxis": {
            "gridcolor": "white",
            "linecolor": "white",
            "ticks": ""
           }
          },
          "title": {
           "x": 0.05
          },
          "xaxis": {
           "automargin": true,
           "gridcolor": "white",
           "linecolor": "white",
           "ticks": "",
           "title": {
            "standoff": 15
           },
           "zerolinecolor": "white",
           "zerolinewidth": 2
          },
          "yaxis": {
           "automargin": true,
           "gridcolor": "white",
           "linecolor": "white",
           "ticks": "",
           "title": {
            "standoff": 15
           },
           "zerolinecolor": "white",
           "zerolinewidth": 2
          }
         }
        },
        "title": {
         "text": "Sentence Embed with District Political Affiliation"
        },
        "xaxis": {
         "anchor": "y",
         "domain": [
          0,
          1
         ],
         "title": {
          "text": "x"
         }
        },
        "yaxis": {
         "anchor": "x",
         "domain": [
          0,
          1
         ],
         "title": {
          "text": "y"
         }
        }
       }
      }
     },
     "metadata": {},
     "output_type": "display_data"
    }
   ],
   "source": [
    "fig = px.scatter(df_2d, x='x', y='y',title='Sentence Embed with District Political Affiliation', color='district_political_affiliation',color_discrete_map=color_discrete_map, hover_data=['schoolname', 'charter_political_affiliation', 'countydescription'])\n",
    "fig.show()"
   ]
  },
  {
   "cell_type": "code",
   "execution_count": 14,
   "metadata": {},
   "outputs": [
    {
     "name": "stderr",
     "output_type": "stream",
     "text": [
      "c:\\Users\\chris\\.conda\\envs\\charter\\lib\\site-packages\\sklearn\\cluster\\_kmeans.py:870: FutureWarning:\n",
      "\n",
      "The default value of `n_init` will change from 10 to 'auto' in 1.4. Set the value of `n_init` explicitly to suppress the warning\n",
      "\n",
      "c:\\Users\\chris\\.conda\\envs\\charter\\lib\\site-packages\\sklearn\\cluster\\_kmeans.py:870: FutureWarning:\n",
      "\n",
      "The default value of `n_init` will change from 10 to 'auto' in 1.4. Set the value of `n_init` explicitly to suppress the warning\n",
      "\n",
      "c:\\Users\\chris\\.conda\\envs\\charter\\lib\\site-packages\\sklearn\\cluster\\_kmeans.py:870: FutureWarning:\n",
      "\n",
      "The default value of `n_init` will change from 10 to 'auto' in 1.4. Set the value of `n_init` explicitly to suppress the warning\n",
      "\n",
      "c:\\Users\\chris\\.conda\\envs\\charter\\lib\\site-packages\\sklearn\\cluster\\_kmeans.py:870: FutureWarning:\n",
      "\n",
      "The default value of `n_init` will change from 10 to 'auto' in 1.4. Set the value of `n_init` explicitly to suppress the warning\n",
      "\n",
      "c:\\Users\\chris\\.conda\\envs\\charter\\lib\\site-packages\\sklearn\\cluster\\_kmeans.py:870: FutureWarning:\n",
      "\n",
      "The default value of `n_init` will change from 10 to 'auto' in 1.4. Set the value of `n_init` explicitly to suppress the warning\n",
      "\n",
      "c:\\Users\\chris\\.conda\\envs\\charter\\lib\\site-packages\\sklearn\\cluster\\_kmeans.py:870: FutureWarning:\n",
      "\n",
      "The default value of `n_init` will change from 10 to 'auto' in 1.4. Set the value of `n_init` explicitly to suppress the warning\n",
      "\n",
      "c:\\Users\\chris\\.conda\\envs\\charter\\lib\\site-packages\\sklearn\\cluster\\_kmeans.py:870: FutureWarning:\n",
      "\n",
      "The default value of `n_init` will change from 10 to 'auto' in 1.4. Set the value of `n_init` explicitly to suppress the warning\n",
      "\n",
      "c:\\Users\\chris\\.conda\\envs\\charter\\lib\\site-packages\\sklearn\\cluster\\_kmeans.py:870: FutureWarning:\n",
      "\n",
      "The default value of `n_init` will change from 10 to 'auto' in 1.4. Set the value of `n_init` explicitly to suppress the warning\n",
      "\n",
      "c:\\Users\\chris\\.conda\\envs\\charter\\lib\\site-packages\\sklearn\\cluster\\_kmeans.py:870: FutureWarning:\n",
      "\n",
      "The default value of `n_init` will change from 10 to 'auto' in 1.4. Set the value of `n_init` explicitly to suppress the warning\n",
      "\n",
      "c:\\Users\\chris\\.conda\\envs\\charter\\lib\\site-packages\\sklearn\\cluster\\_kmeans.py:870: FutureWarning:\n",
      "\n",
      "The default value of `n_init` will change from 10 to 'auto' in 1.4. Set the value of `n_init` explicitly to suppress the warning\n",
      "\n",
      "c:\\Users\\chris\\.conda\\envs\\charter\\lib\\site-packages\\sklearn\\cluster\\_kmeans.py:870: FutureWarning:\n",
      "\n",
      "The default value of `n_init` will change from 10 to 'auto' in 1.4. Set the value of `n_init` explicitly to suppress the warning\n",
      "\n",
      "c:\\Users\\chris\\.conda\\envs\\charter\\lib\\site-packages\\sklearn\\cluster\\_kmeans.py:870: FutureWarning:\n",
      "\n",
      "The default value of `n_init` will change from 10 to 'auto' in 1.4. Set the value of `n_init` explicitly to suppress the warning\n",
      "\n",
      "c:\\Users\\chris\\.conda\\envs\\charter\\lib\\site-packages\\sklearn\\cluster\\_kmeans.py:870: FutureWarning:\n",
      "\n",
      "The default value of `n_init` will change from 10 to 'auto' in 1.4. Set the value of `n_init` explicitly to suppress the warning\n",
      "\n",
      "c:\\Users\\chris\\.conda\\envs\\charter\\lib\\site-packages\\sklearn\\cluster\\_kmeans.py:870: FutureWarning:\n",
      "\n",
      "The default value of `n_init` will change from 10 to 'auto' in 1.4. Set the value of `n_init` explicitly to suppress the warning\n",
      "\n"
     ]
    },
    {
     "data": {
      "image/png": "[encoded data removed]",
      "text/plain": [
       "<Figure size 1000x800 with 1 Axes>"
      ]
     },
     "metadata": {},
     "output_type": "display_data"
    }
   ],
   "source": [
    "## elbow test the damn thing\n",
    "\n",
    "from sklearn.cluster import KMeans\n",
    "import matplotlib.pyplot as plt\n",
    "\n",
    "matrix = np.vstack(complete_emebed_party.ada_embedding.values)\n",
    "\n",
    "sse = [] # sum of squared distances\n",
    "K = range(1, 15) # test up to 15 clusters, adjust as necessary\n",
    "\n",
    "for k in K:\n",
    "    kmeans = KMeans(n_clusters=k, init='k-means++', random_state=42).fit(matrix)\n",
    "    sse.append(kmeans.inertia_)\n",
    "\n",
    "# plot\n",
    "plt.figure(figsize=(10,8))\n",
    "plt.plot(K, sse, 'bx-')\n",
    "plt.xlabel('k')\n",
    "plt.ylabel('Sum_of_squared_distances')\n",
    "plt.title('Elbow Method For Optimal k')\n",
    "plt.show() # holy shit there is no elbow"
   ]
  },
  {
   "cell_type": "code",
   "execution_count": 15,
   "metadata": {},
   "outputs": [
    {
     "name": "stderr",
     "output_type": "stream",
     "text": [
      "c:\\Users\\chris\\.conda\\envs\\charter\\lib\\site-packages\\sklearn\\cluster\\_kmeans.py:870: FutureWarning:\n",
      "\n",
      "The default value of `n_init` will change from 10 to 'auto' in 1.4. Set the value of `n_init` explicitly to suppress the warning\n",
      "\n"
     ]
    }
   ],
   "source": [
    "import numpy as np\n",
    "from sklearn.cluster import KMeans\n",
    "\n",
    "matrix = np.vstack(complete_emebed_party.ada_embedding.values)\n",
    "n_clusters = 3\n",
    "\n",
    "kmeans = KMeans(n_clusters = n_clusters, init='k-means++', random_state=42)\n",
    "kmeans.fit(matrix)\n",
    "complete_emebed_party['Cluster'] = kmeans.labels_"
   ]
  },
  {
   "cell_type": "code",
   "execution_count": 16,
   "metadata": {},
   "outputs": [
    {
     "name": "stderr",
     "output_type": "stream",
     "text": [
      "C:\\Users\\chris\\AppData\\Local\\Temp\\ipykernel_25232\\2850246872.py:12: RuntimeWarning:\n",
      "\n",
      "Mean of empty slice.\n",
      "\n",
      "c:\\Users\\chris\\.conda\\envs\\charter\\lib\\site-packages\\numpy\\core\\_methods.py:192: RuntimeWarning:\n",
      "\n",
      "invalid value encountered in divide\n",
      "\n",
      "C:\\Users\\chris\\AppData\\Local\\Temp\\ipykernel_25232\\2850246872.py:13: RuntimeWarning:\n",
      "\n",
      "Mean of empty slice.\n",
      "\n"
     ]
    },
    {
     "data": {
      "text/plain": [
       "Text(0.5, 1.0, 'Clusters identified visualized in language 2d using t-SNE')"
      ]
     },
     "execution_count": 16,
     "metadata": {},
     "output_type": "execute_result"
    },
    {
     "data": {
      "image/png": "[encoded data removed]",
      "text/plain": [
       "<Figure size 640x480 with 1 Axes>"
      ]
     },
     "metadata": {},
     "output_type": "display_data"
    }
   ],
   "source": [
    "tsne = TSNE(n_components=2, perplexity=15, random_state=42, init=\"random\", learning_rate='auto')\n",
    "vis_dims2 = tsne.fit_transform(matrix)\n",
    "\n",
    "x = [x for x, y in vis_dims2]\n",
    "y = [y for x, y in vis_dims2]\n",
    "\n",
    "for category, color in enumerate([\"purple\", \"green\", \"red\", \"blue\"]):\n",
    "    xs = np.array(x)[complete_emebed_party.Cluster == category]\n",
    "    ys = np.array(y)[complete_emebed_party.Cluster == category]\n",
    "    plt.scatter(xs, ys, color=color, alpha=0.3)\n",
    "\n",
    "    avg_x = xs.mean()\n",
    "    avg_y = ys.mean()\n",
    "\n",
    "    plt.scatter(avg_x, avg_y, marker=\"x\", color=color, s=100)\n",
    "plt.title(\"Clusters identified visualized in language 2d using t-SNE\")"
   ]
  },
  {
   "cell_type": "code",
   "execution_count": 17,
   "metadata": {},
   "outputs": [
    {
     "data": {
      "application/vnd.plotly.v1+json": {
       "config": {
        "plotlyServerURL": "https://plot.ly"
       },
       "data": [
        {
         "customdata": [
          [
           "North Carolina Cyber Academy",
           "Democrat",
           "Democrat"
          ],
          [
           "NC Virtual Academy",
           "Democrat",
           "Tie"
          ],
          [
           "Maureen Joy Charter School",
           "Democrat",
           "Democrat"
          ],
          [
           "Durham Charter School",
           "Democrat",
           "Republican"
          ],
          [
           "Community School of Digital & Visual Art",
           "Democrat",
           "Democrat"
          ],
          [
           "Kestrel Heights School",
           "Democrat",
           "Democrat"
          ],
          [
           "Voyager Academy",
           "Democrat",
           "Democrat"
          ],
          [
           "Global Scholars Academy",
           "Democrat",
           "Democrat"
          ],
          [
           "The Institute Development Young Leaders",
           "Democrat",
           "Democrat"
          ],
          [
           "Reaching All Minds Academy",
           "Democrat",
           "Democrat"
          ],
          [
           "Excelsior Classical Academy",
           "Democrat",
           "Tie"
          ],
          [
           "Discovery Charter",
           "Democrat",
           "Tie"
          ],
          [
           "River Mill Academy",
           "Tie",
           "Democrat"
          ],
          [
           "The Hawbridge School",
           "Tie",
           "Democrat"
          ],
          [
           "Clover Garden",
           "Tie",
           "Republican"
          ],
          [
           "Alamance Community School",
           "Tie",
           "Democrat"
          ],
          [
           "Marjorie Williams Academy",
           "Republican",
           "Republican"
          ],
          [
           "Washington Montessori",
           "Republican",
           "Tie"
          ],
          [
           "Emereau: Bladen",
           "Tie",
           "Democrat"
          ],
          [
           "ArtSpace Charter School",
           "Tie",
           "Democrat"
          ],
          [
           "IC Imagine ",
           "Tie",
           "Democrat"
          ],
          [
           "The Franklin School of Innovation",
           "Tie",
           "Tie"
          ],
          [
           "Francine Delany New School",
           "Tie",
           "Democrat"
          ],
          [
           "New Dimensions",
           "Republican",
           "Republican"
          ],
          [
           "Carolina International School",
           "Tie",
           "Democrat"
          ],
          [
           "Cabarrus Charter Academy",
           "Tie",
           "Republican"
          ],
          [
           "A.C.E. Academy",
           "Tie",
           "Democrat"
          ],
          [
           "Concord Lake STEAM Academy",
           "Tie",
           "Republican"
          ],
          [
           "Oak Hill Charter School",
           "Republican",
           "Tie"
          ],
          [
           "Tiller School",
           "Republican",
           "Democrat"
          ],
          [
           "Willow Oak Montessori",
           "Democrat",
           "Democrat"
          ],
          [
           "Woods Charter",
           "Democrat",
           "Democrat"
          ],
          [
           "Pinnacle Classical Academy",
           "Republican",
           "Tie"
          ],
          [
           "Thomas Academy",
           "Republican",
           "Tie"
          ],
          [
           "Alpha Academy",
           "Democrat",
           "Democrat"
          ],
          [
           "The Capitol Encore Academy",
           "Democrat",
           "Democrat"
          ],
          [
           "Water's Edge Village School",
           "Republican",
           "Democrat"
          ],
          [
           "Davidson Charter Academy",
           "Republican",
           "Republican"
          ],
          [
           "North East Carolina Prep",
           "Democrat",
           "Democrat"
          ],
          [
           "Quality Education Academy",
           "Republican",
           "Democrat"
          ],
          [
           "Carter G. Woodson School",
           "Republican",
           "Democrat"
          ],
          [
           "The Arts Based School",
           "Republican",
           "Tie"
          ],
          [
           "Crosscreek Charter School",
           "Democrat",
           "Tie"
          ],
          [
           "Youngsville Academy",
           "Democrat",
           "Republican"
          ],
          [
           "Wake Preparatory Academy",
           "Democrat",
           "Tie"
          ],
          [
           "Piedmont Community Charter School",
           "Republican",
           "Republican"
          ],
          [
           "Mountain Island Charter School",
           "Republican",
           "Democrat"
          ],
          [
           "Ridgeview Charter School",
           "Republican",
           "Democrat"
          ],
          [
           "Community Public Charter",
           "Republican",
           "Democrat"
          ],
          [
           "Falls Lake Academy",
           "Tie",
           "Republican"
          ],
          [
           "Oxford Preparatory",
           "Tie",
           "Democrat"
          ],
          [
           "Guilford Preparatory Academy",
           "Democrat",
           "Democrat"
          ],
          [
           "Phoenix Academy - Primary, Elem, Upper",
           "Democrat",
           "Tie"
          ],
          [
           "Johnston Charter Academy",
           "Republican",
           "Tie"
          ],
          [
           "Rolesville Charter Academy",
           "Republican",
           "Tie"
          ],
          [
           "Triad Math and Science Academy",
           "Democrat",
           "Democrat"
          ],
          [
           "Cornerstone Charter Academy-CFA",
           "Democrat",
           "Tie"
          ],
          [
           "College Prep and Leadership Academy",
           "Democrat",
           "Tie"
          ],
          [
           "Next Generation Academy",
           "Democrat",
           "Democrat"
          ],
          [
           "The Experiential School of Greensboro",
           "Democrat",
           "Democrat"
          ],
          [
           "KIPP Halifax College Preparatory",
           "Democrat",
           "Democrat"
          ],
          [
           "KIPP Charlotte",
           "Democrat",
           "Democrat"
          ],
          [
           "Hobgood Charter School",
           "Democrat",
           "Democrat"
          ],
          [
           "Anderson Creek Academy",
           "Democrat",
           "Republican"
          ],
          [
           "Achievement Charter Academy",
           "Democrat",
           "Tie"
          ],
          [
           "The Mountain Community Sch",
           "Republican",
           "Tie"
          ],
          [
           "FernLeaf",
           "Republican",
           "Democrat"
          ],
          [
           "American Renaissance School",
           "Republican",
           "Tie"
          ],
          [
           "Success Institute Charter",
           "Republican",
           "Tie"
          ],
          [
           "Pine Lake Preparatory",
           "Republican",
           "Democrat"
          ],
          [
           "Summit Charter",
           "Tie",
           "Republican"
          ],
          [
           "Neuse Charter School",
           "Republican",
           "Republican"
          ],
          [
           "Ascend Leadership Academy: Lee County",
           "Democrat",
           "Republican"
          ],
          [
           "MINA Charter School of Lee County",
           "Democrat",
           "Democrat"
          ],
          [
           "Children's Village Academy",
           "Democrat",
           "Democrat"
          ],
          [
           "Lincoln Charter School",
           "Republican",
           "Republican"
          ],
          [
           "West Lake Preparatory Academy",
           "Republican",
           "Democrat"
          ],
          [
           "Lake Norman Charter",
           "Democrat",
           "Democrat"
          ],
          [
           "Metrolina Reg Scholars Academy",
           "Democrat",
           "Tie"
          ],
          [
           "Community School of Davidson",
           "Democrat",
           "Tie"
          ],
          [
           "Socrates Academy",
           "Democrat",
           "Democrat"
          ],
          [
           "Charlotte Secondary",
           "Democrat",
           "Tie"
          ],
          [
           "Corvian Community School",
           "Democrat",
           "Tie"
          ],
          [
           "Eastside STREAM Academy",
           "Democrat",
           "Tie"
          ],
          [
           "Invest Collegiate Transform",
           "Democrat",
           "Democrat"
          ],
          [
           "Bradford Preparatory School",
           "Democrat",
           "Tie"
          ],
          [
           "Commonwealth High",
           "Democrat",
           "Democrat"
          ],
          [
           "Pioneer Springs Community School",
           "Democrat",
           "Democrat"
          ],
          [
           "Lakeside Charter Academy",
           "Democrat",
           "Republican"
          ],
          [
           "United Community School",
           "Democrat",
           "Democrat"
          ],
          [
           "Stewart Creek High",
           "Democrat",
           "Democrat"
          ],
          [
           "Charlotte Lab School",
           "Democrat",
           "Democrat"
          ],
          [
           "TMSA Charlotte",
           "Democrat",
           "Democrat"
          ],
          [
           "VERITAS Community School, CFA",
           "Democrat",
           "Tie"
          ],
          [
           "Mallard Creek STEM Academy",
           "Democrat",
           "Tie"
          ],
          [
           "Unity Classical Charter School",
           "Democrat",
           "Republican"
          ],
          [
           "East Voyager Academy of Charlotte",
           "Democrat",
           "Tie"
          ],
          [
           "Jackson Day School",
           "Democrat",
           "Tie"
          ],
          [
           "Steele Creek Preparatory Academy",
           "Democrat",
           "Republican"
          ],
          [
           "Southwest Charlotte STEM Academy",
           "Democrat",
           "Tie"
          ],
          [
           "Telra Institute",
           "Democrat",
           "Democrat"
          ],
          [
           "Movement School Southwest",
           "Democrat",
           "Republican"
          ],
          [
           "The Academy of Moore County",
           "Tie",
           "Republican"
          ],
          [
           "STARS Charter",
           "Tie",
           "Tie"
          ],
          [
           "Moore Montessori Community School",
           "Tie",
           "Democrat"
          ],
          [
           "Rocky Mount Preparatory",
           "Democrat",
           "Tie"
          ],
          [
           "Cape Fear Center for Inquiry",
           "Republican",
           "Democrat"
          ],
          [
           "Wilmington Preparatory Academy",
           "Republican",
           "Democrat"
          ],
          [
           "Island Montessori Charter School",
           "Republican",
           "Tie"
          ],
          [
           "Girls Leadership Academy of Wilmington",
           "Republican",
           "Tie"
          ],
          [
           "Wilmington School of the Arts",
           "Republican",
           "Democrat"
          ],
          [
           "Z.E.C.A. School of Arts and Technology",
           "Republican",
           "Democrat"
          ],
          [
           "Eno River Academy",
           "Tie",
           "Tie"
          ],
          [
           "The Expedition School",
           "Tie",
           "Tie"
          ],
          [
           "Arapahoe Charter School",
           "Tie",
           "Tie"
          ],
          [
           "Northeast Academy of Aerospace & AdvTech",
           "Democrat",
           "Democrat"
          ],
          [
           "Bethel Hill Charter",
           "Democrat",
           "Republican"
          ],
          [
           "Roxboro Community School",
           "Democrat",
           "Republican"
          ],
          [
           "Uwharrie Charter Academy",
           "Republican",
           "Republican"
          ],
          [
           "CIS Academy",
           "Democrat",
           "Tie"
          ],
          [
           "Southeastern Academy",
           "Democrat",
           "Tie"
          ],
          [
           "Old Main STREAM Academy",
           "Democrat",
           "Tie"
          ],
          [
           "Bethany Community School",
           "Republican",
           "Republican"
          ],
          [
           "Faith Academy Charter School",
           "Republican",
           "Republican"
          ],
          [
           "Thomas Jefferson Class Academy",
           "Republican",
           "Republican"
          ],
          [
           "Lake Lure Classical Academy",
           "Republican",
           "Republican"
          ],
          [
           "Gray Stone Day",
           "Republican",
           "Tie"
          ],
          [
           "Millennium Charter Academy",
           "Tie",
           "Republican"
          ],
          [
           "Brevard Academy",
           "Republican",
           "Republican"
          ],
          [
           "Union Academy",
           "Tie",
           "Republican"
          ],
          [
           "Union Day School",
           "Tie",
           "Tie"
          ],
          [
           "Union Prep Academy at Indian Trail",
           "Tie",
           "Republican"
          ],
          [
           "Monroe Charter Academy",
           "Tie",
           "Tie"
          ],
          [
           "Apprentice Academy High School",
           "Tie",
           "Republican"
          ],
          [
           "Henderson Collegiate",
           "Democrat",
           "Democrat"
          ],
          [
           "Vance Charter School",
           "Democrat",
           "Tie"
          ],
          [
           "The Exploris School",
           "Republican",
           "Democrat"
          ],
          [
           "Sterling Montessori Academy",
           "Republican",
           "Democrat"
          ],
          [
           "Franklin Academy",
           "Republican",
           "Tie"
          ],
          [
           "East Wake Academy",
           "Republican",
           "Tie"
          ],
          [
           "Raleigh Charter High School",
           "Republican",
           "Democrat"
          ],
          [
           "Quest Academy",
           "Republican",
           "Tie"
          ],
          [
           "Southern Wake Academy",
           "Republican",
           "Tie"
          ],
          [
           "Casa Esperanza Montessori Charter School",
           "Republican",
           "Democrat"
          ],
          [
           "Endeavor Charter School",
           "Republican",
           "Democrat"
          ],
          [
           "Triangle Math and Science Academy",
           "Republican",
           "Democrat"
          ],
          [
           "Longleaf School of the Arts",
           "Republican",
           "Democrat"
          ],
          [
           "Cardinal Charter Academy",
           "Republican",
           "Republican"
          ],
          [
           "Envision Science Academy",
           "Republican",
           "Democrat"
          ],
          [
           "Central Wake High School",
           "Republican",
           "Democrat"
          ],
          [
           "Pine Springs Preparatory Academy",
           "Republican",
           "Republican"
          ],
          [
           "Raleigh Oak Charter",
           "Republican",
           "Tie"
          ],
          [
           "Cardinal Charter Acad at Wendell Falls",
           "Republican",
           "Republican"
          ],
          [
           "Doral Academy of North Carolina",
           "Republican",
           "Tie"
          ],
          [
           "The Math and Science Academy of Apex",
           "Republican",
           "Democrat"
          ],
          [
           "Haliwa-Saponi Tribal School",
           "Democrat",
           "Democrat"
          ],
          [
           "Pocosin Innovative Charter",
           "Democrat",
           "Tie"
          ],
          [
           "Dillard Academy",
           "Tie",
           "Tie"
          ],
          [
           "Wayne Preparatory Academy",
           "Tie",
           "Tie"
          ],
          [
           "Wilson Preparatory Academy",
           "Democrat",
           "Democrat"
          ],
          [
           "Movement School Eastland",
           "Democrat",
           "Republican"
          ],
          [
           "Wake Forest Charter Academy",
           "Republican",
           "Democrat"
          ],
          [
           "Iredell Charter Academy",
           "Republican",
           "Republican"
          ],
          [
           "American Leadership Academy-Coastal",
           "Republican",
           "Republican"
          ],
          [
           "Sugar Creek Charter",
           "Democrat",
           "Democrat"
          ],
          [
           "NC Leadership Charter Academy",
           "Republican",
           "Republican"
          ],
          [
           "Central Park School For Child",
           "Democrat",
           "Democrat"
          ],
          [
           "Aristotle Preparatory Academy",
           "Democrat",
           "Tie"
          ],
          [
           "Langtree Charter Academy",
           "Republican",
           "Republican"
          ],
          [
           "Gate City Charter",
           "Democrat",
           "Republican"
          ],
          [
           "KIPP Durham College Preparatory",
           "Democrat",
           "Democrat"
          ],
          [
           "KIPP Gaston College Preparatory",
           "Democrat",
           "Democrat"
          ],
          [
           "Queen's Grant Community School",
           "Democrat",
           "Republican"
          ],
          [
           "Sallie B Howard School",
           "Democrat",
           "Tie"
          ],
          [
           "Classical Charter Schools of Southport",
           "Republican",
           "Republican"
          ],
          [
           "Classical Charter Schools of Wilmington",
           "Republican",
           "Republican"
          ],
          [
           "Winterville Charter Academy",
           "Democrat",
           "Democrat"
          ],
          [
           "Forsyth Academy",
           "Republican",
           "Democrat"
          ],
          [
           "Summerfield Charter Academy",
           "Democrat",
           "Republican"
          ],
          [
           "Chatham Charter",
           "Democrat",
           "Tie"
          ],
          [
           "Revolution Academy",
           "Democrat",
           "Republican"
          ],
          [
           "Matthews Charter Academy",
           "Democrat",
           "Tie"
          ],
          [
           "Asheville PEAK Academy",
           "Tie",
           "Democrat"
          ],
          [
           "Classical Charter Schools of Whiteville",
           "Republican",
           "Republican"
          ],
          [
           "Research Triangle Charter",
           "Democrat",
           "Republican"
          ],
          [
           "Classical Charter Schools of Leland ",
           "Republican",
           "Republican"
          ],
          [
           "Bonnie Cone Classical Academy",
           "Democrat",
           "Republican"
          ],
          [
           "Evergreen Community Charter",
           "Tie",
           "Democrat"
          ],
          [
           "Carolina Charter Academy",
           "Republican",
           "Republican"
          ],
          [
           "Peak Charter Academy",
           "Republican",
           "Tie"
          ],
          [
           "Research Triangle High School",
           "Democrat",
           "Tie"
          ],
          [
           "Greensboro Academy",
           "Democrat",
           "Tie"
          ],
          [
           "Piedmont Classical High School",
           "Democrat",
           "Democrat"
          ],
          [
           "Bear Grass Charter School",
           "Tie",
           "Tie"
          ],
          [
           "Tillery Charter Academy",
           "Republican",
           "Democrat"
          ],
          [
           "Paul R. Brown Leadership Academy",
           "Tie",
           "Democrat"
          ],
          [
           "Two Rivers Community School",
           "Tie",
           "Democrat"
          ],
          [
           "American Leadership Academy - Johnston",
           "Republican",
           "Tie"
          ],
          [
           "Mountain Discovery",
           "Republican",
           "Democrat"
          ],
          [
           "Shining Rock Classical Academy",
           "Republican",
           "Tie"
          ],
          [
           "Movement Charter School",
           "Democrat",
           "Republican"
          ],
          [
           "Central Carolina Academy",
           "Democrat",
           "Tie"
          ],
          [
           "Magellan Charter",
           "Republican",
           "Tie"
          ],
          [
           "Summit Creek Academy",
           "Democrat",
           "Tie"
          ],
          [
           "RISE Southeast Raleigh Charter",
           "Republican",
           "Democrat"
          ],
          [
           "PreEminent Charter",
           "Republican",
           "Democrat"
          ]
         ],
         "hovertemplate": "x=%{x}<br>y=%{y}<br>SchoolName=%{customdata[0]}<br>DistrictPoliticalAffiliation=%{customdata[1]}<br>CharterPoliticalAffiliation=%{customdata[2]}<br>Cluster=%{marker.color}<extra></extra>",
         "legendgroup": "",
         "marker": {
          "color": [
           1,
           1,
           1,
           0,
           1,
           2,
           2,
           1,
           2,
           1,
           1,
           0,
           2,
           1,
           2,
           2,
           1,
           2,
           1,
           0,
           1,
           1,
           1,
           1,
           2,
           1,
           1,
           2,
           1,
           1,
           1,
           0,
           1,
           2,
           2,
           2,
           2,
           0,
           2,
           2,
           2,
           1,
           1,
           1,
           1,
           1,
           0,
           1,
           1,
           2,
           1,
           1,
           1,
           1,
           1,
           2,
           0,
           2,
           2,
           2,
           1,
           1,
           0,
           2,
           2,
           1,
           2,
           2,
           1,
           2,
           1,
           1,
           2,
           0,
           1,
           0,
           2,
           0,
           1,
           2,
           1,
           1,
           1,
           2,
           2,
           1,
           1,
           1,
           0,
           1,
           1,
           1,
           0,
           1,
           1,
           2,
           2,
           1,
           2,
           0,
           1,
           1,
           2,
           1,
           1,
           2,
           2,
           2,
           1,
           1,
           2,
           2,
           2,
           1,
           2,
           1,
           1,
           2,
           0,
           1,
           1,
           2,
           1,
           1,
           2,
           1,
           1,
           1,
           1,
           1,
           1,
           2,
           1,
           1,
           2,
           2,
           2,
           1,
           1,
           1,
           0,
           2,
           1,
           1,
           1,
           2,
           1,
           1,
           2,
           1,
           1,
           1,
           1,
           1,
           1,
           1,
           1,
           2,
           1,
           2,
           2,
           0,
           0,
           2,
           2,
           2,
           2,
           2,
           0,
           2,
           2,
           0,
           0,
           2,
           2,
           2,
           0,
           2,
           0,
           0,
           2,
           2,
           2,
           2,
           2,
           2,
           2,
           0,
           0,
           2,
           2,
           0,
           2,
           0,
           2,
           2,
           2,
           2,
           0,
           2,
           0,
           0,
           0,
           2,
           2,
           0
          ],
          "coloraxis": "coloraxis",
          "symbol": "circle"
         },
         "mode": "markers",
         "name": "",
         "orientation": "v",
         "showlegend": false,
         "type": "scatter",
         "x": [
          5.185395240783691,
          0.30248600244522095,
          -2.5386714935302734,
          5.598446369171143,
          5.100043773651123,
          12.667340278625488,
          -3.788646936416626,
          -7.583162307739258,
          5.447610855102539,
          -1.5433070659637451,
          -6.966397762298584,
          15.112930297851562,
          -10.964253425598145,
          -4.899559020996094,
          0.5044665336608887,
          -9.977591514587402,
          6.384897232055664,
          -10.331132888793945,
          -10.716755867004395,
          -9.291176795959473,
          0.37794798612594604,
          -8.554887771606445,
          -3.2431929111480713,
          -3.122490406036377,
          9.530970573425293,
          -0.45769786834716797,
          -1.8960554599761963,
          5.545358657836914,
          -6.016045570373535,
          -7.422652244567871,
          4.097524166107178,
          18.139795303344727,
          13.2086763381958,
          -5.506058216094971,
          7.73588228225708,
          -8.950661659240723,
          2.03495192527771,
          7.56521463394165,
          8.76382064819336,
          3.5754013061523438,
          19.05463409423828,
          -8.626185417175293,
          -3.5761098861694336,
          -0.3846572935581207,
          -1.0212769508361816,
          -3.913386106491089,
          15.648573875427246,
          7.073927879333496,
          1.3424016237258911,
          7.423115253448486,
          5.238654136657715,
          -6.627482891082764,
          -16.53362464904785,
          -16.543384552001953,
          -16.937923431396484,
          -0.1440708190202713,
          13.51930046081543,
          -13.832073211669922,
          -12.993318557739258,
          13.202657699584961,
          6.926980972290039,
          6.929290771484375,
          17.42572784423828,
          -9.54759407043457,
          -3.186218500137329,
          16.992454528808594,
          0.8348878622055054,
          12.682861328125,
          0.4841850996017456,
          -4.496460437774658,
          -0.6270708441734314,
          3.534815788269043,
          10.150503158569336,
          8.764548301696777,
          -1.4892288446426392,
          7.3242011070251465,
          -3.3825578689575195,
          7.650242328643799,
          3.9903650283813477,
          0.8458601832389832,
          -4.889484405517578,
          -2.709322452545166,
          3.1505229473114014,
          -0.4053545892238617,
          -12.177746772766113,
          -3.7021994590759277,
          -22.928102493286133,
          -4.459341526031494,
          6.841818332672119,
          0.18598687648773193,
          -22.452686309814453,
          -3.0822339057922363,
          0.9671185612678528,
          1.004220724105835,
          -8.985925674438477,
          -9.85688591003418,
          -3.7932369709014893,
          3.7674496173858643,
          -1.9069561958312988,
          1.3744661808013916,
          2.0101494789123535,
          -0.7682643532752991,
          -10.169875144958496,
          -5.712210178375244,
          -1.1528600454330444,
          -0.09229321032762527,
          10.715270042419434,
          -1.9212514162063599,
          -7.5085601806640625,
          0.6196298003196716,
          -9.118550300598145,
          -6.6525444984436035,
          -10.646077156066895,
          -3.602452039718628,
          2.5582315921783447,
          -5.826089859008789,
          -13.882649421691895,
          4.0272321701049805,
          12.398275375366211,
          5.6271185874938965,
          -2.692944288253784,
          -14.814794540405273,
          -13.698663711547852,
          -2.439521074295044,
          14.399760246276855,
          -5.246265411376953,
          -5.8348846435546875,
          -8.462892532348633,
          -13.043869972229004,
          -2.5663414001464844,
          2.092158794403076,
          -5.114712238311768,
          -6.431992053985596,
          0.9384776949882507,
          8.755145072937012,
          -11.049617767333984,
          -3.886256217956543,
          -3.91414475440979,
          7.231179714202881,
          -1.4872502088546753,
          4.635770320892334,
          0.8140530586242676,
          -7.728745460510254,
          4.474182605743408,
          -6.738786697387695,
          -0.005156306549906731,
          -4.403324127197266,
          -0.9229187369346619,
          -1.442550539970398,
          -22.61920166015625,
          -8.691338539123535,
          -6.04100227355957,
          -0.9225083589553833,
          -2.932579755783081,
          -5.84312105178833,
          6.986333847045898,
          6.193902492523193,
          8.473433494567871,
          -3.667940855026245,
          -2.5462286472320557,
          11.694911003112793,
          11.12620735168457,
          8.296481132507324,
          10.084132194519043,
          3.6034371852874756,
          10.977036476135254,
          -13.931988716125488,
          -2.6915199756622314,
          9.37769603729248,
          -3.9305882453918457,
          2.053048610687256,
          2.0574989318847656,
          16.60030746459961,
          -10.81594467163086,
          -21.191349029541016,
          -20.675460815429688,
          11.606203079223633,
          -12.710968971252441,
          11.948286056518555,
          13.850757598876953,
          -8.894964218139648,
          -2.651463747024536,
          -0.42911311984062195,
          -20.758785247802734,
          4.450098514556885,
          -20.24451446533203,
          -11.171723365783691,
          16.965599060058594,
          11.77291488647461,
          -13.199413299560547,
          2.768592357635498,
          13.04495620727539,
          -11.228734970092773,
          11.85404109954834,
          -10.384978294372559,
          11.075682640075684,
          4.578557014465332,
          -14.259255409240723,
          15.773386001586914,
          -7.256112575531006,
          12.239984512329102,
          12.486781120300293,
          13.626473426818848,
          -17.620115280151367,
          2.415466785430908,
          16.208248138427734
         ],
         "xaxis": "x",
         "y": [
          -2.543095588684082,
          4.6761040687561035,
          7.302674293518066,
          -9.813477516174316,
          1.1917442083358765,
          4.82012939453125,
          22.23850440979004,
          14.358668327331543,
          -0.8048939108848572,
          6.091976165771484,
          -4.0304036140441895,
          -2.9480600357055664,
          -4.733179092407227,
          7.801994800567627,
          17.50186538696289,
          3.868873357772827,
          11.585319519042969,
          -1.248660683631897,
          1.9357291460037231,
          8.2302827835083,
          6.283774375915527,
          2.5263099670410156,
          11.070067405700684,
          4.0780134201049805,
          -9.059001922607422,
          2.943566083908081,
          8.832352638244629,
          -17.204147338867188,
          -5.155787467956543,
          9.951042175292969,
          15.745302200317383,
          -10.013612747192383,
          6.11903715133667,
          -0.9520622491836548,
          12.37562370300293,
          -10.328256607055664,
          7.590305328369141,
          -11.70169734954834,
          -9.469173431396484,
          0.8332396745681763,
          -10.286022186279297,
          8.995558738708496,
          6.076480865478516,
          13.939943313598633,
          8.069154739379883,
          9.385549545288086,
          -1.2459602355957031,
          -7.566522598266602,
          3.0285305976867676,
          0.06938967853784561,
          4.661155700683594,
          2.2250423431396484,
          9.571471214294434,
          9.152124404907227,
          9.52578353881836,
          -11.107673645019531,
          -16.68329429626465,
          0.35669898986816406,
          -5.864176273345947,
          -9.632362365722656,
          -9.610468864440918,
          -9.618058204650879,
          -8.757018089294434,
          14.70273208618164,
          -8.27544116973877,
          -1.5626592636108398,
          18.495576858520508,
          6.056746006011963,
          8.788871765136719,
          -18.961498260498047,
          12.25014591217041,
          -1.3491963148117065,
          14.207924842834473,
          -19.023279190063477,
          6.8438944816589355,
          -17.84973907470703,
          -19.01199722290039,
          -18.785367965698242,
          -1.2787436246871948,
          -0.21213169395923615,
          5.530987739562988,
          0.0005762486252933741,
          11.187700271606445,
          -4.186306953430176,
          2.519075632095337,
          8.235692977905273,
          4.867099761962891,
          14.071982383728027,
          -17.423458099365234,
          0.49325811862945557,
          4.750779628753662,
          1.5987505912780762,
          -12.324617385864258,
          8.099586486816406,
          1.8292231559753418,
          -6.668114185333252,
          22.22572135925293,
          6.742133617401123,
          -16.389101028442383,
          -13.142977714538574,
          5.4699931144714355,
          12.82890510559082,
          16.165664672851562,
          9.114339828491211,
          10.322129249572754,
          -16.293617248535156,
          -11.61945629119873,
          -18.998762130737305,
          5.7138671875,
          10.557393074035645,
          10.205079078674316,
          11.993956565856934,
          13.739184379577637,
          17.063352584838867,
          -2.5824639797210693,
          0.2677105665206909,
          20.669212341308594,
          -7.737558841705322,
          -14.7514066696167,
          2.190065622329712,
          -1.0882339477539062,
          1.2500561475753784,
          20.699079513549805,
          5.36102294921875,
          6.808188438415527,
          -3.4312572479248047,
          5.846879005432129,
          -5.086969375610352,
          20.802940368652344,
          12.899784088134766,
          13.59481143951416,
          -10.456700325012207,
          -4.767440319061279,
          4.961796283721924,
          5.252439022064209,
          -2.159266710281372,
          17.833402633666992,
          11.47341251373291,
          3.1107752323150635,
          4.819802761077881,
          -8.857637405395508,
          -4.633625030517578,
          3.577362537384033,
          16.264022827148438,
          8.327524185180664,
          -11.229338645935059,
          8.52237319946289,
          2.196242570877075,
          -3.0025320053100586,
          5.197495460510254,
          0.7833669185638428,
          11.164111137390137,
          2.2635257244110107,
          -1.8000948429107666,
          4.757141590118408,
          7.8338398933410645,
          6.6311235427856445,
          0.07623487710952759,
          2.02095365524292,
          -18.900001525878906,
          -3.8464579582214355,
          -14.895846366882324,
          -13.149447441101074,
          9.505005836486816,
          3.5661375522613525,
          14.175325393676758,
          -2.1483888626098633,
          -15.975067138671875,
          -16.16621971130371,
          -7.730014324188232,
          -21.768253326416016,
          -21.7978458404541,
          -13.875850677490234,
          9.594310760498047,
          -5.1509504318237305,
          -4.71789026260376,
          -15.166991233825684,
          -3.4072492122650146,
          -16.586406707763672,
          -12.611705780029297,
          -8.435025215148926,
          -6.511843204498291,
          -5.723809719085693,
          -5.6699676513671875,
          -11.218852043151855,
          -5.236636638641357,
          -6.616858005523682,
          -9.281242370605469,
          -13.236710548400879,
          -0.42668190598487854,
          -10.842655181884766,
          -10.272612571716309,
          -8.50536823272705,
          -6.039425373077393,
          -6.5332441329956055,
          14.883397102355957,
          9.217846870422363,
          6.635130882263184,
          -2.1929445266723633,
          -7.118287563323975,
          -4.189535140991211,
          -12.504964828491211,
          -3.887127637863159,
          8.46453857421875,
          9.181986808776855,
          -13.69959545135498
         ],
         "yaxis": "y"
        }
       ],
       "layout": {
        "coloraxis": {
         "colorbar": {
          "title": {
           "text": "Cluster"
          }
         },
         "colorscale": [
          [
           0,
           "#0d0887"
          ],
          [
           0.1111111111111111,
           "#46039f"
          ],
          [
           0.2222222222222222,
           "#7201a8"
          ],
          [
           0.3333333333333333,
           "#9c179e"
          ],
          [
           0.4444444444444444,
           "#bd3786"
          ],
          [
           0.5555555555555556,
           "#d8576b"
          ],
          [
           0.6666666666666666,
           "#ed7953"
          ],
          [
           0.7777777777777778,
           "#fb9f3a"
          ],
          [
           0.8888888888888888,
           "#fdca26"
          ],
          [
           1,
           "#f0f921"
          ]
         ]
        },
        "legend": {
         "tracegroupgap": 0
        },
        "margin": {
         "t": 60
        },
        "template": {
         "data": {
          "bar": [
           {
            "error_x": {
             "color": "#2a3f5f"
            },
            "error_y": {
             "color": "#2a3f5f"
            },
            "marker": {
             "line": {
              "color": "#E5ECF6",
              "width": 0.5
             },
             "pattern": {
              "fillmode": "overlay",
              "size": 10,
              "solidity": 0.2
             }
            },
            "type": "bar"
           }
          ],
          "barpolar": [
           {
            "marker": {
             "line": {
              "color": "#E5ECF6",
              "width": 0.5
             },
             "pattern": {
              "fillmode": "overlay",
              "size": 10,
              "solidity": 0.2
             }
            },
            "type": "barpolar"
           }
          ],
          "carpet": [
           {
            "aaxis": {
             "endlinecolor": "#2a3f5f",
             "gridcolor": "white",
             "linecolor": "white",
             "minorgridcolor": "white",
             "startlinecolor": "#2a3f5f"
            },
            "baxis": {
             "endlinecolor": "#2a3f5f",
             "gridcolor": "white",
             "linecolor": "white",
             "minorgridcolor": "white",
             "startlinecolor": "#2a3f5f"
            },
            "type": "carpet"
           }
          ],
          "choropleth": [
           {
            "colorbar": {
             "outlinewidth": 0,
             "ticks": ""
            },
            "type": "choropleth"
           }
          ],
          "contour": [
           {
            "colorbar": {
             "outlinewidth": 0,
             "ticks": ""
            },
            "colorscale": [
             [
              0,
              "#0d0887"
             ],
             [
              0.1111111111111111,
              "#46039f"
             ],
             [
              0.2222222222222222,
              "#7201a8"
             ],
             [
              0.3333333333333333,
              "#9c179e"
             ],
             [
              0.4444444444444444,
              "#bd3786"
             ],
             [
              0.5555555555555556,
              "#d8576b"
             ],
             [
              0.6666666666666666,
              "#ed7953"
             ],
             [
              0.7777777777777778,
              "#fb9f3a"
             ],
             [
              0.8888888888888888,
              "#fdca26"
             ],
             [
              1,
              "#f0f921"
             ]
            ],
            "type": "contour"
           }
          ],
          "contourcarpet": [
           {
            "colorbar": {
             "outlinewidth": 0,
             "ticks": ""
            },
            "type": "contourcarpet"
           }
          ],
          "heatmap": [
           {
            "colorbar": {
             "outlinewidth": 0,
             "ticks": ""
            },
            "colorscale": [
             [
              0,
              "#0d0887"
             ],
             [
              0.1111111111111111,
              "#46039f"
             ],
             [
              0.2222222222222222,
              "#7201a8"
             ],
             [
              0.3333333333333333,
              "#9c179e"
             ],
             [
              0.4444444444444444,
              "#bd3786"
             ],
             [
              0.5555555555555556,
              "#d8576b"
             ],
             [
              0.6666666666666666,
              "#ed7953"
             ],
             [
              0.7777777777777778,
              "#fb9f3a"
             ],
             [
              0.8888888888888888,
              "#fdca26"
             ],
             [
              1,
              "#f0f921"
             ]
            ],
            "type": "heatmap"
           }
          ],
          "heatmapgl": [
           {
            "colorbar": {
             "outlinewidth": 0,
             "ticks": ""
            },
            "colorscale": [
             [
              0,
              "#0d0887"
             ],
             [
              0.1111111111111111,
              "#46039f"
             ],
             [
              0.2222222222222222,
              "#7201a8"
             ],
             [
              0.3333333333333333,
              "#9c179e"
             ],
             [
              0.4444444444444444,
              "#bd3786"
             ],
             [
              0.5555555555555556,
              "#d8576b"
             ],
             [
              0.6666666666666666,
              "#ed7953"
             ],
             [
              0.7777777777777778,
              "#fb9f3a"
             ],
             [
              0.8888888888888888,
              "#fdca26"
             ],
             [
              1,
              "#f0f921"
             ]
            ],
            "type": "heatmapgl"
           }
          ],
          "histogram": [
           {
            "marker": {
             "pattern": {
              "fillmode": "overlay",
              "size": 10,
              "solidity": 0.2
             }
            },
            "type": "histogram"
           }
          ],
          "histogram2d": [
           {
            "colorbar": {
             "outlinewidth": 0,
             "ticks": ""
            },
            "colorscale": [
             [
              0,
              "#0d0887"
             ],
             [
              0.1111111111111111,
              "#46039f"
             ],
             [
              0.2222222222222222,
              "#7201a8"
             ],
             [
              0.3333333333333333,
              "#9c179e"
             ],
             [
              0.4444444444444444,
              "#bd3786"
             ],
             [
              0.5555555555555556,
              "#d8576b"
             ],
             [
              0.6666666666666666,
              "#ed7953"
             ],
             [
              0.7777777777777778,
              "#fb9f3a"
             ],
             [
              0.8888888888888888,
              "#fdca26"
             ],
             [
              1,
              "#f0f921"
             ]
            ],
            "type": "histogram2d"
           }
          ],
          "histogram2dcontour": [
           {
            "colorbar": {
             "outlinewidth": 0,
             "ticks": ""
            },
            "colorscale": [
             [
              0,
              "#0d0887"
             ],
             [
              0.1111111111111111,
              "#46039f"
             ],
             [
              0.2222222222222222,
              "#7201a8"
             ],
             [
              0.3333333333333333,
              "#9c179e"
             ],
             [
              0.4444444444444444,
              "#bd3786"
             ],
             [
              0.5555555555555556,
              "#d8576b"
             ],
             [
              0.6666666666666666,
              "#ed7953"
             ],
             [
              0.7777777777777778,
              "#fb9f3a"
             ],
             [
              0.8888888888888888,
              "#fdca26"
             ],
             [
              1,
              "#f0f921"
             ]
            ],
            "type": "histogram2dcontour"
           }
          ],
          "mesh3d": [
           {
            "colorbar": {
             "outlinewidth": 0,
             "ticks": ""
            },
            "type": "mesh3d"
           }
          ],
          "parcoords": [
           {
            "line": {
             "colorbar": {
              "outlinewidth": 0,
              "ticks": ""
             }
            },
            "type": "parcoords"
           }
          ],
          "pie": [
           {
            "automargin": true,
            "type": "pie"
           }
          ],
          "scatter": [
           {
            "fillpattern": {
             "fillmode": "overlay",
             "size": 10,
             "solidity": 0.2
            },
            "type": "scatter"
           }
          ],
          "scatter3d": [
           {
            "line": {
             "colorbar": {
              "outlinewidth": 0,
              "ticks": ""
             }
            },
            "marker": {
             "colorbar": {
              "outlinewidth": 0,
              "ticks": ""
             }
            },
            "type": "scatter3d"
           }
          ],
          "scattercarpet": [
           {
            "marker": {
             "colorbar": {
              "outlinewidth": 0,
              "ticks": ""
             }
            },
            "type": "scattercarpet"
           }
          ],
          "scattergeo": [
           {
            "marker": {
             "colorbar": {
              "outlinewidth": 0,
              "ticks": ""
             }
            },
            "type": "scattergeo"
           }
          ],
          "scattergl": [
           {
            "marker": {
             "colorbar": {
              "outlinewidth": 0,
              "ticks": ""
             }
            },
            "type": "scattergl"
           }
          ],
          "scattermapbox": [
           {
            "marker": {
             "colorbar": {
              "outlinewidth": 0,
              "ticks": ""
             }
            },
            "type": "scattermapbox"
           }
          ],
          "scatterpolar": [
           {
            "marker": {
             "colorbar": {
              "outlinewidth": 0,
              "ticks": ""
             }
            },
            "type": "scatterpolar"
           }
          ],
          "scatterpolargl": [
           {
            "marker": {
             "colorbar": {
              "outlinewidth": 0,
              "ticks": ""
             }
            },
            "type": "scatterpolargl"
           }
          ],
          "scatterternary": [
           {
            "marker": {
             "colorbar": {
              "outlinewidth": 0,
              "ticks": ""
             }
            },
            "type": "scatterternary"
           }
          ],
          "surface": [
           {
            "colorbar": {
             "outlinewidth": 0,
             "ticks": ""
            },
            "colorscale": [
             [
              0,
              "#0d0887"
             ],
             [
              0.1111111111111111,
              "#46039f"
             ],
             [
              0.2222222222222222,
              "#7201a8"
             ],
             [
              0.3333333333333333,
              "#9c179e"
             ],
             [
              0.4444444444444444,
              "#bd3786"
             ],
             [
              0.5555555555555556,
              "#d8576b"
             ],
             [
              0.6666666666666666,
              "#ed7953"
             ],
             [
              0.7777777777777778,
              "#fb9f3a"
             ],
             [
              0.8888888888888888,
              "#fdca26"
             ],
             [
              1,
              "#f0f921"
             ]
            ],
            "type": "surface"
           }
          ],
          "table": [
           {
            "cells": {
             "fill": {
              "color": "#EBF0F8"
             },
             "line": {
              "color": "white"
             }
            },
            "header": {
             "fill": {
              "color": "#C8D4E3"
             },
             "line": {
              "color": "white"
             }
            },
            "type": "table"
           }
          ]
         },
         "layout": {
          "annotationdefaults": {
           "arrowcolor": "#2a3f5f",
           "arrowhead": 0,
           "arrowwidth": 1
          },
          "autotypenumbers": "strict",
          "coloraxis": {
           "colorbar": {
            "outlinewidth": 0,
            "ticks": ""
           }
          },
          "colorscale": {
           "diverging": [
            [
             0,
             "#8e0152"
            ],
            [
             0.1,
             "#c51b7d"
            ],
            [
             0.2,
             "#de77ae"
            ],
            [
             0.3,
             "#f1b6da"
            ],
            [
             0.4,
             "#fde0ef"
            ],
            [
             0.5,
             "#f7f7f7"
            ],
            [
             0.6,
             "#e6f5d0"
            ],
            [
             0.7,
             "#b8e186"
            ],
            [
             0.8,
             "#7fbc41"
            ],
            [
             0.9,
             "#4d9221"
            ],
            [
             1,
             "#276419"
            ]
           ],
           "sequential": [
            [
             0,
             "#0d0887"
            ],
            [
             0.1111111111111111,
             "#46039f"
            ],
            [
             0.2222222222222222,
             "#7201a8"
            ],
            [
             0.3333333333333333,
             "#9c179e"
            ],
            [
             0.4444444444444444,
             "#bd3786"
            ],
            [
             0.5555555555555556,
             "#d8576b"
            ],
            [
             0.6666666666666666,
             "#ed7953"
            ],
            [
             0.7777777777777778,
             "#fb9f3a"
            ],
            [
             0.8888888888888888,
             "#fdca26"
            ],
            [
             1,
             "#f0f921"
            ]
           ],
           "sequentialminus": [
            [
             0,
             "#0d0887"
            ],
            [
             0.1111111111111111,
             "#46039f"
            ],
            [
             0.2222222222222222,
             "#7201a8"
            ],
            [
             0.3333333333333333,
             "#9c179e"
            ],
            [
             0.4444444444444444,
             "#bd3786"
            ],
            [
             0.5555555555555556,
             "#d8576b"
            ],
            [
             0.6666666666666666,
             "#ed7953"
            ],
            [
             0.7777777777777778,
             "#fb9f3a"
            ],
            [
             0.8888888888888888,
             "#fdca26"
            ],
            [
             1,
             "#f0f921"
            ]
           ]
          },
          "colorway": [
           "#636efa",
           "#EF553B",
           "#00cc96",
           "#ab63fa",
           "#FFA15A",
           "#19d3f3",
           "#FF6692",
           "#B6E880",
           "#FF97FF",
           "#FECB52"
          ],
          "font": {
           "color": "#2a3f5f"
          },
          "geo": {
           "bgcolor": "white",
           "lakecolor": "white",
           "landcolor": "#E5ECF6",
           "showlakes": true,
           "showland": true,
           "subunitcolor": "white"
          },
          "hoverlabel": {
           "align": "left"
          },
          "hovermode": "closest",
          "mapbox": {
           "style": "light"
          },
          "paper_bgcolor": "white",
          "plot_bgcolor": "#E5ECF6",
          "polar": {
           "angularaxis": {
            "gridcolor": "white",
            "linecolor": "white",
            "ticks": ""
           },
           "bgcolor": "#E5ECF6",
           "radialaxis": {
            "gridcolor": "white",
            "linecolor": "white",
            "ticks": ""
           }
          },
          "scene": {
           "xaxis": {
            "backgroundcolor": "#E5ECF6",
            "gridcolor": "white",
            "gridwidth": 2,
            "linecolor": "white",
            "showbackground": true,
            "ticks": "",
            "zerolinecolor": "white"
           },
           "yaxis": {
            "backgroundcolor": "#E5ECF6",
            "gridcolor": "white",
            "gridwidth": 2,
            "linecolor": "white",
            "showbackground": true,
            "ticks": "",
            "zerolinecolor": "white"
           },
           "zaxis": {
            "backgroundcolor": "#E5ECF6",
            "gridcolor": "white",
            "gridwidth": 2,
            "linecolor": "white",
            "showbackground": true,
            "ticks": "",
            "zerolinecolor": "white"
           }
          },
          "shapedefaults": {
           "line": {
            "color": "#2a3f5f"
           }
          },
          "ternary": {
           "aaxis": {
            "gridcolor": "white",
            "linecolor": "white",
            "ticks": ""
           },
           "baxis": {
            "gridcolor": "white",
            "linecolor": "white",
            "ticks": ""
           },
           "bgcolor": "#E5ECF6",
           "caxis": {
            "gridcolor": "white",
            "linecolor": "white",
            "ticks": ""
           }
          },
          "title": {
           "x": 0.05
          },
          "xaxis": {
           "automargin": true,
           "gridcolor": "white",
           "linecolor": "white",
           "ticks": "",
           "title": {
            "standoff": 15
           },
           "zerolinecolor": "white",
           "zerolinewidth": 2
          },
          "yaxis": {
           "automargin": true,
           "gridcolor": "white",
           "linecolor": "white",
           "ticks": "",
           "title": {
            "standoff": 15
           },
           "zerolinecolor": "white",
           "zerolinewidth": 2
          }
         }
        },
        "xaxis": {
         "anchor": "y",
         "domain": [
          0,
          1
         ],
         "title": {
          "text": "x"
         }
        },
        "yaxis": {
         "anchor": "x",
         "domain": [
          0,
          1
         ],
         "title": {
          "text": "y"
         }
        }
       }
      }
     },
     "metadata": {},
     "output_type": "display_data"
    }
   ],
   "source": [
    "import plotly.express as px\n",
    "\n",
    "# Assuming you've performed TSNE and have your DataFrame ready\n",
    "df_vis = pd.DataFrame({\n",
    "    'x': x,\n",
    "    'y': y,\n",
    "    'Cluster': complete_emebed_party.Cluster,\n",
    "    'SchoolName': complete_emebed_party.schoolname,\n",
    "    'DistrictPoliticalAffiliation': complete_emebed_party.district_majority_party,\n",
    "    'CharterPoliticalAffiliation':complete_emebed_party.charter_majority_party  # Replace with your actual column\n",
    "})\n",
    "\n",
    "fig = px.scatter(df_vis, x='x', y='y', color='Cluster', hover_data=['SchoolName', 'DistrictPoliticalAffiliation','CharterPoliticalAffiliation'])\n",
    "\n",
    "fig.show()"
   ]
  },
  {
   "cell_type": "code",
   "execution_count": 18,
   "metadata": {},
   "outputs": [
    {
     "data": {
      "application/vnd.plotly.v1+json": {
       "config": {
        "plotlyServerURL": "https://plot.ly"
       },
       "data": [
        {
         "alignmentgroup": "True",
         "hovertemplate": "district_majority_party=Democrat<br>Cluster ID=%{x}<br>Number of Schools=%{y}<extra></extra>",
         "legendgroup": "Democrat",
         "marker": {
          "color": "#636efa",
          "pattern": {
           "shape": ""
          }
         },
         "name": "Democrat",
         "offsetgroup": "Democrat",
         "orientation": "v",
         "showlegend": true,
         "textposition": "auto",
         "type": "bar",
         "x": [
          0,
          1,
          2
         ],
         "xaxis": "x",
         "y": [
          18,
          37,
          39
         ],
         "yaxis": "y"
        },
        {
         "alignmentgroup": "True",
         "hovertemplate": "district_majority_party=Republican<br>Cluster ID=%{x}<br>Number of Schools=%{y}<extra></extra>",
         "legendgroup": "Republican",
         "marker": {
          "color": "#EF553B",
          "pattern": {
           "shape": ""
          }
         },
         "name": "Republican",
         "offsetgroup": "Republican",
         "orientation": "v",
         "showlegend": true,
         "textposition": "auto",
         "type": "bar",
         "x": [
          0,
          1,
          2
         ],
         "xaxis": "x",
         "y": [
          12,
          35,
          30
         ],
         "yaxis": "y"
        },
        {
         "alignmentgroup": "True",
         "hovertemplate": "district_majority_party=Tie<br>Cluster ID=%{x}<br>Number of Schools=%{y}<extra></extra>",
         "legendgroup": "Tie",
         "marker": {
          "color": "#00cc96",
          "pattern": {
           "shape": ""
          }
         },
         "name": "Tie",
         "offsetgroup": "Tie",
         "orientation": "v",
         "showlegend": true,
         "textposition": "auto",
         "type": "bar",
         "x": [
          0,
          1,
          2
         ],
         "xaxis": "x",
         "y": [
          3,
          18,
          14
         ],
         "yaxis": "y"
        }
       ],
       "layout": {
        "barmode": "group",
        "legend": {
         "title": {
          "text": "district_majority_party"
         },
         "tracegroupgap": 0
        },
        "margin": {
         "t": 60
        },
        "template": {
         "data": {
          "bar": [
           {
            "error_x": {
             "color": "#2a3f5f"
            },
            "error_y": {
             "color": "#2a3f5f"
            },
            "marker": {
             "line": {
              "color": "#E5ECF6",
              "width": 0.5
             },
             "pattern": {
              "fillmode": "overlay",
              "size": 10,
              "solidity": 0.2
             }
            },
            "type": "bar"
           }
          ],
          "barpolar": [
           {
            "marker": {
             "line": {
              "color": "#E5ECF6",
              "width": 0.5
             },
             "pattern": {
              "fillmode": "overlay",
              "size": 10,
              "solidity": 0.2
             }
            },
            "type": "barpolar"
           }
          ],
          "carpet": [
           {
            "aaxis": {
             "endlinecolor": "#2a3f5f",
             "gridcolor": "white",
             "linecolor": "white",
             "minorgridcolor": "white",
             "startlinecolor": "#2a3f5f"
            },
            "baxis": {
             "endlinecolor": "#2a3f5f",
             "gridcolor": "white",
             "linecolor": "white",
             "minorgridcolor": "white",
             "startlinecolor": "#2a3f5f"
            },
            "type": "carpet"
           }
          ],
          "choropleth": [
           {
            "colorbar": {
             "outlinewidth": 0,
             "ticks": ""
            },
            "type": "choropleth"
           }
          ],
          "contour": [
           {
            "colorbar": {
             "outlinewidth": 0,
             "ticks": ""
            },
            "colorscale": [
             [
              0,
              "#0d0887"
             ],
             [
              0.1111111111111111,
              "#46039f"
             ],
             [
              0.2222222222222222,
              "#7201a8"
             ],
             [
              0.3333333333333333,
              "#9c179e"
             ],
             [
              0.4444444444444444,
              "#bd3786"
             ],
             [
              0.5555555555555556,
              "#d8576b"
             ],
             [
              0.6666666666666666,
              "#ed7953"
             ],
             [
              0.7777777777777778,
              "#fb9f3a"
             ],
             [
              0.8888888888888888,
              "#fdca26"
             ],
             [
              1,
              "#f0f921"
             ]
            ],
            "type": "contour"
           }
          ],
          "contourcarpet": [
           {
            "colorbar": {
             "outlinewidth": 0,
             "ticks": ""
            },
            "type": "contourcarpet"
           }
          ],
          "heatmap": [
           {
            "colorbar": {
             "outlinewidth": 0,
             "ticks": ""
            },
            "colorscale": [
             [
              0,
              "#0d0887"
             ],
             [
              0.1111111111111111,
              "#46039f"
             ],
             [
              0.2222222222222222,
              "#7201a8"
             ],
             [
              0.3333333333333333,
              "#9c179e"
             ],
             [
              0.4444444444444444,
              "#bd3786"
             ],
             [
              0.5555555555555556,
              "#d8576b"
             ],
             [
              0.6666666666666666,
              "#ed7953"
             ],
             [
              0.7777777777777778,
              "#fb9f3a"
             ],
             [
              0.8888888888888888,
              "#fdca26"
             ],
             [
              1,
              "#f0f921"
             ]
            ],
            "type": "heatmap"
           }
          ],
          "heatmapgl": [
           {
            "colorbar": {
             "outlinewidth": 0,
             "ticks": ""
            },
            "colorscale": [
             [
              0,
              "#0d0887"
             ],
             [
              0.1111111111111111,
              "#46039f"
             ],
             [
              0.2222222222222222,
              "#7201a8"
             ],
             [
              0.3333333333333333,
              "#9c179e"
             ],
             [
              0.4444444444444444,
              "#bd3786"
             ],
             [
              0.5555555555555556,
              "#d8576b"
             ],
             [
              0.6666666666666666,
              "#ed7953"
             ],
             [
              0.7777777777777778,
              "#fb9f3a"
             ],
             [
              0.8888888888888888,
              "#fdca26"
             ],
             [
              1,
              "#f0f921"
             ]
            ],
            "type": "heatmapgl"
           }
          ],
          "histogram": [
           {
            "marker": {
             "pattern": {
              "fillmode": "overlay",
              "size": 10,
              "solidity": 0.2
             }
            },
            "type": "histogram"
           }
          ],
          "histogram2d": [
           {
            "colorbar": {
             "outlinewidth": 0,
             "ticks": ""
            },
            "colorscale": [
             [
              0,
              "#0d0887"
             ],
             [
              0.1111111111111111,
              "#46039f"
             ],
             [
              0.2222222222222222,
              "#7201a8"
             ],
             [
              0.3333333333333333,
              "#9c179e"
             ],
             [
              0.4444444444444444,
              "#bd3786"
             ],
             [
              0.5555555555555556,
              "#d8576b"
             ],
             [
              0.6666666666666666,
              "#ed7953"
             ],
             [
              0.7777777777777778,
              "#fb9f3a"
             ],
             [
              0.8888888888888888,
              "#fdca26"
             ],
             [
              1,
              "#f0f921"
             ]
            ],
            "type": "histogram2d"
           }
          ],
          "histogram2dcontour": [
           {
            "colorbar": {
             "outlinewidth": 0,
             "ticks": ""
            },
            "colorscale": [
             [
              0,
              "#0d0887"
             ],
             [
              0.1111111111111111,
              "#46039f"
             ],
             [
              0.2222222222222222,
              "#7201a8"
             ],
             [
              0.3333333333333333,
              "#9c179e"
             ],
             [
              0.4444444444444444,
              "#bd3786"
             ],
             [
              0.5555555555555556,
              "#d8576b"
             ],
             [
              0.6666666666666666,
              "#ed7953"
             ],
             [
              0.7777777777777778,
              "#fb9f3a"
             ],
             [
              0.8888888888888888,
              "#fdca26"
             ],
             [
              1,
              "#f0f921"
             ]
            ],
            "type": "histogram2dcontour"
           }
          ],
          "mesh3d": [
           {
            "colorbar": {
             "outlinewidth": 0,
             "ticks": ""
            },
            "type": "mesh3d"
           }
          ],
          "parcoords": [
           {
            "line": {
             "colorbar": {
              "outlinewidth": 0,
              "ticks": ""
             }
            },
            "type": "parcoords"
           }
          ],
          "pie": [
           {
            "automargin": true,
            "type": "pie"
           }
          ],
          "scatter": [
           {
            "fillpattern": {
             "fillmode": "overlay",
             "size": 10,
             "solidity": 0.2
            },
            "type": "scatter"
           }
          ],
          "scatter3d": [
           {
            "line": {
             "colorbar": {
              "outlinewidth": 0,
              "ticks": ""
             }
            },
            "marker": {
             "colorbar": {
              "outlinewidth": 0,
              "ticks": ""
             }
            },
            "type": "scatter3d"
           }
          ],
          "scattercarpet": [
           {
            "marker": {
             "colorbar": {
              "outlinewidth": 0,
              "ticks": ""
             }
            },
            "type": "scattercarpet"
           }
          ],
          "scattergeo": [
           {
            "marker": {
             "colorbar": {
              "outlinewidth": 0,
              "ticks": ""
             }
            },
            "type": "scattergeo"
           }
          ],
          "scattergl": [
           {
            "marker": {
             "colorbar": {
              "outlinewidth": 0,
              "ticks": ""
             }
            },
            "type": "scattergl"
           }
          ],
          "scattermapbox": [
           {
            "marker": {
             "colorbar": {
              "outlinewidth": 0,
              "ticks": ""
             }
            },
            "type": "scattermapbox"
           }
          ],
          "scatterpolar": [
           {
            "marker": {
             "colorbar": {
              "outlinewidth": 0,
              "ticks": ""
             }
            },
            "type": "scatterpolar"
           }
          ],
          "scatterpolargl": [
           {
            "marker": {
             "colorbar": {
              "outlinewidth": 0,
              "ticks": ""
             }
            },
            "type": "scatterpolargl"
           }
          ],
          "scatterternary": [
           {
            "marker": {
             "colorbar": {
              "outlinewidth": 0,
              "ticks": ""
             }
            },
            "type": "scatterternary"
           }
          ],
          "surface": [
           {
            "colorbar": {
             "outlinewidth": 0,
             "ticks": ""
            },
            "colorscale": [
             [
              0,
              "#0d0887"
             ],
             [
              0.1111111111111111,
              "#46039f"
             ],
             [
              0.2222222222222222,
              "#7201a8"
             ],
             [
              0.3333333333333333,
              "#9c179e"
             ],
             [
              0.4444444444444444,
              "#bd3786"
             ],
             [
              0.5555555555555556,
              "#d8576b"
             ],
             [
              0.6666666666666666,
              "#ed7953"
             ],
             [
              0.7777777777777778,
              "#fb9f3a"
             ],
             [
              0.8888888888888888,
              "#fdca26"
             ],
             [
              1,
              "#f0f921"
             ]
            ],
            "type": "surface"
           }
          ],
          "table": [
           {
            "cells": {
             "fill": {
              "color": "#EBF0F8"
             },
             "line": {
              "color": "white"
             }
            },
            "header": {
             "fill": {
              "color": "#C8D4E3"
             },
             "line": {
              "color": "white"
             }
            },
            "type": "table"
           }
          ]
         },
         "layout": {
          "annotationdefaults": {
           "arrowcolor": "#2a3f5f",
           "arrowhead": 0,
           "arrowwidth": 1
          },
          "autotypenumbers": "strict",
          "coloraxis": {
           "colorbar": {
            "outlinewidth": 0,
            "ticks": ""
           }
          },
          "colorscale": {
           "diverging": [
            [
             0,
             "#8e0152"
            ],
            [
             0.1,
             "#c51b7d"
            ],
            [
             0.2,
             "#de77ae"
            ],
            [
             0.3,
             "#f1b6da"
            ],
            [
             0.4,
             "#fde0ef"
            ],
            [
             0.5,
             "#f7f7f7"
            ],
            [
             0.6,
             "#e6f5d0"
            ],
            [
             0.7,
             "#b8e186"
            ],
            [
             0.8,
             "#7fbc41"
            ],
            [
             0.9,
             "#4d9221"
            ],
            [
             1,
             "#276419"
            ]
           ],
           "sequential": [
            [
             0,
             "#0d0887"
            ],
            [
             0.1111111111111111,
             "#46039f"
            ],
            [
             0.2222222222222222,
             "#7201a8"
            ],
            [
             0.3333333333333333,
             "#9c179e"
            ],
            [
             0.4444444444444444,
             "#bd3786"
            ],
            [
             0.5555555555555556,
             "#d8576b"
            ],
            [
             0.6666666666666666,
             "#ed7953"
            ],
            [
             0.7777777777777778,
             "#fb9f3a"
            ],
            [
             0.8888888888888888,
             "#fdca26"
            ],
            [
             1,
             "#f0f921"
            ]
           ],
           "sequentialminus": [
            [
             0,
             "#0d0887"
            ],
            [
             0.1111111111111111,
             "#46039f"
            ],
            [
             0.2222222222222222,
             "#7201a8"
            ],
            [
             0.3333333333333333,
             "#9c179e"
            ],
            [
             0.4444444444444444,
             "#bd3786"
            ],
            [
             0.5555555555555556,
             "#d8576b"
            ],
            [
             0.6666666666666666,
             "#ed7953"
            ],
            [
             0.7777777777777778,
             "#fb9f3a"
            ],
            [
             0.8888888888888888,
             "#fdca26"
            ],
            [
             1,
             "#f0f921"
            ]
           ]
          },
          "colorway": [
           "#636efa",
           "#EF553B",
           "#00cc96",
           "#ab63fa",
           "#FFA15A",
           "#19d3f3",
           "#FF6692",
           "#B6E880",
           "#FF97FF",
           "#FECB52"
          ],
          "font": {
           "color": "#2a3f5f"
          },
          "geo": {
           "bgcolor": "white",
           "lakecolor": "white",
           "landcolor": "#E5ECF6",
           "showlakes": true,
           "showland": true,
           "subunitcolor": "white"
          },
          "hoverlabel": {
           "align": "left"
          },
          "hovermode": "closest",
          "mapbox": {
           "style": "light"
          },
          "paper_bgcolor": "white",
          "plot_bgcolor": "#E5ECF6",
          "polar": {
           "angularaxis": {
            "gridcolor": "white",
            "linecolor": "white",
            "ticks": ""
           },
           "bgcolor": "#E5ECF6",
           "radialaxis": {
            "gridcolor": "white",
            "linecolor": "white",
            "ticks": ""
           }
          },
          "scene": {
           "xaxis": {
            "backgroundcolor": "#E5ECF6",
            "gridcolor": "white",
            "gridwidth": 2,
            "linecolor": "white",
            "showbackground": true,
            "ticks": "",
            "zerolinecolor": "white"
           },
           "yaxis": {
            "backgroundcolor": "#E5ECF6",
            "gridcolor": "white",
            "gridwidth": 2,
            "linecolor": "white",
            "showbackground": true,
            "ticks": "",
            "zerolinecolor": "white"
           },
           "zaxis": {
            "backgroundcolor": "#E5ECF6",
            "gridcolor": "white",
            "gridwidth": 2,
            "linecolor": "white",
            "showbackground": true,
            "ticks": "",
            "zerolinecolor": "white"
           }
          },
          "shapedefaults": {
           "line": {
            "color": "#2a3f5f"
           }
          },
          "ternary": {
           "aaxis": {
            "gridcolor": "white",
            "linecolor": "white",
            "ticks": ""
           },
           "baxis": {
            "gridcolor": "white",
            "linecolor": "white",
            "ticks": ""
           },
           "bgcolor": "#E5ECF6",
           "caxis": {
            "gridcolor": "white",
            "linecolor": "white",
            "ticks": ""
           }
          },
          "title": {
           "x": 0.05
          },
          "xaxis": {
           "automargin": true,
           "gridcolor": "white",
           "linecolor": "white",
           "ticks": "",
           "title": {
            "standoff": 15
           },
           "zerolinecolor": "white",
           "zerolinewidth": 2
          },
          "yaxis": {
           "automargin": true,
           "gridcolor": "white",
           "linecolor": "white",
           "ticks": "",
           "title": {
            "standoff": 15
           },
           "zerolinecolor": "white",
           "zerolinewidth": 2
          }
         }
        },
        "xaxis": {
         "anchor": "y",
         "domain": [
          0,
          1
         ],
         "title": {
          "text": "Cluster ID"
         }
        },
        "yaxis": {
         "anchor": "x",
         "domain": [
          0,
          1
         ],
         "title": {
          "text": "Number of Schools"
         }
        }
       }
      }
     },
     "metadata": {},
     "output_type": "display_data"
    }
   ],
   "source": [
    "# First, count the occurrences of each political affiliation within each cluster\n",
    "df_count = complete_emebed_party.groupby(['Cluster', 'district_majority_party']).size().reset_index(name='Counts')\n",
    "\n",
    "# Then, create a bar chart\n",
    "fig = px.bar(df_count, x='Cluster', y='Counts', color='district_majority_party', barmode='group', \n",
    "             labels={'Counts':'Number of Schools', 'Cluster':'Cluster ID'})\n",
    "\n",
    "fig.show()"
   ]
  },
  {
   "cell_type": "code",
   "execution_count": 19,
   "metadata": {},
   "outputs": [
    {
     "data": {
      "application/vnd.plotly.v1+json": {
       "config": {
        "plotlyServerURL": "https://plot.ly"
       },
       "data": [
        {
         "alignmentgroup": "True",
         "hovertemplate": "charter_majority_party=Democrat<br>Cluster ID=%{x}<br>Number of Schools=%{y}<extra></extra>",
         "legendgroup": "Democrat",
         "marker": {
          "color": "#636efa",
          "pattern": {
           "shape": ""
          }
         },
         "name": "Democrat",
         "offsetgroup": "Democrat",
         "orientation": "v",
         "showlegend": true,
         "textposition": "auto",
         "type": "bar",
         "x": [
          0,
          1,
          2
         ],
         "xaxis": "x",
         "y": [
          14,
          35,
          38
         ],
         "yaxis": "y"
        },
        {
         "alignmentgroup": "True",
         "hovertemplate": "charter_majority_party=Republican<br>Cluster ID=%{x}<br>Number of Schools=%{y}<extra></extra>",
         "legendgroup": "Republican",
         "marker": {
          "color": "#EF553B",
          "pattern": {
           "shape": ""
          }
         },
         "name": "Republican",
         "offsetgroup": "Republican",
         "orientation": "v",
         "showlegend": true,
         "textposition": "auto",
         "type": "bar",
         "x": [
          0,
          1,
          2
         ],
         "xaxis": "x",
         "y": [
          11,
          19,
          22
         ],
         "yaxis": "y"
        },
        {
         "alignmentgroup": "True",
         "hovertemplate": "charter_majority_party=Tie<br>Cluster ID=%{x}<br>Number of Schools=%{y}<extra></extra>",
         "legendgroup": "Tie",
         "marker": {
          "color": "#00cc96",
          "pattern": {
           "shape": ""
          }
         },
         "name": "Tie",
         "offsetgroup": "Tie",
         "orientation": "v",
         "showlegend": true,
         "textposition": "auto",
         "type": "bar",
         "x": [
          0,
          1,
          2
         ],
         "xaxis": "x",
         "y": [
          8,
          36,
          23
         ],
         "yaxis": "y"
        }
       ],
       "layout": {
        "barmode": "group",
        "legend": {
         "title": {
          "text": "charter_majority_party"
         },
         "tracegroupgap": 0
        },
        "margin": {
         "t": 60
        },
        "template": {
         "data": {
          "bar": [
           {
            "error_x": {
             "color": "#2a3f5f"
            },
            "error_y": {
             "color": "#2a3f5f"
            },
            "marker": {
             "line": {
              "color": "#E5ECF6",
              "width": 0.5
             },
             "pattern": {
              "fillmode": "overlay",
              "size": 10,
              "solidity": 0.2
             }
            },
            "type": "bar"
           }
          ],
          "barpolar": [
           {
            "marker": {
             "line": {
              "color": "#E5ECF6",
              "width": 0.5
             },
             "pattern": {
              "fillmode": "overlay",
              "size": 10,
              "solidity": 0.2
             }
            },
            "type": "barpolar"
           }
          ],
          "carpet": [
           {
            "aaxis": {
             "endlinecolor": "#2a3f5f",
             "gridcolor": "white",
             "linecolor": "white",
             "minorgridcolor": "white",
             "startlinecolor": "#2a3f5f"
            },
            "baxis": {
             "endlinecolor": "#2a3f5f",
             "gridcolor": "white",
             "linecolor": "white",
             "minorgridcolor": "white",
             "startlinecolor": "#2a3f5f"
            },
            "type": "carpet"
           }
          ],
          "choropleth": [
           {
            "colorbar": {
             "outlinewidth": 0,
             "ticks": ""
            },
            "type": "choropleth"
           }
          ],
          "contour": [
           {
            "colorbar": {
             "outlinewidth": 0,
             "ticks": ""
            },
            "colorscale": [
             [
              0,
              "#0d0887"
             ],
             [
              0.1111111111111111,
              "#46039f"
             ],
             [
              0.2222222222222222,
              "#7201a8"
             ],
             [
              0.3333333333333333,
              "#9c179e"
             ],
             [
              0.4444444444444444,
              "#bd3786"
             ],
             [
              0.5555555555555556,
              "#d8576b"
             ],
             [
              0.6666666666666666,
              "#ed7953"
             ],
             [
              0.7777777777777778,
              "#fb9f3a"
             ],
             [
              0.8888888888888888,
              "#fdca26"
             ],
             [
              1,
              "#f0f921"
             ]
            ],
            "type": "contour"
           }
          ],
          "contourcarpet": [
           {
            "colorbar": {
             "outlinewidth": 0,
             "ticks": ""
            },
            "type": "contourcarpet"
           }
          ],
          "heatmap": [
           {
            "colorbar": {
             "outlinewidth": 0,
             "ticks": ""
            },
            "colorscale": [
             [
              0,
              "#0d0887"
             ],
             [
              0.1111111111111111,
              "#46039f"
             ],
             [
              0.2222222222222222,
              "#7201a8"
             ],
             [
              0.3333333333333333,
              "#9c179e"
             ],
             [
              0.4444444444444444,
              "#bd3786"
             ],
             [
              0.5555555555555556,
              "#d8576b"
             ],
             [
              0.6666666666666666,
              "#ed7953"
             ],
             [
              0.7777777777777778,
              "#fb9f3a"
             ],
             [
              0.8888888888888888,
              "#fdca26"
             ],
             [
              1,
              "#f0f921"
             ]
            ],
            "type": "heatmap"
           }
          ],
          "heatmapgl": [
           {
            "colorbar": {
             "outlinewidth": 0,
             "ticks": ""
            },
            "colorscale": [
             [
              0,
              "#0d0887"
             ],
             [
              0.1111111111111111,
              "#46039f"
             ],
             [
              0.2222222222222222,
              "#7201a8"
             ],
             [
              0.3333333333333333,
              "#9c179e"
             ],
             [
              0.4444444444444444,
              "#bd3786"
             ],
             [
              0.5555555555555556,
              "#d8576b"
             ],
             [
              0.6666666666666666,
              "#ed7953"
             ],
             [
              0.7777777777777778,
              "#fb9f3a"
             ],
             [
              0.8888888888888888,
              "#fdca26"
             ],
             [
              1,
              "#f0f921"
             ]
            ],
            "type": "heatmapgl"
           }
          ],
          "histogram": [
           {
            "marker": {
             "pattern": {
              "fillmode": "overlay",
              "size": 10,
              "solidity": 0.2
             }
            },
            "type": "histogram"
           }
          ],
          "histogram2d": [
           {
            "colorbar": {
             "outlinewidth": 0,
             "ticks": ""
            },
            "colorscale": [
             [
              0,
              "#0d0887"
             ],
             [
              0.1111111111111111,
              "#46039f"
             ],
             [
              0.2222222222222222,
              "#7201a8"
             ],
             [
              0.3333333333333333,
              "#9c179e"
             ],
             [
              0.4444444444444444,
              "#bd3786"
             ],
             [
              0.5555555555555556,
              "#d8576b"
             ],
             [
              0.6666666666666666,
              "#ed7953"
             ],
             [
              0.7777777777777778,
              "#fb9f3a"
             ],
             [
              0.8888888888888888,
              "#fdca26"
             ],
             [
              1,
              "#f0f921"
             ]
            ],
            "type": "histogram2d"
           }
          ],
          "histogram2dcontour": [
           {
            "colorbar": {
             "outlinewidth": 0,
             "ticks": ""
            },
            "colorscale": [
             [
              0,
              "#0d0887"
             ],
             [
              0.1111111111111111,
              "#46039f"
             ],
             [
              0.2222222222222222,
              "#7201a8"
             ],
             [
              0.3333333333333333,
              "#9c179e"
             ],
             [
              0.4444444444444444,
              "#bd3786"
             ],
             [
              0.5555555555555556,
              "#d8576b"
             ],
             [
              0.6666666666666666,
              "#ed7953"
             ],
             [
              0.7777777777777778,
              "#fb9f3a"
             ],
             [
              0.8888888888888888,
              "#fdca26"
             ],
             [
              1,
              "#f0f921"
             ]
            ],
            "type": "histogram2dcontour"
           }
          ],
          "mesh3d": [
           {
            "colorbar": {
             "outlinewidth": 0,
             "ticks": ""
            },
            "type": "mesh3d"
           }
          ],
          "parcoords": [
           {
            "line": {
             "colorbar": {
              "outlinewidth": 0,
              "ticks": ""
             }
            },
            "type": "parcoords"
           }
          ],
          "pie": [
           {
            "automargin": true,
            "type": "pie"
           }
          ],
          "scatter": [
           {
            "fillpattern": {
             "fillmode": "overlay",
             "size": 10,
             "solidity": 0.2
            },
            "type": "scatter"
           }
          ],
          "scatter3d": [
           {
            "line": {
             "colorbar": {
              "outlinewidth": 0,
              "ticks": ""
             }
            },
            "marker": {
             "colorbar": {
              "outlinewidth": 0,
              "ticks": ""
             }
            },
            "type": "scatter3d"
           }
          ],
          "scattercarpet": [
           {
            "marker": {
             "colorbar": {
              "outlinewidth": 0,
              "ticks": ""
             }
            },
            "type": "scattercarpet"
           }
          ],
          "scattergeo": [
           {
            "marker": {
             "colorbar": {
              "outlinewidth": 0,
              "ticks": ""
             }
            },
            "type": "scattergeo"
           }
          ],
          "scattergl": [
           {
            "marker": {
             "colorbar": {
              "outlinewidth": 0,
              "ticks": ""
             }
            },
            "type": "scattergl"
           }
          ],
          "scattermapbox": [
           {
            "marker": {
             "colorbar": {
              "outlinewidth": 0,
              "ticks": ""
             }
            },
            "type": "scattermapbox"
           }
          ],
          "scatterpolar": [
           {
            "marker": {
             "colorbar": {
              "outlinewidth": 0,
              "ticks": ""
             }
            },
            "type": "scatterpolar"
           }
          ],
          "scatterpolargl": [
           {
            "marker": {
             "colorbar": {
              "outlinewidth": 0,
              "ticks": ""
             }
            },
            "type": "scatterpolargl"
           }
          ],
          "scatterternary": [
           {
            "marker": {
             "colorbar": {
              "outlinewidth": 0,
              "ticks": ""
             }
            },
            "type": "scatterternary"
           }
          ],
          "surface": [
           {
            "colorbar": {
             "outlinewidth": 0,
             "ticks": ""
            },
            "colorscale": [
             [
              0,
              "#0d0887"
             ],
             [
              0.1111111111111111,
              "#46039f"
             ],
             [
              0.2222222222222222,
              "#7201a8"
             ],
             [
              0.3333333333333333,
              "#9c179e"
             ],
             [
              0.4444444444444444,
              "#bd3786"
             ],
             [
              0.5555555555555556,
              "#d8576b"
             ],
             [
              0.6666666666666666,
              "#ed7953"
             ],
             [
              0.7777777777777778,
              "#fb9f3a"
             ],
             [
              0.8888888888888888,
              "#fdca26"
             ],
             [
              1,
              "#f0f921"
             ]
            ],
            "type": "surface"
           }
          ],
          "table": [
           {
            "cells": {
             "fill": {
              "color": "#EBF0F8"
             },
             "line": {
              "color": "white"
             }
            },
            "header": {
             "fill": {
              "color": "#C8D4E3"
             },
             "line": {
              "color": "white"
             }
            },
            "type": "table"
           }
          ]
         },
         "layout": {
          "annotationdefaults": {
           "arrowcolor": "#2a3f5f",
           "arrowhead": 0,
           "arrowwidth": 1
          },
          "autotypenumbers": "strict",
          "coloraxis": {
           "colorbar": {
            "outlinewidth": 0,
            "ticks": ""
           }
          },
          "colorscale": {
           "diverging": [
            [
             0,
             "#8e0152"
            ],
            [
             0.1,
             "#c51b7d"
            ],
            [
             0.2,
             "#de77ae"
            ],
            [
             0.3,
             "#f1b6da"
            ],
            [
             0.4,
             "#fde0ef"
            ],
            [
             0.5,
             "#f7f7f7"
            ],
            [
             0.6,
             "#e6f5d0"
            ],
            [
             0.7,
             "#b8e186"
            ],
            [
             0.8,
             "#7fbc41"
            ],
            [
             0.9,
             "#4d9221"
            ],
            [
             1,
             "#276419"
            ]
           ],
           "sequential": [
            [
             0,
             "#0d0887"
            ],
            [
             0.1111111111111111,
             "#46039f"
            ],
            [
             0.2222222222222222,
             "#7201a8"
            ],
            [
             0.3333333333333333,
             "#9c179e"
            ],
            [
             0.4444444444444444,
             "#bd3786"
            ],
            [
             0.5555555555555556,
             "#d8576b"
            ],
            [
             0.6666666666666666,
             "#ed7953"
            ],
            [
             0.7777777777777778,
             "#fb9f3a"
            ],
            [
             0.8888888888888888,
             "#fdca26"
            ],
            [
             1,
             "#f0f921"
            ]
           ],
           "sequentialminus": [
            [
             0,
             "#0d0887"
            ],
            [
             0.1111111111111111,
             "#46039f"
            ],
            [
             0.2222222222222222,
             "#7201a8"
            ],
            [
             0.3333333333333333,
             "#9c179e"
            ],
            [
             0.4444444444444444,
             "#bd3786"
            ],
            [
             0.5555555555555556,
             "#d8576b"
            ],
            [
             0.6666666666666666,
             "#ed7953"
            ],
            [
             0.7777777777777778,
             "#fb9f3a"
            ],
            [
             0.8888888888888888,
             "#fdca26"
            ],
            [
             1,
             "#f0f921"
            ]
           ]
          },
          "colorway": [
           "#636efa",
           "#EF553B",
           "#00cc96",
           "#ab63fa",
           "#FFA15A",
           "#19d3f3",
           "#FF6692",
           "#B6E880",
           "#FF97FF",
           "#FECB52"
          ],
          "font": {
           "color": "#2a3f5f"
          },
          "geo": {
           "bgcolor": "white",
           "lakecolor": "white",
           "landcolor": "#E5ECF6",
           "showlakes": true,
           "showland": true,
           "subunitcolor": "white"
          },
          "hoverlabel": {
           "align": "left"
          },
          "hovermode": "closest",
          "mapbox": {
           "style": "light"
          },
          "paper_bgcolor": "white",
          "plot_bgcolor": "#E5ECF6",
          "polar": {
           "angularaxis": {
            "gridcolor": "white",
            "linecolor": "white",
            "ticks": ""
           },
           "bgcolor": "#E5ECF6",
           "radialaxis": {
            "gridcolor": "white",
            "linecolor": "white",
            "ticks": ""
           }
          },
          "scene": {
           "xaxis": {
            "backgroundcolor": "#E5ECF6",
            "gridcolor": "white",
            "gridwidth": 2,
            "linecolor": "white",
            "showbackground": true,
            "ticks": "",
            "zerolinecolor": "white"
           },
           "yaxis": {
            "backgroundcolor": "#E5ECF6",
            "gridcolor": "white",
            "gridwidth": 2,
            "linecolor": "white",
            "showbackground": true,
            "ticks": "",
            "zerolinecolor": "white"
           },
           "zaxis": {
            "backgroundcolor": "#E5ECF6",
            "gridcolor": "white",
            "gridwidth": 2,
            "linecolor": "white",
            "showbackground": true,
            "ticks": "",
            "zerolinecolor": "white"
           }
          },
          "shapedefaults": {
           "line": {
            "color": "#2a3f5f"
           }
          },
          "ternary": {
           "aaxis": {
            "gridcolor": "white",
            "linecolor": "white",
            "ticks": ""
           },
           "baxis": {
            "gridcolor": "white",
            "linecolor": "white",
            "ticks": ""
           },
           "bgcolor": "#E5ECF6",
           "caxis": {
            "gridcolor": "white",
            "linecolor": "white",
            "ticks": ""
           }
          },
          "title": {
           "x": 0.05
          },
          "xaxis": {
           "automargin": true,
           "gridcolor": "white",
           "linecolor": "white",
           "ticks": "",
           "title": {
            "standoff": 15
           },
           "zerolinecolor": "white",
           "zerolinewidth": 2
          },
          "yaxis": {
           "automargin": true,
           "gridcolor": "white",
           "linecolor": "white",
           "ticks": "",
           "title": {
            "standoff": 15
           },
           "zerolinecolor": "white",
           "zerolinewidth": 2
          }
         }
        },
        "xaxis": {
         "anchor": "y",
         "domain": [
          0,
          1
         ],
         "title": {
          "text": "Cluster ID"
         }
        },
        "yaxis": {
         "anchor": "x",
         "domain": [
          0,
          1
         ],
         "title": {
          "text": "Number of Schools"
         }
        }
       }
      }
     },
     "metadata": {},
     "output_type": "display_data"
    }
   ],
   "source": [
    "# First, count the occurrences of each political affiliation within each cluster\n",
    "df_count = complete_emebed_party.groupby(['Cluster', 'charter_majority_party']).size().reset_index(name='Counts')\n",
    "\n",
    "# Then, create a bar chart\n",
    "fig = px.bar(df_count, x='Cluster', y='Counts', color='charter_majority_party', barmode='group', \n",
    "             labels={'Counts':'Number of Schools', 'Cluster':'Cluster ID'})\n",
    "\n",
    "fig.show()"
   ]
  },
  {
   "cell_type": "code",
   "execution_count": 20,
   "metadata": {},
   "outputs": [
    {
     "data": {
      "text/plain": [
       "46    Mountain Island Charter School offers a tradit...\n",
       "Name: mission_statement, dtype: object"
      ]
     },
     "execution_count": 20,
     "metadata": {},
     "output_type": "execute_result"
    }
   ],
   "source": [
    "complete_emebed_party.mission_statement[complete_emebed_party.schoolname == 'Mountain Island Charter School']"
   ]
  },
  {
   "cell_type": "code",
   "execution_count": null,
   "metadata": {},
   "outputs": [],
   "source": []
  },
  {
   "cell_type": "code",
   "execution_count": null,
   "metadata": {},
   "outputs": [],
   "source": [
    "# give me sample mission statement based on cluster\n",
    "#list_content_cluster_0=list(complete_emebed_party.mission_statement[complete_emebed_party.Cluster == 0])"
   ]
  },
  {
   "cell_type": "code",
   "execution_count": null,
   "metadata": {},
   "outputs": [],
   "source": [
    "#list_content_cluster_0"
   ]
  },
  {
   "cell_type": "code",
   "execution_count": null,
   "metadata": {},
   "outputs": [],
   "source": [
    "#list_content_cluster_1=list(complete_emebed_party.mission_statement[complete_emebed_party.Cluster == 1])"
   ]
  },
  {
   "cell_type": "code",
   "execution_count": null,
   "metadata": {},
   "outputs": [],
   "source": [
    "#list_content_cluster_1"
   ]
  },
  {
   "cell_type": "code",
   "execution_count": null,
   "metadata": {},
   "outputs": [],
   "source": [
    "#list_content_cluster_2=list(complete_emebed_party.mission_statement[complete_emebed_party.Cluster == 2])"
   ]
  },
  {
   "cell_type": "code",
   "execution_count": null,
   "metadata": {},
   "outputs": [],
   "source": [
    "#list_content_cluster_2"
   ]
  },
  {
   "cell_type": "code",
   "execution_count": null,
   "metadata": {},
   "outputs": [],
   "source": [
    "# what if we more the first 7 tokens from the mission statement in cluster 1"
   ]
  },
  {
   "cell_type": "code",
   "execution_count": null,
   "metadata": {},
   "outputs": [],
   "source": [
    "#complete_emebed_party['mission_statement_experiment']=complete_emebed_party.apply(lambda row: ' '.join(row['mission_statement'].split()[7:]) if row['Cluster'] == 1 else row['mission_statement'], axis=1)\n"
   ]
  },
  {
   "cell_type": "code",
   "execution_count": null,
   "metadata": {},
   "outputs": [],
   "source": [
    "# def get_embedding(text, model=\"text-embedding-ada-002\"):\n",
    "#    text = text.replace(\"\\n\", \" \")\n",
    "#    time.sleep(5)\n",
    "#    return openai.Embedding.create(input = [text], model=model)['data'][0]['embedding']\n",
    "\n",
    "# complete_emebed_party['ada_embedding_experiment'] = complete_emebed_party.mission_statement_experiment.apply(lambda x: get_embedding(x, model='text-embedding-ada-002'))"
   ]
  },
  {
   "cell_type": "code",
   "execution_count": null,
   "metadata": {},
   "outputs": [],
   "source": [
    "# # Create a t-SNE model and transform the data\n",
    "# #complete_emebed_party['ada_embedding'] = complete_emebed_party['ada_embedding'].apply(eval)\n",
    "# embeddings = np.stack(complete_emebed_party['ada_embedding_experiment'].values)  # convert embeddings to numpy array\n",
    "# school_names = complete_emebed_party['schoolname'].values\n",
    "# charter_pol_affiliation = complete_emebed_party['charter_majority_party'].values  # replace with actual column name\n",
    "# district_pol_affiliation = complete_emebed_party['district_majority_party'].values  # replace with actual column name\n",
    "# country_description = complete_emebed_party['countydescription'].values\n",
    "\n",
    "# # Apply t-SNE to the embeddings\n",
    "# tsne = TSNE(n_components=2, random_state=42)\n",
    "# embeddings_2d = tsne.fit_transform(embeddings)\n",
    "\n",
    "# # Convert the 2D embeddings to a DataFrame\n",
    "# df_2d = pd.DataFrame(embeddings_2d, columns=['x', 'y'])\n",
    "# df_2d['schoolname'] = school_names\n",
    "# df_2d['charter_political_affiliation'] = charter_pol_affiliation\n",
    "# df_2d['district_political_affiliation'] = district_pol_affiliation\n",
    "# df_2d['countydescription'] = country_description\n",
    "\n",
    "# #define color scheme \n",
    "# color_discrete_map = {'Democrat':'blue', 'Republican':'red', 'Tie': 'green'}"
   ]
  },
  {
   "cell_type": "code",
   "execution_count": null,
   "metadata": {},
   "outputs": [],
   "source": [
    "# fig = px.scatter(df_2d, x='x', y='y',title='Sentence Embed with Charter Political Affiliation', color='charter_political_affiliation', color_discrete_map=color_discrete_map,hover_data=['schoolname', 'district_political_affiliation', 'countydescription'])\n",
    "# fig.show()"
   ]
  },
  {
   "cell_type": "code",
   "execution_count": null,
   "metadata": {},
   "outputs": [],
   "source": [
    "# fig = px.scatter(df_2d, x='x', y='y',title='Sentence Embed with District Political Affiliation', color='district_political_affiliation',color_discrete_map=color_discrete_map, hover_data=['schoolname', 'charter_political_affiliation', 'countydescription'])\n",
    "# fig.show()"
   ]
  },
  {
   "cell_type": "code",
   "execution_count": null,
   "metadata": {},
   "outputs": [],
   "source": [
    "# import numpy as np\n",
    "# from sklearn.cluster import KMeans\n",
    "\n",
    "# matrix = np.vstack(complete_emebed_party.ada_embedding_experiment.values)\n",
    "# n_clusters = 3\n",
    "\n",
    "# kmeans = KMeans(n_clusters = n_clusters, init='k-means++', random_state=42)\n",
    "# kmeans.fit(matrix)\n",
    "# complete_emebed_party['Cluster_experiment'] = kmeans.labels_"
   ]
  },
  {
   "cell_type": "code",
   "execution_count": null,
   "metadata": {},
   "outputs": [],
   "source": [
    "# tsne = TSNE(n_components=2, perplexity=15, random_state=42, init=\"random\", learning_rate='auto')\n",
    "# vis_dims2 = tsne.fit_transform(matrix)\n",
    "\n",
    "# x = [x for x, y in vis_dims2]\n",
    "# y = [y for x, y in vis_dims2]\n",
    "\n",
    "# for category, color in enumerate([\"purple\", \"green\", \"red\", \"blue\"]):\n",
    "#     xs = np.array(x)[complete_emebed_party.Cluster == category]\n",
    "#     ys = np.array(y)[complete_emebed_party.Cluster == category]\n",
    "#     plt.scatter(xs, ys, color=color, alpha=0.3)\n",
    "\n",
    "#     avg_x = xs.mean()\n",
    "#     avg_y = ys.mean()\n",
    "\n",
    "#     plt.scatter(avg_x, avg_y, marker=\"x\", color=color, s=100)\n",
    "# plt.title(\"Clusters identified visualized in language 2d using t-SNE\")"
   ]
  },
  {
   "cell_type": "code",
   "execution_count": null,
   "metadata": {},
   "outputs": [],
   "source": [
    "# import plotly.express as px\n",
    "\n",
    "# # Assuming you've performed TSNE and have your DataFrame ready\n",
    "# df_vis = pd.DataFrame({\n",
    "#     'x': x,\n",
    "#     'y': y,\n",
    "#     'Cluster': complete_emebed_party.Cluster_experiment,\n",
    "#     'SchoolName': complete_emebed_party.schoolname,\n",
    "#     'DistrictPoliticalAffiliation': complete_emebed_party.district_majority_party,\n",
    "#     'CharterPoliticalAffiliation':complete_emebed_party.charter_majority_party  # Replace with your actual column\n",
    "# })\n",
    "\n",
    "# fig = px.scatter(df_vis, x='x', y='y', color='Cluster', hover_data=['SchoolName', 'DistrictPoliticalAffiliation','CharterPoliticalAffiliation'])\n",
    "\n",
    "# fig.show()"
   ]
  },
  {
   "cell_type": "code",
   "execution_count": null,
   "metadata": {},
   "outputs": [],
   "source": [
    "# list_content_cluster_1=list(complete_emebed_party.mission_statement_experiment[complete_emebed_party.Cluster_experiment == 1])\n",
    "# list_content_cluster_1"
   ]
  },
  {
   "cell_type": "code",
   "execution_count": null,
   "metadata": {},
   "outputs": [],
   "source": [
    "# list_content_cluster_2=list(complete_emebed_party.mission_statement_experiment[complete_emebed_party.Cluster_experiment == 2])\n",
    "# list_content_cluster_2"
   ]
  },
  {
   "cell_type": "code",
   "execution_count": null,
   "metadata": {},
   "outputs": [],
   "source": [
    "# list_content_cluster_0=list(complete_emebed_party.mission_statement_experiment[complete_emebed_party.Cluster_experiment == 0])\n",
    "# list_content_cluster_0"
   ]
  },
  {
   "cell_type": "code",
   "execution_count": null,
   "metadata": {},
   "outputs": [],
   "source": [
    "complete_emebed_party.to_csv('../processed_data/complete_with_experiment.csv' , index=False)"
   ]
  },
  {
   "cell_type": "code",
   "execution_count": null,
   "metadata": {},
   "outputs": [],
   "source": [
    "## search revelancey for mission statements"
   ]
  },
  {
   "cell_type": "code",
   "execution_count": 33,
   "metadata": {},
   "outputs": [],
   "source": [
    "from openai.embeddings_utils import get_embedding, cosine_similarity\n",
    "\n",
    "def search_reviews(df, product_description, n=3, pprint=True):\n",
    "   embedding = get_embedding(product_description, engine='text-embedding-ada-002')\n",
    "   df['similarities'] = df.ada_embedding.apply(lambda x: cosine_similarity(x, embedding))\n",
    "   res = df.sort_values('similarities', ascending=False).head(n)\n",
    "   return df['similarities']\n",
    "\n",
    "res = search_reviews(complete_emebed_party, 'empathy', n=3)"
   ]
  },
  {
   "cell_type": "code",
   "execution_count": 34,
   "metadata": {},
   "outputs": [
    {
     "data": {
      "text/plain": [
       "0      0.742250\n",
       "1      0.746548\n",
       "2      0.759960\n",
       "3      0.738892\n",
       "4      0.774138\n",
       "         ...   \n",
       "201    0.733603\n",
       "202    0.747632\n",
       "203    0.758059\n",
       "204    0.761374\n",
       "205    0.741718\n",
       "Name: similarities, Length: 206, dtype: float64"
      ]
     },
     "execution_count": 34,
     "metadata": {},
     "output_type": "execute_result"
    }
   ],
   "source": [
    "res"
   ]
  },
  {
   "cell_type": "code",
   "execution_count": null,
   "metadata": {},
   "outputs": [],
   "source": []
  }
 ],
 "metadata": {
  "kernelspec": {
   "display_name": "charter",
   "language": "python",
   "name": "python3"
  },
  "language_info": {
   "codemirror_mode": {
    "name": "ipython",
    "version": 3
   },
   "file_extension": ".py",
   "mimetype": "text/x-python",
   "name": "python",
   "nbconvert_exporter": "python",
   "pygments_lexer": "ipython3",
   "version": "3.10.10"
  },
  "orig_nbformat": 4
 },
 "nbformat": 4,
 "nbformat_minor": 2
}
