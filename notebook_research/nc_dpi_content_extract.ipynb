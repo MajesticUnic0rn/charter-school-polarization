{
 "cells": [
  {
   "cell_type": "code",
   "execution_count": null,
   "metadata": {},
   "outputs": [],
   "source": [
    "import pandas as pd \n",
    "import numpy as np \n",
    "import requests\n",
    "import json\n",
    "import time\n",
    "import os\n",
    "import re\n",
    "import requests\n",
    "from bs4 import BeautifulSoup\n",
    "from dotenv import load_dotenv\n",
    "load_dotenv()\n",
    "import Levenshtein\n",
    "from Levenshtein import ratio"
   ]
  },
  {
   "cell_type": "code",
   "execution_count": null,
   "metadata": {},
   "outputs": [],
   "source": [
    "# NCDPI approved charter schools\n",
    "\n",
    "# Make a request to the website\n",
    "url = \"https://www.dpi.nc.gov/students-families/alternative-choices/charter-schools/applications/submitted-apps\"\n",
    "response = requests.get(url)\n",
    "\n",
    "# Parse the HTML content with BeautifulSoup\n",
    "soup = BeautifulSoup(response.text, 'html.parser')\n",
    "\n",
    "# Find the table rows that have a <strong> tag\n",
    "rows = soup.find_all('td')\n",
    "strong_rows = [row for row in rows if row.find('strong')]\n",
    "\n",
    "# Collect the school name and href content for each row\n",
    "data = []\n",
    "for row in strong_rows:\n",
    "    school_name = row.find('strong').get_text(strip=True) # only approved charters are bolded thus strong tag implied\n",
    "    href_element = row.find('a')\n",
    "    href = href_element['href'] if href_element else None\n",
    "    data.append({'School Name': school_name, 'Href': href})\n",
    "\n",
    "# Print the collected data\n",
    "# for item in data:\n",
    "#     print(item)"
   ]
  },
  {
   "cell_type": "code",
   "execution_count": null,
   "metadata": {},
   "outputs": [],
   "source": [
    "# convert to dataframe\n",
    "nc_dpi_df = pd.DataFrame(data)"
   ]
  },
  {
   "cell_type": "code",
   "execution_count": null,
   "metadata": {},
   "outputs": [],
   "source": [
    "## output the file to csv \n",
    "nc_dpi_df.to_csv('nc_dpi.csv', index=False) "
   ]
  },
  {
   "cell_type": "code",
   "execution_count": null,
   "metadata": {},
   "outputs": [],
   "source": []
  }
 ],
 "metadata": {
  "kernelspec": {
   "display_name": "charter",
   "language": "python",
   "name": "python3"
  },
  "language_info": {
   "codemirror_mode": {
    "name": "ipython",
    "version": 3
   },
   "file_extension": ".py",
   "mimetype": "text/x-python",
   "name": "python",
   "nbconvert_exporter": "python",
   "pygments_lexer": "ipython3",
   "version": "3.10.10"
  },
  "orig_nbformat": 4
 },
 "nbformat": 4,
 "nbformat_minor": 2
}
